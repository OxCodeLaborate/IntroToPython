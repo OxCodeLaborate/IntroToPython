{
 "cells": [
  {
   "cell_type": "markdown",
   "metadata": {},
   "source": [
    "Last week, we had a look at string indexing, which happens in the following way:\n",
    "\n",
    "\n",
    "``` string[start:stop:step] ```\n",
    "\n",
    "Python makes assumptions if you don't give all 3 numbers:\n",
    "\n",
    "    start is assumed to be beginning\n",
    "    stop is assumed to be end\n",
    "    step is assumed t0 be 1\n",
    "    \n",
    "so "
   ]
  },
  {
   "cell_type": "code",
   "execution_count": 39,
   "metadata": {},
   "outputs": [
    {
     "data": {
      "text/plain": [
       "'Hello'"
      ]
     },
     "execution_count": 39,
     "metadata": {},
     "output_type": "execute_result"
    }
   ],
   "source": [
    "\"Hello\"[:]"
   ]
  },
  {
   "cell_type": "code",
   "execution_count": 40,
   "metadata": {},
   "outputs": [
    {
     "data": {
      "text/plain": [
       "'He'"
      ]
     },
     "execution_count": 40,
     "metadata": {},
     "output_type": "execute_result"
    }
   ],
   "source": [
    "\"Hello\"[:2]"
   ]
  },
  {
   "cell_type": "code",
   "execution_count": 42,
   "metadata": {},
   "outputs": [
    {
     "data": {
      "text/plain": [
       "'Hel'"
      ]
     },
     "execution_count": 42,
     "metadata": {},
     "output_type": "execute_result"
    }
   ],
   "source": [
    "\"Hello\"[:3]"
   ]
  },
  {
   "cell_type": "code",
   "execution_count": 43,
   "metadata": {},
   "outputs": [
    {
     "data": {
      "text/plain": [
       "'lo'"
      ]
     },
     "execution_count": 43,
     "metadata": {},
     "output_type": "execute_result"
    }
   ],
   "source": [
    "\"Hello\"[3:]"
   ]
  },
  {
   "cell_type": "markdown",
   "metadata": {},
   "source": [
    "You can also use negative indexing"
   ]
  },
  {
   "cell_type": "code",
   "execution_count": 47,
   "metadata": {},
   "outputs": [
    {
     "data": {
      "text/plain": [
       "'o'"
      ]
     },
     "execution_count": 47,
     "metadata": {},
     "output_type": "execute_result"
    }
   ],
   "source": [
    "\"Hello\"[-1:]"
   ]
  },
  {
   "cell_type": "code",
   "execution_count": 48,
   "metadata": {},
   "outputs": [
    {
     "data": {
      "text/plain": [
       "'lo'"
      ]
     },
     "execution_count": 48,
     "metadata": {},
     "output_type": "execute_result"
    }
   ],
   "source": [
    "\"Hello\"[-2:]"
   ]
  },
  {
   "cell_type": "code",
   "execution_count": 49,
   "metadata": {},
   "outputs": [
    {
     "data": {
      "text/plain": [
       "'llo'"
      ]
     },
     "execution_count": 49,
     "metadata": {},
     "output_type": "execute_result"
    }
   ],
   "source": [
    "\"Hello\"[-3:]"
   ]
  },
  {
   "cell_type": "code",
   "execution_count": 51,
   "metadata": {},
   "outputs": [
    {
     "data": {
      "text/plain": [
       "'Hlo'"
      ]
     },
     "execution_count": 51,
     "metadata": {},
     "output_type": "execute_result"
    }
   ],
   "source": [
    "\"Hello\"[::2]\n",
    "# Remember, step = 2 means every other character"
   ]
  },
  {
   "cell_type": "markdown",
   "metadata": {},
   "source": [
    "Select the all characters past the 20th"
   ]
  },
  {
   "cell_type": "code",
   "execution_count": null,
   "metadata": {},
   "outputs": [],
   "source": [
    "part1 = \"\"\"9y:YLX\\8nr-E%<r/6C/lBeautiful is better than ugly.\n",
    "Explicit is better than implicit.\n",
    "Simple is better than complex.\"\"\"\n",
    "answer1 = part1[20:]\n",
    "print(answer1)"
   ]
  },
  {
   "cell_type": "markdown",
   "metadata": {},
   "source": [
    "Select every other character from the 5th to the 20th from the last"
   ]
  },
  {
   "cell_type": "code",
   "execution_count": null,
   "metadata": {},
   "outputs": [],
   "source": [
    "part2 = \"\"\"=t(XKFHl,aPtD ,ijs! $b;ebt tnemr; ~t6hta1nu %nHe-sntKeadZ.0\n",
    "?SGpga<r8sKeR 2igsC rboe3tXt#eAre PtlhRa%nL ud,eRn]sSed.,\n",
    "/R$e6afdQa?bbiGl#iqt%yu acqoruPn+t4sn.5I1mH3bAR2\\0;+@Mbwz!\"\"\"\n",
    "answer2 = part2[your_code_here]\n",
    "print(answer2)"
   ]
  },
  {
   "cell_type": "markdown",
   "metadata": {},
   "source": [
    "From the 100th from the last to the first (so the string goes backwards)"
   ]
  },
  {
   "cell_type": "code",
   "execution_count": null,
   "metadata": {},
   "outputs": [],
   "source": [
    "part3 = \"\"\"T.decnelis ylticilpxe sselnU\n",
    ".yltnelis ssap reven dluohs srorrE\n",
    ".ytirup staeb ytilacitcarp hguohtlAcc]\\]?'Yp8vf2eu948QF//<@]:-=5zJg^!@3qy'Bcl%9|0T~Oqd'\"%6/nEmGl3;I'h2wqn)=^dKF,YQV`:646}&%Cb)ffQ(\\<7s\"\"\"\n",
    "answer3 = part3[your_code_here]\n",
    "print(answer3)\n"
   ]
  },
  {
   "cell_type": "markdown",
   "metadata": {},
   "source": [
    "Going backwards, every other character from the 100th from last to the 15th"
   ]
  },
  {
   "cell_type": "code",
   "execution_count": null,
   "metadata": {},
   "outputs": [],
   "source": [
    "part4 = \"\"\"U3J,1>,,'rr658aD!nhxctt u\"D^ ierx'au^oaY/ 3sDsXe+lRnYux 9tis+r<i^f' !t+aM Osju,ori0v8bGon hexb. {t-oEnX 6y<am5 Ky|aewm mt}a*hYt# 6h,gGumoh4tHlpA(\n",
    "!.rt?iZ ~osd1 doetu *y(a{wt 's\"u4o3i@v<b4oM-Q-- aeOnDoC ryJl<n<ol IyNlQbua#r%erfuedr)pE ydMnLa@ #-K-^efnRou ?e/b5 sd'l;uyo3hEsC oeor]e$hdTGkzZfs!}+[-X@nt6FVW>n,)4Y>k44bFs`dd 6pCx!^MDf)qRMF[/A1='$HRmU&8|]F@h~Da=aTt0#oKt_qopD\\0K>NOzoAB'=e\n",
    "\"\"\"\n",
    "answer4 = part4[your_code_here]\n",
    "print(answer4)"
   ]
  },
  {
   "cell_type": "markdown",
   "metadata": {},
   "source": [
    "Every 3rd character, from the 6th to the 100th from last"
   ]
  },
  {
   "cell_type": "code",
   "execution_count": null,
   "metadata": {},
   "outputs": [],
   "source": [
    "part5 = \"\"\"*~<K,xI<]fP. s1tfghSae,L >{ieKmbfp*Iln)ej;m{je6DnU3t_#a<TtLci.Ro<In<Z (xi-psqa L@hC$a&`r6d\"^ U0tZ#og* 0e+.xG[p&Gl_@abGiYSnYF,t2 +;iX2t)8'CNs`3  FaLk ?fbM7aR&dw` ?Li-edvvet,a32. #\n",
    "<JIr~fvx aQtVFhTeey\\ `(i4Mm}!pqpl3heQlm3<e(znVdtsOaEgt%riR3osbn.o <iC1s9_ ||e7MaJ8s8AyHL 3Wt$?owK `8eSKxKMp?xlMYas9ivxn(,-/ ;'ib=tnY i*mS-aV-ybe @;bFNeT= /Ra\\F @Ng\"_o.koT[d]k JPihMd^_epWaGG.21\n",
    "\\-N{Aa@+m,e;rsPXp}war c\"/e@vs$5 DvaKzrdNe|q e`oeXnWGe7` c!h5_otTntdkIIic=n(Gg,6 |2ghdrU}e`gajPtlF V)ioqdKIe@#a c m?-* -E? [5lrOe!-tqq'4ns/j m[dO(o?8 1cmesow`ro(em4 tHo^]fCV FNt@`hK6oJ<sTDekk!OM?HM-~  .5a6aT;cS!klNpsPh\\'V-7*+-5W5b|bV^m3M2+m:%y_0kT4%^=NP,TNC,\"qCXy?H/k#SR^qf}4/7+0~%^E]t*-J2V@F\"\"\"\n",
    "answer5 = part5[your_code_here]\n",
    "print(answer5)"
   ]
  },
  {
   "cell_type": "code",
   "execution_count": null,
   "metadata": {},
   "outputs": [],
   "source": [
    "print(*[answer1, answer2, answer3, answer4, answer5], sep = '\\n')"
   ]
  },
  {
   "cell_type": "code",
   "execution_count": null,
   "metadata": {},
   "outputs": [],
   "source": [
    "# type 'import this'\n"
   ]
  },
  {
   "cell_type": "code",
   "execution_count": null,
   "metadata": {},
   "outputs": [],
   "source": [
    "# The above is a poem about how Python style :)\n"
   ]
  }
 ],
 "metadata": {
  "kernelspec": {
   "display_name": "Python 3",
   "language": "python",
   "name": "python3"
  },
  "language_info": {
   "codemirror_mode": {
    "name": "ipython",
    "version": 3
   },
   "file_extension": ".py",
   "mimetype": "text/x-python",
   "name": "python",
   "nbconvert_exporter": "python",
   "pygments_lexer": "ipython3",
   "version": "3.6.5"
  }
 },
 "nbformat": 4,
 "nbformat_minor": 2
}
