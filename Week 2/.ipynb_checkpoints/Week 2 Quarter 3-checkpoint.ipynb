{
 "cells": [
  {
   "cell_type": "markdown",
   "metadata": {},
   "source": [
    "## Control Flow\n",
    "\n",
    "#### How do you make your program do repetitive things? (hint: you should almost never have to copy/paste code)"
   ]
  },
  {
   "cell_type": "markdown",
   "metadata": {},
   "source": [
    "Introducing: The while-loop. The syntax is as such\n",
    "\n",
    "    while (boolean statement):\n",
    "\n",
    "        body "
   ]
  },
  {
   "cell_type": "code",
   "execution_count": 2,
   "metadata": {},
   "outputs": [
    {
     "name": "stdout",
     "output_type": "stream",
     "text": [
      "0\n",
      "1\n",
      "2\n",
      "3\n",
      "4\n",
      "5\n",
      "6\n",
      "7\n",
      "8\n",
      "9\n",
      "While loop finished after 10 iterations\n"
     ]
    }
   ],
   "source": [
    "i = 0\n",
    "iterations = 10\n",
    "\n",
    "while (i < iterations):\n",
    "    print(i)\n",
    "    i += 1\n",
    "\n",
    "print(\"While loop finished after {} iterations\".format(iterations))"
   ]
  },
  {
   "cell_type": "markdown",
   "metadata": {},
   "source": [
    "Make sure your condition will at some point evaluate to False, otherwise your while-loop will run forever ...\n",
    "\n",
    "[Press the Square button above to quit]"
   ]
  },
  {
   "cell_type": "code",
   "execution_count": 6,
   "metadata": {},
   "outputs": [
    {
     "name": "stdout",
     "output_type": "stream",
     "text": [
      "1000000\n",
      "2000000\n",
      "3000000\n",
      "4000000\n",
      "5000000\n",
      "6000000\n",
      "7000000\n",
      "8000000\n",
      "9000000\n",
      "10000000\n",
      "11000000\n",
      "12000000\n",
      "13000000\n",
      "14000000\n"
     ]
    },
    {
     "ename": "KeyboardInterrupt",
     "evalue": "",
     "output_type": "error",
     "traceback": [
      "\u001b[0;31m---------------------------------------------------------------------------\u001b[0m",
      "\u001b[0;31mKeyboardInterrupt\u001b[0m                         Traceback (most recent call last)",
      "\u001b[0;32m<ipython-input-6-ccbb0b6ddd16>\u001b[0m in \u001b[0;36m<module>\u001b[0;34m()\u001b[0m\n\u001b[1;32m      2\u001b[0m \u001b[0;32mwhile\u001b[0m \u001b[0;34m(\u001b[0m\u001b[0mi\u001b[0m \u001b[0;34m>=\u001b[0m \u001b[0;36m0\u001b[0m\u001b[0;34m)\u001b[0m\u001b[0;34m:\u001b[0m\u001b[0;34m\u001b[0m\u001b[0m\n\u001b[1;32m      3\u001b[0m     \u001b[0mi\u001b[0m \u001b[0;34m+=\u001b[0m \u001b[0;36m1\u001b[0m\u001b[0;34m\u001b[0m\u001b[0m\n\u001b[0;32m----> 4\u001b[0;31m     \u001b[0;32mif\u001b[0m \u001b[0mi\u001b[0m \u001b[0;34m%\u001b[0m \u001b[0;36m1000000\u001b[0m \u001b[0;34m==\u001b[0m \u001b[0;36m0\u001b[0m\u001b[0;34m:\u001b[0m\u001b[0;34m\u001b[0m\u001b[0m\n\u001b[0m\u001b[1;32m      5\u001b[0m         \u001b[0mprint\u001b[0m\u001b[0;34m(\u001b[0m\u001b[0mi\u001b[0m\u001b[0;34m)\u001b[0m\u001b[0;34m\u001b[0m\u001b[0m\n",
      "\u001b[0;31mKeyboardInterrupt\u001b[0m: "
     ]
    }
   ],
   "source": [
    "i = 0\n",
    "while (i >= 0):\n",
    "    i += 1\n",
    "    if i % 1000000 == 0:\n",
    "        print(i)"
   ]
  },
  {
   "cell_type": "markdown",
   "metadata": {},
   "source": [
    "Simple scenario in which one would use a while loop?"
   ]
  },
  {
   "cell_type": "code",
   "execution_count": 5,
   "metadata": {},
   "outputs": [
    {
     "name": "stdout",
     "output_type": "stream",
     "text": [
      "Please enter your name: \n",
      "Please enter your name: \n",
      "Please enter your name: Monique\n"
     ]
    }
   ],
   "source": [
    "player_name = ''\n",
    "while not player_name:       # empty string evaluates to False\n",
    "    player_name = input('Please enter your name: ')"
   ]
  },
  {
   "cell_type": "markdown",
   "metadata": {},
   "source": [
    "But counting the number of times to do something is farily common, and so we have a \"for-loop\", which is really shorthand for a while-loop with a counter.\n",
    "\n",
    "the syntax is like this:\n",
    "\n",
    "\n",
    "\n",
    "    for iteration in range(0, numIterations):\n",
    "    \n",
    "        body         # This is where you do something with the variable 'iteration'\n",
    "     "
   ]
  },
  {
   "cell_type": "code",
   "execution_count": 3,
   "metadata": {},
   "outputs": [
    {
     "name": "stdout",
     "output_type": "stream",
     "text": [
      "0\n",
      "1\n",
      "2\n",
      "3\n",
      "4\n",
      "5\n",
      "6\n",
      "7\n",
      "8\n",
      "9\n"
     ]
    }
   ],
   "source": [
    "for i in range(10):\n",
    "    print(i)"
   ]
  },
  {
   "cell_type": "markdown",
   "metadata": {},
   "source": [
    "\"i\" (for 'index') is the conventional variable in a for loop. If you have a for-loop inside that for-loop, the convention would be to use variable \"j\", then \"k\" and so on. "
   ]
  },
  {
   "cell_type": "code",
   "execution_count": 6,
   "metadata": {},
   "outputs": [
    {
     "name": "stdout",
     "output_type": "stream",
     "text": [
      "It's great to have William in the class!\n",
      "It's great to have Hazem in the class!\n",
      "It's great to have Monique in the class!\n"
     ]
    }
   ],
   "source": [
    "names = [\"William\", \"Hazem\", player_name]\n",
    "\n",
    "for name in names:\n",
    "    print(\"It's great to have {} in the class!\".format(name))"
   ]
  },
  {
   "cell_type": "markdown",
   "metadata": {},
   "source": [
    "### Challenge\n",
    "\n",
    "Now you've finally learned the basics required to do some interesting things, and even write your own useful programs.\n",
    "\n",
    "Write a program that prints the numbers from 1 to 20. But for multiples of three print “Fizz” instead of the number and for the multiples of five print “Buzz”. For numbers which are multiples of both three and five print “FizzBuzz”."
   ]
  },
  {
   "cell_type": "code",
   "execution_count": null,
   "metadata": {},
   "outputs": [],
   "source": [
    "for i in range(100):\n",
    "    # Enter body here"
   ]
  },
  {
   "cell_type": "code",
   "execution_count": null,
   "metadata": {},
   "outputs": [],
   "source": []
  },
  {
   "cell_type": "code",
   "execution_count": null,
   "metadata": {},
   "outputs": [],
   "source": []
  },
  {
   "cell_type": "markdown",
   "metadata": {},
   "source": [
    "### Break and continue\n",
    "\n",
    "break and continue are keywords used to control for-loops and while-loops. With the break keyword, you can exit any loop, easy!"
   ]
  },
  {
   "cell_type": "code",
   "execution_count": 12,
   "metadata": {},
   "outputs": [
    {
     "name": "stdout",
     "output_type": "stream",
     "text": [
      "list looks like:\n",
      "[35, 3, 13, 39, 24, 1, 7, 12, 33, 23, 21, 5, 4, 34, 17, 30, 27, 19, 32, 26, 9, 37, 0, 28, 16, 25, 10, 18, 38, 11, 15, 14, 6, 29, 2, 20, 31, 8, 22, 36]\n",
      "Which number should I search for? \n",
      "17\n",
      "the index of 17 is 14.\n"
     ]
    }
   ],
   "source": [
    "# Don't worry too much about what each line of code does. \n",
    "# You should be able to see the big picture based on what you know about loops and the names of functions\n",
    "from numpy.random import shuffle\n",
    "\n",
    "x = list(range(0,40))\n",
    "shuffle(x)\n",
    "\n",
    "print(\"list looks like:\")\n",
    "print(x)\n",
    "\n",
    "flag = True\n",
    "while flag:\n",
    "    try:\n",
    "        searchFor = input('Which number should I search for? \\n')\n",
    "        searchFor = int(searchFor)\n",
    "        if (searchFor < 0) or (40 < searchFor):\n",
    "            raise ValueError\n",
    "        else:\n",
    "             flag = False\n",
    "    except ValueError:\n",
    "        print(\"Please type an integer!!\\n\")\n",
    "        \n",
    "n = len(x)\n",
    "\n",
    "for i in range(n):\n",
    "    if x[i] == searchFor:\n",
    "        break\n",
    "\n",
    "print(\"the index of {} is {}.\".format(searchFor, i))"
   ]
  },
  {
   "cell_type": "markdown",
   "metadata": {},
   "source": [
    "You could make a working program without the break statement, but the program runs an average of twice as fast with it, and in some cases the break keyword can make your code a lot easier to write"
   ]
  },
  {
   "cell_type": "markdown",
   "metadata": {},
   "source": [
    "Let's revisit the \"Fizzbuzz\" challenge. There are many ways to do fizzbuzz. Such as:"
   ]
  },
  {
   "cell_type": "code",
   "execution_count": 14,
   "metadata": {
    "scrolled": true
   },
   "outputs": [
    {
     "name": "stdout",
     "output_type": "stream",
     "text": [
      "FizzBuzz!\n",
      "1\n",
      "2\n",
      "Fizz\n",
      "4\n",
      "Buzz\n",
      "Fizz\n",
      "7\n",
      "8\n",
      "Fizz\n",
      "Buzz\n",
      "11\n",
      "Fizz\n",
      "13\n",
      "14\n",
      "FizzBuzz!\n",
      "16\n",
      "17\n",
      "Fizz\n",
      "19\n",
      "Buzz\n",
      "Fizz\n",
      "22\n",
      "23\n",
      "Fizz\n",
      "Buzz\n",
      "26\n",
      "Fizz\n",
      "28\n",
      "29\n",
      "FizzBuzz!\n",
      "31\n",
      "32\n",
      "Fizz\n",
      "34\n",
      "Buzz\n",
      "Fizz\n",
      "37\n",
      "38\n",
      "Fizz\n",
      "Buzz\n",
      "41\n",
      "Fizz\n",
      "43\n",
      "44\n",
      "FizzBuzz!\n",
      "46\n",
      "47\n",
      "Fizz\n",
      "49\n",
      "Buzz\n",
      "Fizz\n",
      "52\n",
      "53\n",
      "Fizz\n",
      "Buzz\n",
      "56\n",
      "Fizz\n",
      "58\n",
      "59\n",
      "FizzBuzz!\n",
      "61\n",
      "62\n",
      "Fizz\n",
      "64\n",
      "Buzz\n",
      "Fizz\n",
      "67\n",
      "68\n",
      "Fizz\n",
      "Buzz\n",
      "71\n",
      "Fizz\n",
      "73\n",
      "74\n",
      "FizzBuzz!\n",
      "76\n",
      "77\n",
      "Fizz\n",
      "79\n",
      "Buzz\n",
      "Fizz\n",
      "82\n",
      "83\n",
      "Fizz\n",
      "Buzz\n",
      "86\n",
      "Fizz\n",
      "88\n",
      "89\n",
      "FizzBuzz!\n",
      "91\n",
      "92\n",
      "Fizz\n",
      "94\n",
      "Buzz\n",
      "Fizz\n",
      "97\n",
      "98\n",
      "Fizz\n"
     ]
    }
   ],
   "source": [
    "for i in range(100):\n",
    "    if i % 15 == 0:\n",
    "        print(\"FizzBuzz!\")\n",
    "    elif i % 3 == 0:\n",
    "        print(\"Fizz\")\n",
    "    elif i % 5 == 0:\n",
    "        print(\"Buzz\")\n",
    "    else:\n",
    "        print(i)"
   ]
  },
  {
   "cell_type": "markdown",
   "metadata": {},
   "source": [
    "Consider if we wanted to count all the prime numbers in a range from 1 to n. A number is prime if it is only divisible by itself and 1. (such as, 2, 3, 5, etc.).\n",
    "\n",
    "If n is a large number, it might start getting time consuming. "
   ]
  },
  {
   "cell_type": "code",
   "execution_count": 21,
   "metadata": {},
   "outputs": [
    {
     "name": "stdout",
     "output_type": "stream",
     "text": [
      "Number of primes between 1 and 1000, inclusive, is 168 \n"
     ]
    }
   ],
   "source": [
    "primesUpTo = 1000\n",
    "\n",
    "numPrimes = 0\n",
    "for k in range(1, primesUpTo + 1):\n",
    "    # Check the amount of numbers that fit into 'k'\n",
    "    numDivisors = 0\n",
    "    for i in range(1, k+1):\n",
    "        if k % i == 0:\n",
    "            numDivisors += 1\n",
    "    if numDivisors == 2:\n",
    "        numPrimes += 1\n",
    "print(\"Number of primes between 1 and {}, inclusive, is {} \".format(primesUpTo, numPrimes))"
   ]
  },
  {
   "cell_type": "markdown",
   "metadata": {},
   "source": [
    "We can write the same program to run a lot faster with the 'break' keyword. How would you do this exactly?"
   ]
  },
  {
   "cell_type": "code",
   "execution_count": null,
   "metadata": {},
   "outputs": [],
   "source": []
  },
  {
   "cell_type": "code",
   "execution_count": null,
   "metadata": {},
   "outputs": [],
   "source": []
  },
  {
   "cell_type": "code",
   "execution_count": null,
   "metadata": {},
   "outputs": [],
   "source": []
  },
  {
   "cell_type": "markdown",
   "metadata": {},
   "source": [
    "If you're still unsure, I've written the code below:"
   ]
  },
  {
   "cell_type": "code",
   "execution_count": 24,
   "metadata": {},
   "outputs": [
    {
     "name": "stdout",
     "output_type": "stream",
     "text": [
      "Number of primes between 1 and 1000, inclusive, is 169 \n"
     ]
    }
   ],
   "source": [
    "primesUpTo = 1000\n",
    "\n",
    "numPrimes = primesUpTo\n",
    "for k in range(2, primesUpTo + 1):\n",
    "    for i in range(2, k):\n",
    "        if k % i == 0:\n",
    "            numPrimes -= 1\n",
    "            break\n",
    "print(\"Number of primes between 1 and {}, inclusive, is {} \".format(primesUpTo, numPrimes))"
   ]
  },
  {
   "cell_type": "code",
   "execution_count": null,
   "metadata": {},
   "outputs": [],
   "source": []
  }
 ],
 "metadata": {
  "kernelspec": {
   "display_name": "Python 3",
   "language": "python",
   "name": "python3"
  },
  "language_info": {
   "codemirror_mode": {
    "name": "ipython",
    "version": 3
   },
   "file_extension": ".py",
   "mimetype": "text/x-python",
   "name": "python",
   "nbconvert_exporter": "python",
   "pygments_lexer": "ipython3",
   "version": "3.6.5"
  }
 },
 "nbformat": 4,
 "nbformat_minor": 2
}
