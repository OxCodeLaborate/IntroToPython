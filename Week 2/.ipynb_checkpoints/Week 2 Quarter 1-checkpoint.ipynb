{
 "cells": [
  {
   "cell_type": "code",
<<<<<<< HEAD
   "execution_count": 0,
   "metadata": {
    "colab": {},
    "colab_type": "code",
    "collapsed": true,
=======
   "execution_count": null,
   "metadata": {
    "colab": {},
    "colab_type": "code",
>>>>>>> aa71ef9da4bea10ed948c12f063a94007ff62c77
    "id": "mhc1QmDII9u5"
   },
   "outputs": [],
   "source": []
  },
  {
   "cell_type": "markdown",
   "metadata": {
    "colab_type": "text",
    "id": "y0Liml1RRKay"
   },
   "source": [
    "## What Are Collections?\n",
    "\n",
    "Collections are groups of other objects, such as ints or strings. They help you keep your code and/or data organized."
   ]
  },
  {
   "cell_type": "markdown",
   "metadata": {
    "colab_type": "text",
    "id": "U6upe3ixUOxr"
   },
   "source": [
    "First example we'll use is called a list."
   ]
  },
  {
   "cell_type": "code",
<<<<<<< HEAD
   "execution_count": 0,
   "metadata": {
    "colab": {},
    "colab_type": "code",
    "collapsed": true,
=======
   "execution_count": 1,
   "metadata": {
    "colab": {},
    "colab_type": "code",
>>>>>>> aa71ef9da4bea10ed948c12f063a94007ff62c77
    "id": "2r60iwBURLb1"
   },
   "outputs": [],
   "source": [
    "alphabet = ['a','b','c','d','e']"
   ]
  },
  {
   "cell_type": "code",
<<<<<<< HEAD
   "execution_count": 0,
   "metadata": {
    "colab": {},
    "colab_type": "code",
    "collapsed": true,
=======
   "execution_count": 2,
   "metadata": {
    "colab": {},
    "colab_type": "code",
>>>>>>> aa71ef9da4bea10ed948c12f063a94007ff62c77
    "id": "bxp7CZYJUZoK"
   },
   "outputs": [],
   "source": [
    "# Each member of the list, is called an \"element\""
   ]
  },
  {
   "cell_type": "markdown",
   "metadata": {
    "colab_type": "text",
    "id": "WROtZ59-UboT"
   },
   "source": [
    "Just like strings, you can index them! (And of course, 0 is the first element)"
   ]
  },
  {
   "cell_type": "code",
<<<<<<< HEAD
   "execution_count": 10,
=======
   "execution_count": 3,
>>>>>>> aa71ef9da4bea10ed948c12f063a94007ff62c77
   "metadata": {
    "colab": {
     "base_uri": "https://localhost:8080/",
     "height": 34
    },
    "colab_type": "code",
<<<<<<< HEAD
    "collapsed": false,
=======
>>>>>>> aa71ef9da4bea10ed948c12f063a94007ff62c77
    "executionInfo": {
     "elapsed": 503,
     "status": "ok",
     "timestamp": 1534551169777,
     "user": {
      "displayName": "William Hartemink",
      "photoUrl": "https://lh3.googleusercontent.com/a/default-user=s128",
      "userId": "117653304702534641755"
     },
     "user_tz": 240
    },
    "id": "HTmOOH1HUdUW",
    "outputId": "3d80a300-1c6e-4c56-b729-6fe1ce83527d"
   },
   "outputs": [
    {
     "data": {
      "text/plain": [
       "'b'"
      ]
     },
<<<<<<< HEAD
     "execution_count": 10,
     "metadata": {
      "tags": []
     },
=======
     "execution_count": 3,
     "metadata": {},
>>>>>>> aa71ef9da4bea10ed948c12f063a94007ff62c77
     "output_type": "execute_result"
    }
   ],
   "source": [
    "alphabet[1]"
   ]
  },
  {
   "cell_type": "markdown",
   "metadata": {
    "colab_type": "text",
    "id": "ggmm1EmTUnPh"
   },
   "source": [
    "Slice em!"
   ]
  },
  {
   "cell_type": "code",
<<<<<<< HEAD
   "execution_count": 11,
=======
   "execution_count": 4,
>>>>>>> aa71ef9da4bea10ed948c12f063a94007ff62c77
   "metadata": {
    "colab": {
     "base_uri": "https://localhost:8080/",
     "height": 34
    },
    "colab_type": "code",
<<<<<<< HEAD
    "collapsed": false,
=======
>>>>>>> aa71ef9da4bea10ed948c12f063a94007ff62c77
    "executionInfo": {
     "elapsed": 318,
     "status": "ok",
     "timestamp": 1534551170151,
     "user": {
      "displayName": "William Hartemink",
      "photoUrl": "https://lh3.googleusercontent.com/a/default-user=s128",
      "userId": "117653304702534641755"
     },
     "user_tz": 240
    },
    "id": "tdFzE0X9Ueb9",
    "outputId": "7529278b-a774-4838-ff44-b80cb1b44364"
   },
   "outputs": [
    {
     "data": {
      "text/plain": [
       "['c', 'd']"
      ]
     },
<<<<<<< HEAD
     "execution_count": 11,
     "metadata": {
      "tags": []
     },
=======
     "execution_count": 4,
     "metadata": {},
>>>>>>> aa71ef9da4bea10ed948c12f063a94007ff62c77
     "output_type": "execute_result"
    }
   ],
   "source": [
    "alphabet[2:4]"
   ]
  },
  {
   "cell_type": "markdown",
   "metadata": {
    "colab_type": "text",
    "id": "UnnEA-DuUsU8"
   },
   "source": [
    "and reverse!"
   ]
  },
  {
   "cell_type": "code",
<<<<<<< HEAD
   "execution_count": 12,
=======
   "execution_count": 5,
>>>>>>> aa71ef9da4bea10ed948c12f063a94007ff62c77
   "metadata": {
    "colab": {
     "base_uri": "https://localhost:8080/",
     "height": 34
    },
    "colab_type": "code",
<<<<<<< HEAD
    "collapsed": false,
=======
>>>>>>> aa71ef9da4bea10ed948c12f063a94007ff62c77
    "executionInfo": {
     "elapsed": 310,
     "status": "ok",
     "timestamp": 1534551170584,
     "user": {
      "displayName": "William Hartemink",
      "photoUrl": "https://lh3.googleusercontent.com/a/default-user=s128",
      "userId": "117653304702534641755"
     },
     "user_tz": 240
    },
    "id": "wpVUq_4mUpoN",
    "outputId": "d883206d-c3fa-4811-8622-7d4ed5a391a2"
   },
   "outputs": [
    {
     "data": {
      "text/plain": [
       "['e', 'd', 'c', 'b', 'a']"
      ]
     },
<<<<<<< HEAD
     "execution_count": 12,
     "metadata": {
      "tags": []
     },
=======
     "execution_count": 5,
     "metadata": {},
>>>>>>> aa71ef9da4bea10ed948c12f063a94007ff62c77
     "output_type": "execute_result"
    }
   ],
   "source": [
    "alphabet[::-1]"
   ]
  },
  {
   "cell_type": "markdown",
   "metadata": {
    "colab_type": "text",
    "id": "uUNE9qSgX_DT"
   },
   "source": [
    "You can also set an element of a list by index"
   ]
  },
  {
   "cell_type": "code",
<<<<<<< HEAD
   "execution_count": 0,
   "metadata": {
    "colab": {},
    "colab_type": "code",
    "collapsed": true,
=======
   "execution_count": 6,
   "metadata": {
    "colab": {},
    "colab_type": "code",
>>>>>>> aa71ef9da4bea10ed948c12f063a94007ff62c77
    "id": "YbDNSzOCUvHa"
   },
   "outputs": [],
   "source": [
    "alphabet[0] = \"This is replacing the letter 'a'\""
   ]
  },
  {
   "cell_type": "markdown",
   "metadata": {
    "colab_type": "text",
    "id": "A8JedaeqU3cM"
   },
   "source": [
    "Here's also a couple extra methods you'll find handy!"
   ]
  },
  {
   "cell_type": "code",
<<<<<<< HEAD
   "execution_count": 6,
=======
   "execution_count": 7,
>>>>>>> aa71ef9da4bea10ed948c12f063a94007ff62c77
   "metadata": {
    "colab": {
     "base_uri": "https://localhost:8080/",
     "height": 34
    },
    "colab_type": "code",
<<<<<<< HEAD
    "collapsed": false,
=======
>>>>>>> aa71ef9da4bea10ed948c12f063a94007ff62c77
    "executionInfo": {
     "elapsed": 315,
     "status": "ok",
     "timestamp": 1534550342681,
     "user": {
      "displayName": "William Hartemink",
      "photoUrl": "https://lh3.googleusercontent.com/a/default-user=s128",
      "userId": "117653304702534641755"
     },
     "user_tz": 240
    },
    "id": "piWYvj0uU5r5",
    "outputId": "877f6fa8-9ef4-42ea-de55-41da3ee0b63a"
   },
   "outputs": [
    {
     "data": {
      "text/plain": [
<<<<<<< HEAD
       "['a', 'b', 'c', 'd', 'e', 'f', 'g']"
      ]
     },
     "execution_count": 6,
     "metadata": {
      "tags": []
     },
=======
       "[\"This is replacing the letter 'a'\", 'b', 'c', 'd', 'e', 'f', 'g']"
      ]
     },
     "execution_count": 7,
     "metadata": {},
>>>>>>> aa71ef9da4bea10ed948c12f063a94007ff62c77
     "output_type": "execute_result"
    }
   ],
   "source": [
    "alphabet + ['f', 'g']"
   ]
  },
  {
   "cell_type": "code",
<<<<<<< HEAD
   "execution_count": 0,
   "metadata": {
    "colab": {},
    "colab_type": "code",
    "collapsed": true,
=======
   "execution_count": 8,
   "metadata": {
    "colab": {},
    "colab_type": "code",
>>>>>>> aa71ef9da4bea10ed948c12f063a94007ff62c77
    "id": "TQfpN9fCU_qT"
   },
   "outputs": [],
   "source": [
    "alphabet.append('appended string')"
   ]
  },
  {
   "cell_type": "code",
<<<<<<< HEAD
   "execution_count": 8,
=======
   "execution_count": 9,
>>>>>>> aa71ef9da4bea10ed948c12f063a94007ff62c77
   "metadata": {
    "colab": {
     "base_uri": "https://localhost:8080/",
     "height": 34
    },
    "colab_type": "code",
<<<<<<< HEAD
    "collapsed": false,
=======
>>>>>>> aa71ef9da4bea10ed948c12f063a94007ff62c77
    "executionInfo": {
     "elapsed": 322,
     "status": "ok",
     "timestamp": 1534550368570,
     "user": {
      "displayName": "William Hartemink",
      "photoUrl": "https://lh3.googleusercontent.com/a/default-user=s128",
      "userId": "117653304702534641755"
     },
     "user_tz": 240
    },
    "id": "Fcgzc084VFT8",
    "outputId": "d206f485-5ad2-4d37-e463-4a00cf60c5a9"
   },
   "outputs": [
    {
     "data": {
      "text/plain": [
<<<<<<< HEAD
       "['a', 'b', 'c', 'd', 'e', 'appended string']"
      ]
     },
     "execution_count": 8,
     "metadata": {
      "tags": []
     },
=======
       "[\"This is replacing the letter 'a'\", 'b', 'c', 'd', 'e', 'appended string']"
      ]
     },
     "execution_count": 9,
     "metadata": {},
>>>>>>> aa71ef9da4bea10ed948c12f063a94007ff62c77
     "output_type": "execute_result"
    }
   ],
   "source": [
    "alphabet"
   ]
  },
  {
   "cell_type": "code",
   "execution_count": 10,
   "metadata": {
    "colab": {
     "base_uri": "https://localhost:8080/",
     "height": 34
    },
    "colab_type": "code",
<<<<<<< HEAD
    "collapsed": false,
=======
>>>>>>> aa71ef9da4bea10ed948c12f063a94007ff62c77
    "executionInfo": {
     "elapsed": 325,
     "status": "ok",
     "timestamp": 1534550385592,
     "user": {
      "displayName": "William Hartemink",
      "photoUrl": "https://lh3.googleusercontent.com/a/default-user=s128",
      "userId": "117653304702534641755"
     },
     "user_tz": 240
    },
    "id": "s7DZkFewVF-p",
    "outputId": "781677e5-0351-443c-896a-636b52521f38"
   },
   "outputs": [
    {
     "data": {
      "text/plain": [
<<<<<<< HEAD
       "['a', 'b', 'c', 'd', 'e', 'appended string', 5]"
      ]
     },
     "execution_count": 10,
     "metadata": {
      "tags": []
     },
=======
       "[\"This is replacing the letter 'a'\", 'b', 'c', 'd', 'e', 'appended string', 5]"
      ]
     },
     "execution_count": 10,
     "metadata": {},
>>>>>>> aa71ef9da4bea10ed948c12f063a94007ff62c77
     "output_type": "execute_result"
    }
   ],
   "source": [
    "# Can I put ints in there?\n",
    "alphabet.append(5)\n",
    "alphabet"
   ]
  },
  {
   "cell_type": "code",
<<<<<<< HEAD
   "execution_count": 12,
=======
   "execution_count": 11,
>>>>>>> aa71ef9da4bea10ed948c12f063a94007ff62c77
   "metadata": {
    "colab": {
     "base_uri": "https://localhost:8080/",
     "height": 34
    },
    "colab_type": "code",
<<<<<<< HEAD
    "collapsed": false,
=======
>>>>>>> aa71ef9da4bea10ed948c12f063a94007ff62c77
    "executionInfo": {
     "elapsed": 542,
     "status": "ok",
     "timestamp": 1534550407957,
     "user": {
      "displayName": "William Hartemink",
      "photoUrl": "https://lh3.googleusercontent.com/a/default-user=s128",
      "userId": "117653304702534641755"
     },
     "user_tz": 240
    },
    "id": "uR-3vx7zVIVX",
    "outputId": "5f13f792-b995-49d1-e871-11f2c2b63798"
   },
   "outputs": [
    {
     "data": {
      "text/plain": [
<<<<<<< HEAD
       "['a', 'b', 'c', 'd', 'e', 'appended string', 5, 10.56, 10.56]"
      ]
     },
     "execution_count": 12,
     "metadata": {
      "tags": []
     },
=======
       "[\"This is replacing the letter 'a'\",\n",
       " 'b',\n",
       " 'c',\n",
       " 'd',\n",
       " 'e',\n",
       " 'appended string',\n",
       " 5,\n",
       " 10.56]"
      ]
     },
     "execution_count": 11,
     "metadata": {},
>>>>>>> aa71ef9da4bea10ed948c12f063a94007ff62c77
     "output_type": "execute_result"
    }
   ],
   "source": [
    "# Can I put floats in there?\n",
    "alphabet.append(10.56)\n",
    "alphabet"
   ]
  },
  {
   "cell_type": "code",
<<<<<<< HEAD
   "execution_count": 14,
=======
   "execution_count": 12,
>>>>>>> aa71ef9da4bea10ed948c12f063a94007ff62c77
   "metadata": {
    "colab": {
     "base_uri": "https://localhost:8080/",
     "height": 34
    },
    "colab_type": "code",
<<<<<<< HEAD
    "collapsed": false,
=======
>>>>>>> aa71ef9da4bea10ed948c12f063a94007ff62c77
    "executionInfo": {
     "elapsed": 320,
     "status": "ok",
     "timestamp": 1534550425456,
     "user": {
      "displayName": "William Hartemink",
      "photoUrl": "https://lh3.googleusercontent.com/a/default-user=s128",
      "userId": "117653304702534641755"
     },
     "user_tz": 240
    },
    "id": "FtisfmH4VO1v",
    "outputId": "2b8fe20d-80ee-4500-e941-77ebc2c3bd67"
   },
   "outputs": [
    {
     "data": {
      "text/plain": [
<<<<<<< HEAD
       "['a', 'b', 'c', 'd', 'e', 'appended string', 5, 10.56, 10.56, [...], [...]]"
      ]
     },
     "execution_count": 14,
     "metadata": {
      "tags": []
     },
=======
       "[\"This is replacing the letter 'a'\",\n",
       " 'b',\n",
       " 'c',\n",
       " 'd',\n",
       " 'e',\n",
       " 'appended string',\n",
       " 5,\n",
       " 10.56,\n",
       " [...]]"
      ]
     },
     "execution_count": 12,
     "metadata": {},
>>>>>>> aa71ef9da4bea10ed948c12f063a94007ff62c77
     "output_type": "execute_result"
    }
   ],
   "source": [
    "# Can I put other lists in there?\n",
    "alphabet.append(alphabet)\n",
    "alphabet"
   ]
  },
  {
   "cell_type": "markdown",
   "metadata": {
    "colab_type": "text",
    "id": "PcuthmJJWBRq"
   },
   "source": [
    "You can also make a list out of a string using str.split(sep = 'separator')"
   ]
  },
  {
   "cell_type": "code",
<<<<<<< HEAD
   "execution_count": 4,
=======
   "execution_count": 13,
>>>>>>> aa71ef9da4bea10ed948c12f063a94007ff62c77
   "metadata": {
    "colab": {
     "base_uri": "https://localhost:8080/",
     "height": 663
    },
    "colab_type": "code",
<<<<<<< HEAD
    "collapsed": false,
=======
>>>>>>> aa71ef9da4bea10ed948c12f063a94007ff62c77
    "executionInfo": {
     "elapsed": 327,
     "status": "ok",
     "timestamp": 1534688795742,
     "user": {
      "displayName": "William Hartemink",
      "photoUrl": "https://lh3.googleusercontent.com/a/default-user=s128",
      "userId": "117653304702534641755"
     },
     "user_tz": 240
    },
    "id": "Y9ZEVPksV-g8",
    "outputId": "727ccba2-0972-4659-a141-81b72dd294e6"
   },
   "outputs": [
    {
     "data": {
      "text/plain": [
       "['According',\n",
       " 'to',\n",
       " 'all',\n",
       " 'known',\n",
       " 'laws',\n",
       " 'of',\n",
       " 'aviation,',\n",
       " 'there',\n",
       " 'is',\n",
       " 'no',\n",
       " 'way',\n",
       " 'a',\n",
       " 'bee',\n",
       " 'should',\n",
       " 'be',\n",
       " 'able',\n",
       " 'to',\n",
       " 'fly.',\n",
       " 'Its',\n",
       " 'wings',\n",
       " 'are',\n",
       " 'too',\n",
       " 'small',\n",
       " 'to',\n",
       " 'get',\n",
       " 'its',\n",
       " 'fat',\n",
       " 'little',\n",
       " 'body',\n",
       " 'off',\n",
       " 'the',\n",
       " 'ground.',\n",
       " 'The',\n",
       " 'bee,',\n",
       " 'of',\n",
       " 'course,',\n",
       " 'flies',\n",
       " 'anyway']"
      ]
     },
<<<<<<< HEAD
     "execution_count": 4,
     "metadata": {
      "tags": []
     },
=======
     "execution_count": 13,
     "metadata": {},
>>>>>>> aa71ef9da4bea10ed948c12f063a94007ff62c77
     "output_type": "execute_result"
    }
   ],
   "source": [
    "# triple quotes are a multi-line string!\n",
    "\n",
    "BeeMovieScript = \"\"\"According to all known laws\n",
    "of aviation,\n",
    "\n",
    "  \n",
    "there is no way a bee\n",
    "should be able to fly.\n",
    "\n",
    "  \n",
    "Its wings are too small to get\n",
    "its fat little body off the ground.\n",
    "\n",
    "  \n",
    "The bee, of course, flies anyway\"\"\"\n",
    "\n",
    "BeeMovieScript.split()   # Uses whitespace by default (any of space, tab, enter, etc.)"
   ]
  },
  {
   "cell_type": "markdown",
   "metadata": {
    "colab_type": "text",
    "id": "lbNJvxjWWuaC"
   },
   "source": [
    "And of course you can customize the separator!"
   ]
  },
  {
   "cell_type": "code",
<<<<<<< HEAD
   "execution_count": 5,
=======
   "execution_count": 14,
>>>>>>> aa71ef9da4bea10ed948c12f063a94007ff62c77
   "metadata": {
    "colab": {
     "base_uri": "https://localhost:8080/",
     "height": 68
    },
    "colab_type": "code",
<<<<<<< HEAD
    "collapsed": false,
=======
>>>>>>> aa71ef9da4bea10ed948c12f063a94007ff62c77
    "executionInfo": {
     "elapsed": 311,
     "status": "ok",
     "timestamp": 1534550909186,
     "user": {
      "displayName": "William Hartemink",
      "photoUrl": "https://lh3.googleusercontent.com/a/default-user=s128",
      "userId": "117653304702534641755"
     },
     "user_tz": 240
    },
    "id": "M2ZseAE7Wpi4",
    "outputId": "4e6700ef-bea0-410e-9230-accb479fae39"
   },
   "outputs": [
    {
     "data": {
      "text/plain": [
       "['According to all known laws\\nof aviation,\\n\\n  \\nthere is no way a bee\\nshould be able to fly',\n",
       " '\\n\\n  \\nIts wings are too small to get\\nits fat little body off the ground',\n",
       " '\\n\\n  \\nThe bee, of course, flies anyway']"
      ]
     },
<<<<<<< HEAD
     "execution_count": 5,
     "metadata": {
      "tags": []
     },
=======
     "execution_count": 14,
     "metadata": {},
>>>>>>> aa71ef9da4bea10ed948c12f063a94007ff62c77
     "output_type": "execute_result"
    }
   ],
   "source": [
    "BeeMovieScript.split(sep = '.')"
   ]
  },
  {
   "cell_type": "markdown",
   "metadata": {
    "colab_type": "text",
    "id": "qwtFcjRTXNC9"
   },
   "source": [
    "That sure is hard to read. Keep in mind that if any function takes multiple arguments, you can pass each _element_ of the list using *"
   ]
  },
  {
   "cell_type": "code",
<<<<<<< HEAD
   "execution_count": 7,
=======
   "execution_count": 15,
>>>>>>> aa71ef9da4bea10ed948c12f063a94007ff62c77
   "metadata": {
    "colab": {
     "base_uri": "https://localhost:8080/",
     "height": 238
    },
    "colab_type": "code",
<<<<<<< HEAD
    "collapsed": false,
=======
>>>>>>> aa71ef9da4bea10ed948c12f063a94007ff62c77
    "executionInfo": {
     "elapsed": 315,
     "status": "ok",
     "timestamp": 1534550981616,
     "user": {
      "displayName": "William Hartemink",
      "photoUrl": "https://lh3.googleusercontent.com/a/default-user=s128",
      "userId": "117653304702534641755"
     },
     "user_tz": 240
    },
    "id": "I7hyk2LUXUhs",
    "outputId": "adf7da6c-d6f3-4821-b3cb-9c3423ff0f26"
   },
   "outputs": [
    {
     "name": "stdout",
     "output_type": "stream",
     "text": [
      "According to all known laws\n",
      "of aviation,\n",
      "\n",
      "  \n",
      "there is no way a bee\n",
      "should be able to fly-------------------------\n",
      "\n",
      "  \n",
      "Its wings are too small to get\n",
      "its fat little body off the ground-------------------------\n",
      "\n",
      "  \n",
      "The bee, of course, flies anyway\n"
     ]
    }
   ],
   "source": [
    "print(*BeeMovieScript.split(sep = '.'), sep = '-------------------------')"
   ]
  },
  {
   "cell_type": "markdown",
   "metadata": {
    "colab_type": "text",
    "id": "wGyA93OEk_0J"
   },
   "source": [
    "You can also deo the opposite with the str.join(list) method."
   ]
  },
  {
   "cell_type": "code",
<<<<<<< HEAD
   "execution_count": 9,
=======
   "execution_count": 16,
>>>>>>> aa71ef9da4bea10ed948c12f063a94007ff62c77
   "metadata": {
    "colab": {
     "base_uri": "https://localhost:8080/",
     "height": 663
    },
    "colab_type": "code",
<<<<<<< HEAD
    "collapsed": false,
=======
>>>>>>> aa71ef9da4bea10ed948c12f063a94007ff62c77
    "executionInfo": {
     "elapsed": 316,
     "status": "ok",
     "timestamp": 1534688878370,
     "user": {
      "displayName": "William Hartemink",
      "photoUrl": "https://lh3.googleusercontent.com/a/default-user=s128",
      "userId": "117653304702534641755"
     },
     "user_tz": 240
    },
    "id": "6udm7BU4k-dP",
    "outputId": "24c0ff5f-0d4b-4216-e6b2-f561e003c9ad"
   },
   "outputs": [
    {
     "name": "stdout",
     "output_type": "stream",
     "text": [
      "According??\n",
      "to??\n",
      "all??\n",
      "known??\n",
      "laws??\n",
      "of??\n",
      "aviation,??\n",
      "there??\n",
      "is??\n",
      "no??\n",
      "way??\n",
      "a??\n",
      "bee??\n",
      "should??\n",
      "be??\n",
      "able??\n",
      "to??\n",
      "fly.??\n",
      "Its??\n",
      "wings??\n",
      "are??\n",
      "too??\n",
      "small??\n",
      "to??\n",
      "get??\n",
      "its??\n",
      "fat??\n",
      "little??\n",
      "body??\n",
      "off??\n",
      "the??\n",
      "ground.??\n",
      "The??\n",
      "bee,??\n",
      "of??\n",
      "course,??\n",
      "flies??\n",
      "anyway\n"
     ]
    }
   ],
   "source": [
    "script_list = BeeMovieScript.split()\n",
    "questioningScript = '??\\n'.join(script_list)\n",
    "print(questioningScript)"
   ]
  },
  {
   "cell_type": "markdown",
   "metadata": {
    "colab_type": "text",
    "id": "DNmlk5sKVdM-"
   },
   "source": [
    "And if you want a list of numbers, try using range, which works almost just like indexing the number line!"
   ]
  },
  {
   "cell_type": "code",
<<<<<<< HEAD
   "execution_count": 15,
=======
   "execution_count": 17,
>>>>>>> aa71ef9da4bea10ed948c12f063a94007ff62c77
   "metadata": {
    "colab": {
     "base_uri": "https://localhost:8080/",
     "height": 34
    },
    "colab_type": "code",
<<<<<<< HEAD
    "collapsed": false,
=======
>>>>>>> aa71ef9da4bea10ed948c12f063a94007ff62c77
    "executionInfo": {
     "elapsed": 349,
     "status": "ok",
     "timestamp": 1534550481155,
     "user": {
      "displayName": "William Hartemink",
      "photoUrl": "https://lh3.googleusercontent.com/a/default-user=s128",
      "userId": "117653304702534641755"
     },
     "user_tz": 240
    },
    "id": "00847SZPVezs",
    "outputId": "b1806a93-4169-43a0-8f1b-9c0eb4bde5f9"
   },
   "outputs": [
    {
     "data": {
      "text/plain": [
       "[0, 1, 2, 3, 4, 5, 6, 7, 8, 9]"
      ]
     },
<<<<<<< HEAD
     "execution_count": 15,
     "metadata": {
      "tags": []
     },
=======
     "execution_count": 17,
     "metadata": {},
>>>>>>> aa71ef9da4bea10ed948c12f063a94007ff62c77
     "output_type": "execute_result"
    }
   ],
   "source": [
    "list(range(0, 10))"
   ]
  },
  {
   "cell_type": "code",
   "execution_count": 18,
   "metadata": {
    "colab": {
     "base_uri": "https://localhost:8080/",
     "height": 34
    },
    "colab_type": "code",
<<<<<<< HEAD
    "collapsed": false,
=======
>>>>>>> aa71ef9da4bea10ed948c12f063a94007ff62c77
    "executionInfo": {
     "elapsed": 354,
     "status": "ok",
     "timestamp": 1534550500949,
     "user": {
      "displayName": "William Hartemink",
      "photoUrl": "https://lh3.googleusercontent.com/a/default-user=s128",
      "userId": "117653304702534641755"
     },
     "user_tz": 240
    },
    "id": "LtjZZYLYVhdW",
    "outputId": "18d6fe5f-f05b-44e1-cbd2-bcd1d205a080"
   },
   "outputs": [
    {
     "data": {
      "text/plain": [
       "[10, 11, 12, 13, 14, 15, 16, 17, 18, 19, 20, 21, 22, 23, 24]"
      ]
     },
     "execution_count": 18,
<<<<<<< HEAD
     "metadata": {
      "tags": []
     },
=======
     "metadata": {},
>>>>>>> aa71ef9da4bea10ed948c12f063a94007ff62c77
     "output_type": "execute_result"
    }
   ],
   "source": [
    "list(range(10,25))"
   ]
  },
  {
   "cell_type": "code",
   "execution_count": 19,
   "metadata": {
    "colab": {
     "base_uri": "https://localhost:8080/",
     "height": 34
    },
    "colab_type": "code",
<<<<<<< HEAD
    "collapsed": false,
=======
>>>>>>> aa71ef9da4bea10ed948c12f063a94007ff62c77
    "executionInfo": {
     "elapsed": 324,
     "status": "ok",
     "timestamp": 1534550515150,
     "user": {
      "displayName": "William Hartemink",
      "photoUrl": "https://lh3.googleusercontent.com/a/default-user=s128",
      "userId": "117653304702534641755"
     },
     "user_tz": 240
    },
    "id": "BE8z7t-VVinZ",
    "outputId": "e3e4731b-be67-4b3b-a854-0cbfb43774cc"
   },
   "outputs": [
    {
     "data": {
      "text/plain": [
       "[100, 112, 124, 136, 148, 160, 172, 184, 196]"
      ]
     },
     "execution_count": 19,
<<<<<<< HEAD
     "metadata": {
      "tags": []
     },
=======
     "metadata": {},
>>>>>>> aa71ef9da4bea10ed948c12f063a94007ff62c77
     "output_type": "execute_result"
    }
   ],
   "source": [
    "list(range(100,200,12))"
   ]
  },
  {
   "cell_type": "code",
   "execution_count": 20,
   "metadata": {
    "colab": {
     "base_uri": "https://localhost:8080/",
     "height": 34
    },
    "colab_type": "code",
<<<<<<< HEAD
    "collapsed": false,
=======
>>>>>>> aa71ef9da4bea10ed948c12f063a94007ff62c77
    "executionInfo": {
     "elapsed": 350,
     "status": "ok",
     "timestamp": 1534550522756,
     "user": {
      "displayName": "William Hartemink",
      "photoUrl": "https://lh3.googleusercontent.com/a/default-user=s128",
      "userId": "117653304702534641755"
     },
     "user_tz": 240
    },
    "id": "eDpQZO-hVpw-",
    "outputId": "8e67c636-d91c-4dfa-a6d9-9f78464230ab"
   },
   "outputs": [
    {
     "data": {
      "text/plain": [
       "[200, 188, 176, 164, 152, 140, 128, 116, 104]"
      ]
     },
     "execution_count": 20,
<<<<<<< HEAD
     "metadata": {
      "tags": []
     },
=======
     "metadata": {},
>>>>>>> aa71ef9da4bea10ed948c12f063a94007ff62c77
     "output_type": "execute_result"
    }
   ],
   "source": [
    "list(range(200,100,-12))"
   ]
  },
  {
   "cell_type": "markdown",
   "metadata": {
    "colab_type": "text",
    "id": "8mah9iAhVtSi"
   },
   "source": [
    "Always repeat to yourself the words, \"Start, stop, step!\""
   ]
  },
  {
   "cell_type": "markdown",
   "metadata": {
    "colab_type": "text",
    "id": "RKyR5T1hYZnw"
   },
   "source": [
    "## Challenges!!!!"
   ]
  },
  {
   "cell_type": "markdown",
   "metadata": {
    "colab_type": "text",
    "id": "e5QxMoBfY62e"
   },
   "source": [
    "Below is a program that extracts the texts from the wikipedia article on the United Kingdom and saves it as a string in the loal variable articleString. Write a program that prints all parts of the article that are in double-quotes \" \"."
   ]
  },
  {
   "cell_type": "code",
<<<<<<< HEAD
   "execution_count": 10,
=======
   "execution_count": 21,
>>>>>>> aa71ef9da4bea10ed948c12f063a94007ff62c77
   "metadata": {
    "colab": {
     "base_uri": "https://localhost:8080/",
     "height": 663
    },
    "colab_type": "code",
<<<<<<< HEAD
    "collapsed": false,
=======
>>>>>>> aa71ef9da4bea10ed948c12f063a94007ff62c77
    "executionInfo": {
     "elapsed": 2641,
     "status": "ok",
     "timestamp": 1534688890124,
     "user": {
      "displayName": "William Hartemink",
      "photoUrl": "https://lh3.googleusercontent.com/a/default-user=s128",
      "userId": "117653304702534641755"
     },
     "user_tz": 240
    },
    "id": "kia9Tw3pVrnT",
    "outputId": "45bfe048-e310-4f71-bbf9-93f79f3d5293"
   },
   "outputs": [
    {
<<<<<<< HEAD
=======
     "name": "stderr",
     "output_type": "stream",
     "text": [
      "/Applications/anaconda3/lib/python3.6/site-packages/bs4/__init__.py:181: UserWarning: No parser was explicitly specified, so I'm using the best available HTML parser for this system (\"lxml\"). This usually isn't a problem, but if you run this code on another system, or in a different virtual environment, it may use a different parser and behave differently.\n",
      "\n",
      "The code that caused this warning is on line 193 of the file /Applications/anaconda3/lib/python3.6/runpy.py. To get rid of this warning, change code that looks like this:\n",
      "\n",
      " BeautifulSoup(YOUR_MARKUP})\n",
      "\n",
      "to this:\n",
      "\n",
      " BeautifulSoup(YOUR_MARKUP, \"lxml\")\n",
      "\n",
      "  markup_type=markup_type))\n"
     ]
    },
    {
>>>>>>> aa71ef9da4bea10ed948c12f063a94007ff62c77
     "name": "stdout",
     "output_type": "stream",
     "text": [
      "\n",
<<<<<<< HEAD
      "\t\t\n",
      "\t\t\n",
      "\t\t\n",
      "\t\t\t\n",
      "\t\t\t CentralNotice \n",
      "\n",
      "\n",
      "United Kingdom\t\t\t\n",
      "\t\t\t\tFrom Wikipedia, the free encyclopedia\t\t\t\t\n",
      "\t\t\t\t\t\t\t\tJump to navigation\n",
      "\t\t\t\tJump to search\n",
      "\t\t\t\tCountry in Europe\n",
      "This article is about the country. It is not to be confused with Great Britain, its largest island whose name is also loosely applied to the whole country.\n",
      "\"UK\" redirects here. For other uses of \"UK\", see UK (disambiguation). For other uses of \"United Kingdom\", see United Kingdom (disambiguation).\n",
      "\n",
      "\n",
      "\n",
=======
      "\n",
      " \n",
      "\n",
      "\n",
      "\n",
      " CentralNotice \n",
      "\n",
      "\n",
      "United Kingdom \n",
      "From Wikipedia, the free encyclopedia \n",
      " Jump to navigation\n",
      "Jump to search\n",
      "Country in Europe\n",
      "This article is about the country. It is not to be confused with Great Britain, its largest island whose name is also loosely applied to the whole country.\n",
      "\"UK\" redirects here. For other uses of \"UK\", see UK (disambiguation). For other uses of \"United Kingdom\", see United Kingdom (disambiguation).\n",
      "\n",
>>>>>>> aa71ef9da4bea10ed948c12f063a94007ff62c77
      "\n",
      "\n",
      "United Kingdom of Great Britain and Northern Ireland\n",
      " Scots:\n",
      "Unitit Kinrick o Great Breetain an Northren IrelandUlster Scots:\n",
      "Claught Kängrick o Docht Brätain an Norlin AirlannWelsh:\n",
      "Teyrnas Unedig Prydain Fawr a Gogledd IwerddonCornish:\n",
      "Rywvaneth Unys Breten Veur ha Kledhbarth IwerdhonScottish Gaelic:\n",
      "Rìoghachd Aonaichte Bhreatainn is Èireann a TuathIrish:\n",
      "Ríocht Aontaithe na Breataine Móire agus Thuaisceart Éireann\n",
<<<<<<< HEAD
      "  \n",
      "\n",
      "\n",
      "        \n",
      "            \n",
      "            Flag\n",
      "        \n",
      "        \n",
      "            \n",
      "            Royal coat of arms[no\n"
=======
      "\n",
      "\n",
      "\n",
      "\n",
      "\n",
      "Flag\n",
      "\n",
      "\n",
      "\n",
      "Royal coat of arms[note 1]\n",
      "\n",
      "\n",
      "Anthem: \"God Save the Queen\"[note 2]\n",
      "\n",
      "Show globeShow map of EuropeLocation of the  United Kingdom  (da\n"
>>>>>>> aa71ef9da4bea10ed948c12f063a94007ff62c77
     ]
    }
   ],
   "source": [
    "import re\n",
    "import urllib.request\n",
    "from bs4 import BeautifulSoup\n",
    " \n",
    "html = urllib.request.urlopen('https://en.wikipedia.org/wiki/United_Kingdom')\n",
    "soup = BeautifulSoup(html)\n",
    "data = soup.findAll(text=True)\n",
    " \n",
    "def visible(element):\n",
    "    if element.parent.name in ['style', 'script', '[document]', 'head', 'title']:\n",
    "        return False\n",
    "    elif re.match('<!--.*-->', str(element.encode('utf-8'))):\n",
    "        return False\n",
    "    return True\n",
    " \n",
    "result = filter(visible, data)\n",
    " \n",
    "articleString = ''.join(list(result))\n",
    "print(articleString[:1000])"
   ]
  },
  {
   "cell_type": "markdown",
   "metadata": {
    "colab_type": "text",
    "id": "6jl8n3kdlzpB"
   },
   "source": [
    "Answer:"
   ]
  },
  {
   "cell_type": "code",
<<<<<<< HEAD
   "execution_count": 12,
=======
   "execution_count": 23,
>>>>>>> aa71ef9da4bea10ed948c12f063a94007ff62c77
   "metadata": {
    "colab": {
     "base_uri": "https://localhost:8080/",
     "height": 9438
    },
    "colab_type": "code",
<<<<<<< HEAD
    "collapsed": false,
=======
>>>>>>> aa71ef9da4bea10ed948c12f063a94007ff62c77
    "executionInfo": {
     "elapsed": 338,
     "status": "ok",
     "timestamp": 1534688943206,
     "user": {
      "displayName": "William Hartemink",
      "photoUrl": "https://lh3.googleusercontent.com/a/default-user=s128",
      "userId": "117653304702534641755"
     },
     "user_tz": 240
    },
    "id": "-IVMDHo_Z3W3",
    "outputId": "9afe4ea6-a13b-4360-affb-433fc646592f"
   },
   "outputs": [
    {
     "name": "stdout",
     "output_type": "stream",
     "text": [
      "UK\n",
      "UK\n",
      "United Kingdom\n",
      "God Save the Queen\n",
      "very high\n",
      "United into One Kingdom by the Name of Great Britain\n",
      "Kingdom of Great Britain\n",
      "United Kingdom of Great Britain\n",
      "One Kingdom\n",
<<<<<<< HEAD
      "United Kingdom\n",
      "United Kingdom of Great Britain\n",
      "Great Britain\n",
      "long form\n",
      "United Kingdom of Great Britain and Northern Ireland\n",
      "countries within a country\n",
      "regions\n",
      "province\n",
      "can be controversial, with the choice often revealing one's political preferences\n",
      "Great Britain\n",
      "Great Britain\n",
      "Team GB\n",
      "Britain\n",
      "authoritative geographical names of the United Kingdom\n",
      "United Kingdom\n",
      "UK or U.K.\n",
      "Britain\n",
      "informally\n",
      "British\n",
      "Teyrnas Unedig Prydain Fawr a Gogledd Iwerddon\n",
      "Teyrnas Unedig\n",
      "DU\n",
      "Y Deyrnas Unedig\n",
      "Rìoghachd Aonaichte Bhreatainn is Èireann a Tuath\n",
      "Rìoghachd Aonaichte\n",
      "United Kingdom\n",
      "British Peace\n",
      "workshop of the world\n",
      "Good Friday\n",
      "[The] Overseas Territories are British for as long as they wish to remain British. Britain has willingly granted independence where it has been requested; and we will continue to do so where this is an option.\n",
      "territories for which the United Kingdom is responsible\n",
      "the right to be consulted, the right to encourage, and the right to warn\n",
      "constitutional law\n",
      "constitutional reform\n",
      "guilty\n",
      "not guilty\n",
      "not proven\n",
      "not guilty\n",
      "not proven\n",
      "Special Relationship\n",
      "Entente cordiale\n",
      "the most demanding operations\n",
      "command centres\n",
      "crucial stage\n",
      "severe material depression\n",
      "at the heart of super-rich tax-avoidance network.\n",
      "supermajors\n",
      "water only\n",
      "other\n",
      "I don't know\n",
      "about 75% of the traceable ancestors of the modern British population had arrived in the British isles by about 6,200 years ago, at the start of the British Neolithic or Stone Age\n",
      "some knowledge of Irish\n",
      "maintain and preserve the Protestant Religion and Presbyterian Church Government\n",
      "Oxbridge\n",
      "cultural superpower\n",
      "Do not go gentle into that good night; Rage, rage against the dying of the light\n",
      "play for voices\n",
      "poet-priest\n",
      "Young British Artists\n",
      "a true British national dish.\n",
      "strong, penetrating spices and herbs\n",
      "broadsheet\n",
      "common sense\n",
      "Freddie\n",
      "This great, sports-loving country is widely recognised as the birthplace of modern sport. It was here that the concepts of sportsmanship and fair play were first codified into clear rules and regulations. It was here that sport was included as an educational tool in the school curriculum\n",
      "sport of kings\n",
      "God Save the Queen\n",
      "Queen\n",
      "King\n",
      "Rule, Britannia!\n",
      "God Save the Queen\n",
      "God Save the Queen\n",
      "The United Kingdom of Great Britain and Ireland\n",
      "African\n",
      "Caribbean or Black\n",
      "Black or Black British\n",
      "the African categories used in Scotland could potentially capture White/Asian/Other African in addition to Black identities\n",
      "National Anthem\n",
      "List of declarations made with respect to treaty No. 148\n",
      "Welsh language on GOV.UK - Content design: planning, writing and managing content - Guidance - GOV.UK\n",
      "Welsh language scheme\n",
      "Welsh language scheme\n",
      "Less religious and more ethnically diverse: Census reveals a picture of Britain today\n",
      "Demographic Yearbook – Table 3: Population by sex, rate of population increase, surface area and density\n",
      "Population estimates for UK, England and Wales, Scotland and Northern Ireland: mid-2017\n",
      "2011 UK censuses\n",
      "Report for Selected Countries and Subjects – United Kingdom\n",
      "Gini coefficient of equivalised disposable income (source: SILC)\n",
      "2016 Human Development Report\n",
      "Toponymic guidelines for the United Kingdom\n",
      "Definition of Great Britain in English\n",
      "Queen takes over longest reign mantle after Thailand's King Bhumibol dies\n",
      "Countries within a country\n",
      "Devolution of powers to Scotland, Wales and Northern Ireland\n",
      "Fall in UK university students\n",
      "Country Overviews: United Kingdom\n",
      "Key facts about the United Kingdom\n",
      "Supporting the Overseas Territories\n",
      "Great+power\n",
      "IISS Military Balance 2017\n",
      "Treaty of Union, 1706\n",
      "After the political union of England and Scotland in 1707, the nation's official name became 'Great Britain'\n",
      "From 1707 until 1801 Great Britain was the official designation of the kingdoms of England and Scotland\n",
      "In 1707, on the union with Scotland, 'Great Britain' became the official name of the British Kingdom, and so continued until the union with Ireland in 1801\n",
      "History of Great Britain (from 1707)\n",
      "Changes in the list of subdivision names and code elements\n",
      "Statistical bulletin: Regional Labour Market Statistics\n",
      "13.4% Fall In Earnings Value During Recession\n",
      "Guardian Unlimited Style Guide\n",
      "BBC style guide (Great Britain)\n",
      "Key facts about the United Kingdom\n",
      "Merriam-Webster Dictionary Online Definition of ''Great Britain''\n",
      "Great Britain: England, Wales, and Scotland considered as a unit. The name is also often used loosely to refer to the United Kingdom.\n",
      "Great Britain\n",
      "Team GB Olympic name row still simmering in Northern Ireland\n",
      "Britain Meaning in the Cambridge English Dictionary\n",
      "Definition of Britain in English by Oxford Dictionaries\n",
      "Britain definition and meaning\n",
      "Britain - Definition for English-Language Learners\n",
      "Alphabetical checklist\n",
      "A to Z - Style guide\n",
      "Toponymic guidelines for the United Kingdom\n",
      "Countries within a country\n",
      "Which of these best describes the way you think of yourself?\n",
      "Ffeithiau allweddol am y Deyrnas Unedig\n",
      "Ancient skeleton was 'even older'\n",
      "Short Athelstan biography\n",
      "The Hundred Years' War\n",
      "British History in Depth – Wales under the Tudors\n",
      "English Civil Wars\n",
      "Scotland and the Commonwealth: 1651–1660\n",
      "Tudor Period and the Birth of a Regular Navy\n",
      "Articles of Union with Scotland 1707\n",
      "Acts of Union 1707\n",
      "Treaty (act) of Union 1706\n",
      "Anti-Slavery International\n",
      "The Act of Union\n",
      "The Workshop of the World\n",
      "The Anglo-Irish Treaty, 6 December 1921\n",
      "The Four Policemen and. Postwar Planning, 1943-1945: The Collision of Realist and. Idealist Perspectives\n",
      "The \n",
      " between Great Britain and the United States Began with FDR\n",
      "Remarks by the President Obama and Prime Minister Cameron in Joint Press Conference\n",
      "Britain to make its final payment on World War II loan from U.S.\n",
      "Country List\n",
      "The cultural superpower: British cultural projection abroad\n",
      "Cameron has chance to make UK great again\n",
      "1975: UK embraces Europe in referendum\n",
      "The UK's EU referendum: All you need to know\n",
      "The troubles were over, but the killing continued. Some of the heirs to Ireland's violent traditions refused to give up their inheritance.\n",
      "Reforging the Union: Devolution and Constitutional Change in the United Kingdom\n",
      "Military action alone will not save Libya\n",
      "United Kingdom country profile\n",
      "Scotland to hold independence poll in 2014 – Salmond\n",
      "In stunning decision, Britain votes to leave the E.U.\n",
      "Brexit Day recap: Article 50 officially triggered on historic day as Theresa May warns: 'No turning back'\n",
      "Theresa May officially starts Brexit process; Article 50 letter handed over\n",
      "British Isles: a geographical term for the islands comprising Great Britain and Ireland with all their offshore islands including the Isle of Man and the Channel Islands.\n",
      "United Kingdom\n",
      "United Kingdom – Atlapedia Online\n",
      "The Prime Meridian at Greenwich\n",
      "How long is the UK coastline?\n",
      "The Channel Tunnel\n",
      "England – Profile\n",
      "Scotland Facts\n",
      "The complete guide to the ... Scottish Islands\n",
      "Overview of Highland Boundary Fault\n",
      "Ben Nevis Weather\n",
      "Profile: Wales\n",
      "Geography of Northern Ireland\n",
      "UK climate summaries\n",
      "Atlantic Ocean Circulation (Gulf Stream)\n",
      "Ninth UN Conference on the standardization of Geographical Names\n",
      "Welcome to the national site of the Government Office Network\n",
      "A short history of London government\n",
      "Prescott's dream in tatters as North East rejects assembly\n",
      "Local Authority Elections\n",
      "STV in Scotland: Local Government Elections 2007\n",
      "Unitary authorities\n",
      "NI local government set for shake-up\n",
      "Foster announces the future shape of local government\n",
      "Background briefing on the Crown Dependencies: Jersey, Guernsey and the Isle of Man\n",
      "Overseas Territories\n",
      "The World Factbook\n",
      "Country profiles\n",
      "Partnership for Progress and Prosperity\n",
      "Bermudians vote to stay British\n",
      "Gibraltar referendum result in quotes\n",
      "Falklands: Cameron says Argentina should respect vote\n",
      "House of Commons – Crown Dependencies – Justice Committee\n",
      "Profile of Jersey\n",
      "Chief Minister to meet Channel Islands counterparts – Isle of Man Public Services\n",
      "A Guide To the UK Legal System\n",
      "Parliamentary sovereignty\n",
      "The Government, Prime Minister and Cabinet\n",
      "Brown is UK's new prime minister\n",
      "Elections and voting\n",
      "The Parliament Acts\n",
      "Crooked Margins and Marginal Seats\n",
      "Ideological Development in the UK\n",
      "Sinn Féin MP says party will always boycott Westminster, despite report\n",
      "Scots MPs attacked over fees vote\n",
      "Talking Politics: The West Lothian Question\n",
      "England-only laws 'need majority from English MPs'\n",
      "Scotland's Parliament – powers and structures\n",
      "Scotland Votes No\n",
      "Structure and powers of the Assembly\n",
      "Your Executive\n",
      "Unfinished Business: The Scotland Act 1998\n",
      "United Kingdom: Parliamentary sovereignty under pressure\n",
      "devolved matters\n",
      "Scotland, Northern Ireland, and Devolution, 1945–1979\n",
      "The Constitutional Revolution in the United Kingdom\n",
      "The Belfast Agreement—Its Distinctiveness and Points of Cross-Fertilization in the UK's Devolution Programme\n",
      "The Treaty (act) of the Union of Parliament 1706\n",
      "UK Supreme Court judges sworn in\n",
      "Constitutional reform: A Supreme Court for the United Kingdom\n",
      "Role of the JCPC\n",
      "The Australian courts and comparative law\n",
      "Court of Session – Introduction\n",
      "High Court of Justiciary – Introduction\n",
      "House of Lords – Practice Directions on Permission to Appeal\n",
      "Introduction\n",
      "Not proven: introducing a third verdict\n",
      "Crime in England and Wales, Year Ending June 2015\n",
      "UK prison population figures\n",
      "• England & Wales: Recorded homicides 2002–2015 – UK Statistics\n",
      "Sexual offences at highest levels since records began but overall crimes fall – UK – News – Daily Express\n",
      "Scottish homicide figures fall to another record low\n",
      "Barack Obama presidency will strengthen special relationship, says Gordon Brown\n",
      "DFID's expenditure on development assistance\n",
      "Ministry of Defence\n",
      "Speaker addresses Her Majesty Queen Elizabeth II\n",
      "House of Commons Hansard\n",
      "House of Commons Hansard Written Answers for 17 Jun 2013 (pt 0002)\n",
      "Trends in World Military Expenditure, 2016\n",
      "Principles for Economic Regulation\n",
      "Global reserves, dollar share up at end of 2007-IMF\n",
      "More About the Bank\n",
      "UK index of services: October 2017\n",
      "Global Financial Centres 7\n",
      "Worldwide Centres of Commerce Index 2008\n",
      "\n",
      "\n",
      "Global city GDP rankings 2008–2025\n",
      "UNWTO Tourism Highlights, Edition 2005\n",
      "Euromonitor International's Top City Destination Ranking\n",
      "From the Margins to the Mainstream – Government unveils new action plan for the creative industries\n",
      "European Countries – United Kingdom\n",
      "TUC Manufacturing Conference\n",
      "Motor Industry Facts 2016\n",
      "Britain's aerospace sector soars amid fears Brexit could clip its wings\n",
      "The Aerospace industry has thousands of jobs in peril\n",
      "The Pharmaceutical sector in the UK\n",
      "Ministerial Industry Strategy Group – Pharmaceutical Industry: Competitiveness and Performance Indicators\n",
      "Agriculture in the United Kingdom\n",
      "Coal | Mines & quarries | MineralsUK\n",
      "UK in recession as economy slides\n",
      "The AAA-rated club: which countries still make the grade?\n",
      "UK loses top AAA credit rating for first time since 1978\n",
      "UK employment rate hits highest level since records began\n",
      "UK has fastest-growing economy, International Monetary Fund says\n",
      "UK unemployment falls to 1.75 million\n",
      "Income inequality: poverty falling faster than ever but the 1% are racing ahead\n",
      "Gap between rich and poor growing fastest in Britain\n",
      "How poor is Britain now\n",
      "Report highlights 'bleak' poverty levels in the UK\n",
      "Dark money: London's dirty secret\n",
      "London is now the global money-laundering centre for the drug trade, says crime expert\n",
      "London property market turned into money laundering safe haven by inadequate supervision, MPs say\n",
      "UK draws billions in unrecorded inflows, much from Russia – study\n",
      "Russian money infects London\n",
      "David Cameron urged to act on Panama Papers as UK named 'at heart of super-rich tax-avoidance network'\n",
      "A reappraisal of the role of the universities in the Scientific Revolution\n",
      "The Nobel Prize in Physiology or Medicine 1945: Sir Alexander Fleming, Ernst B. Chain, Sir Howard Florey\n",
      "Alexander Graham Bell (1847–1922)\n",
      "John Logie Baird (1888–1946)\n",
      "Knowledge, networks and nations: scientific collaborations in the twenty-first century\n",
      "Is peer review broken?\n",
      "Heathrow 'needs a third runway'\n",
      "Statistics: Top 30 World airports\n",
      "Transport Statistics Great Britain: 2010\n",
      "Passenger Rail Usage 2015–16 Q3 Statistical Release\n",
      "Revealed: How the world gets rich – from privatising British public services\n",
      "High-speed rail's long journey\n",
      "Crossrail's giant tunnelling machines unveiled\n",
      "Crossrail delayed to save £1bn\n",
      "Size of Reporting Airports October 2009 – September 2010\n",
      "BMI being taken over by Lufthansa\n",
      "United Kingdom Energy Profile\n",
      "Let the battle begin over black gold\n",
      "RBA Says Currency Containing Prices, Rate Level 'Appropriate' in Near Term\n",
      "Nuclear Power in the United Kingdom\n",
      "Total Petroleum and Other Liquids Production, 2013\n",
      "United Kingdom Crude Oil Consumption by Year\n",
      "United Kingdom – Oil\n",
      "United Kingdom – Natural Gas\n",
      "United Kingdom – Quick Facts Energy Overview\n",
      "Coal Reserves in the United Kingdom\n",
      "England Expert predicts 'coal revolution'\n",
      "Fracking: Concerns over gas extraction regulations\n",
      "Quit fracking aboot\n",
      "Department of Energy and Climate Change: Annual tables: 'Digest of UK energy statistics' (DUKES) – Chapter 6: Renewable Sources of energy\n",
      "UK Renewable Energy Roadmap Crown copyright, July 2011\n",
      "BBC – Weather Centre – Climate Change – Wind Power\n",
      "RenewableUK – RenewableUK News – Electricity needs of more than a quarter of UK homes powered by wind in 2014\n",
      "WHO / UNICEF Joint Monitoring Programme: 404 error\n",
      "Environment Agency\n",
      "Census Geography\n",
      "2011 Census: Population Estimates for the United Kingdom\n",
      "Population Estimates for UK, England and Wales, Scotland and Northern Ireland, Mid-2015\n",
      "Annual Mid-year Population Estimates, 2010\n",
      "2011 UK censuses\n",
      "England is most crowded country in Europe\n",
      "Scotland's population at record high\n",
      "Vital Statistics: Population and Health Reference Tables (February 2014 Update): Annual Time Series Data\n",
      "The question: What's behind the baby boom?\n",
      "Sexual identity, UK: 2015 – Experimental Official Statistics on sexual identity in the UK in 2015 by region, sex, age, marital status, ethnicity and NS-SEC\n",
      "2011 Census - Built-up areas\n",
      "Welsh people could be most ancient in UK, DNA suggests\n",
      "Evidence for a segregated social structure in early Anglo-Saxon England\n",
      "Review of 'The Tribes of Britain'\n",
      "Myths of British ancestry\n",
      "Scientist – Griffin hijacked my work to make race claim about 'British aborigines'\n",
      "Victoria and Albert Museum Black Presence\n",
      "Bloody Foreigners: The Story of Immigration to Britain\n",
      "Culture and Ethnicity Differences in Liverpool – Chinese Community\n",
      "The demographic characteristics of immigrant populations\n",
      "Britain's visible minorities: a demographic overview\n",
      "Short History of Immigration\n",
      "Migration Flows of A8 and other EU Migrants to and from the UK\n",
      "Super-diversity and its implications\n",
      "Opinion: Super-diversity revealed\n",
      "Answer Formats in British Census and Survey Ethnicity Questions: Does Open Response Better Capture 'Superdiversity'?\n",
      "Negotiating race and ethnicity: Exploring the implications of the 1991 census\n",
      "Censuses, identity formation, and the struggle for political power\n",
      "2011 Census: Ethnic group, local authorities in the United Kingdom\n",
      "Population Size: 7.9% from a minority ethnic group\n",
      "Ethnicity and National Identity in England and Wales 2011\n",
      "Resident population estimates by ethnic group (percentages): London\n",
      "Resident population estimates by ethnic group (percentages): Leicester\n",
      "Census 2001 – Ethnicity and religion in England and Wales\n",
      "Britain's amazing technicolour dreamcoat\n",
      "Population size: 7.9% from a non-White ethnic group\n",
      "Table KS201SC – Ethnic group: All people\n",
      "Ethnic group\n",
      "Official EU languages\n",
      "Language Courses in New York\n",
      "English language – Government, citizens and rights\n",
      "Commonwealth Secretariat – UK\n",
      "Languages across Europe: United Kingdom\n",
      "Polish becomes England's second language\n",
      "European Charter for Regional or Minority Languages, Strasbourg, 5.XI.1992\n",
      "Framework Convention for the Protection of National Minorities, Strasbourg, 1.II.1995\n",
      "Welsh Language\n",
      "Differences in estimates of Welsh Language Skills\n",
      "Welsh today\n",
      "Scotland's Census 2001 – Gaelic Report\n",
      "Local UK languages 'taking off'\n",
      "Language Data – Scots\n",
      "Fall in compulsory language lessons\n",
      "The School Gate for parents in Wales\n",
      "British religion in numbers\n",
      "UK Census 2001\n",
      "Religious Populations\n",
      "United Kingdom: New Report Finds Only One in 10 Attend Church\n",
      "British Census: Islam Fastest-Growing Faith in England; Christians Drop to 59% of Population\n",
      "The percentage of the population with no religion has increased in England and Wales\n",
      "British Social Attitudes: Record number of Brits with no religion\n",
      "Queen and Church of England\n",
      "Queen and the Church\n",
      "How we are organised\n",
      "United Kingdom, a major transformation of the religious landscape\n",
      "Germans in Britain Since 1500\n",
      "East End Jews\n",
      "A summary history of immigration to Britain\n",
      "The Jews\n",
      "Short history of immigration\n",
      "A summary history of immigration to Britain\n",
      "Immigration, Population and Ethnicity: The UK in International Perspective\n",
      "Migration Statistics Quarterly Report May 2015\n",
      "Right of Union citizens and their family members to move and reside freely within the territory of the Member States\n",
      "Home Office shuts the door on Bulgaria and Romania\n",
      "Young, self-reliant, educated: portrait of UK's eastern European migrants\n",
      "Packing up for home: Poles hit by UK's economic downturn\n",
      "Migrants to UK 'returning home'\n",
      "UK sees shift in migration trend\n",
      "Migration Statistics Quarterly Report May 2012\n",
      "6.5% of the EU population are foreigners and 9.4% are born abroad\n",
      "Europe: Population and Migration in 2005\n",
      "Immigration and births to non-British mothers pushes British population to record high\n",
      "Birth Summary Tables, England and Wales, 2014\n",
      "Tories call for tougher control of immigration\n",
      "UK net migration rises 21%\n",
      "Naturalisation as a British Citizen: Concepts and Trends\n",
      "Settlement in the UK\n",
      "The 1901 Census\n",
      "summary history of immigration to Britain\n",
      "UK 2011 Census Data\n",
      "Non-UK Born Population of England and Wales Quadrupled Between 1951 and 2011\n",
      "2011 Census analysis: Immigration Patterns of Non-UK Born Populations in England and Wales in 2011\n",
      "Fresh Talent: Working in Scotland\n",
      "Tories begin consultation on cap for migrants\n",
      "Brits Abroad: Mapping the scale and nature of British emigration\n",
      "Brits Abroad: world overview\n",
      "5.5 m Britons 'opt to live abroad'\n",
      "Brits Abroad: Country-by-country\n",
      "The Most Educated Countries in the World\n",
      "And the World's Most Educated Country Is…\n",
      "Academic Ranking of World Universities 2015\n",
      "QS World University Rankings 2015/16\n",
      "World University Rankings 2015–16\n",
      "Best Global Universities Rankings 2016\n",
      "Elitist Britain?\n",
      "Elitism in Britain – breakdown by profession\n",
      "Local Authorities\n",
      "School leaving age\n",
      "England's pupils in global top 10\n",
      "Is Oxbridge still a preserve of the posh?\n",
      "Private school pupil numbers in decline\n",
      "Independent Schools Council Research :\n",
      "About SQA\n",
      "About Learning and Teaching Scotland\n",
      "Brain drain in reverse\n",
      "Facts and Figures\n",
      "MSPs vote to scrap endowment fee\n",
      "Education System\n",
      "About Us – What we do\n",
      "Measuring overall health system performance for 191 countries\n",
      "The NHS from Thatcher to Blair\n",
      "OECD Health Data 2012 – How Does the United Kingdom Compare\n",
      "'Huge contrasts' in devolved NHS\n",
      "NHS now four different systems\n",
      "BBC poll: Germany most popular country in the world\n",
      "World Service Global Poll: Negative views of Russia on the rise\n",
      "Bookish Britain overtakes America as top publisher\n",
      "William Shakespeare (English author)\n",
      "Mystery of Christie's success is solved\n",
      "Edinburgh, UK appointed first UNESCO City of Literature\n",
      "Early Welsh poetry\n",
      "Dafydd ap Gwilym\n",
      "Kate Roberts: Biography\n",
      "Bram Stoker\n",
      "1960–1969\n",
      "Paul At Fifty\n",
      "British Citizen by Act of Parliament: George Frideric Handel\n",
      "Handel all'inglese\n",
      "Beatles a big hit with downloads\n",
      "British rock legends get their own music title for PlayStation3 and PlayStation2\n",
      "Sir Elton John honoured in Ben and Jerry ice cream\n",
      "Rock group Led Zeppelin to reunite\n",
      "Floyd 'true to Barrett's legacy'\n",
      "Rolling Stones sign Universal album deal\n",
      "Jive talkin': Why Robin Gibb wants more respect for the Bee Gees\n",
      "Brit awards winners list 2012: every winner since 1977\n",
      "Adele, Coldplay biggest-selling UK artists worldwide in 2011\n",
      "A tale of two cities of culture: Liverpool vs Stavanger\n",
      "Glasgow gets city of music honour\n",
      "UK music single sales: genre breakdown 2016 | Statistic\n",
      "5 U.K. Rappers Primed to Take Over America in 2018\n",
      "Hip-Hop Is the Most-Streamed Genre on Spotify Globally, Up 74% Year Over Year\n",
      "All 50 Songs on SoundCloud's Top 50 Most Popular List Are Made by Rappers\n",
      "What the phonk? The genre that's gripping Generation Z\n",
      "How Music Has Impacted Generation Z\n",
      "Ready For The Weeknd: What Makes The Enigmatic R&B Star Tick - NME\n",
      "How R&B got its groove back\n",
      "The startling success of Tate Modern\n",
      "The top 21 British directors of all time\n",
      "Vertigo is named 'greatest film of all time'\n",
      "The Directors' Top Ten Directors\n",
      "Chaplin, Charles (1889–1977)\n",
      "Powell, Michael (1905–1990)\n",
      "Reed, Carol (1906–1976)\n",
      "Wright, Edgar (1974–)\n",
      "Nolan, Christopher (1970–)\n",
      "Scott, Sir Ridley (1937–)\n",
      "Andrews, Julie (1935–)\n",
      "Burton, Richard (1925–1984)\n",
      "Caine, Michael (1933–)\n",
      "Firth, Colin (1960–)\n",
      "Oldman, Gary (1958–)\n",
      "Kingsley, Ben (1942–)\n",
      "McKellen, Ian (1939–)\n",
      "Neeson, Liam (1952–)\n",
      "Chaplin, Charles (1889–1977)\n",
      "Connery, Sean (1930–)\n",
      "Leigh, Vivien (1913–1967)\n",
      "Niven, David (1910–1983)\n",
      "Olivier, Laurence (1907–1989)\n",
      "Sellers, Peter (1925–1980)\n",
      "Winslet, Kate (1975–)\n",
      "Anthony Hopkins\n",
      "Daniel Day-Lewis makes Oscar history with third award\n",
      "Harry Potter becomes highest-grossing film franchise\n",
      "History of Ealing Studios\n",
      "UK film – the vital statistics\n",
      "The BFI 100\n",
      "Baftas fuel Oscars race\n",
      "Robin Cook's chicken tikka masala speech\n",
      "Robin Cook's chicken tikka masala speech\n",
      "Chicken tikka masala: Spice and easy does it\n",
      "BBC: World's largest broadcaster & Most trusted media brand\n",
      "Digital license\n",
      "About the BBC – What is the BBC\n",
      "BBC: World's largest broadcaster & Most trusted media brand\n",
      "TV Licence Fee: facts & figures\n",
      "Publications & Policies: The History of ITV\n",
      "Publishing\n",
      "Direct Broadcast Satellite Television\n",
      "Publishing\n",
      "Communication Market Report 2010\n",
      "Social Trends 41: Lifestyles and social participation\n",
      "Top 20 countries with the highest number of Internet users\n",
      "Los Angeles to build world's most expensive stadium complex\n",
      "Opening ceremony of the games of the XXX Olympiad\n",
      "Unparalleled Sporting History\n",
      "Rugby Union 'Britain's Second Most Popular Sport'\n",
      "The father of football deserves much more\n",
      "Sheffield FC: 150 years of history\n",
      "History and time are key to power of football, says Premier League chief\n",
      "The first international football match\n",
      "Why is there no GB Olympics football team?\n",
      "Six ways the town of Rugby helped change the world\n",
      "Projectile Dynamics in Sport: Principles and Applications\n",
      "About ECB\n",
      "Howzat happen? England fields a Gaelic-speaking Scotsman in Ashes\n",
      "Uncapped Joyce wins Ashes call up\n",
      "Glamorgan\n",
      "125 years of Wimbledon: From birth of lawn tennis to modern marvels\n",
      "The History of British Motorsport and Motor Racing at Silverstone – The 1950s\n",
      "Routing the Golf Course: The Art & Science That Forms the Golf Journey\n",
      "Tracking the Field\n",
      "Links plays into the record books\n",
      "The Open Championship – More Scottish than British\n",
      "Official Website of Rugby League World Cup 2008\n",
      "100 years of rugby league: From the great divide to the Super era\n",
      "China in Ding's hands\n",
      "The ancient Irish sport of hurling catches on in America\n",
      "Shinty\n",
      "Sport in Scotland\n",
      "Welsh dragon call for Union flag\n",
      "Britannia on British Coins\n",
      "United Kingdom\n",
      "https://en.wikipedia.org/w/index.php?title=United_Kingdom&oldid=855522252\n"
=======
      "United Kingdom\n"
>>>>>>> aa71ef9da4bea10ed948c12f063a94007ff62c77
     ]
    }
   ],
   "source": [
<<<<<<< HEAD
    "print(*articleString.split(sep = '\"')[1:-1:2], sep = '\\n')"
=======
    "print(*articleString.split(sep = '\"')[1:-1:2][:10], sep = '\\n')"
>>>>>>> aa71ef9da4bea10ed948c12f063a94007ff62c77
   ]
  },
  {
   "cell_type": "markdown",
   "metadata": {
    "colab_type": "text",
    "id": "KF-hEP8xmReY"
   },
   "source": [
    "## Dictionaries\n",
    "\n",
    "Dictionaries are another form of collection. The dictionary takes some \"key\" and outputs a \"value\". Simple!"
   ]
  },
  {
   "cell_type": "code",
<<<<<<< HEAD
   "execution_count": 0,
   "metadata": {
    "colab": {},
    "colab_type": "code",
    "collapsed": true,
=======
   "execution_count": null,
   "metadata": {
    "colab": {},
    "colab_type": "code",
>>>>>>> aa71ef9da4bea10ed948c12f063a94007ff62c77
    "id": "yLITuSBfZ57c"
   },
   "outputs": [],
   "source": [
    "dictionary = {\n",
    "    'a' : 'A',        # 'a' is a key, 'A' is a value\n",
    "    'b' : 'B'\n",
    "}"
   ]
  },
  {
   "cell_type": "code",
<<<<<<< HEAD
   "execution_count": 0,
   "metadata": {
    "colab": {},
    "colab_type": "code",
    "collapsed": true,
=======
   "execution_count": null,
   "metadata": {
    "colab": {},
    "colab_type": "code",
>>>>>>> aa71ef9da4bea10ed948c12f063a94007ff62c77
    "id": "-tS-f66kZ7UF"
   },
   "outputs": [],
   "source": [
    "dictionary['b']"
   ]
  },
  {
   "cell_type": "markdown",
   "metadata": {
    "colab_type": "text",
    "id": "taIJoBvfn7i6"
   },
   "source": [
    "You can use them to keep similar variables together"
   ]
  },
  {
   "cell_type": "code",
<<<<<<< HEAD
   "execution_count": 0,
   "metadata": {
    "colab": {},
    "colab_type": "code",
    "collapsed": true,
=======
   "execution_count": null,
   "metadata": {
    "colab": {},
    "colab_type": "code",
>>>>>>> aa71ef9da4bea10ed948c12f063a94007ff62c77
    "id": "EKX3pklWoDMN"
   },
   "outputs": [],
   "source": [
    "headsOfHouses = {\n",
    "  \"All Souls\": \"Warden John Vickers\",\n",
    "  \"Balliol\": \"Master Helen Ghosh\",\n",
    "  \"Brasenose\": \"Principal John Bowers\",\n",
    "  \"Christ Church\": \"Dean Martyn Percy\",\n",
    "  \"Corpus Christi\": \"President Steven Cowley\",\n",
    "  \"Exeter\": \"Rector Rick Trainor\",\n",
    "  \"Green Templeton\": \"Principal Denise Lievesley\",\n",
    "  \"Harris Manchester\": \"Principal Ralph Waller\",\n",
    "  \"Hertford\": \"Principal Will Hutton\",\n",
    "  \"Jesus College\": \"Principal Nigel Shadbolt\",\n",
    "  \"Keble\": \"Warden Jonathan Phillips\",\n",
    "  \"Kellogg\": \"President Jonathan Michie\",\n",
    "  \"Lady Margaret Hall\": \"Principal Alan Rusbridger\",\n",
    "  \"Linacre\": \"Principal Nick Brown\",\n",
    "  \"Lincoln\": \"Rector Henry Woudhuysen\",\n",
    "  \"Magdalen\": \"President David Clary\",\n",
    "  \"Mansfield\": \"Principal Helena Kennedy, Baroness Kennedy of The Shaws\",\n",
    "  \"Merton\": \"Warden Martin J. Taylor\",\n",
    "  \"New College\": \"Warden Miles Young\",\n",
    "  \"Nuffield\": \"Warden Andrew Dilnot\",\n",
    "  \"Oriel\": \"Provost Moira Wallace\",\n",
    "  \"Pembroke\": \"Master Lynne Brindley\",\n",
    "  \"Queen's\": \"Provost Paul Madden\",\n",
    "  \"St Anne's\": \"Principal Helen King\",\n",
    "  \"St Antony's\": \"Warden Roger Goodman\",\n",
    "  \"St Catherine's\": \"Master Roger Ainsworth\",\n",
    "  \"St Cross\": \"Master Carole Souter\",\n",
    "  \"St Edmund Hall\": \"Principal Keith Gull\",\n",
    "  \"St Hilda's\": \"Principal Gordon Duff\",\n",
    "  \"St Hugh's\": \"Principal Elish Angiolini\",\n",
    "  \"St John's\": \"President Margaret Snowling\",\n",
    "  \"St Peter's\": \"Master Mark Damazer\",\n",
    "  \"Somerville\": \"Principal Janet Royall, Baroness Royall of Blaisdon\",\n",
    "  \"Trinity\": \"President Hilary Boulding\",\n",
    "  \"University\": \"Master Ivor Crewe\",\n",
    "  \"Wadham\": \"Warden Ken Macdonald, Lord Macdonald of River Glaven\",\n",
    "  \"Wolfson\": \"President Tim Hitchens\",\n",
    "  \"Worcester\": \"Provost Sir Jonathan Bate\"\n",
    "}"
   ]
  },
  {
   "cell_type": "code",
<<<<<<< HEAD
   "execution_count": 0,
   "metadata": {
    "colab": {},
    "colab_type": "code",
    "collapsed": true,
=======
   "execution_count": null,
   "metadata": {
    "colab": {},
    "colab_type": "code",
>>>>>>> aa71ef9da4bea10ed948c12f063a94007ff62c77
    "id": "CZCNK7fKol-6"
   },
   "outputs": [],
   "source": [
    "# Lookup your college with headsOfHouses !\n",
    "\n",
    "headsOfHouses[your_college_here]"
   ]
  },
  {
   "cell_type": "markdown",
   "metadata": {
    "colab_type": "text",
    "id": "7VYrdqzdr8vd"
   },
   "source": [
    "Keep in mind that dictionaries can only have one \"value\" for every \"key\"\n",
    "\n",
    "![This is not allowed](https://en.wikipedia.org/wiki/Function_(mathematics)#/media/File:Injection_keine_Injektion_1.svg)\n",
    "\n",
    "![This certainly is!](https://en.wikipedia.org/wiki/Surjective_function#/media/File:Surjection.svg)"
   ]
  },
  {
<<<<<<< HEAD
   "cell_type": "markdown",
=======
   "cell_type": "code",
   "execution_count": null,
>>>>>>> aa71ef9da4bea10ed948c12f063a94007ff62c77
   "metadata": {
    "colab": {},
    "colab_type": "code",
    "id": "n4mUnMQ2o4Nd"
   },
<<<<<<< HEAD
   "source": [
    "<img src = ./Image1.png>"
   ]
  },
  {
   "cell_type": "code",
   "execution_count": 18,
=======
   "outputs": [],
   "source": []
  },
  {
   "cell_type": "code",
   "execution_count": null,
>>>>>>> aa71ef9da4bea10ed948c12f063a94007ff62c77
   "metadata": {
    "colab": {
     "base_uri": "https://localhost:8080/",
     "height": 34
    },
    "colab_type": "code",
<<<<<<< HEAD
    "collapsed": false,
=======
>>>>>>> aa71ef9da4bea10ed948c12f063a94007ff62c77
    "executionInfo": {
     "elapsed": 363,
     "status": "ok",
     "timestamp": 1534689892433,
     "user": {
      "displayName": "William Hartemink",
      "photoUrl": "https://lh3.googleusercontent.com/a/default-user=s128",
      "userId": "117653304702534641755"
     },
     "user_tz": 240
    },
    "id": "HP_Oxuk6pUt1",
    "outputId": "aee4b3f4-d380-4ea5-9174-b3c694dec0dd"
   },
<<<<<<< HEAD
   "outputs": [
    {
     "data": {
      "text/plain": [
       "(38, 4)"
      ]
     },
     "execution_count": 18,
     "metadata": {
      "tags": []
     },
     "output_type": "execute_result"
    }
   ],
=======
   "outputs": [],
>>>>>>> aa71ef9da4bea10ed948c12f063a94007ff62c77
   "source": []
  },
  {
   "cell_type": "code",
<<<<<<< HEAD
   "execution_count": 0,
   "metadata": {
    "colab": {},
    "colab_type": "code",
    "collapsed": true,
=======
   "execution_count": null,
   "metadata": {
    "colab": {},
    "colab_type": "code",
>>>>>>> aa71ef9da4bea10ed948c12f063a94007ff62c77
    "id": "bMH6RfMfpVaB"
   },
   "outputs": [],
   "source": []
  },
  {
   "cell_type": "code",
<<<<<<< HEAD
   "execution_count": 21,
=======
   "execution_count": null,
>>>>>>> aa71ef9da4bea10ed948c12f063a94007ff62c77
   "metadata": {
    "colab": {
     "base_uri": "https://localhost:8080/",
     "height": 34
    },
    "colab_type": "code",
<<<<<<< HEAD
    "collapsed": false,
=======
>>>>>>> aa71ef9da4bea10ed948c12f063a94007ff62c77
    "executionInfo": {
     "elapsed": 527,
     "status": "ok",
     "timestamp": 1534690793875,
     "user": {
      "displayName": "William Hartemink",
      "photoUrl": "https://lh3.googleusercontent.com/a/default-user=s128",
      "userId": "117653304702534641755"
     },
     "user_tz": 240
    },
    "id": "WNRbFjnWpXiz",
    "outputId": "b19bb9f2-f72f-4371-9bc3-69cdde2ef3c9"
   },
<<<<<<< HEAD
   "outputs": [
    {
     "data": {
      "text/plain": [
       "(38, 4)"
      ]
     },
     "execution_count": 21,
     "metadata": {
      "tags": []
     },
     "output_type": "execute_result"
    }
   ],
=======
   "outputs": [],
>>>>>>> aa71ef9da4bea10ed948c12f063a94007ff62c77
   "source": []
  },
  {
   "cell_type": "code",
<<<<<<< HEAD
   "execution_count": 0,
   "metadata": {
    "colab": {},
    "colab_type": "code",
    "collapsed": true,
=======
   "execution_count": null,
   "metadata": {
    "colab": {},
    "colab_type": "code",
>>>>>>> aa71ef9da4bea10ed948c12f063a94007ff62c77
    "id": "aRMgW47FpcOE"
   },
   "outputs": [],
   "source": []
<<<<<<< HEAD
=======
  },
  {
   "cell_type": "code",
   "execution_count": null,
   "metadata": {},
   "outputs": [],
   "source": []
  },
  {
   "cell_type": "code",
   "execution_count": null,
   "metadata": {},
   "outputs": [],
   "source": []
>>>>>>> aa71ef9da4bea10ed948c12f063a94007ff62c77
  }
 ],
 "metadata": {
  "colab": {
   "collapsed_sections": [],
   "name": "Week 2 Quarter 1.ipynb",
   "provenance": [],
   "version": "0.3.2"
  },
  "kernelspec": {
   "display_name": "Python 3",
   "language": "python",
   "name": "python3"
  },
  "language_info": {
   "codemirror_mode": {
    "name": "ipython",
    "version": 3
   },
   "file_extension": ".py",
   "mimetype": "text/x-python",
   "name": "python",
   "nbconvert_exporter": "python",
   "pygments_lexer": "ipython3",
<<<<<<< HEAD
   "version": "3.5.1"
  }
 },
 "nbformat": 4,
 "nbformat_minor": 0
=======
   "version": "3.6.5"
  }
 },
 "nbformat": 4,
 "nbformat_minor": 1
>>>>>>> aa71ef9da4bea10ed948c12f063a94007ff62c77
}
