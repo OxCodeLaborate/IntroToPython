{
 "cells": [
  {
   "cell_type": "code",
   "execution_count": null,
   "metadata": {
    "colab": {},
    "colab_type": "code",
    "id": "mhc1QmDII9u5"
   },
   "outputs": [],
   "source": []
  },
  {
   "cell_type": "markdown",
   "metadata": {
    "colab_type": "text",
    "id": "y0Liml1RRKay"
   },
   "source": [
    "# What Are Collections? \n",
    "### Not the ones that stress you out at the start of term!\n",
    "\n",
    "Collections are groups of other objects, such as ints or strings. They help you keep your code and/or data organized."
   ]
  },
  {
   "cell_type": "markdown",
   "metadata": {
    "colab_type": "text",
    "id": "U6upe3ixUOxr"
   },
   "source": [
    "First example we'll use is called a list."
   ]
  },
  {
   "cell_type": "markdown",
   "metadata": {},
   "source": [
    "## Creating a list\n",
    "\n",
    "listName = [\"First Member\", \"Second Member\", ... , \"Last Member\"]"
   ]
  },
  {
   "cell_type": "code",
   "execution_count": 2,
   "metadata": {
    "colab": {},
    "colab_type": "code",
    "id": "2r60iwBURLb1"
   },
   "outputs": [],
   "source": [
    "alphabet = ['a','b','c','d','e']\n"
   ]
  },
  {
   "cell_type": "markdown",
   "metadata": {
    "colab": {},
    "colab_type": "code",
    "id": "bxp7CZYJUZoK"
   },
   "source": [
    "Each member of the list, is called an \"element\"\n",
    "\n",
    "You can find the length of the list"
   ]
  },
  {
   "cell_type": "code",
   "execution_count": 3,
   "metadata": {},
   "outputs": [
    {
     "data": {
      "text/plain": [
       "5"
      ]
     },
     "execution_count": 3,
     "metadata": {},
     "output_type": "execute_result"
    }
   ],
   "source": [
    "len(alphabet)"
   ]
  },
  {
   "cell_type": "markdown",
   "metadata": {},
   "source": [
    "obviously that's not the whole alphabet :PP"
   ]
  },
  {
   "cell_type": "markdown",
   "metadata": {
    "colab_type": "text",
    "id": "WROtZ59-UboT"
   },
   "source": [
    "## Indexing a list\n",
    "Just like strings, you can index them! (And of course, 0 is the first element)"
   ]
  },
  {
   "cell_type": "code",
   "execution_count": 4,
   "metadata": {
    "colab": {
     "base_uri": "https://localhost:8080/",
     "height": 34
    },
    "colab_type": "code",
    "executionInfo": {
     "elapsed": 503,
     "status": "ok",
     "timestamp": 1534551169777,
     "user": {
      "displayName": "William Hartemink",
      "photoUrl": "https://lh3.googleusercontent.com/a/default-user=s128",
      "userId": "117653304702534641755"
     },
     "user_tz": 240
    },
    "id": "HTmOOH1HUdUW",
    "outputId": "3d80a300-1c6e-4c56-b729-6fe1ce83527d"
   },
   "outputs": [
    {
     "data": {
      "text/plain": [
       "'b'"
      ]
     },
     "execution_count": 4,
     "metadata": {},
     "output_type": "execute_result"
    }
   ],
   "source": [
    "alphabet[1]"
   ]
  },
  {
   "cell_type": "markdown",
   "metadata": {
    "colab_type": "text",
    "id": "ggmm1EmTUnPh"
   },
   "source": [
    "Slice em!"
   ]
  },
  {
   "cell_type": "code",
   "execution_count": 5,
   "metadata": {
    "colab": {
     "base_uri": "https://localhost:8080/",
     "height": 34
    },
    "colab_type": "code",
    "executionInfo": {
     "elapsed": 318,
     "status": "ok",
     "timestamp": 1534551170151,
     "user": {
      "displayName": "William Hartemink",
      "photoUrl": "https://lh3.googleusercontent.com/a/default-user=s128",
      "userId": "117653304702534641755"
     },
     "user_tz": 240
    },
    "id": "tdFzE0X9Ueb9",
    "outputId": "7529278b-a774-4838-ff44-b80cb1b44364"
   },
   "outputs": [
    {
     "data": {
      "text/plain": [
       "['c', 'd']"
      ]
     },
     "execution_count": 5,
     "metadata": {},
     "output_type": "execute_result"
    }
   ],
   "source": [
    "alphabet[2:4]"
   ]
  },
  {
   "cell_type": "markdown",
   "metadata": {
    "colab_type": "text",
    "id": "UnnEA-DuUsU8"
   },
   "source": [
    "and reverse!"
   ]
  },
  {
   "cell_type": "code",
   "execution_count": 6,
   "metadata": {
    "colab": {
     "base_uri": "https://localhost:8080/",
     "height": 34
    },
    "colab_type": "code",
    "executionInfo": {
     "elapsed": 310,
     "status": "ok",
     "timestamp": 1534551170584,
     "user": {
      "displayName": "William Hartemink",
      "photoUrl": "https://lh3.googleusercontent.com/a/default-user=s128",
      "userId": "117653304702534641755"
     },
     "user_tz": 240
    },
    "id": "wpVUq_4mUpoN",
    "outputId": "d883206d-c3fa-4811-8622-7d4ed5a391a2"
   },
   "outputs": [
    {
     "data": {
      "text/plain": [
       "['e', 'd', 'c', 'b', 'a']"
      ]
     },
     "execution_count": 6,
     "metadata": {},
     "output_type": "execute_result"
    }
   ],
   "source": [
    "alphabet[::-1]"
   ]
  },
  {
   "cell_type": "markdown",
   "metadata": {
    "colab_type": "text",
    "id": "uUNE9qSgX_DT"
   },
   "source": [
    "You can also set an element of a list by index"
   ]
  },
  {
   "cell_type": "code",
   "execution_count": 9,
   "metadata": {
    "colab": {},
    "colab_type": "code",
    "id": "YbDNSzOCUvHa"
   },
   "outputs": [
    {
     "ename": "TypeError",
     "evalue": "'str' object does not support item assignment",
     "output_type": "error",
     "traceback": [
      "\u001b[0;31m---------------------------------------------------------------------------\u001b[0m",
      "\u001b[0;31mTypeError\u001b[0m                                 Traceback (most recent call last)",
      "\u001b[0;32m<ipython-input-9-64e4826a50b3>\u001b[0m in \u001b[0;36m<module>\u001b[0;34m()\u001b[0m\n\u001b[1;32m      2\u001b[0m \u001b[0malphabet\u001b[0m\u001b[0;34m\u001b[0m\u001b[0m\n\u001b[1;32m      3\u001b[0m \u001b[0mstring\u001b[0m \u001b[0;34m=\u001b[0m \u001b[0;34m'hi'\u001b[0m\u001b[0;34m\u001b[0m\u001b[0m\n\u001b[0;32m----> 4\u001b[0;31m \u001b[0mstring\u001b[0m\u001b[0;34m[\u001b[0m\u001b[0;36m0\u001b[0m\u001b[0;34m]\u001b[0m \u001b[0;34m=\u001b[0m \u001b[0;34m'x'\u001b[0m\u001b[0;34m\u001b[0m\u001b[0m\n\u001b[0m",
      "\u001b[0;31mTypeError\u001b[0m: 'str' object does not support item assignment"
     ]
    }
   ],
   "source": [
    "alphabet[0] = \"This is replacing the letter 'a'\"\n",
    "alphabet\n",
    "string = 'hi'\n",
    "string[0] = 'x'"
   ]
  },
  {
   "cell_type": "markdown",
   "metadata": {
    "colab_type": "text",
    "id": "A8JedaeqU3cM"
   },
   "source": [
    "## List methods\n",
    "\n",
    "Here's also a couple extra methods you'll find handy!\n",
    "\n",
    "### Appending to a list (adding to the end)"
   ]
  },
  {
   "cell_type": "code",
   "execution_count": 10,
   "metadata": {
    "colab": {},
    "colab_type": "code",
    "id": "TQfpN9fCU_qT"
   },
   "outputs": [],
   "source": [
    "alphabet.append('appended string')"
   ]
  },
  {
   "cell_type": "code",
   "execution_count": 11,
   "metadata": {
    "colab": {
     "base_uri": "https://localhost:8080/",
     "height": 34
    },
    "colab_type": "code",
    "executionInfo": {
     "elapsed": 322,
     "status": "ok",
     "timestamp": 1534550368570,
     "user": {
      "displayName": "William Hartemink",
      "photoUrl": "https://lh3.googleusercontent.com/a/default-user=s128",
      "userId": "117653304702534641755"
     },
     "user_tz": 240
    },
    "id": "Fcgzc084VFT8",
    "outputId": "d206f485-5ad2-4d37-e463-4a00cf60c5a9"
   },
   "outputs": [
    {
     "data": {
      "text/plain": [
       "[\"This is replacing the letter 'a'\", 'b', 'c', 'd', 'e', 'appended string']"
      ]
     },
     "execution_count": 11,
     "metadata": {},
     "output_type": "execute_result"
    }
   ],
   "source": [
    "alphabet"
   ]
  },
  {
   "cell_type": "code",
   "execution_count": 12,
   "metadata": {
    "colab": {
     "base_uri": "https://localhost:8080/",
     "height": 34
    },
    "colab_type": "code",
    "executionInfo": {
     "elapsed": 325,
     "status": "ok",
     "timestamp": 1534550385592,
     "user": {
      "displayName": "William Hartemink",
      "photoUrl": "https://lh3.googleusercontent.com/a/default-user=s128",
      "userId": "117653304702534641755"
     },
     "user_tz": 240
    },
    "id": "s7DZkFewVF-p",
    "outputId": "781677e5-0351-443c-896a-636b52521f38"
   },
   "outputs": [
    {
     "data": {
      "text/plain": [
       "[\"This is replacing the letter 'a'\", 'b', 'c', 'd', 'e', 'appended string', 5]"
      ]
     },
     "execution_count": 12,
     "metadata": {},
     "output_type": "execute_result"
    }
   ],
   "source": [
    "# Can I put ints in there?\n",
    "alphabet.append(5)\n",
    "alphabet"
   ]
  },
  {
   "cell_type": "code",
   "execution_count": 13,
   "metadata": {
    "colab": {
     "base_uri": "https://localhost:8080/",
     "height": 34
    },
    "colab_type": "code",
    "executionInfo": {
     "elapsed": 542,
     "status": "ok",
     "timestamp": 1534550407957,
     "user": {
      "displayName": "William Hartemink",
      "photoUrl": "https://lh3.googleusercontent.com/a/default-user=s128",
      "userId": "117653304702534641755"
     },
     "user_tz": 240
    },
    "id": "uR-3vx7zVIVX",
    "outputId": "5f13f792-b995-49d1-e871-11f2c2b63798"
   },
   "outputs": [
    {
     "data": {
      "text/plain": [
       "[\"This is replacing the letter 'a'\",\n",
       " 'b',\n",
       " 'c',\n",
       " 'd',\n",
       " 'e',\n",
       " 'appended string',\n",
       " 5,\n",
       " 10.56]"
      ]
     },
     "execution_count": 13,
     "metadata": {},
     "output_type": "execute_result"
    }
   ],
   "source": [
    "# Can I put floats in there?\n",
    "alphabet.append(10.56)\n",
    "alphabet"
   ]
  },
  {
   "cell_type": "markdown",
   "metadata": {},
   "source": [
    "### Appending a list to another list ????"
   ]
  },
  {
   "cell_type": "code",
   "execution_count": 14,
   "metadata": {
    "colab": {
     "base_uri": "https://localhost:8080/",
     "height": 34
    },
    "colab_type": "code",
    "executionInfo": {
     "elapsed": 320,
     "status": "ok",
     "timestamp": 1534550425456,
     "user": {
      "displayName": "William Hartemink",
      "photoUrl": "https://lh3.googleusercontent.com/a/default-user=s128",
      "userId": "117653304702534641755"
     },
     "user_tz": 240
    },
    "id": "FtisfmH4VO1v",
    "outputId": "2b8fe20d-80ee-4500-e941-77ebc2c3bd67"
   },
   "outputs": [
    {
     "data": {
      "text/plain": [
       "[\"This is replacing the letter 'a'\",\n",
       " 'b',\n",
       " 'c',\n",
       " 'd',\n",
       " 'e',\n",
       " 'appended string',\n",
       " 5,\n",
       " 10.56,\n",
       " [1, 2, 3]]"
      ]
     },
     "execution_count": 14,
     "metadata": {},
     "output_type": "execute_result"
    }
   ],
   "source": [
    "# Can I put other lists in there?\n",
    "alphabet.append([1, 2, 3])\n",
    "alphabet"
   ]
  },
  {
   "cell_type": "markdown",
   "metadata": {},
   "source": [
    "Notice that above, the list is _inside_ the other list.\n",
    "\n",
    "We can access it like this!"
   ]
  },
  {
   "cell_type": "code",
   "execution_count": 15,
   "metadata": {},
   "outputs": [
    {
     "data": {
      "text/plain": [
       "[1, 2, 3]"
      ]
     },
     "execution_count": 15,
     "metadata": {},
     "output_type": "execute_result"
    }
   ],
   "source": [
    "alphabet[-1]"
   ]
  },
  {
   "cell_type": "code",
   "execution_count": 16,
   "metadata": {},
   "outputs": [
    {
     "data": {
      "text/plain": [
       "1"
      ]
     },
     "execution_count": 16,
     "metadata": {},
     "output_type": "execute_result"
    }
   ],
   "source": [
    "alphabet[-1][0]"
   ]
  },
  {
   "cell_type": "markdown",
   "metadata": {},
   "source": [
    "### List Concatenation!!\n",
    "\n",
    "But what if we want to join the two lists togther ? How do we do that ? \n",
    "\n",
    "\n",
    "Say, for instance: My friend and I each have separate shopping lists, but I need to shop for both of us, can I merge the two shopping lists together ? "
   ]
  },
  {
   "cell_type": "code",
   "execution_count": 17,
   "metadata": {},
   "outputs": [],
   "source": [
    "myShoppingList = [\"Eggs\", \"Bread\", \"Heinz Baked Beans\"] # (not sponsored)\n",
    "friendsShoppingList = [\"Bacon\", \"Meatzza\", \"Ham\"]       # Why does my friend only eat meat? We will never know ..."
   ]
  },
  {
   "cell_type": "markdown",
   "metadata": {},
   "source": [
    "First let's have a look at both lists!"
   ]
  },
  {
   "cell_type": "code",
   "execution_count": 18,
   "metadata": {},
   "outputs": [
    {
     "data": {
      "text/plain": [
       "['Eggs', 'Bread', 'Heinz Baked Beans']"
      ]
     },
     "execution_count": 18,
     "metadata": {},
     "output_type": "execute_result"
    }
   ],
   "source": [
    "myShoppingList"
   ]
  },
  {
   "cell_type": "code",
   "execution_count": 19,
   "metadata": {},
   "outputs": [
    {
     "data": {
      "text/plain": [
       "['Bacon', 'Meatzza', 'Ham']"
      ]
     },
     "execution_count": 19,
     "metadata": {},
     "output_type": "execute_result"
    }
   ],
   "source": [
    "friendsShoppingList"
   ]
  },
  {
   "cell_type": "markdown",
   "metadata": {},
   "source": [
    "'add' them together!"
   ]
  },
  {
   "cell_type": "code",
   "execution_count": 23,
   "metadata": {},
   "outputs": [
    {
     "data": {
      "text/plain": [
       "['Eggs', 'Bread', 'Heinz Baked Beans', 'Bacon', 'Meatzza', 'Ham']"
      ]
     },
     "execution_count": 23,
     "metadata": {},
     "output_type": "execute_result"
    }
   ],
   "source": [
    "myShoppingList + friendsShoppingList"
   ]
  },
  {
   "cell_type": "markdown",
   "metadata": {},
   "source": [
    "Objective complete!! We call this type of addition \"List concatenation.\" And if you remember from last week, we concatenate strings with the same syntax:"
   ]
  },
  {
   "cell_type": "code",
   "execution_count": 21,
   "metadata": {},
   "outputs": [
    {
     "data": {
      "text/plain": [
       "'Hello World'"
      ]
     },
     "execution_count": 21,
     "metadata": {},
     "output_type": "execute_result"
    }
   ],
   "source": [
    "\"Hello \" + \"World\""
   ]
  },
  {
   "cell_type": "markdown",
   "metadata": {},
   "source": [
    "## Getting Variable Assignment Just Right\n",
    "\n",
    "Back to the shopping list. Why hasn't my shopping list changed?"
   ]
  },
  {
   "cell_type": "code",
   "execution_count": 24,
   "metadata": {},
   "outputs": [
    {
     "data": {
      "text/plain": [
       "['Eggs', 'Bread', 'Heinz Baked Beans']"
      ]
     },
     "execution_count": 24,
     "metadata": {},
     "output_type": "execute_result"
    }
   ],
   "source": [
    "myShoppingList"
   ]
  },
  {
   "cell_type": "markdown",
   "metadata": {},
   "source": [
    "Ans: I asked Python to add the lists together, but didn't ask Python to store the result anywhere. I can store the result using variable assignment"
   ]
  },
  {
   "cell_type": "code",
   "execution_count": 25,
   "metadata": {},
   "outputs": [],
   "source": [
    "myShoppingList = myShoppingList + friendsShoppingList"
   ]
  },
  {
   "cell_type": "code",
   "execution_count": 26,
   "metadata": {},
   "outputs": [
    {
     "data": {
      "text/plain": [
       "['Eggs', 'Bread', 'Heinz Baked Beans', 'Bacon', 'Meatzza', 'Ham']"
      ]
     },
     "execution_count": 26,
     "metadata": {},
     "output_type": "execute_result"
    }
   ],
   "source": [
    "myShoppingList"
   ]
  },
  {
   "cell_type": "markdown",
   "metadata": {},
   "source": [
    "## A note about list.append() and variable assignment"
   ]
  },
  {
   "cell_type": "code",
   "execution_count": 27,
   "metadata": {},
   "outputs": [],
   "source": [
    "myShoppingList.append(\"Snacks for CodeSoc!\")"
   ]
  },
  {
   "cell_type": "markdown",
   "metadata": {},
   "source": [
    "Notice how the above doesn't return anything? You run the code, but myShoppingList isn't automatically printed to the screen!\n",
    "\n",
    "Let's see what myShoppingList looks like now:"
   ]
  },
  {
   "cell_type": "code",
   "execution_count": 28,
   "metadata": {},
   "outputs": [
    {
     "data": {
      "text/plain": [
       "['Eggs',\n",
       " 'Bread',\n",
       " 'Heinz Baked Beans',\n",
       " 'Bacon',\n",
       " 'Meatzza',\n",
       " 'Ham',\n",
       " 'Snacks for CodeSoc!']"
      ]
     },
     "execution_count": 28,
     "metadata": {},
     "output_type": "execute_result"
    }
   ],
   "source": [
    "myShoppingList"
   ]
  },
  {
   "cell_type": "markdown",
   "metadata": {},
   "source": [
    "### So it turns out list.append() actually *changes* the list, but does *not* return a new list\n",
    "\n",
    "### If I try assigning a variable to the output of list.append(), I will get nothing !!! See Below"
   ]
  },
  {
   "cell_type": "code",
   "execution_count": 32,
   "metadata": {},
   "outputs": [
    {
     "ename": "AttributeError",
     "evalue": "'NoneType' object has no attribute 'append'",
     "output_type": "error",
     "traceback": [
      "\u001b[0;31m---------------------------------------------------------------------------\u001b[0m",
      "\u001b[0;31mAttributeError\u001b[0m                            Traceback (most recent call last)",
      "\u001b[0;32m<ipython-input-32-06afae493d7e>\u001b[0m in \u001b[0;36m<module>\u001b[0;34m()\u001b[0m\n\u001b[0;32m----> 1\u001b[0;31m \u001b[0mmyShoppingList\u001b[0m \u001b[0;34m=\u001b[0m \u001b[0mmyShoppingList\u001b[0m\u001b[0;34m.\u001b[0m\u001b[0mappend\u001b[0m\u001b[0;34m(\u001b[0m\u001b[0;34m\"Snacks for CodeSoc!\"\u001b[0m\u001b[0;34m)\u001b[0m\u001b[0;34m\u001b[0m\u001b[0m\n\u001b[0m",
      "\u001b[0;31mAttributeError\u001b[0m: 'NoneType' object has no attribute 'append'"
     ]
    }
   ],
   "source": [
    "myShoppingList = myShoppingList.append(\"Snacks for CodeSoc!\")"
   ]
  },
  {
   "cell_type": "code",
   "execution_count": 33,
   "metadata": {},
   "outputs": [],
   "source": [
    "myShoppingList"
   ]
  },
  {
   "cell_type": "code",
   "execution_count": 34,
   "metadata": {},
   "outputs": [
    {
     "data": {
      "text/plain": [
       "NoneType"
      ]
     },
     "execution_count": 34,
     "metadata": {},
     "output_type": "execute_result"
    }
   ],
   "source": [
    "type(myShoppingList)"
   ]
  },
  {
   "cell_type": "markdown",
   "metadata": {},
   "source": [
    "I get 'None', and now my shopping list is gone\n",
    "\n",
    "### Lesson: A function can either:\n",
    "### 1.) Change your Object         (as in the case of list.append() )\n",
    "\n",
    "If your function *changes* the object, you don't have to save the result in a new variable.\n",
    "\n",
    "\n",
    "### 2.) Create a new Object        (as in the case of \"list1 + list2\" )\n",
    "\n",
    "\n",
    "If your function *creates* a new object, you *should* store the result in a new variable."
   ]
  },
  {
   "cell_type": "markdown",
   "metadata": {},
   "source": [
    "# Build your own list! (Exercise)\n",
    "\n",
    "### Let's pretend you're using Python to keep a to-do list. Please go through this exercise because practice will help you improve most! :) "
   ]
  },
  {
   "cell_type": "code",
   "execution_count": 46,
   "metadata": {},
   "outputs": [],
   "source": [
    "myList = []     # We have initialized an empty list"
   ]
  },
  {
   "cell_type": "code",
   "execution_count": 47,
   "metadata": {},
   "outputs": [
    {
     "data": {
      "text/plain": [
       "[]"
      ]
     },
     "execution_count": 47,
     "metadata": {},
     "output_type": "execute_result"
    }
   ],
   "source": [
    "myList          # What does myList look like ?"
   ]
  },
  {
   "cell_type": "markdown",
   "metadata": {},
   "source": [
    "You need to read your lecture notes before your tutorial tomorrow. \n",
    "\n",
    "Append \"Read lecture notes\" to myList"
   ]
  },
  {
   "cell_type": "code",
   "execution_count": 48,
   "metadata": {},
   "outputs": [
    {
     "data": {
      "text/plain": [
       "['Read lecture notes']"
      ]
     },
     "execution_count": 48,
     "metadata": {},
     "output_type": "execute_result"
    }
   ],
   "source": [
    "myList.append(\"Read lecture notes\")\n",
    "myList"
   ]
  },
  {
   "cell_type": "markdown",
   "metadata": {},
   "source": [
    "You also haven't checked your emails all day. Add that to the list\n",
    "\n",
    "Append \"Read emails\" to myList"
   ]
  },
  {
   "cell_type": "code",
   "execution_count": 49,
   "metadata": {},
   "outputs": [
    {
     "data": {
      "text/plain": [
       "['Read lecture notes', 'Read emails']"
      ]
     },
     "execution_count": 49,
     "metadata": {},
     "output_type": "execute_result"
    }
   ],
   "source": [
    "myList.append(\"Read emails\")\n",
    "myList"
   ]
  },
  {
   "cell_type": "markdown",
   "metadata": {},
   "source": [
    "Ahh, you just realized you have to revise for your study group later tonight!\n",
    "\n",
    "Add \"Revise for study group\" to the *front* of the list. \n",
    "\n",
    "Hint: You can use list concatenation. Remember to store the result in myList"
   ]
  },
  {
   "cell_type": "code",
   "execution_count": 51,
   "metadata": {},
   "outputs": [],
   "source": [
    "myList = ['Revise for study group'] + myList"
   ]
  },
  {
   "cell_type": "markdown",
   "metadata": {},
   "source": [
    "You also remember that you need to get a card for your mother's birthday tomorrow. You should get her a card.\n",
    "\n",
    "Can you add \"Buy card\" after \"Revise for study group\" but before the rest?"
   ]
  },
  {
   "cell_type": "code",
   "execution_count": 56,
   "metadata": {},
   "outputs": [],
   "source": [
    "myList = [myList[0]] + ['Buy card'] + myList[1:]"
   ]
  },
  {
   "cell_type": "markdown",
   "metadata": {},
   "source": [
    "You're finally done with revising for the study group.\n",
    "\n",
    "Remove \"Revise for study group\" from the list"
   ]
  },
  {
   "cell_type": "code",
   "execution_count": 57,
   "metadata": {},
   "outputs": [
    {
     "data": {
      "text/plain": [
       "['Buy card', 'Read lecture notes', 'Read emails']"
      ]
     },
     "execution_count": 57,
     "metadata": {},
     "output_type": "execute_result"
    }
   ],
   "source": [
    "myList = myList[1:]\n",
    "myList"
   ]
  },
  {
   "cell_type": "code",
   "execution_count": 45,
   "metadata": {},
   "outputs": [
    {
     "data": {
      "text/plain": [
       "False"
      ]
     },
     "execution_count": 45,
     "metadata": {},
     "output_type": "execute_result"
    }
   ],
   "source": [
    "myList == [\"Buy card\", \"Revise for study group\", \"Read lecture notes\", \"Read emails\"]\n",
    "# if I'm not mistaken, myList should look like this now :)\n",
    "# Second comment: I was mistaken pls forgive :'(\n"
   ]
  },
  {
   "cell_type": "markdown",
   "metadata": {},
   "source": [
    "## More List Methods"
   ]
  },
  {
   "cell_type": "code",
   "execution_count": 58,
   "metadata": {},
   "outputs": [
    {
     "data": {
      "text/plain": [
       "['one', 'two', 'three']"
      ]
     },
     "execution_count": 58,
     "metadata": {},
     "output_type": "execute_result"
    }
   ],
   "source": [
    "myList = ['one', 'two', 'three']\n",
    "myList"
   ]
  },
  {
   "cell_type": "markdown",
   "metadata": {},
   "source": [
    "### list.pop(index) \n",
    "\n",
    "removes the list element at *index* and returns that list element"
   ]
  },
  {
   "cell_type": "code",
   "execution_count": 59,
   "metadata": {},
   "outputs": [
    {
     "data": {
      "text/plain": [
       "'two'"
      ]
     },
     "execution_count": 59,
     "metadata": {},
     "output_type": "execute_result"
    }
   ],
   "source": [
    "myList.pop(1)"
   ]
  },
  {
   "cell_type": "code",
   "execution_count": 60,
   "metadata": {},
   "outputs": [
    {
     "data": {
      "text/plain": [
       "['one', 'three']"
      ]
     },
     "execution_count": 60,
     "metadata": {},
     "output_type": "execute_result"
    }
   ],
   "source": [
    "myList"
   ]
  },
  {
   "cell_type": "markdown",
   "metadata": {},
   "source": [
    "### list.insert(index, value) \n",
    "\n",
    "inserts value into array[index] position"
   ]
  },
  {
   "cell_type": "code",
   "execution_count": 61,
   "metadata": {},
   "outputs": [],
   "source": [
    "myList.insert(1, 'insertion')"
   ]
  },
  {
   "cell_type": "code",
   "execution_count": 62,
   "metadata": {},
   "outputs": [
    {
     "data": {
      "text/plain": [
       "['one', 'insertion', 'three']"
      ]
     },
     "execution_count": 62,
     "metadata": {},
     "output_type": "execute_result"
    }
   ],
   "source": [
    "myList"
   ]
  },
  {
   "cell_type": "markdown",
   "metadata": {},
   "source": [
    "## Do I have to memorize all these methods? \n",
    "\n",
    "### No. I don't even know them all. When you're looking for a method, just google what you're looking for.\n",
    "\n",
    "### Example: \"How to insert into Python list\"\n",
    "\n",
    "### One of the top results: https://www.programiz.com/python-programming/methods/list/insert"
   ]
  },
  {
   "cell_type": "markdown",
   "metadata": {},
   "source": [
    "\n",
    "\n",
    "# ------------------------------------------------------------------------\n",
    "# New Section!\n",
    "# ------------------------------------------------------------------------\n",
    "\n",
    "\n",
    "# Making a list from a string!"
   ]
  },
  {
   "cell_type": "code",
   "execution_count": null,
   "metadata": {},
   "outputs": [],
   "source": []
  },
  {
   "cell_type": "code",
   "execution_count": null,
   "metadata": {},
   "outputs": [],
   "source": []
  },
  {
   "cell_type": "markdown",
   "metadata": {
    "colab_type": "text",
    "id": "PcuthmJJWBRq"
   },
   "source": [
    "You can also make a list out of a string using str.split(sep = 'separator')"
   ]
  },
  {
   "cell_type": "code",
   "execution_count": 77,
   "metadata": {
    "colab": {
     "base_uri": "https://localhost:8080/",
     "height": 663
    },
    "colab_type": "code",
    "executionInfo": {
     "elapsed": 327,
     "status": "ok",
     "timestamp": 1534688795742,
     "user": {
      "displayName": "William Hartemink",
      "photoUrl": "https://lh3.googleusercontent.com/a/default-user=s128",
      "userId": "117653304702534641755"
     },
     "user_tz": 240
    },
    "id": "Y9ZEVPksV-g8",
    "outputId": "727ccba2-0972-4659-a141-81b72dd294e6"
   },
   "outputs": [
    {
     "name": "stdout",
     "output_type": "stream",
     "text": [
      "According to all known laws\n",
      "of aviation,\n",
      "\n",
      "  \n",
      "there is no way a bee\n",
      "should be able to fly.\n",
      "\n",
      "\n",
      "\n",
      "\n",
      "\n",
      "\n",
      "\n",
      "\n",
      "  \n",
      "Its wings are too small to get\n",
      "its fat little body off the ground.\n",
      "\n",
      "  \n",
      "The bee, of course, flies anyway\n"
     ]
    }
   ],
   "source": [
    "# triple quotes are a multi-line string!\n",
    "\n",
    "BeeMovieScript = \"\"\"According to all known laws\n",
    "of aviation,\n",
    "\n",
    "  \n",
    "there is no way a bee\n",
    "should be able to fly.\n",
    "\\n\\n\\n\\n\\n\\n\\n\n",
    "  \n",
    "Its wings are too small to get\n",
    "its fat little body off the ground.\n",
    "\n",
    "  \n",
    "The bee, of course, flies anyway\"\"\"\n",
    "\n",
    "print(BeeMovieScript)   # Uses whitespace by default (any of space, tab, enter, etc.)"
   ]
  },
  {
   "cell_type": "markdown",
   "metadata": {
    "colab_type": "text",
    "id": "lbNJvxjWWuaC"
   },
   "source": [
    "And of course you can customize the separator!"
   ]
  },
  {
   "cell_type": "code",
   "execution_count": 75,
   "metadata": {
    "colab": {
     "base_uri": "https://localhost:8080/",
     "height": 68
    },
    "colab_type": "code",
    "executionInfo": {
     "elapsed": 311,
     "status": "ok",
     "timestamp": 1534550909186,
     "user": {
      "displayName": "William Hartemink",
      "photoUrl": "https://lh3.googleusercontent.com/a/default-user=s128",
      "userId": "117653304702534641755"
     },
     "user_tz": 240
    },
    "id": "M2ZseAE7Wpi4",
    "outputId": "4e6700ef-bea0-410e-9230-accb479fae39"
   },
   "outputs": [
    {
     "data": {
      "text/plain": [
       "['According to all known laws\\nof aviation,\\n\\n  \\nthere is no way a bee\\nshould be able to fly',\n",
       " '\\n\\n  \\nIts wings are too small to get\\nits fat little body off the ground',\n",
       " '\\n\\n  \\nThe bee, of course, flies anyway']"
      ]
     },
     "execution_count": 75,
     "metadata": {},
     "output_type": "execute_result"
    }
   ],
   "source": [
    "BeeMovieScript.split(sep = '.')"
   ]
  },
  {
   "cell_type": "markdown",
   "metadata": {},
   "source": [
    "### Passing a string into a function\n",
    "\n",
    "Easy as that!"
   ]
  },
  {
   "cell_type": "code",
   "execution_count": 66,
   "metadata": {},
   "outputs": [
    {
     "name": "stdout",
     "output_type": "stream",
     "text": [
      "According to all known laws\n",
      "of aviation,\n",
      "\n",
      "  \n",
      "there is no way a bee\n",
      "should be able to fly.\n",
      "\n",
      "  \n",
      "Its wings are too small to get\n",
      "its fat little body off the ground.\n",
      "\n",
      "  \n",
      "The bee, of course, flies anyway\n"
     ]
    }
   ],
   "source": [
    "print(BeeMovieScript)"
   ]
  },
  {
   "cell_type": "markdown",
   "metadata": {
    "colab_type": "text",
    "id": "qwtFcjRTXNC9"
   },
   "source": [
    "### Passing each element of a string into a function\n",
    "That sure is hard to read. Keep in mind that if any function takes multiple arguments, you can pass each _element_ of the list using *"
   ]
  },
  {
   "cell_type": "code",
   "execution_count": 78,
   "metadata": {},
   "outputs": [
    {
     "name": "stdout",
     "output_type": "stream",
     "text": [
      "['a', 'b', 'c']\n"
     ]
    }
   ],
   "source": [
    "x = ['a', 'b', 'c']\n"
   ]
  },
  {
   "cell_type": "code",
   "execution_count": 79,
   "metadata": {
    "colab": {
     "base_uri": "https://localhost:8080/",
     "height": 238
    },
    "colab_type": "code",
    "executionInfo": {
     "elapsed": 315,
     "status": "ok",
     "timestamp": 1534550981616,
     "user": {
      "displayName": "William Hartemink",
      "photoUrl": "https://lh3.googleusercontent.com/a/default-user=s128",
      "userId": "117653304702534641755"
     },
     "user_tz": 240
    },
    "id": "I7hyk2LUXUhs",
    "outputId": "adf7da6c-d6f3-4821-b3cb-9c3423ff0f26"
   },
   "outputs": [
    {
     "name": "stdout",
     "output_type": "stream",
     "text": [
      "According to all known laws\n",
      "of aviation,\n",
      "\n",
      "  \n",
      "there is no way a bee\n",
      "should be able to fly-------------------------\n",
      "\n",
      "\n",
      "\n",
      "\n",
      "\n",
      "\n",
      "\n",
      "\n",
      "  \n",
      "Its wings are too small to get\n",
      "its fat little body off the ground-------------------------\n",
      "\n",
      "  \n",
      "The bee, of course, flies anyway\n"
     ]
    }
   ],
   "source": [
    "listOfBeeMovieScript = BeeMovieScript.split(sep = '.')\n",
    "print(*listOfBeeMovieScript, sep = '-------------------------')"
   ]
  },
  {
   "cell_type": "markdown",
   "metadata": {
    "colab_type": "text",
    "id": "wGyA93OEk_0J"
   },
   "source": [
    "You can also deo the opposite with the str.join(list) method."
   ]
  },
  {
   "cell_type": "code",
   "execution_count": 82,
   "metadata": {
    "colab": {
     "base_uri": "https://localhost:8080/",
     "height": 663
    },
    "colab_type": "code",
    "executionInfo": {
     "elapsed": 316,
     "status": "ok",
     "timestamp": 1534688878370,
     "user": {
      "displayName": "William Hartemink",
      "photoUrl": "https://lh3.googleusercontent.com/a/default-user=s128",
      "userId": "117653304702534641755"
     },
     "user_tz": 240
    },
    "id": "6udm7BU4k-dP",
    "outputId": "24c0ff5f-0d4b-4216-e6b2-f561e003c9ad"
   },
   "outputs": [
    {
     "data": {
      "text/plain": [
       "'a b c'"
      ]
     },
     "execution_count": 82,
     "metadata": {},
     "output_type": "execute_result"
    }
   ],
   "source": [
    "x\n",
    "' '.join(x)"
   ]
  },
  {
   "cell_type": "markdown",
   "metadata": {
    "colab_type": "text",
    "id": "DNmlk5sKVdM-"
   },
   "source": [
    "## Making a list of integers!\n",
    "\n",
    "And if you want a list of numbers, try using range, which works almost just like indexing the number line!"
   ]
  },
  {
   "cell_type": "code",
   "execution_count": 83,
   "metadata": {
    "colab": {
     "base_uri": "https://localhost:8080/",
     "height": 34
    },
    "colab_type": "code",
    "executionInfo": {
     "elapsed": 349,
     "status": "ok",
     "timestamp": 1534550481155,
     "user": {
      "displayName": "William Hartemink",
      "photoUrl": "https://lh3.googleusercontent.com/a/default-user=s128",
      "userId": "117653304702534641755"
     },
     "user_tz": 240
    },
    "id": "00847SZPVezs",
    "outputId": "b1806a93-4169-43a0-8f1b-9c0eb4bde5f9"
   },
   "outputs": [
    {
     "data": {
      "text/plain": [
       "[0, 1, 2, 3, 4, 5, 6, 7, 8, 9]"
      ]
     },
     "execution_count": 83,
     "metadata": {},
     "output_type": "execute_result"
    }
   ],
   "source": [
    "# list(range(start, stop, step))\n",
    "\n",
    "list(range(0, 10))"
   ]
  },
  {
   "cell_type": "code",
   "execution_count": 84,
   "metadata": {
    "colab": {
     "base_uri": "https://localhost:8080/",
     "height": 34
    },
    "colab_type": "code",
    "executionInfo": {
     "elapsed": 354,
     "status": "ok",
     "timestamp": 1534550500949,
     "user": {
      "displayName": "William Hartemink",
      "photoUrl": "https://lh3.googleusercontent.com/a/default-user=s128",
      "userId": "117653304702534641755"
     },
     "user_tz": 240
    },
    "id": "LtjZZYLYVhdW",
    "outputId": "18d6fe5f-f05b-44e1-cbd2-bcd1d205a080"
   },
   "outputs": [
    {
     "data": {
      "text/plain": [
       "[10, 11, 12, 13, 14, 15, 16, 17, 18, 19, 20, 21, 22, 23, 24]"
      ]
     },
     "execution_count": 84,
     "metadata": {},
     "output_type": "execute_result"
    }
   ],
   "source": [
    "list(range(10,25))"
   ]
  },
  {
   "cell_type": "code",
   "execution_count": 85,
   "metadata": {
    "colab": {
     "base_uri": "https://localhost:8080/",
     "height": 34
    },
    "colab_type": "code",
    "executionInfo": {
     "elapsed": 324,
     "status": "ok",
     "timestamp": 1534550515150,
     "user": {
      "displayName": "William Hartemink",
      "photoUrl": "https://lh3.googleusercontent.com/a/default-user=s128",
      "userId": "117653304702534641755"
     },
     "user_tz": 240
    },
    "id": "BE8z7t-VVinZ",
    "outputId": "e3e4731b-be67-4b3b-a854-0cbfb43774cc"
   },
   "outputs": [
    {
     "data": {
      "text/plain": [
       "[100, 112, 124, 136, 148, 160, 172, 184, 196]"
      ]
     },
     "execution_count": 85,
     "metadata": {},
     "output_type": "execute_result"
    }
   ],
   "source": [
    "list(range(100,200,12))"
   ]
  },
  {
   "cell_type": "code",
   "execution_count": 86,
   "metadata": {
    "colab": {
     "base_uri": "https://localhost:8080/",
     "height": 34
    },
    "colab_type": "code",
    "executionInfo": {
     "elapsed": 350,
     "status": "ok",
     "timestamp": 1534550522756,
     "user": {
      "displayName": "William Hartemink",
      "photoUrl": "https://lh3.googleusercontent.com/a/default-user=s128",
      "userId": "117653304702534641755"
     },
     "user_tz": 240
    },
    "id": "eDpQZO-hVpw-",
    "outputId": "8e67c636-d91c-4dfa-a6d9-9f78464230ab"
   },
   "outputs": [
    {
     "data": {
      "text/plain": [
       "[200, 188, 176, 164, 152, 140, 128, 116, 104]"
      ]
     },
     "execution_count": 86,
     "metadata": {},
     "output_type": "execute_result"
    }
   ],
   "source": [
    "list(range(200,100,-12))"
   ]
  },
  {
   "cell_type": "markdown",
   "metadata": {
    "colab_type": "text",
    "id": "8mah9iAhVtSi"
   },
   "source": [
    "Always repeat to yourself the words, \"Start, stop, step!\""
   ]
  },
  {
   "cell_type": "markdown",
   "metadata": {
    "colab_type": "text",
    "id": "RKyR5T1hYZnw"
   },
   "source": [
    "## Challenges!!!!"
   ]
  },
  {
   "cell_type": "markdown",
   "metadata": {
    "colab_type": "text",
    "id": "e5QxMoBfY62e"
   },
   "source": [
    "Don't worry too much about the code below. articleString is a string that represents the content of the wikipedia article on the United Kingdom. A small piece of it will the printed below\n",
    "\n",
    "Print all the parts of the article that are in quotes. It might be helpful to look at the wikipedia article here:\n",
    "https://en.wikipedia.org/wiki/United_Kingdom\n",
    "\n",
    "Hint: You might want to use the list.split() function"
   ]
  },
  {
   "cell_type": "code",
   "execution_count": 87,
   "metadata": {
    "colab": {
     "base_uri": "https://localhost:8080/",
     "height": 663
    },
    "colab_type": "code",
    "executionInfo": {
     "elapsed": 2641,
     "status": "ok",
     "timestamp": 1534688890124,
     "user": {
      "displayName": "William Hartemink",
      "photoUrl": "https://lh3.googleusercontent.com/a/default-user=s128",
      "userId": "117653304702534641755"
     },
     "user_tz": 240
    },
    "id": "kia9Tw3pVrnT",
    "outputId": "45bfe048-e310-4f71-bbf9-93f79f3d5293"
   },
   "outputs": [
    {
     "name": "stderr",
     "output_type": "stream",
     "text": [
      "/Applications/anaconda3/lib/python3.6/site-packages/bs4/__init__.py:181: UserWarning: No parser was explicitly specified, so I'm using the best available HTML parser for this system (\"lxml\"). This usually isn't a problem, but if you run this code on another system, or in a different virtual environment, it may use a different parser and behave differently.\n",
      "\n",
      "The code that caused this warning is on line 193 of the file /Applications/anaconda3/lib/python3.6/runpy.py. To get rid of this warning, change code that looks like this:\n",
      "\n",
      " BeautifulSoup(YOUR_MARKUP})\n",
      "\n",
      "to this:\n",
      "\n",
      " BeautifulSoup(YOUR_MARKUP, \"lxml\")\n",
      "\n",
      "  markup_type=markup_type))\n"
     ]
    },
    {
     "name": "stdout",
     "output_type": "stream",
     "text": [
      " 9]\n",
      "The United Kingdom of Great Britain and Northern Ireland, commonly known as the United Kingdom (UK)[14] or Britain,[note 10] is a sovereign country lying off the north-western coast of the European mainland. The United Kingdom includes the island of Great Britain, the north-eastern part of the island of Ireland and many smaller islands.[15] Northern Ireland is the only part of the United Kingdom that shares a land border with another sovereign state‍—‌the Republic of Ireland. Apart from this land border, the United Kingdom is surrounded by the Atlantic Ocean, with the North Sea to its east, the English Channel to its south and the Celtic Sea to its south-south-west, giving it the 12th-longest coastline in the world. The Irish Sea lies between Great Britain and Ireland. With an area of 242,500 square kilometres (93,600 sq mi), the United Kingdom is the 78th-largest sovereign state in the world. It is also the 22nd-most populous country, with an estimated 66.0 million inhabitants in 2017.\n",
      "The sovereign state  is a constitutional monarchy with a parliamentary democracy.[16][17] The monarch is Queen Elizabeth II,\n"
     ]
    }
   ],
   "source": [
    "import re\n",
    "import urllib.request\n",
    "from bs4 import BeautifulSoup\n",
    " \n",
    "html = urllib.request.urlopen('https://en.wikipedia.org/wiki/United_Kingdom')\n",
    "soup = BeautifulSoup(html)\n",
    "data = soup.findAll(text=True)\n",
    " \n",
    "def visible(element):\n",
    "    if element.parent.name in ['style', 'script', '[document]', 'head', 'title']:\n",
    "        return False\n",
    "    elif re.match('<!--.*-->', str(element.encode('utf-8'))):\n",
    "        return False\n",
    "    return True\n",
    " \n",
    "result = filter(visible, data)\n",
    " \n",
    "articleString = ''.join(list(result))\n",
    "print(articleString[2870:4000])"
   ]
  },
  {
   "cell_type": "code",
   "execution_count": 88,
   "metadata": {},
   "outputs": [
    {
     "data": {
      "text/plain": [
       "'\\n\\n \\n\\n\\n\\n CentralNotice \\n\\n\\nUnited Kingdom \\nFrom Wikipedia, the free encyclopedia \\n Jump to navigation\\nJump to search\\nThis article is about the country. It is not to be confused with Great Britain, its largest island whose name is also loosely applied to the whole country.\\n\"UK\" redirects here. For other uses of \"UK\", see UK (disambiguation). For other uses of \"United Kingdom\", see United Kingdom (disambiguation).\\n\\n\\nCountry in Europe\\n\\n\\n\\nUnited Kingdom of Great Britain and Northern Ireland\\n Scots:\\nUnitit Kinrick o Great Breetain an Northren IrelandUlster Scots:\\nClaught Kängrick o Docht Brätain an Norlin AirlannWelsh:\\nTeyrnas Unedig Prydain Fawr a Gogledd IwerddonCornish:\\nRywvaneth Unys Breten Veur ha Kledhbarth IwerdhonScottish\\xa0Gaelic:\\nRìoghachd Aonaichte Bhreatainn is Èireann a TuathIrish:\\nRíocht Aontaithe na Breataine Móire agus Thuaisceart Éireann\\n\\n\\n\\n\\n\\nFlag\\n\\n\\n\\nRoyal coat of arms[note 1]\\n\\n\\nAnthem:\\xa0\"God Save the Queen\"[note 2]\\n\\nShow globeShow map of EuropeLocation of the\\xa0\\xa0United Kingdom\\xa0\\xa0(dark green)–\\xa0in Europe\\xa0\\xa0(green &\\xa0dark grey)–\\xa0in the European\\xa0Union\\xa0\\xa0(green)\\n\\nLocation of the United Kingdom, Crown dependencies and British Overseas Territories (red)\\n \\n\\nCapitaland largest city\\nLondon51°30′N 0°7′W\\ufeff / \\ufeff51.500°N 0.117°W\\ufeff / 51.500; -0.117Official language and national language\\nEnglishRecognised regional or minority languages[note 3]\\nScotsUlster ScotsWelshCornishScottish GaelicIrishEthnic\\xa0groups  (2011)\\n87.1% White7.0% Asian3.0% Black2.0% Mixed0.9% othersReligion  (2011[6][7])\\n59.5% Christian25.7% Irreligious4.4% Muslim1.3% Hindu0.7% Sikh0.4% Jewish0.4% Buddhist0.4% other religions7.2% unknownDemonym\\nBritishBritonCountries of the United Kingdom\\nEnglandNorthern IrelandScotlandWalesGovernment\\nUnitary parliamentaryconstitutional monarchy\\n•\\xa0Monarch \\nElizabeth\\xa0II•\\xa0Prime Minister \\nTheresa May\\nLegislature\\nParliament•\\xa0Upper house\\nHouse of Lords•\\xa0Lower house\\nHouse of CommonsFormation\\n•\\xa0Laws in Wales Acts \\n1535 and 1542•\\xa0Union of the Crowns under James VI and I \\n24 March 1603•\\xa0Acts of Union of England and Scotland \\n1 May 1707•\\xa0Acts of Union of Great Britain and Ireland \\n1 January 1801•\\xa0Irish Free State Constitution Act \\n5 December 1922•\\xa0EC accession[note 4] \\n1 January 1973\\nArea •\\xa0Total\\n242,495\\xa0km2 (93,628\\xa0sq\\xa0mi)[8] (78th)•\\xa0Water\\xa0(%)\\n1.34Population•\\xa02017 estimate\\n 66,040,229[9] (22nd)•\\xa02011\\xa0census\\n63,181,775[10] (22nd)•\\xa0Density\\n270.7/km2 (701.1/sq\\xa0mi) (50th)GDP\\xa0(PPP)\\n2017\\xa0estimate•\\xa0Total\\n$2.914\\xa0trillion[11] (9th)•\\xa0Per capita\\n$44,117[11] (25th)GDP\\xa0(nominal)\\n2017\\xa0estimate•\\xa0Total\\n$2.624\\xa0trillion[11] (5th)•\\xa0Per capita\\n$39,734[11] (19th)Gini\\xa0(2014)\\n\\xa031.6[12]medium\\xa0·\\xa033rdHDI\\xa0(2017)\\n\\xa00.922[13]very high\\xa0·\\xa014thCurrency\\nPound\\xa0sterling[note 5] (GBP;\\xa0£)Time zone\\nUTC\\u2060 (Greenwich Mean Time[note 6])•\\xa0Summer\\xa0(DST)\\nUTC+1 (British Summer Time)Date format\\ndd/mm/yyyy\\xa0(AD)Driving side\\nleft[note 7]Calling code\\n+44[note 8]ISO 3166 code\\nGBInternet TLD\\n.uk[note 9]\\nThe United Kingdom of Great Britain and Northern Ireland, commonly known as the United Kingdom (UK)[14] or Britain,[note 10] is a sovereign country lying off the north-western coast of the European mainland. The United Kingdom includes the island of Great Britain, the north-eastern part of the island of Ireland and many smaller islands.[15] Northern Ireland is the only part of the United Kingdom that shares a land border with another sovereign state\\u200d—\\u200cthe Republic of Ireland. Apart from this land border, the United Kingdom is surrounded by the Atlantic Ocean, with the North Sea to its east, the English Channel to its south and the Celtic Sea to its south-south-west, giving it the 12th-longest coastline in the world. The Irish Sea lies between Great Britain and Ireland. With an area of 242,500 square kilometres (93,600\\xa0sq\\xa0mi), the United Kingdom is the 78th-largest sovereign state in the world. It is also the 22nd-most populous country, with an estimated 66.0 million inhabitants in 2017.\\nThe sovereign state  is a constitutional monarchy with a parliamentary democracy.[16][17] The monarch is Queen Elizabeth II, who has reigned since 1952, making her the longest-serving current head of state.[18] The United Kingdom\\'s capital and largest city is London, a global city and financial centre with an urban area population of 10.3 million.[19] Other major urban areas in the UK include the conurbations centred on Manchester, Birmingham, Leeds, Glasgow and Liverpool.\\nThe United Kingdom consists of four countries: England, Northern Ireland, Scotland, and Wales.[20] Their capitals are London, Belfast, Edinburgh, and Cardiff respectively. Apart from England, the countries have devolved administrations,[21] each with varying powers.[22][23] The nearby Isle of Man, Bailiwick of Guernsey and Bailiwick of Jersey are not part of the UK, being Crown dependencies with the British Government responsible for defence and international representation.[24] The medieval conquest and subsequent annexation of Wales by the Kingdom of England, followed by the union between England and Scotland in 1707 to form the Kingdom of Great Britain, and the union in 1801 of Great Britain with the Kingdom of Ireland created the United Kingdom of Great Britain and Ireland. Five-sixths of Ireland seceded from the UK in 1922, leaving the present formulation of the United Kingdom of Great Britain and Northern Ireland.[note 11] There are fourteen British Overseas Territories,[25] the remnants of the British Empire which, at its height in the 1920s, encompassed almost a quarter of the world\\'s land mass and was the largest empire in history. British influence can be observed in the language, culture and legal systems of many of its former colonies.\\nThe United Kingdom is a developed country and has the world\\'s fifth-largest economy by nominal GDP and ninth-largest economy by purchasing power parity. It has a high-income economy and has a \"very high\" Human Development Index, ranking 14th in the world. It was the world\\'s first industrialised country and the world\\'s foremost power during the 19th and early 20th centuries.[26][27] The United Kingdom remains a great power with considerable economic, cultural, military, scientific and political influence internationally.[28][29] It is a recognised nuclear weapons state and is sixth in military expenditure in the world.[30] It has been a permanent member of the United Nations Security Council since its first session in 1946. It has been a leading member state of the European Union (EU) and its predecessor, the European Economic Community (EEC), since 1973; however, a referendum in 2016 resulted in 51.9% of UK voters favouring leaving the European Union, and the country\\'s exit is being negotiated. The United Kingdom is also a member of the Commonwealth of Nations, the Council of Europe, the G7, the G20, NATO, the Organisation for Economic Co-operation and Development (OECD), Interpol and the World Trade Organization (WTO).\\n\\nContents\\n\\n1 Etymology and terminology\\n2 History\\n\\n2.1 Background\\n2.2 Treaty of Union\\n2.3 Union with Ireland\\n2.4 Irish independence\\n2.5 Since the Second World War\\n\\n\\n3 Geography\\n\\n3.1 Climate\\n3.2 Administrative divisions\\n\\n\\n4 Dependencies\\n5 Politics\\n\\n5.1 Government\\n5.2 Devolved administrations\\n5.3 Law and criminal justice\\n5.4 Foreign relations\\n5.5 Military\\n\\n\\n6 Economy\\n\\n6.1 Overview\\n6.2 Science and technology\\n6.3 Transport\\n6.4 Energy\\n6.5 Water supply and sanitation\\n\\n\\n7 Demographics\\n\\n7.1 Ethnic groups\\n7.2 Languages\\n7.3 Religion\\n7.4 Migration\\n7.5 Education\\n7.6 Healthcare\\n\\n\\n8 Culture\\n\\n8.1 Literature\\n8.2 Music\\n8.3 Visual art\\n8.4 Cinema\\n8.5 Cuisine\\n8.6 Media\\n8.7 Philosophy\\n8.8 Sport\\n8.9 Symbols\\n\\n\\n9 Historiography\\n10 See also\\n11 Notes\\n12 References\\n13 Further reading\\n14 External links\\n\\n\\nEtymology and terminology\\n\\n\\nSee also: Britain (place name) and Terminology of the British Isles\\nThe 1707 Acts of Union declared that the kingdoms of England and Scotland were \"United into One Kingdom by the Name of Great Britain\", though the new state is also described in the Acts as the \"Kingdom of Great Britain\", \"United Kingdom of Great Britain\" and \"One Kingdom\".[31][32][note 12] The term \"United Kingdom\" is found in use as a description, but not a name, during the 18th century, and the country has occasionally been referred to in later centuries as the \"United Kingdom of Great Britain\" although its full official name, from 1707 to 1800, was simply \"Great Britain\", without a \"long form\".[33][34][35][36][37] The Acts of Union 1800 united the Kingdom of Great Britain and the Kingdom of Ireland in 1801, forming the United Kingdom of Great Britain and Ireland. Following the partition of Ireland and the independence of the Irish Free State in 1922, which left Northern Ireland as the only part of the island of Ireland within the United Kingdom, the name \"United Kingdom of Great Britain and Northern Ireland\" was adopted.[38]\\nAlthough the United Kingdom, as a sovereign state, is a country, England, Scotland, Wales and, to a lesser degree, Northern Ireland are also regarded as countries, though they are not sovereign states.[39][40] Scotland, Wales and Northern Ireland have devolved self-government.[41][42] The British Prime Minister\\'s website has used the phrase \"countries within a country\" to describe the United Kingdom.[20] Some statistical summaries, such as those for the twelve NUTS 1 regions of the United Kingdom, also refer to Scotland, Wales and Northern Ireland as \"regions\".[43][44] Northern Ireland is also referred to as a \"province\".[45][46] With regard to Northern Ireland, the descriptive name used \"can be controversial, with the choice often revealing one\\'s political preferences\".[47]\\nThe term \"Great Britain\" refers conventionally to the island of Great Britain, or politically to England, Scotland and Wales in combination.[48][49][50] However, it is sometimes used as a loose synonym for the United Kingdom as a whole.[51] GB and GBR are the standard country codes for the United Kingdom (see ISO 3166-2 and ISO 3166-1 alpha-3) and are consequently used by international organisations to refer to the United Kingdom. Additionally, the United Kingdom\\'s Olympic team competes under the name \"Great Britain\" or \"Team GB\".[52][53]\\nThe term \"Britain\" is used both as a synonym for Great Britain,[54][55][56] and as a synonym for the United Kingdom.[57][56]\\nUsage is mixed, with the BBC preferring to use Britain as shorthand only for Great Britain[58] and the British Government, although accepting that both terms refer to the United Kingdom, preferring, in most cases, to use the term UK rather than Britain.[59] While the UK Permanent Committee on Geographical Names (whose definitions are the \"authoritative geographical names of the United Kingdom\") lists \"United Kingdom\" and \"UK or U.K.\" as shortened and abbreviated geopolitical terms for the United Kingdom of Great Britain and Northern Ireland, but does not list \"Britain\",[60] it has been used \"informally\" by government websites.[61]\\nThe adjective \"British\" is commonly used to refer to matters relating to the United Kingdom. The term has no definite legal connotation, but is used in law to refer to United Kingdom citizenship and matters to do with nationality.[62] People of the United Kingdom use a number of different terms to describe their national identity and may identify themselves as being British; or as being English, Scottish, Welsh, Northern Irish, or Irish;[63] or as being both.[64]\\nIn Welsh, the long form name of the state is \"Teyrnas Unedig Prydain Fawr a Gogledd Iwerddon\", with \"Teyrnas Unedig\" being used as a short form name on government websites.[65] However, it is usually abbreviated to \"DU\" for the mutated form \"Y Deyrnas Unedig\". In Scottish Gaelic, the long form is \"Rìoghachd Aonaichte Bhreatainn is Èireann a Tuath\" and the short form \"Rìoghachd Aonaichte\".\\n\\nHistory\\nSee also: History of the British Isles\\nBackground\\nMain articles: History of England, History of Wales, History of Scotland, History of Ireland, and History of the formation of the United Kingdom\\n The stones of Stonehenge, in Wiltshire, were erected between 2400 and 2200 BC\\nSettlement by anatomically modern humans of what was to become the United Kingdom occurred in waves beginning by about 30,000 years ago.[66] By the end of the region\\'s prehistoric period, the population is thought to have belonged, in the main, to a culture termed Insular Celtic, comprising Brittonic Britain and Gaelic Ireland.[67] The Roman conquest, beginning in 43 AD, and the 400-year rule of southern Britain, was followed by an invasion by Germanic Anglo-Saxon settlers, reducing the Brittonic area mainly to what was to become Wales, Cornwall and, until the latter stages of the Anglo-Saxon settlement, the Hen Ogledd (northern England and parts of southern Scotland).[68] Most of the region settled by the Anglo-Saxons became unified as the Kingdom of England in the 10th century.[69] Meanwhile, Gaelic-speakers in north-west Britain (with connections to the north-east of Ireland and traditionally supposed to have migrated from there in the 5th century)[70][71] united with the Picts to create the Kingdom of Scotland in the 9th century.[72]\\n\\n The Bayeux Tapestry depicts the Battle of Hastings, 1066, and the events leading to it\\nIn 1066, the Normans and their Breton allies invaded England from northern France and after its conquest, seized large parts of Wales, conquered much of Ireland and were invited to settle in Scotland, bringing to each country feudalism on the Northern French model and Norman-French culture.[73] The Anglo-Norman ruling class greatly influenced, but eventually assimilated with, each of the local cultures.[74] Subsequent medieval English kings completed the conquest of Wales and made an unsuccessful attempt to annex Scotland. Following the Declaration of Arbroath, Scotland maintained its independence, albeit in near-constant conflict with England. The English monarchs, through inheritance of substantial territories in France and claims to the French crown, were also heavily involved in conflicts in France, most notably the Hundred Years War, while the Kings of Scots were in an alliance with the French during this period.[75]\\nThe early modern period saw religious conflict resulting from the Reformation and the introduction of Protestant state churches in each country.[76] Wales was fully incorporated into the Kingdom of England,[77] and Ireland was constituted as a kingdom in personal union with the English crown.[78] In what was to become Northern Ireland, the lands of the independent Catholic Gaelic nobility were confiscated and given to Protestant settlers from England and Scotland.[79]\\nIn 1603, the kingdoms of England, Scotland and Ireland were united in a personal union when James VI, King of Scots, inherited the crowns of England and Ireland and moved his court from Edinburgh to London; each country nevertheless remained a separate political entity and retained its separate political, legal, and religious institutions.[80][81]\\nIn the mid-17th century, all three kingdoms were involved in a series of connected wars (including the English Civil War) which led to the temporary overthrow of the monarchy and the establishment of the short-lived unitary republic of the Commonwealth of England, Scotland and Ireland.[82][83] During the 17th and 18th centuries, British sailors were involved in acts of piracy (privateering), attacking and stealing from ships off the coast of Europe and the Caribbean.[84]\\n\\n The State House in St. George\\'s, Bermuda. Settled in 1612, the town is the oldest continuously-inhabited English town in the New World.\\nAlthough the monarchy was restored, the Interregnum ensured (along with the Glorious Revolution of 1688 and the subsequent Bill of Rights 1689, and the Claim of Right Act 1689) that, unlike much of the rest of Europe, royal absolutism would not prevail, and a professed Catholic could never accede to the throne. The British constitution would develop on the basis of constitutional monarchy and the parliamentary system.[85] With the founding of the Royal Society in 1660, science was greatly encouraged. During this period, particularly in England, the development of naval power (and the interest in voyages of discovery) led to the acquisition and settlement of overseas colonies, particularly in North America.[86][87]\\nThough previous attempts at uniting the two kingdoms within Great Britain in 1606, 1667, and 1689 had proved unsuccessful, the attempt initiated in 1705 led to the Treaty of Union of 1706 being agreed and ratified by both parliaments\\n\\n\\nTreaty of Union\\nMain article: History of the United Kingdom\\n The Treaty of Union led to a single united kingdom encompassing all Great Britain\\nOn 1 May 1707, the united Kingdom of Great Britain came into being, the result of Acts of Union being passed by the parliaments of England and Scotland to ratify the 1706 Treaty of Union and so unite the two kingdoms.[88][89][90]\\nIn the 18th century, cabinet government developed under Robert Walpole, in practice the first prime minister (1721–1742). A series of Jacobite Uprisings sought to remove the Protestant House of Hanover from the British throne and restore the Catholic House of Stuart. The Jacobites were finally defeated at the Battle of Culloden in 1746, after which the Scottish Highlanders were brutally suppressed. The British colonies in North America that broke away from Britain in the American War of Independence became the United States of America, recognised by Britain in 1783. British imperial ambition turned towards Asia, particularly to India.[91]\\nDuring the 18th century, Britain was involved in the Atlantic slave trade. British ships transported an estimated two million slaves from Africa to the West Indies. Parliament banned the trade in 1807, banned slavery in the British Empire in 1833, and Britain took a leading role in the movement to abolish slavery worldwide through the blockade of Africa and pressing other nations to end their trade with a series of treaties. The world\\'s oldest international human rights organisation, Anti-Slavery International, was formed in London in 1839.[92][93][94]\\n\\nUnion with Ireland\\nMain article: Acts of Union 1800\\nThe term \"United Kingdom\" became official in 1801 when the parliaments of Britain and Ireland each passed an Act of Union, uniting the two kingdoms and creating the United Kingdom of Great Britain and Ireland.[95]\\n\\n The Battle of Waterloo, 1815, marked the end of the Napoleonic Wars and the start of Pax Britannica\\nIn the early 19th century, the British-led Industrial Revolution began to transform the country. Gradually political power shifted away from the old Tory and Whig landowning classes towards the new industrialists. An alliance of merchants and industrialists with the Whigs would lead to a new party, the Liberals, with an ideology of free trade and laissez-faire. In 1832 Parliament passed the Great Reform Act, which began the transfer of political power from the aristocracy to the middle classes. In the countryside, enclosure of the land was driving small farmers out. Towns and cities began to swell with a new urban working class. Few ordinary workers had the vote, and they created their own organisations in the form of trade unions.[citation needed]\\nAfter the defeat of France at the end of the Revolutionary and Napoleonic Wars (1792–1815), Great Britain emerged as the principal naval and imperial power of the 19th century (with London the largest city in the world from about 1830).[96] Unchallenged at sea, British dominance was later described as Pax Britannica (\"British Peace\"), a period of relative peace among the Great Powers (1815–1914) during which the British Empire became the global hegemon and adopted the role of global policeman.[97][98][99][100] By the time of the Great Exhibition of 1851, Britain was described as the \"workshop of the world\".[101] The British Empire was expanded to include India, large parts of Africa and many other territories throughout the world. Alongside the formal control it exerted over its own colonies, British dominance of much of world trade meant that it effectively controlled the economies of many regions, such as Asia and Latin America.[102][103] Domestically, political attitudes favoured free trade and laissez-faire policies and a gradual widening of the voting franchise. During the century, the population increased at a dramatic rate, accompanied by rapid urbanisation, causing significant social and economic stresses.[104] To seek new markets and sources of raw materials, the Conservative Party under Disraeli launched a period of imperialist expansion in Egypt, South Africa, and elsewhere. Canada, Australia, and New Zealand became self-governing dominions.[105] After the turn of the century, Britain\\'s industrial dominance was challenged by Germany and the United States.[106]\\nSocial reform and home rule for Ireland were important domestic issues after 1900. The Labour Party emerged from an alliance of trade unions and small socialist groups in 1900, and suffragettes campaigned for women\\'s right to vote before 1914.[107]\\n\\n Infantry of the Royal Irish Rifles during the Battle of the Somme (more than 885,000 British soldiers died on the battlefields of the First World War)\\nBritain fought alongside France, Russia and (after 1917) the United States, against Germany and its allies in the First World War (1914–1918).[108] British armed forces were engaged across much of the British Empire and in several regions of Europe, particularly on the Western front.[109] The high fatalities of trench warfare caused the loss of much of a generation of men, with lasting social effects in the nation and a great disruption in the social order.\\nAfter the war, Britain received the League of Nations mandate over a number of former German and Ottoman colonies. The British Empire reached its greatest extent, covering a fifth of the world\\'s land surface and a quarter of its population.[110] However, Britain had suffered 2.5 million casualties and finished the war with a huge national debt.[109]\\n\\nIrish independence\\nMain article: Anglo-Irish Treaty\\nThe rise of Irish nationalism, and disputes within Ireland over the terms of Irish Home Rule, led eventually to the partition of the island in 1921.[111] The Irish Free State became independent, initially with Dominion status in 1922, and unambiguously independent in 1931. Northern Ireland remained part of the United Kingdom.[112] A wave of strikes in the mid-1920s culminated in the General Strike of 1926. Britain had still not recovered from the effects of the war when the Great Depression (1929–1932) occurred. This led to considerable unemployment and hardship in the old industrial areas, as well as political and social unrest in the 1930s, with rising membership in communist and socialist parties. A coalition government was formed in 1931.[113]\\nBritain entered the Second World War by declaring war on Nazi Germany in 1939 after Germany had invaded Poland. Winston Churchill became prime minister and head of a coalition government in 1940. Despite the defeat of its European allies in the first year of the war, Britain and its Empire continued the fight alone against Germany. In 1940, the Royal Air Force defeated the German Luftwaffe in a struggle for control of the skies in the Battle of Britain. Urban areas suffered heavy bombing during the Blitz. There were also eventual hard-fought victories in the Battle of the Atlantic, the North Africa campaign and the Burma campaign. British forces played an important role in the Normandy landings of 1944, achieved with its United States ally.\\n\\nSince the Second World War\\nMain articles: Political history of the United Kingdom (1945–present) and Social history of the United Kingdom (1945–present)\\n Map showing territories that were at one time part of the British Empire, with the United Kingdom and its current British Overseas Territories and Crown Dependencies underlined in red\\nAfter the end of the Second World War in 1945, the UK was one of the Big Four powers (along with the U.S., the Soviet Union, and China) who met to plan the post-war world;[114][115] it was an original signatory to the Declaration of the United Nations. The UK became one of the five permanent members of the United Nations Security Council and worked closely with the United States to establish the IMF, World Bank and NATO.[116][117] However, the war left the UK severely weakened and depending financially on the Marshall Plan.[118] In the immediate post-war years, the Labour government initiated a radical programme of reforms, which had a significant effect on British society in the following decades.[119] Major industries and public utilities were nationalised, a welfare state was established, and a comprehensive, publicly funded healthcare system, the National Health Service, was created.[120] The rise of nationalism in the colonies coincided with Britain\\'s now much-diminished economic position, so that a policy of decolonisation was unavoidable. Independence was granted to India and Pakistan in 1947.[121] Over the next three decades, most colonies of the British Empire gained their independence. Many became members of the Commonwealth of Nations.[122]\\nThe UK was the third country to develop a nuclear weapons arsenal (with its first atomic bomb test in 1952), but the new post-war limits of Britain\\'s international role were illustrated by the Suez Crisis of 1956. The international spread of the English language ensured the continuing international influence of its literature and culture.[123][124] As a result of a shortage of workers in the 1950s, the government encouraged immigration from Commonwealth countries. In the following decades, the UK became a more multi-ethnic society than before.[125] Despite rising living standards in the late 1950s and 1960s, the UK\\'s economic performance was less successful than many of its main competitors such as France, West Germany and Japan.\\n\\n Leaders of member states of the European Union in 2007. The UK entered the European Economic Community in 1973. In a referendum held in 1975, 67% of voters voted to remain in the EEC,[126] but 52% voted to leave the EU in 2016.[127]\\nIn the decade-long process of European integration, the UK was a founding member of the alliance called the Western European Union, established with the London and Paris Conferences in 1954. In 1960 the UK was one of the seven founding members of the European Free Trade Association (EFTA), but in 1973 it left to join the European Communities (EC). When the EC became the European Union (EU) in 1992, the UK was one of the 12 founding members. The Treaty of Lisbon was signed in 2007, which forms the constitutional basis of the European Union since then.\\nFrom the late 1960s, Northern Ireland suffered communal and paramilitary violence (sometimes affecting other parts of the UK) conventionally known as the Troubles. It is usually considered to have ended with the Belfast \"Good Friday\" Agreement of 1998.[128][129][130]\\nFollowing a period of widespread economic slowdown and industrial strife in the 1970s, the Conservative government of the 1980s under Margaret Thatcher initiated a radical policy of monetarism, deregulation, particularly of the financial sector (for example, Big Bang in 1986) and labour markets, the sale of state-owned companies (privatisation), and the withdrawal of subsidies to others.[131] This resulted in high unemployment and social unrest, but ultimately also economic growth, particularly in the services sector. From 1984, the economy was helped by the inflow of substantial North Sea oil revenues.[132]\\nAround the end of the 20th century there were major changes to the governance of the UK with the establishment of devolved administrations for Scotland, Wales and Northern Ireland.[133] The statutory incorporation followed acceptance of the European Convention on Human Rights. The UK is still a key global player diplomatically and militarily. It plays leading roles in the EU, UN and NATO. However, controversy surrounds some of Britain\\'s overseas military deployments, particularly in Afghanistan and Iraq.[134]\\nThe 2008 global financial crisis severely affected the UK economy. The coalition government of 2010 introduced austerity measures intended to tackle the substantial public deficits which resulted.[135] In 2014 the Scottish Government held a referendum on Scottish independence, with 55.3% of voters rejecting the independence proposal and opting to remain within the United Kingdom.[136] In 2016, 51.9% of voters in the United Kingdom voted to leave the European Union.[137] The legal process of leaving the EU began on 29 March 2017, with the UK\\'s invocation of Article 50 of the Treaty of Lisbon, formally notifying the EU of the UK\\'s intention to leave. The article stipulates that the negotiations to leave will last at least two years. The UK remains a full member of the EU during this time.[138][139]\\n\\nGeography\\nMain article: Geography of the United Kingdom\\n The topography of the UK\\nThe total area of the United Kingdom is approximately 243,610 square kilometres (94,060\\xa0sq\\xa0mi). The country occupies the major part of the British Isles[140] archipelago and includes the island of Great Britain, the north-eastern one-sixth of the island of Ireland and some smaller surrounding islands. It lies between the North Atlantic Ocean and the North Sea with the south-east coast coming within 22 miles (35\\xa0km) of the coast of northern France, from which it is separated by the English Channel.[141] In 1993 10% of the UK was forested, 46% used for pastures and 25% cultivated for agriculture.[142] The Royal Greenwich Observatory in London is the defining point of the Prime Meridian.[143]\\nThe United Kingdom lies between latitudes 49° and 61° N, and longitudes 9° W and 2° E. Northern Ireland shares a 224-mile (360\\xa0km) land boundary with the Republic of Ireland.[141] The coastline of Great Britain is 11,073 miles (17,820\\xa0km) long.[144] It is connected to continental Europe by the Channel Tunnel, which at 31 miles (50\\xa0km) (24 miles (38\\xa0km) underwater) is the longest underwater tunnel in the world.[145]\\nEngland accounts for just over half (53%) of the total area of the UK, covering 130,395 square kilometres (50,350\\xa0sq\\xa0mi).[146] Most of the country consists of lowland terrain,[142] with mountainous terrain north-west of the Tees-Exe line; including the Cumbrian Mountains of the Lake District, the Pennines, Exmoor and Dartmoor. The main rivers and estuaries are the Thames, Severn and the Humber. England\\'s highest mountain is Scafell Pike (978 metres (3,209\\xa0ft)) in the Lake District.\\n\\nThe Skiddaw massif, town of Keswick and Derwent Water in LakelandSkye is one of the major islands in the Inner Hebrides and part of the Scottish Highlands\\nScotland accounts for just under a third (32%) of the total area of the UK, covering 78,772 square kilometres (30,410\\xa0sq\\xa0mi)[147] and including nearly eight hundred islands,[148] predominantly west and north of the mainland; notably the Hebrides, Orkney Islands and Shetland Islands. Scotland is the most mountainous country in the UK and its topography is distinguished by the Highland Boundary Fault—a geological rock fracture—which traverses Scotland from Arran in the west to Stonehaven in the east.[149] The fault separates two distinctively different regions; namely the Highlands to the north and west and the lowlands to the south and east. The more rugged Highland region contains the majority of Scotland\\'s mountainous land, including Ben Nevis which at 1,345 metres (4,413\\xa0ft)[150] is the highest point in the British Isles.[151] Lowland areas—especially the narrow waist of land between the Firth of Clyde and the Firth of Forth known as the Central Belt—are flatter and home to most of the population including Glasgow, Scotland\\'s largest city, and Edinburgh, its capital and political centre, although upland and mountainous terrain lies within the Southern Uplands.\\nWales accounts for less than a tenth (9%) of the total area of the UK, covering 20,779 square kilometres (8,020\\xa0sq\\xa0mi).[152] Wales is mostly mountainous, though South Wales is less mountainous than North and mid Wales. The main population and industrial areas are in South Wales, consisting of the coastal cities of Cardiff, Swansea and Newport, and the South Wales Valleys to their north. The highest mountains in Wales are in Snowdonia and include Snowdon (Welsh: Yr Wyddfa) which, at 1,085 metres (3,560\\xa0ft), is the highest peak in Wales.[142] Wales has over 2,704 kilometres (1,680 miles) of coastline.[144] Several islands lie off the Welsh mainland, the largest of which is Anglesey (Ynys Môn) in the north-west.\\nNorthern Ireland, separated from Great Britain by the Irish Sea and North Channel, has an area of 14,160 square kilometres (5,470\\xa0sq\\xa0mi) and is mostly hilly. It includes Lough Neagh which, at 388 square kilometres (150\\xa0sq\\xa0mi), is the largest lake in the British Isles by area.[153] The highest peak in Northern Ireland is Slieve Donard in the Mourne Mountains at 852 metres (2,795\\xa0ft).[142]\\n\\nClimate\\nMain article: Climate of the United Kingdom\\nThe United Kingdom has a temperate climate, with plentiful rainfall all year round.[141] The temperature varies with the seasons seldom dropping below −11\\xa0°C (12\\xa0°F) or rising above 35\\xa0°C (95\\xa0°F).[154] The prevailing wind is from the south-west and bears frequent spells of mild and wet weather from the Atlantic Ocean,[141] although the eastern parts are mostly sheltered from this wind since the majority of the rain falls over the western regions the eastern parts are therefore the driest. Atlantic currents, warmed by the Gulf Stream, bring mild winters;[155] especially in the west where winters are wet and even more so over high ground. Summers are warmest in the south-east of England, being closest to the European mainland, and coolest in the north. Heavy snowfall can occur in winter and early spring on high ground, and occasionally settles to great depth away from the hills.\\n\\n\\nEngland\\nScotland\\nWales\\nNorthernIreland\\nThe four countries of the United Kingdom\\nAdministrative divisions\\nMain article: Administrative geography of the United Kingdom\\nThe geographical division of the United Kingdom into counties or shires began in England and Scotland in the early Middle Ages and was complete throughout Great Britain and Ireland by the early Modern Period.[156] Administrative arrangements were developed separately in each country of the United Kingdom, with origins which often pre-dated the formation of the United Kingdom. Modern local government by elected councils, partly based on the ancient counties, was introduced separately: in England and Wales in a 1888 act, Scotland in a 1889 act and Ireland in a 1898 act, meaning there is no consistent system of administrative or geographic demarcation across the United Kingdom.[157]\\nUntil the 19th century there was little change to those arrangements, but there has since been a constant evolution of role and function.[158]\\nThe organisation of local government in England is complex, with the distribution of functions varying according to local arrangements. The upper-tier subdivisions of England are the nine regions, now used primarily for statistical purposes.[159] One region, Greater London, has had a directly elected assembly and mayor since 2000 following popular support for the proposal in a referendum.[160] It was intended that other regions would also be given their own elected regional assemblies, but a proposed assembly in the North East region was rejected by a referendum in 2004.[161] Below the regional tier, some parts of England have county councils and district councils and others have unitary authorities; while London consists of 32 London boroughs and the City of London. Councillors are elected by the first-past-the-post system in single-member wards or by the multi-member plurality system in multi-member wards.[162]\\nFor local government purposes, Scotland is divided into 32 council areas, with wide variation in both size and population. The cities of Glasgow, Edinburgh, Aberdeen and Dundee are separate council areas, as is the Highland Council, which includes a third of Scotland\\'s area but only just over 200,000\\xa0people. Local councils are made up of elected councillors, of whom there are 1,223;[163] they are paid a part-time salary. Elections are conducted by single transferable vote in multi-member wards that elect either three or four councillors. Each council elects a Provost, or Convenor, to chair meetings of the council and to act as a figurehead for the area.\\nLocal government in Wales consists of 22 unitary authorities. These include the cities of Cardiff, Swansea and Newport, which are unitary authorities in their own right.[164] Elections are held every four years under the first-past-the-post system.[164]\\nLocal government in Northern Ireland has since 1973 been organised into 26 district councils, each elected by single transferable vote. Their powers are limited to services such as collecting waste, controlling dogs and maintaining parks and cemeteries.[165] In 2008 the executive agreed on proposals to create 11 new councils and replace the present system.[166]\\n\\nDependencies\\nMain articles: British Overseas Territories, Crown dependencies, British Islands, and List of leaders of British dependencies\\n Anguilla: Cap Juluca, Maundays Bay\\nThe United Kingdom has sovereignty over seventeen territories which do not form part of the United Kingdom itself: fourteen British Overseas Territories[25] and three Crown dependencies.[25][167]\\nThe fourteen British Overseas Territories are: Anguilla; Bermuda; the British Antarctic Territory; the British Indian Ocean Territory; the British Virgin Islands; the Cayman Islands; the Falkland Islands; Gibraltar; Montserrat; Saint Helena, Ascension and Tristan da Cunha; the Turks and Caicos Islands; the Pitcairn Islands; South Georgia and the South Sandwich Islands; and Akrotiri and Dhekelia on the island of Cyprus.[168] British claims in Antarctica are not universally recognised, mainly by Argentina, whose claims cover a majority of the British sector.[169] Collectively Britain\\'s overseas territories encompass an approximate land area of 1,727,570 square kilometres (667,018\\xa0sq\\xa0mi) and a population of approximately 260,000 people.[170]\\nThey are the last remaining remnants of the British Empire and a 1999 UK government white paper stated that: \"[The] Overseas Territories are British for as long as they wish to remain British. Britain has willingly granted independence where it has been requested; and we will continue to do so where this is an option.\"[171] Self-determination is also enshrined into the constitutions of several overseas territories and three have specifically voted to remain under British sovereignty (Bermuda in 1995,[172] Gibraltar in 2002[173] and the Falkland Islands in 2013).[174]\\nThe Crown dependencies are possessions of the Crown, as opposed to overseas territories of the UK.[175] They comprise three independently administered jurisdictions: the Channel Islands of Jersey and Guernsey in the English Channel, and the Isle of Man in the Irish Sea. By mutual agreement, the British Government manages the islands\\' foreign affairs and defence and the UK Parliament has the authority to legislate on their behalf. However, internationally, they are regarded as \"territories for which the United Kingdom is responsible\".[176] The power to pass legislation affecting the islands ultimately rests with their own respective legislative assemblies, with the assent of the Crown (Privy Council or, in the case of the Isle of Man, in certain circumstances the Lieutenant-Governor).[177] Since 2005 each Crown dependency has had a Chief Minister as its head of government.[178]\\nThe British dependencies use a varied assortment of currencies. These include the British pound, US dollar, New Zealand dollar, euro or their own currencies, which may be pegged to either.[citation needed]\\n\\n Locations of UK dependencies (crown dependencies alphabetised, overseas territories numbered): A Isle of Man; B Guernsey; C Jersey; 1 United Kingdom; 2 Gibraltar; 3 Akrotiri and Dhekelia; 4 Bermuda; 5 Turks and Caicos Islands; 6 British Virgin Islands; 7 Anguilla; 8 Cayman Islands; 9 Montserrat; 10 Pitcairn Islands; 11 Saint Helena, Ascension and Tristan da Cunha; 12 British Indian Ocean Territory; 13 Falkland Islands; 14 South Georgia and the South Sandwich Islands; (15) British Antarctic Territory\\nPolitics\\nMain article: Politics of the United Kingdom\\nQueen Elizabeth II, Monarch since 1952Theresa May, Prime Minister since 2016\\nThe United Kingdom is a unitary state under a constitutional monarchy. Queen Elizabeth II is the monarch and head of state of the UK, as well as Queen of fifteen other independent Commonwealth countries. The monarch has \"the right to be consulted, the right to encourage, and the right to warn\".[179] The Constitution of the United Kingdom is uncodified and consists mostly of a collection of disparate written sources, including statutes, judge-made case law and international treaties, together with constitutional conventions.[180] As there is no technical difference between ordinary statutes and \"constitutional law\", the UK Parliament can perform \"constitutional reform\" simply by passing Acts of Parliament, and thus has the political power to change or abolish almost any written or unwritten element of the constitution. However, no Parliament can pass laws that future Parliaments cannot change.[181]\\n\\nGovernment\\nMain article: Government of the United Kingdom\\nThe UK has a parliamentary government based on the Westminster system that has been emulated around the world: a legacy of the British Empire. The parliament of the United Kingdom meets in the Palace of Westminster and has two houses: an elected House of Commons and an appointed House of Lords. All bills passed are given Royal Assent before becoming law.\\nThe position of prime minister,[note 13] the UK\\'s head of government,[182] belongs to the person most likely to command the confidence of the House of Commons; this individual is typically the leader of the political party or coalition of parties that holds the largest number of seats in that chamber. The prime minister chooses a cabinet and its members are formally appointed by the monarch to form Her Majesty\\'s Government. By convention, the monarch respects the prime minister\\'s decisions of government.[183]\\n\\n The Palace of Westminster, seat of both houses of the Parliament of the United Kingdom\\nThe cabinet is traditionally drawn from members of the prime minister\\'s party or coalition and mostly from the House of Commons but always from both legislative houses, the cabinet being responsible to both. Executive power is exercised by the prime minister and cabinet, all of whom are sworn into the Privy Council of the United Kingdom, and become Ministers of the Crown. The current Prime Minister is Theresa May, who has been in office since 13 July 2016. May is also the leader of the Conservative Party. For elections to the House of Commons, the UK is divided into 650 constituencies,[184] each electing a single member of parliament (MP) by simple plurality. General elections are called by the monarch when the prime minister so advises. Prior to the Fixed-term Parliaments Act 2011, the Parliament Acts 1911 and 1949 required that a new election must be called no later than five years after the previous general election.[185]\\nThe Conservative Party, the Labour Party and the Liberal Democrats (formerly as the Liberal Party) have, in modern times, been considered the UK\\'s three major political parties,[186] representing the British traditions of conservatism, socialism and liberalism, respectively.[187] However, in both the 2015 and 2017 general elections, the Scottish National Party was the third-largest party by number of seats won, ahead of the Liberal Democrats. Most of the remaining seats were won by parties that contest elections only in one part of the UK: Plaid Cymru (Wales only); and the Democratic Unionist Party and Sinn Féin (Northern Ireland only[note 14]). In accordance with party policy, no elected Sinn Féin members of parliament have ever attended the House of Commons to speak on behalf of their constituents because of the requirement to take an oath of allegiance to the monarch.[188]\\n\\nDevolved administrations\\nMain articles: Devolution in the United Kingdom, List of leaders of devolved administrations, Northern Ireland Executive, Scottish Government, and Welsh Government\\n The Scottish Parliament Building in Holyrood is the seat of the Scottish Parliament\\nScotland, Wales and Northern Ireland each have their own government or executive, led by a First Minister (or, in the case of Northern Ireland, a diarchal First Minister and deputy First Minister), and a devolved unicameral legislature. England, the largest country of the United Kingdom, has no such devolved executive or legislature and is administered and legislated for directly by the UK\\'s government and parliament on all issues. This situation has given rise to the so-called West Lothian question, which concerns the fact that members of parliament from Scotland, Wales and Northern Ireland can vote, sometimes decisively,[189] on matters that affect only England.[190] The 2013 McKay Commission on this recommended that laws affecting only England should need support from a majority of English members of parliament.[191]\\n\\n Prime Minister Theresa May meets First Minister of Scotland Nicola Sturgeon outside 10 Downing Street, the official residence of the British Prime Minister\\nThe Scottish Government and Parliament have wide-ranging powers over any matter that has not been specifically reserved to the UK Parliament, including education, healthcare, Scots law and local government.[192] In 2012, the UK and Scottish governments signed the Edinburgh Agreement setting out the terms for a referendum on Scottish independence in 2014, which was defeated 55.3% to 44.7%.[193]\\nThe Welsh Government and the National Assembly for Wales have more limited powers than those devolved to Scotland.[194] The Assembly is able to legislate on devolved matters through Acts of the Assembly, which require no prior consent from Westminster.\\nThe Northern Ireland Executive and Assembly have powers similar to those devolved to Scotland. The Executive is led by a diarchy representing unionist and nationalist members of the Assembly.[195] Devolution to Northern Ireland is contingent on participation by the Northern Ireland administration in the North-South Ministerial Council, where the Northern Ireland Executive cooperates and develops joint and shared policies with the Government of Ireland. The British and Irish governments co-operate on non-devolved matters affecting Northern Ireland through the British–Irish Intergovernmental Conference, which assumes the responsibilities of the Northern Ireland administration in the event of its non-operation.\\nThe UK does not have a codified constitution and constitutional matters are not among the powers devolved to Scotland, Wales or Northern Ireland. Under the doctrine of parliamentary sovereignty, the UK Parliament could, in theory, therefore, abolish the Scottish Parliament, Welsh Assembly or Northern Ireland Assembly.[196][197] Indeed, in 1972, the UK Parliament unilaterally prorogued the Parliament of Northern Ireland, setting a precedent relevant to contemporary devolved institutions.[198] In practice, it would be politically difficult for the UK Parliament to abolish devolution to the Scottish Parliament and the Welsh Assembly, given the political entrenchment created by referendum decisions.[199] The political constraints placed upon the UK Parliament\\'s power to interfere with devolution in Northern Ireland are even greater than in relation to Scotland and Wales, given that devolution in Northern Ireland rests upon an international agreement with the Government of Ireland.[200]\\n\\nLaw and criminal justice\\nMain article: Law of the United Kingdom\\n The Royal Courts of Justice of England and Wales\\nThe United Kingdom does not have a single legal system as Article 19 of the 1706 Treaty of Union provided for the continuation of Scotland\\'s separate legal system.[201] Today the UK has three distinct systems of law: English law, Northern Ireland law and Scots law. A new Supreme Court of the United Kingdom came into being in October 2009 to replace the Appellate Committee of the House of Lords.[202][203] The Judicial Committee of the Privy Council, including the same members as the Supreme Court, is the highest court of appeal for several independent Commonwealth countries, the British Overseas Territories and the Crown Dependencies.[204]\\nBoth English law, which applies in England and Wales, and Northern Ireland law are based on common-law principles.[205] The essence of common law is that, subject to statute, the law is developed by judges in courts, applying statute, precedent and common sense to the facts before them to give explanatory judgements of the relevant legal principles, which are reported and binding in future similar cases (stare decisis).[206] The courts of England and Wales are headed by the Senior Courts of England and Wales, consisting of the Court of Appeal, the High Court of Justice (for civil cases) and the Crown Court (for criminal cases). The Supreme Court is the highest court in the land for both criminal and civil appeal cases in England, Wales and Northern Ireland and any decision it makes is binding on every other court in the same jurisdiction, often having a persuasive effect in other jurisdictions.[207]\\n\\n The High Court of Justiciary—the supreme criminal court of Scotland\\nScots law is a hybrid system based on both common-law and civil-law principles. The chief courts are the Court of Session, for civil cases,[208] and the High Court of Justiciary, for criminal cases.[209] The Supreme Court of the United Kingdom serves as the highest court of appeal for civil cases under Scots law.[210] Sheriff courts deal with most civil and criminal cases including conducting criminal trials with a jury, known as sheriff solemn court, or with a sheriff and no jury, known as sheriff summary Court.[211] The Scots legal system is unique in having three possible verdicts for a criminal trial: \"guilty\", \"not guilty\" and \"not proven\". Both \"not guilty\" and \"not proven\" result in an acquittal.[212]\\nCrime in England and Wales increased in the period between 1981 and 1995, though since that peak there has been an overall fall of 66% in recorded crime from 1995 to 2015,[213] according to crime statistics. The prison population of England and Wales has increased to 86,000, giving England and Wales the highest rate of incarceration in Western Europe at 148 per 100,000.[214][215] Her Majesty\\'s Prison Service, which reports to the Ministry of Justice, manages most of the prisons within England and Wales. The murder rate in England and Wales has stabilised in the first half of the 2010s with a murder rate around 1 per 100,000 which is half the peak in 2002 and similar to the rate in the 1980s[216][217] Crime in Scotland fell slightly in 2014/2015 to its lowest level in 39 years in with 59 killings for a murder rate of 1.1 per 100,000. Scotland\\'s prisons are overcrowded but the prison population is shrinking.[218]\\n\\nForeign relations\\nMain article: Foreign relations of the United Kingdom\\nThe UK is a permanent member of the United Nations Security Council, a member of NATO, the Commonwealth of Nations, the G7 finance ministers, the G7 forum (previously the G8 forum), the G20, the OECD, the WTO, the Council of Europe, the OSCE. It is also a member state of the European Union in the process of withdrawal.[219] The UK is said to have a \"Special Relationship\" with the United States and a close partnership with France—the \"Entente cordiale\"—and shares nuclear weapons technology with both countries—;[220][221] the Anglo-Portuguese Alliance is considered to be the oldest currently binding military alliance in the world. The UK is also closely linked with the Republic of Ireland; the two countries share a Common Travel Area and co-operate through the British-Irish Intergovernmental Conference and the British-Irish Council. Britain\\'s global presence and influence is further amplified through its trading relations, foreign investments, official development assistance and military engagements.[222]\\n\\nMilitary\\nMain article: British Armed Forces\\n HMS\\xa0Queen Elizabeth, a Queen Elizabeth-class supercarrier on sea trials in June 2017.\\nThe armed forces of the United Kingdom—officially, Her Majesty\\'s Armed Forces—consist of three professional service branches: the Royal Navy and Royal Marines (forming the Naval Service), the British Army and the Royal Air Force.[223] The forces are managed by the Ministry of Defence and controlled by the Defence Council, chaired by the Secretary of State for Defence. The Commander-in-Chief is the British monarch, to whom members of the forces swear an oath of allegiance.[224] The Armed Forces are charged with protecting the UK and its overseas territories, promoting the UK\\'s global security interests and supporting international peacekeeping efforts. They are active and regular participants in NATO, including the Allied Rapid Reaction Corps, as well as the Five Power Defence Arrangements, RIMPAC and other worldwide coalition operations. Overseas garrisons and facilities are maintained in Ascension Island, Belize, Brunei, Canada, Cyprus, Diego Garcia, the Falkland Islands, Germany, Gibraltar, Kenya, Qatar and Singapore.[225][226]\\nThe British armed forces played a key role in establishing the British Empire as the dominant world power in the 18th, 19th and early 20th centuries. By emerging victorious from conflicts, Britain has often been able to decisively influence world events. Since the end of the British Empire, the UK has remained a major military power. Following the end of the Cold War, defence policy has a stated assumption that \"the most demanding operations\" will be undertaken as part of a coalition.[227] UK military operations in Bosnia, Kosovo, Afghanistan, Iraq and Libya, have followed this approach. Setting aside the intervention in Sierra Leone in 2000, the last occasion on which the British military fought alone was the Falklands War of 1982.[citation needed]\\nAccording to various sources, including the Stockholm International Peace Research Institute and the International Institute for Strategic Studies, the United Kingdom has the fourth- or fifth-highest military expenditure in the world. Total defence spending amounts to 2.0% of national GDP.[228]\\n\\nEconomy\\nMain article: Economy of the United Kingdom\\nOverview\\n The Bank of England—the central bank of the United Kingdom and the model on which most modern central banks have been based\\nThe UK has a partially regulated market economy.[229] Based on market exchange rates, the UK is today the fifth-largest economy in the world and the second-largest in Europe after Germany. HM Treasury, led by the Chancellor of the Exchequer, is responsible for developing and executing the government\\'s public finance policy and economic policy. The Bank of England is the UK\\'s central bank and is responsible for issuing notes and coins in the nation\\'s currency, the pound sterling. Banks in Scotland and Northern Ireland retain the right to issue their own notes, subject to retaining enough Bank of England notes in reserve to cover their issue. The pound sterling is the world\\'s third-largest reserve currency (after the US dollar and the euro).[230] Since 1997 the Bank of England\\'s Monetary Policy Committee, headed by the Governor of the Bank of England, has been responsible for setting interest rates at the level necessary to achieve the overall inflation target for the economy that is set by the Chancellor each year.[231]\\nThe UK service sector makes up around 79% of GDP.[232] London is one of the three \"command centres\" of the global economy (alongside New York City and Tokyo),[233] it is the world\\'s largest financial centre alongside New York,[234][235][236] and it has the largest city GDP in Europe.[237] Tourism is very important to the British economy; with over 27\\xa0million tourists arriving in 2004, the United Kingdom is ranked as the sixth major tourist destination in the world and London has the most international visitors of any city in the world.[238][239] The creative industries accounted for 7% GVA in 2005 and grew at an average of 6% per annum between 1997 and 2005.[240]\\nThe Industrial Revolution started in the UK with an initial concentration on the textile industry,[241] followed by other heavy industries such as shipbuilding, coal mining and steelmaking.[242][243] British merchants, shippers and bankers developed overwhelming advantage over those of other nations allowing the UK to dominate international trade in the 19th century.[244][245] As other nations industrialised, coupled with economic decline after two world wars, the United Kingdom began to lose its competitive advantage and heavy industry declined, by degrees, throughout the 20th century. Manufacturing remains a significant part of the economy but accounted for only 16.7% of national output in 2003.[246]\\n\\n Jaguar cars, including the Jaguar XE as shown, are designed, developed and manufactured in the UK\\nThe automotive industry is a significant part of the UK manufacturing sector and employs around 800,000 people, with a turnover in 2015 of £70 billion, generating £34.6 billion of exports (11.8% of the UK\\'s total export goods). In 2015, the UK produced around 1.6 million passenger vehicles and 94,500 commercial vehicles. The UK is a major centre for engine manufacturing: in 2015 around 2.4 million engines were produced. The UK motorsport industry employs around 41,000 people, comprises around 4,500 companies and has an annual turnover of around £6 billion.[247]\\nThe aerospace industry of the UK is the second- or third-largest national aerospace industry in the world depending upon the method of measurement and has an annual turnover of around £30 billion.[248] The wings for the Airbus A380 and the A350 XWB are designed and manufactured at Airbus UK\\'s Broughton facility, whilst over a quarter of the value of the Boeing 787 comes from UK manufacturers including Eaton, Messier-Bugatti-Dowty and Rolls-Royce.[citation needed]\\n\\n Engines and wings for the Airbus A380 are manufactured in the UK\\nBAE Systems plays a critical role in some of the world\\'s biggest defence aerospace projects. In the UK, the company makes large sections of the Typhoon Eurofighter and assembles the aircraft for the Royal Air Force. It is also a principal subcontractor on the F35 Joint Strike Fighter—the world\\'s largest single defence project—for which it designs and manufactures a range of components. It also manufactures the Hawk, the world\\'s most successful jet training aircraft.[249] Airbus UK also manufactures the wings for the A400\\xa0m military transporter. Rolls-Royce is the world\\'s second-largest aero-engine manufacturer. Its engines power more than 30 types of commercial aircraft and it has more than 30,000 engines in service in the civil and defence sectors.\\nThe UK space industry was worth £9.1bn in 2011 and employed 29,000 people. It is growing at a rate of 7.5% annually, according to its umbrella organisation, the UK Space Agency. In 2013, the British Government pledged £60\\xa0m to the Skylon project: this investment will provide support at a \"crucial stage\" to allow a full-scale prototype of the SABRE engine to be built.\\nThe pharmaceutical industry plays an important role in the UK economy and the country has the third-highest share of global pharmaceutical R&D expenditures.[250][251]\\nAgriculture is intensive, highly mechanised and efficient by European standards, producing about 60% of food needs with less than 1.6% of the labour force (535,000 workers).[252] Around two-thirds of production is devoted to livestock, one-third to arable crops. Farmers are subsidised by the EU\\'s Common Agricultural Policy. The UK retains a significant, though much reduced fishing industry. It is also rich in a number of natural resources including coal, petroleum, natural gas, tin, limestone, iron ore, salt, clay, chalk, gypsum, lead, silica and an abundance of arable land.[253]\\n\\nThe City of London is one of the world\\'s largest financial centres[234][235][236]The Canary Wharf is one of the two main financial centres of the UK along with the City of London\\nIn the final quarter of 2008, the UK economy officially entered recession for the first time since 1991.[254] Following the likes of the United States, France and many major economies, in 2013, the UK lost its top AAA credit rating for the first time since 1978 with Moodys and Fitch credit agency, but, unlike the other major economies, retained its triple A rating with Standard & Poor\\'s.[255][256] By the end of 2014, UK growth was the fastest in both the G7 and in Europe,[257][258] and by September 2015, the unemployment rate was down to a seven-year low of 5.3%.[259]\\nSince the 1980s, UK economic inequality, like Canada, Australia and the United States, has grown faster than in other developed countries.[260][261] The poverty line in the UK is commonly defined as being 60% of the median household income.[note 15] The Office for National Statistics has estimated that in 2011, 14 million people were at risk of poverty or social exclusion, and that one person in 20 (5.1%) was experiencing \"severe material depression\",[262] up from 3 million people in 1977.[263][264]\\nThe UK has an external debt of $9.6 trillion dollars, which is the second highest in the world after the US. As a percentage of GDP, external debt is 408%, which is the third highest in the world after Luxembourg and Iceland.[265][266][267][268][269]\\nThe combination of the UK\\'s relatively lax regulatory regime and London\\'s financial institutions providing sophisticated methods to launder proceeds from criminal activity around the world, including those from drug trade, makes the City of London a global hub for illicit finance and the UK a safe haven for the world\\'s major-league tax dodgers, according to research papers and reports published in the mid-2010s.[270][271][272][273][274] The reports on the Panama papers published in April 2016 singled out the UK as being \"at the heart of super-rich tax-avoidance network.\"[275]\\n\\nScience and technology\\nMain article: Science and technology in the United Kingdom\\n Charles Darwin (1809–1882), whose theory of evolution by natural selection is the foundation of modern biological sciences\\nEngland and Scotland were leading centres of the Scientific Revolution from the 17th century.[276] The United Kingdom led the Industrial Revolution from the 18th century,[241] and has continued to produce scientists and engineers credited with important advances.[277] Major theorists from the 17th and 18th centuries include Isaac Newton, whose laws of motion and illumination of gravity have been seen as a keystone of modern science;[278] from the 19th century Charles Darwin, whose theory of evolution by natural selection was fundamental to the development of modern biology, and James Clerk Maxwell, who formulated classical electromagnetic theory; and more recently Stephen Hawking, who has advanced major theories in the fields of cosmology, quantum gravity and the investigation of black holes.[279]\\nMajor scientific discoveries from the 18th century include hydrogen by Henry Cavendish;[280] from the 20th century penicillin by Alexander Fleming,[281] and the structure of DNA, by Francis Crick and others.[282] Famous British engineers and inventors of the Industrial Revolution include James Watt, George Stephenson, Richard Arkwright, Robert Stephenson and Isambard Kingdom Brunel.[283] Other major engineering projects and applications by people from the UK include the steam locomotive, developed by Richard Trevithick and Andrew Vivian;[284] from the 19th century the electric motor by Michael Faraday, the incandescent light bulb by Joseph Swan,[285] and the first practical telephone, patented by Alexander Graham Bell;[286] and in the 20th century the world\\'s first working television system by John Logie Baird and others,[287] the jet engine by Frank Whittle, the basis of the modern computer by Alan Turing, and the World Wide Web by Tim Berners-Lee.[288]\\nScientific research and development remains important in British universities, with many establishing science parks to facilitate production and co-operation with industry.[289] Between 2004 and 2008 the UK produced 7% of the world\\'s scientific research papers and had an 8% share of scientific citations, the third and second highest in the world (after the United States and China, respectively).[290] Scientific journals produced in the UK include Nature, the British Medical Journal and The Lancet.[291]\\n\\nTransport\\nMain article: Transport in the United Kingdom\\n Heathrow Terminal 5 building. London Heathrow Airport is one of the busiest airports by international passenger traffic worldwide[292][293]\\nA radial road network totals 29,145 miles (46,904\\xa0km) of main roads, 2,173 miles (3,497\\xa0km) of motorways and 213,750 miles (344,000\\xa0km) of paved roads.[141] The M25, encircling London, is the largest and busiest bypass in the world.[294] In 2009 there were a total of 34\\xa0million licensed vehicles in Great Britain.[295]\\n\\n London St Pancras International is the UK\\'s 13th busiest railway terminus. The station is one of London\\'s main domestic and international transport hubs providing both commuter rail and high speed rail services across the UK and to Paris, Lille and Brussels\\nThe UK has a railway network of 10,072 miles (16,209\\xa0km) in Great Britain and 189 miles (304\\xa0km) in Northern Ireland. Railways in Northern Ireland are operated by NI Railways, a subsidiary of state-owned Translink. In Great Britain, the British Rail network was privatised between 1994 and 1997, which was followed by a rapid rise in passenger numbers following years of decline, although the factors behind this are disputed. Network Rail owns and manages most of the fixed assets (tracks, signals etc.). About 20 privately owned Train Operating Companies operate passenger trains, which carried 1.68 billion passengers in 2015.[296][297] There are also some 1,000 freight trains in daily operation.[when?][141] The British Government is to spend £30 billion on a new high-speed railway line, HS2, to be operational by 2026.[298] Crossrail, under construction in London, is Europe\\'s largest construction project with a £15 billion projected cost.[299][300]\\nIn the year from October 2009 to September 2010 UK airports handled a total of 211.4\\xa0million passengers.[301] In that period the three largest airports were London Heathrow Airport (65.6\\xa0million passengers), Gatwick Airport (31.5\\xa0million passengers) and London Stansted Airport (18.9\\xa0million passengers).[301] London Heathrow Airport, located 15 miles (24\\xa0km) west of the capital, has the most international passenger traffic of any airport in the world[292][293] and is the hub for the UK flag carrier British Airways, as well as Virgin Atlantic.[302]\\n\\nEnergy\\nMain article: Energy in the United Kingdom\\n An oil platform in the North Sea\\nIn 2006, the UK was the world\\'s ninth-largest consumer of energy and the 15th-largest producer.[303] The UK is home to a number of large energy companies, including two of the six oil and gas \"supermajors\"—BP and Royal Dutch Shell.[304][305] In 2011, 40% of the UK\\'s electricity was produced by gas, 30% by coal, 19% by nuclear power and 4.2% by wind, hydro, biofuels and wastes.[306]\\nIn 2013, the UK produced 914\\xa0thousand barrels per day (bbl/d) of oil and consumed 1,507\\xa0thousand bbl/d.[307][308] Production is now in decline and the UK has been a net importer of oil since 2005.[309] In 2010[update] the UK had around 3.1\\xa0billion barrels of proven crude oil reserves, the largest of any EU member state.[309]\\nIn 2009, the UK was the 13th-largest producer of natural gas in the world and the largest producer in the EU.[310] Production is now in decline and the UK has been a net importer of natural gas since 2004.[310]\\nCoal production played a key role in the UK economy in the 19th and 20th centuries. In the mid-1970s, 130 million tonnes of coal were produced annually, not falling below 100 million tonnes until the early 1980s. During the 1980s and 1990s the industry was scaled back considerably. In 2011, the UK produced 18.3 million tonnes of coal.[311] In 2005 it had proven recoverable coal reserves of 171\\xa0million tons.[311] The UK Coal Authority has stated there is a potential to produce between 7\\xa0billion tonnes and 16\\xa0billion tonnes of coal through underground coal gasification (UCG) or \\'fracking\\',[312] and that, based on current UK coal consumption, such reserves could last between 200 and 400 years.[313] However, environmental and social concerns have been raised over chemicals getting into the water table and minor earthquakes damaging homes.[314][315]\\nIn the late 1990s, nuclear power plants contributed around 25% of total annual electricity generation in the UK, but this has gradually declined as old plants have been shut down and ageing-related problems affect plant availability. In 2012, the UK had 16 reactors normally generating about 19% of its electricity. All but one of the reactors will be retired by 2023. Unlike Germany and Japan, the UK intends to build a new generation of nuclear plants from about 2018.[306]\\nThe total of all renewable electricity sources provided for 14.9% of the electricity generated in the United Kingdom in 2013,[316] reaching 53.7 TWh of electricity generated. The UK is one of the best sites in Europe for wind energy, and wind power production is its fastest growing supply, in 2014 it generated 9.3% of the UK\\'s total electricity.[317][318][319]\\n\\nWater supply and sanitation\\nMain article: Water supply and sanitation in the United Kingdom\\nAccess to improved water supply and sanitation in the UK is universal. It is estimated that 96.7% of households are connected to the sewer network.[320] According to the Environment Agency, total water abstraction for public water supply in the UK was 16,406 megalitres per day in 2007.[321] Drinking water standards and wastewater discharge standards in the UK, as in other countries of the European Union, are determined by the EU (see Water supply and sanitation in the European Union).[citation needed]\\nIn England and Wales water and sewerage services are provided by 10 private regional water and sewerage companies and 13 mostly smaller private \"water only\" companies. In Scotland water and sewerage services are provided by a single public company, Scottish Water. In Northern Ireland water and sewerage services are also provided by a single public entity, Northern Ireland Water.[citation needed]\\n\\nDemographics\\nMain article: Demography of the United Kingdom\\n Map of population density in the UK as at the 2011 census\\nA census is taken simultaneously in all parts of the UK every ten years.[322] In the 2011 census the total population of the United Kingdom was 63,181,775.[323] It is the third-largest in the European Union, the fifth-largest in the Commonwealth and the 22nd-largest in the world. In mid-2014 and mid-2015 net long-term international migration contributed more to population growth. In mid-2012 and mid-2013 natural change contributed the most to population growth.[324] Between 2001 and 2011 the population increased by an average annual rate of approximately 0.7%.[323] This compares to 0.3% per year in the period 1991 to 2001 and 0.2% in the decade 1981 to 1991.[325] The 2011 census also confirmed that the proportion of the population aged 0–14 has nearly halved (31% in 1911 compared to 18 in 2011) and the proportion of older people aged 65 and over has more than tripled (from 5 to 16%).[323]\\nEngland\\'s population in 2011 was 53 million.[326] It is one of the most densely populated countries in the world, with 420\\xa0people resident per square kilometre in mid-2015.[324] with a particular concentration in London and the south-east.[327] The 2011 census put Scotland\\'s population at 5.3 million,[328] Wales at 3.06 million and Northern Ireland at 1.81 million.[326]\\nIn 2012 the average total fertility rate (TFR) across the UK was 1.92 children per woman.[329] While a rising birth rate is contributing to current population growth, it remains considerably below the \\'baby boom\\' peak of 2.95 children per woman in 1964,[330] below the replacement rate of 2.1, but higher than the 2001 record low of 1.63.[329] In 2011, 47.3% of births in the UK were to unmarried women.[331] The Office for National Statistics published a bulletin in 2015 showing that, out of the UK population aged 16 and over, 1.7% identify as lesbian, gay, or bisexual (2.0% of males and 1.5% of females). 4.5% of respondents responded with \"other\", \"I don\\'t know\", or did not respond.[332]\\n\\n\\n\\n\\nvte Largest urban areas of the United Kingdom(England and Wales: 2011 census built-up area;[333] Scotland: 2012 estimates urban area;[334] Northern Ireland: 2001 census urban area)[335]\\n\\n\\n\\n\\nRank\\n\\nUrban area\\n\\n Pop.\\n\\nPrincipal settlement\\n\\nRank\\n\\nUrban area\\n\\n Pop.\\n\\nPrincipal settlement\\n\\n\\n\\n\\nGreater London Urban Area\\nGreater Manchester Urban Area\\n\\n\\n1\\nGreater London Urban Area\\n9,787,426\\nLondon\\n11\\nBristol Urban Area\\n617,280\\nBristol\\n\\nWest Midlands Urban Area\\nWest Yorkshire Urban Area\\n\\n\\n\\n2\\nGreater Manchester Urban Area\\n2,553,379\\nManchester\\n12\\nLeicester Urban Area\\n508,916\\nLeicester\\n\\n\\n3\\nWest Midlands Urban Area\\n2,440,986\\nBirmingham\\n13\\nEdinburgh Urban Area\\n488,610\\nEdinburgh\\n\\n\\n4\\nWest Yorkshire Urban Area\\n1,777,934\\nLeeds\\n14\\nBelfast Urban Area\\n483,418\\nBelfast\\n\\n\\n5\\nGreater Glasgow\\n1,199,629\\nGlasgow\\n15\\nBrighton and Hove built-up area\\n474,485\\nBrighton\\n\\n\\n6\\nLiverpool Urban Area\\n864,122\\nLiverpool\\n16\\nSouth East Dorset conurbation\\n466,266\\nBournemouth\\n\\n\\n7\\nSouth Hampshire\\n855,569\\nSouthampton\\n17\\nCardiff Urban Area\\n390,214\\nCardiff\\n\\n\\n8\\nTyneside\\n774,891\\nNewcastle\\n18\\nTeesside\\n376,633\\nMiddlesbrough\\n\\n\\n9\\nNottingham Urban Area\\n729,977\\nNottingham\\n19\\nThe Potteries Urban Area\\n372,775\\nStoke-on-Trent\\n\\n\\n10\\nSheffield Urban Area\\n685,368\\nSheffield\\n20\\nCoventry and Bedworth Urban Area\\n359,262\\nCoventry\\n\\n\\n\\nEthnic groups\\nMain article: Ethnic groups in the United Kingdom\\n Map showing the percentage of the population who are not white according to the 2011 census.\\nHistorically, indigenous British people were thought to be descended from the various ethnic groups that settled there before the 12th century: the Celts, Romans, Anglo-Saxons, Norse and the Normans. Welsh people could be the oldest ethnic group in the UK.[336] A 2006 genetic study shows that more than 50% of England\\'s gene pool contains Germanic Y chromosomes.[337] Another 2005 genetic analysis indicates that \"about 75% of the traceable ancestors of the modern British population had arrived in the British isles by about 6,200 years ago, at the start of the British Neolithic or Stone Age\", and that the British broadly share a common ancestry with the Basque people.[338][339][340]\\nThe UK has a history of small-scale non-white immigration, with Liverpool having the oldest Black population in the country dating back to at least the 1730s during the period of the African slave trade. During this period it is estimated the Afro-Caribbean population of Great Britain was 10,000 to 15,000[341] which later declined due to the abolition of slavery.[342][343] The UK also has the oldest Chinese community in Europe, dating to the arrival of Chinese seamen in the 19th century.[344] In 1950 there were probably fewer than 20,000 non-white residents in Britain, almost all born overseas.[345] In 1951 there were an estimated 94,500 people living in Britain who had been born in South Asia, China, Africa and the Caribbean, just under 0.2% of the UK population. By 1961 this number had more than quadrupled to 384,000, just over 0.7% of the United Kingdom population.[346]\\nSince 1948 substantial immigration from Africa, the Caribbean and South Asia has been a legacy of ties forged by the British Empire.[347] Migration from new EU member states in Central and Eastern Europe since 2004 has resulted in growth in these population groups, although some of this migration has been temporary.[348] Since the 1990s, there has been substantial diversification of the immigrant population, with migrants to the UK coming from a much wider range of countries than previous waves, which tended to involve larger numbers of migrants coming from a relatively small number of countries.[349][350][351]\\nAcademics have argued that the ethnicity categories employed in British national statistics, which were first introduced in the 1991 census, involve confusion between the concepts of ethnicity and race.[352][353] In 2011[update], 87.2% of the UK population identified themselves as white, meaning 12.8% of the UK population identify themselves as of one of number of ethnic minority groups.[354] In the 2001 census, this figure was 7.9% of the UK population.[355]\\nBecause of differences in the wording of the census forms used in England and Wales, Scotland and Northern Ireland, data on the Other White group is not available for the UK as a whole, but in England and Wales this was the fastest growing group between the 2001 and 2011 censuses, increasing by 1.1 million (1.8 percentage points).[356] Amongst groups for which comparable data is available for all parts of the UK level, the Other Asian category increased from 0.4 to 1.4% of the population between 2001 and 2011, while the Mixed category rose from 1.2% to 2%.[354]\\nEthnic diversity varies significantly across the UK. 30.4% of London\\'s population and 37.4% of Leicester\\'s was estimated to be non-white in 2005[update],[357][358] whereas less than 5% of the populations of North East England, Wales and the South West were from ethnic minorities, according to the 2001 census.[359] In 2016[update], 31.4% of primary and 27.9% of secondary pupils at state schools in England were members of an ethnic minority.[360] The 1991 census was the first UK census to have a question on ethnic group. In the 1991 UK census 94.1% of people reported themselves as being White British, White Irish or White Other with 5.9% of people reporting themselves as coming from other minority groups[361]\\n\\n\\n\\nEthnic group\\n\\nPopulation (absolute)\\n\\nPopulation (%)\\n\\n\\n2001[362]\\n\\n2011\\n\\n2011[354]\\n\\n\\nWhite\\n54,153,898\\n(92.14%)\\n\\n\\n55,010,359\\n(87.1%)\\n\\n\\n087.1\\xa0%\\n\\n\\nWhite: Gypsy / Traveller /Irish Traveller[note 16]\\n—\\n63,193\\n000.1\\xa0%\\n\\n\\nAsian /Asian British\\nIndian\\n1,053,411\\n1,451,862\\n002.3\\xa0%\\n\\n\\nPakistani\\n747,285\\n1,174,983\\n001.9\\xa0%\\n\\n\\nBangladeshi\\n283,063\\n451,529\\n000.7\\xa0%\\n\\n\\nChinese\\n247,403\\n433,150\\n000.7\\xa0%\\n\\n\\nother Asian\\n247,664\\n861,815\\n001.4\\xa0%\\n\\n\\nBlack / African / Caribbean /Black British\\n1,148,738\\xa0\\n1,904,684[note 17]\\n003.0\\xa0%\\xa0\\n\\n\\nmixed / multiple ethnic groups\\n677,117\\n1,250,229\\n002.0\\xa0%\\n\\n\\nother ethnic group\\n230,615\\n580,374\\n000.9\\xa0%\\n\\n\\nTotal\\n58,789,194\\n63,182,178\\n100.0\\xa0%\\n\\nLanguages\\nMain article: Languages of the United Kingdom\\n The English-speaking world. States and territories in dark blue have a majority of native speakers, while those where English is an official but not a majority language are shaded in light blue. English is also one of the official languages of the European Union[365] and the United Nations.[366]\\nThe UK\\'s de facto official language is English.[367][368] It is estimated that 95% of the UK\\'s population are monolingual English speakers.[369] 5.5% of the population are estimated to speak languages brought to the UK as a result of relatively recent immigration.[369] South Asian languages, including Punjabi, Hindi, Bengali and Gujarati, are the largest grouping and are spoken by 2.7% of the UK population.[369] According to the 2011 census, Polish has become the second-largest language spoken in England and has 546,000 speakers.[370]\\nFour Celtic languages are spoken in the UK: Welsh, Irish, Scottish Gaelic and Cornish. All are recognised as regional or minority languages, subject to specific measures of protection and promotion under the European Charter for Regional or Minority Languages[2][371] and the Framework Convention for the Protection of National Minorities.[372] In the 2001 Census over a fifth (21%) of the population of Wales said they could speak Welsh,[373] an increase from the 1991 Census (18%).[374] In addition it is estimated that about 200,000 Welsh speakers live in England.[375] In the same census in Northern Ireland 167,487 people (10.4%) stated that they had \"some knowledge of Irish\" (see Irish language in Northern Ireland), almost exclusively in the nationalist (mainly Catholic) population. Over 92,000 people in Scotland (just under 2% of the population) had some Gaelic language ability, including 72% of those living in the Outer Hebrides.[376] The number of schoolchildren being taught through Welsh, Scottish Gaelic and Irish is increasing.[377] Among emigrant-descended populations some Scottish Gaelic is still spoken in Canada (principally Nova Scotia and Cape Breton Island),[378] and Welsh in Patagonia, Argentina.[379]\\nScots, a language descended from early northern Middle English, has limited recognition alongside its regional variant, Ulster Scots in Northern Ireland, without specific commitments to protection and promotion.[2][380]\\nIt is compulsory for pupils to study a second language up to the age of 14 in England.[381] French and German are the two most commonly taught second languages in England and Scotland. All pupils in Wales are taught Welsh as a second language up to age 16, or are taught in Welsh.[382]\\n\\nReligion\\nMain article: Religion in the United Kingdom\\n Westminster Abbey is used for the coronation of British monarchs\\nForms of Christianity have dominated religious life in what is now the United Kingdom for over 1400 years.[383] Although a majority of citizens still identify with Christianity in many surveys, regular church attendance has fallen dramatically since the middle of the 20th century,[384] while immigration and demographic change have contributed to the growth of other faiths, most notably Islam.[385] This has led some commentators to variously describe the UK as a multi-faith,[386] secularised,[387] or post-Christian society.[388]\\n\\n BAPS Shri Swaminarayan Mandir in London, United Kingdom is the largest Hindu temple in the United Kingdom.\\nIn the 2001 census 71.6% of all respondents indicated that they were Christians, with the next largest faiths being Islam (2.8%), Hinduism (1.0%), Sikhism (0.6%), Judaism (0.5%), Buddhism (0.3%) and all other religions (0.3%).[389] 15% of respondents stated that they had no religion, with a further 7% not stating a religious preference.[390] A Tearfund survey in 2007 showed only one in ten Britons actually attend church weekly.[391] Between the 2001 and 2011 census there was a decrease in the number of people who identified as Christian by 12%, whilst the percentage of those reporting no religious affiliation doubled. This contrasted with growth in the other main religious group categories, with the number of Muslims increasing by the most substantial margin to a total of about 5%.[7] The Muslim population has increased from 1.6 million in 2001 to 2.7 million in 2011,[392] making it the second-largest religious group in the United Kingdom.[393]\\nIn a 2016 survey conducted by BSA (British Social Attitudes) on religious affiliation; 53% of respondents indicated \\'no religion\\', while 41% indicated they were Christians, followed by 6% who affiliated with other religions (e.g. Islam, Hinduism, Judaism, etc.).[394] Among Christians, adherents to the Church of England constituted 15%, Roman Catholic Church – 9%, other Christians (including Presbyterians, Methodists, other Protestants, as well as Eastern Orthodox) – 17%.[394] 71% of young people aged 18–24 said they had no religion.[394]\\nThe Church of England is the established church in England.[395] It retains a representation in the UK Parliament and the British monarch is its Supreme Governor.[396] In Scotland, the Church of Scotland is recognised as the national church. It is not subject to state control, and the British monarch is an ordinary member, required to swear an oath to \"maintain and preserve the Protestant Religion and Presbyterian Church Government\" upon his or her accession.[397][398] The Church in Wales was disestablished in 1920 and, as the Church of Ireland was disestablished in 1870 before the partition of Ireland, there is no established church in Northern Ireland.[399] Although there are no UK-wide data in the 2001 census on adherence to individual Christian denominations, it has been estimated that 62% of Christians are Anglican, 13.5% Catholic, 6% Presbyterian, 3.4% Methodist with small numbers of other Protestant denominations such as Plymouth Brethren, and Orthodox churches.[400]\\n\\nMigration\\nMain article: Modern immigration to the United Kingdom\\nSee also: Foreign-born population of the United Kingdom\\n Estimated foreign-born population by country of birth from April 2007\\xa0to March 2008\\nThe United Kingdom has experienced successive waves of migration. The Great Famine in Ireland, then part of the United Kingdom, resulted in perhaps a million people migrating to Great Britain.[401] Throughout the 19th century a small population of German immigrants built up, numbering 28,644 in England and Wales in 1861. London held around half of this population, and other small communities existed in Manchester, Bradford and elsewhere. The German immigrant community was the largest group until 1891, when it became second to Russian Jews.[402] England has had small Jewish communities for many centuries, subject to occasional expulsions, but British Jews numbered fewer than 10,000 at the start of the 19th century. After 1881 Russian Jews suffered bitter persecutions, and, out of some 2,000,000 who left Russia by 1914, around 120,000 settled permanently in Britain, overtaking the Germans to be the largest ethnic minority from outside the British Isles.[403][404] The population had increased to 370,000 by 1938.[405][406][407] Unable to return to Poland at the end of the Second World War, over 120,000 Polish veterans remained in the UK permanently.[408] After the Second World War, there was significant immigration from the colonies and newly independent former colonies, many from the Caribbean and Indian subcontinent, partly as a legacy of empire and partly driven by labour shortages.[409] In 1841, 0.25% of the population of England and Wales was born in a foreign country. In 1901, 1.5% of the population was foreign born.[410] By 1931, this figure had risen to 2.6%, and by 1951 it was 4.4%.[411]\\nIn 2014 the net increase was 318,000: immigration was 641,000, up from 526,000 in 2013, while the number of people emigrating (for more than 12 months) was 323,000.[412] One of the more recent trends in migration has been the arrival of workers from the new EU member states in Eastern Europe, known as the A8 countries.[348] Citizens of the European Union, including those of the UK, have the right to live and work in any EU member state.[413] The UK applied temporary restrictions to citizens of Romania and Bulgaria, which joined the EU in January 2007.[414] Research conducted by the Migration Policy Institute for the Equality and Human Rights Commission suggests that, between May 2004 and September 2009, 1.5\\xa0million workers migrated from the new EU member states to the UK, two-thirds of them Polish, but that many subsequently returned home, resulting in a net increase in the number of nationals of the new member states in the UK of some 700,000 over that period.[415][416] The late-2000s recession in the UK reduced the economic incentive for Poles to migrate to the UK,[417] the migration becoming temporary and circular.[418] In 2009, for the first time since enlargement, more nationals of the eight central and eastern European states that had joined the EU in 2004 left the UK than arrived.[419] In 2011, citizens of the new EU member states made up 13% of the immigrants entering the country.[420] In 2010, there were 7.0 million foreign-born residents in the UK, corresponding to 11.3% of the total population. Of these, 4.76 million (7.7%) were born outside the EU and 2.24 million (3.6%) were born in another EU Member State.[421] The proportion of foreign-born people in the UK remains slightly below that of many other European countries.[422]\\nImmigration is now contributing to a rising population[423] with arrivals and UK-born children of migrants accounting for about half of the population increase between 1991 and 2001. Over a quarter (27.0%) of live births in 2014 were to mothers born outside the UK, according to official statistics released in 2015.[424] Analysis of Office for National Statistics (ONS) data shows that a net total of 2.3\\xa0million migrants moved to the UK in the 15 years from 1991 to 2006.[425] The ONS reported that net migration rose from 2009 to 2010 by 21% to 239,000.[426]\\nIn 2013, approximately 208,000 foreign nationals were naturalised as British citizens, the highest number since records began in 1962. This figure fell to around 125,800 in 2014. Between 2009 and 2013, the average number of people granted British citizenship per year was 195,800. The main countries of previous nationality of those naturalised in 2014 were India, Pakistan, the Philippines, Nigeria, Bangladesh, Nepal, China, South Africa, Poland and Somalia.[427] The total number of grants of settlement, which confers permanent residence in the UK without granting British citizenship,[428] was approximately 154,700 in 2013, compared to 241,200 in 2010 and 129,800 in 2012.[427]\\n\\n\\n\\nYear\\n\\nForeign born population of England and Wales\\n\\nTotal population[411][429][430][431][432][433]\\n\\nIrish born population\\n\\nPercentage of total population that was born abroad\\n\\n\\n1851\\n\\n100,000\\n\\n17,900,000\\n\\n520,000\\n\\n0.6\\n\\n\\n1861\\n\\n150,000\\n\\n20,100,000\\n\\n600,000\\n\\n0.7\\n\\n\\n1871\\n\\n200,000\\n\\n22,700,000\\n\\n565,000\\n\\n0.9\\n\\n\\n1881\\n\\n275,000\\n\\n26,000,000\\n\\n560,000\\n\\n1.1\\n\\n\\n1891\\n\\n350,000\\n\\n29,000,000\\n\\n460,000\\n\\n1.2\\n\\n\\n1901\\n\\n475,000\\n\\n32,500,000\\n\\n425,000\\n\\n1.5\\n\\n\\n1911\\n\\n900,000\\n\\n32,500,000\\n\\n375,000\\n\\n2.5\\n\\n\\n1921\\n\\n750,000\\n\\n37,900,000\\n\\n365,000\\n\\n2\\n\\n\\n1931\\n\\n1,080,000\\n\\n40,000,000\\n\\n380,000\\n\\n2.7\\n\\n\\n1951\\n\\n1,875,000\\n\\n43,700,000\\n\\n470,000\\n\\n4.3\\n\\n\\n1961\\n\\n2,290,000\\n\\n46,000,000\\n\\n645,000\\n\\n5.0\\n\\n\\n1971\\n\\n3,100,000\\n\\n48,700,000\\n\\n585,000\\n\\n6.4\\n\\n\\n1981\\n\\n3,220,000\\n\\n48,500,000\\n\\n580,000\\n\\n6.6\\n\\n\\n1991\\n\\n3,625,000\\n\\n49,900,000\\n\\n570,000\\n\\n7.3\\n\\n\\n2001\\n\\n4,600,000\\n\\n52,500,000\\n\\n475,000\\n\\n8.8\\n\\n\\n2011\\n\\n7,500,000\\n\\n56,000,000\\n\\n400,000\\n\\n13.4\\n\\n Estimated number of British citizens living overseas by country in 2006\\nThe British Government has introduced a points-based immigration system for immigration from outside the European Economic Area to replace former schemes, including the Scottish Government\\'s Fresh Talent Initiative.[434] In June 2010 the government introduced a temporary limit of 24,000 on immigration from outside the EU, aiming to discourage applications before a permanent cap was imposed in April 2011.[435]\\nEmigration was an important feature of British society in the 19th century. Between 1815 and 1930 around 11.4\\xa0million people emigrated from Britain and 7.3\\xa0million from Ireland. Estimates show that by the end of the 20th century some 300\\xa0million people of British and Irish descent were permanently settled around the globe.[436] Today, at least 5.5\\xa0million UK-born people live abroad,[437][438][439] mainly in Australia, Spain, the United States and Canada.[437][440]\\n\\nEducation\\nMain article: Education in the United Kingdom\\nEducation in the United Kingdom is a devolved matter, with each country having a separate education system.\\nConsidering the four systems together, about 38 percent of the United Kingdom population has a university or college degree, which is the highest percentage in Europe, and among the highest percentages in the world.[441][442] The United Kingdom trails only the United States in terms of representation on lists of top 100 universities.[443][444][445][446]\\nA government commission\\'s report in 2014 found that privately educated people comprise 7% of the general population of the UK but much larger percentages of the top professions, the most extreme case quoted being 71% of senior judges.[447][448]\\nEngland\\n\\nMain article: Education in England\\n Christ Church, Oxford is part of the University of Oxford, which traces its foundations back to c. 1096\\nWhilst education in England is the responsibility of the Secretary of State for Education, the day-to-day administration and funding of state schools is the responsibility of local authorities.[449] Universally free of charge state education was introduced piecemeal between 1870 and 1944.[450][451] Education is now mandatory from ages five to sixteen, and in England youngsters must stay in education or training until they are 18.[452] In 2011, the Trends in International Mathematics and Science Study (TIMSS) rated 13–14-year-old pupils in England and Wales 10th in the world for maths and 9th for science.[453] The majority of children are educated in state-sector schools, a small proportion of which select on the grounds of academic ability. Two of the top ten performing schools in terms of GCSE results in 2006 were state-run grammar schools. In 2010, over half of places at the University of Oxford and the University of Cambridge were taken by students from state schools,[454] while the proportion of children in England attending private schools is around 7% which rises to 18% of those over 16.[455][456] England has the two oldest universities in English-speaking world, Universities of Oxford and Cambridge (jointly known as \"Oxbridge\") with history of over eight centuries.[citation needed]\\nSince the establishment of Bedford College (London), Girton College (Cambridge) and Somerville College (Oxford) in the 19th century, women also can obtain a university degree.[citation needed]\\n\\n King\\'s College (right) and Clare College (left), both part of the University of Cambridge, which was founded in 1209\\nScotland\\n\\nMain article: Education in Scotland\\nEducation in Scotland is the responsibility of the Cabinet Secretary for Education and Lifelong Learning, with day-to-day administration and funding of state schools the responsibility of Local Authorities. Two non-departmental public bodies have key roles in Scottish education. The Scottish Qualifications Authority is responsible for the development, accreditation, assessment and certification of qualifications other than degrees which are delivered at secondary schools, post-secondary colleges of further education and other centres.[457] Learning and Teaching Scotland provides advice, resources and staff development to education professionals.[458] Scotland first legislated for compulsory education in 1496.[459] The proportion of children in Scotland attending private schools is just over 4% in 2016, but it has been falling slowly in recent years.[460] Scottish students who attend Scottish universities pay neither tuition fees nor graduate endowment charges, as fees were abolished in 2001 and the graduate endowment scheme was abolished in 2008.[461]\\nWales\\n\\nMain article: Education in Wales\\nThe Welsh Government has responsibility for education in Wales. A significant number of Welsh students are taught either wholly or largely in the Welsh language; lessons in Welsh are compulsory for all until the age of 16.[462] There are plans to increase the provision of Welsh-medium schools as part of the policy of creating a fully bilingual Wales.[citation needed]\\nNorthern Ireland\\n\\nMain article: Education in Northern Ireland\\nEducation in Northern Ireland is the responsibility of the Minister of Education, although responsibility at a local level is administered by the Education Authority which is further sub-divided into five geographical areas. The Council for the Curriculum, Examinations & Assessment (CCEA) is the body responsible for advising the government on what should be taught in Northern Ireland\\'s schools, monitoring standards and awarding qualifications.[463]\\n\\nHealthcare\\nMain article: Healthcare in the United Kingdom\\n The Royal Aberdeen Children\\'s Hospital, an NHS Scotland specialist children\\'s hospital\\nHealthcare in the United Kingdom is a devolved matter and each country has its own system of private and publicly funded health care, together with alternative, holistic and complementary treatments. Public healthcare is provided to all UK permanent residents and is mostly free at the point of need, being paid for from general taxation. The World Health Organization, in 2000, ranked the provision of healthcare in the United Kingdom as fifteenth best in Europe and eighteenth in the world.[464][465] Since 1979 expenditure on healthcare has been increased significantly to bring it closer to the European Union average.[466] The UK spends around 8.4% of its gross domestic product on healthcare, which is 0.5 percentage points below the Organisation for Economic Co-operation and Development average and about one percentage point below the average of the European Union.[467]\\nRegulatory bodies are organised on a UK-wide basis such as the General Medical Council, the Nursing and Midwifery Council and non-governmental-based, such as the Royal Colleges. However, political and operational responsibility for healthcare lies with four national executives; healthcare in England is the responsibility of the UK Government; healthcare in Northern Ireland is the responsibility of the Northern Ireland Executive; healthcare in Scotland is the responsibility of the Scottish Government; and healthcare in Wales is the responsibility of the Welsh Government. Each National Health Service has different policies and priorities, resulting in contrasts.[468][469]\\n\\nCulture\\nMain article: Culture of the United Kingdom\\nThe culture of the United Kingdom has been influenced by many factors including: the nation\\'s island status; its history as a western liberal democracy and a major power; as well as being a political union of four countries with each preserving elements of distinctive traditions, customs and symbolism. As a result of the British Empire, British influence can be observed in the language, culture and legal systems of many of its former colonies including Australia, Canada, India, Ireland, New Zealand, Pakistan, South Africa and the United States. The substantial cultural influence of the United Kingdom has led it to be described as a \"cultural superpower\".[123][124] A global opinion poll for the BBC saw the United Kingdom ranked the third most positively viewed nation in the world (behind Germany and Canada) in 2013 and 2014.[470][471]\\n\\nLiterature\\nMain article: British literature\\n The Chandos portrait, believed to depict William Shakespeare\\n\\'British literature\\' refers to literature associated with the United Kingdom, the Isle of Man and the Channel Islands. Most British literature is in the English language. In 2005, some 206,000 books were published in the United Kingdom and in 2006 it was the largest publisher of books in the world.[472]\\nThe English playwright and poet William Shakespeare is widely regarded as the greatest dramatist of all time,[473][474][475] and his contemporaries Christopher Marlowe and Ben Jonson have also been held in continuous high esteem. More recently the playwrights Alan Ayckbourn, Harold Pinter, Michael Frayn, Tom Stoppard and David Edgar have combined elements of surrealism, realism and radicalism.[citation needed]\\nNotable pre-modern and early-modern English writers include Geoffrey Chaucer (14th century), Thomas Malory (15th century), Sir Thomas More (16th century), John Bunyan (17th century) and John Milton (17th century).[citation needed] In the 18th century Daniel Defoe (author of Robinson Crusoe) and Samuel Richardson were pioneers of the modern novel.[citation needed] In the 19th century there followed further innovation by Jane Austen, the gothic novelist Mary Shelley, the children\\'s writer Lewis Carroll, the Brontë sisters, the social campaigner Charles Dickens, the naturalist Thomas Hardy, the realist George Eliot, the visionary poet William Blake and romantic poet William Wordsworth.[citation needed] 20th century English writers include the science-fiction novelist H. G. Wells; the writers of children\\'s classics Rudyard Kipling, A. A. Milne (the creator of Winnie-the-Pooh), Roald Dahl and Enid Blyton; the controversial D. H. Lawrence; the modernist Virginia Woolf; the satirist Evelyn Waugh; the prophetic novelist George Orwell; the popular novelists W. Somerset Maugham and Graham Greene;[citation needed] the crime writer Agatha Christie (the best-selling novelist of all time);[476] Ian Fleming (the creator of James Bond); the poets T.S. Eliot, Philip Larkin and Ted Hughes; the fantasy writers J. R. R. Tolkien, C. S. Lewis and J. K. Rowling; the graphic novelists Alan Moore and Neil Gaiman.[citation needed]\\n\\n A photograph of Victorian era novelist Charles Dickens\\nScotland\\'s contributions include the detective writer Arthur Conan Doyle (the creator of Sherlock Holmes), romantic literature by Sir Walter Scott, the children\\'s writer J. M. Barrie, the epic adventures of Robert Louis Stevenson and the celebrated poet Robert Burns. More recently the modernist and nationalist Hugh MacDiarmid and Neil M. Gunn contributed to the Scottish Renaissance. A more grim outlook is found in Ian Rankin\\'s stories and the psychological horror-comedy of Iain Banks. Scotland\\'s capital, Edinburgh, was UNESCO\\'s first worldwide City of Literature.[477]\\nBritain\\'s oldest known poem, Y Gododdin, was composed in Yr Hen Ogledd (The Old North), most likely in the late 6th century. It was written in Cumbric or Old Welsh and contains the earliest known reference to King Arthur.[478] From around the seventh century, the connection between Wales and the Old North was lost, and the focus of Welsh-language culture shifted to Wales, where Arthurian legend was further developed by Geoffrey of Monmouth.[479] Wales\\'s most celebrated medieval poet, Dafydd ap Gwilym (fl.1320–1370), composed poetry on themes including nature, religion and especially love. He is widely regarded as one of the greatest European poets of his age.[480] Until the late 19th century the majority of Welsh literature was in Welsh and much of the prose was religious in character. Daniel Owen is credited as the first Welsh-language novelist, publishing Rhys Lewis in 1885. The best-known of the Anglo-Welsh poets are both Thomases. Dylan Thomas became famous on both sides of the Atlantic in the mid-20th century. He is remembered for his poetry—his \"Do not go gentle into that good night; Rage, rage against the dying of the light\" is one of the most quoted couplets of English language verse—and for his \"play for voices\", Under Milk Wood. The influential Church in Wales \"poet-priest\" and Welsh nationalist R. S. Thomas was nominated for the Nobel Prize in Literature in 1996. Leading Welsh novelists of the twentieth century include Richard Llewellyn and Kate Roberts.[481][482]\\nAuthors of other nationalities, particularly from Commonwealth countries, the Republic of Ireland and the United States, have lived and worked in the UK. Significant examples through the centuries include Jonathan Swift, Oscar Wilde, Bram Stoker, George Bernard Shaw, Joseph Conrad, T.S. Eliot, Ezra Pound and more recently British authors born abroad such as Kazuo Ishiguro and Sir Salman Rushdie.[483][484]\\n\\nMusic\\nMain article: Music of the United Kingdom\\nSee also: Rock music in the United Kingdom\\n The Beatles are the most commercially successful and critically acclaimed band in popular music, selling over a billion records[485][486][487]\\nVarious styles of music are popular in the UK from the indigenous folk music of England, Wales, Scotland and Northern Ireland to heavy metal. Notable composers of classical music from the United Kingdom and the countries that preceded it include William Byrd, Henry Purcell, Sir Edward Elgar, Gustav Holst, Sir Arthur Sullivan (most famous for working with the librettist Sir W. S. Gilbert), Ralph Vaughan Williams and Benjamin Britten, pioneer of modern British opera. Sir Harrison Birtwistle is one of the foremost living composers. The UK is also home to world-renowned symphonic orchestras and choruses such as the BBC Symphony Orchestra and the London Symphony Chorus. Notable conductors include Sir Simon Rattle, Sir John Barbirolli and Sir Malcolm Sargent. Some of the notable film score composers include John Barry, Clint Mansell, Mike Oldfield, John Powell, Craig Armstrong, David Arnold, John Murphy, Monty Norman and Harry Gregson-Williams. George Frideric Handel became a naturalised British citizen and wrote the British coronation anthem, while some of his best works, such as Messiah, were written in the English language.[488][489] Andrew Lloyd Webber is a prolific composer of musical theatre. His works have dominated London\\'s West End since the late 20th century and have also been a commercial success worldwide.[490]\\nThe Beatles have international sales of over one billion units and are the biggest-selling and most influential band in the history of popular music.[485][486][487][491] Other prominent British contributors to have influenced popular music over the last 50 years include The Rolling Stones, Pink Floyd, Queen, Led Zeppelin, the Bee Gees, and Elton John, all of whom have worldwide record sales of 200\\xa0million or more.[492][493][494][495][496][497] The Brit Awards are the BPI\\'s annual music awards, and some of the British recipients of the Outstanding Contribution to Music award include; The Who, David Bowie, Eric Clapton, Rod Stewart and The Police.[498] More recent UK music acts that have had international success include Coldplay, Radiohead, Oasis, Arctic Monkeys, Spice Girls, Robbie Williams, Amy Winehouse and Adele.[499]\\nA number of UK cities are known for their music. Acts from Liverpool have had 54 UK chart number one hit singles, more per capita than any other city worldwide.[500] Glasgow\\'s contribution to music was recognised in 2008 when it was named a UNESCO City of Music, one of only three cities in the world to have this honour.[501]\\nAs of 2016, pop remains the most popular music genre in the UK with 33.4% of unit sales, followed by hip-hop and R&B at 24.5% of unit sales.[502] Rock is not far behind at 22.6% of unit sales.[502] The modern UK is known to produce some of the most prominent world rappers along with the United States, including Stormzy, Kano, Yxng Bane, Ramz and Skepta.[503] The sharp increase of hip-hop and R&B listeners in the UK in the last three years is often explained by an easier access to the genre due to the higher usage of streaming platforms such as Spotify and SoundCloud where hip-hop and R&B is the most popular genre,[504][505] and also by the rising of new hip-hop and R&B sub-genres popular among the Millennials and the Generation Z (post-Millennials), mainly developed in the US with artists popular in the UK, such as phonk rap[506][507] (e.g. A$AP Rocky, Lil Uzi Vert, Chance the Rapper, Lil Skies) and alternative R&B[508][509] (e.g. The Weeknd, Beyoncé, Janelle Monáe, SZA).\\n\\nVisual art\\nMain article: Art of the United Kingdom\\n J. M. W. Turner self-portrait, oil on canvas, c. 1799\\nThe history of British visual art forms part of western art history. Major British artists include: the Romantics William Blake, John Constable, Samuel Palmer and J.M.W. Turner; the portrait painters Sir Joshua Reynolds and Lucian Freud; the landscape artists Thomas Gainsborough and L. S. Lowry; the pioneer of the Arts and Crafts Movement William Morris; the figurative painter Francis Bacon; the Pop artists Peter Blake, Richard Hamilton and David Hockney; the pioneers of Conceptual art movement Art & Language;[510] the collaborative duo Gilbert and George; the abstract artist Howard Hodgkin; and the sculptors Antony Gormley, Anish Kapoor and Henry Moore. During the late 1980s and 1990s the Saatchi Gallery in London helped to bring to public attention a group of multi-genre artists who would become known as the \"Young British Artists\": Damien Hirst, Chris Ofili, Rachel Whiteread, Tracey Emin, Mark Wallinger, Steve McQueen, Sam Taylor-Wood and the Chapman Brothers are among the better-known members of this loosely affiliated movement.\\nThe Royal Academy in London is a key organisation for the promotion of the visual arts in the United Kingdom. Major schools of art in the UK include: the six-school University of the Arts London, which includes the Central Saint Martins College of Art and Design and Chelsea College of Art and Design; Goldsmiths, University of London; the Slade School of Fine Art (part of University College London); the Glasgow School of Art; the Royal College of Art; and The Ruskin School of Drawing and Fine Art (part of the University of Oxford). The Courtauld Institute of Art is a leading centre for the teaching of the history of art. Important art galleries in the United Kingdom include the National Gallery, National Portrait Gallery, Tate Britain and Tate Modern (the most-visited modern art gallery in the world, with around 4.7\\xa0million visitors per year).[511]\\n\\nCinema\\nMain article: Cinema of the United Kingdom\\n Alfred Hitchcock has been ranked as one of the greatest and most influential British filmmakers of all time[512]\\nThe United Kingdom has had a considerable influence on the history of the cinema. The British directors Alfred Hitchcock, whose film Vertigo is considered by some critics as the best film of all time,[513] and David Lean are among the most critically acclaimed of all-time.[514] Other important directors including Charlie Chaplin,[515] Michael Powell,[516] Carol Reed,[517] Edgar Wright,[518] Christopher Nolan,[519] and Ridley Scott.[520] Many British actors have achieved international fame and critical success, including: Julie Andrews,[521] Richard Burton,[522] Michael Caine,[523] Colin Firth,[524] Gary Oldman,[525] Ben Kingsley,[526] Ian McKellen,[527] Liam Neeson,[528] Charlie Chaplin,[529] Sean Connery,[530] Vivien Leigh,[531] David Niven,[532] Laurence Olivier,[533] Peter Sellers,[534] Kate Winslet,[535] Anthony Hopkins,[536] and Daniel Day-Lewis.[537] Some of the most commercially successful films of all time have been produced in the United Kingdom, including two of the highest-grossing film franchises (Harry Potter and James Bond).[538] Ealing Studios has a claim to being the oldest continuously working film studio in the world.[539]\\nDespite a history of important and successful productions, the industry has often been characterised by a debate about its identity and the level of American and European influence.[citation needed] British producers are active in international co-productions and British actors, directors and crew feature regularly in American films.[citation needed] Many successful Hollywood films have been based on British people, stories or events, including Titanic, The Lord of the Rings, and Pirates of the Caribbean.[citation needed]\\nIn 2009, British films grossed around $2\\xa0billion worldwide and achieved a market share of around 7% globally and 17% in the United Kingdom.[540] UK box-office takings totalled £944\\xa0million in 2009, with around 173\\xa0million admissions.[540] The British Film Institute has produced a poll ranking of what it considers to be the 100 greatest British films of all time, the BFI Top 100 British films.[541] The annual British Academy Film Awards are hosted by the British Academy of Film and Television Arts.[542]\\n\\nCuisine\\nMain article: British cuisine\\n Chicken tikka masala, 1971, adapted from Indian chicken tikka and called \"a true British national dish.\"[543]\\nBritish cuisine developed from various influences reflective of its land, settlements, arrivals of new settlers and immigrants, trade and colonialism. Celtic agriculture and animal breeding produced a wide variety of foodstuffs for indigenous Celts and Britons. Anglo-Saxon England developed meat and savoury herb stewing techniques before the practice became common in Europe. The Norman conquest introduced exotic spices into England in the Middle Ages.[544] The British Empire facilitated a knowledge of Indian cuisine with its \"strong, penetrating spices and herbs\". British cuisine has absorbed the cultural influence of those who have settled in Britain, producing many hybrid dishes, such as the Anglo-Indian chicken tikka masala.[545][546]\\n\\nMedia\\nMain article: Media of the United Kingdom\\n Broadcasting House in London, headquarters of the BBC, the oldest and largest broadcaster in the world[547][548][549]\\nThe BBC, founded in 1922, is the UK\\'s publicly funded radio, television and Internet broadcasting corporation, and is the oldest and largest broadcaster in the world.[547][548][549] It operates numerous television and radio stations in the UK and abroad and its domestic services are funded by the television licence.[550][551] Other major players in the UK media include ITV plc, which operates 11 of the 15 regional television broadcasters that make up the ITV Network,[552] and News Corporation, which owns a number of national newspapers through News International such as the most popular tabloid The Sun and the longest-established daily \"broadsheet\" The Times,[553] as well as holding a large stake in satellite broadcaster British Sky Broadcasting.[554] London dominates the media sector in the UK: national newspapers and television and radio are largely based there, although Manchester is also a significant national media centre. Edinburgh and Glasgow, and Cardiff, are important centres of newspaper and broadcasting production in Scotland and Wales respectively.[555] The UK publishing sector, including books, directories and databases, journals, magazines and business media, newspapers and news agencies, has a combined turnover of around £20 billion and employs around 167,000 people.[556]\\nIn 2009, it was estimated that individuals viewed a mean of 3.75 hours of television per day and 2.81 hours of radio. In that year the main BBC public service broadcasting channels accounted for an estimated 28.4% of all television viewing; the three main independent channels accounted for 29.5% and the increasingly important other satellite and digital channels for the remaining 42.1%.[557] Sales of newspapers have fallen since the 1970s and in 2010 41% of people reported reading a daily national newspaper.[558] In 2010, 82.5% of the UK population were Internet users, the highest proportion amongst the 20 countries with the largest total number of users in that year.[559]\\n\\nPhilosophy\\nMain article: British philosophy\\nThe United Kingdom is famous for the tradition of \\'British Empiricism\\', a branch of the philosophy of knowledge that states that only knowledge verified by experience is valid, and \\'Scottish Philosophy\\', sometimes referred to as the \\'Scottish School of Common Sense\\'.[560] The most famous philosophers of British Empiricism are John Locke, George Berkeley[note 18] and David Hume; while Dugald Stewart, Thomas Reid and William Hamilton were major exponents of the Scottish \"common sense\" school. Two Britons are also notable for a theory of moral philosophy utilitarianism, first used by Jeremy Bentham and later by John Stuart Mill in his short work Utilitarianism.[561][562]\\nOther eminent philosophers from the UK and the states and countries that preceded it include Duns Scotus, John Lilburne, Mary Wollstonecraft, Sir Francis Bacon, Adam Smith, Thomas Hobbes, William of Ockham, Bertrand Russell and A.J. \"Freddie\" Ayer. Foreign-born philosophers who settled in the UK include Isaiah Berlin, Karl Marx, Karl Popper and Ludwig Wittgenstein.[citation needed]\\n\\nSport\\nMain article: Sport in the United Kingdom\\n Wembley Stadium, London, home of the England national football team, is one of the most expensive stadia ever built[563]\\nMajor sports, including association football, tennis, rugby union, rugby league, golf, boxing, netball, rowing and cricket, originated or were substantially developed in the UK and the states that preceded it. With the rules and codes of many modern sports invented and codified in late 19th century Victorian Britain, in 2012, the President of the IOC, Jacques Rogge, stated; \"This great, sports-loving country is widely recognised as the birthplace of modern sport. It was here that the concepts of sportsmanship and fair play were first codified into clear rules and regulations. It was here that sport was included as an educational tool in the school curriculum\".[564][565]\\nIn most international competitions, separate teams represent England, Scotland and Wales. Northern Ireland and the Republic of Ireland usually field a single team representing all of Ireland, with notable exceptions being association football and the Commonwealth Games. In sporting contexts, the English, Scottish, Welsh and Irish / Northern Irish teams are often referred to collectively as the Home Nations. There are some sports in which a single team represents the whole of United Kingdom, including the Olympics, where the UK is represented by the Great Britain team. The 1908, 1948 and 2012 Summer Olympics were held in London, making it the first city to host the games three times. Britain has participated in every modern Olympic Games to date and is third in the medal count.[citation needed]\\nA 2003 poll found that football is the most popular sport in the United Kingdom.[566] England is recognised by FIFA as the birthplace of club football, and The Football Association is the oldest of its kind, with the rules of football first drafted in 1863 by Ebenezer Cobb Morley.[567][568] Each of the Home Nations has its own football association, national team and league system. The English top division, the Premier League, is the most watched football league in the world.[569] The first international football match was contested by England and Scotland on 30 November 1872.[570] England, Scotland, Wales and Northern Ireland usually compete as separate countries in international competitions.[571]\\n\\n The Millennium Stadium of Cardiff opened for the 1999 Rugby World Cup\\nIn 2003, rugby union was ranked the second most popular sport in the UK.[566] The sport was created in Rugby School, Warwickshire, and the first rugby international took place on 27 March 1871 between England and Scotland.[572][573] England, Scotland, Wales, Ireland, France and Italy compete in the Six Nations Championship; the premier international tournament in the northern hemisphere. Sport governing bodies in England, Scotland, Wales and Ireland organise and regulate the game separately.[574]\\nCricket was invented in England, and its laws were established by Marylebone Cricket Club in 1788.[575] The England cricket team, controlled by the England and Wales Cricket Board,[576] and the Irish cricket team, controlled by Cricket Ireland are the only national teams in the UK with Test status. Team members are drawn from the main county sides, and include both English and Welsh players. Cricket is distinct from football and rugby where Wales and England field separate national teams, although Wales had fielded its own team in the past. Irish and Scottish players have played for England because neither Scotland nor Ireland have Test status and have only recently started to play in One Day Internationals and Ireland is yet to play their first test match.[577][578] Scotland, England (and Wales), and Ireland (including Northern Ireland) have competed at the Cricket World Cup, with England reaching the finals on three occasions. There is a professional league championship in which clubs representing 17 English counties and 1 Welsh county compete.[579]\\n\\n Wimbledon, the oldest Grand Slam tennis tournament, is held in Wimbledon, London every June and July\\nThe modern game of tennis originated in Birmingham, England, in the 1860s, before spreading around the world.[580] The world\\'s oldest tennis tournament, the Wimbledon championships, first occurred in 1877, and today the event takes place over two weeks in late June and early July.[581]\\nThoroughbred racing, which originated under Charles II of England as the \"sport of kings\", is popular throughout the UK with world-famous races including the Grand National, the Epsom Derby, Royal Ascot and the Cheltenham National Hunt Festival (including the Cheltenham Gold Cup). The UK has proved successful in the international sporting arena in rowing.[citation needed]\\nThe UK is closely associated with motorsport. Many teams and drivers in Formula One (F1) are based in the UK, and the country has won more drivers\\' and constructors\\' titles than any other. The UK hosted the first F1 Grand Prix in 1950 at Silverstone, the current location of the British Grand Prix held each year in July.[582] The UK hosts legs of the Grand Prix motorcycle racing, World Rally Championship and FIA World Endurance Championship. The premier national auto racing event is the British Touring Car Championship. Motorcycle road racing has a long tradition with races such as the Isle of Man TT and the North West 200.[citation needed]\\n\\n St Andrews, Scotland, the home of golf. The standard 18 hole golf course was created at St Andrews in 1764.[583]\\nGolf is the sixth most popular sport, by participation, in the UK. Although The Royal and Ancient Golf Club of St Andrews in Scotland is the sport\\'s home course,[584] the world\\'s oldest golf course is actually Musselburgh Links\\' Old Golf Course.[585] In 1764, the standard 18-hole golf course was created at St Andrews when members modified the course from 22 to 18 holes.[583] The oldest golf tournament in the world, and the first major championship in golf, The Open Championship, is played annually on the weekend of the third Friday in July.[586]\\nRugby league originated in Huddersfield, West Yorkshire in 1895 and is generally played in Northern England.[587] A single \\'Great Britain Lions\\' team had competed in the Rugby League World Cup and Test match games, but this changed in 2008 when England, Scotland and Ireland competed as separate nations.[588] Great Britain is still retained as the full national team. Super League is the highest level of professional rugby league in the UK and Europe. It consists of 11 teams from Northern England, 1 from London, 1 from Wales and 1 from France.[589]\\nThe \\'Queensberry rules\\', the code of general rules in boxing, was named after John Douglas, 9th Marquess of Queensberry in 1867, and formed the basis of modern boxing.[590] Snooker is another of the UK\\'s popular sporting exports, with the world championships held annually in Sheffield.[591] In Northern Ireland Gaelic football and hurling are popular team sports, both in terms of participation and spectating, and Irish expatriates in the UK and the US also play them.[592] Shinty (or camanachd) is popular in the Scottish Highlands.[593] Highland games are held in spring and summer in Scotland, celebrating Scottish and celtic culture and heritage, especially that of the Scottish Highlands.[594]\\n\\nSymbols\\nMain article: Symbols of the United Kingdom, the Channel Islands and the Isle of Man\\n The Statue of Britannia in Plymouth. Britannia is a national personification of the UK.\\nThe flag of the United Kingdom is the Union Flag (also referred to as the Union Jack). It was created in 1606 by the superimposition of the Flag of England on the Flag of Scotland and updated in 1801 with the addition of Saint Patrick\\'s Flag. Wales is not represented in the Union Flag, as Wales had been conquered and annexed to England prior to the formation of the United Kingdom. The possibility of redesigning the Union Flag to include representation of Wales has not been completely ruled out.[595] The national anthem of the United Kingdom is \"God Save the Queen\", with \"Queen\" replaced with \"King\" in the lyrics whenever the monarch is a man.\\nBritannia is a national personification of the United Kingdom, originating from Roman Britain.[596] Britannia is symbolised as a young woman with brown or golden hair, wearing a Corinthian helmet and white robes. She holds Poseidon\\'s three-pronged trident and a shield, bearing the Union Flag. Sometimes she is depicted as riding on the back of a lion.[citation needed] Since the height of the British Empire in the late 19th century, Britannia has often been associated with British maritime dominance, as in the patriotic song \"Rule, Britannia!\".[citation needed] Up until 2008, the lion symbol was depicted behind Britannia on the British fifty pence coin and on the back of the British ten pence coin.[citation needed] It is also used as a symbol on the non-ceremonial flag of the British Army.[citation needed]\\nA second, less used, personification of the nation is the character John Bull. The bulldog is sometimes used as a symbol of the United Kingdom and has been associated with Winston Churchill\\'s defiance of Nazi Germany.[597]\\n\\nHistoriography\\nMain articles: historiography of the United Kingdom and historiography of the British Empire\\nSee also\\n\\n\\nUnited Kingdom portal\\nEngland portal\\nNorthern Ireland portal\\nScotland portal\\nWales portal\\nCommonwealth realms portal\\nOutline of the United Kingdom\\nOutline of England\\nOutline of Northern Ireland\\nOutline of Scotland\\nOutline of Wales\\nIndex of United Kingdom-related articles\\nInternational rankings of the United Kingdom\\n United Kingdom – Wikipedia book\\n\\nNotes\\n\\n\\n^ An alternative variant of the Royal coat of arms is used in Scotland: [click to view image].\\n\\n^ There is no authorised version of the national anthem as the words are a matter of tradition; only the first verse is usually sung.[1] No law was passed making \"God Save the Queen\" the official anthem. In the English tradition, such laws are not necessary; proclamation and usage are sufficient to make it the national anthem. \"God Save the Queen\" also serves as the Royal anthem for certain Commonwealth realms. The words Queen, she, her, used at present (in the reign of Elizabeth II), are replaced by King, he, him when the monarch is male. \\n\\n^ Under the Council of Europe\\'s European Charter for Regional or Minority Languages, Scots, Ulster Scots, Welsh, Cornish, Scottish Gaelic and Irish are officially recognised as regional or minority languages by the British Government for the purposes of the Charter.[2] In addition, the Government provides some services and publishes documents in Welsh.[3][4][5] See also Languages of the United Kingdom. \\n\\n^ European Union since 1993.\\n\\n^ Some of the devolved countries, Crown dependencies and British Overseas Territories issue their own sterling banknotes or currencies, or use another nation\\'s currency. See List of British currencies for more information\\n\\n^ This excludes some of the UK\\'s dependencies. See Time in the United Kingdom#British territories\\n\\n^ Excluding two overseas territories: Gibraltar and the British Indian Ocean Territory.\\n\\n^ Excludes most overseas territories\\n\\n^ The .eu domain is also used, as it is shared with other European Union member states. Other TLDs are used regionally\\n\\n^ Usage is mixed. Some organisations, including the BBC Archived 17 July 2018 at the Wayback Machine. and British Government, prefer to use Britain as shorthand for Great Britain\\n\\n^ The Anglo-Irish Treaty was signed on 6 December 1921 to resolve the Irish War of Independence. When it took effect one year later, it established the Irish Free State as a separate dominion within the Commonwealth. The UK\\'s current name was adopted to reflect the change.\\n\\n^ Compare to section 1 of both of the 1800 Acts of Union which reads: the Kingdoms of Great Britain and Ireland shall...be united into one Kingdom, by the Name of \"The United Kingdom of Great Britain and Ireland\"\\n\\n^ Since the early twentieth century the prime minister has held the office of First Lord of the Treasury, and in recent decades has also held the office of Minister for the Civil Service.\\n\\n^ Sinn Féin, an Irish republican party, also contests elections in the Republic of Ireland.\\n\\n^ In 2007–2008, this was calculated to be £115 per week for single adults with no dependent children; £199 per week for couples with no dependent children; £195 per week for single adults with two dependent children under 14; and £279 per week for couples with two dependent children under 14.\\n\\n^ The 2011 Census recorded Gypsies/Travellers as a separate ethnic group for the first time.\\n\\n^ In the 2011 Census, for the purpose of harmonising results to make them comparable across the UK, the ONS includes individuals in Scotland who classified themselves in the \"African\" category (29,638 people), which in the Scottish version of the census is separate from \"Caribbean or Black\" (6,540 people),[363] in this \"Black or Black British\" category. The ONS note that \"the African categories used in Scotland could potentially capture White/Asian/Other African in addition to Black identities\".[364]\\n\\n^ Berkeley is in fact Irish but was called a \\'British empiricist\\' due to the territory of what is now known as the Republic of Ireland being in the UK at the time\\n\\n\\nReferences\\n\\n\\n^ \"National Anthem\". Official web site of the British Royal Family. Retrieved 4 June 2016.\\n\\n^ a b c \"List of declarations made with respect to treaty No. 148\". Council of Europe. Retrieved 12 December 2013.\\n\\n^ \"Welsh language on GOV.UK - Content design: planning, writing and managing content - Guidance - GOV.UK\". www.gov.uk. Retrieved 2018-08-03.\\n\\n^ \"Welsh language scheme\". GOV.UK. Retrieved 2018-08-03.\\n\\n^ \"Welsh language scheme\". GOV.UK. Retrieved 2018-08-03.\\n\\n^ \"UNdata | record view | Population by religion, sex and urban/rural residence\". data.un.org. Retrieved 2018-10-13.\\n\\n^ a b Philby, Charlotte (12 December 2012). \"Less religious and more ethnically diverse: Census reveals a picture of Britain today\". The Independent. London.\\n\\n^ \"Demographic Yearbook – Table 3: Population by sex, rate of population increase, surface area and density\" (PDF). United Nations Statistics Division. 2012. Retrieved 9 August 2015.\\n\\n^ \"Population estimates for UK, England and Wales, Scotland and Northern Ireland: mid-2017\". www.ons.gov.uk.\\n\\n^ \"2011 UK censuses\". Office for National Statistics. Retrieved 17 December 2012.\\n\\n^ a b c d \"Report for Selected Countries and Subjects – United Kingdom\". International Monetary Fund. April 2018.\\n\\n^ \"Gini coefficient of equivalised disposable income (source: SILC)\". Eurostat Data Explorer. Retrieved 11 November 2015.\\n\\n^ \"2018 Human Development Report\". United Nations Development Programme. 2018. Retrieved 14 September 2018.\\n\\n^ \"Toponymic guidelines for the United Kingdom\". GOV.UK. United Kingdom Permanent Committee on Geographical Names. May 2017. p.\\xa013. usually shortened to United Kingdom ... The abbreviation is UK\\n\\n^ \"Definition of Great Britain in English\". Oxford University Press. Retrieved 29 October 2014. Great Britain is the name for the island that comprises England, Scotland and Wales, although the term is also used loosely to refer to the United Kingdom.\\n\\n^ The British Monarchy, What is constitutional monarchy?. Retrieved 17 July 2013\\n\\n^ CIA, The World Factbook. Retrieved 17 July 2013\\n\\n^ PA (13 October 2016). \"Queen takes over longest reign mantle after Thailand\\'s King Bhumibol dies\". AOL (UK). Retrieved 13 October 2016.\\n\\n^ The 30 Largest Urban Agglomerations Ranked by Population Size at Each Point in Time, 1950–2030, World Urbanization Prospects, the 2014 revision Archived 18 February 2015 at the Wayback Machine., Population Division of the United Nations Department of Economic and Social Affairs. Retrieved 22 February 2015.\\n\\n^ a b \"Countries within a country\". Prime Minister\\'s Office. 10 January 2003. Archived from the original on 9 September 2008. Retrieved 8 March 2015.\\n\\n^ \"Devolution of powers to Scotland, Wales and Northern Ireland\". United Kingdom Government. Retrieved 17 April 2013. In a similar way to how the government is formed from members from the two Houses of Parliament, members of the devolved legislatures nominate ministers from among themselves to comprise executives, known as the devolved administrations...\\n\\n^ \"Fall in UK university students\". BBC News. 29 January 2009.\\n\\n^ \"Country Overviews: United Kingdom\". Transport Research Knowledge Centre. Archived from the original on 4 April 2010. Retrieved 28 March 2010.\\n\\n^ \"Key facts about the United Kingdom\". Directgov. Archived from the original on 15 October 2012. Retrieved 6 March 2015. The full title of this country is \\'the United Kingdom of Great Britain and Northern Ireland\\'. Great Britain is made up of England, Scotland and Wales. The United Kingdom (UK) is made up of England, Scotland, Wales and Northern Ireland. \\'Britain\\' is used informally, usually meaning the United Kingdom. The Channel Islands and the Isle of Man are not part of the UK.\\n\\n^ a b c \"Supporting the Overseas Territories\". Foreign and Commonwealth Office. Retrieved 9 March 2015.\\n\\n^ Mathias, P. (2001). The First Industrial Nation: the Economic History of Britain, 1700–1914. London: Routledge. ISBN\\xa0978-0-415-26672-7.\\n\\n^ Ferguson, Niall (2004). Empire: The rise and demise of the British world order and the lessons for global power. New York: Basic Books. ISBN\\xa0978-0-465-02328-8.\\n\\n^ T. V. Paul; James J. Wirtz; Michel Fortmann (2005). \"Great+power\" Balance of Power. State University of New York Press, 2005. pp.\\xa059, 282. ISBN\\xa0978-0791464014. Accordingly, the great powers after the Cold War are Britain, China, France, Germany, Japan, Russia and the United States p.59\\n\\n^ McCourt, David (28 May 2014). Britain and World Power Since 1945: Constructing a Nation\\'s Role in International Politics. United States of America: University of Michigan Press. ISBN\\xa0978-0472072217.\\n\\n^ \"IISS Military Balance 2017\". Retrieved 6 March 2018.\\n\\n^ \"Treaty of Union, 1706\". Scots History Online. Retrieved 23 August 2011.\\n\\n^ Barnett, Hilaire; Jago, Robert (2011). Constitutional & Administrative Law (8th ed.). Abingdon: Routledge. p.\\xa0165. ISBN\\xa0978-0-415-56301-7.\\n\\n^ See Article One of the Act of Union 1707.\\n\\n^ \"After the political union of England and Scotland in 1707, the nation\\'s official name became \\'Great Britain\\'\", The American Pageant, Volume 1, Cengage Learning (2012)\\n\\n^ \"From 1707 until 1801 Great Britain was the official designation of the kingdoms of England and Scotland\". The Standard Reference Work: For the Home, School and Library, Volume 3, Harold Melvin Stanford (1921)\\n\\n^ \"In 1707, on the union with Scotland, \\'Great Britain\\' became the official name of the British Kingdom, and so continued until the union with Ireland in 1801\". United States Congressional serial set, Issue 10; Issue 3265 (1895)\\n\\n^ Gascoigne, Bamber. \"History of Great Britain (from 1707)\". History World. Retrieved 18 July 2011.\\n\\n^ Cottrell, P. (2008). The Irish Civil War 1922–23. p.\\xa085. ISBN\\xa0978-1-84603-270-7.\\n\\n^ S. Dunn; H. Dawson (2000), An Alphabetical Listing of Word, Name and Place in Northern Ireland and the Living Language of Conflict, Lampeter: Edwin Mellen Press, One specific problem—in both general and particular senses—is to know what to call Northern Ireland itself: in the general sense, it is not a country, or a province, or a state—although some refer to it contemptuously as a statelet: the least controversial word appears to be jurisdiction, but this might change.\\n\\n^ \"Changes in the list of subdivision names and code elements\" (PDF). ISO 3166-2. International Organization for Standardization. 15 December 2011. Retrieved 28 May 2012.\\n\\n^ Population Trends, Issues 75–82, p.38, 1994, UK Office of Population Censuses and Surveys\\n\\n^ Life in the United Kingdom: a journey to citizenship, p. 7, United Kingdom Home Office, 2007, ISBN\\xa0978-0-11-341313-3.\\n\\n^ \"Statistical bulletin: Regional Labour Market Statistics\". Archived from the original on 24 December 2014. Retrieved 5 March 2014.\\n\\n^ \"13.4% Fall In Earnings Value During Recession\". Retrieved 5 March 2014.\\n\\n^ Dunn, Seamus; Dawson, Helen. (2000). An Alphabetical Listing of Word, Name and Place in Northern Ireland and the Living Language of Conflict. Lampeter: Edwin Mellen Press. ISBN\\xa0978-0-7734-7711-7.\\n\\n^ Murphy, Dervla (1979). A Place Apart. London: Penguin. ISBN\\xa0978-0-14-005030-1.\\n\\n^ Whyte, John; FitzGerald, Garret (1991). Interpreting Northern Ireland. Oxford: Clarendon Press. ISBN\\xa0978-0-19-827380-6.\\n\\n^ \"Guardian Unlimited Style Guide\". London: Guardian News and Media Limited. 19 December 2008. Retrieved 23 August 2011.\\n\\n^ \"BBC style guide (Great Britain)\". BBC News. 19 August 2002. Retrieved 23 August 2011.\\n\\n^ \"Key facts about the United Kingdom\". Government, citizens and rights. HM Government. Archived from the original on 15 October 2012. Retrieved 8 March 2015.\\n\\n^ New Oxford American Dictionary: \"Great Britain: England, Wales, and Scotland considered as a unit. The name is also often used loosely to refer to the United Kingdom.\"\\n\\n^ \"Great Britain\". International Olympic Committee. Retrieved 10 May 2011.\\n\\n^ Mulgrew, John (2 August 2012). \"Team GB Olympic name row still simmering in Northern Ireland\". Belfast Telegraph. Retrieved 9 March 2015.\\n\\n^ \"Britain Meaning in the Cambridge English Dictionary\". dictionary.cambridge.org.\\n\\n^ \"Definition of Britain in English by Oxford Dictionaries\". Oxford Dictionaries - English.\\n\\n^ a b \"Britain definition and meaning\". www.collinsdictionary.com. Collins English Dictionary.\\n\\n^ \"Britain - Definition for English-Language Learners\". learnersdictionary.com. Merriam-Webster\\'s Learner\\'s Dictionary.\\n\\n^ \"Alphabetical checklist\". BBC News. BBC. Archived from the original on 17 July 2018. Retrieved 17 June 2018.\\n\\n^ \"A to Z - Style guide\". www.gov.uk. UK Government.\\n\\n^ Permanent Committee on Geographical Names. \"Toponymic guidelines for the United Kingdom\". gov.uk. UK Government.\\n\\n^ \"Countries within a country\". Number10.gov.uk. UK Government. 10 January 2003. Archived from the original on 9 September 2008. On this site the term ‘Britain’ is used informally to mean the United Kingdom of Great Britain and Northern Ireland\\n\\n^ Bradley, Anthony Wilfred; Ewing, Keith D. (2007). Constitutional and administrative law. 1 (14th ed.). Harlow: Pearson Longman. p.\\xa036. ISBN\\xa0978-1-4058-1207-8.\\n\\n^ \"Which of these best describes the way you think of yourself?\". Northern Ireland Life and Times Survey 2010. ARK\\xa0– Access Research Knowledge. 2010. Retrieved 1 July 2010.\\n\\n^ Schrijver, Frans (2006). Regionalism after regionalisation: Spain, France and the United Kingdom. Amsterdam University Press. pp.\\xa0275–277. ISBN\\xa0978-90-5629-428-1.\\n\\n^ \"Ffeithiau allweddol am y Deyrnas Unedig\". Directgov\\xa0– Llywodraeth, dinasyddion a hawliau. Archived from the original on 24 September 2012. Retrieved 8 March 2015.\\n\\n^ \"Ancient skeleton was \\'even older\\'\". BBC News. 30 October 2007. Retrieved 27 April 2011.\\n\\n^ Koch, John T. (2006). Celtic culture: A historical encyclopedia. Santa Barbara, CA: ABC-CLIO. p.\\xa0973. ISBN\\xa0978-1-85109-440-0.\\n\\n^ Davies, John; Jenkins, Nigel; Baines, Menna; Lynch, Peredur I., eds. (2008). \"The Welsh Academy encyclopaedia of Wales\". The Welsh Academy Encyclopaedia of Wales. Cardiff: University of Wales Press. p.\\xa0915. ISBN\\xa0978-0-7083-1953-6.\\n\\n^ \"Short Athelstan biography\". BBC History. Retrieved 9 April 2013.\\n\\n^ Mackie, J.D. (1991). A History of Scotland. London: Penguin. pp.\\xa018–19. ISBN\\xa0978-0-14-013649-4.\\n\\n^ Campbell, Ewan (1999). Saints and Sea-kings: The First Kingdom of the Scots. Edinburgh: Canongate. pp.\\xa08–15. ISBN\\xa0978-0-86241-874-8.\\n\\n^ Haigh, Christopher (1990). The Cambridge Historical Encyclopedia of Great Britain and Ireland. Cambridge University Press. p.\\xa030. ISBN\\xa0978-0-521-39552-6.\\n\\n^ Ganshof, F.L. (1996). Feudalism. University of Toronto. p.\\xa0165. ISBN\\xa0978-0-8020-7158-3.\\n\\n^ Chibnall, Marjorie (1999). The Debate on the Norman Conquest. Manchester University Press. pp.\\xa0115–122. ISBN\\xa0978-0-7190-4913-2.\\n\\n^ Keen, Maurice. \"The Hundred Years\\' War\". BBC History.\\n\\n^ The Reformation in England and Scotland and Ireland: The Reformation Period & Ireland under Elizabth I, Encyclopædia Britannica Online.\\n\\n^ \"British History in Depth\\xa0– Wales under the Tudors\". BBC History. 5 November 2009. Retrieved 21 September 2010.\\n\\n^ Nicholls, Mark (1999). A history of the modern British Isles, 1529–1603: The two kingdoms. Oxford: Blackwell. pp.\\xa0171–172. ISBN\\xa0978-0-631-19334-0.\\n\\n^ Canny, Nicholas P. (2003). Making Ireland British, 1580–1650. Oxford University Press. pp.\\xa0189–200. ISBN\\xa0978-0-19-925905-2.\\n\\n^ Ross, D. (2002). Chronology of Scottish History. Glasgow: Geddes & Grosset. p. 56. ISBN\\xa01-85534-380-0\\n\\n^ Hearn, J. (2002). Claiming Scotland: National Identity and Liberal Culture. Edinburgh University Press. p. 104. ISBN\\xa01-902930-16-9\\n\\n^ \"English Civil Wars\". Encyclopædia Britannica. Retrieved 28 April 2013.\\n\\n^ \"Scotland and the Commonwealth: 1651–1660\". Archontology.org. 14 March 2010. Retrieved 9 March 2015.\\n\\n^ McCarthy, Mathew (2013). Privateering, Piracy and British Policy in Spanish America, 1810–1830 (1st ed.). Woodbridge: The Boydell Press. ISBN\\xa0978-1843838616.\\n\\n^ Lodge, Richard (2007) [1910]. The History of England\\xa0– From the Restoration to the Death of William III (1660–1702). Read Books. p.\\xa08. ISBN\\xa0978-1-4067-0897-4.\\n\\n^ \"Tudor Period and the Birth of a Regular Navy\". Royal Navy History. Institute of Naval History. Archived from the original on 3 November 2011. Retrieved 8 March 2015.\\n\\n^ Canny, Nicholas (1998). The Origins of Empire, The Oxford History of the British Empire Volume I. Oxford University Press. ISBN\\xa0978-0-19-924676-2.\\n\\n^ \"Articles of Union with Scotland 1707\". UK Parliament. Retrieved 19 October 2008.\\n\\n^ \"Acts of Union 1707\". UK Parliament. Retrieved 6 January 2011.\\n\\n^ \"Treaty (act) of Union 1706\". Scottish History online. Retrieved 3 February 2011.\\n\\n^ Library of Congress, The Impact of the American Revolution Abroad, p. 73.\\n\\n^ \"Anti-Slavery International\". UNESCO. Retrieved 15 October 2010\\n\\n^ Loosemore, Jo (2007). Sailing against slavery. BBC Devon. 2007.\\n\\n^ Lovejoy, Paul E. (2000). Transformations in Slavery: A History of Slavery in Africa (2nd ed.). New York: Cambridge University Press. p.\\xa0290. ISBN\\xa0978-0521780124.\\n\\n^ \"The Act of Union\". Act of Union Virtual Library. Retrieved 15 May 2006.\\n\\n^ Tellier, L.-N. (2009). Urban World History: an Economic and Geographical Perspective. Quebec: PUQ. p. 463. ISBN\\xa02-7605-1588-5.\\n\\n^ Johnston, pp.\\xa0508–10.\\n\\n^ Porter, p.\\xa0332.\\n\\n^ Sondhaus, L. (2004). Navies in Modern World History. London: Reaktion Books. p. 9. ISBN\\xa01-86189-202-0.\\n\\n^ Porter, Andrew (1998). The Nineteenth Century, The Oxford History of the British Empire Volume III. Oxford University Press. p.\\xa0332. ISBN\\xa0978-0-19-924678-6.\\n\\n^ \"The Workshop of the World\". BBC History. Retrieved 28 April 2013.\\n\\n^ Porter, Andrew (1998). The Nineteenth Century, The Oxford History of the British Empire Volume III. Oxford University Press. p.\\xa08. ISBN\\xa0978-0-19-924678-6.\\n\\n^ Marshall, P.J. (1996). The Cambridge Illustrated History of the British Empire. Cambridge University Press. pp.\\xa0156–57. ISBN\\xa0978-0-521-00254-7.\\n\\n^ Tompson, Richard S. (2003). Great Britain: a reference guide from the Renaissance to the present. New York: Facts on File. p.\\xa063. ISBN\\xa0978-0-8160-4474-0.\\n\\n^ Hosch, William L. (2009). World War I: People, Politics, and Power. America at War. New York: Britannica Educational Publishing. p.\\xa021. ISBN\\xa0978-1-61530-048-8.\\n\\n^ Zarembka, Paul (2013). Contradictions: Finance, Greed, and Labor Unequally Paid. Emerald Group Publishing. ISBN\\xa09781781906705.\\n\\n^ Sophia A. Van Wingerden, The women\\'s suffrage movement in Britain, 1866–1928 (1999) ch 1.\\n\\n^ Turner, John (1988). Britain and the First World War. London: Unwin Hyman. pp. 22–35. ISBN\\xa0978-0-04-445109-9.\\n\\n^ a b Westwell, I.; Cove, D. (eds) (2002). History of World War I, Volume 3. London: Marshall Cavendish. pp. 698 and 705. ISBN\\xa00-7614-7231-2.\\n\\n^ Turner, J. (1988). Britain and the First World War. Abingdon: Routledge. p. 41. ISBN\\xa00-04-445109-1.\\n\\n^ SR&O 1921, No. 533 of 3 May 1921.\\n\\n^ \"The Anglo-Irish Treaty, 6\\xa0December 1921\". CAIN. Retrieved 15 May 2006.\\n\\n^ Rubinstein, W. D. (2004). Capitalism, Culture, and Decline in Britain, 1750–1990. Abingdon: Routledge. p. 11. ISBN\\xa00-415-03719-0.\\n\\n^ Doenecke, Justus D.; Stoler, Mark A. (2005). Debating Franklin D. Roosevelt\\'s foreign policies, 1933–1945. ISBN\\xa0978-0-8476-9416-7. Retrieved 19 March 2016.\\n\\n^ Kelly, Brian. \"The Four Policemen and. Postwar Planning, 1943-1945: The Collision of Realist and. Idealist Perspectives\". Retrieved 25 August 2015.\\n\\n^ \"The \"Special Relationship\" between Great Britain and the United States Began with FDR\". Roosevelt Institute. 22 July 2010. Retrieved 24 January 2018. and the joint efforts of both powers to create a new post-war strategic and economic order through the drafting of the Atlantic Charter; the establishment of the International Monetary Fund and the World Bank; and the creation of the United Nations.\\n\\n^ \"Remarks by the President Obama and Prime Minister Cameron in Joint Press Conference\". whitehouse.gov. 22 April 2016. Retrieved 24 January 2018. That\\'s what we built after World War II. The United States and the UK designed a set of institutions – whether it was the United Nations, or the Bretton Woods structure, IMF, World Bank, NATO, across the board.\\n\\n^ \"Britain to make its final payment on World War II loan from U.S.\" The New York Times. 28 December 2006. Retrieved 25 August 2011.\\n\\n^ Francis, Martin (1997). Ideas and policies under Labour, 1945–1951: Building a new Britain. Manchester University Press. pp.\\xa0225–233. ISBN\\xa0978-0-7190-4833-3.\\n\\n^ Lee, Stephen J. (1996). Aspects of British political history, 1914–1995. London; New York: Routledge. pp.\\xa0173–199. ISBN\\xa0978-0-415-13103-2.\\n\\n^ Larres, Klaus (2009). A companion to Europe since 1945. Chichester: Wiley-Blackwell. p.\\xa0118. ISBN\\xa0978-1-4051-0612-2.\\n\\n^ \"Country List\". Commonwealth Secretariat. 19 March 2009. Archived from the original on 6 May 2013. Retrieved 8 March 2015.\\n\\n^ a b \"The cultural superpower: British cultural projection abroad\". Journal of the British Politics Society, Norway. Volume 6. No. 1. Winter 2011\\n\\n^ a b Sheridan, Greg (15 May 2010). \"Cameron has chance to make UK great again\". The Australian. Sydney. Retrieved 20 May 2012.\\n\\n^ Julios, Christina (2008). Contemporary British identity: English language, migrants, and public discourse. Studies in migration and diaspora. Aldershot: Ashgate. p.\\xa084. ISBN\\xa0978-0-7546-7158-9.\\n\\n^ \"1975: UK embraces Europe in referendum\". BBC News. Retrieved 8 March 2015.\\n\\n^ Wheeler, Brian; Hunt, Alex. \"The UK\\'s EU referendum: All you need to know\". BBC News.\\n\\n^ Aughey, Arthur (2005). The Politics of Northern Ireland: Beyond the Belfast Agreement. London: Routledge. p.\\xa07. ISBN\\xa0978-0-415-32788-6.\\n\\n^ \"The troubles were over, but the killing continued. Some of the heirs to Ireland\\'s violent traditions refused to give up their inheritance.\" Holland, Jack (1999). Hope against History: The Course of Conflict in Northern Ireland. New York: Henry Holt. p.\\xa0221. ISBN\\xa0978-0-8050-6087-4.\\n\\n^ Elliot, Marianne (2007). The Long Road to Peace in Northern Ireland: Peace Lectures from the Institute of Irish Studies at Liverpool University. University of Liverpool Institute of Irish Studies, Liverpool University Press. p. 2. ISBN\\xa01-84631-065-2.\\n\\n^ Dorey, Peter (1995). British politics since 1945. Making contemporary Britain. Oxford: Blackwell. pp.\\xa0164–223. ISBN\\xa0978-0-631-19075-2.\\n\\n^ Griffiths, Alan; Wall, Stuart (2007). Applied Economics (PDF) (11th ed.). Harlow: Financial Times Press. p.\\xa06. ISBN\\xa0978-0-273-70822-3. Retrieved 26 December 2010.\\n\\n^ Keating, Michael (1 January 1998). \"Reforging the Union: Devolution and Constitutional Change in the United Kingdom\". Publius: The Journal of Federalism. 28 (1): 217–234. doi:10.1093/oxfordjournals.pubjof.a029948. Retrieved 4 February 2009.\\n\\n^ Jackson, Mike (3 April 2011). \"Military action alone will not save Libya\". Financial Times. London.\\n\\n^ \"United Kingdom country profile\". BBC News. 24 January 2013. Retrieved 9 April 2013.\\n\\n^ \"Scotland to hold independence poll in 2014\\xa0– Salmond\". BBC News. 10 January 2012. Retrieved 10 January 2012.\\n\\n^ \"In stunning decision, Britain votes to leave the E.U.\" The Washington Post. 24 June 2016. Retrieved 24 June 2016.\\n\\n^ Bloom, Dan (29 March 2017). \"Brexit Day recap: Article 50 officially triggered on historic day as Theresa May warns: \\'No turning back\\'\". Daily Mirror. Retrieved 29 March 2017.\\n\\n^ Adler, Katya (29 March 2017). \"Theresa May officially starts Brexit process; Article 50 letter handed over\". BBC News. Retrieved 29 March 2017.\\n\\n^ Oxford English Dictionary: \"British Isles: a geographical term for the islands comprising Great Britain and Ireland with all their offshore islands including the Isle of Man and the Channel Islands.\"\\n\\n^ a b c d e f \"United Kingdom\". The World Factbook. Central Intelligence Agency. Retrieved 23 September 2008.\\n\\n^ a b c d Latimer Clarke Corporation Pty Ltd. \"United Kingdom\\xa0– Atlapedia Online\". Atlapedia.com. Retrieved 26 October 2010.\\n\\n^ ROG Learning Team (23 August 2002). \"The Prime Meridian at Greenwich\". Royal Museums Greenwich. Royal Museums Greenwich. Retrieved 11 September 2012.\\n\\n^ a b Darkes, Giles (January 2008). \"How long is the UK coastline?\". The British Cartographic Society. Retrieved 24 January 2015.\\n\\n^ \"The Channel Tunnel\". Eurotunnel. Archived from the original on 18 December 2010. Retrieved 8 March 2015.\\n\\n^ \"England\\xa0– Profile\". BBC News. 11 February 2010.\\n\\n^ \"Scotland Facts\". Scotland Online Gateway. Archived from the original on 21 June 2008. Retrieved 16 July 2008.\\n\\n^ Winter, Jon (1 June 2000). \"The complete guide to the ... Scottish Islands\". The Independent. London. Retrieved 8 March 2015.\\n\\n^ \"Overview of Highland Boundary Fault\". Gazetteer for Scotland. University of Edinburgh. Retrieved 27 December 2010.\\n\\n^ \"Great Britain\\'s tallest mountain is taller\". Ordnance Survey. Retrieved 9 September 2018.\\n\\n^ \"Ben Nevis Weather\". Ben Nevis Weather. Retrieved 26 October 2008.\\n\\n^ \"Profile: Wales\". BBC News. 9 June 2010. Retrieved 7 November 2010.\\n\\n^ \"Geography of Northern Ireland\". University of Ulster. Retrieved 22 May 2006.\\n\\n^ \"UK climate summaries\". Met Office. Archived from the original on 27 May 2012. Retrieved 1 May 2011.\\n\\n^ \"Atlantic Ocean Circulation (Gulf Stream)\". UK Climate Projections. Met Office. Retrieved 8 March 2015.\\n\\n^ Hackwood Frederick William: The Story of the Shire, Being the Lore, History and Evolution of English County Institutions (1851)\\n\\n^ United Nations Economic and Social Council (August 2007). \"Ninth UN Conference on the standardization of Geographical Names\" (PDF). UN Statistics Division. Archived from the original (PDF) on 1 December 2009. Retrieved 21 October 2008.\\n\\n^ Barlow, I.M. (1991). Metropolitan Government. London: Routledge. ISBN\\xa0978-0-415-02099-2.\\n\\n^ \"Welcome to the national site of the Government Office Network\". Government Offices. Archived from the original on 15 June 2009. Retrieved 3 July 2008.\\n\\n^ \"A short history of London government\". Greater London Authority. Archived from the original on 21 April 2008. Retrieved 4 October 2008.\\n\\n^ Sherman, Jill; Norfolk, Andrew (5 November 2004). \"Prescott\\'s dream in tatters as North East rejects assembly\". The Times. London. Retrieved 15 February 2008. The Government is now expected to tear up its twelve-year-old plan to create eight or nine regional assemblies in England to mirror devolution in Scotland and Wales. (subscription required)\\n\\n^ \"Local Authority Elections\". Local Government Association. Archived from the original on 18 January 2012. Retrieved 8 March 2015.\\n\\n^ \"STV in Scotland: Local Government Elections 2007\" (PDF). Political Studies Association. Archived from the original (PDF) on 20 March 2011. Retrieved 2 August 2008.\\n\\n^ a b \"Unitary authorities\". Welsh Government. 2014. Archived from the original on 10 March 2015. Retrieved 9 March 2015.\\n\\n^ Devenport, Mark (18 November 2005). \"NI local government set for shake-up\". BBC News. Retrieved 15 November 2008.\\n\\n^ \"Foster announces the future shape of local government\" (Press release). Northern Ireland Executive. 13 March 2008. Archived from the original on 25 July 2008. Retrieved 20 October 2008.\\n\\n^ \"Background briefing on the Crown Dependencies: Jersey, Guernsey and the Isle of Man\" (PDF). Ministry of Justice. Retrieved 9 March 2015.\\n\\n^ \"Overseas Territories\". Foreign & Commonwealth Office. Archived from the original on 5 February 2008. Retrieved 6 September 2010.CS1 maint: BOT: original-url status unknown (link) \\n\\n^ \"The World Factbook\". CIA. Retrieved 26 December 2010.\\n\\n^ \"Country profiles\". Foreign & Commonwealth Office. 21 February 2008. Archived from the original on 12 December 2012. Retrieved 9 March 2015.\\n\\n^ \"Partnership for Progress and Prosperity\" (PDF). UK Overseas Territories Conservation Forum. Retrieved 28 March 2017.\\n\\n^ Davison, Phil (18 August 1995). \"Bermudians vote to stay British\". The Independent. London. Retrieved 11 September 2012.\\n\\n^ \"Gibraltar referendum result in quotes\". BBC News. 8 November 2002.\\n\\n^ \"Falklands: Cameron says Argentina should respect vote\". BBC News. 12 March 2013. Retrieved 12 March 2013.\\n\\n^ The Committee Office, House of Commons. \"House of Commons\\xa0– Crown Dependencies\\xa0– Justice Committee\". Publications.parliament.uk. Retrieved 7 November 2010.\\n\\n^ Fact sheet on the UK\\'s relationship with the Crown Dependencies\\xa0– gov.uk, Ministry of Justice. Retrieved 25 August 2014.\\n\\n^ \"Profile of Jersey\". States of Jersey. Archived from the original on 2 September 2006. Retrieved 31 July 2008. The legislature passes primary legislation, which requires approval by The Queen in Council, and enacts subordinate legislation in many areas without any requirement for Royal Sanction and under powers conferred by primary legislation.\\n\\n^ \"Chief Minister to meet Channel Islands counterparts\\xa0– Isle of Man Public Services\" (Press release). Isle of Man Government. 29 May 2012. Archived from the original on 30 April 2013. Retrieved 8 March 2015.\\n\\n^ Bagehot, Walter (1867). The English Constitution. London: Chapman and Hall. p. 103.\\n\\n^ Carter, Sarah. \"A Guide To the UK Legal System\". University of Kent at Canterbury. Archived from the original on 27 May 2012. Retrieved 16 May 2006.\\n\\n^ \"Parliamentary sovereignty\". UK Parliament. n.d. Archived from the original on 27 May 2012.\\n\\n^ \"The Government, Prime Minister and Cabinet\". Public services all in one place. Directgov. Archived from the original on 21 September 2012. Retrieved 9 March 2015.\\n\\n^ \"Brown is UK\\'s new prime minister\". BBC News. 27 June 2007. Retrieved 23 January 2008.\\n\\n^ \"Elections and voting\". UK Parliament. 14 November 2010. Archived from the original on 14 November 2010. Retrieved 19 February 2017.\\n\\n^ \"The Parliament Acts\". UK Parliament. 14 November 2010. Archived from the original on 14 November 2010. Retrieved 19 February 2017.\\n\\n^ Cornford, James; Dorling, Daniel (1997). \"Crooked Margins and Marginal Seats\" (PDF).  In Pattie, Charles; Denver, David; Fisher, Justin;  et al. British Elections and Parties Review, Volume 7. London: Frank Cass. p.\\xa085.\\n\\n^ \"Ideological Development in the UK\". BBC News. 4 November 2004. Retrieved 9 August 2017.\\n\\n^ McDonald, Henry (1 May 2015). \"Sinn Féin MP says party will always boycott Westminster, despite report\". The Guardian. London. Retrieved 7 July 2015.\\n\\n^ \"Scots MPs attacked over fees vote\". BBC News. 27 January 2004. Retrieved 21 October 2008.\\n\\n^ Taylor, Brian (1 June 1998). \"Talking Politics: The West Lothian Question\". BBC News. Retrieved 21 October 2008.\\n\\n^ \"England-only laws \\'need majority from English MPs\\'\". BBC News. 25 March 2013. Retrieved 28 April 2013.\\n\\n^ \"Scotland\\'s Parliament\\xa0– powers and structures\". BBC News. 8 April 1999. Retrieved 21 October 2008.\\n\\n^ \"Scotland Votes No\". BBC News. 19 September 2014. Retrieved 4 August 2017.\\n\\n^ \"Structure and powers of the Assembly\". BBC News. 9 April 1999. Retrieved 21 October 2008.\\n\\n^ \"Your Executive\". Northern Ireland Executive.\\n\\n^ Burrows, N. (1999). \"Unfinished Business: The Scotland Act 1998\". The Modern Law Review. 62 (2): 241–60 [p. 249]. doi:10.1111/1468-2230.00203. The UK Parliament is sovereign and the Scottish Parliament is subordinate. The White Paper had indicated that this was to be the approach taken in the legislation. The Scottish Parliament is not to be seen as a reflection of the settled will of the people of Scotland or of popular sovereignty but as a reflection of its subordination to a higher legal authority. Following the logic of this argument, the power of the Scottish Parliament to legislate can be withdrawn or overridden...\\n\\n^ Elliot, M. (2004). \"United Kingdom: Parliamentary sovereignty under pressure\". International Journal of Constitutional Law. 2 (3): 545–627, 553–554. doi:10.1093/icon/2.3.545. Notwithstanding substantial differences among the schemes, an important common factor is that the U.K. Parliament has not renounced legislative sovereignty in relation to the three nations concerned. For example, the Scottish Parliament is empowered to enact primary legislation on all matters, save those in relation to which competence is explicitly denied\\xa0... but this power to legislate on what may be termed \"devolved matters\" is concurrent with the Westminster Parliament\\'s general power to legislate for Scotland on any matter at all, including devolved matters\\xa0... In theory, therefore, Westminster may legislate on Scottish devolved matters whenever it chooses...\\n\\n^ Walker, G. (2010). \"Scotland, Northern Ireland, and Devolution, 1945–1979\". Journal of British Studies. 39 (1): 117–142. doi:10.1086/644536.\\n\\n^ Gamble, A. (2006). \"The Constitutional Revolution in the United Kingdom\". Publius. 36 (1): 19–35 [p. 29]. doi:10.1093/publius/pjj011. The British parliament has the power to abolish the Scottish parliament and the Welsh assembly by a simple majority vote in both houses, but since both were sanctioned by referenda, it would be politically difficult to abolish them without the sanction of a further vote by the people. In this way, several of the constitutional measures introduced by the Blair government appear to be entrenched and not subject to a simple exercise of parliamentary sovereignty at Westminster.\\n\\n^ Meehan, E. (1999). \"The Belfast Agreement—Its Distinctiveness and Points of Cross-Fertilization in the UK\\'s Devolution Programme\". Parliamentary Affairs. 52 (1): 19–31 [p. 23]. doi:10.1093/pa/52.1.19. The distinctive involvement of two governments in the Northern Irish problem means that Northern Ireland\\'s new arrangements rest upon an intergovernmental agreement. If this can be equated with a treaty, it could be argued that the forthcoming distribution of power between Westminster and Belfast has similarities with divisions specified in the written constitutions of federal states... Although the Agreement makes the general proviso that Westminster\\'s \\'powers to make legislation for Northern Ireland\\' remains \\'unaffected\\', without an explicit categorical reference to reserved matters, it may be more difficult than in Scotland or Wales for devolved powers to be repatriated. The retraction of devolved powers would not merely entail consultation in Northern Ireland backed implicitly by the absolute power of parliamentary sovereignty but also the renegotiation of an intergovernmental agreement.\\n\\n^ \"The Treaty (act) of the Union of Parliament 1706\". Scottish History Online. Retrieved 5 October 2008.\\n\\n^ \"UK Supreme Court judges sworn in\". BBC News. 1 October 2009.\\n\\n^ \"Constitutional reform: A Supreme Court for the United Kingdom\" (PDF). Department for Constitutional Affairs. July 2003. Archived from the original (PDF) on 17 January 2009. Retrieved 13 May 2013.\\n\\n^ \"Role of the JCPC\". Judicial Committee of the Privy Council. Retrieved 28 April 2013.\\n\\n^ Bainham, Andrew (1998). The international survey of family law: 1996. The Hague: Martinus Nijhoff. p.\\xa0298. ISBN\\xa0978-90-411-0573-8.\\n\\n^ Adeleye, Gabriel; Acquah-Dadzie, Kofi; Sienkewicz, Thomas; McDonough, James (1999). World dictionary of foreign expressions. Waucojnda, IL: Bolchazy-Carducci. p.\\xa0371. ISBN\\xa0978-0-86516-423-9.\\n\\n^ \"The Australian courts and comparative law\". Australian Law Postgraduate Network. Archived from the original on 14 April 2013. Retrieved 9 March 2015.\\n\\n^ \"Court of Session\\xa0– Introduction\". Scottish Courts. Archived from the original on 31 July 2008. Retrieved 8 March 2015.\\n\\n^ \"High Court of Justiciary\\xa0– Introduction\". Scottish Courts. Archived from the original on 12 September 2008. Retrieved 9 March 2015.\\n\\n^ \"House of Lords\\xa0– Practice Directions on Permission to Appeal\". UK Parliament. Archived from the original on 6 December 2013. Retrieved 8 March 2015.\\n\\n^ \"Introduction\". Scottish Courts. Archived from the original on 1 September 2008. Retrieved 9 March 2015.\\n\\n^ Samuel Bray (2005). \"Not proven: introducing a third verdict\". The University of Chicago Law Review. 72 (4): 1299. JSTOR\\xa04495530.\\n\\n^ \"Crime in England and Wales, Year Ending June 2015\" (PDF).\\n\\n^ \"UK prison population figures\". British Government. Retrieved 10 November 2015.\\n\\n^ Highest to Lowest. World Prison Brief. International Centre for Prison Studies.\\n\\n^ \"• England & Wales: Recorded homicides 2002–2015 – UK Statistics\". Statista.\\n\\n^ Tom Batchelor. \"Sexual offences at highest levels since records began but overall crimes fall – UK – News – Daily Express\". Express.co.uk.\\n\\n^ \"Scottish homicide figures fall to another record low\". BBC News.\\n\\n^ Art.50 letter |url=https://www.gov.uk/government/publications/prime-ministers-letter-to-donald-tusk-triggering-article-50/prime-ministers-letter-to-donald-tusk-triggering-article-50\\n\\n^ Swaine, Jon (13 January 2009). \"Barack Obama presidency will strengthen special relationship, says Gordon Brown\". The Daily Telegraph (London). Retrieved 3 May 2011.\\n\\n^ Kirchner, E. J.; Sperling, J. (2007). Global Security Governance: Competing Perceptions of Security in the 21st century. London: Taylor & Francis. p. 100. ISBN\\xa00-415-39162-8\\n\\n^ The Committee Office, House of Commons (19 February 2009). \"DFID\\'s expenditure on development assistance\". UK Parliament. Archived from the original on 12 January 2013. Retrieved 28 April 2013.\\n\\n^ \"Ministry of Defence\". Ministry of Defence. Retrieved 21 February 2012.\\n\\n^ \"Speaker addresses Her Majesty Queen Elizabeth II\". UK Parliament. 30 March 2012. Retrieved 28 April 2013.\\n\\n^ \"House of Commons Hansard\". UK Parliament. Retrieved 23 October 2008.\\n\\n^ \"House of Commons Hansard Written Answers for 17 Jun 2013 (pt 0002)\". Publications.parliament.uk. Retrieved 4 March 2015.\\n\\n^ UK 2005: The Official Yearbook of the United Kingdom of Great Britain and Northern Ireland. Office for National Statistics. p. 89.\\n\\n^ \"Trends in World Military Expenditure, 2016\" (PDF). Stockholm International Peace Research Institute. Retrieved 26 April 2017.\\n\\n^ \"Principles for Economic Regulation\". Department for Business, Innovation & Skills. April 2011. Retrieved 1 May 2011.\\n\\n^ Chavez-Dreyfuss, Gertrude (1 April 2008). \"Global reserves, dollar share up at end of 2007-IMF\". Reuters. Retrieved 21 December 2009.\\n\\n^ \"More About the Bank\". Bank of England. n.d. Archived from the original on 12 March 2008.\\n\\n^ \"UK index of services: October 2017\". Office for National Statistics. 22 December 2017. Retrieved 15 January 2018.\\n\\n^ Sassen, Saskia (2001). The Global City: New York, London, Tokyo (2nd ed.). Princeton University Press. ISBN\\xa0978-0-691-07866-3.\\n\\n^ a b \"Global Financial Centres 7\" (PDF). Z/Yen. 2010. Archived from the original (PDF) on 5 November 2012. Retrieved 21 April 2010.\\n\\n^ a b \"Worldwide Centres of Commerce Index 2008\" (PDF). Mastercard. Retrieved 5 July 2011.\\n\\n^ a b Zumbrun, Joshua (15 July 2008). \"\"World\\'s Most Economically Powerful Cities\"\". Forbes. New York. Archived from the original on 19 May 2011. Retrieved 3 October 2010.\\n\\n^ \"Global city GDP rankings 2008–2025\". PricewaterhouseCoopers. Archived from the original on 19 May 2011. Retrieved 16 November 2010.\\n\\n^ \"UNWTO Tourism Highlights, Edition 2005\" (PDF). World Tourism Organisation. Archived from the original (PDF) on 9 August 2007. Retrieved 9 March 2015.\\n\\n^ Bremner, Caroline (10 January 2010). \"Euromonitor International\\'s Top City Destination Ranking\". Euromonitor International. Archived from the original on 19 May 2011. Retrieved 31 May 2011.\\n\\n^ \"From the Margins to the Mainstream\\xa0– Government unveils new action plan for the creative industries\". DCMS. 9 March 2007. Archived from the original on 4 December 2008. Retrieved 9 March 2015.\\n\\n^ a b \"European Countries\\xa0– United Kingdom\". Europa (web portal). Retrieved 15 December 2010.\\n\\n^ Harrington, James W.; Warf, Barney (1995). Industrial location: Principles, practices, and policy. London: Routledge. p.\\xa0121. ISBN\\xa0978-0-415-10479-1.\\n\\n^ Spielvogel, Jackson J. (2008). Western Civilization: Alternative Volume: Since 1300. Belmont, CA: Thomson Wadsworth. ISBN\\xa0978-0-495-55528-5.\\n\\n^ Porter, Andrew (1998). The Nineteenth Century, The Oxford History of the British Empire Volume III. Oxford University Press. p.\\xa08. ISBN\\xa0978-0-19-924678-6. Retrieved 22 July 2009.\\n\\n^ Marshall, PJ (1996). The Cambridge Illustrated History of the British Empire. Cambridge University Press. pp.\\xa0156–57. ISBN\\xa0978-0-521-00254-7. Retrieved 22 July 2009.\\n\\n^ Hewitt, Patricia (15 July 2004). \"TUC Manufacturing Conference\". Department of Trade and Industry. Archived from the original on 3 June 2007. Retrieved 9 March 2015.\\n\\n^ \"Motor Industry Facts 2016\" (PDF). Society of Motor Manufacturers and Traders. 2016. Archived from the original (PDF) on 14 October 2016. Retrieved 13 October 2016.\\n\\n^ Tovey, Alan (29 June 2016). \"Britain\\'s aerospace sector soars amid fears Brexit could clip its wings\". The Daily Telegraph. London.\\n\\n^ Robertson, David (9 January 2009). \"The Aerospace industry has thousands of jobs in peril\". The Times. London. Retrieved 9 June 2011. (subscription required)\\n\\n^ \"The Pharmaceutical sector in the UK\". Department for Business, Innovation & Skills. Archived from the original on 12 December 2012. Retrieved 9 March 2015.\\n\\n^ \"Ministerial Industry Strategy Group\\xa0– Pharmaceutical Industry: Competitiveness and Performance Indicators\" (PDF). Department of Health. Archived from the original (PDF) on 7 January 2013. Retrieved 9 March 2015.\\n\\n^ \"Agriculture in the United Kingdom\" (PDF). Department for Environment, Food and Rural Affairs. Archived from the original (PDF) on 5 January 2012. Retrieved 9 March 2015.\\n\\n^ Survey, British. \"Coal | Mines & quarries | MineralsUK\". http://www.bgs.ac.uk. Retrieved 7 July 2015.\\n\\n^ \"UK in recession as economy slides\". BBC News. 23 January 2009. Retrieved 23 January 2009.\\n\\n^ Monaghan, Angela (15 October 2014). \"The AAA-rated club: which countries still make the grade?\". The Guardian. London. Retrieved 8 June 2015.\\n\\n^ \"UK loses top AAA credit rating for first time since 1978\". BBC News. 23 February 2013. Retrieved 23 February 2013.\\n\\n^ Stewart, Heather; Wintour, Patrick (18 February 2015). \"UK employment rate hits highest level since records began\". The Guardian. London. Retrieved 8 June 2015.\\n\\n^ Wholehouse, Matthew (24 July 2014). \"UK has fastest-growing economy, International Monetary Fund says\". The Telegraph. London. Retrieved 8 June 2015.\\n\\n^ \"UK unemployment falls to 1.75 million\". BBC News. 11 November 2015.\\n\\n^ Roser, Max (27 March 2015). \"Income inequality: poverty falling faster than ever but the 1% are racing ahead\". The Guardian. Retrieved 8 June 2015.\\n\\n^ Beckford, Martin (5 December 2011). \"Gap between rich and poor growing fastest in Britain\". The Daily Telegraph. London.\\n\\n^ Andrews, J. (16 January 2013). \"How poor is Britain now\" Archived 4 February 2013 at the Wayback Machine.. Yahoo! Finance UK \\n\\n^ Glynn, S.; Booth, A. (1996). Modern Britain: An Economic and Social History. London: Routledge.\\n\\n^ \"Report highlights \\'bleak\\' poverty levels in the UK\" Phys.org, 29 March 2013\\n\\n^ World Development Indicators, World Bank. Retrieved 29 June 2011. Note: Used for Bermuda, Chad, Cyprus, Eritrea, Greenland, Federated States of Micronesia, Monaco, Netherlands, New Caledonia and Turkmenistan.\\n\\n^ Total Midyear Population Archived 12 October 2013 at the Wayback Machine., U.S. Census Bureau, International Data Base. Retrieved 29 June 2011. Note: Used for Aruba, Cayman Islands, Cook Islands, Cuba, North Korea, Marshall Islands, Montenegro, Samoa, Somalia, Trinidad and Tobago and West Bank.\\n\\n^ The World Factbook – European Union, Central Intelligence Agency. Retrieved 29 June 2011.\\n\\n^ World Economic Outlook Database, April 2011, International Monetary Fund. Retrieved 29 June 2011. Note: Used for the rest of the countries.\\n\\n^ GDP (official exchange rate), The World Factbook, United States Central Intelligence Agency. Retrieved 29 June 2011. Note: Used for the rest of the countries.\\n\\n^ \"Dark money: London\\'s dirty secret\". Financial Times. London. 11 May 2016.\\n\\n^ \"London is now the global money-laundering centre for the drug trade, says crime expert\". The Independent. London. 4 July 2015.\\n\\n^ \"London property market turned into money laundering safe haven by inadequate supervision, MPs say\". The Independent. London. 15 July 2016.\\n\\n^ \"UK draws billions in unrecorded inflows, much from Russia – study\". Reuters. 10 March 2015.\\n\\n^ \"Russian money infects London\". 31 March 2015.\\n\\n^ \"David Cameron urged to act on Panama Papers as UK named \\'at heart of super-rich tax-avoidance network\\'\". The Independent. London. 5 April 2016. Retrieved 7 April 2016.\\n\\n^ Gascoin, J. \"A reappraisal of the role of the universities in the Scientific Revolution\", in Lindberg, David C. and Westman, Robert S., eds (1990), Reappraisals of the Scientific Revolution. Cambridge University Press. p. 248. ISBN\\xa00-521-34804-8.\\n\\n^ Reynolds, E.E.; Brasher, N.H. (1966). Britain in the Twentieth Century, 1900–1964. Cambridge University Press. p. 336. OCLC\\xa0474197910\\n\\n^ Burtt, E.A. (2003) 1924.The Metaphysical Foundations of Modern Science. Mineola, NY: Courier Dover. p. 207. ISBN\\xa00-486-42551-7.\\n\\n^ Hatt, C. (2006). Scientists and Their Discoveries. London: Evans Brothers. pp. 16, 30 and 46. ISBN\\xa00-237-53195-X.\\n\\n^ Jungnickel, C.; McCormmach, R. (1996). Cavendish. American Philosophical Society. ISBN\\xa00-87169-220-1.\\n\\n^ \"The Nobel Prize in Physiology or Medicine 1945: Sir Alexander Fleming, Ernst B. Chain, Sir Howard Florey\". The Nobel Foundation. Archived from the original on 21 June 2011.\\n\\n^ Hatt, C. (2006). Scientists and Their Discoveries. London: Evans Brothers. p. 56. ISBN\\xa00-237-53195-X.\\n\\n^ Wilson, Arthur (1994). The Living Rock: The Story of Metals Since Earliest Times and Their Impact on Civilization. p. 203. Woodhead Publishing.\\n\\n^ James, I. (2010). Remarkable Engineers: From Riquet to Shannon. Cambridge University Press. pp. 33–6. ISBN\\xa00-521-73165-8.\\n\\n^ Bova, Ben (2002) 1932. The Story of Light. Naperville, IL: Sourcebooks. p. 238. ISBN\\xa0978-1-4022-0009-0.\\n\\n^ \"Alexander Graham Bell (1847–1922)\". Scottish Science Hall of Fame. Archived from the original on 21 June 2011.\\n\\n^ \"John Logie Baird (1888–1946)\". BBC History. Archived from the original on 21 June 2011.\\n\\n^ Cole, Jeffrey (2011). Ethnic Groups of Europe: An Encyclopedia. Santa Barbara, CA: ABC-CLIO. p. 121. ISBN\\xa01-59884-302-8.\\n\\n^ Castells, M.; Hall, P.; Hall, P.G. (2004). Technopoles of the World: the Making of Twenty-First-Century Industrial Complexes. London: Routledge. pp. 98–100. ISBN\\xa00-415-10015-1.\\n\\n^ \"Knowledge, networks and nations: scientific collaborations in the twenty-first century\" (PDF). Royal Society. 2011. Archived from the original (PDF) on 22 June 2011.\\n\\n^ McCook, Alison (2006). \"Is peer review broken?\". The Scientist. 20 (2): 26. Archived from the original on 21 June 2011.\\n\\n^ a b \"Heathrow \\'needs a third runway\\'\". BBC News. 25 June 2008. Retrieved 17 October 2008.\\n\\n^ a b \"Statistics: Top 30 World airports\" (PDF) (Press release). Airports Council International. July 2008. Retrieved 15 October 2008.\\n\\n^ Moran, Joe (2005-11-16). Reading the Everyday. Routledge. p.\\xa095. ISBN\\xa0978-1-134-37216-4.\\n\\n^ \"Transport Statistics Great Britain: 2010\" (PDF). Department for Transport. Archived from the original (PDF) on 16 December 2010.\\n\\n^ \"Passenger Rail Usage 2015–16 Q3 Statistical Release\" (PDF). p.\\xa01.\\n\\n^ \"Revealed: How the world gets rich – from privatising British public services\". The Independent. 30 November 2014. Retrieved 30 December 2015.\\n\\n^ \"High-speed rail\\'s long journey\". BBC News. 17 March 2014.\\n\\n^ \"Crossrail\\'s giant tunnelling machines unveiled\". BBC News. 2 January 2012.\\n\\n^ Leftly, Mark (29 August 2010). \"Crossrail delayed to save £1bn\". The Independent on Sunday. London.\\n\\n^ a b \"Size of Reporting Airports October 2009\\xa0– September 2010\" (PDF). Civil Aviation Authority. Archived from the original (PDF) on 27 May 2012. Retrieved 5 December 2010.\\n\\n^ \"BMI being taken over by Lufthansa\". BBC News. 29 October 2008. Retrieved 23 December 2009.\\n\\n^ \"United Kingdom Energy Profile\". U.S. Energy Information Administration. Retrieved 4 November 2010.\\n\\n^ Mason, Rowena (24 October 2009). \"Let the battle begin over black gold\". The Daily Telegraph. London. Retrieved 26 November 2010.\\n\\n^ Heath, Michael (26 November 2010). \"RBA Says Currency Containing Prices, Rate Level \\'Appropriate\\' in Near Term\". New York: Bloomberg. Retrieved 26 November 2010.\\n\\n^ a b \"Nuclear Power in the United Kingdom\". World Nuclear Association. April 2013. Retrieved 9 April 2013.\\n\\n^ \"Total Petroleum and Other Liquids Production, 2013\".\\n\\n^ \"United Kingdom Crude Oil Consumption by Year\".\\n\\n^ a b \"United Kingdom\\xa0– Oil\". U.S. Energy Information Administration. Archived from the original on 12 August 2011. Retrieved 9 March 2015.\\n\\n^ a b \"United Kingdom\\xa0– Natural Gas\". U.S. Energy Information Administration. Archived from the original on 16 April 2011. Retrieved 9 March 2011.\\n\\n^ a b \"United Kingdom\\xa0– Quick Facts Energy Overview\". U.S. Energy Information Administration. Archived from the original on 12 August 2011. Retrieved 9 March 2015.\\n\\n^ The Coal Authority (10 April 2006). \"Coal Reserves in the United Kingdom\" (PDF). The Coal Authority. Archived from the original (PDF) on 4 January 2009. Retrieved 5 July 2011.\\n\\n^ \"England Expert predicts \\'coal revolution\\'\". BBC News. 16 October 2007. Retrieved 23 September 2008.\\n\\n^ Watts, Susan (20 March 2012). \"Fracking: Concerns over gas extraction regulations\". BBC News. Retrieved 9 April 2013.\\n\\n^ \"Quit fracking aboot\". Friends of the Earth Scotland. Retrieved 9 April 2013.\\n\\n^ \"Department of Energy and Climate Change: Annual tables: \\'Digest of UK energy statistics\\' (DUKES) – Chapter 6: Renewable Sources of energy\". Retrieved 13 April 2015.\\n\\n^ \"UK Renewable Energy Roadmap Crown copyright, July 2011\" (PDF).\\n\\n^ \"BBC – Weather Centre – Climate Change – Wind Power\". BBC. Retrieved 9 June 2015.\\n\\n^ RenewableUK. \"RenewableUK – RenewableUK News – Electricity needs of more than a quarter of UK homes powered by wind in 2014\". renewableuk.com. Archived from the original on 9 May 2015.\\n\\n^ \"WHO / UNICEF Joint Monitoring Programme: 404 error\".[permanent dead link]\\n\\n^ \"Environment Agency\". Archived from the original on 25 November 2009.\\n\\n^ \"Census Geography\". Office for National Statistics. 30 October 2007. Archived from the original on 4 June 2011. Retrieved 14 April 2012.\\n\\n^ a b c \"2011 Census: Population Estimates for the United Kingdom\" (PDF). Office for National Statistics. 27 March 2011. Retrieved 18 December 2012.\\n\\n^ a b \"Population Estimates for UK, England and Wales, Scotland and Northern Ireland, Mid-2015\". Office for National Statistics. 23 June 2016.\\n\\n^ \"Annual Mid-year Population Estimates, 2010\" (PDF). Office for National Statistics. 2011. Retrieved 14 April 2012.\\n\\n^ a b \"2011 UK censuses\". Office for National Statistics. Retrieved 18 December 2012.\\n\\n^ Khan, Urmee (16 September 2008). \"England is most crowded country in Europe\". The Daily Telegraph. London. Retrieved 5 September 2009.\\n\\n^ Carrell, Severin (17 December 2012). \"Scotland\\'s population at record high\". The Guardian. London. Retrieved 18 December 2012.\\n\\n^ a b \"Vital Statistics: Population and Health Reference Tables (February 2014 Update): Annual Time Series Data\". ONS. Retrieved 27 April 2014.\\n\\n^ Boseley, Sarah (14 July 2008). \"The question: What\\'s behind the baby boom?\". The Guardian. London. p.\\xa03. Retrieved 28 August 2009.\\n\\n^ Tables, Graphs and Maps Interface (TGM) table. Eurostat (26 February 2013). Retrieved 12 July 2013.\\n\\n^ \"Sexual identity, UK: 2015 – Experimental Official Statistics on sexual identity in the UK in 2015 by region, sex, age, marital status, ethnicity and NS-SEC\". Office for National Statistics. 5 October 2016. Retrieved 19 January 2017.\\n\\n^ \"2011 Census - Built-up areas\". ONS. Retrieved 1 July 2013.\\n\\n^ Mid-2012 Population Estimates for Settlements and Localities in Scotland  General Register Office for Scotland\\n\\n^ The UK\\'s major urban areas Office for National Statistics (Urban area of Belfast and connected settlements, Table 3.1, page 47)\\n\\n^ \"Welsh people could be most ancient in UK, DNA suggests\". BBC News. 19 June 2012. Retrieved 28 April 2013.\\n\\n^ Thomas, Mark G.;  et al. (October 2006). \"Evidence for a segregated social structure in early Anglo-Saxon England\". Proceedings of the Royal Society B: Biological Sciences. 273 (1601): 2651–2657. doi:10.1098/rspb.2006.3627. PMC\\xa01635457. PMID\\xa017002951.\\n\\n^ Owen, James (19 July 2005). \"Review of \\'The Tribes of Britain\\'\". National Geographic (Washington DC).\\n\\n^ Oppenheimer, Stephen (October 2006).\"Myths of British ancestry\". Archived from the original on 26 September 2006. Retrieved 16 May 2009.CS1 maint: Unfit url (link) . Prospect (London). Retrieved 5 November 2010.\\n\\n^ Henderson, Mark (23 October 2009). \"Scientist\\xa0– Griffin hijacked my work to make race claim about \\'British aborigines\\'\". The Times. London. Retrieved 26 October 2009. (subscription required)\\n\\n^ \"Victoria and Albert Museum Black Presence\".\\n\\n^ Winder, Robert (2010-11-04). Bloody Foreigners: The Story of Immigration to Britain. ISBN\\xa09780748123964.\\n\\n^ Costello, Ray (2001). Black Liverpool: The Early History of Britain\\'s Oldest Black Community 1730–1918. Liverpool: Picton Press. ISBN\\xa0978-1-873245-07-1.\\n\\n^ \"Culture and Ethnicity Differences in Liverpool\\xa0– Chinese Community\". Chambré Hardman Trust. Archived from the original on 24 July 2009. Retrieved 9 March 2015.\\n\\n^ Coleman, David; Compton, Paul; Salt, John (2002). \"The demographic characteristics of immigrant populations\", Council of Europe, p.505. ISBN\\xa092-871-4974-7.\\n\\n^ Roger Ballard Centre for Applied South Asian Studies. \"Britain\\'s visible minorities: a demographic overview\" (PDF).\\n\\n^ \"Short History of Immigration\". BBC News. Retrieved 18 March 2015.\\n\\n^ a b Vargas-Silva, Carlos (10 April 2014). \"Migration Flows of A8 and other EU Migrants to and from the UK\". Migration Observatory, University of Oxford. Retrieved 18 March 2015.\\n\\n^ Vertovec, Steven (2007). \"Super-diversity and its implications\". Ethnic and Racial Studies. 30 (6): 1024–1054. doi:10.1080/01419870701599465.\\n\\n^ Vertovec, Steven (20 September 2005). \"Opinion: Super-diversity revealed\". BBC News. Retrieved 8 March 2015.\\n\\n^ Aspinall, Peter J (2012). \"Answer Formats in British Census and Survey Ethnicity Questions: Does Open Response Better Capture \\'Superdiversity\\'?\". Sociology. 46 (2): 354–364. doi:10.1177/0038038511419195.\\n\\n^ Ballard, Roger (1996). \"Negotiating race and ethnicity: Exploring the implications of the 1991 census\". Patterns of Prejudice. 30 (3): 3–33. doi:10.1080/0031322X.1996.9970192.\\n\\n^ Kertzer, David I.; Arel, Dominique (2002). \"Censuses, identity formation, and the struggle for political power\".  In Kertzer, David I.; Arel, Dominique. Census and Identity: The Politics of Race, Ethnicity, and Language in National Censuses. Cambridge: Cambridge University Press. pp.\\xa01–42.\\n\\n^ a b c \"2011 Census: Ethnic group, local authorities in the United Kingdom\". Office for National Statistics. 11 October 2013. Retrieved 6 March 2015.\\n\\n^ \"Population Size: 7.9% from a minority ethnic group\". Office for National Statistics. 13 February 2003. Archived from the original on 31 July 2003. Retrieved 7 March 2015.\\n\\n^ \"Ethnicity and National Identity in England and Wales 2011\" (PDF). Office for National Statistics. 11 December 2012. Retrieved 23 April 2015.\\n\\n^ \"Resident population estimates by ethnic group (percentages): London\". Office for National Statistics. Retrieved 23 April 2008.\\n\\n^ \"Resident population estimates by ethnic group (percentages): Leicester\". Office for National Statistics. Retrieved 23 April 2008.\\n\\n^ \"Census 2001\\xa0– Ethnicity and religion in England and Wales\". Office for National Statistics. Retrieved 23 April 2008.\\n\\n^ Schools, pupils and their characteristics: January 2016 (PDF) (Report). Department for Education. 28 June 2016. p.\\xa08. SFR 20/2016.\\n\\n^ M.S. \"Britain\\'s amazing technicolour dreamcoat\".\\n\\n^ \"Population size: 7.9% from a non-White ethnic group\". Office for National Statistics. 8 January 2004. Archived from the original on 19 June 2004.\\n\\n^ \"Table KS201SC – Ethnic group: All people\" (PDF). National Records of Scotland. 2013. Retrieved 28 April 2015.\\n\\n^ \"Ethnic group\". Office for National Statistics. Retrieved 27 April 2015.\\n\\n^ \"Official EU languages\". European Commission. 8 May 2009. Archived from the original on 2 February 2009. Retrieved 16 October 2009.\\n\\n^ \"Language Courses in New York\". United Nations. 2006. Retrieved 29 November 2010.\\n\\n^ \"English language\\xa0– Government, citizens and rights\". Directgov. Archived from the original on 15 October 2012. Retrieved 23 August 2011.\\n\\n^ \"Commonwealth Secretariat\\xa0– UK\". Commonwealth Secretariat. Retrieved 23 August 2011.\\n\\n^ a b c \"Languages across Europe: United Kingdom\". BBC. Retrieved 4 February 2013.\\n\\n^ Booth, Robert (30 January 2013). \"Polish becomes England\\'s second language\". The Guardian. London. Retrieved 4 February 2012.\\n\\n^ \"European Charter for Regional or Minority Languages, Strasbourg, 5.XI.1992\". Council of Europe. Retrieved 9 March 2015.\\n\\n^ \"Framework Convention for the Protection of National Minorities, Strasbourg, 1.II.1995\". Council of Europe. Retrieved 9 March 2015.\\n\\n^ \"Welsh Language\". National Statistics Online. Archived from the original on 28 July 2011. Retrieved 9 March 2015.\\n\\n^ \"Differences in estimates of Welsh Language Skills\" (PDF). Office for National Statistics. Archived from the original (PDF) on 12 January 2010. Retrieved 30 December 2008.\\n\\n^ Wynn Thomas, Peter (March 2007). \"Welsh today\". Voices. BBC. Retrieved 5 July 2011.\\n\\n^ \"Scotland\\'s Census 2001\\xa0– Gaelic Report\". General Register Office for Scotland. Archived from the original on 22 May 2013. Retrieved 28 April 2013.\\n\\n^ \"Local UK languages \\'taking off\\'\". BBC News. 12 February 2009.\\n\\n^ Edwards, John R. (2010). Minority languages and group identity: cases and categories. John Benjamins. pp.\\xa0150–158. ISBN\\xa0978-90-272-1866-7. Retrieved 12 March 2011.\\n\\n^ Koch, John T. (2006). Celtic culture: a historical encyclopedia. ABC-CLIO. p.\\xa0696. ISBN\\xa0978-1-85109-440-0.\\n\\n^ \"Language Data\\xa0– Scots\". European Bureau for Lesser-Used Languages. Archived from the original on 23 June 2007. Retrieved 2 November 2008.\\n\\n^ \"Fall in compulsory language lessons\". BBC News. 4 November 2004.\\n\\n^ \"The School Gate for parents in Wales\". BBC. Archived from the original on 15 April 2014. Retrieved 9 March 2015.\\n\\n^ Cannon, John, ed. (2nd edn., 2009). A Dictionary of British History. Oxford University Press. p. 144. ISBN\\xa00-19-955037-9.\\n\\n^ Field, Clive D. (November 2009). \"British religion in numbers\". BRIN Discussion Series on Religious Statistics, Discussion Paper 001. Retrieved 7 March 2015.\\n\\n^ Yilmaz, Ihsan (2005). Muslim Laws, Politics and Society in Modern Nation States: Dynamic Legal Pluralisms in England, Turkey, and Pakistan. Aldershot: Ashgate Publishing. pp. 55–6. ISBN\\xa00-7546-4389-1.\\n\\n^ Brown, Callum G. (2006). Religion and Society in Twentieth-Century Britain. Harlow: Pearson Education. p. 291. ISBN\\xa00-582-47289-X.\\n\\n^ Norris, Pippa; Inglehart, Ronald (2004). Sacred and Secular: Religion and Politics Worldwide. Cambridge University Press. p. 84. ISBN\\xa00-521-83984-X.\\n\\n^ Fergusson, David (2004). Church, State and Civil Society. Cambridge University Press. p. 94. ISBN\\xa00-521-52959-X.\\n\\n^ \"UK Census 2001\". National Office for Statistics. Archived from the original on 12 March 2007. Retrieved 22 April 2007.\\n\\n^ \"Religious Populations\". Office for National Statistics. 11 October 2004. Archived from the original on 6 June 2011.\\n\\n^ \"United Kingdom: New Report Finds Only One in 10 Attend Church\". News.adventist.org. 4 April 2007. Archived from the original on 13 December 2011. Retrieved 9 March 2015.\\n\\n^ \"British Census: Islam Fastest-Growing Faith in England; Christians Drop to 59% of Population\". CNS News. 12 December 2012.\\n\\n^ \"The percentage of the population with no religion has increased in England and Wales\". Office for National Statistics. 4 April 2013.\\n\\n^ a b c \"British Social Attitudes: Record number of Brits with no religion\". Retrieved 5 September 2017.\\n\\n^ The History of the Church of England. The Church of England. Retrieved 23 November 2008.\\n\\n^ \"Queen and Church of England\". British Monarchy Media Centre. Archived from the original on 8 October 2006. Retrieved 5 June 2010.\\n\\n^ \"Queen and the Church\". The British Monarchy (Official Website). Archived from the original on 7 June 2011.\\n\\n^ \"How we are organised\". Church of Scotland. Archived from the original on 7 June 2011.\\n\\n^ Weller, Paul (2005). Time for a Change: Reconfiguring Religion, State, and Society. London: Continuum. pp. 79–80. ISBN\\xa00567084876.\\n\\n^ Peach, Ceri, \"United Kingdom, a major transformation of the religious landscape\", in H. Knippenberg. ed. (2005). The Changing Religious Landscape of Europe. Amsterdam: Het Spinhuis. pp. 44–58. ISBN\\xa090-5589-248-3.\\n\\n^ Richards, Eric (2004). Britannia\\'s children: Emigration from England, Scotland, Wales and Ireland since 1600. London: Hambledon, p. 143. ISBN\\xa0978-1-85285-441-6.\\n\\n^ P. Panayi (1906). P. Panayi, \\'German Immigrants in Britain, 1815–1914\\' in Germans in Britain since 1500, ed P. Panayi, (London: Hambledon Press, 1996). pp.\\xa073–112. ISBN\\xa09780826420381.\\n\\n^ \"Germans in Britain Since 1500\".\\n\\n^ \"East End Jews\". BBC.\\n\\n^ Jews in Britain: Origin and Growth of Anglo-Jewry. p.\\xa07.\\n\\n^ \"A summary history of immigration to Britain\". Migrationwatch UK.\\n\\n^ Victoria County History, London, 1969. \"The Jews\". British History Online.CS1 maint: Multiple names: authors list (link) \\n\\n^ Gibney, Matthew J.; Hansen, Randall (2005). Immigration and asylum: from 1900 to the present, ABC-CLIO, p. 630. ISBN\\xa01-57607-796-9\\n\\n^ \"Short history of immigration\". BBC. 2005. Retrieved 28 August 2010.\\n\\n^ \"A summary history of immigration to Britain\".\\n\\n^ a b Coleman, David (17 April 2013). \"Immigration, Population and Ethnicity: The UK in International Perspective\". The Migration Observatory, University of Oxford. Retrieved 8 March 2015.\\n\\n^ \"Migration Statistics Quarterly Report May 2015\". Office for National Statistics. 21 May 2015.\\n\\n^ \"Right of Union citizens and their family members to move and reside freely within the territory of the Member States\". European Commission. Archived from the original on 5 April 2012. Retrieved 28 April 2013.\\n\\n^ Doward, Jamie; Temko, Ned (23 September 2007). \"Home Office shuts the door on Bulgaria and Romania\". The Observer. London. p.\\xa02. Retrieved 23 August 2008.\\n\\n^ Sumption, Madeleine; Somerville, Will (January 2010). The UK\\'s new Europeans: Progress and challenges five years after accession (PDF). Policy Report. London: Equality and Human Rights Commission. p.\\xa013. ISBN\\xa0978-1-84206-252-4. Archived from the original (PDF) on 7 December 2013. Retrieved 9 March 2015.\\n\\n^ Doward, Jamie; Rogers, Sam (17 January 2010). \"Young, self-reliant, educated: portrait of UK\\'s eastern European migrants\". The Observer. London. Retrieved 19 January 2010.\\n\\n^ Hopkirk, Elizabeth (20 October 2008). \"Packing up for home: Poles hit by UK\\'s economic downturn\". London Evening Standard.\\n\\n^ \"Migrants to UK \\'returning home\\'\". BBC News. 8 September 2009. Retrieved 8 September 2009.\\n\\n^ \"UK sees shift in migration trend\". BBC News. 27 May 2010. Retrieved 28 May 2010.\\n\\n^ \"Migration Statistics Quarterly Report May 2012\". Office for National Statistics. 24 May 2012.\\n\\n^ Vasileva, Katya (2011). \"6.5% of the EU population are foreigners and 9.4% are born abroad\". Statistics in Focus. Eurostat. Retrieved 8 March 2015.\\n\\n^ Muenz, Rainer (June 2006). \"Europe: Population and Migration in 2005\". Migration Policy Institute. Archived from the original on 9 June 2008. Retrieved 2 April 2007.\\n\\n^ \"Immigration and births to non-British mothers pushes British population to record high\". London Evening Standard. 21 August 2008.\\n\\n^ \"Birth Summary Tables, England and Wales, 2014\". Office for National Statistics. 15 July 2015.\\n\\n^ Bentham, Martin (20 October 2008). \"Tories call for tougher control of immigration\". London Evening Standard.\\n\\n^ Travis, Alan (25 August 2011). \"UK net migration rises 21%\". The Guardian. London.\\n\\n^ a b Blinder, Scott (27 March 2015). \"Naturalisation as a British Citizen: Concepts and Trends\" (PDF). The Migration Observatory, University of Oxford. Archived from the original (PDF) on 16 September 2015. Retrieved 1 August 2015.\\n\\n^ Blinder, Scott (11 June 2014). \"Settlement in the UK\". The Migration Observatory, University of Oxford. Archived from the original on 6 September 2015. Retrieved 1 August 2015.\\n\\n^ \"The 1901 Census\".\\n\\n^ \"summary history of immigration to Britain\".\\n\\n^ \"UK 2011 Census Data\". National Archives. Archived from the original on 12 April 2013.CS1 maint: BOT: original-url status unknown (link) \\n\\n^ National Archives. \"Non-UK Born Population of England and Wales Quadrupled Between 1951 and 2011\". Archived from the original on 5 January 2016.CS1 maint: BOT: original-url status unknown (link) \\n\\n^ Office for National Statistics. \"2011 Census analysis: Immigration Patterns of Non-UK Born Populations in England and Wales in 2011\".\\n\\n^ \"Fresh Talent: Working in Scotland\". London: UK Border Agency. Archived from the original on 16 July 2011. Retrieved 9 March 2015.\\n\\n^ Boxell, James (28 June 2010). \"Tories begin consultation on cap for migrants\". Financial Times. London. Retrieved 17 September 2010.\\n\\n^ Richards (2004), pp. 6–7.\\n\\n^ a b Sriskandarajah, Dhananjayan; Drew, Catherine (11 December 2006). \"Brits Abroad: Mapping the scale and nature of British emigration\". Institute for Public Policy Research. Archived from the original on 28 August 2007. Retrieved 9 March 2015.\\n\\n^ \"Brits Abroad: world overview\". BBC. Retrieved 20 April 2007.\\n\\n^ Casciani, Dominic (11 December 2006). \"5.5\\xa0m Britons \\'opt to live abroad\\'\". BBC News. Retrieved 20 April 2007.\\n\\n^ \"Brits Abroad: Country-by-country\". BBC News. 11 December 2006.\\n\\n^ \"The Most Educated Countries in the World\". Yahoo Finance. 24 September 2012. Archived from the original on 4 February 2016. Retrieved 20 April 2016.\\n\\n^ \"And the World\\'s Most Educated Country Is…\". Time. New York. 27 September 2012. Retrieved 20 April 2016.\\n\\n^ \"Academic Ranking of World Universities 2015\". Shanghai. 2015. Retrieved 21 October 2015.\\n\\n^ Quacquarelli Symonds Limited (2015). \"QS World University Rankings 2015/16\". London. Retrieved 21 October 2015.\\n\\n^ \"World University Rankings 2015–16\". Times Higher Education. London. 2015. Retrieved 21 October 2015.\\n\\n^ \"Best Global Universities Rankings 2016\". US News & World Report. Washington DC. 2015. Retrieved 21 October 2015.\\n\\n^ \"Elitist Britain?\" (PDF). Social Mobility and Child Poverty Commission. 28 August 2014.\\n\\n^ Arnett, George (28 August 2014). \"Elitism in Britain – breakdown by profession\". The Guardian: Datablog.\\n\\n^ \"Local Authorities\". Department for Children, Schools and Families. Archived from the original on 30 December 2008. Retrieved 21 December 2008.\\n\\n^ Gordon, J.C.B. (1981). Verbal Deficit: A Critique. London: Croom Helm. p.\\xa044 note 18. ISBN\\xa0978-0-85664-990-5.\\n\\n^ Section 8 (\\'Duty of local education authorities to secure provision of primary and secondary schools\\'), Sections 35–40 (\\'Compulsory attendance at Primary and Secondary Schools\\') and Section 61 (\\'Prohibition of fees in schools maintained by local education authorities ...\\'), Education Act 1944.\\n\\n^ \"School leaving age\". UK Government. Retrieved 20 April 2016.\\n\\n^ \"England\\'s pupils in global top 10\". BBC News. 10 December 2008.\\n\\n^ Frankel, Hannah (3 September 2010). \"Is Oxbridge still a preserve of the posh?\". TES. London. Retrieved 9 April 2013.\\n\\n^ MacLeod, Donald (9 November 2007). \"Private school pupil numbers in decline\". The Guardian. London. Retrieved 31 March 2010.\\n\\n^ \"Independent Schools Council Research\\xa0:\". Retrieved 20 April 2016.\\n\\n^ \"About SQA\". Scottish Qualifications Authority. 10 April 2013. Retrieved 28 April 2013.\\n\\n^ \"About Learning and Teaching Scotland\". Learning and Teaching Scotland. Archived from the original on 1 April 2012. Retrieved 28 April 2013.\\n\\n^ \"Brain drain in reverse\". Scotland Online Gateway. July 2002. Archived from the original on 4 December 2007.\\n\\n^ \"Facts and Figures\". SCIS. Retrieved 14 November 2017.\\n\\n^ \"MSPs vote to scrap endowment fee\". BBC News. 28 February 2008.\\n\\n^ \"Education System\". Welsh Government. Archived from the original on 12 March 2015. Retrieved 9 March 2015.\\n\\n^ CCEA. \"About Us\\xa0– What we do\". Council for the Curriculum Examinations & Assessment. Retrieved 28 April 2013.\\n\\n^ Haden, Angela; Campanini, Barbara, eds. (2000). The world health report 2000\\xa0– Health systems: improving performance (PDF). Geneva: World Health Organisation. ISBN\\xa0978-92-4-156198-3. Retrieved 5 July 2011.\\n\\n^ World Health Organization. \"Measuring overall health system performance for 191 countries\" (PDF). New York University. Retrieved 5 July 2011.\\n\\n^ Fisher, Peter. \"The NHS from Thatcher to Blair\". NHS Consultants Association. The Budget\\xa0... was even more generous to the NHS than had been expected amounting to an annual rise of 7.4% above the rate of inflation for the next 5 years. This would take us to 9.4% of GDP spent on health ie around EU average.\\n\\n^ \"OECD Health Data 2012\\xa0– How Does the United Kingdom Compare\" (PDF). Paris: Organisation for Economic Co-operation and Development. Archived from the original (PDF) on 10 March 2013. Retrieved 9 March 2015.\\n\\n^ \"\\'Huge contrasts\\' in devolved NHS\". BBC News. 28 August 2008.\\n\\n^ Triggle, Nick (2 January 2008). \"NHS now four different systems\". BBC News.\\n\\n^ \"BBC poll: Germany most popular country in the world\". BBC. 23 May 2013. Retrieved 20 February 2018.\\n\\n^ \"World Service Global Poll: Negative views of Russia on the rise\". BBC.co.uk. 4 June 2014. Retrieved 20 February 2018.\\n\\n^ Goldfarb, Jeffrey (10 May 2006). \"Bookish Britain overtakes America as top publisher\". RedOrbit. Texas. Reuters. Archived from the original on 6 January 2008.\\n\\n^ \"William Shakespeare (English author)\". Britannica Online encyclopedia. Retrieved 26 February 2006.\\n\\n^ MSN Encarta Encyclopedia article on Shakespeare. Archived from the original on 9 February 2006. Retrieved 26 February 2006.\\n\\n^ William Shakespeare. Columbia Electronic Encyclopedia. Retrieved 26 February 2006.\\n\\n^ \"Mystery of Christie\\'s success is solved\". The Daily Telegraph. London. 19 December 2005. Retrieved 14 November 2010.\\n\\n^ \"Edinburgh, UK appointed first UNESCO City of Literature\". Unesco. 2004. Archived from the original on 28 May 2013. Retrieved 9 March 2015.\\n\\n^ \"Early Welsh poetry\". BBC Wales. Retrieved 29 December 2010.\\n\\n^ Lang, Andrew (2003) [1913]. History of English Literature from Beowulf to Swinburne. Holicong, PA: Wildside Press. p.\\xa042. ISBN\\xa0978-0-8095-3229-2.\\n\\n^ \"Dafydd ap Gwilym\". Academi website. Academi. 2011. Archived from the original on 27 May 2012. Retrieved 3 January 2011. Dafydd ap Gwilym is widely regarded as one of the greatest Welsh poets of all time, and amongst the leading European poets of the Middle Ages.\\n\\n^ True birthplace of Wales\\'s literary hero. BBC News. Retrieved 28 April 2012.\\n\\n^ \"Kate Roberts: Biography\". BBC Wales. Archived from the original on 24 July 2012. Retrieved 19 February 2017.\\n\\n^ Swift, Jonathan; Fox, Christopher (1995). Gulliver\\'s travels: complete, authoritative text with biographical and historical contexts, critical history, and essays from five contemporary critical perspectives. Basingstoke: Macmillan. p.\\xa010. ISBN\\xa0978-0-333-63438-7.\\n\\n^ \"Bram Stoker\" (PDF). The New York Times. 23 April 1912. Retrieved 1 January 2011.\\n\\n^ a b \"1960–1969\". EMI Group. Archived from the original on 25 April 2014. Retrieved 9 March 2015.\\n\\n^ a b \"Paul At Fifty\". Time. New York. 8 June 1992.\\n\\n^ a b Most Successful Group The Guinness Book of Records 1999, p. 230. Retrieved 19 March 2011.\\n\\n^ \"British Citizen by Act of Parliament: George Frideric Handel\". UK Parliament. 20 July 2009. Archived from the original on 26 March 2010. Retrieved 9 March 2015.\\n\\n^ Andrews, John (14 April 2006). \"Handel all\\'inglese\". Playbill. New York. Retrieved 11 September 2009.\\n\\n^ Citron, Stephen (2001). Sondheim and Lloyd-Webber: The new musical. London: Chatto & Windus. ISBN\\xa0978-1-85619-273-6.\\n\\n^ \"Beatles a big hit with downloads\". Belfast Telegraph. 25 November 2010. Retrieved 16 May 2011.\\n\\n^ \"British rock legends get their own music title for PlayStation3 and PlayStation2\" (Press release). EMI. 2 February 2009. Archived from the original on 23 April 2014. Retrieved 9 March 2015.\\n\\n^ Khan, Urmee (17 July 2008). \"Sir Elton John honoured in Ben and Jerry ice cream\". The Daily Telegraph. London.\\n\\n^ Alleyne, Richard (19 April 2008). \"Rock group Led Zeppelin to reunite\". The Daily Telegraph. London. Retrieved 31 March 2010.\\n\\n^ \"Floyd \\'true to Barrett\\'s legacy\\'\". BBC News. 11 July 2006.\\n\\n^ Holton, Kate (17 January 2008). \"Rolling Stones sign Universal album deal\". Reuters. Retrieved 26 October 2008.\\n\\n^ Walker, Tim (12 May 2008). \"Jive talkin\\': Why Robin Gibb wants more respect for the Bee Gees\". The Independent. London. Retrieved 26 October 2008.\\n\\n^ \"Brit awards winners list 2012: every winner since 1977\". The Guardian (London). Retrieved 28 February 2012.\\n\\n^ Corner, Lewis (16 February 2012). \"Adele, Coldplay biggest-selling UK artists worldwide in 2011\". Digital Spy. Retrieved 22 March 2012.\\n\\n^ Hughes, Mark (14 January 2008). \"A tale of two cities of culture: Liverpool vs Stavanger\". The Independent. London. Retrieved 2 August 2009.\\n\\n^ \"Glasgow gets city of music honour\". BBC News. 20 August 2008. Retrieved 2 August 2009.\\n\\n^ a b \"UK music single sales: genre breakdown 2016 | Statistic\". Statista. Retrieved 2018-06-18.\\n\\n^ \"5 U.K. Rappers Primed to Take Over America in 2018\". Billboard. Retrieved 2018-06-18.\\n\\n^ \"Hip-Hop Is the Most-Streamed Genre on Spotify Globally, Up 74% Year Over Year\". DJBooth. Retrieved 2018-06-18.\\n\\n^ \"All 50 Songs on SoundCloud\\'s Top 50 Most Popular List Are Made by Rappers\". PigeonsandPlanes. Retrieved 2018-06-18.\\n\\n^ Haynes, Gavin (2017-01-27). \"What the phonk? The genre that\\'s gripping Generation Z\". the Guardian. Retrieved 2018-06-18.\\n\\n^ \"How Music Has Impacted Generation Z\". The Rampart. 2017-03-24. Retrieved 2018-06-18.\\n\\n^ \"Ready For The Weeknd: What Makes The Enigmatic R&B Star Tick - NME\". NME. 2016-11-17. Retrieved 2018-06-18.\\n\\n^ Wolfson, Sam (2015-06-29). \"How R&B got its groove back\". the Guardian. Retrieved 2018-06-18.\\n\\n^ Tate. \"Art & Language – Art Term | Tate\". Tate. Retrieved 2018-09-08.\\n\\n^ Bayley, Stephen (24 April 2010). \"The startling success of Tate Modern\". The Times. London. Retrieved 19 January 2011. (subscription required)\\n\\n^ \"The top 21 British directors of all time\". The Daily Telegraph. Retrieved 19 June 2015.\\n\\n^ \"Vertigo is named \\'greatest film of all time\\'\". BBC News. 2 August 2012. Retrieved 18 August 2012.\\n\\n^ \"The Directors\\' Top Ten Directors\". British Film Institute. Archived from the original on 27 May 2012.\\n\\n^ \"Chaplin, Charles (1889–1977)\". British Film Institute. Retrieved 25 January 2011.\\n\\n^ \"Powell, Michael (1905–1990)\". British Film Institute. Retrieved 25 January 2011.\\n\\n^ \"Reed, Carol (1906–1976)\". British Film Institute. Retrieved 25 January 2011.\\n\\n^ \"Wright, Edgar (1974–)\". British Film Institute. Retrieved 12 September 2017.\\n\\n^ \"Nolan, Christopher (1970–)\". British Film Institute. Retrieved 6 May 2017.\\n\\n^ \"Scott, Sir Ridley (1937–)\". British Film Institute. Retrieved 25 January 2011.\\n\\n^ \"Andrews, Julie (1935–)\". British Film Institute. Retrieved 11 December 2010.\\n\\n^ \"Burton, Richard (1925–1984)\". British Film Institute. Retrieved 11 December 2010.\\n\\n^ \"Caine, Michael (1933–)\". British Film Institute. Retrieved 11 December 2010.\\n\\n^ \"Firth, Colin (1960–)\". British Film Institute. Retrieved 12 September 2017.\\n\\n^ \"Oldman, Gary (1958–)\". British Film Institute. Retrieved 12 September 2017.\\n\\n^ \"Kingsley, Ben (1942–)\". British Film Institute. Retrieved 12 September 2017.\\n\\n^ \"McKellen, Ian (1939–)\". British Film Institute. Retrieved 12 September 2017.\\n\\n^ \"Neeson, Liam (1952–)\". British Film Institute. Retrieved 12 September 2017.\\n\\n^ \"Chaplin, Charles (1889–1977)\". British Film Institute. Retrieved 11 December 2010.\\n\\n^ \"Connery, Sean (1930–)\". British Film Institute. Retrieved 11 December 2010.\\n\\n^ \"Leigh, Vivien (1913–1967)\". British Film Institute. Retrieved 11 December 2010.\\n\\n^ \"Niven, David (1910–1983)\". British Film Institute. Retrieved 11 December 2010.\\n\\n^ \"Olivier, Laurence (1907–1989)\". British Film Institute. Retrieved 11 December 2010.\\n\\n^ \"Sellers, Peter (1925–1980)\". British Film Institute. Retrieved 11 December 2010.\\n\\n^ \"Winslet, Kate (1975–)\". British Film Institute. Retrieved 11 December 2010.\\n\\n^ \"Anthony Hopkins\". The Guardian. London. Retrieved 21 January 2015.\\n\\n^ \"Daniel Day-Lewis makes Oscar history with third award\". BBC News. 25 February 2013. Retrieved 15 August 2013.\\n\\n^ \"Harry Potter becomes highest-grossing film franchise\". The Guardian. London. 11 September 2007. Retrieved 2 November 2010.\\n\\n^ \"History of Ealing Studios\". Ealing Studios. Archived from the original on 26 July 2013. Retrieved 9 March 2015.\\n\\n^ a b \"UK film\\xa0– the vital statistics\". UK Film Council. Archived from the original on 8 October 2009. Retrieved 9 March 2015.\\n\\n^ \"The BFI 100\". British Film Institute. 6 September 2006. Archived from the original on 1 April 2011.\\n\\n^ \"Baftas fuel Oscars race\". BBC News. 26 February 2001. Retrieved 14 February 2011.\\n\\n^ \"Robin Cook\\'s chicken tikka masala speech\". London: The Guardian. 25 February 2002. Retrieved 19 April 2001.\\n\\n^ Cite error: The named reference Spencer was invoked but never defined (see the help page).\\n\\n^ \"Robin Cook\\'s chicken tikka masala speech\". London: The Guardian. 25 February 2002. Retrieved 19 April 2001.\\n\\n^ BBC E-Cyclopedia (20 April 2001). \"Chicken tikka masala: Spice and easy does it\". bbc.co.uk. Retrieved 28 September 2007.\\n\\n^ a b \"BBC: World\\'s largest broadcaster & Most trusted media brand\". Media Newsline. Archived from the original on 5 October 2010. Retrieved 23 September 2010.\\n\\n^ a b \"Digital license\". Prospect. Archived from the original on 7 November 2011. Retrieved 9 March 2015.\\n\\n^ a b \"About the BBC\\xa0– What is the BBC\". BBC Online. Archived from the original on 16 January 2010. Retrieved 9 March 2015.\\n\\n^ Newswire7 (13 August 2009). \"BBC: World\\'s largest broadcaster & Most trusted media brand\". Media Newsline. Archived from the original on 17 June 2011.\\n\\n^ \"TV Licence Fee: facts & figures\". BBC Press Office. April 2010. Archived from the original on 17 June 2011.\\n\\n^ \"Publications & Policies: The History of ITV\". ITV.com. Archived from the original on 11 April 2011.\\n\\n^ \"Publishing\". News Corporation. Archived from the original on 17 June 2011.\\n\\n^ \"Direct Broadcast Satellite Television\". News Corporation. Archived from the original on 17 June 2011.\\n\\n^ William, D. (2010). UK Cities: A Look at Life and Major Cities in England, Scotland, Wales and Northern Ireland. Eastbourne: Gardners Books. ISBN\\xa0978-9987-16-021-1, pp. 22, 46, 109 and 145.\\n\\n^ \"Publishing\". Department of Culture, Media and Sport. Archived from the original on 17 June 2011.\\n\\n^ Ofcom \"Communication Market Report 2010\", 19 August 2010, pp. 97, 164 and 191\\n\\n^ \"Social Trends 41: Lifestyles and social participation\" (PDF). Office for National Statistics. 24 February 2011.\\n\\n^ \"Top 20 countries with the highest number of Internet users\". Internet World Stats. Archived from the original on 17 June 2011.\\n\\n^ Fieser, James, ed. (2000). A bibliography of Scottish common sense philosophy: Sources and origins (PDF). Bristol: Thoemmes Press. Retrieved 17 December 2010.\\n\\n^ Palmer, Michael (1999). Moral Problems in Medicine: A Practical Coursebook. Cambridge: Lutterworth Press. p.\\xa066. ISBN\\xa0978-0-7188-2978-0.\\n\\n^ Scarre, Geoffrey (1995). Utilitarianism. London: Routledge. p.\\xa082. ISBN\\xa0978-0-415-12197-2.\\n\\n^ Ponsford, Matthew (19 January 2016). \"Los Angeles to build world\\'s most expensive stadium complex\". CNN. Retrieved 12 February 2017.\\n\\n^ \"Opening ceremony of the games of the XXX Olympiad\". Olympic.org. Retrieved 30 November 2013.\\n\\n^ \"Unparalleled Sporting History\". Reuters. Retrieved 30 November 2013.\\n\\n^ a b \"Rugby Union \\'Britain\\'s Second Most Popular Sport\\'\". Ipsos-Mori. 22 December 2003. Retrieved 28 April 2013.\\n\\n^ Rudd, Alyson (7 April 2008). \"The father of football deserves much more\". Times Online. London. Retrieved 29 January 2015. (Subscription required (help)).\\n\\n^ \"Sheffield FC: 150 years of history\". FIFA. Retrieved 29 January 2015.\\n\\n^ Ebner, Sarah (2 July 2013). \"History and time are key to power of football, says Premier League chief\". The Times (London). Retrieved 30 November 2013.\\n\\n^ Mitchell, Paul (November 2005). \"The first international football match\". BBC Sport Scotland. Retrieved 15 December 2013.\\n\\n^ \"Why is there no GB Olympics football team?\". BBC Sport. 5 August 2008. Retrieved 31 December 2010.\\n\\n^ \"Six ways the town of Rugby helped change the world\". BBC. Retrieved 29 January 2015.\\n\\n^ Godwin, Terry; Rhys, Chris (1981).The Guinness Book of Rugby Facts & Feats. p.10. Enfield: Guinness Superlatives Ltd\\n\\n^ Louw, Jaco; Nesbit, Derrick (2008). The Girlfriends Guide to Rugby. Johannesburg: South Publishers. ISBN\\xa0978-0-620-39541-0.\\n\\n^ Colin White (2010). \"Projectile Dynamics in Sport: Principles and Applications\". p. 222. Routledge\\n\\n^ \"About ECB\". England and Wales Cricket Board. n.d. Retrieved 28 April 2013.\\n\\n^ McLaughlin, Martyn (4 August 2009). \"Howzat happen? England fields a Gaelic-speaking Scotsman in Ashes\". The Scotsman. Edinburgh. Retrieved 30 December 2010.\\n\\n^ \"Uncapped Joyce wins Ashes call up\". BBC Sport. 15 November 2006. Retrieved 30 December 2010.\\n\\n^ \"Glamorgan\". BBC South East Wales. August 2009. Retrieved 30 December 2010.\\n\\n^ History of Tennis International Tennis Federation. Retrieved 28 July 2008.\\n\\n^ Morley, Gary (22 June 2011). \"125 years of Wimbledon: From birth of lawn tennis to modern marvels\". CNN. Retrieved 21 January 2015.\\n\\n^ \"The History of British Motorsport and Motor Racing at Silverstone – The 1950s\". Silverstone.co.uk. Retrieved 20 June 2015.\\n\\n^ a b Forrest L. Richardson (2002). \"Routing the Golf Course: The Art & Science That Forms the Golf Journey\". p. 46. John Wiley & Sons\\n\\n^ \"Tracking the Field\" (PDF). Ipsos MORI. Archived from the original (PDF) on 5 February 2009. Retrieved 17 October 2008.\\n\\n^ \"Links plays into the record books\". BBC News. 17 March 2009.\\n\\n^ \"The Open Championship\\xa0– More Scottish than British\". PGA Tour. Archived from the original on 2 October 2012. Retrieved 9 March 2015.\\n\\n^ Ardener, Shirley (2007). Professional identities: policy and practice in business and bureaucracy. New York: Berghahn. p.\\xa027. ISBN\\xa0978-1-84545-054-0.\\n\\n^ \"Official Website of Rugby League World Cup 2008\". Archived from the original on 16 October 2007.\\n\\n^ Baker, Andrew (20 August 1995). \"100 years of rugby league: From the great divide to the Super era\". The Independent. London. Retrieved 20 June 2015.\\n\\n^ Encyclopædia Britannica (2006).ŷ Queensbury Rules, Britannica\\n\\n^ Chowdhury, Saj (22 January 2007). \"China in Ding\\'s hands\". BBC Sport. Retrieved 2 January 2011.\\n\\n^ Gould, Joe (10 April 2007). \"The ancient Irish sport of hurling catches on in America\". Columbia News Service. Columbia Journalism School. Retrieved 17 May 2011.\\n\\n^ \"Shinty\". Scottish Sport. Retrieved 28 April 2013.\\n\\n^ \"Sport in Scotland\". Scotland.org. Retrieved 20 June 2015.\\n\\n^ \"Welsh dragon call for Union flag\". BBC News. 27 November 2007. Retrieved 17 October 2008.\\n\\n^ \"Britannia on British Coins\". Chard. Retrieved 25 June 2006.\\n\\n^ Baker, Steve (2001). Picturing the Beast. University of Illinois Press. p.\\xa052. ISBN\\xa0978-0-252-07030-3.\\n\\n\\nFurther reading\\nHitchens, Peter (2000). The Abolition of Britain: From Winston Churchill to Princess Diana. Second ed. San Francisco, Calif.: Encounter Books. xi, 332 pp. ISBN\\xa01-893554-18-X.\\nLambert, Richard S. (1964). The Great Heritage: A History of Britain for Canadians. House of Grant, 1964 (and earlier editions and printings).\\nExternal links\\n\\nFind more aboutUnited Kingdomat Wikipedia\\'s sister projects\\n\\n\\nDefinitions from Wiktionary\\nMedia from Wikimedia Commons\\nNews from Wikinews\\nQuotations from Wikiquote\\nTexts from Wikisource\\nTextbooks from Wikibooks\\nTravel guide from Wikivoyage\\nLearning resources from Wikiversity\\nData from Wikidata\\n\\n\\n\\nGovernment\\nOfficial website of HM Government\\nOfficial website of the British Monarchy\\nOfficial Yearbook of the United Kingdom statistics\\nThe official site of the British Prime Minister\\'s Office\\nGeneral information\\nUnited Kingdom from the BBC News\\n\"United Kingdom\". The World Factbook. Central Intelligence Agency.\\nUnited Kingdom from UCB Libraries GovPubs\\nUnited Kingdom at Curlie (based on DMOZ)\\nUnited Kingdom Encyclopædia Britannica entry\\nUnited Kingdom at the EU\\n Wikimedia Atlas of United Kingdom\\n Geographic data related to United Kingdom at OpenStreetMap\\nKey Development Forecasts for the United Kingdom from International Futures\\nTravel\\nOfficial tourist guide to Britain\\nvteUnited Kingdom\\xa0articlesHistoryChronology\\nFormation\\nGeorgian era\\nVictorian era\\nEdwardian era\\nFirst World War\\nInterwar\\nSecond World War\\nUK since 1945 (social history)\\nBy topic\\nEconomic\\nEmpire\\nMaritime\\nMilitary\\nGeographyAdministrative\\nCountries of the United Kingdom\\nCrown dependencies\\nOverseas territories\\nCity status\\nTowns\\nFormer colonies\\nPhysical\\nBritish Isles\\nterminology\\nGreat Britain\\nCoastline\\nGeology\\nLakes and lochs\\nMountains\\nRivers\\nVolcanoes\\nResources\\nAgriculture\\nEnergy/Renewable energy\\nBiodiesel\\nCoal\\nGeothermal\\nHydraulic frac.\\nHydroelectricity\\nMarine\\nNorth Sea oil\\nSolar\\nWind\\nFishing\\nEnglish\\nScottish\\nHunting\\nMaterials\\nFlora\\nForestry\\nMining\\nPolitics\\nConstitution\\nCourts\\nDevolution\\nElections\\nForeign relations\\nHuman rights\\nJudiciary\\nLaw\\nLaw enforcement\\nLegislation\\nMonarchy\\nmonarchs\\nNationality\\nParliament\\nHouse of Commons\\nHouse of Lords\\nPolitical parties\\nGovernment\\nCabinet\\nlist\\nCivil service\\nDepartments\\nPrime Minister\\nlist\\nMilitary\\nRoyal Navy\\nArmy\\nRoyal Air Force\\nWeapons of mass destruction\\nEconomy\\nBanks\\nBank of England\\nBudget\\nEconomic geography\\nManufacturing\\nPound (currency)\\nStock Exchanges (London Exchange)\\nTaxation\\nTelecommunications\\nTourism\\nTransport\\nBritish Rail\\nSociety\\nAffordability of housing\\nCrime\\nDemography\\nDrug policy\\nEducation\\nEthnic groups\\nHealth\\nImmigration\\nInnovation\\nLanguages\\nPoverty\\nProstitution\\nPublic holidays\\nSocial care\\nSocial structure\\nCulture\\nArt\\nCinema\\nCuisine\\nCultural icons\\nIdentity\\nLiterature\\nMedia\\nMusic\\nReligion\\nSport\\nSymbols\\nTheatre\\nCountries of the United KingdomEngland\\nHistory\\nsocial\\ntimeline\\nGeography\\nPolitics\\nLaw\\nEconomy\\ntourism\\nEducation\\nHealth care\\nCulture\\nReligion\\nSymbols\\nNorthern Ireland\\nHistory\\nGeography\\nPolitics\\nAssembly\\nExecutive\\nFirst Minister and deputy\\nLaw\\nEconomy\\ntourism\\nEducation\\nHealth care\\nCulture\\nReligion\\nSymbols\\nScotland\\nHistory\\ntimeline\\nGeography\\nPolitics\\nParliament\\nGovernment\\nFirst Minister\\nLaw\\nEconomy\\ntourism\\nEducation\\nHealth care\\nCulture\\nReligion\\nSymbols\\nWales\\nHistory\\nGeography\\nWelsh Government\\nPolitics\\nAssembly\\nFirst Minister\\nLaw\\nEconomy\\ntourism\\nEducation\\nHealth care\\nCulture\\nReligion\\nSymbols\\nOutlineIndex\\nBook\\nCategory\\nPortal\\nLinks to related articles\\nvte Countries, territories and dependencies of the United KingdomConstituent countries\\nEngland\\nNorthern Ireland\\nScotland\\nWales\\nOverseas territories\\nAkrotiri and Dhekelia1\\nAnguilla\\nBermuda\\nBritish Antarctic Territory2\\nBritish Indian Ocean Territory\\nBritish Virgin Islands\\nCayman Islands\\nFalkland Islands\\nGibraltar\\nMontserrat\\nPitcairn Islands\\nSaint Helena, Ascension and Tristan da Cunha\\nSouth Georgia and the South Sandwich Islands\\nTurks and Caicos Islands\\nCrown dependencies\\nBailiwick of Guernsey\\nGuernsey\\nAlderney\\nSark\\nIsle of Man\\nJersey\\nFormer colonies\\nList of countries that have gained independence from the United Kingdom\\n1 Sovereign Base Areas. \\xa0 2 Partial suspension of sovereignty due to the Antarctic Treaty.\\nvteBritish Isles\\nTerminology\\nAlba\\nAlbion\\nPrydain\\nBritain\\nÉire\\nHibernia\\nNaming dispute\\nPoliticsSovereign states\\nIreland\\nUnited Kingdom (England\\nNorthern Ireland\\nScotland\\nWales)\\nCrown dependencies\\nGuernsey\\nJersey\\nIsle of Man\\nSark\\nPolitical cooperation\\nIreland–United Kingdom relations\\nBritish–Irish Council\\nBritish–Irish Intergovernmental Conference\\nBritish–Irish Parliamentary Assembly\\nCommon Travel Area\\nGeographyIsland groups\\nChannel Islands\\nIslands of the Clyde\\nGreat Britain\\nHebrides\\nInner\\nOuter\\nIreland\\nIsle of Man\\nNorthern Isles\\nOrkney\\nShetland\\nIsles of Scilly\\nLists of islands of\\nBailiwick of Guernsey\\nIreland\\nBailiwick of Jersey\\nIsle of Man\\nUnited Kingdom\\nEngland\\nScotland\\nWales\\nHistoryIsland groups\\nIreland\\nCurrent states\\nIreland\\nUnited Kingdom\\nEngland\\nNorthern Ireland\\nScotland\\nWales\\nGuernsey\\nJersey\\nIsle of Man\\nFormer states\\nIrish Free State\\nKingdom of England\\nPrincipality of Wales\\nKingdom of Great Britain\\nKingdom of Ireland\\nKingdom of Scotland\\nUnited Kingdom of Great Britain and Ireland\\nSocietyModern languagesGermanic\\nEnglish\\nScots\\nCeltic\\nCornish\\nScottish Gaelic\\nIrish\\nManx\\nWelsh\\nRomance\\nAuregnais\\nFrench\\nGuernésiais\\nJèrriais\\nSercquiais\\nOther\\nBritish Sign Language\\nIrish Sign Language\\nNorthern Ireland Sign Language\\nShelta\\nPeople\\nBritish\\nCornish\\nEnglish\\nEnglish Gypsies\\nIrish\\nIrish Travellers\\nKale\\nManx\\nNorthern Irish\\nScottish\\nUlster-Scots\\nWelsh\\n\\n Category\\n Commons\\n Portal\\n\\nvteSovereign states and dependencies of EuropeSovereign states\\nAlbania\\nAndorra\\nArmenia2\\nAustria\\nAzerbaijan\\nBelarus\\nBelgium\\nBosnia and Herzegovina\\nBulgaria\\nCroatia\\nCyprus2\\nCzech Republic\\nDenmark\\nEstonia\\nFinland\\nFrance\\nGeorgia\\nGermany\\nGreece\\nHungary\\nIceland1\\nIreland\\nItaly\\nKazakhstan\\nLatvia\\nLiechtenstein\\nLithuania\\nLuxembourg\\nMacedonia\\nMalta\\nMoldova\\nMonaco\\nMontenegro\\nNetherlands\\nNorway\\nPoland\\nPortugal\\nRomania\\nRussia\\nSan Marino\\nSerbia\\nSlovakia\\nSlovenia\\nSpain\\nSweden\\nSwitzerland\\nTurkey\\nUkraine\\nUnited Kingdom\\nVatican City\\nStates with limitedrecognition\\nAbkhazia2\\nArtsakh2\\nKosovo\\nNorthern Cyprus2\\nSouth Ossetia2\\nTransnistria\\nDependenciesDenmark\\nFaroe Islands1\\nautonomous country of the Kingdom of Denmark\\nUnited Kingdom\\nAkrotiri and Dhekelia2\\nSovereign Base Areas\\nGibraltar\\nBritish Overseas Territory\\nGuernsey\\nIsle of Man\\nJersey\\nCrown dependencies\\nSpecial areas ofinternal sovereigntyFinland\\nÅland Islands\\nautonomous region subject to the Åland Convention of 1921\\nNorway\\nSvalbard\\nunincorporated area subject to the Svalbard Treaty\\nUnited Kingdom\\nNorthern Ireland\\ncountry of the United Kingdom subject to the British-Irish Agreement\\n1 Oceanic islands within the vicinity of Europe are usually grouped with the continent even though they are not situated on its continental shelf.2 Some countries completely outside the conventional geographical boundaries of Europe are commonly associated with the continent due to ethnological links.\\nvteCommonwealth realms and dominionsCurrent\\nAntigua and Barbuda (monarchy)\\nAustralia (monarchy)\\nBahamas (monarchy)\\nBarbados (monarchy)\\nBelize (monarchy)\\nCanada (monarchy)\\nGrenada (monarchy)\\nJamaica (monarchy)\\nRealm of New Zealand\\nCook Islands\\nNew Zealand\\nNiue\\nPapua New Guinea (monarchy)\\nSaint Kitts and Nevis (monarchy)\\nSaint Lucia (monarchy)\\nSaint Vincent and the Grenadines (monarchy)\\nSolomon Islands (monarchy)\\nTuvalu (monarchy)\\nUnited Kingdom (monarchy)\\nFormer\\nCeylon\\nFiji (monarchy)\\nThe Gambia\\nGhana\\nGuyana\\nIndia\\nIreland (monarchy)\\nKenya\\nMalawi\\nMalta (monarchy)\\nMauritius\\nNewfoundland1\\nNigeria\\nPakistan\\nRhodesia2\\nSierra Leone\\nSouth Africa (monarchy)\\nTanganyika\\nTrinidad and Tobago\\nUganda\\n\\n1 Annexed by Canada in 1949\\n2 Rhodesia unilaterally declared independence in 1965, but this was not recognised internationally. Declared itself a republic in 1970.\\n\\nvteEnglish-speaking world\\nClick on a coloured area to see an article about English in that country or region\\n\\n\\nFurther linksArticles\\nEnglish-speaking world\\nHistory of the English language\\nBritish Empire\\nEnglish in the Commonwealth of Nations\\nAnglosphere\\nLists\\nList of countries by English-speaking population\\nList of countries where English is an official language\\n\\xa0\\nCountries and territories where English is the national language or the native language of the majority\\nAfrica\\nSaint Helena, Ascension and Tristan da Cunha\\nAmericas\\nAnguilla\\nAntigua and Barbuda\\nThe Bahamas\\nBarbados\\nBelize\\nBermuda\\nBritish Virgin Islands\\nCanada\\nCayman Islands\\nDominica\\nFalkland Islands\\nGrenada\\nGuyana\\nJamaica\\nMontserrat\\nSaba\\nSaint Kitts and Nevis\\nSaint Lucia\\nSaint Vincent and the Grenadines\\nSint Eustatius\\nSint Maarten\\nSouth Georgia and the South Sandwich Islands\\nTrinidad and Tobago\\nTurks and Caicos Islands\\nUnited States\\nUnited States Virgin Islands\\nEurope\\nGuernsey\\nIreland\\nIsle of Man\\nJersey\\nUnited Kingdom\\nOceania\\nAustralia\\nNew Zealand\\nNorfolk Island\\nPitcairn Islands\\n\\xa0\\nCountries and territories where English is an official language, but not the majority first language\\nAfrica\\nBotswana\\nCameroon\\neSwatini\\nThe Gambia\\nGhana\\nKenya\\nLesotho\\nLiberia\\nMalawi\\nMauritius\\nNamibia\\nNigeria\\nRwanda\\nSierra Leone\\nSomaliland\\nSouth Africa\\nSouth Sudan\\nSudan\\nTanzania\\nUganda\\nZambia\\nZimbabwe\\nAmericas\\nPuerto Rico\\nAsia\\nChristmas Island\\nCocos (Keeling) Islands\\nHong Kong\\nIndia\\nPakistan\\nPhilippines\\nSingapore\\nEurope\\nGibraltar\\nAkrotiri and Dhekelia\\nMalta\\nOceania\\nAmerican Samoa\\nCook Islands\\nFiji\\nGuam\\nKiribati\\nMarshall Islands\\nMicronesia\\nNauru\\nNiue\\nNorthern Mariana Islands\\nPalau\\nPapua New Guinea\\nSamoa\\nSolomon Islands\\nTokelau\\nTuvalu\\nVanuatu\\nDependencies shown in italics.\\nInternational organisations\\nvteMember states of the European Union\\nAustria\\nBelgium\\nBulgaria\\nCroatia\\nCyprus (see also Northern Cyprus)\\nCzech Republic\\nDenmark\\nEstonia\\nFinland\\nFrance\\nGermany\\nGreece\\nHungary\\nIreland\\nItaly\\nLatvia\\nLithuania\\nLuxembourg\\nMalta\\nNetherlands\\nPoland\\nPortugal\\nRomania\\nSlovakia\\nSlovenia\\nSpain\\nSweden\\nUnited Kingdom\\nFuture enlargement of the European Union\\nvteMembers of the Commonwealth of NationsSovereign states  (Members)\\nAntigua and Barbuda\\nAustralia\\nBahamas\\nBangladesh\\nBarbados\\nBelize\\nBotswana\\nBrunei\\nCameroon\\nCanada\\nCyprus\\nDominica\\neSwatini (Swaziland)\\nFiji\\nThe Gambia\\nGhana\\nGrenada\\nGuyana\\nIndia\\nJamaica\\nKenya\\nKiribati\\nLesotho\\nMalawi\\nMalaysia\\nMalta\\nMauritius\\nMozambique\\nNamibia\\nNauru\\nNew Zealand\\nNigeria\\nPakistan\\nPapua New Guinea\\nRwanda\\nSt. Kitts and Nevis\\nSt. Lucia\\nSt. Vincent and the Grenadines\\nSamoa\\nSeychelles\\nSierra Leone\\nSingapore\\nSolomon Islands\\nSouth Africa\\nSri Lanka\\nTanzania\\nTonga\\nTrinidad and Tobago\\nTuvalu\\nUganda\\nUnited Kingdom\\nVanuatu\\nZambia\\nDependencies of MembersAustralia\\nAshmore and Cartier Islands\\nAustralian Antarctic Territory\\nChristmas Island\\nCocos (Keeling) Islands\\nCoral Sea Islands\\nHeard Island and McDonald Islands\\nNorfolk Island\\nNew Zealand\\nCook Islands\\nNiue\\nRoss Dependency\\nTokelau\\nUnited Kingdom\\nAkrotiri and Dhekelia\\nAnguilla\\nBermuda\\nBritish Antarctic Territory\\nBritish Indian Ocean Territory\\nBritish Virgin Islands\\nCayman Islands\\nFalkland Islands\\nGibraltar\\nGuernsey\\nIsle of Man\\nJersey\\nMontserrat\\nPitcairn Islands\\nSt. Helena, Ascension and Tristan da Cunha\\nSouth Georgia and the South Sandwich Islands\\nTurks and Caicos Islands\\nSource: Commonwealth Secretariat - Member States\\nvteGroup of Eight (G8) and Group of Eight + Five (G8+5)G8 members\\n\\xa0Canada\\n\\xa0France\\n\\xa0Germany\\n\\xa0Italy\\n\\xa0Japan\\n\\xa0Russia (suspended)\\n\\xa0United Kingdom\\n\\xa0United States\\nRepresentative\\n\\xa0European Union\\nG8+5\\n\\xa0Brazil\\n\\xa0China\\n\\xa0India\\n\\xa0Mexico\\n\\xa0South Africa\\nSee also\\nGroup of Six\\nGroup of Seven\\nG7+1\\n\\nvteSecurity Council of the United NationsPower\\nChapter V\\nChapter VII\\nVeto\\nResolution\\nOrganization\\nMilitary Observer\\nPeacebuilding Commission\\nCounter-Terrorism Committee\\nPeacekeeping\\nMissions\\nUnited Nations Command\\nUnified Task Force\\nMembersPermanent\\n\\xa0China\\n\\xa0France\\n\\xa0Russia\\n\\xa0United Kingdom\\n\\xa0United States\\n2017–2018\\n\\xa0Bolivia\\n\\xa0Ethiopia\\n\\xa0Kazakhstan\\n\\xa0Sweden\\n2018\\n\\xa0Netherlands\\n2018–2019\\n\\xa0Equatorial Guinea\\n\\xa0Ivory Coast\\n\\xa0Kuwait\\n\\xa0Peru\\n\\xa0Poland\\n\\n Category\\n\\nvteOECD membersMember states\\n\\xa0Australia\\n\\xa0Austria\\n\\xa0Belgium\\n\\xa0Canada\\n\\xa0Chile\\n\\xa0Colombia\\n\\xa0Czech Republic\\n\\xa0Denmark\\n\\xa0Estonia\\n\\xa0Finland\\n\\xa0France\\n\\xa0Germany\\n\\xa0Greece\\n\\xa0Hungary\\n\\xa0Iceland\\n\\xa0Ireland\\n\\xa0Israel\\n\\xa0Italy\\n\\xa0Japan\\n\\xa0Latvia\\n\\xa0Lithuania\\n\\xa0Luxembourg\\n\\xa0Mexico\\n\\xa0Netherlands\\n\\xa0New Zealand\\n\\xa0Norway\\n\\xa0Poland\\n\\xa0Portugal\\n\\xa0Slovakia\\n\\xa0Slovenia\\n\\xa0South Korea\\n\\xa0Spain\\n\\xa0Sweden\\n\\xa0\\xa0Switzerland\\n\\xa0Turkey\\n\\xa0United Kingdom\\n\\xa0United States\\n\\nAuthority control \\n WorldCat Identities\\nBNE: XX4575384\\nBNF: cb11872746v (data)\\nCiNii: DA00516998\\nGND: 4022153-2\\nISNI: 0000 0001 2248 3427\\nLCCN: n79023147\\nNDL: 00871900\\nNKC: ge134525\\nNLA: 35142153\\nNSK: 000108702\\nSUDOC: 026488515\\nVIAF: 127756949\\n\\nCoordinates: 55°N 3°W\\ufeff / \\ufeff55°N 3°W\\ufeff / 55; -3\\n\\n \\nNewPP limit report\\nParsed by mw1331\\nCached time: 20181024134749\\nCache expiry: 1900800\\nDynamic content: false\\nCPU time usage: 6.388 seconds\\nReal time usage: 7.078 seconds\\nPreprocessor visited node count: 43998/1000000\\nPreprocessor generated node count: 0/1500000\\nPost‐expand include size: 1505415/2097152 bytes\\nTemplate argument size: 217706/2097152 bytes\\nHighest expansion depth: 20/40\\nExpensive parser function count: 53/500\\nUnstrip recursion depth: 1/20\\nUnstrip post‐expand size: 1460616/5000000 bytes\\nNumber of Wikibase entities loaded: 4/400\\nLua time usage: 3.419/10.000 seconds\\nLua memory usage: 32.56 MB/50 MB\\n\\n\\nTransclusion expansion time report (%,ms,calls,template)\\n100.00% 5566.149      1 -total\\n 52.79% 2938.299      2 Template:Reflist\\n 21.21% 1180.630    268 Template:Cite_web\\n 16.39%  912.079      4 Template:Infobox\\n 14.23%  791.954      1 Template:Infobox_country\\n 10.69%  594.979     31 Template:Navbox\\n 10.29%  572.823    137 Template:Cite_news\\n  8.93%  496.971      2 Template:Navboxes\\n  6.34%  352.707      3 Template:ISO_3166_code\\n  5.33%  296.627     67 Template:Cite_book\\n\\n Saved in parser cache with key enwiki:pcache:idhash:31717-0!canonical and timestamp 20181024134742 and revision id 865339290\\n \\n \\n\\t\\t\\t\\t\\t\\tRetrieved from \"https://en.wikipedia.org/w/index.php?title=United_Kingdom&oldid=865339290\"\\t\\t\\t\\t\\t\\nCategories: United KingdomBritish IslandsCountries in EuropeEnglish-speaking countries and territoriesG7 nationsG8 nationsG20 nationsIsland countriesNorthern European countriesMember states of NATOMember states of the Commonwealth of NationsMember states of the Council of EuropeMember states of the European UnionMember states of the Union for the MediterraneanMember states of the United NationsWestern European countriesHidden categories: Webarchive template wayback linksPages with reference errorsPages containing links to subscription-only contentCS1 maint: BOT: original-url status unknownAll articles with dead external linksArticles with dead external links from January 2018Articles with permanently dead external linksCS1 maint: Unfit urlCS1 maint: Multiple names: authors listCS1: Julian–Gregorian uncertaintyPages with broken reference namesWikipedia indefinitely semi-protected pagesWikipedia indefinitely move-protected pagesArticles with short descriptionUse British English from April 2012Use dmy dates from May 2018Articles containing Scots-language textArticles containing Welsh-language textArticles containing Cornish-language textArticles containing Scottish Gaelic-language textArticles containing Irish-language textPages using infobox country or infobox former country with the symbol caption or type parametersAll articles with unsourced statementsArticles with unsourced statements from April 2016Articles with unsourced statements from September 2018All articles with vague or ambiguous timeVague or ambiguous time from November 2015Articles containing potentially dated statements from 2010All articles containing potentially dated statementsArticles containing potentially dated statements from 2011Articles containing potentially dated statements from June 2005Articles containing potentially dated statements from 2016Articles with Curlie linksWikipedia articles with BNE identifiersWikipedia articles with BNF identifiersWikipedia articles with CINII identifiersWikipedia articles with GND identifiersWikipedia articles with ISNI identifiersWikipedia articles with LCCN identifiersWikipedia articles with NDL identifiersWikipedia articles with NKC identifiersWikipedia articles with NLA identifiersWikipedia articles with NSK identifiersWikipedia articles with SUDOC identifiersWikipedia articles with VIAF identifiersCoordinates on WikidataPriority articles for attention after Brexit \\n\\n\\n\\nNavigation menu\\n\\n\\nPersonal tools\\n\\nNot logged inTalkContributionsCreate accountLog in \\n\\n\\n\\nNamespaces\\n\\nArticleTalk \\n\\n\\n\\n\\nVariants\\n\\n\\n\\n\\n\\n\\n\\n\\n\\nViews\\n\\nReadView sourceView history \\n\\n\\n\\nMore\\n\\n\\n\\n\\n\\n\\n\\nSearch\\n\\n\\n\\n \\n\\n\\n\\n\\n\\n\\n\\nNavigation\\n\\n\\nMain pageContentsFeatured contentCurrent eventsRandom articleDonate to WikipediaWikipedia store \\n\\n\\n\\nInteraction\\n\\n\\nHelpAbout WikipediaCommunity portalRecent changesContact page \\n\\n\\n\\nTools\\n\\n\\nWhat links hereRelated changesUpload fileSpecial pagesPermanent linkPage informationWikidata itemCite this page \\n\\n\\n\\nPrint/export\\n\\n\\nCreate a bookDownload as PDFPrintable version \\n\\n\\n\\nIn other projects\\n\\n\\nWikimedia CommonsWikinewsWikiquoteWikivoyage \\n\\n\\n\\nLanguages\\n\\n\\nAcèhАдыгэбзэАдыгабзэAfrikaansAkanAlemannischአማርኛÆngliscАҧсшәаالعربيةAragonésܐܪܡܝܐArmãneashtiArpetanঅসমীয়াAsturianuAvañe\\'ẽАварAzərbaycancaتۆرکجهবাংলাBahasa BanjarBân-lâm-gúБашҡортсаБеларускаяБеларуская (тарашкевіца)\\u200eभोजपुरीBikol CentralBislamaБългарскиBoarischབོད་ཡིགBosanskiBrezhonegБуряадCatalàЧӑвашлаCebuanoČeštinaChamoruChavacano de ZamboangaChiShonaCorsuCymraegDanskDavvisámegiellaDeutschދިވެހިބަސްDiné bizaadDolnoserbskiཇོང་ཁEestiΕλληνικάEmiliàn e rumagnòlЭрзяньEspañolEsperantoEstremeñuEuskaraفارسیFiji HindiFøroysktFrançaisFryskFulfuldeFurlanGaeilgeGaelgGagauzGàidhligGalego贛語ગુજરાતીगोंयची कोंकणी / Gõychi Konknni客家語/Hak-kâ-ngîХальмг한국어HausaHawaiʻiՀայերենहिन्दीHornjoserbsceHrvatskiIdoIgboIlokanoবিষ্ণুপ্রিয়া মণিপুরীBahasa IndonesiaInterlinguaInterlingueᐃᓄᒃᑎᑐᑦ/inuktitutИронIsiZuluÍslenskaItalianoעבריתBasa JawaKalaallisutಕನ್ನಡKapampanganКъарачай-малкъарქართულიKaszëbscziҚазақшаKernowekKinyarwandaKiswahiliКомиKongoKreyòl ayisyenKurdîКыргызчаКырык марыLadinoЛезгиລາວلۊری شومالیLatgaļuLatinaLatviešuLëtzebuergeschLietuviųLigureLimburgsLingálaLivvinkarjalaLa .lojban.LumbaartMagyarमैथिलीМакедонскиMalagasyമലയാളംMaltiMāoriमराठीმარგალურიمصرىمازِرونیBahasa MelayuMìng-dĕ̤ng-ngṳ̄MirandésМонголမြန်မာဘာသာNāhuatlDorerin NaoeroNederlandsNedersaksiesनेपालीनेपाल भाषा日本語NapulitanoНохчийнNordfriiskNorfuk / PitkernNorskNorsk nynorskNouormandNovialOccitanОлык марийଓଡ଼ିଆOromooOʻzbekcha/ўзбекчаਪੰਜਾਬੀPangasinanپنجابیPapiamentuپښتوPatoisПерем Комиភាសាខ្មែរPicardPiemontèisTok PisinPlattdüütschPolskiΠοντιακάPortuguêsQırımtatarcaReo tahitiRipoarischRomânăRomaniRumantschRuna SimiРусиньскыйРусскийСаха тылаᱥᱟᱱᱛᱟᱲᱤGagana Samoaसंस्कृतम्SarduScotsSeelterskSesotho sa LeboaShqipSicilianuසිංහලSimple EnglishسنڌيSiSwatiSlovenčinaSlovenščinaСловѣньскъ / ⰔⰎⰑⰂⰡⰐⰠⰔⰍⰟŚlůnskiSoomaaligaکوردیSranantongoСрпски / srpskiSrpskohrvatski / српскохрватскиBasa SundaSuomiSvenskaTagalogதமிழ்TaqbaylitTarandíneТатарча/tatarçaతెలుగుTetunไทยТоҷикӣLea faka-TongaᏣᎳᎩTsetsêhestâheseತುಳುTürkçeTwiУдмуртᨅᨔ ᨕᨘᨁᨗУкраїнськаاردوئۇيغۇرچە / UyghurcheVahcuenghVènetoVepsän kel’Tiếng ViệtVolapükVõroWalon文言West-VlamsWinarayWolof吴语XitsongaייִדישYorùbá粵語ZazakiZeêuwsŽemaitėška中文डोटेलीГӀалгӀайKabɩyɛLingua Franca Nova \\nEdit links \\n\\n\\n\\n\\n\\n This page was last edited on 23 October 2018, at 09:22\\xa0(UTC).\\nText is available under the Creative Commons Attribution-ShareAlike License;\\nadditional terms may apply.  By using this site, you agree to the Terms of Use and Privacy Policy. Wikipedia® is a registered trademark of the Wikimedia Foundation, Inc., a non-profit organization.\\n\\n\\nPrivacy policy\\nAbout Wikipedia\\nDisclaimers\\nContact Wikipedia\\nDevelopers\\nCookie statement\\nMobile view\\n\\n\\n\\n \\n\\n \\n\\n\\n\\n\\n\\n'"
      ]
     },
     "execution_count": 88,
     "metadata": {},
     "output_type": "execute_result"
    }
   ],
   "source": [
    "# Your code Below\n",
    "articleString"
   ]
  },
  {
   "cell_type": "code",
   "execution_count": 89,
   "metadata": {},
   "outputs": [
    {
     "data": {
      "text/plain": [
       "['\\n\\n \\n\\n\\n\\n CentralNotice \\n\\n\\nUnited Kingdom \\nFrom Wikipedia, the free encyclopedia \\n Jump to navigation\\nJump to search\\nThis article is about the country. It is not to be confused with Great Britain, its largest island whose name is also loosely applied to the whole country.\\n',\n",
       " 'UK',\n",
       " ' redirects here. For other uses of ',\n",
       " 'UK',\n",
       " ', see UK (disambiguation). For other uses of ',\n",
       " 'United Kingdom',\n",
       " ', see United Kingdom (disambiguation).\\n\\n\\nCountry in Europe\\n\\n\\n\\nUnited Kingdom of Great Britain and Northern Ireland\\n Scots:\\nUnitit Kinrick o Great Breetain an Northren IrelandUlster Scots:\\nClaught Kängrick o Docht Brätain an Norlin AirlannWelsh:\\nTeyrnas Unedig Prydain Fawr a Gogledd IwerddonCornish:\\nRywvaneth Unys Breten Veur ha Kledhbarth IwerdhonScottish\\xa0Gaelic:\\nRìoghachd Aonaichte Bhreatainn is Èireann a TuathIrish:\\nRíocht Aontaithe na Breataine Móire agus Thuaisceart Éireann\\n\\n\\n\\n\\n\\nFlag\\n\\n\\n\\nRoyal coat of arms[note 1]\\n\\n\\nAnthem:\\xa0',\n",
       " 'God Save the Queen',\n",
       " \"[note 2]\\n\\nShow globeShow map of EuropeLocation of the\\xa0\\xa0United Kingdom\\xa0\\xa0(dark green)–\\xa0in Europe\\xa0\\xa0(green &\\xa0dark grey)–\\xa0in the European\\xa0Union\\xa0\\xa0(green)\\n\\nLocation of the United Kingdom, Crown dependencies and British Overseas Territories (red)\\n \\n\\nCapitaland largest city\\nLondon51°30′N 0°7′W\\ufeff / \\ufeff51.500°N 0.117°W\\ufeff / 51.500; -0.117Official language and national language\\nEnglishRecognised regional or minority languages[note 3]\\nScotsUlster ScotsWelshCornishScottish GaelicIrishEthnic\\xa0groups  (2011)\\n87.1% White7.0% Asian3.0% Black2.0% Mixed0.9% othersReligion  (2011[6][7])\\n59.5% Christian25.7% Irreligious4.4% Muslim1.3% Hindu0.7% Sikh0.4% Jewish0.4% Buddhist0.4% other religions7.2% unknownDemonym\\nBritishBritonCountries of the United Kingdom\\nEnglandNorthern IrelandScotlandWalesGovernment\\nUnitary parliamentaryconstitutional monarchy\\n•\\xa0Monarch \\nElizabeth\\xa0II•\\xa0Prime Minister \\nTheresa May\\nLegislature\\nParliament•\\xa0Upper house\\nHouse of Lords•\\xa0Lower house\\nHouse of CommonsFormation\\n•\\xa0Laws in Wales Acts \\n1535 and 1542•\\xa0Union of the Crowns under James VI and I \\n24 March 1603•\\xa0Acts of Union of England and Scotland \\n1 May 1707•\\xa0Acts of Union of Great Britain and Ireland \\n1 January 1801•\\xa0Irish Free State Constitution Act \\n5 December 1922•\\xa0EC accession[note 4] \\n1 January 1973\\nArea •\\xa0Total\\n242,495\\xa0km2 (93,628\\xa0sq\\xa0mi)[8] (78th)•\\xa0Water\\xa0(%)\\n1.34Population•\\xa02017 estimate\\n 66,040,229[9] (22nd)•\\xa02011\\xa0census\\n63,181,775[10] (22nd)•\\xa0Density\\n270.7/km2 (701.1/sq\\xa0mi) (50th)GDP\\xa0(PPP)\\n2017\\xa0estimate•\\xa0Total\\n$2.914\\xa0trillion[11] (9th)•\\xa0Per capita\\n$44,117[11] (25th)GDP\\xa0(nominal)\\n2017\\xa0estimate•\\xa0Total\\n$2.624\\xa0trillion[11] (5th)•\\xa0Per capita\\n$39,734[11] (19th)Gini\\xa0(2014)\\n\\xa031.6[12]medium\\xa0·\\xa033rdHDI\\xa0(2017)\\n\\xa00.922[13]very high\\xa0·\\xa014thCurrency\\nPound\\xa0sterling[note 5] (GBP;\\xa0£)Time zone\\nUTC\\u2060 (Greenwich Mean Time[note 6])•\\xa0Summer\\xa0(DST)\\nUTC+1 (British Summer Time)Date format\\ndd/mm/yyyy\\xa0(AD)Driving side\\nleft[note 7]Calling code\\n+44[note 8]ISO 3166 code\\nGBInternet TLD\\n.uk[note 9]\\nThe United Kingdom of Great Britain and Northern Ireland, commonly known as the United Kingdom (UK)[14] or Britain,[note 10] is a sovereign country lying off the north-western coast of the European mainland. The United Kingdom includes the island of Great Britain, the north-eastern part of the island of Ireland and many smaller islands.[15] Northern Ireland is the only part of the United Kingdom that shares a land border with another sovereign state\\u200d—\\u200cthe Republic of Ireland. Apart from this land border, the United Kingdom is surrounded by the Atlantic Ocean, with the North Sea to its east, the English Channel to its south and the Celtic Sea to its south-south-west, giving it the 12th-longest coastline in the world. The Irish Sea lies between Great Britain and Ireland. With an area of 242,500 square kilometres (93,600\\xa0sq\\xa0mi), the United Kingdom is the 78th-largest sovereign state in the world. It is also the 22nd-most populous country, with an estimated 66.0 million inhabitants in 2017.\\nThe sovereign state  is a constitutional monarchy with a parliamentary democracy.[16][17] The monarch is Queen Elizabeth II, who has reigned since 1952, making her the longest-serving current head of state.[18] The United Kingdom's capital and largest city is London, a global city and financial centre with an urban area population of 10.3 million.[19] Other major urban areas in the UK include the conurbations centred on Manchester, Birmingham, Leeds, Glasgow and Liverpool.\\nThe United Kingdom consists of four countries: England, Northern Ireland, Scotland, and Wales.[20] Their capitals are London, Belfast, Edinburgh, and Cardiff respectively. Apart from England, the countries have devolved administrations,[21] each with varying powers.[22][23] The nearby Isle of Man, Bailiwick of Guernsey and Bailiwick of Jersey are not part of the UK, being Crown dependencies with the British Government responsible for defence and international representation.[24] The medieval conquest and subsequent annexation of Wales by the Kingdom of England, followed by the union between England and Scotland in 1707 to form the Kingdom of Great Britain, and the union in 1801 of Great Britain with the Kingdom of Ireland created the United Kingdom of Great Britain and Ireland. Five-sixths of Ireland seceded from the UK in 1922, leaving the present formulation of the United Kingdom of Great Britain and Northern Ireland.[note 11] There are fourteen British Overseas Territories,[25] the remnants of the British Empire which, at its height in the 1920s, encompassed almost a quarter of the world's land mass and was the largest empire in history. British influence can be observed in the language, culture and legal systems of many of its former colonies.\\nThe United Kingdom is a developed country and has the world's fifth-largest economy by nominal GDP and ninth-largest economy by purchasing power parity. It has a high-income economy and has a \",\n",
       " 'very high',\n",
       " \" Human Development Index, ranking 14th in the world. It was the world's first industrialised country and the world's foremost power during the 19th and early 20th centuries.[26][27] The United Kingdom remains a great power with considerable economic, cultural, military, scientific and political influence internationally.[28][29] It is a recognised nuclear weapons state and is sixth in military expenditure in the world.[30] It has been a permanent member of the United Nations Security Council since its first session in 1946. It has been a leading member state of the European Union (EU) and its predecessor, the European Economic Community (EEC), since 1973; however, a referendum in 2016 resulted in 51.9% of UK voters favouring leaving the European Union, and the country's exit is being negotiated. The United Kingdom is also a member of the Commonwealth of Nations, the Council of Europe, the G7, the G20, NATO, the Organisation for Economic Co-operation and Development (OECD), Interpol and the World Trade Organization (WTO).\\n\\nContents\\n\\n1 Etymology and terminology\\n2 History\\n\\n2.1 Background\\n2.2 Treaty of Union\\n2.3 Union with Ireland\\n2.4 Irish independence\\n2.5 Since the Second World War\\n\\n\\n3 Geography\\n\\n3.1 Climate\\n3.2 Administrative divisions\\n\\n\\n4 Dependencies\\n5 Politics\\n\\n5.1 Government\\n5.2 Devolved administrations\\n5.3 Law and criminal justice\\n5.4 Foreign relations\\n5.5 Military\\n\\n\\n6 Economy\\n\\n6.1 Overview\\n6.2 Science and technology\\n6.3 Transport\\n6.4 Energy\\n6.5 Water supply and sanitation\\n\\n\\n7 Demographics\\n\\n7.1 Ethnic groups\\n7.2 Languages\\n7.3 Religion\\n7.4 Migration\\n7.5 Education\\n7.6 Healthcare\\n\\n\\n8 Culture\\n\\n8.1 Literature\\n8.2 Music\\n8.3 Visual art\\n8.4 Cinema\\n8.5 Cuisine\\n8.6 Media\\n8.7 Philosophy\\n8.8 Sport\\n8.9 Symbols\\n\\n\\n9 Historiography\\n10 See also\\n11 Notes\\n12 References\\n13 Further reading\\n14 External links\\n\\n\\nEtymology and terminology\\n\\n\\nSee also: Britain (place name) and Terminology of the British Isles\\nThe 1707 Acts of Union declared that the kingdoms of England and Scotland were \",\n",
       " 'United into One Kingdom by the Name of Great Britain',\n",
       " ', though the new state is also described in the Acts as the ',\n",
       " 'Kingdom of Great Britain',\n",
       " ', ',\n",
       " 'United Kingdom of Great Britain',\n",
       " ' and ',\n",
       " 'One Kingdom',\n",
       " '.[31][32][note 12] The term ',\n",
       " 'United Kingdom',\n",
       " ' is found in use as a description, but not a name, during the 18th century, and the country has occasionally been referred to in later centuries as the ',\n",
       " 'United Kingdom of Great Britain',\n",
       " ' although its full official name, from 1707 to 1800, was simply ',\n",
       " 'Great Britain',\n",
       " ', without a ',\n",
       " 'long form',\n",
       " '.[33][34][35][36][37] The Acts of Union 1800 united the Kingdom of Great Britain and the Kingdom of Ireland in 1801, forming the United Kingdom of Great Britain and Ireland. Following the partition of Ireland and the independence of the Irish Free State in 1922, which left Northern Ireland as the only part of the island of Ireland within the United Kingdom, the name ',\n",
       " 'United Kingdom of Great Britain and Northern Ireland',\n",
       " \" was adopted.[38]\\nAlthough the United Kingdom, as a sovereign state, is a country, England, Scotland, Wales and, to a lesser degree, Northern Ireland are also regarded as countries, though they are not sovereign states.[39][40] Scotland, Wales and Northern Ireland have devolved self-government.[41][42] The British Prime Minister's website has used the phrase \",\n",
       " 'countries within a country',\n",
       " ' to describe the United Kingdom.[20] Some statistical summaries, such as those for the twelve NUTS 1 regions of the United Kingdom, also refer to Scotland, Wales and Northern Ireland as ',\n",
       " 'regions',\n",
       " '.[43][44] Northern Ireland is also referred to as a ',\n",
       " 'province',\n",
       " '.[45][46] With regard to Northern Ireland, the descriptive name used ',\n",
       " \"can be controversial, with the choice often revealing one's political preferences\",\n",
       " '.[47]\\nThe term ',\n",
       " 'Great Britain',\n",
       " \" refers conventionally to the island of Great Britain, or politically to England, Scotland and Wales in combination.[48][49][50] However, it is sometimes used as a loose synonym for the United Kingdom as a whole.[51] GB and GBR are the standard country codes for the United Kingdom (see ISO 3166-2 and ISO 3166-1 alpha-3) and are consequently used by international organisations to refer to the United Kingdom. Additionally, the United Kingdom's Olympic team competes under the name \",\n",
       " 'Great Britain',\n",
       " ' or ',\n",
       " 'Team GB',\n",
       " '.[52][53]\\nThe term ',\n",
       " 'Britain',\n",
       " ' is used both as a synonym for Great Britain,[54][55][56] and as a synonym for the United Kingdom.[57][56]\\nUsage is mixed, with the BBC preferring to use Britain as shorthand only for Great Britain[58] and the British Government, although accepting that both terms refer to the United Kingdom, preferring, in most cases, to use the term UK rather than Britain.[59] While the UK Permanent Committee on Geographical Names (whose definitions are the ',\n",
       " 'authoritative geographical names of the United Kingdom',\n",
       " ') lists ',\n",
       " 'United Kingdom',\n",
       " ' and ',\n",
       " 'UK or U.K.',\n",
       " ' as shortened and abbreviated geopolitical terms for the United Kingdom of Great Britain and Northern Ireland, but does not list ',\n",
       " 'Britain',\n",
       " ',[60] it has been used ',\n",
       " 'informally',\n",
       " ' by government websites.[61]\\nThe adjective ',\n",
       " 'British',\n",
       " ' is commonly used to refer to matters relating to the United Kingdom. The term has no definite legal connotation, but is used in law to refer to United Kingdom citizenship and matters to do with nationality.[62] People of the United Kingdom use a number of different terms to describe their national identity and may identify themselves as being British; or as being English, Scottish, Welsh, Northern Irish, or Irish;[63] or as being both.[64]\\nIn Welsh, the long form name of the state is ',\n",
       " 'Teyrnas Unedig Prydain Fawr a Gogledd Iwerddon',\n",
       " ', with ',\n",
       " 'Teyrnas Unedig',\n",
       " ' being used as a short form name on government websites.[65] However, it is usually abbreviated to ',\n",
       " 'DU',\n",
       " ' for the mutated form ',\n",
       " 'Y Deyrnas Unedig',\n",
       " '. In Scottish Gaelic, the long form is ',\n",
       " 'Rìoghachd Aonaichte Bhreatainn is Èireann a Tuath',\n",
       " ' and the short form ',\n",
       " 'Rìoghachd Aonaichte',\n",
       " \".\\n\\nHistory\\nSee also: History of the British Isles\\nBackground\\nMain articles: History of England, History of Wales, History of Scotland, History of Ireland, and History of the formation of the United Kingdom\\n The stones of Stonehenge, in Wiltshire, were erected between 2400 and 2200 BC\\nSettlement by anatomically modern humans of what was to become the United Kingdom occurred in waves beginning by about 30,000 years ago.[66] By the end of the region's prehistoric period, the population is thought to have belonged, in the main, to a culture termed Insular Celtic, comprising Brittonic Britain and Gaelic Ireland.[67] The Roman conquest, beginning in 43 AD, and the 400-year rule of southern Britain, was followed by an invasion by Germanic Anglo-Saxon settlers, reducing the Brittonic area mainly to what was to become Wales, Cornwall and, until the latter stages of the Anglo-Saxon settlement, the Hen Ogledd (northern England and parts of southern Scotland).[68] Most of the region settled by the Anglo-Saxons became unified as the Kingdom of England in the 10th century.[69] Meanwhile, Gaelic-speakers in north-west Britain (with connections to the north-east of Ireland and traditionally supposed to have migrated from there in the 5th century)[70][71] united with the Picts to create the Kingdom of Scotland in the 9th century.[72]\\n\\n The Bayeux Tapestry depicts the Battle of Hastings, 1066, and the events leading to it\\nIn 1066, the Normans and their Breton allies invaded England from northern France and after its conquest, seized large parts of Wales, conquered much of Ireland and were invited to settle in Scotland, bringing to each country feudalism on the Northern French model and Norman-French culture.[73] The Anglo-Norman ruling class greatly influenced, but eventually assimilated with, each of the local cultures.[74] Subsequent medieval English kings completed the conquest of Wales and made an unsuccessful attempt to annex Scotland. Following the Declaration of Arbroath, Scotland maintained its independence, albeit in near-constant conflict with England. The English monarchs, through inheritance of substantial territories in France and claims to the French crown, were also heavily involved in conflicts in France, most notably the Hundred Years War, while the Kings of Scots were in an alliance with the French during this period.[75]\\nThe early modern period saw religious conflict resulting from the Reformation and the introduction of Protestant state churches in each country.[76] Wales was fully incorporated into the Kingdom of England,[77] and Ireland was constituted as a kingdom in personal union with the English crown.[78] In what was to become Northern Ireland, the lands of the independent Catholic Gaelic nobility were confiscated and given to Protestant settlers from England and Scotland.[79]\\nIn 1603, the kingdoms of England, Scotland and Ireland were united in a personal union when James VI, King of Scots, inherited the crowns of England and Ireland and moved his court from Edinburgh to London; each country nevertheless remained a separate political entity and retained its separate political, legal, and religious institutions.[80][81]\\nIn the mid-17th century, all three kingdoms were involved in a series of connected wars (including the English Civil War) which led to the temporary overthrow of the monarchy and the establishment of the short-lived unitary republic of the Commonwealth of England, Scotland and Ireland.[82][83] During the 17th and 18th centuries, British sailors were involved in acts of piracy (privateering), attacking and stealing from ships off the coast of Europe and the Caribbean.[84]\\n\\n The State House in St. George's, Bermuda. Settled in 1612, the town is the oldest continuously-inhabited English town in the New World.\\nAlthough the monarchy was restored, the Interregnum ensured (along with the Glorious Revolution of 1688 and the subsequent Bill of Rights 1689, and the Claim of Right Act 1689) that, unlike much of the rest of Europe, royal absolutism would not prevail, and a professed Catholic could never accede to the throne. The British constitution would develop on the basis of constitutional monarchy and the parliamentary system.[85] With the founding of the Royal Society in 1660, science was greatly encouraged. During this period, particularly in England, the development of naval power (and the interest in voyages of discovery) led to the acquisition and settlement of overseas colonies, particularly in North America.[86][87]\\nThough previous attempts at uniting the two kingdoms within Great Britain in 1606, 1667, and 1689 had proved unsuccessful, the attempt initiated in 1705 led to the Treaty of Union of 1706 being agreed and ratified by both parliaments\\n\\n\\nTreaty of Union\\nMain article: History of the United Kingdom\\n The Treaty of Union led to a single united kingdom encompassing all Great Britain\\nOn 1 May 1707, the united Kingdom of Great Britain came into being, the result of Acts of Union being passed by the parliaments of England and Scotland to ratify the 1706 Treaty of Union and so unite the two kingdoms.[88][89][90]\\nIn the 18th century, cabinet government developed under Robert Walpole, in practice the first prime minister (1721–1742). A series of Jacobite Uprisings sought to remove the Protestant House of Hanover from the British throne and restore the Catholic House of Stuart. The Jacobites were finally defeated at the Battle of Culloden in 1746, after which the Scottish Highlanders were brutally suppressed. The British colonies in North America that broke away from Britain in the American War of Independence became the United States of America, recognised by Britain in 1783. British imperial ambition turned towards Asia, particularly to India.[91]\\nDuring the 18th century, Britain was involved in the Atlantic slave trade. British ships transported an estimated two million slaves from Africa to the West Indies. Parliament banned the trade in 1807, banned slavery in the British Empire in 1833, and Britain took a leading role in the movement to abolish slavery worldwide through the blockade of Africa and pressing other nations to end their trade with a series of treaties. The world's oldest international human rights organisation, Anti-Slavery International, was formed in London in 1839.[92][93][94]\\n\\nUnion with Ireland\\nMain article: Acts of Union 1800\\nThe term \",\n",
       " 'United Kingdom',\n",
       " ' became official in 1801 when the parliaments of Britain and Ireland each passed an Act of Union, uniting the two kingdoms and creating the United Kingdom of Great Britain and Ireland.[95]\\n\\n The Battle of Waterloo, 1815, marked the end of the Napoleonic Wars and the start of Pax Britannica\\nIn the early 19th century, the British-led Industrial Revolution began to transform the country. Gradually political power shifted away from the old Tory and Whig landowning classes towards the new industrialists. An alliance of merchants and industrialists with the Whigs would lead to a new party, the Liberals, with an ideology of free trade and laissez-faire. In 1832 Parliament passed the Great Reform Act, which began the transfer of political power from the aristocracy to the middle classes. In the countryside, enclosure of the land was driving small farmers out. Towns and cities began to swell with a new urban working class. Few ordinary workers had the vote, and they created their own organisations in the form of trade unions.[citation needed]\\nAfter the defeat of France at the end of the Revolutionary and Napoleonic Wars (1792–1815), Great Britain emerged as the principal naval and imperial power of the 19th century (with London the largest city in the world from about 1830).[96] Unchallenged at sea, British dominance was later described as Pax Britannica (',\n",
       " 'British Peace',\n",
       " '), a period of relative peace among the Great Powers (1815–1914) during which the British Empire became the global hegemon and adopted the role of global policeman.[97][98][99][100] By the time of the Great Exhibition of 1851, Britain was described as the ',\n",
       " 'workshop of the world',\n",
       " \".[101] The British Empire was expanded to include India, large parts of Africa and many other territories throughout the world. Alongside the formal control it exerted over its own colonies, British dominance of much of world trade meant that it effectively controlled the economies of many regions, such as Asia and Latin America.[102][103] Domestically, political attitudes favoured free trade and laissez-faire policies and a gradual widening of the voting franchise. During the century, the population increased at a dramatic rate, accompanied by rapid urbanisation, causing significant social and economic stresses.[104] To seek new markets and sources of raw materials, the Conservative Party under Disraeli launched a period of imperialist expansion in Egypt, South Africa, and elsewhere. Canada, Australia, and New Zealand became self-governing dominions.[105] After the turn of the century, Britain's industrial dominance was challenged by Germany and the United States.[106]\\nSocial reform and home rule for Ireland were important domestic issues after 1900. The Labour Party emerged from an alliance of trade unions and small socialist groups in 1900, and suffragettes campaigned for women's right to vote before 1914.[107]\\n\\n Infantry of the Royal Irish Rifles during the Battle of the Somme (more than 885,000 British soldiers died on the battlefields of the First World War)\\nBritain fought alongside France, Russia and (after 1917) the United States, against Germany and its allies in the First World War (1914–1918).[108] British armed forces were engaged across much of the British Empire and in several regions of Europe, particularly on the Western front.[109] The high fatalities of trench warfare caused the loss of much of a generation of men, with lasting social effects in the nation and a great disruption in the social order.\\nAfter the war, Britain received the League of Nations mandate over a number of former German and Ottoman colonies. The British Empire reached its greatest extent, covering a fifth of the world's land surface and a quarter of its population.[110] However, Britain had suffered 2.5 million casualties and finished the war with a huge national debt.[109]\\n\\nIrish independence\\nMain article: Anglo-Irish Treaty\\nThe rise of Irish nationalism, and disputes within Ireland over the terms of Irish Home Rule, led eventually to the partition of the island in 1921.[111] The Irish Free State became independent, initially with Dominion status in 1922, and unambiguously independent in 1931. Northern Ireland remained part of the United Kingdom.[112] A wave of strikes in the mid-1920s culminated in the General Strike of 1926. Britain had still not recovered from the effects of the war when the Great Depression (1929–1932) occurred. This led to considerable unemployment and hardship in the old industrial areas, as well as political and social unrest in the 1930s, with rising membership in communist and socialist parties. A coalition government was formed in 1931.[113]\\nBritain entered the Second World War by declaring war on Nazi Germany in 1939 after Germany had invaded Poland. Winston Churchill became prime minister and head of a coalition government in 1940. Despite the defeat of its European allies in the first year of the war, Britain and its Empire continued the fight alone against Germany. In 1940, the Royal Air Force defeated the German Luftwaffe in a struggle for control of the skies in the Battle of Britain. Urban areas suffered heavy bombing during the Blitz. There were also eventual hard-fought victories in the Battle of the Atlantic, the North Africa campaign and the Burma campaign. British forces played an important role in the Normandy landings of 1944, achieved with its United States ally.\\n\\nSince the Second World War\\nMain articles: Political history of the United Kingdom (1945–present) and Social history of the United Kingdom (1945–present)\\n Map showing territories that were at one time part of the British Empire, with the United Kingdom and its current British Overseas Territories and Crown Dependencies underlined in red\\nAfter the end of the Second World War in 1945, the UK was one of the Big Four powers (along with the U.S., the Soviet Union, and China) who met to plan the post-war world;[114][115] it was an original signatory to the Declaration of the United Nations. The UK became one of the five permanent members of the United Nations Security Council and worked closely with the United States to establish the IMF, World Bank and NATO.[116][117] However, the war left the UK severely weakened and depending financially on the Marshall Plan.[118] In the immediate post-war years, the Labour government initiated a radical programme of reforms, which had a significant effect on British society in the following decades.[119] Major industries and public utilities were nationalised, a welfare state was established, and a comprehensive, publicly funded healthcare system, the National Health Service, was created.[120] The rise of nationalism in the colonies coincided with Britain's now much-diminished economic position, so that a policy of decolonisation was unavoidable. Independence was granted to India and Pakistan in 1947.[121] Over the next three decades, most colonies of the British Empire gained their independence. Many became members of the Commonwealth of Nations.[122]\\nThe UK was the third country to develop a nuclear weapons arsenal (with its first atomic bomb test in 1952), but the new post-war limits of Britain's international role were illustrated by the Suez Crisis of 1956. The international spread of the English language ensured the continuing international influence of its literature and culture.[123][124] As a result of a shortage of workers in the 1950s, the government encouraged immigration from Commonwealth countries. In the following decades, the UK became a more multi-ethnic society than before.[125] Despite rising living standards in the late 1950s and 1960s, the UK's economic performance was less successful than many of its main competitors such as France, West Germany and Japan.\\n\\n Leaders of member states of the European Union in 2007. The UK entered the European Economic Community in 1973. In a referendum held in 1975, 67% of voters voted to remain in the EEC,[126] but 52% voted to leave the EU in 2016.[127]\\nIn the decade-long process of European integration, the UK was a founding member of the alliance called the Western European Union, established with the London and Paris Conferences in 1954. In 1960 the UK was one of the seven founding members of the European Free Trade Association (EFTA), but in 1973 it left to join the European Communities (EC). When the EC became the European Union (EU) in 1992, the UK was one of the 12 founding members. The Treaty of Lisbon was signed in 2007, which forms the constitutional basis of the European Union since then.\\nFrom the late 1960s, Northern Ireland suffered communal and paramilitary violence (sometimes affecting other parts of the UK) conventionally known as the Troubles. It is usually considered to have ended with the Belfast \",\n",
       " 'Good Friday',\n",
       " \" Agreement of 1998.[128][129][130]\\nFollowing a period of widespread economic slowdown and industrial strife in the 1970s, the Conservative government of the 1980s under Margaret Thatcher initiated a radical policy of monetarism, deregulation, particularly of the financial sector (for example, Big Bang in 1986) and labour markets, the sale of state-owned companies (privatisation), and the withdrawal of subsidies to others.[131] This resulted in high unemployment and social unrest, but ultimately also economic growth, particularly in the services sector. From 1984, the economy was helped by the inflow of substantial North Sea oil revenues.[132]\\nAround the end of the 20th century there were major changes to the governance of the UK with the establishment of devolved administrations for Scotland, Wales and Northern Ireland.[133] The statutory incorporation followed acceptance of the European Convention on Human Rights. The UK is still a key global player diplomatically and militarily. It plays leading roles in the EU, UN and NATO. However, controversy surrounds some of Britain's overseas military deployments, particularly in Afghanistan and Iraq.[134]\\nThe 2008 global financial crisis severely affected the UK economy. The coalition government of 2010 introduced austerity measures intended to tackle the substantial public deficits which resulted.[135] In 2014 the Scottish Government held a referendum on Scottish independence, with 55.3% of voters rejecting the independence proposal and opting to remain within the United Kingdom.[136] In 2016, 51.9% of voters in the United Kingdom voted to leave the European Union.[137] The legal process of leaving the EU began on 29 March 2017, with the UK's invocation of Article 50 of the Treaty of Lisbon, formally notifying the EU of the UK's intention to leave. The article stipulates that the negotiations to leave will last at least two years. The UK remains a full member of the EU during this time.[138][139]\\n\\nGeography\\nMain article: Geography of the United Kingdom\\n The topography of the UK\\nThe total area of the United Kingdom is approximately 243,610 square kilometres (94,060\\xa0sq\\xa0mi). The country occupies the major part of the British Isles[140] archipelago and includes the island of Great Britain, the north-eastern one-sixth of the island of Ireland and some smaller surrounding islands. It lies between the North Atlantic Ocean and the North Sea with the south-east coast coming within 22 miles (35\\xa0km) of the coast of northern France, from which it is separated by the English Channel.[141] In 1993 10% of the UK was forested, 46% used for pastures and 25% cultivated for agriculture.[142] The Royal Greenwich Observatory in London is the defining point of the Prime Meridian.[143]\\nThe United Kingdom lies between latitudes 49° and 61° N, and longitudes 9° W and 2° E. Northern Ireland shares a 224-mile (360\\xa0km) land boundary with the Republic of Ireland.[141] The coastline of Great Britain is 11,073 miles (17,820\\xa0km) long.[144] It is connected to continental Europe by the Channel Tunnel, which at 31 miles (50\\xa0km) (24 miles (38\\xa0km) underwater) is the longest underwater tunnel in the world.[145]\\nEngland accounts for just over half (53%) of the total area of the UK, covering 130,395 square kilometres (50,350\\xa0sq\\xa0mi).[146] Most of the country consists of lowland terrain,[142] with mountainous terrain north-west of the Tees-Exe line; including the Cumbrian Mountains of the Lake District, the Pennines, Exmoor and Dartmoor. The main rivers and estuaries are the Thames, Severn and the Humber. England's highest mountain is Scafell Pike (978 metres (3,209\\xa0ft)) in the Lake District.\\n\\nThe Skiddaw massif, town of Keswick and Derwent Water in LakelandSkye is one of the major islands in the Inner Hebrides and part of the Scottish Highlands\\nScotland accounts for just under a third (32%) of the total area of the UK, covering 78,772 square kilometres (30,410\\xa0sq\\xa0mi)[147] and including nearly eight hundred islands,[148] predominantly west and north of the mainland; notably the Hebrides, Orkney Islands and Shetland Islands. Scotland is the most mountainous country in the UK and its topography is distinguished by the Highland Boundary Fault—a geological rock fracture—which traverses Scotland from Arran in the west to Stonehaven in the east.[149] The fault separates two distinctively different regions; namely the Highlands to the north and west and the lowlands to the south and east. The more rugged Highland region contains the majority of Scotland's mountainous land, including Ben Nevis which at 1,345 metres (4,413\\xa0ft)[150] is the highest point in the British Isles.[151] Lowland areas—especially the narrow waist of land between the Firth of Clyde and the Firth of Forth known as the Central Belt—are flatter and home to most of the population including Glasgow, Scotland's largest city, and Edinburgh, its capital and political centre, although upland and mountainous terrain lies within the Southern Uplands.\\nWales accounts for less than a tenth (9%) of the total area of the UK, covering 20,779 square kilometres (8,020\\xa0sq\\xa0mi).[152] Wales is mostly mountainous, though South Wales is less mountainous than North and mid Wales. The main population and industrial areas are in South Wales, consisting of the coastal cities of Cardiff, Swansea and Newport, and the South Wales Valleys to their north. The highest mountains in Wales are in Snowdonia and include Snowdon (Welsh: Yr Wyddfa) which, at 1,085 metres (3,560\\xa0ft), is the highest peak in Wales.[142] Wales has over 2,704 kilometres (1,680 miles) of coastline.[144] Several islands lie off the Welsh mainland, the largest of which is Anglesey (Ynys Môn) in the north-west.\\nNorthern Ireland, separated from Great Britain by the Irish Sea and North Channel, has an area of 14,160 square kilometres (5,470\\xa0sq\\xa0mi) and is mostly hilly. It includes Lough Neagh which, at 388 square kilometres (150\\xa0sq\\xa0mi), is the largest lake in the British Isles by area.[153] The highest peak in Northern Ireland is Slieve Donard in the Mourne Mountains at 852 metres (2,795\\xa0ft).[142]\\n\\nClimate\\nMain article: Climate of the United Kingdom\\nThe United Kingdom has a temperate climate, with plentiful rainfall all year round.[141] The temperature varies with the seasons seldom dropping below −11\\xa0°C (12\\xa0°F) or rising above 35\\xa0°C (95\\xa0°F).[154] The prevailing wind is from the south-west and bears frequent spells of mild and wet weather from the Atlantic Ocean,[141] although the eastern parts are mostly sheltered from this wind since the majority of the rain falls over the western regions the eastern parts are therefore the driest. Atlantic currents, warmed by the Gulf Stream, bring mild winters;[155] especially in the west where winters are wet and even more so over high ground. Summers are warmest in the south-east of England, being closest to the European mainland, and coolest in the north. Heavy snowfall can occur in winter and early spring on high ground, and occasionally settles to great depth away from the hills.\\n\\n\\nEngland\\nScotland\\nWales\\nNorthernIreland\\nThe four countries of the United Kingdom\\nAdministrative divisions\\nMain article: Administrative geography of the United Kingdom\\nThe geographical division of the United Kingdom into counties or shires began in England and Scotland in the early Middle Ages and was complete throughout Great Britain and Ireland by the early Modern Period.[156] Administrative arrangements were developed separately in each country of the United Kingdom, with origins which often pre-dated the formation of the United Kingdom. Modern local government by elected councils, partly based on the ancient counties, was introduced separately: in England and Wales in a 1888 act, Scotland in a 1889 act and Ireland in a 1898 act, meaning there is no consistent system of administrative or geographic demarcation across the United Kingdom.[157]\\nUntil the 19th century there was little change to those arrangements, but there has since been a constant evolution of role and function.[158]\\nThe organisation of local government in England is complex, with the distribution of functions varying according to local arrangements. The upper-tier subdivisions of England are the nine regions, now used primarily for statistical purposes.[159] One region, Greater London, has had a directly elected assembly and mayor since 2000 following popular support for the proposal in a referendum.[160] It was intended that other regions would also be given their own elected regional assemblies, but a proposed assembly in the North East region was rejected by a referendum in 2004.[161] Below the regional tier, some parts of England have county councils and district councils and others have unitary authorities; while London consists of 32 London boroughs and the City of London. Councillors are elected by the first-past-the-post system in single-member wards or by the multi-member plurality system in multi-member wards.[162]\\nFor local government purposes, Scotland is divided into 32 council areas, with wide variation in both size and population. The cities of Glasgow, Edinburgh, Aberdeen and Dundee are separate council areas, as is the Highland Council, which includes a third of Scotland's area but only just over 200,000\\xa0people. Local councils are made up of elected councillors, of whom there are 1,223;[163] they are paid a part-time salary. Elections are conducted by single transferable vote in multi-member wards that elect either three or four councillors. Each council elects a Provost, or Convenor, to chair meetings of the council and to act as a figurehead for the area.\\nLocal government in Wales consists of 22 unitary authorities. These include the cities of Cardiff, Swansea and Newport, which are unitary authorities in their own right.[164] Elections are held every four years under the first-past-the-post system.[164]\\nLocal government in Northern Ireland has since 1973 been organised into 26 district councils, each elected by single transferable vote. Their powers are limited to services such as collecting waste, controlling dogs and maintaining parks and cemeteries.[165] In 2008 the executive agreed on proposals to create 11 new councils and replace the present system.[166]\\n\\nDependencies\\nMain articles: British Overseas Territories, Crown dependencies, British Islands, and List of leaders of British dependencies\\n Anguilla: Cap Juluca, Maundays Bay\\nThe United Kingdom has sovereignty over seventeen territories which do not form part of the United Kingdom itself: fourteen British Overseas Territories[25] and three Crown dependencies.[25][167]\\nThe fourteen British Overseas Territories are: Anguilla; Bermuda; the British Antarctic Territory; the British Indian Ocean Territory; the British Virgin Islands; the Cayman Islands; the Falkland Islands; Gibraltar; Montserrat; Saint Helena, Ascension and Tristan da Cunha; the Turks and Caicos Islands; the Pitcairn Islands; South Georgia and the South Sandwich Islands; and Akrotiri and Dhekelia on the island of Cyprus.[168] British claims in Antarctica are not universally recognised, mainly by Argentina, whose claims cover a majority of the British sector.[169] Collectively Britain's overseas territories encompass an approximate land area of 1,727,570 square kilometres (667,018\\xa0sq\\xa0mi) and a population of approximately 260,000 people.[170]\\nThey are the last remaining remnants of the British Empire and a 1999 UK government white paper stated that: \",\n",
       " '[The] Overseas Territories are British for as long as they wish to remain British. Britain has willingly granted independence where it has been requested; and we will continue to do so where this is an option.',\n",
       " \"[171] Self-determination is also enshrined into the constitutions of several overseas territories and three have specifically voted to remain under British sovereignty (Bermuda in 1995,[172] Gibraltar in 2002[173] and the Falkland Islands in 2013).[174]\\nThe Crown dependencies are possessions of the Crown, as opposed to overseas territories of the UK.[175] They comprise three independently administered jurisdictions: the Channel Islands of Jersey and Guernsey in the English Channel, and the Isle of Man in the Irish Sea. By mutual agreement, the British Government manages the islands' foreign affairs and defence and the UK Parliament has the authority to legislate on their behalf. However, internationally, they are regarded as \",\n",
       " 'territories for which the United Kingdom is responsible',\n",
       " '.[176] The power to pass legislation affecting the islands ultimately rests with their own respective legislative assemblies, with the assent of the Crown (Privy Council or, in the case of the Isle of Man, in certain circumstances the Lieutenant-Governor).[177] Since 2005 each Crown dependency has had a Chief Minister as its head of government.[178]\\nThe British dependencies use a varied assortment of currencies. These include the British pound, US dollar, New Zealand dollar, euro or their own currencies, which may be pegged to either.[citation needed]\\n\\n Locations of UK dependencies (crown dependencies alphabetised, overseas territories numbered): A Isle of Man; B Guernsey; C Jersey; 1 United Kingdom; 2 Gibraltar; 3 Akrotiri and Dhekelia; 4 Bermuda; 5 Turks and Caicos Islands; 6 British Virgin Islands; 7 Anguilla; 8 Cayman Islands; 9 Montserrat; 10 Pitcairn Islands; 11 Saint Helena, Ascension and Tristan da Cunha; 12 British Indian Ocean Territory; 13 Falkland Islands; 14 South Georgia and the South Sandwich Islands; (15) British Antarctic Territory\\nPolitics\\nMain article: Politics of the United Kingdom\\nQueen Elizabeth II, Monarch since 1952Theresa May, Prime Minister since 2016\\nThe United Kingdom is a unitary state under a constitutional monarchy. Queen Elizabeth II is the monarch and head of state of the UK, as well as Queen of fifteen other independent Commonwealth countries. The monarch has ',\n",
       " 'the right to be consulted, the right to encourage, and the right to warn',\n",
       " '.[179] The Constitution of the United Kingdom is uncodified and consists mostly of a collection of disparate written sources, including statutes, judge-made case law and international treaties, together with constitutional conventions.[180] As there is no technical difference between ordinary statutes and ',\n",
       " 'constitutional law',\n",
       " ', the UK Parliament can perform ',\n",
       " 'constitutional reform',\n",
       " \" simply by passing Acts of Parliament, and thus has the political power to change or abolish almost any written or unwritten element of the constitution. However, no Parliament can pass laws that future Parliaments cannot change.[181]\\n\\nGovernment\\nMain article: Government of the United Kingdom\\nThe UK has a parliamentary government based on the Westminster system that has been emulated around the world: a legacy of the British Empire. The parliament of the United Kingdom meets in the Palace of Westminster and has two houses: an elected House of Commons and an appointed House of Lords. All bills passed are given Royal Assent before becoming law.\\nThe position of prime minister,[note 13] the UK's head of government,[182] belongs to the person most likely to command the confidence of the House of Commons; this individual is typically the leader of the political party or coalition of parties that holds the largest number of seats in that chamber. The prime minister chooses a cabinet and its members are formally appointed by the monarch to form Her Majesty's Government. By convention, the monarch respects the prime minister's decisions of government.[183]\\n\\n The Palace of Westminster, seat of both houses of the Parliament of the United Kingdom\\nThe cabinet is traditionally drawn from members of the prime minister's party or coalition and mostly from the House of Commons but always from both legislative houses, the cabinet being responsible to both. Executive power is exercised by the prime minister and cabinet, all of whom are sworn into the Privy Council of the United Kingdom, and become Ministers of the Crown. The current Prime Minister is Theresa May, who has been in office since 13 July 2016. May is also the leader of the Conservative Party. For elections to the House of Commons, the UK is divided into 650 constituencies,[184] each electing a single member of parliament (MP) by simple plurality. General elections are called by the monarch when the prime minister so advises. Prior to the Fixed-term Parliaments Act 2011, the Parliament Acts 1911 and 1949 required that a new election must be called no later than five years after the previous general election.[185]\\nThe Conservative Party, the Labour Party and the Liberal Democrats (formerly as the Liberal Party) have, in modern times, been considered the UK's three major political parties,[186] representing the British traditions of conservatism, socialism and liberalism, respectively.[187] However, in both the 2015 and 2017 general elections, the Scottish National Party was the third-largest party by number of seats won, ahead of the Liberal Democrats. Most of the remaining seats were won by parties that contest elections only in one part of the UK: Plaid Cymru (Wales only); and the Democratic Unionist Party and Sinn Féin (Northern Ireland only[note 14]). In accordance with party policy, no elected Sinn Féin members of parliament have ever attended the House of Commons to speak on behalf of their constituents because of the requirement to take an oath of allegiance to the monarch.[188]\\n\\nDevolved administrations\\nMain articles: Devolution in the United Kingdom, List of leaders of devolved administrations, Northern Ireland Executive, Scottish Government, and Welsh Government\\n The Scottish Parliament Building in Holyrood is the seat of the Scottish Parliament\\nScotland, Wales and Northern Ireland each have their own government or executive, led by a First Minister (or, in the case of Northern Ireland, a diarchal First Minister and deputy First Minister), and a devolved unicameral legislature. England, the largest country of the United Kingdom, has no such devolved executive or legislature and is administered and legislated for directly by the UK's government and parliament on all issues. This situation has given rise to the so-called West Lothian question, which concerns the fact that members of parliament from Scotland, Wales and Northern Ireland can vote, sometimes decisively,[189] on matters that affect only England.[190] The 2013 McKay Commission on this recommended that laws affecting only England should need support from a majority of English members of parliament.[191]\\n\\n Prime Minister Theresa May meets First Minister of Scotland Nicola Sturgeon outside 10 Downing Street, the official residence of the British Prime Minister\\nThe Scottish Government and Parliament have wide-ranging powers over any matter that has not been specifically reserved to the UK Parliament, including education, healthcare, Scots law and local government.[192] In 2012, the UK and Scottish governments signed the Edinburgh Agreement setting out the terms for a referendum on Scottish independence in 2014, which was defeated 55.3% to 44.7%.[193]\\nThe Welsh Government and the National Assembly for Wales have more limited powers than those devolved to Scotland.[194] The Assembly is able to legislate on devolved matters through Acts of the Assembly, which require no prior consent from Westminster.\\nThe Northern Ireland Executive and Assembly have powers similar to those devolved to Scotland. The Executive is led by a diarchy representing unionist and nationalist members of the Assembly.[195] Devolution to Northern Ireland is contingent on participation by the Northern Ireland administration in the North-South Ministerial Council, where the Northern Ireland Executive cooperates and develops joint and shared policies with the Government of Ireland. The British and Irish governments co-operate on non-devolved matters affecting Northern Ireland through the British–Irish Intergovernmental Conference, which assumes the responsibilities of the Northern Ireland administration in the event of its non-operation.\\nThe UK does not have a codified constitution and constitutional matters are not among the powers devolved to Scotland, Wales or Northern Ireland. Under the doctrine of parliamentary sovereignty, the UK Parliament could, in theory, therefore, abolish the Scottish Parliament, Welsh Assembly or Northern Ireland Assembly.[196][197] Indeed, in 1972, the UK Parliament unilaterally prorogued the Parliament of Northern Ireland, setting a precedent relevant to contemporary devolved institutions.[198] In practice, it would be politically difficult for the UK Parliament to abolish devolution to the Scottish Parliament and the Welsh Assembly, given the political entrenchment created by referendum decisions.[199] The political constraints placed upon the UK Parliament's power to interfere with devolution in Northern Ireland are even greater than in relation to Scotland and Wales, given that devolution in Northern Ireland rests upon an international agreement with the Government of Ireland.[200]\\n\\nLaw and criminal justice\\nMain article: Law of the United Kingdom\\n The Royal Courts of Justice of England and Wales\\nThe United Kingdom does not have a single legal system as Article 19 of the 1706 Treaty of Union provided for the continuation of Scotland's separate legal system.[201] Today the UK has three distinct systems of law: English law, Northern Ireland law and Scots law. A new Supreme Court of the United Kingdom came into being in October 2009 to replace the Appellate Committee of the House of Lords.[202][203] The Judicial Committee of the Privy Council, including the same members as the Supreme Court, is the highest court of appeal for several independent Commonwealth countries, the British Overseas Territories and the Crown Dependencies.[204]\\nBoth English law, which applies in England and Wales, and Northern Ireland law are based on common-law principles.[205] The essence of common law is that, subject to statute, the law is developed by judges in courts, applying statute, precedent and common sense to the facts before them to give explanatory judgements of the relevant legal principles, which are reported and binding in future similar cases (stare decisis).[206] The courts of England and Wales are headed by the Senior Courts of England and Wales, consisting of the Court of Appeal, the High Court of Justice (for civil cases) and the Crown Court (for criminal cases). The Supreme Court is the highest court in the land for both criminal and civil appeal cases in England, Wales and Northern Ireland and any decision it makes is binding on every other court in the same jurisdiction, often having a persuasive effect in other jurisdictions.[207]\\n\\n The High Court of Justiciary—the supreme criminal court of Scotland\\nScots law is a hybrid system based on both common-law and civil-law principles. The chief courts are the Court of Session, for civil cases,[208] and the High Court of Justiciary, for criminal cases.[209] The Supreme Court of the United Kingdom serves as the highest court of appeal for civil cases under Scots law.[210] Sheriff courts deal with most civil and criminal cases including conducting criminal trials with a jury, known as sheriff solemn court, or with a sheriff and no jury, known as sheriff summary Court.[211] The Scots legal system is unique in having three possible verdicts for a criminal trial: \",\n",
       " 'guilty',\n",
       " ', ',\n",
       " 'not guilty',\n",
       " ' and ',\n",
       " 'not proven',\n",
       " '. Both ',\n",
       " 'not guilty',\n",
       " ' and ',\n",
       " 'not proven',\n",
       " \" result in an acquittal.[212]\\nCrime in England and Wales increased in the period between 1981 and 1995, though since that peak there has been an overall fall of 66% in recorded crime from 1995 to 2015,[213] according to crime statistics. The prison population of England and Wales has increased to 86,000, giving England and Wales the highest rate of incarceration in Western Europe at 148 per 100,000.[214][215] Her Majesty's Prison Service, which reports to the Ministry of Justice, manages most of the prisons within England and Wales. The murder rate in England and Wales has stabilised in the first half of the 2010s with a murder rate around 1 per 100,000 which is half the peak in 2002 and similar to the rate in the 1980s[216][217] Crime in Scotland fell slightly in 2014/2015 to its lowest level in 39 years in with 59 killings for a murder rate of 1.1 per 100,000. Scotland's prisons are overcrowded but the prison population is shrinking.[218]\\n\\nForeign relations\\nMain article: Foreign relations of the United Kingdom\\nThe UK is a permanent member of the United Nations Security Council, a member of NATO, the Commonwealth of Nations, the G7 finance ministers, the G7 forum (previously the G8 forum), the G20, the OECD, the WTO, the Council of Europe, the OSCE. It is also a member state of the European Union in the process of withdrawal.[219] The UK is said to have a \",\n",
       " 'Special Relationship',\n",
       " ' with the United States and a close partnership with France—the ',\n",
       " 'Entente cordiale',\n",
       " \"—and shares nuclear weapons technology with both countries—;[220][221] the Anglo-Portuguese Alliance is considered to be the oldest currently binding military alliance in the world. The UK is also closely linked with the Republic of Ireland; the two countries share a Common Travel Area and co-operate through the British-Irish Intergovernmental Conference and the British-Irish Council. Britain's global presence and influence is further amplified through its trading relations, foreign investments, official development assistance and military engagements.[222]\\n\\nMilitary\\nMain article: British Armed Forces\\n HMS\\xa0Queen Elizabeth, a Queen Elizabeth-class supercarrier on sea trials in June 2017.\\nThe armed forces of the United Kingdom—officially, Her Majesty's Armed Forces—consist of three professional service branches: the Royal Navy and Royal Marines (forming the Naval Service), the British Army and the Royal Air Force.[223] The forces are managed by the Ministry of Defence and controlled by the Defence Council, chaired by the Secretary of State for Defence. The Commander-in-Chief is the British monarch, to whom members of the forces swear an oath of allegiance.[224] The Armed Forces are charged with protecting the UK and its overseas territories, promoting the UK's global security interests and supporting international peacekeeping efforts. They are active and regular participants in NATO, including the Allied Rapid Reaction Corps, as well as the Five Power Defence Arrangements, RIMPAC and other worldwide coalition operations. Overseas garrisons and facilities are maintained in Ascension Island, Belize, Brunei, Canada, Cyprus, Diego Garcia, the Falkland Islands, Germany, Gibraltar, Kenya, Qatar and Singapore.[225][226]\\nThe British armed forces played a key role in establishing the British Empire as the dominant world power in the 18th, 19th and early 20th centuries. By emerging victorious from conflicts, Britain has often been able to decisively influence world events. Since the end of the British Empire, the UK has remained a major military power. Following the end of the Cold War, defence policy has a stated assumption that \",\n",
       " 'the most demanding operations',\n",
       " \" will be undertaken as part of a coalition.[227] UK military operations in Bosnia, Kosovo, Afghanistan, Iraq and Libya, have followed this approach. Setting aside the intervention in Sierra Leone in 2000, the last occasion on which the British military fought alone was the Falklands War of 1982.[citation needed]\\nAccording to various sources, including the Stockholm International Peace Research Institute and the International Institute for Strategic Studies, the United Kingdom has the fourth- or fifth-highest military expenditure in the world. Total defence spending amounts to 2.0% of national GDP.[228]\\n\\nEconomy\\nMain article: Economy of the United Kingdom\\nOverview\\n The Bank of England—the central bank of the United Kingdom and the model on which most modern central banks have been based\\nThe UK has a partially regulated market economy.[229] Based on market exchange rates, the UK is today the fifth-largest economy in the world and the second-largest in Europe after Germany. HM Treasury, led by the Chancellor of the Exchequer, is responsible for developing and executing the government's public finance policy and economic policy. The Bank of England is the UK's central bank and is responsible for issuing notes and coins in the nation's currency, the pound sterling. Banks in Scotland and Northern Ireland retain the right to issue their own notes, subject to retaining enough Bank of England notes in reserve to cover their issue. The pound sterling is the world's third-largest reserve currency (after the US dollar and the euro).[230] Since 1997 the Bank of England's Monetary Policy Committee, headed by the Governor of the Bank of England, has been responsible for setting interest rates at the level necessary to achieve the overall inflation target for the economy that is set by the Chancellor each year.[231]\\nThe UK service sector makes up around 79% of GDP.[232] London is one of the three \",\n",
       " 'command centres',\n",
       " \" of the global economy (alongside New York City and Tokyo),[233] it is the world's largest financial centre alongside New York,[234][235][236] and it has the largest city GDP in Europe.[237] Tourism is very important to the British economy; with over 27\\xa0million tourists arriving in 2004, the United Kingdom is ranked as the sixth major tourist destination in the world and London has the most international visitors of any city in the world.[238][239] The creative industries accounted for 7% GVA in 2005 and grew at an average of 6% per annum between 1997 and 2005.[240]\\nThe Industrial Revolution started in the UK with an initial concentration on the textile industry,[241] followed by other heavy industries such as shipbuilding, coal mining and steelmaking.[242][243] British merchants, shippers and bankers developed overwhelming advantage over those of other nations allowing the UK to dominate international trade in the 19th century.[244][245] As other nations industrialised, coupled with economic decline after two world wars, the United Kingdom began to lose its competitive advantage and heavy industry declined, by degrees, throughout the 20th century. Manufacturing remains a significant part of the economy but accounted for only 16.7% of national output in 2003.[246]\\n\\n Jaguar cars, including the Jaguar XE as shown, are designed, developed and manufactured in the UK\\nThe automotive industry is a significant part of the UK manufacturing sector and employs around 800,000 people, with a turnover in 2015 of £70 billion, generating £34.6 billion of exports (11.8% of the UK's total export goods). In 2015, the UK produced around 1.6 million passenger vehicles and 94,500 commercial vehicles. The UK is a major centre for engine manufacturing: in 2015 around 2.4 million engines were produced. The UK motorsport industry employs around 41,000 people, comprises around 4,500 companies and has an annual turnover of around £6 billion.[247]\\nThe aerospace industry of the UK is the second- or third-largest national aerospace industry in the world depending upon the method of measurement and has an annual turnover of around £30 billion.[248] The wings for the Airbus A380 and the A350 XWB are designed and manufactured at Airbus UK's Broughton facility, whilst over a quarter of the value of the Boeing 787 comes from UK manufacturers including Eaton, Messier-Bugatti-Dowty and Rolls-Royce.[citation needed]\\n\\n Engines and wings for the Airbus A380 are manufactured in the UK\\nBAE Systems plays a critical role in some of the world's biggest defence aerospace projects. In the UK, the company makes large sections of the Typhoon Eurofighter and assembles the aircraft for the Royal Air Force. It is also a principal subcontractor on the F35 Joint Strike Fighter—the world's largest single defence project—for which it designs and manufactures a range of components. It also manufactures the Hawk, the world's most successful jet training aircraft.[249] Airbus UK also manufactures the wings for the A400\\xa0m military transporter. Rolls-Royce is the world's second-largest aero-engine manufacturer. Its engines power more than 30 types of commercial aircraft and it has more than 30,000 engines in service in the civil and defence sectors.\\nThe UK space industry was worth £9.1bn in 2011 and employed 29,000 people. It is growing at a rate of 7.5% annually, according to its umbrella organisation, the UK Space Agency. In 2013, the British Government pledged £60\\xa0m to the Skylon project: this investment will provide support at a \",\n",
       " 'crucial stage',\n",
       " \" to allow a full-scale prototype of the SABRE engine to be built.\\nThe pharmaceutical industry plays an important role in the UK economy and the country has the third-highest share of global pharmaceutical R&D expenditures.[250][251]\\nAgriculture is intensive, highly mechanised and efficient by European standards, producing about 60% of food needs with less than 1.6% of the labour force (535,000 workers).[252] Around two-thirds of production is devoted to livestock, one-third to arable crops. Farmers are subsidised by the EU's Common Agricultural Policy. The UK retains a significant, though much reduced fishing industry. It is also rich in a number of natural resources including coal, petroleum, natural gas, tin, limestone, iron ore, salt, clay, chalk, gypsum, lead, silica and an abundance of arable land.[253]\\n\\nThe City of London is one of the world's largest financial centres[234][235][236]The Canary Wharf is one of the two main financial centres of the UK along with the City of London\\nIn the final quarter of 2008, the UK economy officially entered recession for the first time since 1991.[254] Following the likes of the United States, France and many major economies, in 2013, the UK lost its top AAA credit rating for the first time since 1978 with Moodys and Fitch credit agency, but, unlike the other major economies, retained its triple A rating with Standard & Poor's.[255][256] By the end of 2014, UK growth was the fastest in both the G7 and in Europe,[257][258] and by September 2015, the unemployment rate was down to a seven-year low of 5.3%.[259]\\nSince the 1980s, UK economic inequality, like Canada, Australia and the United States, has grown faster than in other developed countries.[260][261] The poverty line in the UK is commonly defined as being 60% of the median household income.[note 15] The Office for National Statistics has estimated that in 2011, 14 million people were at risk of poverty or social exclusion, and that one person in 20 (5.1%) was experiencing \",\n",
       " 'severe material depression',\n",
       " \",[262] up from 3 million people in 1977.[263][264]\\nThe UK has an external debt of $9.6 trillion dollars, which is the second highest in the world after the US. As a percentage of GDP, external debt is 408%, which is the third highest in the world after Luxembourg and Iceland.[265][266][267][268][269]\\nThe combination of the UK's relatively lax regulatory regime and London's financial institutions providing sophisticated methods to launder proceeds from criminal activity around the world, including those from drug trade, makes the City of London a global hub for illicit finance and the UK a safe haven for the world's major-league tax dodgers, according to research papers and reports published in the mid-2010s.[270][271][272][273][274] The reports on the Panama papers published in April 2016 singled out the UK as being \",\n",
       " 'at the heart of super-rich tax-avoidance network.',\n",
       " \"[275]\\n\\nScience and technology\\nMain article: Science and technology in the United Kingdom\\n Charles Darwin (1809–1882), whose theory of evolution by natural selection is the foundation of modern biological sciences\\nEngland and Scotland were leading centres of the Scientific Revolution from the 17th century.[276] The United Kingdom led the Industrial Revolution from the 18th century,[241] and has continued to produce scientists and engineers credited with important advances.[277] Major theorists from the 17th and 18th centuries include Isaac Newton, whose laws of motion and illumination of gravity have been seen as a keystone of modern science;[278] from the 19th century Charles Darwin, whose theory of evolution by natural selection was fundamental to the development of modern biology, and James Clerk Maxwell, who formulated classical electromagnetic theory; and more recently Stephen Hawking, who has advanced major theories in the fields of cosmology, quantum gravity and the investigation of black holes.[279]\\nMajor scientific discoveries from the 18th century include hydrogen by Henry Cavendish;[280] from the 20th century penicillin by Alexander Fleming,[281] and the structure of DNA, by Francis Crick and others.[282] Famous British engineers and inventors of the Industrial Revolution include James Watt, George Stephenson, Richard Arkwright, Robert Stephenson and Isambard Kingdom Brunel.[283] Other major engineering projects and applications by people from the UK include the steam locomotive, developed by Richard Trevithick and Andrew Vivian;[284] from the 19th century the electric motor by Michael Faraday, the incandescent light bulb by Joseph Swan,[285] and the first practical telephone, patented by Alexander Graham Bell;[286] and in the 20th century the world's first working television system by John Logie Baird and others,[287] the jet engine by Frank Whittle, the basis of the modern computer by Alan Turing, and the World Wide Web by Tim Berners-Lee.[288]\\nScientific research and development remains important in British universities, with many establishing science parks to facilitate production and co-operation with industry.[289] Between 2004 and 2008 the UK produced 7% of the world's scientific research papers and had an 8% share of scientific citations, the third and second highest in the world (after the United States and China, respectively).[290] Scientific journals produced in the UK include Nature, the British Medical Journal and The Lancet.[291]\\n\\nTransport\\nMain article: Transport in the United Kingdom\\n Heathrow Terminal 5 building. London Heathrow Airport is one of the busiest airports by international passenger traffic worldwide[292][293]\\nA radial road network totals 29,145 miles (46,904\\xa0km) of main roads, 2,173 miles (3,497\\xa0km) of motorways and 213,750 miles (344,000\\xa0km) of paved roads.[141] The M25, encircling London, is the largest and busiest bypass in the world.[294] In 2009 there were a total of 34\\xa0million licensed vehicles in Great Britain.[295]\\n\\n London St Pancras International is the UK's 13th busiest railway terminus. The station is one of London's main domestic and international transport hubs providing both commuter rail and high speed rail services across the UK and to Paris, Lille and Brussels\\nThe UK has a railway network of 10,072 miles (16,209\\xa0km) in Great Britain and 189 miles (304\\xa0km) in Northern Ireland. Railways in Northern Ireland are operated by NI Railways, a subsidiary of state-owned Translink. In Great Britain, the British Rail network was privatised between 1994 and 1997, which was followed by a rapid rise in passenger numbers following years of decline, although the factors behind this are disputed. Network Rail owns and manages most of the fixed assets (tracks, signals etc.). About 20 privately owned Train Operating Companies operate passenger trains, which carried 1.68 billion passengers in 2015.[296][297] There are also some 1,000 freight trains in daily operation.[when?][141] The British Government is to spend £30 billion on a new high-speed railway line, HS2, to be operational by 2026.[298] Crossrail, under construction in London, is Europe's largest construction project with a £15 billion projected cost.[299][300]\\nIn the year from October 2009 to September 2010 UK airports handled a total of 211.4\\xa0million passengers.[301] In that period the three largest airports were London Heathrow Airport (65.6\\xa0million passengers), Gatwick Airport (31.5\\xa0million passengers) and London Stansted Airport (18.9\\xa0million passengers).[301] London Heathrow Airport, located 15 miles (24\\xa0km) west of the capital, has the most international passenger traffic of any airport in the world[292][293] and is the hub for the UK flag carrier British Airways, as well as Virgin Atlantic.[302]\\n\\nEnergy\\nMain article: Energy in the United Kingdom\\n An oil platform in the North Sea\\nIn 2006, the UK was the world's ninth-largest consumer of energy and the 15th-largest producer.[303] The UK is home to a number of large energy companies, including two of the six oil and gas \",\n",
       " 'supermajors',\n",
       " \"—BP and Royal Dutch Shell.[304][305] In 2011, 40% of the UK's electricity was produced by gas, 30% by coal, 19% by nuclear power and 4.2% by wind, hydro, biofuels and wastes.[306]\\nIn 2013, the UK produced 914\\xa0thousand barrels per day (bbl/d) of oil and consumed 1,507\\xa0thousand bbl/d.[307][308] Production is now in decline and the UK has been a net importer of oil since 2005.[309] In 2010[update] the UK had around 3.1\\xa0billion barrels of proven crude oil reserves, the largest of any EU member state.[309]\\nIn 2009, the UK was the 13th-largest producer of natural gas in the world and the largest producer in the EU.[310] Production is now in decline and the UK has been a net importer of natural gas since 2004.[310]\\nCoal production played a key role in the UK economy in the 19th and 20th centuries. In the mid-1970s, 130 million tonnes of coal were produced annually, not falling below 100 million tonnes until the early 1980s. During the 1980s and 1990s the industry was scaled back considerably. In 2011, the UK produced 18.3 million tonnes of coal.[311] In 2005 it had proven recoverable coal reserves of 171\\xa0million tons.[311] The UK Coal Authority has stated there is a potential to produce between 7\\xa0billion tonnes and 16\\xa0billion tonnes of coal through underground coal gasification (UCG) or 'fracking',[312] and that, based on current UK coal consumption, such reserves could last between 200 and 400 years.[313] However, environmental and social concerns have been raised over chemicals getting into the water table and minor earthquakes damaging homes.[314][315]\\nIn the late 1990s, nuclear power plants contributed around 25% of total annual electricity generation in the UK, but this has gradually declined as old plants have been shut down and ageing-related problems affect plant availability. In 2012, the UK had 16 reactors normally generating about 19% of its electricity. All but one of the reactors will be retired by 2023. Unlike Germany and Japan, the UK intends to build a new generation of nuclear plants from about 2018.[306]\\nThe total of all renewable electricity sources provided for 14.9% of the electricity generated in the United Kingdom in 2013,[316] reaching 53.7 TWh of electricity generated. The UK is one of the best sites in Europe for wind energy, and wind power production is its fastest growing supply, in 2014 it generated 9.3% of the UK's total electricity.[317][318][319]\\n\\nWater supply and sanitation\\nMain article: Water supply and sanitation in the United Kingdom\\nAccess to improved water supply and sanitation in the UK is universal. It is estimated that 96.7% of households are connected to the sewer network.[320] According to the Environment Agency, total water abstraction for public water supply in the UK was 16,406 megalitres per day in 2007.[321] Drinking water standards and wastewater discharge standards in the UK, as in other countries of the European Union, are determined by the EU (see Water supply and sanitation in the European Union).[citation needed]\\nIn England and Wales water and sewerage services are provided by 10 private regional water and sewerage companies and 13 mostly smaller private \",\n",
       " 'water only',\n",
       " \" companies. In Scotland water and sewerage services are provided by a single public company, Scottish Water. In Northern Ireland water and sewerage services are also provided by a single public entity, Northern Ireland Water.[citation needed]\\n\\nDemographics\\nMain article: Demography of the United Kingdom\\n Map of population density in the UK as at the 2011 census\\nA census is taken simultaneously in all parts of the UK every ten years.[322] In the 2011 census the total population of the United Kingdom was 63,181,775.[323] It is the third-largest in the European Union, the fifth-largest in the Commonwealth and the 22nd-largest in the world. In mid-2014 and mid-2015 net long-term international migration contributed more to population growth. In mid-2012 and mid-2013 natural change contributed the most to population growth.[324] Between 2001 and 2011 the population increased by an average annual rate of approximately 0.7%.[323] This compares to 0.3% per year in the period 1991 to 2001 and 0.2% in the decade 1981 to 1991.[325] The 2011 census also confirmed that the proportion of the population aged 0–14 has nearly halved (31% in 1911 compared to 18 in 2011) and the proportion of older people aged 65 and over has more than tripled (from 5 to 16%).[323]\\nEngland's population in 2011 was 53 million.[326] It is one of the most densely populated countries in the world, with 420\\xa0people resident per square kilometre in mid-2015.[324] with a particular concentration in London and the south-east.[327] The 2011 census put Scotland's population at 5.3 million,[328] Wales at 3.06 million and Northern Ireland at 1.81 million.[326]\\nIn 2012 the average total fertility rate (TFR) across the UK was 1.92 children per woman.[329] While a rising birth rate is contributing to current population growth, it remains considerably below the 'baby boom' peak of 2.95 children per woman in 1964,[330] below the replacement rate of 2.1, but higher than the 2001 record low of 1.63.[329] In 2011, 47.3% of births in the UK were to unmarried women.[331] The Office for National Statistics published a bulletin in 2015 showing that, out of the UK population aged 16 and over, 1.7% identify as lesbian, gay, or bisexual (2.0% of males and 1.5% of females). 4.5% of respondents responded with \",\n",
       " 'other',\n",
       " ', ',\n",
       " \"I don't know\",\n",
       " \", or did not respond.[332]\\n\\n\\n\\n\\nvte Largest urban areas of the United Kingdom(England and Wales: 2011 census built-up area;[333] Scotland: 2012 estimates urban area;[334] Northern Ireland: 2001 census urban area)[335]\\n\\n\\n\\n\\nRank\\n\\nUrban area\\n\\n Pop.\\n\\nPrincipal settlement\\n\\nRank\\n\\nUrban area\\n\\n Pop.\\n\\nPrincipal settlement\\n\\n\\n\\n\\nGreater London Urban Area\\nGreater Manchester Urban Area\\n\\n\\n1\\nGreater London Urban Area\\n9,787,426\\nLondon\\n11\\nBristol Urban Area\\n617,280\\nBristol\\n\\nWest Midlands Urban Area\\nWest Yorkshire Urban Area\\n\\n\\n\\n2\\nGreater Manchester Urban Area\\n2,553,379\\nManchester\\n12\\nLeicester Urban Area\\n508,916\\nLeicester\\n\\n\\n3\\nWest Midlands Urban Area\\n2,440,986\\nBirmingham\\n13\\nEdinburgh Urban Area\\n488,610\\nEdinburgh\\n\\n\\n4\\nWest Yorkshire Urban Area\\n1,777,934\\nLeeds\\n14\\nBelfast Urban Area\\n483,418\\nBelfast\\n\\n\\n5\\nGreater Glasgow\\n1,199,629\\nGlasgow\\n15\\nBrighton and Hove built-up area\\n474,485\\nBrighton\\n\\n\\n6\\nLiverpool Urban Area\\n864,122\\nLiverpool\\n16\\nSouth East Dorset conurbation\\n466,266\\nBournemouth\\n\\n\\n7\\nSouth Hampshire\\n855,569\\nSouthampton\\n17\\nCardiff Urban Area\\n390,214\\nCardiff\\n\\n\\n8\\nTyneside\\n774,891\\nNewcastle\\n18\\nTeesside\\n376,633\\nMiddlesbrough\\n\\n\\n9\\nNottingham Urban Area\\n729,977\\nNottingham\\n19\\nThe Potteries Urban Area\\n372,775\\nStoke-on-Trent\\n\\n\\n10\\nSheffield Urban Area\\n685,368\\nSheffield\\n20\\nCoventry and Bedworth Urban Area\\n359,262\\nCoventry\\n\\n\\n\\nEthnic groups\\nMain article: Ethnic groups in the United Kingdom\\n Map showing the percentage of the population who are not white according to the 2011 census.\\nHistorically, indigenous British people were thought to be descended from the various ethnic groups that settled there before the 12th century: the Celts, Romans, Anglo-Saxons, Norse and the Normans. Welsh people could be the oldest ethnic group in the UK.[336] A 2006 genetic study shows that more than 50% of England's gene pool contains Germanic Y chromosomes.[337] Another 2005 genetic analysis indicates that \",\n",
       " 'about 75% of the traceable ancestors of the modern British population had arrived in the British isles by about 6,200 years ago, at the start of the British Neolithic or Stone Age',\n",
       " \", and that the British broadly share a common ancestry with the Basque people.[338][339][340]\\nThe UK has a history of small-scale non-white immigration, with Liverpool having the oldest Black population in the country dating back to at least the 1730s during the period of the African slave trade. During this period it is estimated the Afro-Caribbean population of Great Britain was 10,000 to 15,000[341] which later declined due to the abolition of slavery.[342][343] The UK also has the oldest Chinese community in Europe, dating to the arrival of Chinese seamen in the 19th century.[344] In 1950 there were probably fewer than 20,000 non-white residents in Britain, almost all born overseas.[345] In 1951 there were an estimated 94,500 people living in Britain who had been born in South Asia, China, Africa and the Caribbean, just under 0.2% of the UK population. By 1961 this number had more than quadrupled to 384,000, just over 0.7% of the United Kingdom population.[346]\\nSince 1948 substantial immigration from Africa, the Caribbean and South Asia has been a legacy of ties forged by the British Empire.[347] Migration from new EU member states in Central and Eastern Europe since 2004 has resulted in growth in these population groups, although some of this migration has been temporary.[348] Since the 1990s, there has been substantial diversification of the immigrant population, with migrants to the UK coming from a much wider range of countries than previous waves, which tended to involve larger numbers of migrants coming from a relatively small number of countries.[349][350][351]\\nAcademics have argued that the ethnicity categories employed in British national statistics, which were first introduced in the 1991 census, involve confusion between the concepts of ethnicity and race.[352][353] In 2011[update], 87.2% of the UK population identified themselves as white, meaning 12.8% of the UK population identify themselves as of one of number of ethnic minority groups.[354] In the 2001 census, this figure was 7.9% of the UK population.[355]\\nBecause of differences in the wording of the census forms used in England and Wales, Scotland and Northern Ireland, data on the Other White group is not available for the UK as a whole, but in England and Wales this was the fastest growing group between the 2001 and 2011 censuses, increasing by 1.1 million (1.8 percentage points).[356] Amongst groups for which comparable data is available for all parts of the UK level, the Other Asian category increased from 0.4 to 1.4% of the population between 2001 and 2011, while the Mixed category rose from 1.2% to 2%.[354]\\nEthnic diversity varies significantly across the UK. 30.4% of London's population and 37.4% of Leicester's was estimated to be non-white in 2005[update],[357][358] whereas less than 5% of the populations of North East England, Wales and the South West were from ethnic minorities, according to the 2001 census.[359] In 2016[update], 31.4% of primary and 27.9% of secondary pupils at state schools in England were members of an ethnic minority.[360] The 1991 census was the first UK census to have a question on ethnic group. In the 1991 UK census 94.1% of people reported themselves as being White British, White Irish or White Other with 5.9% of people reporting themselves as coming from other minority groups[361]\\n\\n\\n\\nEthnic group\\n\\nPopulation (absolute)\\n\\nPopulation (%)\\n\\n\\n2001[362]\\n\\n2011\\n\\n2011[354]\\n\\n\\nWhite\\n54,153,898\\n(92.14%)\\n\\n\\n55,010,359\\n(87.1%)\\n\\n\\n087.1\\xa0%\\n\\n\\nWhite: Gypsy / Traveller /Irish Traveller[note 16]\\n—\\n63,193\\n000.1\\xa0%\\n\\n\\nAsian /Asian British\\nIndian\\n1,053,411\\n1,451,862\\n002.3\\xa0%\\n\\n\\nPakistani\\n747,285\\n1,174,983\\n001.9\\xa0%\\n\\n\\nBangladeshi\\n283,063\\n451,529\\n000.7\\xa0%\\n\\n\\nChinese\\n247,403\\n433,150\\n000.7\\xa0%\\n\\n\\nother Asian\\n247,664\\n861,815\\n001.4\\xa0%\\n\\n\\nBlack / African / Caribbean /Black British\\n1,148,738\\xa0\\n1,904,684[note 17]\\n003.0\\xa0%\\xa0\\n\\n\\nmixed / multiple ethnic groups\\n677,117\\n1,250,229\\n002.0\\xa0%\\n\\n\\nother ethnic group\\n230,615\\n580,374\\n000.9\\xa0%\\n\\n\\nTotal\\n58,789,194\\n63,182,178\\n100.0\\xa0%\\n\\nLanguages\\nMain article: Languages of the United Kingdom\\n The English-speaking world. States and territories in dark blue have a majority of native speakers, while those where English is an official but not a majority language are shaded in light blue. English is also one of the official languages of the European Union[365] and the United Nations.[366]\\nThe UK's de facto official language is English.[367][368] It is estimated that 95% of the UK's population are monolingual English speakers.[369] 5.5% of the population are estimated to speak languages brought to the UK as a result of relatively recent immigration.[369] South Asian languages, including Punjabi, Hindi, Bengali and Gujarati, are the largest grouping and are spoken by 2.7% of the UK population.[369] According to the 2011 census, Polish has become the second-largest language spoken in England and has 546,000 speakers.[370]\\nFour Celtic languages are spoken in the UK: Welsh, Irish, Scottish Gaelic and Cornish. All are recognised as regional or minority languages, subject to specific measures of protection and promotion under the European Charter for Regional or Minority Languages[2][371] and the Framework Convention for the Protection of National Minorities.[372] In the 2001 Census over a fifth (21%) of the population of Wales said they could speak Welsh,[373] an increase from the 1991 Census (18%).[374] In addition it is estimated that about 200,000 Welsh speakers live in England.[375] In the same census in Northern Ireland 167,487 people (10.4%) stated that they had \",\n",
       " 'some knowledge of Irish',\n",
       " \" (see Irish language in Northern Ireland), almost exclusively in the nationalist (mainly Catholic) population. Over 92,000 people in Scotland (just under 2% of the population) had some Gaelic language ability, including 72% of those living in the Outer Hebrides.[376] The number of schoolchildren being taught through Welsh, Scottish Gaelic and Irish is increasing.[377] Among emigrant-descended populations some Scottish Gaelic is still spoken in Canada (principally Nova Scotia and Cape Breton Island),[378] and Welsh in Patagonia, Argentina.[379]\\nScots, a language descended from early northern Middle English, has limited recognition alongside its regional variant, Ulster Scots in Northern Ireland, without specific commitments to protection and promotion.[2][380]\\nIt is compulsory for pupils to study a second language up to the age of 14 in England.[381] French and German are the two most commonly taught second languages in England and Scotland. All pupils in Wales are taught Welsh as a second language up to age 16, or are taught in Welsh.[382]\\n\\nReligion\\nMain article: Religion in the United Kingdom\\n Westminster Abbey is used for the coronation of British monarchs\\nForms of Christianity have dominated religious life in what is now the United Kingdom for over 1400 years.[383] Although a majority of citizens still identify with Christianity in many surveys, regular church attendance has fallen dramatically since the middle of the 20th century,[384] while immigration and demographic change have contributed to the growth of other faiths, most notably Islam.[385] This has led some commentators to variously describe the UK as a multi-faith,[386] secularised,[387] or post-Christian society.[388]\\n\\n BAPS Shri Swaminarayan Mandir in London, United Kingdom is the largest Hindu temple in the United Kingdom.\\nIn the 2001 census 71.6% of all respondents indicated that they were Christians, with the next largest faiths being Islam (2.8%), Hinduism (1.0%), Sikhism (0.6%), Judaism (0.5%), Buddhism (0.3%) and all other religions (0.3%).[389] 15% of respondents stated that they had no religion, with a further 7% not stating a religious preference.[390] A Tearfund survey in 2007 showed only one in ten Britons actually attend church weekly.[391] Between the 2001 and 2011 census there was a decrease in the number of people who identified as Christian by 12%, whilst the percentage of those reporting no religious affiliation doubled. This contrasted with growth in the other main religious group categories, with the number of Muslims increasing by the most substantial margin to a total of about 5%.[7] The Muslim population has increased from 1.6 million in 2001 to 2.7 million in 2011,[392] making it the second-largest religious group in the United Kingdom.[393]\\nIn a 2016 survey conducted by BSA (British Social Attitudes) on religious affiliation; 53% of respondents indicated 'no religion', while 41% indicated they were Christians, followed by 6% who affiliated with other religions (e.g. Islam, Hinduism, Judaism, etc.).[394] Among Christians, adherents to the Church of England constituted 15%, Roman Catholic Church – 9%, other Christians (including Presbyterians, Methodists, other Protestants, as well as Eastern Orthodox) – 17%.[394] 71% of young people aged 18–24 said they had no religion.[394]\\nThe Church of England is the established church in England.[395] It retains a representation in the UK Parliament and the British monarch is its Supreme Governor.[396] In Scotland, the Church of Scotland is recognised as the national church. It is not subject to state control, and the British monarch is an ordinary member, required to swear an oath to \",\n",
       " 'maintain and preserve the Protestant Religion and Presbyterian Church Government',\n",
       " \" upon his or her accession.[397][398] The Church in Wales was disestablished in 1920 and, as the Church of Ireland was disestablished in 1870 before the partition of Ireland, there is no established church in Northern Ireland.[399] Although there are no UK-wide data in the 2001 census on adherence to individual Christian denominations, it has been estimated that 62% of Christians are Anglican, 13.5% Catholic, 6% Presbyterian, 3.4% Methodist with small numbers of other Protestant denominations such as Plymouth Brethren, and Orthodox churches.[400]\\n\\nMigration\\nMain article: Modern immigration to the United Kingdom\\nSee also: Foreign-born population of the United Kingdom\\n Estimated foreign-born population by country of birth from April 2007\\xa0to March 2008\\nThe United Kingdom has experienced successive waves of migration. The Great Famine in Ireland, then part of the United Kingdom, resulted in perhaps a million people migrating to Great Britain.[401] Throughout the 19th century a small population of German immigrants built up, numbering 28,644 in England and Wales in 1861. London held around half of this population, and other small communities existed in Manchester, Bradford and elsewhere. The German immigrant community was the largest group until 1891, when it became second to Russian Jews.[402] England has had small Jewish communities for many centuries, subject to occasional expulsions, but British Jews numbered fewer than 10,000 at the start of the 19th century. After 1881 Russian Jews suffered bitter persecutions, and, out of some 2,000,000 who left Russia by 1914, around 120,000 settled permanently in Britain, overtaking the Germans to be the largest ethnic minority from outside the British Isles.[403][404] The population had increased to 370,000 by 1938.[405][406][407] Unable to return to Poland at the end of the Second World War, over 120,000 Polish veterans remained in the UK permanently.[408] After the Second World War, there was significant immigration from the colonies and newly independent former colonies, many from the Caribbean and Indian subcontinent, partly as a legacy of empire and partly driven by labour shortages.[409] In 1841, 0.25% of the population of England and Wales was born in a foreign country. In 1901, 1.5% of the population was foreign born.[410] By 1931, this figure had risen to 2.6%, and by 1951 it was 4.4%.[411]\\nIn 2014 the net increase was 318,000: immigration was 641,000, up from 526,000 in 2013, while the number of people emigrating (for more than 12 months) was 323,000.[412] One of the more recent trends in migration has been the arrival of workers from the new EU member states in Eastern Europe, known as the A8 countries.[348] Citizens of the European Union, including those of the UK, have the right to live and work in any EU member state.[413] The UK applied temporary restrictions to citizens of Romania and Bulgaria, which joined the EU in January 2007.[414] Research conducted by the Migration Policy Institute for the Equality and Human Rights Commission suggests that, between May 2004 and September 2009, 1.5\\xa0million workers migrated from the new EU member states to the UK, two-thirds of them Polish, but that many subsequently returned home, resulting in a net increase in the number of nationals of the new member states in the UK of some 700,000 over that period.[415][416] The late-2000s recession in the UK reduced the economic incentive for Poles to migrate to the UK,[417] the migration becoming temporary and circular.[418] In 2009, for the first time since enlargement, more nationals of the eight central and eastern European states that had joined the EU in 2004 left the UK than arrived.[419] In 2011, citizens of the new EU member states made up 13% of the immigrants entering the country.[420] In 2010, there were 7.0 million foreign-born residents in the UK, corresponding to 11.3% of the total population. Of these, 4.76 million (7.7%) were born outside the EU and 2.24 million (3.6%) were born in another EU Member State.[421] The proportion of foreign-born people in the UK remains slightly below that of many other European countries.[422]\\nImmigration is now contributing to a rising population[423] with arrivals and UK-born children of migrants accounting for about half of the population increase between 1991 and 2001. Over a quarter (27.0%) of live births in 2014 were to mothers born outside the UK, according to official statistics released in 2015.[424] Analysis of Office for National Statistics (ONS) data shows that a net total of 2.3\\xa0million migrants moved to the UK in the 15 years from 1991 to 2006.[425] The ONS reported that net migration rose from 2009 to 2010 by 21% to 239,000.[426]\\nIn 2013, approximately 208,000 foreign nationals were naturalised as British citizens, the highest number since records began in 1962. This figure fell to around 125,800 in 2014. Between 2009 and 2013, the average number of people granted British citizenship per year was 195,800. The main countries of previous nationality of those naturalised in 2014 were India, Pakistan, the Philippines, Nigeria, Bangladesh, Nepal, China, South Africa, Poland and Somalia.[427] The total number of grants of settlement, which confers permanent residence in the UK without granting British citizenship,[428] was approximately 154,700 in 2013, compared to 241,200 in 2010 and 129,800 in 2012.[427]\\n\\n\\n\\nYear\\n\\nForeign born population of England and Wales\\n\\nTotal population[411][429][430][431][432][433]\\n\\nIrish born population\\n\\nPercentage of total population that was born abroad\\n\\n\\n1851\\n\\n100,000\\n\\n17,900,000\\n\\n520,000\\n\\n0.6\\n\\n\\n1861\\n\\n150,000\\n\\n20,100,000\\n\\n600,000\\n\\n0.7\\n\\n\\n1871\\n\\n200,000\\n\\n22,700,000\\n\\n565,000\\n\\n0.9\\n\\n\\n1881\\n\\n275,000\\n\\n26,000,000\\n\\n560,000\\n\\n1.1\\n\\n\\n1891\\n\\n350,000\\n\\n29,000,000\\n\\n460,000\\n\\n1.2\\n\\n\\n1901\\n\\n475,000\\n\\n32,500,000\\n\\n425,000\\n\\n1.5\\n\\n\\n1911\\n\\n900,000\\n\\n32,500,000\\n\\n375,000\\n\\n2.5\\n\\n\\n1921\\n\\n750,000\\n\\n37,900,000\\n\\n365,000\\n\\n2\\n\\n\\n1931\\n\\n1,080,000\\n\\n40,000,000\\n\\n380,000\\n\\n2.7\\n\\n\\n1951\\n\\n1,875,000\\n\\n43,700,000\\n\\n470,000\\n\\n4.3\\n\\n\\n1961\\n\\n2,290,000\\n\\n46,000,000\\n\\n645,000\\n\\n5.0\\n\\n\\n1971\\n\\n3,100,000\\n\\n48,700,000\\n\\n585,000\\n\\n6.4\\n\\n\\n1981\\n\\n3,220,000\\n\\n48,500,000\\n\\n580,000\\n\\n6.6\\n\\n\\n1991\\n\\n3,625,000\\n\\n49,900,000\\n\\n570,000\\n\\n7.3\\n\\n\\n2001\\n\\n4,600,000\\n\\n52,500,000\\n\\n475,000\\n\\n8.8\\n\\n\\n2011\\n\\n7,500,000\\n\\n56,000,000\\n\\n400,000\\n\\n13.4\\n\\n Estimated number of British citizens living overseas by country in 2006\\nThe British Government has introduced a points-based immigration system for immigration from outside the European Economic Area to replace former schemes, including the Scottish Government's Fresh Talent Initiative.[434] In June 2010 the government introduced a temporary limit of 24,000 on immigration from outside the EU, aiming to discourage applications before a permanent cap was imposed in April 2011.[435]\\nEmigration was an important feature of British society in the 19th century. Between 1815 and 1930 around 11.4\\xa0million people emigrated from Britain and 7.3\\xa0million from Ireland. Estimates show that by the end of the 20th century some 300\\xa0million people of British and Irish descent were permanently settled around the globe.[436] Today, at least 5.5\\xa0million UK-born people live abroad,[437][438][439] mainly in Australia, Spain, the United States and Canada.[437][440]\\n\\nEducation\\nMain article: Education in the United Kingdom\\nEducation in the United Kingdom is a devolved matter, with each country having a separate education system.\\nConsidering the four systems together, about 38 percent of the United Kingdom population has a university or college degree, which is the highest percentage in Europe, and among the highest percentages in the world.[441][442] The United Kingdom trails only the United States in terms of representation on lists of top 100 universities.[443][444][445][446]\\nA government commission's report in 2014 found that privately educated people comprise 7% of the general population of the UK but much larger percentages of the top professions, the most extreme case quoted being 71% of senior judges.[447][448]\\nEngland\\n\\nMain article: Education in England\\n Christ Church, Oxford is part of the University of Oxford, which traces its foundations back to c. 1096\\nWhilst education in England is the responsibility of the Secretary of State for Education, the day-to-day administration and funding of state schools is the responsibility of local authorities.[449] Universally free of charge state education was introduced piecemeal between 1870 and 1944.[450][451] Education is now mandatory from ages five to sixteen, and in England youngsters must stay in education or training until they are 18.[452] In 2011, the Trends in International Mathematics and Science Study (TIMSS) rated 13–14-year-old pupils in England and Wales 10th in the world for maths and 9th for science.[453] The majority of children are educated in state-sector schools, a small proportion of which select on the grounds of academic ability. Two of the top ten performing schools in terms of GCSE results in 2006 were state-run grammar schools. In 2010, over half of places at the University of Oxford and the University of Cambridge were taken by students from state schools,[454] while the proportion of children in England attending private schools is around 7% which rises to 18% of those over 16.[455][456] England has the two oldest universities in English-speaking world, Universities of Oxford and Cambridge (jointly known as \",\n",
       " 'Oxbridge',\n",
       " \") with history of over eight centuries.[citation needed]\\nSince the establishment of Bedford College (London), Girton College (Cambridge) and Somerville College (Oxford) in the 19th century, women also can obtain a university degree.[citation needed]\\n\\n King's College (right) and Clare College (left), both part of the University of Cambridge, which was founded in 1209\\nScotland\\n\\nMain article: Education in Scotland\\nEducation in Scotland is the responsibility of the Cabinet Secretary for Education and Lifelong Learning, with day-to-day administration and funding of state schools the responsibility of Local Authorities. Two non-departmental public bodies have key roles in Scottish education. The Scottish Qualifications Authority is responsible for the development, accreditation, assessment and certification of qualifications other than degrees which are delivered at secondary schools, post-secondary colleges of further education and other centres.[457] Learning and Teaching Scotland provides advice, resources and staff development to education professionals.[458] Scotland first legislated for compulsory education in 1496.[459] The proportion of children in Scotland attending private schools is just over 4% in 2016, but it has been falling slowly in recent years.[460] Scottish students who attend Scottish universities pay neither tuition fees nor graduate endowment charges, as fees were abolished in 2001 and the graduate endowment scheme was abolished in 2008.[461]\\nWales\\n\\nMain article: Education in Wales\\nThe Welsh Government has responsibility for education in Wales. A significant number of Welsh students are taught either wholly or largely in the Welsh language; lessons in Welsh are compulsory for all until the age of 16.[462] There are plans to increase the provision of Welsh-medium schools as part of the policy of creating a fully bilingual Wales.[citation needed]\\nNorthern Ireland\\n\\nMain article: Education in Northern Ireland\\nEducation in Northern Ireland is the responsibility of the Minister of Education, although responsibility at a local level is administered by the Education Authority which is further sub-divided into five geographical areas. The Council for the Curriculum, Examinations & Assessment (CCEA) is the body responsible for advising the government on what should be taught in Northern Ireland's schools, monitoring standards and awarding qualifications.[463]\\n\\nHealthcare\\nMain article: Healthcare in the United Kingdom\\n The Royal Aberdeen Children's Hospital, an NHS Scotland specialist children's hospital\\nHealthcare in the United Kingdom is a devolved matter and each country has its own system of private and publicly funded health care, together with alternative, holistic and complementary treatments. Public healthcare is provided to all UK permanent residents and is mostly free at the point of need, being paid for from general taxation. The World Health Organization, in 2000, ranked the provision of healthcare in the United Kingdom as fifteenth best in Europe and eighteenth in the world.[464][465] Since 1979 expenditure on healthcare has been increased significantly to bring it closer to the European Union average.[466] The UK spends around 8.4% of its gross domestic product on healthcare, which is 0.5 percentage points below the Organisation for Economic Co-operation and Development average and about one percentage point below the average of the European Union.[467]\\nRegulatory bodies are organised on a UK-wide basis such as the General Medical Council, the Nursing and Midwifery Council and non-governmental-based, such as the Royal Colleges. However, political and operational responsibility for healthcare lies with four national executives; healthcare in England is the responsibility of the UK Government; healthcare in Northern Ireland is the responsibility of the Northern Ireland Executive; healthcare in Scotland is the responsibility of the Scottish Government; and healthcare in Wales is the responsibility of the Welsh Government. Each National Health Service has different policies and priorities, resulting in contrasts.[468][469]\\n\\nCulture\\nMain article: Culture of the United Kingdom\\nThe culture of the United Kingdom has been influenced by many factors including: the nation's island status; its history as a western liberal democracy and a major power; as well as being a political union of four countries with each preserving elements of distinctive traditions, customs and symbolism. As a result of the British Empire, British influence can be observed in the language, culture and legal systems of many of its former colonies including Australia, Canada, India, Ireland, New Zealand, Pakistan, South Africa and the United States. The substantial cultural influence of the United Kingdom has led it to be described as a \",\n",
       " 'cultural superpower',\n",
       " \".[123][124] A global opinion poll for the BBC saw the United Kingdom ranked the third most positively viewed nation in the world (behind Germany and Canada) in 2013 and 2014.[470][471]\\n\\nLiterature\\nMain article: British literature\\n The Chandos portrait, believed to depict William Shakespeare\\n'British literature' refers to literature associated with the United Kingdom, the Isle of Man and the Channel Islands. Most British literature is in the English language. In 2005, some 206,000 books were published in the United Kingdom and in 2006 it was the largest publisher of books in the world.[472]\\nThe English playwright and poet William Shakespeare is widely regarded as the greatest dramatist of all time,[473][474][475] and his contemporaries Christopher Marlowe and Ben Jonson have also been held in continuous high esteem. More recently the playwrights Alan Ayckbourn, Harold Pinter, Michael Frayn, Tom Stoppard and David Edgar have combined elements of surrealism, realism and radicalism.[citation needed]\\nNotable pre-modern and early-modern English writers include Geoffrey Chaucer (14th century), Thomas Malory (15th century), Sir Thomas More (16th century), John Bunyan (17th century) and John Milton (17th century).[citation needed] In the 18th century Daniel Defoe (author of Robinson Crusoe) and Samuel Richardson were pioneers of the modern novel.[citation needed] In the 19th century there followed further innovation by Jane Austen, the gothic novelist Mary Shelley, the children's writer Lewis Carroll, the Brontë sisters, the social campaigner Charles Dickens, the naturalist Thomas Hardy, the realist George Eliot, the visionary poet William Blake and romantic poet William Wordsworth.[citation needed] 20th century English writers include the science-fiction novelist H. G. Wells; the writers of children's classics Rudyard Kipling, A. A. Milne (the creator of Winnie-the-Pooh), Roald Dahl and Enid Blyton; the controversial D. H. Lawrence; the modernist Virginia Woolf; the satirist Evelyn Waugh; the prophetic novelist George Orwell; the popular novelists W. Somerset Maugham and Graham Greene;[citation needed] the crime writer Agatha Christie (the best-selling novelist of all time);[476] Ian Fleming (the creator of James Bond); the poets T.S. Eliot, Philip Larkin and Ted Hughes; the fantasy writers J. R. R. Tolkien, C. S. Lewis and J. K. Rowling; the graphic novelists Alan Moore and Neil Gaiman.[citation needed]\\n\\n A photograph of Victorian era novelist Charles Dickens\\nScotland's contributions include the detective writer Arthur Conan Doyle (the creator of Sherlock Holmes), romantic literature by Sir Walter Scott, the children's writer J. M. Barrie, the epic adventures of Robert Louis Stevenson and the celebrated poet Robert Burns. More recently the modernist and nationalist Hugh MacDiarmid and Neil M. Gunn contributed to the Scottish Renaissance. A more grim outlook is found in Ian Rankin's stories and the psychological horror-comedy of Iain Banks. Scotland's capital, Edinburgh, was UNESCO's first worldwide City of Literature.[477]\\nBritain's oldest known poem, Y Gododdin, was composed in Yr Hen Ogledd (The Old North), most likely in the late 6th century. It was written in Cumbric or Old Welsh and contains the earliest known reference to King Arthur.[478] From around the seventh century, the connection between Wales and the Old North was lost, and the focus of Welsh-language culture shifted to Wales, where Arthurian legend was further developed by Geoffrey of Monmouth.[479] Wales's most celebrated medieval poet, Dafydd ap Gwilym (fl.1320–1370), composed poetry on themes including nature, religion and especially love. He is widely regarded as one of the greatest European poets of his age.[480] Until the late 19th century the majority of Welsh literature was in Welsh and much of the prose was religious in character. Daniel Owen is credited as the first Welsh-language novelist, publishing Rhys Lewis in 1885. The best-known of the Anglo-Welsh poets are both Thomases. Dylan Thomas became famous on both sides of the Atlantic in the mid-20th century. He is remembered for his poetry—his \",\n",
       " 'Do not go gentle into that good night; Rage, rage against the dying of the light',\n",
       " ' is one of the most quoted couplets of English language verse—and for his ',\n",
       " 'play for voices',\n",
       " ', Under Milk Wood. The influential Church in Wales ',\n",
       " 'poet-priest',\n",
       " \" and Welsh nationalist R. S. Thomas was nominated for the Nobel Prize in Literature in 1996. Leading Welsh novelists of the twentieth century include Richard Llewellyn and Kate Roberts.[481][482]\\nAuthors of other nationalities, particularly from Commonwealth countries, the Republic of Ireland and the United States, have lived and worked in the UK. Significant examples through the centuries include Jonathan Swift, Oscar Wilde, Bram Stoker, George Bernard Shaw, Joseph Conrad, T.S. Eliot, Ezra Pound and more recently British authors born abroad such as Kazuo Ishiguro and Sir Salman Rushdie.[483][484]\\n\\nMusic\\nMain article: Music of the United Kingdom\\nSee also: Rock music in the United Kingdom\\n The Beatles are the most commercially successful and critically acclaimed band in popular music, selling over a billion records[485][486][487]\\nVarious styles of music are popular in the UK from the indigenous folk music of England, Wales, Scotland and Northern Ireland to heavy metal. Notable composers of classical music from the United Kingdom and the countries that preceded it include William Byrd, Henry Purcell, Sir Edward Elgar, Gustav Holst, Sir Arthur Sullivan (most famous for working with the librettist Sir W. S. Gilbert), Ralph Vaughan Williams and Benjamin Britten, pioneer of modern British opera. Sir Harrison Birtwistle is one of the foremost living composers. The UK is also home to world-renowned symphonic orchestras and choruses such as the BBC Symphony Orchestra and the London Symphony Chorus. Notable conductors include Sir Simon Rattle, Sir John Barbirolli and Sir Malcolm Sargent. Some of the notable film score composers include John Barry, Clint Mansell, Mike Oldfield, John Powell, Craig Armstrong, David Arnold, John Murphy, Monty Norman and Harry Gregson-Williams. George Frideric Handel became a naturalised British citizen and wrote the British coronation anthem, while some of his best works, such as Messiah, were written in the English language.[488][489] Andrew Lloyd Webber is a prolific composer of musical theatre. His works have dominated London's West End since the late 20th century and have also been a commercial success worldwide.[490]\\nThe Beatles have international sales of over one billion units and are the biggest-selling and most influential band in the history of popular music.[485][486][487][491] Other prominent British contributors to have influenced popular music over the last 50 years include The Rolling Stones, Pink Floyd, Queen, Led Zeppelin, the Bee Gees, and Elton John, all of whom have worldwide record sales of 200\\xa0million or more.[492][493][494][495][496][497] The Brit Awards are the BPI's annual music awards, and some of the British recipients of the Outstanding Contribution to Music award include; The Who, David Bowie, Eric Clapton, Rod Stewart and The Police.[498] More recent UK music acts that have had international success include Coldplay, Radiohead, Oasis, Arctic Monkeys, Spice Girls, Robbie Williams, Amy Winehouse and Adele.[499]\\nA number of UK cities are known for their music. Acts from Liverpool have had 54 UK chart number one hit singles, more per capita than any other city worldwide.[500] Glasgow's contribution to music was recognised in 2008 when it was named a UNESCO City of Music, one of only three cities in the world to have this honour.[501]\\nAs of 2016, pop remains the most popular music genre in the UK with 33.4% of unit sales, followed by hip-hop and R&B at 24.5% of unit sales.[502] Rock is not far behind at 22.6% of unit sales.[502] The modern UK is known to produce some of the most prominent world rappers along with the United States, including Stormzy, Kano, Yxng Bane, Ramz and Skepta.[503] The sharp increase of hip-hop and R&B listeners in the UK in the last three years is often explained by an easier access to the genre due to the higher usage of streaming platforms such as Spotify and SoundCloud where hip-hop and R&B is the most popular genre,[504][505] and also by the rising of new hip-hop and R&B sub-genres popular among the Millennials and the Generation Z (post-Millennials), mainly developed in the US with artists popular in the UK, such as phonk rap[506][507] (e.g. A$AP Rocky, Lil Uzi Vert, Chance the Rapper, Lil Skies) and alternative R&B[508][509] (e.g. The Weeknd, Beyoncé, Janelle Monáe, SZA).\\n\\nVisual art\\nMain article: Art of the United Kingdom\\n J. M. W. Turner self-portrait, oil on canvas, c. 1799\\nThe history of British visual art forms part of western art history. Major British artists include: the Romantics William Blake, John Constable, Samuel Palmer and J.M.W. Turner; the portrait painters Sir Joshua Reynolds and Lucian Freud; the landscape artists Thomas Gainsborough and L. S. Lowry; the pioneer of the Arts and Crafts Movement William Morris; the figurative painter Francis Bacon; the Pop artists Peter Blake, Richard Hamilton and David Hockney; the pioneers of Conceptual art movement Art & Language;[510] the collaborative duo Gilbert and George; the abstract artist Howard Hodgkin; and the sculptors Antony Gormley, Anish Kapoor and Henry Moore. During the late 1980s and 1990s the Saatchi Gallery in London helped to bring to public attention a group of multi-genre artists who would become known as the \",\n",
       " 'Young British Artists',\n",
       " ': Damien Hirst, Chris Ofili, Rachel Whiteread, Tracey Emin, Mark Wallinger, Steve McQueen, Sam Taylor-Wood and the Chapman Brothers are among the better-known members of this loosely affiliated movement.\\nThe Royal Academy in London is a key organisation for the promotion of the visual arts in the United Kingdom. Major schools of art in the UK include: the six-school University of the Arts London, which includes the Central Saint Martins College of Art and Design and Chelsea College of Art and Design; Goldsmiths, University of London; the Slade School of Fine Art (part of University College London); the Glasgow School of Art; the Royal College of Art; and The Ruskin School of Drawing and Fine Art (part of the University of Oxford). The Courtauld Institute of Art is a leading centre for the teaching of the history of art. Important art galleries in the United Kingdom include the National Gallery, National Portrait Gallery, Tate Britain and Tate Modern (the most-visited modern art gallery in the world, with around 4.7\\xa0million visitors per year).[511]\\n\\nCinema\\nMain article: Cinema of the United Kingdom\\n Alfred Hitchcock has been ranked as one of the greatest and most influential British filmmakers of all time[512]\\nThe United Kingdom has had a considerable influence on the history of the cinema. The British directors Alfred Hitchcock, whose film Vertigo is considered by some critics as the best film of all time,[513] and David Lean are among the most critically acclaimed of all-time.[514] Other important directors including Charlie Chaplin,[515] Michael Powell,[516] Carol Reed,[517] Edgar Wright,[518] Christopher Nolan,[519] and Ridley Scott.[520] Many British actors have achieved international fame and critical success, including: Julie Andrews,[521] Richard Burton,[522] Michael Caine,[523] Colin Firth,[524] Gary Oldman,[525] Ben Kingsley,[526] Ian McKellen,[527] Liam Neeson,[528] Charlie Chaplin,[529] Sean Connery,[530] Vivien Leigh,[531] David Niven,[532] Laurence Olivier,[533] Peter Sellers,[534] Kate Winslet,[535] Anthony Hopkins,[536] and Daniel Day-Lewis.[537] Some of the most commercially successful films of all time have been produced in the United Kingdom, including two of the highest-grossing film franchises (Harry Potter and James Bond).[538] Ealing Studios has a claim to being the oldest continuously working film studio in the world.[539]\\nDespite a history of important and successful productions, the industry has often been characterised by a debate about its identity and the level of American and European influence.[citation needed] British producers are active in international co-productions and British actors, directors and crew feature regularly in American films.[citation needed] Many successful Hollywood films have been based on British people, stories or events, including Titanic, The Lord of the Rings, and Pirates of the Caribbean.[citation needed]\\nIn 2009, British films grossed around $2\\xa0billion worldwide and achieved a market share of around 7% globally and 17% in the United Kingdom.[540] UK box-office takings totalled £944\\xa0million in 2009, with around 173\\xa0million admissions.[540] The British Film Institute has produced a poll ranking of what it considers to be the 100 greatest British films of all time, the BFI Top 100 British films.[541] The annual British Academy Film Awards are hosted by the British Academy of Film and Television Arts.[542]\\n\\nCuisine\\nMain article: British cuisine\\n Chicken tikka masala, 1971, adapted from Indian chicken tikka and called ',\n",
       " 'a true British national dish.',\n",
       " '[543]\\nBritish cuisine developed from various influences reflective of its land, settlements, arrivals of new settlers and immigrants, trade and colonialism. Celtic agriculture and animal breeding produced a wide variety of foodstuffs for indigenous Celts and Britons. Anglo-Saxon England developed meat and savoury herb stewing techniques before the practice became common in Europe. The Norman conquest introduced exotic spices into England in the Middle Ages.[544] The British Empire facilitated a knowledge of Indian cuisine with its ',\n",
       " 'strong, penetrating spices and herbs',\n",
       " \". British cuisine has absorbed the cultural influence of those who have settled in Britain, producing many hybrid dishes, such as the Anglo-Indian chicken tikka masala.[545][546]\\n\\nMedia\\nMain article: Media of the United Kingdom\\n Broadcasting House in London, headquarters of the BBC, the oldest and largest broadcaster in the world[547][548][549]\\nThe BBC, founded in 1922, is the UK's publicly funded radio, television and Internet broadcasting corporation, and is the oldest and largest broadcaster in the world.[547][548][549] It operates numerous television and radio stations in the UK and abroad and its domestic services are funded by the television licence.[550][551] Other major players in the UK media include ITV plc, which operates 11 of the 15 regional television broadcasters that make up the ITV Network,[552] and News Corporation, which owns a number of national newspapers through News International such as the most popular tabloid The Sun and the longest-established daily \",\n",
       " 'broadsheet',\n",
       " \" The Times,[553] as well as holding a large stake in satellite broadcaster British Sky Broadcasting.[554] London dominates the media sector in the UK: national newspapers and television and radio are largely based there, although Manchester is also a significant national media centre. Edinburgh and Glasgow, and Cardiff, are important centres of newspaper and broadcasting production in Scotland and Wales respectively.[555] The UK publishing sector, including books, directories and databases, journals, magazines and business media, newspapers and news agencies, has a combined turnover of around £20 billion and employs around 167,000 people.[556]\\nIn 2009, it was estimated that individuals viewed a mean of 3.75 hours of television per day and 2.81 hours of radio. In that year the main BBC public service broadcasting channels accounted for an estimated 28.4% of all television viewing; the three main independent channels accounted for 29.5% and the increasingly important other satellite and digital channels for the remaining 42.1%.[557] Sales of newspapers have fallen since the 1970s and in 2010 41% of people reported reading a daily national newspaper.[558] In 2010, 82.5% of the UK population were Internet users, the highest proportion amongst the 20 countries with the largest total number of users in that year.[559]\\n\\nPhilosophy\\nMain article: British philosophy\\nThe United Kingdom is famous for the tradition of 'British Empiricism', a branch of the philosophy of knowledge that states that only knowledge verified by experience is valid, and 'Scottish Philosophy', sometimes referred to as the 'Scottish School of Common Sense'.[560] The most famous philosophers of British Empiricism are John Locke, George Berkeley[note 18] and David Hume; while Dugald Stewart, Thomas Reid and William Hamilton were major exponents of the Scottish \",\n",
       " 'common sense',\n",
       " ' school. Two Britons are also notable for a theory of moral philosophy utilitarianism, first used by Jeremy Bentham and later by John Stuart Mill in his short work Utilitarianism.[561][562]\\nOther eminent philosophers from the UK and the states and countries that preceded it include Duns Scotus, John Lilburne, Mary Wollstonecraft, Sir Francis Bacon, Adam Smith, Thomas Hobbes, William of Ockham, Bertrand Russell and A.J. ',\n",
       " 'Freddie',\n",
       " ' Ayer. Foreign-born philosophers who settled in the UK include Isaiah Berlin, Karl Marx, Karl Popper and Ludwig Wittgenstein.[citation needed]\\n\\nSport\\nMain article: Sport in the United Kingdom\\n Wembley Stadium, London, home of the England national football team, is one of the most expensive stadia ever built[563]\\nMajor sports, including association football, tennis, rugby union, rugby league, golf, boxing, netball, rowing and cricket, originated or were substantially developed in the UK and the states that preceded it. With the rules and codes of many modern sports invented and codified in late 19th century Victorian Britain, in 2012, the President of the IOC, Jacques Rogge, stated; ',\n",
       " 'This great, sports-loving country is widely recognised as the birthplace of modern sport. It was here that the concepts of sportsmanship and fair play were first codified into clear rules and regulations. It was here that sport was included as an educational tool in the school curriculum',\n",
       " \".[564][565]\\nIn most international competitions, separate teams represent England, Scotland and Wales. Northern Ireland and the Republic of Ireland usually field a single team representing all of Ireland, with notable exceptions being association football and the Commonwealth Games. In sporting contexts, the English, Scottish, Welsh and Irish / Northern Irish teams are often referred to collectively as the Home Nations. There are some sports in which a single team represents the whole of United Kingdom, including the Olympics, where the UK is represented by the Great Britain team. The 1908, 1948 and 2012 Summer Olympics were held in London, making it the first city to host the games three times. Britain has participated in every modern Olympic Games to date and is third in the medal count.[citation needed]\\nA 2003 poll found that football is the most popular sport in the United Kingdom.[566] England is recognised by FIFA as the birthplace of club football, and The Football Association is the oldest of its kind, with the rules of football first drafted in 1863 by Ebenezer Cobb Morley.[567][568] Each of the Home Nations has its own football association, national team and league system. The English top division, the Premier League, is the most watched football league in the world.[569] The first international football match was contested by England and Scotland on 30 November 1872.[570] England, Scotland, Wales and Northern Ireland usually compete as separate countries in international competitions.[571]\\n\\n The Millennium Stadium of Cardiff opened for the 1999 Rugby World Cup\\nIn 2003, rugby union was ranked the second most popular sport in the UK.[566] The sport was created in Rugby School, Warwickshire, and the first rugby international took place on 27 March 1871 between England and Scotland.[572][573] England, Scotland, Wales, Ireland, France and Italy compete in the Six Nations Championship; the premier international tournament in the northern hemisphere. Sport governing bodies in England, Scotland, Wales and Ireland organise and regulate the game separately.[574]\\nCricket was invented in England, and its laws were established by Marylebone Cricket Club in 1788.[575] The England cricket team, controlled by the England and Wales Cricket Board,[576] and the Irish cricket team, controlled by Cricket Ireland are the only national teams in the UK with Test status. Team members are drawn from the main county sides, and include both English and Welsh players. Cricket is distinct from football and rugby where Wales and England field separate national teams, although Wales had fielded its own team in the past. Irish and Scottish players have played for England because neither Scotland nor Ireland have Test status and have only recently started to play in One Day Internationals and Ireland is yet to play their first test match.[577][578] Scotland, England (and Wales), and Ireland (including Northern Ireland) have competed at the Cricket World Cup, with England reaching the finals on three occasions. There is a professional league championship in which clubs representing 17 English counties and 1 Welsh county compete.[579]\\n\\n Wimbledon, the oldest Grand Slam tennis tournament, is held in Wimbledon, London every June and July\\nThe modern game of tennis originated in Birmingham, England, in the 1860s, before spreading around the world.[580] The world's oldest tennis tournament, the Wimbledon championships, first occurred in 1877, and today the event takes place over two weeks in late June and early July.[581]\\nThoroughbred racing, which originated under Charles II of England as the \",\n",
       " 'sport of kings',\n",
       " \", is popular throughout the UK with world-famous races including the Grand National, the Epsom Derby, Royal Ascot and the Cheltenham National Hunt Festival (including the Cheltenham Gold Cup). The UK has proved successful in the international sporting arena in rowing.[citation needed]\\nThe UK is closely associated with motorsport. Many teams and drivers in Formula One (F1) are based in the UK, and the country has won more drivers' and constructors' titles than any other. The UK hosted the first F1 Grand Prix in 1950 at Silverstone, the current location of the British Grand Prix held each year in July.[582] The UK hosts legs of the Grand Prix motorcycle racing, World Rally Championship and FIA World Endurance Championship. The premier national auto racing event is the British Touring Car Championship. Motorcycle road racing has a long tradition with races such as the Isle of Man TT and the North West 200.[citation needed]\\n\\n St Andrews, Scotland, the home of golf. The standard 18 hole golf course was created at St Andrews in 1764.[583]\\nGolf is the sixth most popular sport, by participation, in the UK. Although The Royal and Ancient Golf Club of St Andrews in Scotland is the sport's home course,[584] the world's oldest golf course is actually Musselburgh Links' Old Golf Course.[585] In 1764, the standard 18-hole golf course was created at St Andrews when members modified the course from 22 to 18 holes.[583] The oldest golf tournament in the world, and the first major championship in golf, The Open Championship, is played annually on the weekend of the third Friday in July.[586]\\nRugby league originated in Huddersfield, West Yorkshire in 1895 and is generally played in Northern England.[587] A single 'Great Britain Lions' team had competed in the Rugby League World Cup and Test match games, but this changed in 2008 when England, Scotland and Ireland competed as separate nations.[588] Great Britain is still retained as the full national team. Super League is the highest level of professional rugby league in the UK and Europe. It consists of 11 teams from Northern England, 1 from London, 1 from Wales and 1 from France.[589]\\nThe 'Queensberry rules', the code of general rules in boxing, was named after John Douglas, 9th Marquess of Queensberry in 1867, and formed the basis of modern boxing.[590] Snooker is another of the UK's popular sporting exports, with the world championships held annually in Sheffield.[591] In Northern Ireland Gaelic football and hurling are popular team sports, both in terms of participation and spectating, and Irish expatriates in the UK and the US also play them.[592] Shinty (or camanachd) is popular in the Scottish Highlands.[593] Highland games are held in spring and summer in Scotland, celebrating Scottish and celtic culture and heritage, especially that of the Scottish Highlands.[594]\\n\\nSymbols\\nMain article: Symbols of the United Kingdom, the Channel Islands and the Isle of Man\\n The Statue of Britannia in Plymouth. Britannia is a national personification of the UK.\\nThe flag of the United Kingdom is the Union Flag (also referred to as the Union Jack). It was created in 1606 by the superimposition of the Flag of England on the Flag of Scotland and updated in 1801 with the addition of Saint Patrick's Flag. Wales is not represented in the Union Flag, as Wales had been conquered and annexed to England prior to the formation of the United Kingdom. The possibility of redesigning the Union Flag to include representation of Wales has not been completely ruled out.[595] The national anthem of the United Kingdom is \",\n",
       " 'God Save the Queen',\n",
       " ', with ',\n",
       " 'Queen',\n",
       " ' replaced with ',\n",
       " 'King',\n",
       " \" in the lyrics whenever the monarch is a man.\\nBritannia is a national personification of the United Kingdom, originating from Roman Britain.[596] Britannia is symbolised as a young woman with brown or golden hair, wearing a Corinthian helmet and white robes. She holds Poseidon's three-pronged trident and a shield, bearing the Union Flag. Sometimes she is depicted as riding on the back of a lion.[citation needed] Since the height of the British Empire in the late 19th century, Britannia has often been associated with British maritime dominance, as in the patriotic song \",\n",
       " 'Rule, Britannia!',\n",
       " \".[citation needed] Up until 2008, the lion symbol was depicted behind Britannia on the British fifty pence coin and on the back of the British ten pence coin.[citation needed] It is also used as a symbol on the non-ceremonial flag of the British Army.[citation needed]\\nA second, less used, personification of the nation is the character John Bull. The bulldog is sometimes used as a symbol of the United Kingdom and has been associated with Winston Churchill's defiance of Nazi Germany.[597]\\n\\nHistoriography\\nMain articles: historiography of the United Kingdom and historiography of the British Empire\\nSee also\\n\\n\\nUnited Kingdom portal\\nEngland portal\\nNorthern Ireland portal\\nScotland portal\\nWales portal\\nCommonwealth realms portal\\nOutline of the United Kingdom\\nOutline of England\\nOutline of Northern Ireland\\nOutline of Scotland\\nOutline of Wales\\nIndex of United Kingdom-related articles\\nInternational rankings of the United Kingdom\\n United Kingdom – Wikipedia book\\n\\nNotes\\n\\n\\n^ An alternative variant of the Royal coat of arms is used in Scotland: [click to view image].\\n\\n^ There is no authorised version of the national anthem as the words are a matter of tradition; only the first verse is usually sung.[1] No law was passed making \",\n",
       " 'God Save the Queen',\n",
       " ' the official anthem. In the English tradition, such laws are not necessary; proclamation and usage are sufficient to make it the national anthem. ',\n",
       " 'God Save the Queen',\n",
       " \" also serves as the Royal anthem for certain Commonwealth realms. The words Queen, she, her, used at present (in the reign of Elizabeth II), are replaced by King, he, him when the monarch is male. \\n\\n^ Under the Council of Europe's European Charter for Regional or Minority Languages, Scots, Ulster Scots, Welsh, Cornish, Scottish Gaelic and Irish are officially recognised as regional or minority languages by the British Government for the purposes of the Charter.[2] In addition, the Government provides some services and publishes documents in Welsh.[3][4][5] See also Languages of the United Kingdom. \\n\\n^ European Union since 1993.\\n\\n^ Some of the devolved countries, Crown dependencies and British Overseas Territories issue their own sterling banknotes or currencies, or use another nation's currency. See List of British currencies for more information\\n\\n^ This excludes some of the UK's dependencies. See Time in the United Kingdom#British territories\\n\\n^ Excluding two overseas territories: Gibraltar and the British Indian Ocean Territory.\\n\\n^ Excludes most overseas territories\\n\\n^ The .eu domain is also used, as it is shared with other European Union member states. Other TLDs are used regionally\\n\\n^ Usage is mixed. Some organisations, including the BBC Archived 17 July 2018 at the Wayback Machine. and British Government, prefer to use Britain as shorthand for Great Britain\\n\\n^ The Anglo-Irish Treaty was signed on 6 December 1921 to resolve the Irish War of Independence. When it took effect one year later, it established the Irish Free State as a separate dominion within the Commonwealth. The UK's current name was adopted to reflect the change.\\n\\n^ Compare to section 1 of both of the 1800 Acts of Union which reads: the Kingdoms of Great Britain and Ireland shall...be united into one Kingdom, by the Name of \",\n",
       " 'The United Kingdom of Great Britain and Ireland',\n",
       " '\\n\\n^ Since the early twentieth century the prime minister has held the office of First Lord of the Treasury, and in recent decades has also held the office of Minister for the Civil Service.\\n\\n^ Sinn Féin, an Irish republican party, also contests elections in the Republic of Ireland.\\n\\n^ In 2007–2008, this was calculated to be £115 per week for single adults with no dependent children; £199 per week for couples with no dependent children; £195 per week for single adults with two dependent children under 14; and £279 per week for couples with two dependent children under 14.\\n\\n^ The 2011 Census recorded Gypsies/Travellers as a separate ethnic group for the first time.\\n\\n^ In the 2011 Census, for the purpose of harmonising results to make them comparable across the UK, the ONS includes individuals in Scotland who classified themselves in the ',\n",
       " 'African',\n",
       " ' category (29,638 people), which in the Scottish version of the census is separate from ',\n",
       " 'Caribbean or Black',\n",
       " ' (6,540 people),[363] in this ',\n",
       " 'Black or Black British',\n",
       " ' category. The ONS note that ',\n",
       " 'the African categories used in Scotland could potentially capture White/Asian/Other African in addition to Black identities',\n",
       " \".[364]\\n\\n^ Berkeley is in fact Irish but was called a 'British empiricist' due to the territory of what is now known as the Republic of Ireland being in the UK at the time\\n\\n\\nReferences\\n\\n\\n^ \",\n",
       " 'National Anthem',\n",
       " '. Official web site of the British Royal Family. Retrieved 4 June 2016.\\n\\n^ a b c ',\n",
       " 'List of declarations made with respect to treaty No. 148',\n",
       " '. Council of Europe. Retrieved 12 December 2013.\\n\\n^ ',\n",
       " 'Welsh language on GOV.UK - Content design: planning, writing and managing content - Guidance - GOV.UK',\n",
       " '. www.gov.uk. Retrieved 2018-08-03.\\n\\n^ ',\n",
       " 'Welsh language scheme',\n",
       " '. GOV.UK. Retrieved 2018-08-03.\\n\\n^ ',\n",
       " 'Welsh language scheme',\n",
       " '. GOV.UK. Retrieved 2018-08-03.\\n\\n^ ',\n",
       " 'UNdata | record view | Population by religion, sex and urban/rural residence',\n",
       " '. data.un.org. Retrieved 2018-10-13.\\n\\n^ a b Philby, Charlotte (12 December 2012). ',\n",
       " 'Less religious and more ethnically diverse: Census reveals a picture of Britain today',\n",
       " '. The Independent. London.\\n\\n^ ',\n",
       " 'Demographic Yearbook – Table 3: Population by sex, rate of population increase, surface area and density',\n",
       " ' (PDF). United Nations Statistics Division. 2012. Retrieved 9 August 2015.\\n\\n^ ',\n",
       " 'Population estimates for UK, England and Wales, Scotland and Northern Ireland: mid-2017',\n",
       " '. www.ons.gov.uk.\\n\\n^ ',\n",
       " '2011 UK censuses',\n",
       " '. Office for National Statistics. Retrieved 17 December 2012.\\n\\n^ a b c d ',\n",
       " 'Report for Selected Countries and Subjects – United Kingdom',\n",
       " '. International Monetary Fund. April 2018.\\n\\n^ ',\n",
       " 'Gini coefficient of equivalised disposable income (source: SILC)',\n",
       " '. Eurostat Data Explorer. Retrieved 11 November 2015.\\n\\n^ ',\n",
       " '2018 Human Development Report',\n",
       " '. United Nations Development Programme. 2018. Retrieved 14 September 2018.\\n\\n^ ',\n",
       " 'Toponymic guidelines for the United Kingdom',\n",
       " '. GOV.UK. United Kingdom Permanent Committee on Geographical Names. May 2017. p.\\xa013. usually shortened to United Kingdom ... The abbreviation is UK\\n\\n^ ',\n",
       " 'Definition of Great Britain in English',\n",
       " '. Oxford University Press. Retrieved 29 October 2014. Great Britain is the name for the island that comprises England, Scotland and Wales, although the term is also used loosely to refer to the United Kingdom.\\n\\n^ The British Monarchy, What is constitutional monarchy?. Retrieved 17 July 2013\\n\\n^ CIA, The World Factbook. Retrieved 17 July 2013\\n\\n^ PA (13 October 2016). ',\n",
       " \"Queen takes over longest reign mantle after Thailand's King Bhumibol dies\",\n",
       " '. AOL (UK). Retrieved 13 October 2016.\\n\\n^ The 30 Largest Urban Agglomerations Ranked by Population Size at Each Point in Time, 1950–2030, World Urbanization Prospects, the 2014 revision Archived 18 February 2015 at the Wayback Machine., Population Division of the United Nations Department of Economic and Social Affairs. Retrieved 22 February 2015.\\n\\n^ a b ',\n",
       " 'Countries within a country',\n",
       " \". Prime Minister's Office. 10 January 2003. Archived from the original on 9 September 2008. Retrieved 8 March 2015.\\n\\n^ \",\n",
       " 'Devolution of powers to Scotland, Wales and Northern Ireland',\n",
       " '. United Kingdom Government. Retrieved 17 April 2013. In a similar way to how the government is formed from members from the two Houses of Parliament, members of the devolved legislatures nominate ministers from among themselves to comprise executives, known as the devolved administrations...\\n\\n^ ',\n",
       " 'Fall in UK university students',\n",
       " '. BBC News. 29 January 2009.\\n\\n^ ',\n",
       " 'Country Overviews: United Kingdom',\n",
       " '. Transport Research Knowledge Centre. Archived from the original on 4 April 2010. Retrieved 28 March 2010.\\n\\n^ ',\n",
       " 'Key facts about the United Kingdom',\n",
       " \". Directgov. Archived from the original on 15 October 2012. Retrieved 6 March 2015. The full title of this country is 'the United Kingdom of Great Britain and Northern Ireland'. Great Britain is made up of England, Scotland and Wales. The United Kingdom (UK) is made up of England, Scotland, Wales and Northern Ireland. 'Britain' is used informally, usually meaning the United Kingdom. The Channel Islands and the Isle of Man are not part of the UK.\\n\\n^ a b c \",\n",
       " 'Supporting the Overseas Territories',\n",
       " '. Foreign and Commonwealth Office. Retrieved 9 March 2015.\\n\\n^ Mathias, P. (2001). The First Industrial Nation: the Economic History of Britain, 1700–1914. London: Routledge. ISBN\\xa0978-0-415-26672-7.\\n\\n^ Ferguson, Niall (2004). Empire: The rise and demise of the British world order and the lessons for global power. New York: Basic Books. ISBN\\xa0978-0-465-02328-8.\\n\\n^ T. V. Paul; James J. Wirtz; Michel Fortmann (2005). ',\n",
       " 'Great+power',\n",
       " \" Balance of Power. State University of New York Press, 2005. pp.\\xa059, 282. ISBN\\xa0978-0791464014. Accordingly, the great powers after the Cold War are Britain, China, France, Germany, Japan, Russia and the United States p.59\\n\\n^ McCourt, David (28 May 2014). Britain and World Power Since 1945: Constructing a Nation's Role in International Politics. United States of America: University of Michigan Press. ISBN\\xa0978-0472072217.\\n\\n^ \",\n",
       " 'IISS Military Balance 2017',\n",
       " '. Retrieved 6 March 2018.\\n\\n^ ',\n",
       " 'Treaty of Union, 1706',\n",
       " '. Scots History Online. Retrieved 23 August 2011.\\n\\n^ Barnett, Hilaire; Jago, Robert (2011). Constitutional & Administrative Law (8th ed.). Abingdon: Routledge. p.\\xa0165. ISBN\\xa0978-0-415-56301-7.\\n\\n^ See Article One of the Act of Union 1707.\\n\\n^ ',\n",
       " \"After the political union of England and Scotland in 1707, the nation's official name became 'Great Britain'\",\n",
       " ', The American Pageant, Volume 1, Cengage Learning (2012)\\n\\n^ ',\n",
       " 'From 1707 until 1801 Great Britain was the official designation of the kingdoms of England and Scotland',\n",
       " '. The Standard Reference Work: For the Home, School and Library, Volume 3, Harold Melvin Stanford (1921)\\n\\n^ ',\n",
       " \"In 1707, on the union with Scotland, 'Great Britain' became the official name of the British Kingdom, and so continued until the union with Ireland in 1801\",\n",
       " '. United States Congressional serial set, Issue 10; Issue 3265 (1895)\\n\\n^ Gascoigne, Bamber. ',\n",
       " 'History of Great Britain (from 1707)',\n",
       " '. History World. Retrieved 18 July 2011.\\n\\n^ Cottrell, P. (2008). The Irish Civil War 1922–23. p.\\xa085. ISBN\\xa0978-1-84603-270-7.\\n\\n^ S. Dunn; H. Dawson (2000), An Alphabetical Listing of Word, Name and Place in Northern Ireland and the Living Language of Conflict, Lampeter: Edwin Mellen Press, One specific problem—in both general and particular senses—is to know what to call Northern Ireland itself: in the general sense, it is not a country, or a province, or a state—although some refer to it contemptuously as a statelet: the least controversial word appears to be jurisdiction, but this might change.\\n\\n^ ',\n",
       " 'Changes in the list of subdivision names and code elements',\n",
       " ' (PDF). ISO 3166-2. International Organization for Standardization. 15 December 2011. Retrieved 28 May 2012.\\n\\n^ Population Trends, Issues 75–82, p.38, 1994, UK Office of Population Censuses and Surveys\\n\\n^ Life in the United Kingdom: a journey to citizenship, p. 7, United Kingdom Home Office, 2007, ISBN\\xa0978-0-11-341313-3.\\n\\n^ ',\n",
       " 'Statistical bulletin: Regional Labour Market Statistics',\n",
       " '. Archived from the original on 24 December 2014. Retrieved 5 March 2014.\\n\\n^ ',\n",
       " '13.4% Fall In Earnings Value During Recession',\n",
       " '. Retrieved 5 March 2014.\\n\\n^ Dunn, Seamus; Dawson, Helen. (2000). An Alphabetical Listing of Word, Name and Place in Northern Ireland and the Living Language of Conflict. Lampeter: Edwin Mellen Press. ISBN\\xa0978-0-7734-7711-7.\\n\\n^ Murphy, Dervla (1979). A Place Apart. London: Penguin. ISBN\\xa0978-0-14-005030-1.\\n\\n^ Whyte, John; FitzGerald, Garret (1991). Interpreting Northern Ireland. Oxford: Clarendon Press. ISBN\\xa0978-0-19-827380-6.\\n\\n^ ',\n",
       " 'Guardian Unlimited Style Guide',\n",
       " '. London: Guardian News and Media Limited. 19 December 2008. Retrieved 23 August 2011.\\n\\n^ ',\n",
       " 'BBC style guide (Great Britain)',\n",
       " '. BBC News. 19 August 2002. Retrieved 23 August 2011.\\n\\n^ ',\n",
       " 'Key facts about the United Kingdom',\n",
       " '. Government, citizens and rights. HM Government. Archived from the original on 15 October 2012. Retrieved 8 March 2015.\\n\\n^ New Oxford American Dictionary: ',\n",
       " 'Great Britain: England, Wales, and Scotland considered as a unit. The name is also often used loosely to refer to the United Kingdom.',\n",
       " '\\n\\n^ ',\n",
       " 'Great Britain',\n",
       " '. International Olympic Committee. Retrieved 10 May 2011.\\n\\n^ Mulgrew, John (2 August 2012). ',\n",
       " 'Team GB Olympic name row still simmering in Northern Ireland',\n",
       " '. Belfast Telegraph. Retrieved 9 March 2015.\\n\\n^ ',\n",
       " 'Britain Meaning in the Cambridge English Dictionary',\n",
       " '. dictionary.cambridge.org.\\n\\n^ ',\n",
       " 'Definition of Britain in English by Oxford Dictionaries',\n",
       " '. Oxford Dictionaries - English.\\n\\n^ a b ',\n",
       " 'Britain definition and meaning',\n",
       " '. www.collinsdictionary.com. Collins English Dictionary.\\n\\n^ ',\n",
       " 'Britain - Definition for English-Language Learners',\n",
       " \". learnersdictionary.com. Merriam-Webster's Learner's Dictionary.\\n\\n^ \",\n",
       " 'Alphabetical checklist',\n",
       " '. BBC News. BBC. Archived from the original on 17 July 2018. Retrieved 17 June 2018.\\n\\n^ ',\n",
       " 'A to Z - Style guide',\n",
       " '. www.gov.uk. UK Government.\\n\\n^ Permanent Committee on Geographical Names. ',\n",
       " 'Toponymic guidelines for the United Kingdom',\n",
       " '. gov.uk. UK Government.\\n\\n^ ',\n",
       " 'Countries within a country',\n",
       " '. Number10.gov.uk. UK Government. 10 January 2003. Archived from the original on 9 September 2008. On this site the term ‘Britain’ is used informally to mean the United Kingdom of Great Britain and Northern Ireland\\n\\n^ Bradley, Anthony Wilfred; Ewing, Keith D. (2007). Constitutional and administrative law. 1 (14th ed.). Harlow: Pearson Longman. p.\\xa036. ISBN\\xa0978-1-4058-1207-8.\\n\\n^ ',\n",
       " 'Which of these best describes the way you think of yourself?',\n",
       " '. Northern Ireland Life and Times Survey 2010. ARK\\xa0– Access Research Knowledge. 2010. Retrieved 1 July 2010.\\n\\n^ Schrijver, Frans (2006). Regionalism after regionalisation: Spain, France and the United Kingdom. Amsterdam University Press. pp.\\xa0275–277. ISBN\\xa0978-90-5629-428-1.\\n\\n^ ',\n",
       " 'Ffeithiau allweddol am y Deyrnas Unedig',\n",
       " '. Directgov\\xa0– Llywodraeth, dinasyddion a hawliau. Archived from the original on 24 September 2012. Retrieved 8 March 2015.\\n\\n^ ',\n",
       " \"Ancient skeleton was 'even older'\",\n",
       " '. BBC News. 30 October 2007. Retrieved 27 April 2011.\\n\\n^ Koch, John T. (2006). Celtic culture: A historical encyclopedia. Santa Barbara, CA: ABC-CLIO. p.\\xa0973. ISBN\\xa0978-1-85109-440-0.\\n\\n^ Davies, John; Jenkins, Nigel; Baines, Menna; Lynch, Peredur I., eds. (2008). ',\n",
       " 'The Welsh Academy encyclopaedia of Wales',\n",
       " '. The Welsh Academy Encyclopaedia of Wales. Cardiff: University of Wales Press. p.\\xa0915. ISBN\\xa0978-0-7083-1953-6.\\n\\n^ ',\n",
       " 'Short Athelstan biography',\n",
       " '. BBC History. Retrieved 9 April 2013.\\n\\n^ Mackie, J.D. (1991). A History of Scotland. London: Penguin. pp.\\xa018–19. ISBN\\xa0978-0-14-013649-4.\\n\\n^ Campbell, Ewan (1999). Saints and Sea-kings: The First Kingdom of the Scots. Edinburgh: Canongate. pp.\\xa08–15. ISBN\\xa0978-0-86241-874-8.\\n\\n^ Haigh, Christopher (1990). The Cambridge Historical Encyclopedia of Great Britain and Ireland. Cambridge University Press. p.\\xa030. ISBN\\xa0978-0-521-39552-6.\\n\\n^ Ganshof, F.L. (1996). Feudalism. University of Toronto. p.\\xa0165. ISBN\\xa0978-0-8020-7158-3.\\n\\n^ Chibnall, Marjorie (1999). The Debate on the Norman Conquest. Manchester University Press. pp.\\xa0115–122. ISBN\\xa0978-0-7190-4913-2.\\n\\n^ Keen, Maurice. ',\n",
       " \"The Hundred Years' War\",\n",
       " '. BBC History.\\n\\n^ The Reformation in England and Scotland and Ireland: The Reformation Period & Ireland under Elizabth I, Encyclopædia Britannica Online.\\n\\n^ ',\n",
       " 'British History in Depth\\xa0– Wales under the Tudors',\n",
       " '. BBC History. 5 November 2009. Retrieved 21 September 2010.\\n\\n^ Nicholls, Mark (1999). A history of the modern British Isles, 1529–1603: The two kingdoms. Oxford: Blackwell. pp.\\xa0171–172. ISBN\\xa0978-0-631-19334-0.\\n\\n^ Canny, Nicholas P. (2003). Making Ireland British, 1580–1650. Oxford University Press. pp.\\xa0189–200. ISBN\\xa0978-0-19-925905-2.\\n\\n^ Ross, D. (2002). Chronology of Scottish History. Glasgow: Geddes & Grosset. p. 56. ISBN\\xa01-85534-380-0\\n\\n^ Hearn, J. (2002). Claiming Scotland: National Identity and Liberal Culture. Edinburgh University Press. p. 104. ISBN\\xa01-902930-16-9\\n\\n^ ',\n",
       " 'English Civil Wars',\n",
       " '. Encyclopædia Britannica. Retrieved 28 April 2013.\\n\\n^ ',\n",
       " 'Scotland and the Commonwealth: 1651–1660',\n",
       " '. Archontology.org. 14 March 2010. Retrieved 9 March 2015.\\n\\n^ McCarthy, Mathew (2013). Privateering, Piracy and British Policy in Spanish America, 1810–1830 (1st ed.). Woodbridge: The Boydell Press. ISBN\\xa0978-1843838616.\\n\\n^ Lodge, Richard (2007) [1910]. The History of England\\xa0– From the Restoration to the Death of William III (1660–1702). Read Books. p.\\xa08. ISBN\\xa0978-1-4067-0897-4.\\n\\n^ ',\n",
       " 'Tudor Period and the Birth of a Regular Navy',\n",
       " '. Royal Navy History. Institute of Naval History. Archived from the original on 3 November 2011. Retrieved 8 March 2015.\\n\\n^ Canny, Nicholas (1998). The Origins of Empire, The Oxford History of the British Empire Volume I. Oxford University Press. ISBN\\xa0978-0-19-924676-2.\\n\\n^ ',\n",
       " 'Articles of Union with Scotland 1707',\n",
       " '. UK Parliament. Retrieved 19 October 2008.\\n\\n^ ',\n",
       " 'Acts of Union 1707',\n",
       " '. UK Parliament. Retrieved 6 January 2011.\\n\\n^ ',\n",
       " 'Treaty (act) of Union 1706',\n",
       " '. Scottish History online. Retrieved 3 February 2011.\\n\\n^ Library of Congress, The Impact of the American Revolution Abroad, p. 73.\\n\\n^ ',\n",
       " 'Anti-Slavery International',\n",
       " '. UNESCO. Retrieved 15 October 2010\\n\\n^ Loosemore, Jo (2007). Sailing against slavery. BBC Devon. 2007.\\n\\n^ Lovejoy, Paul E. (2000). Transformations in Slavery: A History of Slavery in Africa (2nd ed.). New York: Cambridge University Press. p.\\xa0290. ISBN\\xa0978-0521780124.\\n\\n^ ',\n",
       " 'The Act of Union',\n",
       " '. Act of Union Virtual Library. Retrieved 15 May 2006.\\n\\n^ Tellier, L.-N. (2009). Urban World History: an Economic and Geographical Perspective. Quebec: PUQ. p. 463. ISBN\\xa02-7605-1588-5.\\n\\n^ Johnston, pp.\\xa0508–10.\\n\\n^ Porter, p.\\xa0332.\\n\\n^ Sondhaus, L. (2004). Navies in Modern World History. London: Reaktion Books. p. 9. ISBN\\xa01-86189-202-0.\\n\\n^ Porter, Andrew (1998). The Nineteenth Century, The Oxford History of the British Empire Volume III. Oxford University Press. p.\\xa0332. ISBN\\xa0978-0-19-924678-6.\\n\\n^ ',\n",
       " 'The Workshop of the World',\n",
       " \". BBC History. Retrieved 28 April 2013.\\n\\n^ Porter, Andrew (1998). The Nineteenth Century, The Oxford History of the British Empire Volume III. Oxford University Press. p.\\xa08. ISBN\\xa0978-0-19-924678-6.\\n\\n^ Marshall, P.J. (1996). The Cambridge Illustrated History of the British Empire. Cambridge University Press. pp.\\xa0156–57. ISBN\\xa0978-0-521-00254-7.\\n\\n^ Tompson, Richard S. (2003). Great Britain: a reference guide from the Renaissance to the present. New York: Facts on File. p.\\xa063. ISBN\\xa0978-0-8160-4474-0.\\n\\n^ Hosch, William L. (2009). World War I: People, Politics, and Power. America at War. New York: Britannica Educational Publishing. p.\\xa021. ISBN\\xa0978-1-61530-048-8.\\n\\n^ Zarembka, Paul (2013). Contradictions: Finance, Greed, and Labor Unequally Paid. Emerald Group Publishing. ISBN\\xa09781781906705.\\n\\n^ Sophia A. Van Wingerden, The women's suffrage movement in Britain, 1866–1928 (1999) ch 1.\\n\\n^ Turner, John (1988). Britain and the First World War. London: Unwin Hyman. pp. 22–35. ISBN\\xa0978-0-04-445109-9.\\n\\n^ a b Westwell, I.; Cove, D. (eds) (2002). History of World War I, Volume 3. London: Marshall Cavendish. pp. 698 and 705. ISBN\\xa00-7614-7231-2.\\n\\n^ Turner, J. (1988). Britain and the First World War. Abingdon: Routledge. p. 41. ISBN\\xa00-04-445109-1.\\n\\n^ SR&O 1921, No. 533 of 3 May 1921.\\n\\n^ \",\n",
       " 'The Anglo-Irish Treaty, 6\\xa0December 1921',\n",
       " \". CAIN. Retrieved 15 May 2006.\\n\\n^ Rubinstein, W. D. (2004). Capitalism, Culture, and Decline in Britain, 1750–1990. Abingdon: Routledge. p. 11. ISBN\\xa00-415-03719-0.\\n\\n^ Doenecke, Justus D.; Stoler, Mark A. (2005). Debating Franklin D. Roosevelt's foreign policies, 1933–1945. ISBN\\xa0978-0-8476-9416-7. Retrieved 19 March 2016.\\n\\n^ Kelly, Brian. \",\n",
       " 'The Four Policemen and. Postwar Planning, 1943-1945: The Collision of Realist and. Idealist Perspectives',\n",
       " '. Retrieved 25 August 2015.\\n\\n^ ',\n",
       " 'The ',\n",
       " 'Special Relationship',\n",
       " ' between Great Britain and the United States Began with FDR',\n",
       " '. Roosevelt Institute. 22 July 2010. Retrieved 24 January 2018. and the joint efforts of both powers to create a new post-war strategic and economic order through the drafting of the Atlantic Charter; the establishment of the International Monetary Fund and the World Bank; and the creation of the United Nations.\\n\\n^ ',\n",
       " 'Remarks by the President Obama and Prime Minister Cameron in Joint Press Conference',\n",
       " \". whitehouse.gov. 22 April 2016. Retrieved 24 January 2018. That's what we built after World War II. The United States and the UK designed a set of institutions – whether it was the United Nations, or the Bretton Woods structure, IMF, World Bank, NATO, across the board.\\n\\n^ \",\n",
       " 'Britain to make its final payment on World War II loan from U.S.',\n",
       " ' The New York Times. 28 December 2006. Retrieved 25 August 2011.\\n\\n^ Francis, Martin (1997). Ideas and policies under Labour, 1945–1951: Building a new Britain. Manchester University Press. pp.\\xa0225–233. ISBN\\xa0978-0-7190-4833-3.\\n\\n^ Lee, Stephen J. (1996). Aspects of British political history, 1914–1995. London; New York: Routledge. pp.\\xa0173–199. ISBN\\xa0978-0-415-13103-2.\\n\\n^ Larres, Klaus (2009). A companion to Europe since 1945. Chichester: Wiley-Blackwell. p.\\xa0118. ISBN\\xa0978-1-4051-0612-2.\\n\\n^ ',\n",
       " 'Country List',\n",
       " '. Commonwealth Secretariat. 19 March 2009. Archived from the original on 6 May 2013. Retrieved 8 March 2015.\\n\\n^ a b ',\n",
       " 'The cultural superpower: British cultural projection abroad',\n",
       " '. Journal of the British Politics Society, Norway. Volume 6. No. 1. Winter 2011\\n\\n^ a b Sheridan, Greg (15 May 2010). ',\n",
       " 'Cameron has chance to make UK great again',\n",
       " '. The Australian. Sydney. Retrieved 20 May 2012.\\n\\n^ Julios, Christina (2008). Contemporary British identity: English language, migrants, and public discourse. Studies in migration and diaspora. Aldershot: Ashgate. p.\\xa084. ISBN\\xa0978-0-7546-7158-9.\\n\\n^ ',\n",
       " '1975: UK embraces Europe in referendum',\n",
       " '. BBC News. Retrieved 8 March 2015.\\n\\n^ Wheeler, Brian; Hunt, Alex. ',\n",
       " \"The UK's EU referendum: All you need to know\",\n",
       " '. BBC News.\\n\\n^ Aughey, Arthur (2005). The Politics of Northern Ireland: Beyond the Belfast Agreement. London: Routledge. p.\\xa07. ISBN\\xa0978-0-415-32788-6.\\n\\n^ ',\n",
       " \"The troubles were over, but the killing continued. Some of the heirs to Ireland's violent traditions refused to give up their inheritance.\",\n",
       " ' Holland, Jack (1999). Hope against History: The Course of Conflict in Northern Ireland. New York: Henry Holt. p.\\xa0221. ISBN\\xa0978-0-8050-6087-4.\\n\\n^ Elliot, Marianne (2007). The Long Road to Peace in Northern Ireland: Peace Lectures from the Institute of Irish Studies at Liverpool University. University of Liverpool Institute of Irish Studies, Liverpool University Press. p. 2. ISBN\\xa01-84631-065-2.\\n\\n^ Dorey, Peter (1995). British politics since 1945. Making contemporary Britain. Oxford: Blackwell. pp.\\xa0164–223. ISBN\\xa0978-0-631-19075-2.\\n\\n^ Griffiths, Alan; Wall, Stuart (2007). Applied Economics (PDF) (11th ed.). Harlow: Financial Times Press. p.\\xa06. ISBN\\xa0978-0-273-70822-3. Retrieved 26 December 2010.\\n\\n^ Keating, Michael (1 January 1998). ',\n",
       " 'Reforging the Union: Devolution and Constitutional Change in the United Kingdom',\n",
       " '. Publius: The Journal of Federalism. 28 (1): 217–234. doi:10.1093/oxfordjournals.pubjof.a029948. Retrieved 4 February 2009.\\n\\n^ Jackson, Mike (3 April 2011). ',\n",
       " 'Military action alone will not save Libya',\n",
       " '. Financial Times. London.\\n\\n^ ',\n",
       " 'United Kingdom country profile',\n",
       " '. BBC News. 24 January 2013. Retrieved 9 April 2013.\\n\\n^ ',\n",
       " 'Scotland to hold independence poll in 2014\\xa0– Salmond',\n",
       " '. BBC News. 10 January 2012. Retrieved 10 January 2012.\\n\\n^ ',\n",
       " 'In stunning decision, Britain votes to leave the E.U.',\n",
       " ' The Washington Post. 24 June 2016. Retrieved 24 June 2016.\\n\\n^ Bloom, Dan (29 March 2017). ',\n",
       " \"Brexit Day recap: Article 50 officially triggered on historic day as Theresa May warns: 'No turning back'\",\n",
       " '. Daily Mirror. Retrieved 29 March 2017.\\n\\n^ Adler, Katya (29 March 2017). ',\n",
       " 'Theresa May officially starts Brexit process; Article 50 letter handed over',\n",
       " '. BBC News. Retrieved 29 March 2017.\\n\\n^ Oxford English Dictionary: ',\n",
       " 'British Isles: a geographical term for the islands comprising Great Britain and Ireland with all their offshore islands including the Isle of Man and the Channel Islands.',\n",
       " '\\n\\n^ a b c d e f ',\n",
       " 'United Kingdom',\n",
       " '. The World Factbook. Central Intelligence Agency. Retrieved 23 September 2008.\\n\\n^ a b c d Latimer Clarke Corporation Pty Ltd. ',\n",
       " 'United Kingdom\\xa0– Atlapedia Online',\n",
       " '. Atlapedia.com. Retrieved 26 October 2010.\\n\\n^ ROG Learning Team (23 August 2002). ',\n",
       " 'The Prime Meridian at Greenwich',\n",
       " '. Royal Museums Greenwich. Royal Museums Greenwich. Retrieved 11 September 2012.\\n\\n^ a b Darkes, Giles (January 2008). ',\n",
       " 'How long is the UK coastline?',\n",
       " '. The British Cartographic Society. Retrieved 24 January 2015.\\n\\n^ ',\n",
       " 'The Channel Tunnel',\n",
       " '. Eurotunnel. Archived from the original on 18 December 2010. Retrieved 8 March 2015.\\n\\n^ ',\n",
       " 'England\\xa0– Profile',\n",
       " '. BBC News. 11 February 2010.\\n\\n^ ',\n",
       " 'Scotland Facts',\n",
       " '. Scotland Online Gateway. Archived from the original on 21 June 2008. Retrieved 16 July 2008.\\n\\n^ Winter, Jon (1 June 2000). ',\n",
       " 'The complete guide to the ... Scottish Islands',\n",
       " '. The Independent. London. Retrieved 8 March 2015.\\n\\n^ ',\n",
       " 'Overview of Highland Boundary Fault',\n",
       " '. Gazetteer for Scotland. University of Edinburgh. Retrieved 27 December 2010.\\n\\n^ ',\n",
       " \"Great Britain's tallest mountain is taller\",\n",
       " '. Ordnance Survey. Retrieved 9 September 2018.\\n\\n^ ',\n",
       " 'Ben Nevis Weather',\n",
       " '. Ben Nevis Weather. Retrieved 26 October 2008.\\n\\n^ ',\n",
       " 'Profile: Wales',\n",
       " '. BBC News. 9 June 2010. Retrieved 7 November 2010.\\n\\n^ ',\n",
       " 'Geography of Northern Ireland',\n",
       " '. University of Ulster. Retrieved 22 May 2006.\\n\\n^ ',\n",
       " 'UK climate summaries',\n",
       " '. Met Office. Archived from the original on 27 May 2012. Retrieved 1 May 2011.\\n\\n^ ',\n",
       " 'Atlantic Ocean Circulation (Gulf Stream)',\n",
       " '. UK Climate Projections. Met Office. Retrieved 8 March 2015.\\n\\n^ Hackwood Frederick William: The Story of the Shire, Being the Lore, History and Evolution of English County Institutions (1851)\\n\\n^ United Nations Economic and Social Council (August 2007). ',\n",
       " 'Ninth UN Conference on the standardization of Geographical Names',\n",
       " ' (PDF). UN Statistics Division. Archived from the original (PDF) on 1 December 2009. Retrieved 21 October 2008.\\n\\n^ Barlow, I.M. (1991). Metropolitan Government. London: Routledge. ISBN\\xa0978-0-415-02099-2.\\n\\n^ ',\n",
       " 'Welcome to the national site of the Government Office Network',\n",
       " '. Government Offices. Archived from the original on 15 June 2009. Retrieved 3 July 2008.\\n\\n^ ',\n",
       " 'A short history of London government',\n",
       " '. Greater London Authority. Archived from the original on 21 April 2008. Retrieved 4 October 2008.\\n\\n^ Sherman, Jill; Norfolk, Andrew (5 November 2004). ',\n",
       " \"Prescott's dream in tatters as North East rejects assembly\",\n",
       " '. The Times. London. Retrieved 15 February 2008. The Government is now expected to tear up its twelve-year-old plan to create eight or nine regional assemblies in England to mirror devolution in Scotland and Wales. (subscription required)\\n\\n^ ',\n",
       " 'Local Authority Elections',\n",
       " '. Local Government Association. Archived from the original on 18 January 2012. Retrieved 8 March 2015.\\n\\n^ ',\n",
       " 'STV in Scotland: Local Government Elections 2007',\n",
       " ' (PDF). Political Studies Association. Archived from the original (PDF) on 20 March 2011. Retrieved 2 August 2008.\\n\\n^ a b ',\n",
       " 'Unitary authorities',\n",
       " '. Welsh Government. 2014. Archived from the original on 10 March 2015. Retrieved 9 March 2015.\\n\\n^ Devenport, Mark (18 November 2005). ',\n",
       " 'NI local government set for shake-up',\n",
       " '. BBC News. Retrieved 15 November 2008.\\n\\n^ ',\n",
       " 'Foster announces the future shape of local government',\n",
       " ' (Press release). Northern Ireland Executive. 13 March 2008. Archived from the original on 25 July 2008. Retrieved 20 October 2008.\\n\\n^ ',\n",
       " 'Background briefing on the Crown Dependencies: Jersey, Guernsey and the Isle of Man',\n",
       " ' (PDF). Ministry of Justice. Retrieved 9 March 2015.\\n\\n^ ',\n",
       " 'Overseas Territories',\n",
       " '. Foreign & Commonwealth Office. Archived from the original on 5 February 2008. Retrieved 6 September 2010.CS1 maint: BOT: original-url status unknown (link) \\n\\n^ ',\n",
       " 'The World Factbook',\n",
       " '. CIA. Retrieved 26 December 2010.\\n\\n^ ',\n",
       " 'Country profiles',\n",
       " '. Foreign & Commonwealth Office. 21 February 2008. Archived from the original on 12 December 2012. Retrieved 9 March 2015.\\n\\n^ ',\n",
       " 'Partnership for Progress and Prosperity',\n",
       " ' (PDF). UK Overseas Territories Conservation Forum. Retrieved 28 March 2017.\\n\\n^ Davison, Phil (18 August 1995). ',\n",
       " 'Bermudians vote to stay British',\n",
       " '. The Independent. London. Retrieved 11 September 2012.\\n\\n^ ',\n",
       " 'Gibraltar referendum result in quotes',\n",
       " '. BBC News. 8 November 2002.\\n\\n^ ',\n",
       " 'Falklands: Cameron says Argentina should respect vote',\n",
       " '. BBC News. 12 March 2013. Retrieved 12 March 2013.\\n\\n^ The Committee Office, House of Commons. ',\n",
       " 'House of Commons\\xa0– Crown Dependencies\\xa0– Justice Committee',\n",
       " \". Publications.parliament.uk. Retrieved 7 November 2010.\\n\\n^ Fact sheet on the UK's relationship with the Crown Dependencies\\xa0– gov.uk, Ministry of Justice. Retrieved 25 August 2014.\\n\\n^ \",\n",
       " 'Profile of Jersey',\n",
       " '. States of Jersey. Archived from the original on 2 September 2006. Retrieved 31 July 2008. The legislature passes primary legislation, which requires approval by The Queen in Council, and enacts subordinate legislation in many areas without any requirement for Royal Sanction and under powers conferred by primary legislation.\\n\\n^ ',\n",
       " 'Chief Minister to meet Channel Islands counterparts\\xa0– Isle of Man Public Services',\n",
       " ' (Press release). Isle of Man Government. 29 May 2012. Archived from the original on 30 April 2013. Retrieved 8 March 2015.\\n\\n^ Bagehot, Walter (1867). The English Constitution. London: Chapman and Hall. p. 103.\\n\\n^ Carter, Sarah. ',\n",
       " 'A Guide To the UK Legal System',\n",
       " '. University of Kent at Canterbury. Archived from the original on 27 May 2012. Retrieved 16 May 2006.\\n\\n^ ',\n",
       " 'Parliamentary sovereignty',\n",
       " '. UK Parliament. n.d. Archived from the original on 27 May 2012.\\n\\n^ ',\n",
       " 'The Government, Prime Minister and Cabinet',\n",
       " '. Public services all in one place. Directgov. Archived from the original on 21 September 2012. Retrieved 9 March 2015.\\n\\n^ ',\n",
       " \"Brown is UK's new prime minister\",\n",
       " '. BBC News. 27 June 2007. Retrieved 23 January 2008.\\n\\n^ ',\n",
       " 'Elections and voting',\n",
       " '. UK Parliament. 14 November 2010. Archived from the original on 14 November 2010. Retrieved 19 February 2017.\\n\\n^ ',\n",
       " 'The Parliament Acts',\n",
       " '. UK Parliament. 14 November 2010. Archived from the original on 14 November 2010. Retrieved 19 February 2017.\\n\\n^ Cornford, James; Dorling, Daniel (1997). ',\n",
       " 'Crooked Margins and Marginal Seats',\n",
       " ' (PDF).  In Pattie, Charles; Denver, David; Fisher, Justin;  et al. British Elections and Parties Review, Volume 7. London: Frank Cass. p.\\xa085.\\n\\n^ ',\n",
       " 'Ideological Development in the UK',\n",
       " '. BBC News. 4 November 2004. Retrieved 9 August 2017.\\n\\n^ McDonald, Henry (1 May 2015). ',\n",
       " 'Sinn Féin MP says party will always boycott Westminster, despite report',\n",
       " '. The Guardian. London. Retrieved 7 July 2015.\\n\\n^ ',\n",
       " 'Scots MPs attacked over fees vote',\n",
       " '. BBC News. 27 January 2004. Retrieved 21 October 2008.\\n\\n^ Taylor, Brian (1 June 1998). ',\n",
       " 'Talking Politics: The West Lothian Question',\n",
       " '. BBC News. Retrieved 21 October 2008.\\n\\n^ ',\n",
       " \"England-only laws 'need majority from English MPs'\",\n",
       " '. BBC News. 25 March 2013. Retrieved 28 April 2013.\\n\\n^ ',\n",
       " \"Scotland's Parliament\\xa0– powers and structures\",\n",
       " '. BBC News. 8 April 1999. Retrieved 21 October 2008.\\n\\n^ ',\n",
       " 'Scotland Votes No',\n",
       " '. BBC News. 19 September 2014. Retrieved 4 August 2017.\\n\\n^ ',\n",
       " 'Structure and powers of the Assembly',\n",
       " '. BBC News. 9 April 1999. Retrieved 21 October 2008.\\n\\n^ ',\n",
       " 'Your Executive',\n",
       " '. Northern Ireland Executive.\\n\\n^ Burrows, N. (1999). ',\n",
       " 'Unfinished Business: The Scotland Act 1998',\n",
       " '. The Modern Law Review. 62 (2): 241–60 [p. 249]. doi:10.1111/1468-2230.00203. The UK Parliament is sovereign and the Scottish Parliament is subordinate. The White Paper had indicated that this was to be the approach taken in the legislation. The Scottish Parliament is not to be seen as a reflection of the settled will of the people of Scotland or of popular sovereignty but as a reflection of its subordination to a higher legal authority. Following the logic of this argument, the power of the Scottish Parliament to legislate can be withdrawn or overridden...\\n\\n^ Elliot, M. (2004). ',\n",
       " 'United Kingdom: Parliamentary sovereignty under pressure',\n",
       " '. International Journal of Constitutional Law. 2 (3): 545–627, 553–554. doi:10.1093/icon/2.3.545. Notwithstanding substantial differences among the schemes, an important common factor is that the U.K. Parliament has not renounced legislative sovereignty in relation to the three nations concerned. For example, the Scottish Parliament is empowered to enact primary legislation on all matters, save those in relation to which competence is explicitly denied\\xa0... but this power to legislate on what may be termed ',\n",
       " 'devolved matters',\n",
       " \" is concurrent with the Westminster Parliament's general power to legislate for Scotland on any matter at all, including devolved matters\\xa0... In theory, therefore, Westminster may legislate on Scottish devolved matters whenever it chooses...\\n\\n^ Walker, G. (2010). \",\n",
       " 'Scotland, Northern Ireland, and Devolution, 1945–1979',\n",
       " '. Journal of British Studies. 39 (1): 117–142. doi:10.1086/644536.\\n\\n^ Gamble, A. (2006). ',\n",
       " 'The Constitutional Revolution in the United Kingdom',\n",
       " '. Publius. 36 (1): 19–35 [p. 29]. doi:10.1093/publius/pjj011. The British parliament has the power to abolish the Scottish parliament and the Welsh assembly by a simple majority vote in both houses, but since both were sanctioned by referenda, it would be politically difficult to abolish them without the sanction of a further vote by the people. In this way, several of the constitutional measures introduced by the Blair government appear to be entrenched and not subject to a simple exercise of parliamentary sovereignty at Westminster.\\n\\n^ Meehan, E. (1999). ',\n",
       " \"The Belfast Agreement—Its Distinctiveness and Points of Cross-Fertilization in the UK's Devolution Programme\",\n",
       " \". Parliamentary Affairs. 52 (1): 19–31 [p. 23]. doi:10.1093/pa/52.1.19. The distinctive involvement of two governments in the Northern Irish problem means that Northern Ireland's new arrangements rest upon an intergovernmental agreement. If this can be equated with a treaty, it could be argued that the forthcoming distribution of power between Westminster and Belfast has similarities with divisions specified in the written constitutions of federal states... Although the Agreement makes the general proviso that Westminster's 'powers to make legislation for Northern Ireland' remains 'unaffected', without an explicit categorical reference to reserved matters, it may be more difficult than in Scotland or Wales for devolved powers to be repatriated. The retraction of devolved powers would not merely entail consultation in Northern Ireland backed implicitly by the absolute power of parliamentary sovereignty but also the renegotiation of an intergovernmental agreement.\\n\\n^ \",\n",
       " 'The Treaty (act) of the Union of Parliament 1706',\n",
       " '. Scottish History Online. Retrieved 5 October 2008.\\n\\n^ ',\n",
       " 'UK Supreme Court judges sworn in',\n",
       " '. BBC News. 1 October 2009.\\n\\n^ ',\n",
       " 'Constitutional reform: A Supreme Court for the United Kingdom',\n",
       " ' (PDF). Department for Constitutional Affairs. July 2003. Archived from the original (PDF) on 17 January 2009. Retrieved 13 May 2013.\\n\\n^ ',\n",
       " 'Role of the JCPC',\n",
       " '. Judicial Committee of the Privy Council. Retrieved 28 April 2013.\\n\\n^ Bainham, Andrew (1998). The international survey of family law: 1996. The Hague: Martinus Nijhoff. p.\\xa0298. ISBN\\xa0978-90-411-0573-8.\\n\\n^ Adeleye, Gabriel; Acquah-Dadzie, Kofi; Sienkewicz, Thomas; McDonough, James (1999). World dictionary of foreign expressions. Waucojnda, IL: Bolchazy-Carducci. p.\\xa0371. ISBN\\xa0978-0-86516-423-9.\\n\\n^ ',\n",
       " 'The Australian courts and comparative law',\n",
       " '. Australian Law Postgraduate Network. Archived from the original on 14 April 2013. Retrieved 9 March 2015.\\n\\n^ ',\n",
       " 'Court of Session\\xa0– Introduction',\n",
       " '. Scottish Courts. Archived from the original on 31 July 2008. Retrieved 8 March 2015.\\n\\n^ ',\n",
       " 'High Court of Justiciary\\xa0– Introduction',\n",
       " '. Scottish Courts. Archived from the original on 12 September 2008. Retrieved 9 March 2015.\\n\\n^ ',\n",
       " 'House of Lords\\xa0– Practice Directions on Permission to Appeal',\n",
       " '. UK Parliament. Archived from the original on 6 December 2013. Retrieved 8 March 2015.\\n\\n^ ',\n",
       " 'Introduction',\n",
       " '. Scottish Courts. Archived from the original on 1 September 2008. Retrieved 9 March 2015.\\n\\n^ Samuel Bray (2005). ',\n",
       " 'Not proven: introducing a third verdict',\n",
       " '. The University of Chicago Law Review. 72 (4): 1299. JSTOR\\xa04495530.\\n\\n^ ',\n",
       " 'Crime in England and Wales, Year Ending June 2015',\n",
       " ' (PDF).\\n\\n^ ',\n",
       " 'UK prison population figures',\n",
       " '. British Government. Retrieved 10 November 2015.\\n\\n^ Highest to Lowest. World Prison Brief. International Centre for Prison Studies.\\n\\n^ ',\n",
       " '• England & Wales: Recorded homicides 2002–2015 – UK Statistics',\n",
       " '. Statista.\\n\\n^ Tom Batchelor. ',\n",
       " 'Sexual offences at highest levels since records began but overall crimes fall – UK – News – Daily Express',\n",
       " '. Express.co.uk.\\n\\n^ ',\n",
       " 'Scottish homicide figures fall to another record low',\n",
       " '. BBC News.\\n\\n^ Art.50 letter |url=https://www.gov.uk/government/publications/prime-ministers-letter-to-donald-tusk-triggering-article-50/prime-ministers-letter-to-donald-tusk-triggering-article-50\\n\\n^ Swaine, Jon (13 January 2009). ',\n",
       " 'Barack Obama presidency will strengthen special relationship, says Gordon Brown',\n",
       " '. The Daily Telegraph (London). Retrieved 3 May 2011.\\n\\n^ Kirchner, E. J.; Sperling, J. (2007). Global Security Governance: Competing Perceptions of Security in the 21st century. London: Taylor & Francis. p. 100. ISBN\\xa00-415-39162-8\\n\\n^ The Committee Office, House of Commons (19 February 2009). ',\n",
       " \"DFID's expenditure on development assistance\",\n",
       " '. UK Parliament. Archived from the original on 12 January 2013. Retrieved 28 April 2013.\\n\\n^ ',\n",
       " 'Ministry of Defence',\n",
       " '. Ministry of Defence. Retrieved 21 February 2012.\\n\\n^ ',\n",
       " 'Speaker addresses Her Majesty Queen Elizabeth II',\n",
       " '. UK Parliament. 30 March 2012. Retrieved 28 April 2013.\\n\\n^ ',\n",
       " 'House of Commons Hansard',\n",
       " '. UK Parliament. Retrieved 23 October 2008.\\n\\n^ ',\n",
       " 'House of Commons Hansard Written Answers for 17 Jun 2013 (pt 0002)',\n",
       " '. Publications.parliament.uk. Retrieved 4 March 2015.\\n\\n^ UK 2005: The Official Yearbook of the United Kingdom of Great Britain and Northern Ireland. Office for National Statistics. p. 89.\\n\\n^ ',\n",
       " 'Trends in World Military Expenditure, 2016',\n",
       " ' (PDF). Stockholm International Peace Research Institute. Retrieved 26 April 2017.\\n\\n^ ',\n",
       " 'Principles for Economic Regulation',\n",
       " '. Department for Business, Innovation & Skills. April 2011. Retrieved 1 May 2011.\\n\\n^ Chavez-Dreyfuss, Gertrude (1 April 2008). ',\n",
       " 'Global reserves, dollar share up at end of 2007-IMF',\n",
       " '. Reuters. Retrieved 21 December 2009.\\n\\n^ ',\n",
       " 'More About the Bank',\n",
       " '. Bank of England. n.d. Archived from the original on 12 March 2008.\\n\\n^ ',\n",
       " 'UK index of services: October 2017',\n",
       " '. Office for National Statistics. 22 December 2017. Retrieved 15 January 2018.\\n\\n^ Sassen, Saskia (2001). The Global City: New York, London, Tokyo (2nd ed.). Princeton University Press. ISBN\\xa0978-0-691-07866-3.\\n\\n^ a b ',\n",
       " 'Global Financial Centres 7',\n",
       " ' (PDF). Z/Yen. 2010. Archived from the original (PDF) on 5 November 2012. Retrieved 21 April 2010.\\n\\n^ a b ',\n",
       " 'Worldwide Centres of Commerce Index 2008',\n",
       " ' (PDF). Mastercard. Retrieved 5 July 2011.\\n\\n^ a b Zumbrun, Joshua (15 July 2008). ',\n",
       " '',\n",
       " \"World's Most Economically Powerful Cities\",\n",
       " '',\n",
       " '. Forbes. New York. Archived from the original on 19 May 2011. Retrieved 3 October 2010.\\n\\n^ ',\n",
       " 'Global city GDP rankings 2008–2025',\n",
       " '. PricewaterhouseCoopers. Archived from the original on 19 May 2011. Retrieved 16 November 2010.\\n\\n^ ',\n",
       " 'UNWTO Tourism Highlights, Edition 2005',\n",
       " ' (PDF). World Tourism Organisation. Archived from the original (PDF) on 9 August 2007. Retrieved 9 March 2015.\\n\\n^ Bremner, Caroline (10 January 2010). ',\n",
       " \"Euromonitor International's Top City Destination Ranking\",\n",
       " '. Euromonitor International. Archived from the original on 19 May 2011. Retrieved 31 May 2011.\\n\\n^ ',\n",
       " 'From the Margins to the Mainstream\\xa0– Government unveils new action plan for the creative industries',\n",
       " '. DCMS. 9 March 2007. Archived from the original on 4 December 2008. Retrieved 9 March 2015.\\n\\n^ a b ',\n",
       " 'European Countries\\xa0– United Kingdom',\n",
       " '. Europa (web portal). Retrieved 15 December 2010.\\n\\n^ Harrington, James W.; Warf, Barney (1995). Industrial location: Principles, practices, and policy. London: Routledge. p.\\xa0121. ISBN\\xa0978-0-415-10479-1.\\n\\n^ Spielvogel, Jackson J. (2008). Western Civilization: Alternative Volume: Since 1300. Belmont, CA: Thomson Wadsworth. ISBN\\xa0978-0-495-55528-5.\\n\\n^ Porter, Andrew (1998). The Nineteenth Century, The Oxford History of the British Empire Volume III. Oxford University Press. p.\\xa08. ISBN\\xa0978-0-19-924678-6. Retrieved 22 July 2009.\\n\\n^ Marshall, PJ (1996). The Cambridge Illustrated History of the British Empire. Cambridge University Press. pp.\\xa0156–57. ISBN\\xa0978-0-521-00254-7. Retrieved 22 July 2009.\\n\\n^ Hewitt, Patricia (15 July 2004). ',\n",
       " 'TUC Manufacturing Conference',\n",
       " '. Department of Trade and Industry. Archived from the original on 3 June 2007. Retrieved 9 March 2015.\\n\\n^ ',\n",
       " 'Motor Industry Facts 2016',\n",
       " ' (PDF). Society of Motor Manufacturers and Traders. 2016. Archived from the original (PDF) on 14 October 2016. Retrieved 13 October 2016.\\n\\n^ Tovey, Alan (29 June 2016). ',\n",
       " \"Britain's aerospace sector soars amid fears Brexit could clip its wings\",\n",
       " '. The Daily Telegraph. London.\\n\\n^ Robertson, David (9 January 2009). ',\n",
       " 'The Aerospace industry has thousands of jobs in peril',\n",
       " '. The Times. London. Retrieved 9 June 2011. (subscription required)\\n\\n^ ',\n",
       " 'The Pharmaceutical sector in the UK',\n",
       " '. Department for Business, Innovation & Skills. Archived from the original on 12 December 2012. Retrieved 9 March 2015.\\n\\n^ ',\n",
       " 'Ministerial Industry Strategy Group\\xa0– Pharmaceutical Industry: Competitiveness and Performance Indicators',\n",
       " ' (PDF). Department of Health. Archived from the original (PDF) on 7 January 2013. Retrieved 9 March 2015.\\n\\n^ ',\n",
       " 'Agriculture in the United Kingdom',\n",
       " ' (PDF). Department for Environment, Food and Rural Affairs. Archived from the original (PDF) on 5 January 2012. Retrieved 9 March 2015.\\n\\n^ Survey, British. ',\n",
       " 'Coal | Mines & quarries | MineralsUK',\n",
       " '. http://www.bgs.ac.uk. Retrieved 7 July 2015.\\n\\n^ ',\n",
       " 'UK in recession as economy slides',\n",
       " '. BBC News. 23 January 2009. Retrieved 23 January 2009.\\n\\n^ Monaghan, Angela (15 October 2014). ',\n",
       " 'The AAA-rated club: which countries still make the grade?',\n",
       " '. The Guardian. London. Retrieved 8 June 2015.\\n\\n^ ',\n",
       " 'UK loses top AAA credit rating for first time since 1978',\n",
       " '. BBC News. 23 February 2013. Retrieved 23 February 2013.\\n\\n^ Stewart, Heather; Wintour, Patrick (18 February 2015). ',\n",
       " 'UK employment rate hits highest level since records began',\n",
       " '. The Guardian. London. Retrieved 8 June 2015.\\n\\n^ Wholehouse, Matthew (24 July 2014). ',\n",
       " 'UK has fastest-growing economy, International Monetary Fund says',\n",
       " '. The Telegraph. London. Retrieved 8 June 2015.\\n\\n^ ',\n",
       " 'UK unemployment falls to 1.75 million',\n",
       " '. BBC News. 11 November 2015.\\n\\n^ Roser, Max (27 March 2015). ',\n",
       " 'Income inequality: poverty falling faster than ever but the 1% are racing ahead',\n",
       " '. The Guardian. Retrieved 8 June 2015.\\n\\n^ Beckford, Martin (5 December 2011). ',\n",
       " 'Gap between rich and poor growing fastest in Britain',\n",
       " '. The Daily Telegraph. London.\\n\\n^ Andrews, J. (16 January 2013). ',\n",
       " 'How poor is Britain now',\n",
       " ' Archived 4 February 2013 at the Wayback Machine.. Yahoo! Finance UK \\n\\n^ Glynn, S.; Booth, A. (1996). Modern Britain: An Economic and Social History. London: Routledge.\\n\\n^ ',\n",
       " \"Report highlights 'bleak' poverty levels in the UK\",\n",
       " ' Phys.org, 29 March 2013\\n\\n^ World Development Indicators, World Bank. Retrieved 29 June 2011. Note: Used for Bermuda, Chad, Cyprus, Eritrea, Greenland, Federated States of Micronesia, Monaco, Netherlands, New Caledonia and Turkmenistan.\\n\\n^ Total Midyear Population Archived 12 October 2013 at the Wayback Machine., U.S. Census Bureau, International Data Base. Retrieved 29 June 2011. Note: Used for Aruba, Cayman Islands, Cook Islands, Cuba, North Korea, Marshall Islands, Montenegro, Samoa, Somalia, Trinidad and Tobago and West Bank.\\n\\n^ The World Factbook – European Union, Central Intelligence Agency. Retrieved 29 June 2011.\\n\\n^ World Economic Outlook Database, April 2011, International Monetary Fund. Retrieved 29 June 2011. Note: Used for the rest of the countries.\\n\\n^ GDP (official exchange rate), The World Factbook, United States Central Intelligence Agency. Retrieved 29 June 2011. Note: Used for the rest of the countries.\\n\\n^ ',\n",
       " \"Dark money: London's dirty secret\",\n",
       " '. Financial Times. London. 11 May 2016.\\n\\n^ ',\n",
       " 'London is now the global money-laundering centre for the drug trade, says crime expert',\n",
       " '. The Independent. London. 4 July 2015.\\n\\n^ ',\n",
       " 'London property market turned into money laundering safe haven by inadequate supervision, MPs say',\n",
       " '. The Independent. London. 15 July 2016.\\n\\n^ ',\n",
       " 'UK draws billions in unrecorded inflows, much from Russia – study',\n",
       " '. Reuters. 10 March 2015.\\n\\n^ ',\n",
       " 'Russian money infects London',\n",
       " '. 31 March 2015.\\n\\n^ ',\n",
       " \"David Cameron urged to act on Panama Papers as UK named 'at heart of super-rich tax-avoidance network'\",\n",
       " '. The Independent. London. 5 April 2016. Retrieved 7 April 2016.\\n\\n^ Gascoin, J. ',\n",
       " 'A reappraisal of the role of the universities in the Scientific Revolution',\n",
       " ', in Lindberg, David C. and Westman, Robert S., eds (1990), Reappraisals of the Scientific Revolution. Cambridge University Press. p. 248. ISBN\\xa00-521-34804-8.\\n\\n^ Reynolds, E.E.; Brasher, N.H. (1966). Britain in the Twentieth Century, 1900–1964. Cambridge University Press. p. 336. OCLC\\xa0474197910\\n\\n^ Burtt, E.A. (2003) 1924.The Metaphysical Foundations of Modern Science. Mineola, NY: Courier Dover. p. 207. ISBN\\xa00-486-42551-7.\\n\\n^ Hatt, C. (2006). Scientists and Their Discoveries. London: Evans Brothers. pp. 16, 30 and 46. ISBN\\xa00-237-53195-X.\\n\\n^ Jungnickel, C.; McCormmach, R. (1996). Cavendish. American Philosophical Society. ISBN\\xa00-87169-220-1.\\n\\n^ ',\n",
       " 'The Nobel Prize in Physiology or Medicine 1945: Sir Alexander Fleming, Ernst B. Chain, Sir Howard Florey',\n",
       " '. The Nobel Foundation. Archived from the original on 21 June 2011.\\n\\n^ Hatt, C. (2006). Scientists and Their Discoveries. London: Evans Brothers. p. 56. ISBN\\xa00-237-53195-X.\\n\\n^ Wilson, Arthur (1994). The Living Rock: The Story of Metals Since Earliest Times and Their Impact on Civilization. p. 203. Woodhead Publishing.\\n\\n^ James, I. (2010). Remarkable Engineers: From Riquet to Shannon. Cambridge University Press. pp. 33–6. ISBN\\xa00-521-73165-8.\\n\\n^ Bova, Ben (2002) 1932. The Story of Light. Naperville, IL: Sourcebooks. p. 238. ISBN\\xa0978-1-4022-0009-0.\\n\\n^ ',\n",
       " 'Alexander Graham Bell (1847–1922)',\n",
       " '. Scottish Science Hall of Fame. Archived from the original on 21 June 2011.\\n\\n^ ',\n",
       " 'John Logie Baird (1888–1946)',\n",
       " '. BBC History. Archived from the original on 21 June 2011.\\n\\n^ Cole, Jeffrey (2011). Ethnic Groups of Europe: An Encyclopedia. Santa Barbara, CA: ABC-CLIO. p. 121. ISBN\\xa01-59884-302-8.\\n\\n^ Castells, M.; Hall, P.; Hall, P.G. (2004). Technopoles of the World: the Making of Twenty-First-Century Industrial Complexes. London: Routledge. pp. 98–100. ISBN\\xa00-415-10015-1.\\n\\n^ ',\n",
       " 'Knowledge, networks and nations: scientific collaborations in the twenty-first century',\n",
       " ' (PDF). Royal Society. 2011. Archived from the original (PDF) on 22 June 2011.\\n\\n^ McCook, Alison (2006). ',\n",
       " 'Is peer review broken?',\n",
       " '. The Scientist. 20 (2): 26. Archived from the original on 21 June 2011.\\n\\n^ a b ',\n",
       " \"Heathrow 'needs a third runway'\",\n",
       " '. BBC News. 25 June 2008. Retrieved 17 October 2008.\\n\\n^ a b ',\n",
       " 'Statistics: Top 30 World airports',\n",
       " ' (PDF) (Press release). Airports Council International. July 2008. Retrieved 15 October 2008.\\n\\n^ Moran, Joe (2005-11-16). Reading the Everyday. Routledge. p.\\xa095. ISBN\\xa0978-1-134-37216-4.\\n\\n^ ',\n",
       " 'Transport Statistics Great Britain: 2010',\n",
       " ' (PDF). Department for Transport. Archived from the original (PDF) on 16 December 2010.\\n\\n^ ',\n",
       " 'Passenger Rail Usage 2015–16 Q3 Statistical Release',\n",
       " ' (PDF). p.\\xa01.\\n\\n^ ',\n",
       " 'Revealed: How the world gets rich – from privatising British public services',\n",
       " '. The Independent. 30 November 2014. Retrieved 30 December 2015.\\n\\n^ ',\n",
       " \"High-speed rail's long journey\",\n",
       " '. BBC News. 17 March 2014.\\n\\n^ ',\n",
       " \"Crossrail's giant tunnelling machines unveiled\",\n",
       " '. BBC News. 2 January 2012.\\n\\n^ Leftly, Mark (29 August 2010). ',\n",
       " 'Crossrail delayed to save £1bn',\n",
       " '. The Independent on Sunday. London.\\n\\n^ a b ',\n",
       " 'Size of Reporting Airports October 2009\\xa0– September 2010',\n",
       " ' (PDF). Civil Aviation Authority. Archived from the original (PDF) on 27 May 2012. Retrieved 5 December 2010.\\n\\n^ ',\n",
       " 'BMI being taken over by Lufthansa',\n",
       " '. BBC News. 29 October 2008. Retrieved 23 December 2009.\\n\\n^ ',\n",
       " 'United Kingdom Energy Profile',\n",
       " '. U.S. Energy Information Administration. Retrieved 4 November 2010.\\n\\n^ Mason, Rowena (24 October 2009). ',\n",
       " 'Let the battle begin over black gold',\n",
       " '. The Daily Telegraph. London. Retrieved 26 November 2010.\\n\\n^ Heath, Michael (26 November 2010). ',\n",
       " \"RBA Says Currency Containing Prices, Rate Level 'Appropriate' in Near Term\",\n",
       " '. New York: Bloomberg. Retrieved 26 November 2010.\\n\\n^ a b ',\n",
       " 'Nuclear Power in the United Kingdom',\n",
       " '. World Nuclear Association. April 2013. Retrieved 9 April 2013.\\n\\n^ ',\n",
       " 'Total Petroleum and Other Liquids Production, 2013',\n",
       " '.\\n\\n^ ',\n",
       " 'United Kingdom Crude Oil Consumption by Year',\n",
       " '.\\n\\n^ a b ',\n",
       " 'United Kingdom\\xa0– Oil',\n",
       " '. U.S. Energy Information Administration. Archived from the original on 12 August 2011. Retrieved 9 March 2015.\\n\\n^ a b ',\n",
       " 'United Kingdom\\xa0– Natural Gas',\n",
       " '. U.S. Energy Information Administration. Archived from the original on 16 April 2011. Retrieved 9 March 2011.\\n\\n^ a b ',\n",
       " 'United Kingdom\\xa0– Quick Facts Energy Overview',\n",
       " '. U.S. Energy Information Administration. Archived from the original on 12 August 2011. Retrieved 9 March 2015.\\n\\n^ The Coal Authority (10 April 2006). ',\n",
       " 'Coal Reserves in the United Kingdom',\n",
       " ' (PDF). The Coal Authority. Archived from the original (PDF) on 4 January 2009. Retrieved 5 July 2011.\\n\\n^ ',\n",
       " \"England Expert predicts 'coal revolution'\",\n",
       " '. BBC News. 16 October 2007. Retrieved 23 September 2008.\\n\\n^ Watts, Susan (20 March 2012). ',\n",
       " 'Fracking: Concerns over gas extraction regulations',\n",
       " '. BBC News. Retrieved 9 April 2013.\\n\\n^ ',\n",
       " 'Quit fracking aboot',\n",
       " '. Friends of the Earth Scotland. Retrieved 9 April 2013.\\n\\n^ ',\n",
       " \"Department of Energy and Climate Change: Annual tables: 'Digest of UK energy statistics' (DUKES) – Chapter 6: Renewable Sources of energy\",\n",
       " '. Retrieved 13 April 2015.\\n\\n^ ',\n",
       " 'UK Renewable Energy Roadmap Crown copyright, July 2011',\n",
       " ' (PDF).\\n\\n^ ',\n",
       " 'BBC – Weather Centre – Climate Change – Wind Power',\n",
       " '. BBC. Retrieved 9 June 2015.\\n\\n^ RenewableUK. ',\n",
       " 'RenewableUK – RenewableUK News – Electricity needs of more than a quarter of UK homes powered by wind in 2014',\n",
       " '. renewableuk.com. Archived from the original on 9 May 2015.\\n\\n^ ',\n",
       " 'WHO / UNICEF Joint Monitoring Programme: 404 error',\n",
       " '.[permanent dead link]\\n\\n^ ',\n",
       " 'Environment Agency',\n",
       " '. Archived from the original on 25 November 2009.\\n\\n^ ',\n",
       " 'Census Geography',\n",
       " '. Office for National Statistics. 30 October 2007. Archived from the original on 4 June 2011. Retrieved 14 April 2012.\\n\\n^ a b c ',\n",
       " '2011 Census: Population Estimates for the United Kingdom',\n",
       " ' (PDF). Office for National Statistics. 27 March 2011. Retrieved 18 December 2012.\\n\\n^ a b ',\n",
       " 'Population Estimates for UK, England and Wales, Scotland and Northern Ireland, Mid-2015',\n",
       " '. Office for National Statistics. 23 June 2016.\\n\\n^ ',\n",
       " 'Annual Mid-year Population Estimates, 2010',\n",
       " ' (PDF). Office for National Statistics. 2011. Retrieved 14 April 2012.\\n\\n^ a b ',\n",
       " '2011 UK censuses',\n",
       " '. Office for National Statistics. Retrieved 18 December 2012.\\n\\n^ Khan, Urmee (16 September 2008). ',\n",
       " 'England is most crowded country in Europe',\n",
       " '. The Daily Telegraph. London. Retrieved 5 September 2009.\\n\\n^ Carrell, Severin (17 December 2012). ',\n",
       " \"Scotland's population at record high\",\n",
       " '. The Guardian. London. Retrieved 18 December 2012.\\n\\n^ a b ',\n",
       " 'Vital Statistics: Population and Health Reference Tables (February 2014 Update): Annual Time Series Data',\n",
       " '. ONS. Retrieved 27 April 2014.\\n\\n^ Boseley, Sarah (14 July 2008). ',\n",
       " \"The question: What's behind the baby boom?\",\n",
       " '. The Guardian. London. p.\\xa03. Retrieved 28 August 2009.\\n\\n^ Tables, Graphs and Maps Interface (TGM) table. Eurostat (26 February 2013). Retrieved 12 July 2013.\\n\\n^ ',\n",
       " 'Sexual identity, UK: 2015 – Experimental Official Statistics on sexual identity in the UK in 2015 by region, sex, age, marital status, ethnicity and NS-SEC',\n",
       " '. Office for National Statistics. 5 October 2016. Retrieved 19 January 2017.\\n\\n^ ',\n",
       " '2011 Census - Built-up areas',\n",
       " \". ONS. Retrieved 1 July 2013.\\n\\n^ Mid-2012 Population Estimates for Settlements and Localities in Scotland  General Register Office for Scotland\\n\\n^ The UK's major urban areas Office for National Statistics (Urban area of Belfast and connected settlements, Table 3.1, page 47)\\n\\n^ \",\n",
       " 'Welsh people could be most ancient in UK, DNA suggests',\n",
       " '. BBC News. 19 June 2012. Retrieved 28 April 2013.\\n\\n^ Thomas, Mark G.;  et al. (October 2006). ',\n",
       " 'Evidence for a segregated social structure in early Anglo-Saxon England',\n",
       " '. Proceedings of the Royal Society B: Biological Sciences. 273 (1601): 2651–2657. doi:10.1098/rspb.2006.3627. PMC\\xa01635457. PMID\\xa017002951.\\n\\n^ Owen, James (19 July 2005). ',\n",
       " \"Review of 'The Tribes of Britain'\",\n",
       " '. National Geographic (Washington DC).\\n\\n^ Oppenheimer, Stephen (October 2006).',\n",
       " 'Myths of British ancestry',\n",
       " '. Archived from the original on 26 September 2006. Retrieved 16 May 2009.CS1 maint: Unfit url (link) . Prospect (London). Retrieved 5 November 2010.\\n\\n^ Henderson, Mark (23 October 2009). ',\n",
       " \"Scientist\\xa0– Griffin hijacked my work to make race claim about 'British aborigines'\",\n",
       " '. The Times. London. Retrieved 26 October 2009. (subscription required)\\n\\n^ ',\n",
       " 'Victoria and Albert Museum Black Presence',\n",
       " \".\\n\\n^ Winder, Robert (2010-11-04). Bloody Foreigners: The Story of Immigration to Britain. ISBN\\xa09780748123964.\\n\\n^ Costello, Ray (2001). Black Liverpool: The Early History of Britain's Oldest Black Community 1730–1918. Liverpool: Picton Press. ISBN\\xa0978-1-873245-07-1.\\n\\n^ \",\n",
       " 'Culture and Ethnicity Differences in Liverpool\\xa0– Chinese Community',\n",
       " '. Chambré Hardman Trust. Archived from the original on 24 July 2009. Retrieved 9 March 2015.\\n\\n^ Coleman, David; Compton, Paul; Salt, John (2002). ',\n",
       " 'The demographic characteristics of immigrant populations',\n",
       " ', Council of Europe, p.505. ISBN\\xa092-871-4974-7.\\n\\n^ Roger Ballard Centre for Applied South Asian Studies. ',\n",
       " \"Britain's visible minorities: a demographic overview\",\n",
       " ' (PDF).\\n\\n^ ',\n",
       " 'Short History of Immigration',\n",
       " '. BBC News. Retrieved 18 March 2015.\\n\\n^ a b Vargas-Silva, Carlos (10 April 2014). ',\n",
       " 'Migration Flows of A8 and other EU Migrants to and from the UK',\n",
       " '. Migration Observatory, University of Oxford. Retrieved 18 March 2015.\\n\\n^ Vertovec, Steven (2007). ',\n",
       " 'Super-diversity and its implications',\n",
       " '. Ethnic and Racial Studies. 30 (6): 1024–1054. doi:10.1080/01419870701599465.\\n\\n^ Vertovec, Steven (20 September 2005). ',\n",
       " 'Opinion: Super-diversity revealed',\n",
       " '. BBC News. Retrieved 8 March 2015.\\n\\n^ Aspinall, Peter J (2012). ',\n",
       " \"Answer Formats in British Census and Survey Ethnicity Questions: Does Open Response Better Capture 'Superdiversity'?\",\n",
       " '. Sociology. 46 (2): 354–364. doi:10.1177/0038038511419195.\\n\\n^ Ballard, Roger (1996). ',\n",
       " 'Negotiating race and ethnicity: Exploring the implications of the 1991 census',\n",
       " '. Patterns of Prejudice. 30 (3): 3–33. doi:10.1080/0031322X.1996.9970192.\\n\\n^ Kertzer, David I.; Arel, Dominique (2002). ',\n",
       " 'Censuses, identity formation, and the struggle for political power',\n",
       " '.  In Kertzer, David I.; Arel, Dominique. Census and Identity: The Politics of Race, Ethnicity, and Language in National Censuses. Cambridge: Cambridge University Press. pp.\\xa01–42.\\n\\n^ a b c ',\n",
       " '2011 Census: Ethnic group, local authorities in the United Kingdom',\n",
       " '. Office for National Statistics. 11 October 2013. Retrieved 6 March 2015.\\n\\n^ ',\n",
       " 'Population Size: 7.9% from a minority ethnic group',\n",
       " '. Office for National Statistics. 13 February 2003. Archived from the original on 31 July 2003. Retrieved 7 March 2015.\\n\\n^ ',\n",
       " 'Ethnicity and National Identity in England and Wales 2011',\n",
       " ' (PDF). Office for National Statistics. 11 December 2012. Retrieved 23 April 2015.\\n\\n^ ',\n",
       " 'Resident population estimates by ethnic group (percentages): London',\n",
       " '. Office for National Statistics. Retrieved 23 April 2008.\\n\\n^ ',\n",
       " 'Resident population estimates by ethnic group (percentages): Leicester',\n",
       " '. Office for National Statistics. Retrieved 23 April 2008.\\n\\n^ ',\n",
       " 'Census 2001\\xa0– Ethnicity and religion in England and Wales',\n",
       " '. Office for National Statistics. Retrieved 23 April 2008.\\n\\n^ Schools, pupils and their characteristics: January 2016 (PDF) (Report). Department for Education. 28 June 2016. p.\\xa08. SFR 20/2016.\\n\\n^ M.S. ',\n",
       " \"Britain's amazing technicolour dreamcoat\",\n",
       " '.\\n\\n^ ',\n",
       " 'Population size: 7.9% from a non-White ethnic group',\n",
       " '. Office for National Statistics. 8 January 2004. Archived from the original on 19 June 2004.\\n\\n^ ',\n",
       " 'Table KS201SC – Ethnic group: All people',\n",
       " ' (PDF). National Records of Scotland. 2013. Retrieved 28 April 2015.\\n\\n^ ',\n",
       " 'Ethnic group',\n",
       " '. Office for National Statistics. Retrieved 27 April 2015.\\n\\n^ ',\n",
       " 'Official EU languages',\n",
       " '. European Commission. 8 May 2009. Archived from the original on 2 February 2009. Retrieved 16 October 2009.\\n\\n^ ',\n",
       " 'Language Courses in New York',\n",
       " '. United Nations. 2006. Retrieved 29 November 2010.\\n\\n^ ',\n",
       " 'English language\\xa0– Government, citizens and rights',\n",
       " '. Directgov. Archived from the original on 15 October 2012. Retrieved 23 August 2011.\\n\\n^ ',\n",
       " 'Commonwealth Secretariat\\xa0– UK',\n",
       " '. Commonwealth Secretariat. Retrieved 23 August 2011.\\n\\n^ a b c ',\n",
       " 'Languages across Europe: United Kingdom',\n",
       " '. BBC. Retrieved 4 February 2013.\\n\\n^ Booth, Robert (30 January 2013). ',\n",
       " \"Polish becomes England's second language\",\n",
       " '. The Guardian. London. Retrieved 4 February 2012.\\n\\n^ ',\n",
       " 'European Charter for Regional or Minority Languages, Strasbourg, 5.XI.1992',\n",
       " '. Council of Europe. Retrieved 9 March 2015.\\n\\n^ ',\n",
       " 'Framework Convention for the Protection of National Minorities, Strasbourg, 1.II.1995',\n",
       " '. Council of Europe. Retrieved 9 March 2015.\\n\\n^ ',\n",
       " 'Welsh Language',\n",
       " '. National Statistics Online. Archived from the original on 28 July 2011. Retrieved 9 March 2015.\\n\\n^ ',\n",
       " 'Differences in estimates of Welsh Language Skills',\n",
       " ' (PDF). Office for National Statistics. Archived from the original (PDF) on 12 January 2010. Retrieved 30 December 2008.\\n\\n^ Wynn Thomas, Peter (March 2007). ',\n",
       " 'Welsh today',\n",
       " '. Voices. BBC. Retrieved 5 July 2011.\\n\\n^ ',\n",
       " \"Scotland's Census 2001\\xa0– Gaelic Report\",\n",
       " '. General Register Office for Scotland. Archived from the original on 22 May 2013. Retrieved 28 April 2013.\\n\\n^ ',\n",
       " \"Local UK languages 'taking off'\",\n",
       " '. BBC News. 12 February 2009.\\n\\n^ Edwards, John R. (2010). Minority languages and group identity: cases and categories. John Benjamins. pp.\\xa0150–158. ISBN\\xa0978-90-272-1866-7. Retrieved 12 March 2011.\\n\\n^ Koch, John T. (2006). Celtic culture: a historical encyclopedia. ABC-CLIO. p.\\xa0696. ISBN\\xa0978-1-85109-440-0.\\n\\n^ ',\n",
       " 'Language Data\\xa0– Scots',\n",
       " '. European Bureau for Lesser-Used Languages. Archived from the original on 23 June 2007. Retrieved 2 November 2008.\\n\\n^ ',\n",
       " 'Fall in compulsory language lessons',\n",
       " '. BBC News. 4 November 2004.\\n\\n^ ',\n",
       " 'The School Gate for parents in Wales',\n",
       " '. BBC. Archived from the original on 15 April 2014. Retrieved 9 March 2015.\\n\\n^ Cannon, John, ed. (2nd edn., 2009). A Dictionary of British History. Oxford University Press. p. 144. ISBN\\xa00-19-955037-9.\\n\\n^ Field, Clive D. (November 2009). ',\n",
       " 'British religion in numbers',\n",
       " '. BRIN Discussion Series on Religious Statistics, Discussion Paper 001. Retrieved 7 March 2015.\\n\\n^ Yilmaz, Ihsan (2005). Muslim Laws, Politics and Society in Modern Nation States: Dynamic Legal Pluralisms in England, Turkey, and Pakistan. Aldershot: Ashgate Publishing. pp. 55–6. ISBN\\xa00-7546-4389-1.\\n\\n^ Brown, Callum G. (2006). Religion and Society in Twentieth-Century Britain. Harlow: Pearson Education. p. 291. ISBN\\xa00-582-47289-X.\\n\\n^ Norris, Pippa; Inglehart, Ronald (2004). Sacred and Secular: Religion and Politics Worldwide. Cambridge University Press. p. 84. ISBN\\xa00-521-83984-X.\\n\\n^ Fergusson, David (2004). Church, State and Civil Society. Cambridge University Press. p. 94. ISBN\\xa00-521-52959-X.\\n\\n^ ',\n",
       " 'UK Census 2001',\n",
       " '. National Office for Statistics. Archived from the original on 12 March 2007. Retrieved 22 April 2007.\\n\\n^ ',\n",
       " 'Religious Populations',\n",
       " '. Office for National Statistics. 11 October 2004. Archived from the original on 6 June 2011.\\n\\n^ ',\n",
       " 'United Kingdom: New Report Finds Only One in 10 Attend Church',\n",
       " '. News.adventist.org. 4 April 2007. Archived from the original on 13 December 2011. Retrieved 9 March 2015.\\n\\n^ ',\n",
       " 'British Census: Islam Fastest-Growing Faith in England; Christians Drop to 59% of Population',\n",
       " '. CNS News. 12 December 2012.\\n\\n^ ',\n",
       " 'The percentage of the population with no religion has increased in England and Wales',\n",
       " '. Office for National Statistics. 4 April 2013.\\n\\n^ a b c ',\n",
       " 'British Social Attitudes: Record number of Brits with no religion',\n",
       " '. Retrieved 5 September 2017.\\n\\n^ The History of the Church of England. The Church of England. Retrieved 23 November 2008.\\n\\n^ ',\n",
       " 'Queen and Church of England',\n",
       " '. British Monarchy Media Centre. Archived from the original on 8 October 2006. Retrieved 5 June 2010.\\n\\n^ ',\n",
       " 'Queen and the Church',\n",
       " '. The British Monarchy (Official Website). Archived from the original on 7 June 2011.\\n\\n^ ',\n",
       " 'How we are organised',\n",
       " '. Church of Scotland. Archived from the original on 7 June 2011.\\n\\n^ Weller, Paul (2005). Time for a Change: Reconfiguring Religion, State, and Society. London: Continuum. pp. 79–80. ISBN\\xa00567084876.\\n\\n^ Peach, Ceri, ',\n",
       " 'United Kingdom, a major transformation of the religious landscape',\n",
       " \", in H. Knippenberg. ed. (2005). The Changing Religious Landscape of Europe. Amsterdam: Het Spinhuis. pp. 44–58. ISBN\\xa090-5589-248-3.\\n\\n^ Richards, Eric (2004). Britannia's children: Emigration from England, Scotland, Wales and Ireland since 1600. London: Hambledon, p. 143. ISBN\\xa0978-1-85285-441-6.\\n\\n^ P. Panayi (1906). P. Panayi, 'German Immigrants in Britain, 1815–1914' in Germans in Britain since 1500, ed P. Panayi, (London: Hambledon Press, 1996). pp.\\xa073–112. ISBN\\xa09780826420381.\\n\\n^ \",\n",
       " 'Germans in Britain Since 1500',\n",
       " '.\\n\\n^ ',\n",
       " 'East End Jews',\n",
       " '. BBC.\\n\\n^ Jews in Britain: Origin and Growth of Anglo-Jewry. p.\\xa07.\\n\\n^ ',\n",
       " 'A summary history of immigration to Britain',\n",
       " '. Migrationwatch UK.\\n\\n^ Victoria County History, London, 1969. ',\n",
       " 'The Jews',\n",
       " '. British History Online.CS1 maint: Multiple names: authors list (link) \\n\\n^ Gibney, Matthew J.; Hansen, Randall (2005). Immigration and asylum: from 1900 to the present, ABC-CLIO, p. 630. ISBN\\xa01-57607-796-9\\n\\n^ ',\n",
       " 'Short history of immigration',\n",
       " '. BBC. 2005. Retrieved 28 August 2010.\\n\\n^ ',\n",
       " 'A summary history of immigration to Britain',\n",
       " '.\\n\\n^ a b Coleman, David (17 April 2013). ',\n",
       " 'Immigration, Population and Ethnicity: The UK in International Perspective',\n",
       " '. The Migration Observatory, University of Oxford. Retrieved 8 March 2015.\\n\\n^ ',\n",
       " 'Migration Statistics Quarterly Report May 2015',\n",
       " '. Office for National Statistics. 21 May 2015.\\n\\n^ ',\n",
       " 'Right of Union citizens and their family members to move and reside freely within the territory of the Member States',\n",
       " '. European Commission. Archived from the original on 5 April 2012. Retrieved 28 April 2013.\\n\\n^ Doward, Jamie; Temko, Ned (23 September 2007). ',\n",
       " 'Home Office shuts the door on Bulgaria and Romania',\n",
       " \". The Observer. London. p.\\xa02. Retrieved 23 August 2008.\\n\\n^ Sumption, Madeleine; Somerville, Will (January 2010). The UK's new Europeans: Progress and challenges five years after accession (PDF). Policy Report. London: Equality and Human Rights Commission. p.\\xa013. ISBN\\xa0978-1-84206-252-4. Archived from the original (PDF) on 7 December 2013. Retrieved 9 March 2015.\\n\\n^ Doward, Jamie; Rogers, Sam (17 January 2010). \",\n",
       " \"Young, self-reliant, educated: portrait of UK's eastern European migrants\",\n",
       " '. The Observer. London. Retrieved 19 January 2010.\\n\\n^ Hopkirk, Elizabeth (20 October 2008). ',\n",
       " \"Packing up for home: Poles hit by UK's economic downturn\",\n",
       " '. London Evening Standard.\\n\\n^ ',\n",
       " \"Migrants to UK 'returning home'\",\n",
       " '. BBC News. 8 September 2009. Retrieved 8 September 2009.\\n\\n^ ',\n",
       " 'UK sees shift in migration trend',\n",
       " '. BBC News. 27 May 2010. Retrieved 28 May 2010.\\n\\n^ ',\n",
       " 'Migration Statistics Quarterly Report May 2012',\n",
       " '. Office for National Statistics. 24 May 2012.\\n\\n^ Vasileva, Katya (2011). ',\n",
       " '6.5% of the EU population are foreigners and 9.4% are born abroad',\n",
       " '. Statistics in Focus. Eurostat. Retrieved 8 March 2015.\\n\\n^ Muenz, Rainer (June 2006). ',\n",
       " 'Europe: Population and Migration in 2005',\n",
       " '. Migration Policy Institute. Archived from the original on 9 June 2008. Retrieved 2 April 2007.\\n\\n^ ',\n",
       " 'Immigration and births to non-British mothers pushes British population to record high',\n",
       " '. London Evening Standard. 21 August 2008.\\n\\n^ ',\n",
       " 'Birth Summary Tables, England and Wales, 2014',\n",
       " '. Office for National Statistics. 15 July 2015.\\n\\n^ Bentham, Martin (20 October 2008). ',\n",
       " 'Tories call for tougher control of immigration',\n",
       " '. London Evening Standard.\\n\\n^ Travis, Alan (25 August 2011). ',\n",
       " 'UK net migration rises 21%',\n",
       " '. The Guardian. London.\\n\\n^ a b Blinder, Scott (27 March 2015). ',\n",
       " 'Naturalisation as a British Citizen: Concepts and Trends',\n",
       " ' (PDF). The Migration Observatory, University of Oxford. Archived from the original (PDF) on 16 September 2015. Retrieved 1 August 2015.\\n\\n^ Blinder, Scott (11 June 2014). ',\n",
       " 'Settlement in the UK',\n",
       " '. The Migration Observatory, University of Oxford. Archived from the original on 6 September 2015. Retrieved 1 August 2015.\\n\\n^ ',\n",
       " 'The 1901 Census',\n",
       " '.\\n\\n^ ',\n",
       " 'summary history of immigration to Britain',\n",
       " '.\\n\\n^ ',\n",
       " 'UK 2011 Census Data',\n",
       " '. National Archives. Archived from the original on 12 April 2013.CS1 maint: BOT: original-url status unknown (link) \\n\\n^ National Archives. ',\n",
       " 'Non-UK Born Population of England and Wales Quadrupled Between 1951 and 2011',\n",
       " '. Archived from the original on 5 January 2016.CS1 maint: BOT: original-url status unknown (link) \\n\\n^ Office for National Statistics. ',\n",
       " '2011 Census analysis: Immigration Patterns of Non-UK Born Populations in England and Wales in 2011',\n",
       " '.\\n\\n^ ',\n",
       " 'Fresh Talent: Working in Scotland',\n",
       " '. London: UK Border Agency. Archived from the original on 16 July 2011. Retrieved 9 March 2015.\\n\\n^ Boxell, James (28 June 2010). ',\n",
       " 'Tories begin consultation on cap for migrants',\n",
       " '. Financial Times. London. Retrieved 17 September 2010.\\n\\n^ Richards (2004), pp. 6–7.\\n\\n^ a b Sriskandarajah, Dhananjayan; Drew, Catherine (11 December 2006). ',\n",
       " 'Brits Abroad: Mapping the scale and nature of British emigration',\n",
       " '. Institute for Public Policy Research. Archived from the original on 28 August 2007. Retrieved 9 March 2015.\\n\\n^ ',\n",
       " 'Brits Abroad: world overview',\n",
       " '. BBC. Retrieved 20 April 2007.\\n\\n^ Casciani, Dominic (11 December 2006). ',\n",
       " \"5.5\\xa0m Britons 'opt to live abroad'\",\n",
       " '. BBC News. Retrieved 20 April 2007.\\n\\n^ ',\n",
       " 'Brits Abroad: Country-by-country',\n",
       " '. BBC News. 11 December 2006.\\n\\n^ ',\n",
       " 'The Most Educated Countries in the World',\n",
       " '. Yahoo Finance. 24 September 2012. Archived from the original on 4 February 2016. Retrieved 20 April 2016.\\n\\n^ ',\n",
       " \"And the World's Most Educated Country Is…\",\n",
       " '. Time. New York. 27 September 2012. Retrieved 20 April 2016.\\n\\n^ ',\n",
       " 'Academic Ranking of World Universities 2015',\n",
       " '. Shanghai. 2015. Retrieved 21 October 2015.\\n\\n^ Quacquarelli Symonds Limited (2015). ',\n",
       " 'QS World University Rankings 2015/16',\n",
       " '. London. Retrieved 21 October 2015.\\n\\n^ ',\n",
       " 'World University Rankings 2015–16',\n",
       " '. Times Higher Education. London. 2015. Retrieved 21 October 2015.\\n\\n^ ',\n",
       " 'Best Global Universities Rankings 2016',\n",
       " '. US News & World Report. Washington DC. 2015. Retrieved 21 October 2015.\\n\\n^ ',\n",
       " 'Elitist Britain?',\n",
       " ' (PDF). Social Mobility and Child Poverty Commission. 28 August 2014.\\n\\n^ Arnett, George (28 August 2014). ',\n",
       " 'Elitism in Britain – breakdown by profession',\n",
       " '. The Guardian: Datablog.\\n\\n^ ',\n",
       " 'Local Authorities',\n",
       " \". Department for Children, Schools and Families. Archived from the original on 30 December 2008. Retrieved 21 December 2008.\\n\\n^ Gordon, J.C.B. (1981). Verbal Deficit: A Critique. London: Croom Helm. p.\\xa044 note 18. ISBN\\xa0978-0-85664-990-5.\\n\\n^ Section 8 ('Duty of local education authorities to secure provision of primary and secondary schools'), Sections 35–40 ('Compulsory attendance at Primary and Secondary Schools') and Section 61 ('Prohibition of fees in schools maintained by local education authorities ...'), Education Act 1944.\\n\\n^ \",\n",
       " 'School leaving age',\n",
       " '. UK Government. Retrieved 20 April 2016.\\n\\n^ ',\n",
       " \"England's pupils in global top 10\",\n",
       " '. BBC News. 10 December 2008.\\n\\n^ Frankel, Hannah (3 September 2010). ',\n",
       " 'Is Oxbridge still a preserve of the posh?',\n",
       " '. TES. London. Retrieved 9 April 2013.\\n\\n^ MacLeod, Donald (9 November 2007). ',\n",
       " 'Private school pupil numbers in decline',\n",
       " '. The Guardian. London. Retrieved 31 March 2010.\\n\\n^ ',\n",
       " 'Independent Schools Council Research\\xa0:',\n",
       " '. Retrieved 20 April 2016.\\n\\n^ ',\n",
       " 'About SQA',\n",
       " '. Scottish Qualifications Authority. 10 April 2013. Retrieved 28 April 2013.\\n\\n^ ',\n",
       " 'About Learning and Teaching Scotland',\n",
       " '. Learning and Teaching Scotland. Archived from the original on 1 April 2012. Retrieved 28 April 2013.\\n\\n^ ',\n",
       " 'Brain drain in reverse',\n",
       " '. Scotland Online Gateway. July 2002. Archived from the original on 4 December 2007.\\n\\n^ ',\n",
       " 'Facts and Figures',\n",
       " '. SCIS. Retrieved 14 November 2017.\\n\\n^ ',\n",
       " 'MSPs vote to scrap endowment fee',\n",
       " '. BBC News. 28 February 2008.\\n\\n^ ',\n",
       " 'Education System',\n",
       " '. Welsh Government. Archived from the original on 12 March 2015. Retrieved 9 March 2015.\\n\\n^ CCEA. ',\n",
       " 'About Us\\xa0– What we do',\n",
       " '. Council for the Curriculum Examinations & Assessment. Retrieved 28 April 2013.\\n\\n^ Haden, Angela; Campanini, Barbara, eds. (2000). The world health report 2000\\xa0– Health systems: improving performance (PDF). Geneva: World Health Organisation. ISBN\\xa0978-92-4-156198-3. Retrieved 5 July 2011.\\n\\n^ World Health Organization. ',\n",
       " 'Measuring overall health system performance for 191 countries',\n",
       " ' (PDF). New York University. Retrieved 5 July 2011.\\n\\n^ Fisher, Peter. ',\n",
       " 'The NHS from Thatcher to Blair',\n",
       " '. NHS Consultants Association. The Budget\\xa0... was even more generous to the NHS than had been expected amounting to an annual rise of 7.4% above the rate of inflation for the next 5 years. This would take us to 9.4% of GDP spent on health ie around EU average.\\n\\n^ ',\n",
       " 'OECD Health Data 2012\\xa0– How Does the United Kingdom Compare',\n",
       " ' (PDF). Paris: Organisation for Economic Co-operation and Development. Archived from the original (PDF) on 10 March 2013. Retrieved 9 March 2015.\\n\\n^ ',\n",
       " \"'Huge contrasts' in devolved NHS\",\n",
       " '. BBC News. 28 August 2008.\\n\\n^ Triggle, Nick (2 January 2008). ',\n",
       " 'NHS now four different systems',\n",
       " '. BBC News.\\n\\n^ ',\n",
       " 'BBC poll: Germany most popular country in the world',\n",
       " '. BBC. 23 May 2013. Retrieved 20 February 2018.\\n\\n^ ',\n",
       " 'World Service Global Poll: Negative views of Russia on the rise',\n",
       " '. BBC.co.uk. 4 June 2014. Retrieved 20 February 2018.\\n\\n^ Goldfarb, Jeffrey (10 May 2006). ',\n",
       " 'Bookish Britain overtakes America as top publisher',\n",
       " '. RedOrbit. Texas. Reuters. Archived from the original on 6 January 2008.\\n\\n^ ',\n",
       " 'William Shakespeare (English author)',\n",
       " '. Britannica Online encyclopedia. Retrieved 26 February 2006.\\n\\n^ MSN Encarta Encyclopedia article on Shakespeare. Archived from the original on 9 February 2006. Retrieved 26 February 2006.\\n\\n^ William Shakespeare. Columbia Electronic Encyclopedia. Retrieved 26 February 2006.\\n\\n^ ',\n",
       " \"Mystery of Christie's success is solved\",\n",
       " '. The Daily Telegraph. London. 19 December 2005. Retrieved 14 November 2010.\\n\\n^ ',\n",
       " 'Edinburgh, UK appointed first UNESCO City of Literature',\n",
       " '. Unesco. 2004. Archived from the original on 28 May 2013. Retrieved 9 March 2015.\\n\\n^ ',\n",
       " 'Early Welsh poetry',\n",
       " '. BBC Wales. Retrieved 29 December 2010.\\n\\n^ Lang, Andrew (2003) [1913]. History of English Literature from Beowulf to Swinburne. Holicong, PA: Wildside Press. p.\\xa042. ISBN\\xa0978-0-8095-3229-2.\\n\\n^ ',\n",
       " 'Dafydd ap Gwilym',\n",
       " \". Academi website. Academi. 2011. Archived from the original on 27 May 2012. Retrieved 3 January 2011. Dafydd ap Gwilym is widely regarded as one of the greatest Welsh poets of all time, and amongst the leading European poets of the Middle Ages.\\n\\n^ True birthplace of Wales's literary hero. BBC News. Retrieved 28 April 2012.\\n\\n^ \",\n",
       " 'Kate Roberts: Biography',\n",
       " \". BBC Wales. Archived from the original on 24 July 2012. Retrieved 19 February 2017.\\n\\n^ Swift, Jonathan; Fox, Christopher (1995). Gulliver's travels: complete, authoritative text with biographical and historical contexts, critical history, and essays from five contemporary critical perspectives. Basingstoke: Macmillan. p.\\xa010. ISBN\\xa0978-0-333-63438-7.\\n\\n^ \",\n",
       " 'Bram Stoker',\n",
       " ' (PDF). The New York Times. 23 April 1912. Retrieved 1 January 2011.\\n\\n^ a b ',\n",
       " '1960–1969',\n",
       " '. EMI Group. Archived from the original on 25 April 2014. Retrieved 9 March 2015.\\n\\n^ a b ',\n",
       " 'Paul At Fifty',\n",
       " '. Time. New York. 8 June 1992.\\n\\n^ a b Most Successful Group The Guinness Book of Records 1999, p. 230. Retrieved 19 March 2011.\\n\\n^ ',\n",
       " 'British Citizen by Act of Parliament: George Frideric Handel',\n",
       " '. UK Parliament. 20 July 2009. Archived from the original on 26 March 2010. Retrieved 9 March 2015.\\n\\n^ Andrews, John (14 April 2006). ',\n",
       " \"Handel all'inglese\",\n",
       " '. Playbill. New York. Retrieved 11 September 2009.\\n\\n^ Citron, Stephen (2001). Sondheim and Lloyd-Webber: The new musical. London: Chatto & Windus. ISBN\\xa0978-1-85619-273-6.\\n\\n^ ',\n",
       " 'Beatles a big hit with downloads',\n",
       " '. Belfast Telegraph. 25 November 2010. Retrieved 16 May 2011.\\n\\n^ ',\n",
       " 'British rock legends get their own music title for PlayStation3 and PlayStation2',\n",
       " ' (Press release). EMI. 2 February 2009. Archived from the original on 23 April 2014. Retrieved 9 March 2015.\\n\\n^ Khan, Urmee (17 July 2008). ',\n",
       " 'Sir Elton John honoured in Ben and Jerry ice cream',\n",
       " '. The Daily Telegraph. London.\\n\\n^ Alleyne, Richard (19 April 2008). ',\n",
       " 'Rock group Led Zeppelin to reunite',\n",
       " '. The Daily Telegraph. London. Retrieved 31 March 2010.\\n\\n^ ',\n",
       " \"Floyd 'true to Barrett's legacy'\",\n",
       " '. BBC News. 11 July 2006.\\n\\n^ Holton, Kate (17 January 2008). ',\n",
       " 'Rolling Stones sign Universal album deal',\n",
       " '. Reuters. Retrieved 26 October 2008.\\n\\n^ Walker, Tim (12 May 2008). ',\n",
       " \"Jive talkin': Why Robin Gibb wants more respect for the Bee Gees\",\n",
       " '. The Independent. London. Retrieved 26 October 2008.\\n\\n^ ',\n",
       " 'Brit awards winners list 2012: every winner since 1977',\n",
       " '. The Guardian (London). Retrieved 28 February 2012.\\n\\n^ Corner, Lewis (16 February 2012). ',\n",
       " 'Adele, Coldplay biggest-selling UK artists worldwide in 2011',\n",
       " '. Digital Spy. Retrieved 22 March 2012.\\n\\n^ Hughes, Mark (14 January 2008). ',\n",
       " 'A tale of two cities of culture: Liverpool vs Stavanger',\n",
       " '. The Independent. London. Retrieved 2 August 2009.\\n\\n^ ',\n",
       " 'Glasgow gets city of music honour',\n",
       " '. BBC News. 20 August 2008. Retrieved 2 August 2009.\\n\\n^ a b ',\n",
       " 'UK music single sales: genre breakdown 2016 | Statistic',\n",
       " '. Statista. Retrieved 2018-06-18.\\n\\n^ ',\n",
       " '5 U.K. Rappers Primed to Take Over America in 2018',\n",
       " '. Billboard. Retrieved 2018-06-18.\\n\\n^ ',\n",
       " 'Hip-Hop Is the Most-Streamed Genre on Spotify Globally, Up 74% Year Over Year',\n",
       " '. DJBooth. Retrieved 2018-06-18.\\n\\n^ ',\n",
       " \"All 50 Songs on SoundCloud's Top 50 Most Popular List Are Made by Rappers\",\n",
       " '. PigeonsandPlanes. Retrieved 2018-06-18.\\n\\n^ Haynes, Gavin (2017-01-27). ',\n",
       " \"What the phonk? The genre that's gripping Generation Z\",\n",
       " '. the Guardian. Retrieved 2018-06-18.\\n\\n^ ',\n",
       " 'How Music Has Impacted Generation Z',\n",
       " '. The Rampart. 2017-03-24. Retrieved 2018-06-18.\\n\\n^ ',\n",
       " 'Ready For The Weeknd: What Makes The Enigmatic R&B Star Tick - NME',\n",
       " '. NME. 2016-11-17. Retrieved 2018-06-18.\\n\\n^ Wolfson, Sam (2015-06-29). ',\n",
       " 'How R&B got its groove back',\n",
       " '. the Guardian. Retrieved 2018-06-18.\\n\\n^ Tate. ',\n",
       " 'Art & Language – Art Term | Tate',\n",
       " '. Tate. Retrieved 2018-09-08.\\n\\n^ Bayley, Stephen (24 April 2010). ',\n",
       " 'The startling success of Tate Modern',\n",
       " '. The Times. London. Retrieved 19 January 2011. (subscription required)\\n\\n^ ',\n",
       " 'The top 21 British directors of all time',\n",
       " '. The Daily Telegraph. Retrieved 19 June 2015.\\n\\n^ ',\n",
       " \"Vertigo is named 'greatest film of all time'\",\n",
       " '. BBC News. 2 August 2012. Retrieved 18 August 2012.\\n\\n^ ',\n",
       " \"The Directors' Top Ten Directors\",\n",
       " '. British Film Institute. Archived from the original on 27 May 2012.\\n\\n^ ',\n",
       " 'Chaplin, Charles (1889–1977)',\n",
       " '. British Film Institute. Retrieved 25 January 2011.\\n\\n^ ',\n",
       " 'Powell, Michael (1905–1990)',\n",
       " '. British Film Institute. Retrieved 25 January 2011.\\n\\n^ ',\n",
       " 'Reed, Carol (1906–1976)',\n",
       " '. British Film Institute. Retrieved 25 January 2011.\\n\\n^ ',\n",
       " 'Wright, Edgar (1974–)',\n",
       " '. British Film Institute. Retrieved 12 September 2017.\\n\\n^ ',\n",
       " 'Nolan, Christopher (1970–)',\n",
       " '. British Film Institute. Retrieved 6 May 2017.\\n\\n^ ',\n",
       " 'Scott, Sir Ridley (1937–)',\n",
       " '. British Film Institute. Retrieved 25 January 2011.\\n\\n^ ',\n",
       " 'Andrews, Julie (1935–)',\n",
       " '. British Film Institute. Retrieved 11 December 2010.\\n\\n^ ',\n",
       " 'Burton, Richard (1925–1984)',\n",
       " '. British Film Institute. Retrieved 11 December 2010.\\n\\n^ ',\n",
       " 'Caine, Michael (1933–)',\n",
       " '. British Film Institute. Retrieved 11 December 2010.\\n\\n^ ',\n",
       " 'Firth, Colin (1960–)',\n",
       " '. British Film Institute. Retrieved 12 September 2017.\\n\\n^ ',\n",
       " 'Oldman, Gary (1958–)',\n",
       " '. British Film Institute. Retrieved 12 September 2017.\\n\\n^ ',\n",
       " 'Kingsley, Ben (1942–)',\n",
       " '. British Film Institute. Retrieved 12 September 2017.\\n\\n^ ',\n",
       " 'McKellen, Ian (1939–)',\n",
       " '. British Film Institute. Retrieved 12 September 2017.\\n\\n^ ',\n",
       " 'Neeson, Liam (1952–)',\n",
       " '. British Film Institute. Retrieved 12 September 2017.\\n\\n^ ',\n",
       " 'Chaplin, Charles (1889–1977)',\n",
       " '. British Film Institute. Retrieved 11 December 2010.\\n\\n^ ',\n",
       " 'Connery, Sean (1930–)',\n",
       " '. British Film Institute. Retrieved 11 December 2010.\\n\\n^ ',\n",
       " 'Leigh, Vivien (1913–1967)',\n",
       " '. British Film Institute. Retrieved 11 December 2010.\\n\\n^ ',\n",
       " 'Niven, David (1910–1983)',\n",
       " '. British Film Institute. Retrieved 11 December 2010.\\n\\n^ ',\n",
       " 'Olivier, Laurence (1907–1989)',\n",
       " ...]"
      ]
     },
     "execution_count": 89,
     "metadata": {},
     "output_type": "execute_result"
    }
   ],
   "source": [
    "articleString.split(sep = '\"')"
   ]
  },
  {
   "cell_type": "code",
   "execution_count": null,
   "metadata": {},
   "outputs": [],
   "source": []
  },
  {
   "cell_type": "code",
   "execution_count": null,
   "metadata": {},
   "outputs": [],
   "source": []
  },
  {
   "cell_type": "code",
   "execution_count": null,
   "metadata": {},
   "outputs": [],
   "source": []
  },
  {
   "cell_type": "code",
   "execution_count": null,
   "metadata": {},
   "outputs": [],
   "source": []
  },
  {
   "cell_type": "code",
   "execution_count": null,
   "metadata": {},
   "outputs": [],
   "source": []
  },
  {
   "cell_type": "markdown",
   "metadata": {
    "colab_type": "text",
    "id": "6jl8n3kdlzpB"
   },
   "source": [
    "Answer:"
   ]
  },
  {
   "cell_type": "code",
   "execution_count": 90,
   "metadata": {
    "colab": {
     "base_uri": "https://localhost:8080/",
     "height": 9438
    },
    "colab_type": "code",
    "executionInfo": {
     "elapsed": 338,
     "status": "ok",
     "timestamp": 1534688943206,
     "user": {
      "displayName": "William Hartemink",
      "photoUrl": "https://lh3.googleusercontent.com/a/default-user=s128",
      "userId": "117653304702534641755"
     },
     "user_tz": 240
    },
    "id": "-IVMDHo_Z3W3",
    "outputId": "9afe4ea6-a13b-4360-affb-433fc646592f"
   },
   "outputs": [
    {
     "name": "stdout",
     "output_type": "stream",
     "text": [
      "UK\n",
      "UK\n",
      "United Kingdom\n",
      "God Save the Queen\n",
      "very high\n",
      "United into One Kingdom by the Name of Great Britain\n",
      "Kingdom of Great Britain\n",
      "United Kingdom of Great Britain\n",
      "One Kingdom\n",
      "United Kingdom\n",
      "United Kingdom of Great Britain\n",
      "Great Britain\n",
      "long form\n",
      "United Kingdom of Great Britain and Northern Ireland\n",
      "countries within a country\n",
      "regions\n",
      "province\n",
      "can be controversial, with the choice often revealing one's political preferences\n",
      "Great Britain\n",
      "Great Britain\n",
      "Team GB\n",
      "Britain\n",
      "authoritative geographical names of the United Kingdom\n",
      "United Kingdom\n",
      "UK or U.K.\n",
      "Britain\n",
      "informally\n",
      "British\n",
      "Teyrnas Unedig Prydain Fawr a Gogledd Iwerddon\n",
      "Teyrnas Unedig\n",
      "DU\n",
      "Y Deyrnas Unedig\n",
      "Rìoghachd Aonaichte Bhreatainn is Èireann a Tuath\n",
      "Rìoghachd Aonaichte\n",
      "United Kingdom\n",
      "British Peace\n",
      "workshop of the world\n",
      "Good Friday\n",
      "[The] Overseas Territories are British for as long as they wish to remain British. Britain has willingly granted independence where it has been requested; and we will continue to do so where this is an option.\n",
      "territories for which the United Kingdom is responsible\n",
      "the right to be consulted, the right to encourage, and the right to warn\n",
      "constitutional law\n",
      "constitutional reform\n",
      "guilty\n",
      "not guilty\n",
      "not proven\n",
      "not guilty\n",
      "not proven\n",
      "Special Relationship\n",
      "Entente cordiale\n",
      "the most demanding operations\n",
      "command centres\n",
      "crucial stage\n",
      "severe material depression\n",
      "at the heart of super-rich tax-avoidance network.\n",
      "supermajors\n",
      "water only\n",
      "other\n",
      "I don't know\n",
      "about 75% of the traceable ancestors of the modern British population had arrived in the British isles by about 6,200 years ago, at the start of the British Neolithic or Stone Age\n",
      "some knowledge of Irish\n",
      "maintain and preserve the Protestant Religion and Presbyterian Church Government\n",
      "Oxbridge\n",
      "cultural superpower\n",
      "Do not go gentle into that good night; Rage, rage against the dying of the light\n",
      "play for voices\n",
      "poet-priest\n",
      "Young British Artists\n",
      "a true British national dish.\n",
      "strong, penetrating spices and herbs\n",
      "broadsheet\n",
      "common sense\n",
      "Freddie\n",
      "This great, sports-loving country is widely recognised as the birthplace of modern sport. It was here that the concepts of sportsmanship and fair play were first codified into clear rules and regulations. It was here that sport was included as an educational tool in the school curriculum\n",
      "sport of kings\n",
      "God Save the Queen\n",
      "Queen\n",
      "King\n",
      "Rule, Britannia!\n",
      "God Save the Queen\n",
      "God Save the Queen\n",
      "The United Kingdom of Great Britain and Ireland\n",
      "African\n",
      "Caribbean or Black\n",
      "Black or Black British\n",
      "the African categories used in Scotland could potentially capture White/Asian/Other African in addition to Black identities\n",
      "National Anthem\n",
      "List of declarations made with respect to treaty No. 148\n",
      "Welsh language on GOV.UK - Content design: planning, writing and managing content - Guidance - GOV.UK\n",
      "Welsh language scheme\n",
      "Welsh language scheme\n",
      "UNdata | record view | Population by religion, sex and urban/rural residence\n",
      "Less religious and more ethnically diverse: Census reveals a picture of Britain today\n",
      "Demographic Yearbook – Table 3: Population by sex, rate of population increase, surface area and density\n",
      "Population estimates for UK, England and Wales, Scotland and Northern Ireland: mid-2017\n",
      "2011 UK censuses\n",
      "Report for Selected Countries and Subjects – United Kingdom\n",
      "Gini coefficient of equivalised disposable income (source: SILC)\n",
      "2018 Human Development Report\n",
      "Toponymic guidelines for the United Kingdom\n",
      "Definition of Great Britain in English\n",
      "Queen takes over longest reign mantle after Thailand's King Bhumibol dies\n",
      "Countries within a country\n",
      "Devolution of powers to Scotland, Wales and Northern Ireland\n",
      "Fall in UK university students\n",
      "Country Overviews: United Kingdom\n",
      "Key facts about the United Kingdom\n",
      "Supporting the Overseas Territories\n",
      "Great+power\n",
      "IISS Military Balance 2017\n",
      "Treaty of Union, 1706\n",
      "After the political union of England and Scotland in 1707, the nation's official name became 'Great Britain'\n",
      "From 1707 until 1801 Great Britain was the official designation of the kingdoms of England and Scotland\n",
      "In 1707, on the union with Scotland, 'Great Britain' became the official name of the British Kingdom, and so continued until the union with Ireland in 1801\n",
      "History of Great Britain (from 1707)\n",
      "Changes in the list of subdivision names and code elements\n",
      "Statistical bulletin: Regional Labour Market Statistics\n",
      "13.4% Fall In Earnings Value During Recession\n",
      "Guardian Unlimited Style Guide\n",
      "BBC style guide (Great Britain)\n",
      "Key facts about the United Kingdom\n",
      "Great Britain: England, Wales, and Scotland considered as a unit. The name is also often used loosely to refer to the United Kingdom.\n",
      "Great Britain\n",
      "Team GB Olympic name row still simmering in Northern Ireland\n",
      "Britain Meaning in the Cambridge English Dictionary\n",
      "Definition of Britain in English by Oxford Dictionaries\n",
      "Britain definition and meaning\n",
      "Britain - Definition for English-Language Learners\n",
      "Alphabetical checklist\n",
      "A to Z - Style guide\n",
      "Toponymic guidelines for the United Kingdom\n",
      "Countries within a country\n",
      "Which of these best describes the way you think of yourself?\n",
      "Ffeithiau allweddol am y Deyrnas Unedig\n",
      "Ancient skeleton was 'even older'\n",
      "The Welsh Academy encyclopaedia of Wales\n",
      "Short Athelstan biography\n",
      "The Hundred Years' War\n",
      "British History in Depth – Wales under the Tudors\n",
      "English Civil Wars\n",
      "Scotland and the Commonwealth: 1651–1660\n",
      "Tudor Period and the Birth of a Regular Navy\n",
      "Articles of Union with Scotland 1707\n",
      "Acts of Union 1707\n",
      "Treaty (act) of Union 1706\n",
      "Anti-Slavery International\n",
      "The Act of Union\n",
      "The Workshop of the World\n",
      "The Anglo-Irish Treaty, 6 December 1921\n",
      "The Four Policemen and. Postwar Planning, 1943-1945: The Collision of Realist and. Idealist Perspectives\n",
      "The \n",
      " between Great Britain and the United States Began with FDR\n",
      "Remarks by the President Obama and Prime Minister Cameron in Joint Press Conference\n",
      "Britain to make its final payment on World War II loan from U.S.\n",
      "Country List\n",
      "The cultural superpower: British cultural projection abroad\n",
      "Cameron has chance to make UK great again\n",
      "1975: UK embraces Europe in referendum\n",
      "The UK's EU referendum: All you need to know\n",
      "The troubles were over, but the killing continued. Some of the heirs to Ireland's violent traditions refused to give up their inheritance.\n",
      "Reforging the Union: Devolution and Constitutional Change in the United Kingdom\n",
      "Military action alone will not save Libya\n",
      "United Kingdom country profile\n",
      "Scotland to hold independence poll in 2014 – Salmond\n",
      "In stunning decision, Britain votes to leave the E.U.\n",
      "Brexit Day recap: Article 50 officially triggered on historic day as Theresa May warns: 'No turning back'\n",
      "Theresa May officially starts Brexit process; Article 50 letter handed over\n",
      "British Isles: a geographical term for the islands comprising Great Britain and Ireland with all their offshore islands including the Isle of Man and the Channel Islands.\n",
      "United Kingdom\n",
      "United Kingdom – Atlapedia Online\n",
      "The Prime Meridian at Greenwich\n",
      "How long is the UK coastline?\n",
      "The Channel Tunnel\n",
      "England – Profile\n",
      "Scotland Facts\n",
      "The complete guide to the ... Scottish Islands\n",
      "Overview of Highland Boundary Fault\n",
      "Great Britain's tallest mountain is taller\n",
      "Ben Nevis Weather\n",
      "Profile: Wales\n",
      "Geography of Northern Ireland\n",
      "UK climate summaries\n",
      "Atlantic Ocean Circulation (Gulf Stream)\n",
      "Ninth UN Conference on the standardization of Geographical Names\n",
      "Welcome to the national site of the Government Office Network\n",
      "A short history of London government\n",
      "Prescott's dream in tatters as North East rejects assembly\n",
      "Local Authority Elections\n",
      "STV in Scotland: Local Government Elections 2007\n",
      "Unitary authorities\n",
      "NI local government set for shake-up\n",
      "Foster announces the future shape of local government\n",
      "Background briefing on the Crown Dependencies: Jersey, Guernsey and the Isle of Man\n",
      "Overseas Territories\n",
      "The World Factbook\n",
      "Country profiles\n",
      "Partnership for Progress and Prosperity\n",
      "Bermudians vote to stay British\n",
      "Gibraltar referendum result in quotes\n",
      "Falklands: Cameron says Argentina should respect vote\n",
      "House of Commons – Crown Dependencies – Justice Committee\n",
      "Profile of Jersey\n",
      "Chief Minister to meet Channel Islands counterparts – Isle of Man Public Services\n",
      "A Guide To the UK Legal System\n",
      "Parliamentary sovereignty\n",
      "The Government, Prime Minister and Cabinet\n",
      "Brown is UK's new prime minister\n",
      "Elections and voting\n",
      "The Parliament Acts\n",
      "Crooked Margins and Marginal Seats\n",
      "Ideological Development in the UK\n",
      "Sinn Féin MP says party will always boycott Westminster, despite report\n",
      "Scots MPs attacked over fees vote\n",
      "Talking Politics: The West Lothian Question\n",
      "England-only laws 'need majority from English MPs'\n",
      "Scotland's Parliament – powers and structures\n",
      "Scotland Votes No\n",
      "Structure and powers of the Assembly\n",
      "Your Executive\n",
      "Unfinished Business: The Scotland Act 1998\n",
      "United Kingdom: Parliamentary sovereignty under pressure\n",
      "devolved matters\n",
      "Scotland, Northern Ireland, and Devolution, 1945–1979\n",
      "The Constitutional Revolution in the United Kingdom\n",
      "The Belfast Agreement—Its Distinctiveness and Points of Cross-Fertilization in the UK's Devolution Programme\n",
      "The Treaty (act) of the Union of Parliament 1706\n",
      "UK Supreme Court judges sworn in\n",
      "Constitutional reform: A Supreme Court for the United Kingdom\n",
      "Role of the JCPC\n",
      "The Australian courts and comparative law\n",
      "Court of Session – Introduction\n",
      "High Court of Justiciary – Introduction\n",
      "House of Lords – Practice Directions on Permission to Appeal\n",
      "Introduction\n",
      "Not proven: introducing a third verdict\n",
      "Crime in England and Wales, Year Ending June 2015\n",
      "UK prison population figures\n",
      "• England & Wales: Recorded homicides 2002–2015 – UK Statistics\n",
      "Sexual offences at highest levels since records began but overall crimes fall – UK – News – Daily Express\n",
      "Scottish homicide figures fall to another record low\n",
      "Barack Obama presidency will strengthen special relationship, says Gordon Brown\n",
      "DFID's expenditure on development assistance\n",
      "Ministry of Defence\n",
      "Speaker addresses Her Majesty Queen Elizabeth II\n",
      "House of Commons Hansard\n",
      "House of Commons Hansard Written Answers for 17 Jun 2013 (pt 0002)\n",
      "Trends in World Military Expenditure, 2016\n",
      "Principles for Economic Regulation\n",
      "Global reserves, dollar share up at end of 2007-IMF\n",
      "More About the Bank\n",
      "UK index of services: October 2017\n",
      "Global Financial Centres 7\n",
      "Worldwide Centres of Commerce Index 2008\n",
      "\n",
      "\n",
      "Global city GDP rankings 2008–2025\n",
      "UNWTO Tourism Highlights, Edition 2005\n",
      "Euromonitor International's Top City Destination Ranking\n",
      "From the Margins to the Mainstream – Government unveils new action plan for the creative industries\n",
      "European Countries – United Kingdom\n",
      "TUC Manufacturing Conference\n",
      "Motor Industry Facts 2016\n",
      "Britain's aerospace sector soars amid fears Brexit could clip its wings\n",
      "The Aerospace industry has thousands of jobs in peril\n",
      "The Pharmaceutical sector in the UK\n",
      "Ministerial Industry Strategy Group – Pharmaceutical Industry: Competitiveness and Performance Indicators\n",
      "Agriculture in the United Kingdom\n",
      "Coal | Mines & quarries | MineralsUK\n",
      "UK in recession as economy slides\n",
      "The AAA-rated club: which countries still make the grade?\n",
      "UK loses top AAA credit rating for first time since 1978\n",
      "UK employment rate hits highest level since records began\n",
      "UK has fastest-growing economy, International Monetary Fund says\n",
      "UK unemployment falls to 1.75 million\n",
      "Income inequality: poverty falling faster than ever but the 1% are racing ahead\n",
      "Gap between rich and poor growing fastest in Britain\n",
      "How poor is Britain now\n",
      "Report highlights 'bleak' poverty levels in the UK\n",
      "Dark money: London's dirty secret\n",
      "London is now the global money-laundering centre for the drug trade, says crime expert\n",
      "London property market turned into money laundering safe haven by inadequate supervision, MPs say\n",
      "UK draws billions in unrecorded inflows, much from Russia – study\n",
      "Russian money infects London\n",
      "David Cameron urged to act on Panama Papers as UK named 'at heart of super-rich tax-avoidance network'\n",
      "A reappraisal of the role of the universities in the Scientific Revolution\n",
      "The Nobel Prize in Physiology or Medicine 1945: Sir Alexander Fleming, Ernst B. Chain, Sir Howard Florey\n",
      "Alexander Graham Bell (1847–1922)\n",
      "John Logie Baird (1888–1946)\n",
      "Knowledge, networks and nations: scientific collaborations in the twenty-first century\n",
      "Is peer review broken?\n",
      "Heathrow 'needs a third runway'\n",
      "Statistics: Top 30 World airports\n",
      "Transport Statistics Great Britain: 2010\n",
      "Passenger Rail Usage 2015–16 Q3 Statistical Release\n",
      "Revealed: How the world gets rich – from privatising British public services\n",
      "High-speed rail's long journey\n",
      "Crossrail's giant tunnelling machines unveiled\n",
      "Crossrail delayed to save £1bn\n",
      "Size of Reporting Airports October 2009 – September 2010\n",
      "BMI being taken over by Lufthansa\n",
      "United Kingdom Energy Profile\n",
      "Let the battle begin over black gold\n",
      "RBA Says Currency Containing Prices, Rate Level 'Appropriate' in Near Term\n",
      "Nuclear Power in the United Kingdom\n",
      "Total Petroleum and Other Liquids Production, 2013\n",
      "United Kingdom Crude Oil Consumption by Year\n",
      "United Kingdom – Oil\n",
      "United Kingdom – Natural Gas\n",
      "United Kingdom – Quick Facts Energy Overview\n",
      "Coal Reserves in the United Kingdom\n",
      "England Expert predicts 'coal revolution'\n",
      "Fracking: Concerns over gas extraction regulations\n",
      "Quit fracking aboot\n",
      "Department of Energy and Climate Change: Annual tables: 'Digest of UK energy statistics' (DUKES) – Chapter 6: Renewable Sources of energy\n",
      "UK Renewable Energy Roadmap Crown copyright, July 2011\n",
      "BBC – Weather Centre – Climate Change – Wind Power\n",
      "RenewableUK – RenewableUK News – Electricity needs of more than a quarter of UK homes powered by wind in 2014\n",
      "WHO / UNICEF Joint Monitoring Programme: 404 error\n",
      "Environment Agency\n",
      "Census Geography\n",
      "2011 Census: Population Estimates for the United Kingdom\n",
      "Population Estimates for UK, England and Wales, Scotland and Northern Ireland, Mid-2015\n",
      "Annual Mid-year Population Estimates, 2010\n",
      "2011 UK censuses\n",
      "England is most crowded country in Europe\n",
      "Scotland's population at record high\n",
      "Vital Statistics: Population and Health Reference Tables (February 2014 Update): Annual Time Series Data\n",
      "The question: What's behind the baby boom?\n",
      "Sexual identity, UK: 2015 – Experimental Official Statistics on sexual identity in the UK in 2015 by region, sex, age, marital status, ethnicity and NS-SEC\n",
      "2011 Census - Built-up areas\n",
      "Welsh people could be most ancient in UK, DNA suggests\n",
      "Evidence for a segregated social structure in early Anglo-Saxon England\n",
      "Review of 'The Tribes of Britain'\n",
      "Myths of British ancestry\n",
      "Scientist – Griffin hijacked my work to make race claim about 'British aborigines'\n",
      "Victoria and Albert Museum Black Presence\n",
      "Culture and Ethnicity Differences in Liverpool – Chinese Community\n",
      "The demographic characteristics of immigrant populations\n",
      "Britain's visible minorities: a demographic overview\n",
      "Short History of Immigration\n",
      "Migration Flows of A8 and other EU Migrants to and from the UK\n",
      "Super-diversity and its implications\n",
      "Opinion: Super-diversity revealed\n",
      "Answer Formats in British Census and Survey Ethnicity Questions: Does Open Response Better Capture 'Superdiversity'?\n",
      "Negotiating race and ethnicity: Exploring the implications of the 1991 census\n",
      "Censuses, identity formation, and the struggle for political power\n",
      "2011 Census: Ethnic group, local authorities in the United Kingdom\n",
      "Population Size: 7.9% from a minority ethnic group\n",
      "Ethnicity and National Identity in England and Wales 2011\n",
      "Resident population estimates by ethnic group (percentages): London\n",
      "Resident population estimates by ethnic group (percentages): Leicester\n",
      "Census 2001 – Ethnicity and religion in England and Wales\n",
      "Britain's amazing technicolour dreamcoat\n",
      "Population size: 7.9% from a non-White ethnic group\n",
      "Table KS201SC – Ethnic group: All people\n",
      "Ethnic group\n",
      "Official EU languages\n",
      "Language Courses in New York\n",
      "English language – Government, citizens and rights\n",
      "Commonwealth Secretariat – UK\n",
      "Languages across Europe: United Kingdom\n",
      "Polish becomes England's second language\n",
      "European Charter for Regional or Minority Languages, Strasbourg, 5.XI.1992\n",
      "Framework Convention for the Protection of National Minorities, Strasbourg, 1.II.1995\n",
      "Welsh Language\n",
      "Differences in estimates of Welsh Language Skills\n",
      "Welsh today\n",
      "Scotland's Census 2001 – Gaelic Report\n",
      "Local UK languages 'taking off'\n",
      "Language Data – Scots\n",
      "Fall in compulsory language lessons\n",
      "The School Gate for parents in Wales\n",
      "British religion in numbers\n",
      "UK Census 2001\n",
      "Religious Populations\n",
      "United Kingdom: New Report Finds Only One in 10 Attend Church\n",
      "British Census: Islam Fastest-Growing Faith in England; Christians Drop to 59% of Population\n",
      "The percentage of the population with no religion has increased in England and Wales\n",
      "British Social Attitudes: Record number of Brits with no religion\n",
      "Queen and Church of England\n",
      "Queen and the Church\n",
      "How we are organised\n",
      "United Kingdom, a major transformation of the religious landscape\n",
      "Germans in Britain Since 1500\n",
      "East End Jews\n",
      "A summary history of immigration to Britain\n",
      "The Jews\n",
      "Short history of immigration\n",
      "A summary history of immigration to Britain\n",
      "Immigration, Population and Ethnicity: The UK in International Perspective\n",
      "Migration Statistics Quarterly Report May 2015\n",
      "Right of Union citizens and their family members to move and reside freely within the territory of the Member States\n",
      "Home Office shuts the door on Bulgaria and Romania\n",
      "Young, self-reliant, educated: portrait of UK's eastern European migrants\n",
      "Packing up for home: Poles hit by UK's economic downturn\n",
      "Migrants to UK 'returning home'\n",
      "UK sees shift in migration trend\n",
      "Migration Statistics Quarterly Report May 2012\n",
      "6.5% of the EU population are foreigners and 9.4% are born abroad\n",
      "Europe: Population and Migration in 2005\n",
      "Immigration and births to non-British mothers pushes British population to record high\n",
      "Birth Summary Tables, England and Wales, 2014\n",
      "Tories call for tougher control of immigration\n",
      "UK net migration rises 21%\n",
      "Naturalisation as a British Citizen: Concepts and Trends\n",
      "Settlement in the UK\n",
      "The 1901 Census\n",
      "summary history of immigration to Britain\n",
      "UK 2011 Census Data\n",
      "Non-UK Born Population of England and Wales Quadrupled Between 1951 and 2011\n",
      "2011 Census analysis: Immigration Patterns of Non-UK Born Populations in England and Wales in 2011\n",
      "Fresh Talent: Working in Scotland\n",
      "Tories begin consultation on cap for migrants\n",
      "Brits Abroad: Mapping the scale and nature of British emigration\n",
      "Brits Abroad: world overview\n",
      "5.5 m Britons 'opt to live abroad'\n",
      "Brits Abroad: Country-by-country\n",
      "The Most Educated Countries in the World\n",
      "And the World's Most Educated Country Is…\n",
      "Academic Ranking of World Universities 2015\n",
      "QS World University Rankings 2015/16\n",
      "World University Rankings 2015–16\n",
      "Best Global Universities Rankings 2016\n",
      "Elitist Britain?\n",
      "Elitism in Britain – breakdown by profession\n",
      "Local Authorities\n",
      "School leaving age\n",
      "England's pupils in global top 10\n",
      "Is Oxbridge still a preserve of the posh?\n",
      "Private school pupil numbers in decline\n",
      "Independent Schools Council Research :\n",
      "About SQA\n",
      "About Learning and Teaching Scotland\n",
      "Brain drain in reverse\n",
      "Facts and Figures\n",
      "MSPs vote to scrap endowment fee\n",
      "Education System\n",
      "About Us – What we do\n",
      "Measuring overall health system performance for 191 countries\n",
      "The NHS from Thatcher to Blair\n",
      "OECD Health Data 2012 – How Does the United Kingdom Compare\n",
      "'Huge contrasts' in devolved NHS\n",
      "NHS now four different systems\n",
      "BBC poll: Germany most popular country in the world\n",
      "World Service Global Poll: Negative views of Russia on the rise\n",
      "Bookish Britain overtakes America as top publisher\n",
      "William Shakespeare (English author)\n",
      "Mystery of Christie's success is solved\n",
      "Edinburgh, UK appointed first UNESCO City of Literature\n",
      "Early Welsh poetry\n",
      "Dafydd ap Gwilym\n",
      "Kate Roberts: Biography\n",
      "Bram Stoker\n",
      "1960–1969\n",
      "Paul At Fifty\n",
      "British Citizen by Act of Parliament: George Frideric Handel\n",
      "Handel all'inglese\n",
      "Beatles a big hit with downloads\n",
      "British rock legends get their own music title for PlayStation3 and PlayStation2\n",
      "Sir Elton John honoured in Ben and Jerry ice cream\n",
      "Rock group Led Zeppelin to reunite\n",
      "Floyd 'true to Barrett's legacy'\n",
      "Rolling Stones sign Universal album deal\n",
      "Jive talkin': Why Robin Gibb wants more respect for the Bee Gees\n",
      "Brit awards winners list 2012: every winner since 1977\n",
      "Adele, Coldplay biggest-selling UK artists worldwide in 2011\n",
      "A tale of two cities of culture: Liverpool vs Stavanger\n",
      "Glasgow gets city of music honour\n",
      "UK music single sales: genre breakdown 2016 | Statistic\n",
      "5 U.K. Rappers Primed to Take Over America in 2018\n",
      "Hip-Hop Is the Most-Streamed Genre on Spotify Globally, Up 74% Year Over Year\n",
      "All 50 Songs on SoundCloud's Top 50 Most Popular List Are Made by Rappers\n",
      "What the phonk? The genre that's gripping Generation Z\n",
      "How Music Has Impacted Generation Z\n",
      "Ready For The Weeknd: What Makes The Enigmatic R&B Star Tick - NME\n",
      "How R&B got its groove back\n",
      "Art & Language – Art Term | Tate\n",
      "The startling success of Tate Modern\n",
      "The top 21 British directors of all time\n",
      "Vertigo is named 'greatest film of all time'\n",
      "The Directors' Top Ten Directors\n",
      "Chaplin, Charles (1889–1977)\n",
      "Powell, Michael (1905–1990)\n",
      "Reed, Carol (1906–1976)\n",
      "Wright, Edgar (1974–)\n",
      "Nolan, Christopher (1970–)\n",
      "Scott, Sir Ridley (1937–)\n",
      "Andrews, Julie (1935–)\n",
      "Burton, Richard (1925–1984)\n",
      "Caine, Michael (1933–)\n",
      "Firth, Colin (1960–)\n",
      "Oldman, Gary (1958–)\n",
      "Kingsley, Ben (1942–)\n",
      "McKellen, Ian (1939–)\n",
      "Neeson, Liam (1952–)\n",
      "Chaplin, Charles (1889–1977)\n",
      "Connery, Sean (1930–)\n",
      "Leigh, Vivien (1913–1967)\n",
      "Niven, David (1910–1983)\n",
      "Olivier, Laurence (1907–1989)\n",
      "Sellers, Peter (1925–1980)\n",
      "Winslet, Kate (1975–)\n",
      "Anthony Hopkins\n",
      "Daniel Day-Lewis makes Oscar history with third award\n",
      "Harry Potter becomes highest-grossing film franchise\n",
      "History of Ealing Studios\n",
      "UK film – the vital statistics\n",
      "The BFI 100\n",
      "Baftas fuel Oscars race\n",
      "Robin Cook's chicken tikka masala speech\n",
      "Robin Cook's chicken tikka masala speech\n",
      "Chicken tikka masala: Spice and easy does it\n",
      "BBC: World's largest broadcaster & Most trusted media brand\n",
      "Digital license\n",
      "About the BBC – What is the BBC\n",
      "BBC: World's largest broadcaster & Most trusted media brand\n",
      "TV Licence Fee: facts & figures\n",
      "Publications & Policies: The History of ITV\n",
      "Publishing\n",
      "Direct Broadcast Satellite Television\n",
      "Publishing\n",
      "Communication Market Report 2010\n",
      "Social Trends 41: Lifestyles and social participation\n",
      "Top 20 countries with the highest number of Internet users\n",
      "Los Angeles to build world's most expensive stadium complex\n",
      "Opening ceremony of the games of the XXX Olympiad\n",
      "Unparalleled Sporting History\n",
      "Rugby Union 'Britain's Second Most Popular Sport'\n",
      "The father of football deserves much more\n",
      "Sheffield FC: 150 years of history\n",
      "History and time are key to power of football, says Premier League chief\n",
      "The first international football match\n",
      "Why is there no GB Olympics football team?\n",
      "Six ways the town of Rugby helped change the world\n",
      "Projectile Dynamics in Sport: Principles and Applications\n",
      "About ECB\n",
      "Howzat happen? England fields a Gaelic-speaking Scotsman in Ashes\n",
      "Uncapped Joyce wins Ashes call up\n",
      "Glamorgan\n",
      "125 years of Wimbledon: From birth of lawn tennis to modern marvels\n",
      "The History of British Motorsport and Motor Racing at Silverstone – The 1950s\n",
      "Routing the Golf Course: The Art & Science That Forms the Golf Journey\n",
      "Tracking the Field\n",
      "Links plays into the record books\n",
      "The Open Championship – More Scottish than British\n",
      "Official Website of Rugby League World Cup 2008\n",
      "100 years of rugby league: From the great divide to the Super era\n",
      "China in Ding's hands\n",
      "The ancient Irish sport of hurling catches on in America\n",
      "Shinty\n",
      "Sport in Scotland\n",
      "Welsh dragon call for Union flag\n",
      "Britannia on British Coins\n",
      "United Kingdom\n",
      "https://en.wikipedia.org/w/index.php?title=United_Kingdom&oldid=865339290\n"
     ]
    }
   ],
   "source": [
    "print(*articleString.split(sep = '\"')[1::2], sep = '\\n')"
   ]
  },
  {
   "cell_type": "markdown",
   "metadata": {
    "colab_type": "text",
    "id": "KF-hEP8xmReY"
   },
   "source": [
    "\n",
    "\n",
    "# ------------------------------------------------------------------------\n",
    "# New Section!\n",
    "# ------------------------------------------------------------------------\n",
    "\n",
    "\n",
    "# Dictionaries\n",
    "\n",
    "Dictionaries are another form of collection. The dictionary takes some \"key\" and outputs a \"value\". Simple!"
   ]
  },
  {
   "cell_type": "code",
   "execution_count": 91,
   "metadata": {
    "colab": {},
    "colab_type": "code",
    "id": "yLITuSBfZ57c"
   },
   "outputs": [],
   "source": [
    "dictionary = {\n",
    "    'a' : 'A',        # 'a' is a key, 'A' is a value\n",
    "    'b' : 'B'\n",
    "}"
   ]
  },
  {
   "cell_type": "code",
   "execution_count": 92,
   "metadata": {
    "colab": {},
    "colab_type": "code",
    "id": "-tS-f66kZ7UF"
   },
   "outputs": [
    {
     "data": {
      "text/plain": [
       "'B'"
      ]
     },
     "execution_count": 92,
     "metadata": {},
     "output_type": "execute_result"
    }
   ],
   "source": [
    "dictionary['b']"
   ]
  },
  {
   "cell_type": "markdown",
   "metadata": {
    "colab_type": "text",
    "id": "taIJoBvfn7i6"
   },
   "source": [
    "You can use them to keep similar variables together"
   ]
  },
  {
   "cell_type": "code",
   "execution_count": 96,
   "metadata": {
    "colab": {},
    "colab_type": "code",
    "id": "EKX3pklWoDMN"
   },
   "outputs": [],
   "source": [
    "headsOfHouses = {\n",
    "  \"All Souls\": \"Warden John Vickers\",\n",
    "  \"Balliol\": \"Master Helen Ghosh\",\n",
    "  \"Brasenose\": \"Principal John Bowers\",\n",
    "  \"Christ Church\": \"Dean Martyn Percy\",\n",
    "  \"Corpus Christi\": \"President Steven Cowley\",\n",
    "  \"Exeter\": \"Rector Rick Trainor\",\n",
    "  \"Green Templeton\": \"Principal Denise Lievesley\",\n",
    "  \"Harris Manchester\": \"Principal Ralph Waller\",\n",
    "  \"Hertford\": \"Principal Will Hutton\",\n",
    "  \"Jesus College\": \"Principal Nigel Shadbolt\",\n",
    "  \"Keble\": \"Warden Jonathan Phillips\",\n",
    "  \"Kellogg\": \"President Jonathan Michie\",\n",
    "  \"Lady Margaret Hall\": \"Principal Alan Rusbridger\",\n",
    "  \"Linacre\": \"Principal Nick Brown\",\n",
    "  \"Lincoln\": \"Rector Henry Woudhuysen\",\n",
    "  \"Magdalen\": \"President David Clary\",\n",
    "  \"Mansfield\": \"Principal Helena Kennedy, Baroness Kennedy of The Shaws\",\n",
    "  \"Merton\": \"Warden Martin J. Taylor\",\n",
    "  \"New College\": \"Warden Miles Young\",\n",
    "  \"Nuffield\": \"Warden Andrew Dilnot\",\n",
    "  \"Oriel\": \"Provost Moira Wallace\",\n",
    "  \"Pembroke\": \"Master Lynne Brindley\",\n",
    "  \"Queen's\": \"Provost Paul Madden\",\n",
    "  \"St Anne's\": \"Principal Helen King\",\n",
    "  \"St Antony's\": \"Warden Roger Goodman\",\n",
    "  \"St Catherine's\": \"Master Roger Ainsworth\",\n",
    "  \"St Cross\": \"Master Carole Souter\",\n",
    "  \"St Edmund Hall\": \"Principal Keith Gull\",\n",
    "  \"St Hilda's\": \"Principal Gordon Duff\",\n",
    "  \"St Hugh's\": \"Principal Elish Angiolini\",\n",
    "  \"St John's\": \"President Margaret Snowling\",\n",
    "  \"St Peter's\": \"Master Mark Damazer\",\n",
    "  \"Somerville\": \"Principal Janet Royall, Baroness Royall of Blaisdon\",\n",
    "  \"Trinity\": \"President Hilary Boulding\",\n",
    "  \"University\": \"Master Ivor Crewe\",\n",
    "  \"Wadham\": \"Warden Ken Macdonald, Lord Macdonald of River Glaven\",\n",
    "  \"Wolfson\": \"President Tim Hitchens\",\n",
    "  \"Worcester\": \"Provost Sir Jonathan Bate\"\n",
    "}"
   ]
  },
  {
   "cell_type": "code",
   "execution_count": 98,
   "metadata": {
    "colab": {},
    "colab_type": "code",
    "id": "CZCNK7fKol-6"
   },
   "outputs": [
    {
     "data": {
      "text/plain": [
       "'Rector Rick Trainor'"
      ]
     },
     "execution_count": 98,
     "metadata": {},
     "output_type": "execute_result"
    }
   ],
   "source": [
    "headsOfHouses[\"Exeter\"]"
   ]
  },
  {
   "cell_type": "code",
   "execution_count": 72,
   "metadata": {},
   "outputs": [
    {
     "ename": "KeyError",
     "evalue": "''",
     "output_type": "error",
     "traceback": [
      "\u001b[0;31m---------------------------------------------------------------------------\u001b[0m",
      "\u001b[0;31mKeyError\u001b[0m                                  Traceback (most recent call last)",
      "\u001b[0;32m<ipython-input-72-bbabd34aa50d>\u001b[0m in \u001b[0;36m<module>\u001b[0;34m()\u001b[0m\n\u001b[1;32m      1\u001b[0m \u001b[0mcollegeName\u001b[0m \u001b[0;34m=\u001b[0m \u001b[0;34m\"\"\u001b[0m \u001b[0;31m# Enter your college here!\u001b[0m\u001b[0;34m\u001b[0m\u001b[0m\n\u001b[0;32m----> 2\u001b[0;31m \u001b[0mheadsOfHouses\u001b[0m\u001b[0;34m[\u001b[0m\u001b[0mcollegeName\u001b[0m\u001b[0;34m]\u001b[0m\u001b[0;34m\u001b[0m\u001b[0m\n\u001b[0m",
      "\u001b[0;31mKeyError\u001b[0m: ''"
     ]
    }
   ],
   "source": [
    "collegeName = \"\" # Enter your college here!\n",
    "headsOfHouses[collegeName]"
   ]
  },
  {
   "cell_type": "markdown",
   "metadata": {
    "colab_type": "text",
    "id": "7VYrdqzdr8vd"
   },
   "source": [
    "Keep in mind that dictionaries can only have one \"value\" for every \"key\"\n",
    "\n",
    "This is allowed!!<img src = \"./Image1.png\">\n",
    "\n",
    "This is not!!<img src = \"./Image2.png\">"
   ]
  },
  {
   "cell_type": "markdown",
   "metadata": {
    "colab": {},
    "colab_type": "code",
    "id": "n4mUnMQ2o4Nd"
   },
   "source": [
    "where _X_ represents the keys and _Y_ represents the values"
   ]
  },
  {
   "cell_type": "markdown",
   "metadata": {
    "colab": {
     "base_uri": "https://localhost:8080/",
     "height": 34
    },
    "colab_type": "code",
    "executionInfo": {
     "elapsed": 363,
     "status": "ok",
     "timestamp": 1534689892433,
     "user": {
      "displayName": "William Hartemink",
      "photoUrl": "https://lh3.googleusercontent.com/a/default-user=s128",
      "userId": "117653304702534641755"
     },
     "user_tz": 240
    },
    "id": "HP_Oxuk6pUt1",
    "outputId": "aee4b3f4-d380-4ea5-9174-b3c694dec0dd"
   },
   "source": [
    "### Dictionaries are not ordered\n",
    "\n",
    "You should also note that unlike lists, dictionaries are not ordered, so you can't index them with integers or slice them"
   ]
  },
  {
   "cell_type": "code",
   "execution_count": 100,
   "metadata": {
    "colab": {},
    "colab_type": "code",
    "id": "bMH6RfMfpVaB"
   },
   "outputs": [
    {
     "ename": "KeyError",
     "evalue": "0",
     "output_type": "error",
     "traceback": [
      "\u001b[0;31m---------------------------------------------------------------------------\u001b[0m",
      "\u001b[0;31mKeyError\u001b[0m                                  Traceback (most recent call last)",
      "\u001b[0;32m<ipython-input-100-96cb010a4b2a>\u001b[0m in \u001b[0;36m<module>\u001b[0;34m()\u001b[0m\n\u001b[0;32m----> 1\u001b[0;31m \u001b[0mheadsOfHouses\u001b[0m\u001b[0;34m[\u001b[0m\u001b[0;36m0\u001b[0m\u001b[0;34m]\u001b[0m\u001b[0;34m\u001b[0m\u001b[0m\n\u001b[0m",
      "\u001b[0;31mKeyError\u001b[0m: 0"
     ]
    }
   ],
   "source": [
    "headsOfHouses[0]"
   ]
  },
  {
   "cell_type": "code",
   "execution_count": 101,
   "metadata": {
    "colab": {
     "base_uri": "https://localhost:8080/",
     "height": 34
    },
    "colab_type": "code",
    "executionInfo": {
     "elapsed": 527,
     "status": "ok",
     "timestamp": 1534690793875,
     "user": {
      "displayName": "William Hartemink",
      "photoUrl": "https://lh3.googleusercontent.com/a/default-user=s128",
      "userId": "117653304702534641755"
     },
     "user_tz": 240
    },
    "id": "WNRbFjnWpXiz",
    "outputId": "b19bb9f2-f72f-4371-9bc3-69cdde2ef3c9"
   },
   "outputs": [
    {
     "ename": "TypeError",
     "evalue": "unhashable type: 'slice'",
     "output_type": "error",
     "traceback": [
      "\u001b[0;31m---------------------------------------------------------------------------\u001b[0m",
      "\u001b[0;31mTypeError\u001b[0m                                 Traceback (most recent call last)",
      "\u001b[0;32m<ipython-input-101-34d5e7872bc5>\u001b[0m in \u001b[0;36m<module>\u001b[0;34m()\u001b[0m\n\u001b[0;32m----> 1\u001b[0;31m \u001b[0mheadsOfHouses\u001b[0m\u001b[0;34m[\u001b[0m\u001b[0;34m\"Oriel\"\u001b[0m\u001b[0;34m:\u001b[0m\u001b[0;34m\"Wadham\"\u001b[0m\u001b[0;34m]\u001b[0m\u001b[0;34m\u001b[0m\u001b[0m\n\u001b[0m",
      "\u001b[0;31mTypeError\u001b[0m: unhashable type: 'slice'"
     ]
    }
   ],
   "source": [
    "headsOfHouses[\"Oriel\":\"Wadham\"]"
   ]
  },
  {
   "cell_type": "code",
   "execution_count": 102,
   "metadata": {},
   "outputs": [
    {
     "data": {
      "text/plain": [
       "dict_keys(['All Souls', 'Balliol', 'Brasenose', 'Christ Church', 'Corpus Christi', 'Exeter', 'Green Templeton', 'Harris Manchester', 'Hertford', 'Jesus College', 'Keble', 'Kellogg', 'Lady Margaret Hall', 'Linacre', 'Lincoln', 'Magdalen', 'Mansfield', 'Merton', 'New College', 'Nuffield', 'Oriel', 'Pembroke', \"Queen's\", \"St Anne's\", \"St Antony's\", \"St Catherine's\", 'St Cross', 'St Edmund Hall', \"St Hilda's\", \"St Hugh's\", \"St John's\", \"St Peter's\", 'Somerville', 'Trinity', 'University', 'Wadham', 'Wolfson', 'Worcester'])"
      ]
     },
     "execution_count": 102,
     "metadata": {},
     "output_type": "execute_result"
    }
   ],
   "source": [
    "headsOfHouses.keys()"
   ]
  },
  {
   "cell_type": "code",
   "execution_count": 103,
   "metadata": {},
   "outputs": [
    {
     "data": {
      "text/plain": [
       "dict_values(['Warden John Vickers', 'Master Helen Ghosh', 'Principal John Bowers', 'Dean Martyn Percy', 'President Steven Cowley', 'Rector Rick Trainor', 'Principal Denise Lievesley', 'Principal Ralph Waller', 'Principal Will Hutton', 'Principal Nigel Shadbolt', 'Warden Jonathan Phillips', 'President Jonathan Michie', 'Principal Alan Rusbridger', 'Principal Nick Brown', 'Rector Henry Woudhuysen', 'President David Clary', 'Principal Helena Kennedy, Baroness Kennedy of The Shaws', 'Warden Martin J. Taylor', 'Warden Miles Young', 'Warden Andrew Dilnot', 'Provost Moira Wallace', 'Master Lynne Brindley', 'Provost Paul Madden', 'Principal Helen King', 'Warden Roger Goodman', 'Master Roger Ainsworth', 'Master Carole Souter', 'Principal Keith Gull', 'Principal Gordon Duff', 'Principal Elish Angiolini', 'President Margaret Snowling', 'Master Mark Damazer', 'Principal Janet Royall, Baroness Royall of Blaisdon', 'President Hilary Boulding', 'Master Ivor Crewe', 'Warden Ken Macdonald, Lord Macdonald of River Glaven', 'President Tim Hitchens', 'Provost Sir Jonathan Bate'])"
      ]
     },
     "execution_count": 103,
     "metadata": {},
     "output_type": "execute_result"
    }
   ],
   "source": [
    "headsOfHouses.values()"
   ]
  },
  {
   "cell_type": "markdown",
   "metadata": {
    "colab": {},
    "colab_type": "code",
    "id": "aRMgW47FpcOE"
   },
   "source": [
    "### Setting items\n",
    "\n",
    "Once we have made a dictionary, we can set elements in the dictionary to particular values.\n",
    "\n",
    "\n",
    "Say a college was created with its own head of house:"
   ]
  },
  {
   "cell_type": "code",
   "execution_count": 104,
   "metadata": {},
   "outputs": [],
   "source": [
    "headsOfHouses['Created College'] = \"Sir Can'tComeUpWithANameRightNow\""
   ]
  },
  {
   "cell_type": "code",
   "execution_count": 105,
   "metadata": {},
   "outputs": [
    {
     "data": {
      "text/plain": [
       "dict_keys(['All Souls', 'Balliol', 'Brasenose', 'Christ Church', 'Corpus Christi', 'Exeter', 'Green Templeton', 'Harris Manchester', 'Hertford', 'Jesus College', 'Keble', 'Kellogg', 'Lady Margaret Hall', 'Linacre', 'Lincoln', 'Magdalen', 'Mansfield', 'Merton', 'New College', 'Nuffield', 'Oriel', 'Pembroke', \"Queen's\", \"St Anne's\", \"St Antony's\", \"St Catherine's\", 'St Cross', 'St Edmund Hall', \"St Hilda's\", \"St Hugh's\", \"St John's\", \"St Peter's\", 'Somerville', 'Trinity', 'University', 'Wadham', 'Wolfson', 'Worcester', 'Created College'])"
      ]
     },
     "execution_count": 105,
     "metadata": {},
     "output_type": "execute_result"
    }
   ],
   "source": [
    "headsOfHouses.keys()"
   ]
  },
  {
   "cell_type": "code",
   "execution_count": 106,
   "metadata": {},
   "outputs": [
    {
     "data": {
      "text/plain": [
       "\"Sir Can'tComeUpWithANameRightNow\""
      ]
     },
     "execution_count": 106,
     "metadata": {},
     "output_type": "execute_result"
    }
   ],
   "source": [
    "headsOfHouses['Created College']"
   ]
  },
  {
   "cell_type": "markdown",
   "metadata": {},
   "source": [
    "We can also overrwite the name given to the Head of House"
   ]
  },
  {
   "cell_type": "code",
   "execution_count": 107,
   "metadata": {},
   "outputs": [],
   "source": [
    "headsOfHouses['Created College'] = 'NewName'"
   ]
  },
  {
   "cell_type": "markdown",
   "metadata": {},
   "source": [
    "Remember, the dictionary cannot store two values for a key! It simply overrwites the existing value.\n",
    "\n",
    "In this case, \"Sir Can'tComeUpWithANameRightNow\" will not appear in the set of headsOfHouses:"
   ]
  },
  {
   "cell_type": "code",
   "execution_count": 108,
   "metadata": {},
   "outputs": [
    {
     "data": {
      "text/plain": [
       "'NewName'"
      ]
     },
     "execution_count": 108,
     "metadata": {},
     "output_type": "execute_result"
    }
   ],
   "source": [
    "headsOfHouses['Created College']"
   ]
  },
  {
   "cell_type": "markdown",
   "metadata": {},
   "source": [
    "we can also pass a dictionary into a function by using two stars:"
   ]
  },
  {
   "cell_type": "code",
   "execution_count": 109,
   "metadata": {},
   "outputs": [],
   "source": [
    "insertions = {\n",
    "    \"Name\" : \"William Hartemink\",\n",
    "    \"College\" : \"Exeter College\",\n",
    "    \"Society\" : \"CodeSoc\"\n",
    "    \"\"\n",
    "}\n",
    "\n",
    "template = \"\"\"Hi {Name},\n",
    "\n",
    "Blah Blah formalities.\n",
    "\n",
    "I was wondering if {Society} were interested in co-hosting a hack-a-thon on AI Safety this term. \n",
    "\n",
    "We are currently looking for a venue and thought maybe you'd be able to book one in {College}?\n",
    "\n",
    "Blah Blah formalities.\n",
    "\n",
    "Regards,\n",
    "MyName\n",
    "\n",
    "My Society\n",
    "\"\"\""
   ]
  },
  {
   "cell_type": "code",
   "execution_count": 110,
   "metadata": {},
   "outputs": [
    {
     "name": "stdout",
     "output_type": "stream",
     "text": [
      "Hi {Name},\n",
      "\n",
      "Blah Blah formalities.\n",
      "\n",
      "I was wondering if {Society} were interested in co-hosting a hack-a-thon on AI Safety this term. \n",
      "\n",
      "We are currently looking for a venue and thought maybe you'd be able to book one in {College}?\n",
      "\n",
      "Blah Blah formalities.\n",
      "\n",
      "Regards,\n",
      "MyName\n",
      "\n",
      "My Society\n",
      "\n"
     ]
    }
   ],
   "source": [
    "print(template)"
   ]
  },
  {
   "cell_type": "code",
   "execution_count": 111,
   "metadata": {},
   "outputs": [
    {
     "data": {
      "text/plain": [
       "'Hello anything'"
      ]
     },
     "execution_count": 111,
     "metadata": {},
     "output_type": "execute_result"
    }
   ],
   "source": [
    "\"Hello {}\".format(\"anything\")"
   ]
  },
  {
   "cell_type": "code",
   "execution_count": 112,
   "metadata": {},
   "outputs": [
    {
     "name": "stdout",
     "output_type": "stream",
     "text": [
      "Hi William Hartemink,\n",
      "\n",
      "Blah Blah formalities.\n",
      "\n",
      "I was wondering if CodeSoc were interested in co-hosting a hack-a-thon on AI Safety this term. \n",
      "\n",
      "We are currently looking for a venue and thought maybe you'd be able to book one in Exeter College?\n",
      "\n",
      "Blah Blah formalities.\n",
      "\n",
      "Regards,\n",
      "MyName\n",
      "\n",
      "My Society\n",
      "\n"
     ]
    }
   ],
   "source": [
    "print(template.format(**insertions))"
   ]
  },
  {
   "cell_type": "markdown",
   "metadata": {},
   "source": [
    "# Sounds like you might be able to use this feature to write customized emails to a large group of people... 🤔🤔🤔"
   ]
  },
  {
   "cell_type": "code",
   "execution_count": null,
   "metadata": {},
   "outputs": [],
   "source": []
  }
 ],
 "metadata": {
  "colab": {
   "collapsed_sections": [],
   "name": "Week 2 Quarter 1.ipynb",
   "provenance": [],
   "version": "0.3.2"
  },
  "kernelspec": {
   "display_name": "Python 3",
   "language": "python",
   "name": "python3"
  },
  "language_info": {
   "codemirror_mode": {
    "name": "ipython",
    "version": 3
   },
   "file_extension": ".py",
   "mimetype": "text/x-python",
   "name": "python",
   "nbconvert_exporter": "python",
   "pygments_lexer": "ipython3",
   "version": "3.6.5"
  }
 },
 "nbformat": 4,
 "nbformat_minor": 1
}
