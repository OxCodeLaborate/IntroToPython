{
 "cells": [
  {
   "cell_type": "code",
   "execution_count": null,
   "metadata": {
    "colab": {},
    "colab_type": "code",
    "id": "mhc1QmDII9u5"
   },
   "outputs": [],
   "source": []
  },
  {
   "cell_type": "markdown",
   "metadata": {
    "colab_type": "text",
    "id": "y0Liml1RRKay"
   },
   "source": [
    "## What Are Collections?\n",
    "\n",
    "Collections are groups of other objects, such as ints or strings. They help you keep your code and/or data organized."
   ]
  },
  {
   "cell_type": "markdown",
   "metadata": {
    "colab_type": "text",
    "id": "U6upe3ixUOxr"
   },
   "source": [
    "First example we'll use is called a list."
   ]
  },
  {
   "cell_type": "code",
   "execution_count": 1,
   "metadata": {
    "colab": {},
    "colab_type": "code",
    "id": "2r60iwBURLb1"
   },
   "outputs": [],
   "source": [
    "alphabet = ['a','b','c','d','e']"
   ]
  },
  {
   "cell_type": "code",
   "execution_count": 2,
   "metadata": {
    "colab": {},
    "colab_type": "code",
    "id": "bxp7CZYJUZoK"
   },
   "outputs": [],
   "source": [
    "# Each member of the list, is called an \"element\""
   ]
  },
  {
   "cell_type": "markdown",
   "metadata": {
    "colab_type": "text",
    "id": "WROtZ59-UboT"
   },
   "source": [
    "Just like strings, you can index them! (And of course, 0 is the first element)"
   ]
  },
  {
   "cell_type": "code",
   "execution_count": 3,
   "metadata": {
    "colab": {
     "base_uri": "https://localhost:8080/",
     "height": 34
    },
    "colab_type": "code",
    "executionInfo": {
     "elapsed": 503,
     "status": "ok",
     "timestamp": 1534551169777,
     "user": {
      "displayName": "William Hartemink",
      "photoUrl": "https://lh3.googleusercontent.com/a/default-user=s128",
      "userId": "117653304702534641755"
     },
     "user_tz": 240
    },
    "id": "HTmOOH1HUdUW",
    "outputId": "3d80a300-1c6e-4c56-b729-6fe1ce83527d"
   },
   "outputs": [
    {
     "data": {
      "text/plain": [
       "'b'"
      ]
     },
     "execution_count": 3,
     "metadata": {},
     "output_type": "execute_result"
    }
   ],
   "source": [
    "alphabet[1]"
   ]
  },
  {
   "cell_type": "markdown",
   "metadata": {
    "colab_type": "text",
    "id": "ggmm1EmTUnPh"
   },
   "source": [
    "Slice em!"
   ]
  },
  {
   "cell_type": "code",
   "execution_count": 4,
   "metadata": {
    "colab": {
     "base_uri": "https://localhost:8080/",
     "height": 34
    },
    "colab_type": "code",
    "executionInfo": {
     "elapsed": 318,
     "status": "ok",
     "timestamp": 1534551170151,
     "user": {
      "displayName": "William Hartemink",
      "photoUrl": "https://lh3.googleusercontent.com/a/default-user=s128",
      "userId": "117653304702534641755"
     },
     "user_tz": 240
    },
    "id": "tdFzE0X9Ueb9",
    "outputId": "7529278b-a774-4838-ff44-b80cb1b44364"
   },
   "outputs": [
    {
     "data": {
      "text/plain": [
       "['c', 'd']"
      ]
     },
     "execution_count": 4,
     "metadata": {},
     "output_type": "execute_result"
    }
   ],
   "source": [
    "alphabet[2:4]"
   ]
  },
  {
   "cell_type": "markdown",
   "metadata": {
    "colab_type": "text",
    "id": "UnnEA-DuUsU8"
   },
   "source": [
    "and reverse!"
   ]
  },
  {
   "cell_type": "code",
   "execution_count": 5,
   "metadata": {
    "colab": {
     "base_uri": "https://localhost:8080/",
     "height": 34
    },
    "colab_type": "code",
    "executionInfo": {
     "elapsed": 310,
     "status": "ok",
     "timestamp": 1534551170584,
     "user": {
      "displayName": "William Hartemink",
      "photoUrl": "https://lh3.googleusercontent.com/a/default-user=s128",
      "userId": "117653304702534641755"
     },
     "user_tz": 240
    },
    "id": "wpVUq_4mUpoN",
    "outputId": "d883206d-c3fa-4811-8622-7d4ed5a391a2"
   },
   "outputs": [
    {
     "data": {
      "text/plain": [
       "['e', 'd', 'c', 'b', 'a']"
      ]
     },
     "execution_count": 5,
     "metadata": {},
     "output_type": "execute_result"
    }
   ],
   "source": [
    "alphabet[::-1]"
   ]
  },
  {
   "cell_type": "markdown",
   "metadata": {
    "colab_type": "text",
    "id": "uUNE9qSgX_DT"
   },
   "source": [
    "You can also set an element of a list by index"
   ]
  },
  {
   "cell_type": "code",
   "execution_count": 6,
   "metadata": {
    "colab": {},
    "colab_type": "code",
    "id": "YbDNSzOCUvHa"
   },
   "outputs": [],
   "source": [
    "alphabet[0] = \"This is replacing the letter 'a'\""
   ]
  },
  {
   "cell_type": "markdown",
   "metadata": {
    "colab_type": "text",
    "id": "A8JedaeqU3cM"
   },
   "source": [
    "Here's also a couple extra methods you'll find handy!"
   ]
  },
  {
   "cell_type": "code",
   "execution_count": 7,
   "metadata": {
    "colab": {
     "base_uri": "https://localhost:8080/",
     "height": 34
    },
    "colab_type": "code",
    "executionInfo": {
     "elapsed": 315,
     "status": "ok",
     "timestamp": 1534550342681,
     "user": {
      "displayName": "William Hartemink",
      "photoUrl": "https://lh3.googleusercontent.com/a/default-user=s128",
      "userId": "117653304702534641755"
     },
     "user_tz": 240
    },
    "id": "piWYvj0uU5r5",
    "outputId": "877f6fa8-9ef4-42ea-de55-41da3ee0b63a"
   },
   "outputs": [
    {
     "data": {
      "text/plain": [
       "[\"This is replacing the letter 'a'\", 'b', 'c', 'd', 'e', 'f', 'g']"
      ]
     },
     "execution_count": 7,
     "metadata": {},
     "output_type": "execute_result"
    }
   ],
   "source": [
    "alphabet + ['f', 'g']"
   ]
  },
  {
   "cell_type": "code",
   "execution_count": 8,
   "metadata": {
    "colab": {},
    "colab_type": "code",
    "id": "TQfpN9fCU_qT"
   },
   "outputs": [],
   "source": [
    "alphabet.append('appended string')"
   ]
  },
  {
   "cell_type": "code",
   "execution_count": 9,
   "metadata": {
    "colab": {
     "base_uri": "https://localhost:8080/",
     "height": 34
    },
    "colab_type": "code",
    "executionInfo": {
     "elapsed": 322,
     "status": "ok",
     "timestamp": 1534550368570,
     "user": {
      "displayName": "William Hartemink",
      "photoUrl": "https://lh3.googleusercontent.com/a/default-user=s128",
      "userId": "117653304702534641755"
     },
     "user_tz": 240
    },
    "id": "Fcgzc084VFT8",
    "outputId": "d206f485-5ad2-4d37-e463-4a00cf60c5a9"
   },
   "outputs": [
    {
     "data": {
      "text/plain": [
       "[\"This is replacing the letter 'a'\", 'b', 'c', 'd', 'e', 'appended string']"
      ]
     },
     "execution_count": 9,
     "metadata": {},
     "output_type": "execute_result"
    }
   ],
   "source": [
    "alphabet"
   ]
  },
  {
   "cell_type": "code",
   "execution_count": 10,
   "metadata": {
    "colab": {
     "base_uri": "https://localhost:8080/",
     "height": 34
    },
    "colab_type": "code",
    "executionInfo": {
     "elapsed": 325,
     "status": "ok",
     "timestamp": 1534550385592,
     "user": {
      "displayName": "William Hartemink",
      "photoUrl": "https://lh3.googleusercontent.com/a/default-user=s128",
      "userId": "117653304702534641755"
     },
     "user_tz": 240
    },
    "id": "s7DZkFewVF-p",
    "outputId": "781677e5-0351-443c-896a-636b52521f38"
   },
   "outputs": [
    {
     "data": {
      "text/plain": [
       "[\"This is replacing the letter 'a'\", 'b', 'c', 'd', 'e', 'appended string', 5]"
      ]
     },
     "execution_count": 10,
     "metadata": {},
     "output_type": "execute_result"
    }
   ],
   "source": [
    "# Can I put ints in there?\n",
    "alphabet.append(5)\n",
    "alphabet"
   ]
  },
  {
   "cell_type": "code",
   "execution_count": 11,
   "metadata": {
    "colab": {
     "base_uri": "https://localhost:8080/",
     "height": 34
    },
    "colab_type": "code",
    "executionInfo": {
     "elapsed": 542,
     "status": "ok",
     "timestamp": 1534550407957,
     "user": {
      "displayName": "William Hartemink",
      "photoUrl": "https://lh3.googleusercontent.com/a/default-user=s128",
      "userId": "117653304702534641755"
     },
     "user_tz": 240
    },
    "id": "uR-3vx7zVIVX",
    "outputId": "5f13f792-b995-49d1-e871-11f2c2b63798"
   },
   "outputs": [
    {
     "data": {
      "text/plain": [
       "[\"This is replacing the letter 'a'\",\n",
       " 'b',\n",
       " 'c',\n",
       " 'd',\n",
       " 'e',\n",
       " 'appended string',\n",
       " 5,\n",
       " 10.56]"
      ]
     },
     "execution_count": 11,
     "metadata": {},
     "output_type": "execute_result"
    }
   ],
   "source": [
    "# Can I put floats in there?\n",
    "alphabet.append(10.56)\n",
    "alphabet"
   ]
  },
  {
   "cell_type": "code",
   "execution_count": 12,
   "metadata": {
    "colab": {
     "base_uri": "https://localhost:8080/",
     "height": 34
    },
    "colab_type": "code",
    "executionInfo": {
     "elapsed": 320,
     "status": "ok",
     "timestamp": 1534550425456,
     "user": {
      "displayName": "William Hartemink",
      "photoUrl": "https://lh3.googleusercontent.com/a/default-user=s128",
      "userId": "117653304702534641755"
     },
     "user_tz": 240
    },
    "id": "FtisfmH4VO1v",
    "outputId": "2b8fe20d-80ee-4500-e941-77ebc2c3bd67"
   },
   "outputs": [
    {
     "data": {
      "text/plain": [
       "[\"This is replacing the letter 'a'\",\n",
       " 'b',\n",
       " 'c',\n",
       " 'd',\n",
       " 'e',\n",
       " 'appended string',\n",
       " 5,\n",
       " 10.56,\n",
       " [...]]"
      ]
     },
     "execution_count": 12,
     "metadata": {},
     "output_type": "execute_result"
    }
   ],
   "source": [
    "# Can I put other lists in there?\n",
    "alphabet.append(alphabet)\n",
    "alphabet"
   ]
  },
  {
   "cell_type": "markdown",
   "metadata": {
    "colab_type": "text",
    "id": "PcuthmJJWBRq"
   },
   "source": [
    "You can also make a list out of a string using str.split(sep = 'separator')"
   ]
  },
  {
   "cell_type": "code",
   "execution_count": 13,
   "metadata": {
    "colab": {
     "base_uri": "https://localhost:8080/",
     "height": 663
    },
    "colab_type": "code",
    "executionInfo": {
     "elapsed": 327,
     "status": "ok",
     "timestamp": 1534688795742,
     "user": {
      "displayName": "William Hartemink",
      "photoUrl": "https://lh3.googleusercontent.com/a/default-user=s128",
      "userId": "117653304702534641755"
     },
     "user_tz": 240
    },
    "id": "Y9ZEVPksV-g8",
    "outputId": "727ccba2-0972-4659-a141-81b72dd294e6"
   },
   "outputs": [
    {
     "data": {
      "text/plain": [
       "['According',\n",
       " 'to',\n",
       " 'all',\n",
       " 'known',\n",
       " 'laws',\n",
       " 'of',\n",
       " 'aviation,',\n",
       " 'there',\n",
       " 'is',\n",
       " 'no',\n",
       " 'way',\n",
       " 'a',\n",
       " 'bee',\n",
       " 'should',\n",
       " 'be',\n",
       " 'able',\n",
       " 'to',\n",
       " 'fly.',\n",
       " 'Its',\n",
       " 'wings',\n",
       " 'are',\n",
       " 'too',\n",
       " 'small',\n",
       " 'to',\n",
       " 'get',\n",
       " 'its',\n",
       " 'fat',\n",
       " 'little',\n",
       " 'body',\n",
       " 'off',\n",
       " 'the',\n",
       " 'ground.',\n",
       " 'The',\n",
       " 'bee,',\n",
       " 'of',\n",
       " 'course,',\n",
       " 'flies',\n",
       " 'anyway']"
      ]
     },
     "execution_count": 13,
     "metadata": {},
     "output_type": "execute_result"
    }
   ],
   "source": [
    "# triple quotes are a multi-line string!\n",
    "\n",
    "BeeMovieScript = \"\"\"According to all known laws\n",
    "of aviation,\n",
    "\n",
    "  \n",
    "there is no way a bee\n",
    "should be able to fly.\n",
    "\n",
    "  \n",
    "Its wings are too small to get\n",
    "its fat little body off the ground.\n",
    "\n",
    "  \n",
    "The bee, of course, flies anyway\"\"\"\n",
    "\n",
    "BeeMovieScript.split()   # Uses whitespace by default (any of space, tab, enter, etc.)"
   ]
  },
  {
   "cell_type": "markdown",
   "metadata": {
    "colab_type": "text",
    "id": "lbNJvxjWWuaC"
   },
   "source": [
    "And of course you can customize the separator!"
   ]
  },
  {
   "cell_type": "code",
   "execution_count": 14,
   "metadata": {
    "colab": {
     "base_uri": "https://localhost:8080/",
     "height": 68
    },
    "colab_type": "code",
    "executionInfo": {
     "elapsed": 311,
     "status": "ok",
     "timestamp": 1534550909186,
     "user": {
      "displayName": "William Hartemink",
      "photoUrl": "https://lh3.googleusercontent.com/a/default-user=s128",
      "userId": "117653304702534641755"
     },
     "user_tz": 240
    },
    "id": "M2ZseAE7Wpi4",
    "outputId": "4e6700ef-bea0-410e-9230-accb479fae39"
   },
   "outputs": [
    {
     "data": {
      "text/plain": [
       "['According to all known laws\\nof aviation,\\n\\n  \\nthere is no way a bee\\nshould be able to fly',\n",
       " '\\n\\n  \\nIts wings are too small to get\\nits fat little body off the ground',\n",
       " '\\n\\n  \\nThe bee, of course, flies anyway']"
      ]
     },
     "execution_count": 14,
     "metadata": {},
     "output_type": "execute_result"
    }
   ],
   "source": [
    "BeeMovieScript.split(sep = '.')"
   ]
  },
  {
   "cell_type": "markdown",
   "metadata": {
    "colab_type": "text",
    "id": "qwtFcjRTXNC9"
   },
   "source": [
    "That sure is hard to read. Keep in mind that if any function takes multiple arguments, you can pass each _element_ of the list using *"
   ]
  },
  {
   "cell_type": "code",
   "execution_count": 15,
   "metadata": {
    "colab": {
     "base_uri": "https://localhost:8080/",
     "height": 238
    },
    "colab_type": "code",
    "executionInfo": {
     "elapsed": 315,
     "status": "ok",
     "timestamp": 1534550981616,
     "user": {
      "displayName": "William Hartemink",
      "photoUrl": "https://lh3.googleusercontent.com/a/default-user=s128",
      "userId": "117653304702534641755"
     },
     "user_tz": 240
    },
    "id": "I7hyk2LUXUhs",
    "outputId": "adf7da6c-d6f3-4821-b3cb-9c3423ff0f26"
   },
   "outputs": [
    {
     "name": "stdout",
     "output_type": "stream",
     "text": [
      "According to all known laws\n",
      "of aviation,\n",
      "\n",
      "  \n",
      "there is no way a bee\n",
      "should be able to fly-------------------------\n",
      "\n",
      "  \n",
      "Its wings are too small to get\n",
      "its fat little body off the ground-------------------------\n",
      "\n",
      "  \n",
      "The bee, of course, flies anyway\n"
     ]
    }
   ],
   "source": [
    "print(*BeeMovieScript.split(sep = '.'), sep = '-------------------------')"
   ]
  },
  {
   "cell_type": "markdown",
   "metadata": {
    "colab_type": "text",
    "id": "wGyA93OEk_0J"
   },
   "source": [
    "You can also deo the opposite with the str.join(list) method."
   ]
  },
  {
   "cell_type": "code",
   "execution_count": 16,
   "metadata": {
    "colab": {
     "base_uri": "https://localhost:8080/",
     "height": 663
    },
    "colab_type": "code",
    "executionInfo": {
     "elapsed": 316,
     "status": "ok",
     "timestamp": 1534688878370,
     "user": {
      "displayName": "William Hartemink",
      "photoUrl": "https://lh3.googleusercontent.com/a/default-user=s128",
      "userId": "117653304702534641755"
     },
     "user_tz": 240
    },
    "id": "6udm7BU4k-dP",
    "outputId": "24c0ff5f-0d4b-4216-e6b2-f561e003c9ad"
   },
   "outputs": [
    {
     "name": "stdout",
     "output_type": "stream",
     "text": [
      "According??\n",
      "to??\n",
      "all??\n",
      "known??\n",
      "laws??\n",
      "of??\n",
      "aviation,??\n",
      "there??\n",
      "is??\n",
      "no??\n",
      "way??\n",
      "a??\n",
      "bee??\n",
      "should??\n",
      "be??\n",
      "able??\n",
      "to??\n",
      "fly.??\n",
      "Its??\n",
      "wings??\n",
      "are??\n",
      "too??\n",
      "small??\n",
      "to??\n",
      "get??\n",
      "its??\n",
      "fat??\n",
      "little??\n",
      "body??\n",
      "off??\n",
      "the??\n",
      "ground.??\n",
      "The??\n",
      "bee,??\n",
      "of??\n",
      "course,??\n",
      "flies??\n",
      "anyway\n"
     ]
    }
   ],
   "source": [
    "script_list = BeeMovieScript.split()\n",
    "questioningScript = '??\\n'.join(script_list)\n",
    "print(questioningScript)"
   ]
  },
  {
   "cell_type": "markdown",
   "metadata": {
    "colab_type": "text",
    "id": "DNmlk5sKVdM-"
   },
   "source": [
    "And if you want a list of numbers, try using range, which works almost just like indexing the number line!"
   ]
  },
  {
   "cell_type": "code",
   "execution_count": 17,
   "metadata": {
    "colab": {
     "base_uri": "https://localhost:8080/",
     "height": 34
    },
    "colab_type": "code",
    "executionInfo": {
     "elapsed": 349,
     "status": "ok",
     "timestamp": 1534550481155,
     "user": {
      "displayName": "William Hartemink",
      "photoUrl": "https://lh3.googleusercontent.com/a/default-user=s128",
      "userId": "117653304702534641755"
     },
     "user_tz": 240
    },
    "id": "00847SZPVezs",
    "outputId": "b1806a93-4169-43a0-8f1b-9c0eb4bde5f9"
   },
   "outputs": [
    {
     "data": {
      "text/plain": [
       "[0, 1, 2, 3, 4, 5, 6, 7, 8, 9]"
      ]
     },
     "execution_count": 17,
     "metadata": {},
     "output_type": "execute_result"
    }
   ],
   "source": [
    "list(range(0, 10))"
   ]
  },
  {
   "cell_type": "code",
   "execution_count": 18,
   "metadata": {
    "colab": {
     "base_uri": "https://localhost:8080/",
     "height": 34
    },
    "colab_type": "code",
    "executionInfo": {
     "elapsed": 354,
     "status": "ok",
     "timestamp": 1534550500949,
     "user": {
      "displayName": "William Hartemink",
      "photoUrl": "https://lh3.googleusercontent.com/a/default-user=s128",
      "userId": "117653304702534641755"
     },
     "user_tz": 240
    },
    "id": "LtjZZYLYVhdW",
    "outputId": "18d6fe5f-f05b-44e1-cbd2-bcd1d205a080"
   },
   "outputs": [
    {
     "data": {
      "text/plain": [
       "[10, 11, 12, 13, 14, 15, 16, 17, 18, 19, 20, 21, 22, 23, 24]"
      ]
     },
     "execution_count": 18,
     "metadata": {},
     "output_type": "execute_result"
    }
   ],
   "source": [
    "list(range(10,25))"
   ]
  },
  {
   "cell_type": "code",
   "execution_count": 19,
   "metadata": {
    "colab": {
     "base_uri": "https://localhost:8080/",
     "height": 34
    },
    "colab_type": "code",
    "executionInfo": {
     "elapsed": 324,
     "status": "ok",
     "timestamp": 1534550515150,
     "user": {
      "displayName": "William Hartemink",
      "photoUrl": "https://lh3.googleusercontent.com/a/default-user=s128",
      "userId": "117653304702534641755"
     },
     "user_tz": 240
    },
    "id": "BE8z7t-VVinZ",
    "outputId": "e3e4731b-be67-4b3b-a854-0cbfb43774cc"
   },
   "outputs": [
    {
     "data": {
      "text/plain": [
       "[100, 112, 124, 136, 148, 160, 172, 184, 196]"
      ]
     },
     "execution_count": 19,
     "metadata": {},
     "output_type": "execute_result"
    }
   ],
   "source": [
    "list(range(100,200,12))"
   ]
  },
  {
   "cell_type": "code",
   "execution_count": 20,
   "metadata": {
    "colab": {
     "base_uri": "https://localhost:8080/",
     "height": 34
    },
    "colab_type": "code",
    "executionInfo": {
     "elapsed": 350,
     "status": "ok",
     "timestamp": 1534550522756,
     "user": {
      "displayName": "William Hartemink",
      "photoUrl": "https://lh3.googleusercontent.com/a/default-user=s128",
      "userId": "117653304702534641755"
     },
     "user_tz": 240
    },
    "id": "eDpQZO-hVpw-",
    "outputId": "8e67c636-d91c-4dfa-a6d9-9f78464230ab"
   },
   "outputs": [
    {
     "data": {
      "text/plain": [
       "[200, 188, 176, 164, 152, 140, 128, 116, 104]"
      ]
     },
     "execution_count": 20,
     "metadata": {},
     "output_type": "execute_result"
    }
   ],
   "source": [
    "list(range(200,100,-12))"
   ]
  },
  {
   "cell_type": "markdown",
   "metadata": {
    "colab_type": "text",
    "id": "8mah9iAhVtSi"
   },
   "source": [
    "Always repeat to yourself the words, \"Start, stop, step!\""
   ]
  },
  {
   "cell_type": "markdown",
   "metadata": {
    "colab_type": "text",
    "id": "RKyR5T1hYZnw"
   },
   "source": [
    "## Challenges!!!!"
   ]
  },
  {
   "cell_type": "markdown",
   "metadata": {
    "colab_type": "text",
    "id": "e5QxMoBfY62e"
   },
   "source": [
    "Below is a program that extracts the texts from the wikipedia article on the United Kingdom and saves it as a string in the loal variable articleString. Write a program that prints all parts of the article that are in double-quotes \" \"."
   ]
  },
  {
   "cell_type": "code",
   "execution_count": 21,
   "metadata": {
    "colab": {
     "base_uri": "https://localhost:8080/",
     "height": 663
    },
    "colab_type": "code",
    "executionInfo": {
     "elapsed": 2641,
     "status": "ok",
     "timestamp": 1534688890124,
     "user": {
      "displayName": "William Hartemink",
      "photoUrl": "https://lh3.googleusercontent.com/a/default-user=s128",
      "userId": "117653304702534641755"
     },
     "user_tz": 240
    },
    "id": "kia9Tw3pVrnT",
    "outputId": "45bfe048-e310-4f71-bbf9-93f79f3d5293"
   },
   "outputs": [
    {
     "name": "stderr",
     "output_type": "stream",
     "text": [
      "/Applications/anaconda3/lib/python3.6/site-packages/bs4/__init__.py:181: UserWarning: No parser was explicitly specified, so I'm using the best available HTML parser for this system (\"lxml\"). This usually isn't a problem, but if you run this code on another system, or in a different virtual environment, it may use a different parser and behave differently.\n",
      "\n",
      "The code that caused this warning is on line 193 of the file /Applications/anaconda3/lib/python3.6/runpy.py. To get rid of this warning, change code that looks like this:\n",
      "\n",
      " BeautifulSoup(YOUR_MARKUP})\n",
      "\n",
      "to this:\n",
      "\n",
      " BeautifulSoup(YOUR_MARKUP, \"lxml\")\n",
      "\n",
      "  markup_type=markup_type))\n"
     ]
    },
    {
     "name": "stdout",
     "output_type": "stream",
     "text": [
      "\n",
      "\n",
      " \n",
      "\n",
      "\n",
      "\n",
      " CentralNotice \n",
      "\n",
      "\n",
      "United Kingdom \n",
      "From Wikipedia, the free encyclopedia \n",
      " Jump to navigation\n",
      "Jump to search\n",
      "Country in Europe\n",
      "This article is about the country. It is not to be confused with Great Britain, its largest island whose name is also loosely applied to the whole country.\n",
      "\"UK\" redirects here. For other uses of \"UK\", see UK (disambiguation). For other uses of \"United Kingdom\", see United Kingdom (disambiguation).\n",
      "\n",
      "\n",
      "\n",
      "United Kingdom of Great Britain and Northern Ireland\n",
      " Scots:\n",
      "Unitit Kinrick o Great Breetain an Northren IrelandUlster Scots:\n",
      "Claught Kängrick o Docht Brätain an Norlin AirlannWelsh:\n",
      "Teyrnas Unedig Prydain Fawr a Gogledd IwerddonCornish:\n",
      "Rywvaneth Unys Breten Veur ha Kledhbarth IwerdhonScottish Gaelic:\n",
      "Rìoghachd Aonaichte Bhreatainn is Èireann a TuathIrish:\n",
      "Ríocht Aontaithe na Breataine Móire agus Thuaisceart Éireann\n",
      "\n",
      "\n",
      "\n",
      "\n",
      "\n",
      "Flag\n",
      "\n",
      "\n",
      "\n",
      "Royal coat of arms[note 1]\n",
      "\n",
      "\n",
      "Anthem: \"God Save the Queen\"[note 2]\n",
      "\n",
      "Show globeShow map of EuropeLocation of the  United Kingdom  (da\n"
     ]
    }
   ],
   "source": [
    "import re\n",
    "import urllib.request\n",
    "from bs4 import BeautifulSoup\n",
    " \n",
    "html = urllib.request.urlopen('https://en.wikipedia.org/wiki/United_Kingdom')\n",
    "soup = BeautifulSoup(html)\n",
    "data = soup.findAll(text=True)\n",
    " \n",
    "def visible(element):\n",
    "    if element.parent.name in ['style', 'script', '[document]', 'head', 'title']:\n",
    "        return False\n",
    "    elif re.match('<!--.*-->', str(element.encode('utf-8'))):\n",
    "        return False\n",
    "    return True\n",
    " \n",
    "result = filter(visible, data)\n",
    " \n",
    "articleString = ''.join(list(result))\n",
    "print(articleString[:1000])"
   ]
  },
  {
   "cell_type": "markdown",
   "metadata": {
    "colab_type": "text",
    "id": "6jl8n3kdlzpB"
   },
   "source": [
    "Answer:"
   ]
  },
  {
   "cell_type": "code",
   "execution_count": 23,
   "metadata": {
    "colab": {
     "base_uri": "https://localhost:8080/",
     "height": 9438
    },
    "colab_type": "code",
    "executionInfo": {
     "elapsed": 338,
     "status": "ok",
     "timestamp": 1534688943206,
     "user": {
      "displayName": "William Hartemink",
      "photoUrl": "https://lh3.googleusercontent.com/a/default-user=s128",
      "userId": "117653304702534641755"
     },
     "user_tz": 240
    },
    "id": "-IVMDHo_Z3W3",
    "outputId": "9afe4ea6-a13b-4360-affb-433fc646592f"
   },
   "outputs": [
    {
     "name": "stdout",
     "output_type": "stream",
     "text": [
      "UK\n",
      "UK\n",
      "United Kingdom\n",
      "God Save the Queen\n",
      "very high\n",
      "United into One Kingdom by the Name of Great Britain\n",
      "Kingdom of Great Britain\n",
      "United Kingdom of Great Britain\n",
      "One Kingdom\n",
      "United Kingdom\n"
     ]
    }
   ],
   "source": [
    "print(*articleString.split(sep = '\"')[1:-1:2][:10], sep = '\\n')"
   ]
  },
  {
   "cell_type": "markdown",
   "metadata": {
    "colab_type": "text",
    "id": "KF-hEP8xmReY"
   },
   "source": [
    "## Dictionaries\n",
    "\n",
    "Dictionaries are another form of collection. The dictionary takes some \"key\" and outputs a \"value\". Simple!"
   ]
  },
  {
   "cell_type": "code",
   "execution_count": null,
   "metadata": {
    "colab": {},
    "colab_type": "code",
    "id": "yLITuSBfZ57c"
   },
   "outputs": [],
   "source": [
    "dictionary = {\n",
    "    'a' : 'A',        # 'a' is a key, 'A' is a value\n",
    "    'b' : 'B'\n",
    "}"
   ]
  },
  {
   "cell_type": "code",
   "execution_count": null,
   "metadata": {
    "colab": {},
    "colab_type": "code",
    "id": "-tS-f66kZ7UF"
   },
   "outputs": [],
   "source": [
    "dictionary['b']"
   ]
  },
  {
   "cell_type": "markdown",
   "metadata": {
    "colab_type": "text",
    "id": "taIJoBvfn7i6"
   },
   "source": [
    "You can use them to keep similar variables together"
   ]
  },
  {
   "cell_type": "code",
   "execution_count": 25,
   "metadata": {
    "colab": {},
    "colab_type": "code",
    "id": "EKX3pklWoDMN"
   },
   "outputs": [],
   "source": [
    "headsOfHouses = {\n",
    "  \"All Souls\": \"Warden John Vickers\",\n",
    "  \"Balliol\": \"Master Helen Ghosh\",\n",
    "  \"Brasenose\": \"Principal John Bowers\",\n",
    "  \"Christ Church\": \"Dean Martyn Percy\",\n",
    "  \"Corpus Christi\": \"President Steven Cowley\",\n",
    "  \"Exeter\": \"Rector Rick Trainor\",\n",
    "  \"Green Templeton\": \"Principal Denise Lievesley\",\n",
    "  \"Harris Manchester\": \"Principal Ralph Waller\",\n",
    "  \"Hertford\": \"Principal Will Hutton\",\n",
    "  \"Jesus College\": \"Principal Nigel Shadbolt\",\n",
    "  \"Keble\": \"Warden Jonathan Phillips\",\n",
    "  \"Kellogg\": \"President Jonathan Michie\",\n",
    "  \"Lady Margaret Hall\": \"Principal Alan Rusbridger\",\n",
    "  \"Linacre\": \"Principal Nick Brown\",\n",
    "  \"Lincoln\": \"Rector Henry Woudhuysen\",\n",
    "  \"Magdalen\": \"President David Clary\",\n",
    "  \"Mansfield\": \"Principal Helena Kennedy, Baroness Kennedy of The Shaws\",\n",
    "  \"Merton\": \"Warden Martin J. Taylor\",\n",
    "  \"New College\": \"Warden Miles Young\",\n",
    "  \"Nuffield\": \"Warden Andrew Dilnot\",\n",
    "  \"Oriel\": \"Provost Moira Wallace\",\n",
    "  \"Pembroke\": \"Master Lynne Brindley\",\n",
    "  \"Queen's\": \"Provost Paul Madden\",\n",
    "  \"St Anne's\": \"Principal Helen King\",\n",
    "  \"St Antony's\": \"Warden Roger Goodman\",\n",
    "  \"St Catherine's\": \"Master Roger Ainsworth\",\n",
    "  \"St Cross\": \"Master Carole Souter\",\n",
    "  \"St Edmund Hall\": \"Principal Keith Gull\",\n",
    "  \"St Hilda's\": \"Principal Gordon Duff\",\n",
    "  \"St Hugh's\": \"Principal Elish Angiolini\",\n",
    "  \"St John's\": \"President Margaret Snowling\",\n",
    "  \"St Peter's\": \"Master Mark Damazer\",\n",
    "  \"Somerville\": \"Principal Janet Royall, Baroness Royall of Blaisdon\",\n",
    "  \"Trinity\": \"President Hilary Boulding\",\n",
    "  \"University\": \"Master Ivor Crewe\",\n",
    "  \"Wadham\": \"Warden Ken Macdonald, Lord Macdonald of River Glaven\",\n",
    "  \"Wolfson\": \"President Tim Hitchens\",\n",
    "  \"Worcester\": \"Provost Sir Jonathan Bate\"\n",
    "}"
   ]
  },
  {
   "cell_type": "code",
   "execution_count": 26,
   "metadata": {
    "colab": {},
    "colab_type": "code",
    "id": "CZCNK7fKol-6"
   },
   "outputs": [
    {
     "name": "stdout",
     "output_type": "stream",
     "text": [
      "dict_keys(['All Souls', 'Balliol', 'Brasenose', 'Christ Church', 'Corpus Christi', 'Exeter', 'Green Templeton', 'Harris Manchester', 'Hertford', 'Jesus College', 'Keble', 'Kellogg', 'Lady Margaret Hall', 'Linacre', 'Lincoln', 'Magdalen', 'Mansfield', 'Merton', 'New College', 'Nuffield', 'Oriel', 'Pembroke', \"Queen's\", \"St Anne's\", \"St Antony's\", \"St Catherine's\", 'St Cross', 'St Edmund Hall', \"St Hilda's\", \"St Hugh's\", \"St John's\", \"St Peter's\", 'Somerville', 'Trinity', 'University', 'Wadham', 'Wolfson', 'Worcester'])\n"
     ]
    },
    {
     "ename": "NameError",
     "evalue": "name 'your_college_here' is not defined",
     "output_type": "error",
     "traceback": [
      "\u001b[0;31m---------------------------------------------------------------------------\u001b[0m",
      "\u001b[0;31mNameError\u001b[0m                                 Traceback (most recent call last)",
      "\u001b[0;32m<ipython-input-26-69007257f1ef>\u001b[0m in \u001b[0;36m<module>\u001b[0;34m()\u001b[0m\n\u001b[1;32m      1\u001b[0m \u001b[0;31m# Lookup your college with headsOfHouses !\u001b[0m\u001b[0;34m\u001b[0m\u001b[0;34m\u001b[0m\u001b[0m\n\u001b[1;32m      2\u001b[0m \u001b[0mprint\u001b[0m\u001b[0;34m(\u001b[0m\u001b[0mheadsOfHouses\u001b[0m\u001b[0;34m.\u001b[0m\u001b[0mkeys\u001b[0m\u001b[0;34m(\u001b[0m\u001b[0;34m)\u001b[0m\u001b[0;34m)\u001b[0m\u001b[0;34m\u001b[0m\u001b[0m\n\u001b[0;32m----> 3\u001b[0;31m \u001b[0mheadsOfHouses\u001b[0m\u001b[0;34m[\u001b[0m\u001b[0myour_college_here\u001b[0m\u001b[0;34m]\u001b[0m\u001b[0;34m\u001b[0m\u001b[0m\n\u001b[0m",
      "\u001b[0;31mNameError\u001b[0m: name 'your_college_here' is not defined"
     ]
    }
   ],
   "source": [
    "# Lookup your college with headsOfHouses !\n",
    "print(headsOfHouses.keys())\n",
    "headsOfHouses[your_college_here]"
   ]
  },
  {
   "cell_type": "markdown",
   "metadata": {
    "colab_type": "text",
    "id": "7VYrdqzdr8vd"
   },
   "source": [
    "Keep in mind that dictionaries can only have one \"value\" for every \"key\"\n",
    "\n",
    "This is allowed!!<img src = \"./Image1.png\">\n",
    "\n",
    "This is not!!<img src = \"./Image2.png\">"
   ]
  },
  {
   "cell_type": "markdown",
   "metadata": {
    "colab": {},
    "colab_type": "code",
    "id": "n4mUnMQ2o4Nd"
   },
   "source": [
    "(Where X represents the keys, and Y represents the values)"
   ]
  },
  {
   "cell_type": "markdown",
   "metadata": {
    "colab": {
     "base_uri": "https://localhost:8080/",
     "height": 34
    },
    "colab_type": "code",
    "executionInfo": {
     "elapsed": 363,
     "status": "ok",
     "timestamp": 1534689892433,
     "user": {
      "displayName": "William Hartemink",
      "photoUrl": "https://lh3.googleusercontent.com/a/default-user=s128",
      "userId": "117653304702534641755"
     },
     "user_tz": 240
    },
    "id": "HP_Oxuk6pUt1",
    "outputId": "aee4b3f4-d380-4ea5-9174-b3c694dec0dd"
   },
   "source": [
    "You should also note that unlike lists, dictionaries are not ordered, so you can't index them with integers or slice them"
   ]
  },
  {
   "cell_type": "code",
   "execution_count": 28,
   "metadata": {
    "colab": {},
    "colab_type": "code",
    "id": "bMH6RfMfpVaB"
   },
   "outputs": [
    {
     "ename": "KeyError",
     "evalue": "1",
     "output_type": "error",
     "traceback": [
      "\u001b[0;31m---------------------------------------------------------------------------\u001b[0m",
      "\u001b[0;31mKeyError\u001b[0m                                  Traceback (most recent call last)",
      "\u001b[0;32m<ipython-input-28-1694219e75ff>\u001b[0m in \u001b[0;36m<module>\u001b[0;34m()\u001b[0m\n\u001b[0;32m----> 1\u001b[0;31m \u001b[0mheadsOfHouses\u001b[0m\u001b[0;34m[\u001b[0m\u001b[0;36m1\u001b[0m\u001b[0;34m]\u001b[0m\u001b[0;34m\u001b[0m\u001b[0m\n\u001b[0m",
      "\u001b[0;31mKeyError\u001b[0m: 1"
     ]
    }
   ],
   "source": [
    "headsOfHouses[1]"
   ]
  },
  {
   "cell_type": "markdown",
   "metadata": {
    "colab": {
     "base_uri": "https://localhost:8080/",
     "height": 34
    },
    "colab_type": "code",
    "executionInfo": {
     "elapsed": 527,
     "status": "ok",
     "timestamp": 1534690793875,
     "user": {
      "displayName": "William Hartemink",
      "photoUrl": "https://lh3.googleusercontent.com/a/default-user=s128",
      "userId": "117653304702534641755"
     },
     "user_tz": 240
    },
    "id": "WNRbFjnWpXiz",
    "outputId": "b19bb9f2-f72f-4371-9bc3-69cdde2ef3c9"
   },
   "source": [
    "There is no \"first\" head of house, and so a dictionary makes a lot more sense than an array in this case! \n",
    "\n",
    "Let's try an exercise from the book: Automate the Boring Stuff with Python."
   ]
  },
  {
   "cell_type": "markdown",
   "metadata": {
    "colab": {},
    "colab_type": "code",
    "id": "aRMgW47FpcOE"
   },
   "source": [
    "Fantasy Game Inventory\n",
    "You are creating a fantasy video game. The data structure to model the player’s inventory will be a dictionary where the keys are string values describing the item in the inventory and the value is an integer value detailing how many of that item the player has. For example, the dictionary value {'rope': 1, 'torch': 6, 'gold coin': 42, 'dagger': 1, 'arrow': 12} means the player has 1 rope, 6 torches, 42 gold coins, and so on.\n",
    "\n",
    "Write a function named displayInventory() that would take any possible “inventory” and display it like the following:\n",
    "\n",
    "\n",
    "Inventory:\n",
    "12 arrow\n",
    "42 gold coin\n",
    "1 rope\n",
    "6 torch\n",
    "1 dagger\n",
    "Total number of items: 62\n",
    "Hint: You can use a for loop to loop through all the keys in a dictionary.\n",
    "\n",
    "\n",
    "# inventory.py\n",
    "stuff = {'rope': 1, 'torch': 6, 'gold coin': 42, 'dagger': 1, 'arrow': 12}\n",
    "\n",
    "def displayInventory(inventory):\n",
    "    print(\"Inventory:\")\n",
    "    item_total = 0\n",
    "    for k, v in inventory.items():\n",
    "        # FILL IN THE CODE HERE\n",
    "    print(\"Total number of items: \" + str(item_total))\n",
    "\n",
    "displayInventory(stuff)\n",
    "List to Dictionary Function for Fantasy Game Inventory\n",
    "Imagine that a vanquished dragon’s loot is represented as a list of strings like this:\n",
    "\n",
    "\n",
    "dragonLoot = ['gold coin', 'dagger', 'gold coin', 'gold coin', 'ruby']\n",
    "Write a function named addToInventory(inventory, addedItems), where the inventory parameter is a dictionary representing the player’s inventory (like in the previous project) and the addedItems parameter is a list like dragonLoot. The addToInventory() function should return a dictionary that represents the updated inventory. Note that the addedItems list can contain multiples of the same item. Your code could look something like this:\n",
    "\n",
    "\n",
    "def addToInventory(inventory, addedItems):\n",
    "    # your code goes here\n",
    "\n",
    "inv = {'gold coin': 42, 'rope': 1}\n",
    "dragonLoot = ['gold coin', 'dagger', 'gold coin', 'gold coin', 'ruby']\n",
    "inv = addToInventory(inv, dragonLoot)\n",
    "displayInventory(inv)\n",
    "The previous program (with your displayInventory() function from the previous project) would output the following:\n",
    "\n",
    "\n",
    "Inventory:\n",
    "45 gold coin\n",
    "1 rope\n",
    "1 ruby\n",
    "1 dagger\n",
    "\n",
    "Total number of items: 48"
   ]
  },
  {
   "cell_type": "code",
   "execution_count": null,
   "metadata": {},
   "outputs": [],
   "source": []
  },
  {
   "cell_type": "code",
   "execution_count": null,
   "metadata": {},
   "outputs": [],
   "source": []
  }
 ],
 "metadata": {
  "colab": {
   "collapsed_sections": [],
   "name": "Week 2 Quarter 1.ipynb",
   "provenance": [],
   "version": "0.3.2"
  },
  "kernelspec": {
   "display_name": "Python 3",
   "language": "python",
   "name": "python3"
  },
  "language_info": {
   "codemirror_mode": {
    "name": "ipython",
    "version": 3
   },
   "file_extension": ".py",
   "mimetype": "text/x-python",
   "name": "python",
   "nbconvert_exporter": "python",
   "pygments_lexer": "ipython3",
   "version": "3.6.5"
  }
 },
 "nbformat": 4,
 "nbformat_minor": 1
}
