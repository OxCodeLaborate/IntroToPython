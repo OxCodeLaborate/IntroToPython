{
 "cells": [
  {
   "cell_type": "code",
   "execution_count": null,
   "metadata": {
    "colab": {},
    "colab_type": "code",
    "id": "mhc1QmDII9u5"
   },
   "outputs": [],
   "source": []
  },
  {
   "cell_type": "markdown",
   "metadata": {
    "colab_type": "text",
    "id": "y0Liml1RRKay"
   },
   "source": [
    "# What Are Collections? \n",
    "### Not the ones that stress you out at the start of term!\n",
    "\n",
    "Collections are groups of other objects, such as ints or strings. They help you keep your code and/or data organized."
   ]
  },
  {
   "cell_type": "markdown",
   "metadata": {
    "colab_type": "text",
    "id": "U6upe3ixUOxr"
   },
   "source": [
    "First example we'll use is called a list."
   ]
  },
  {
   "cell_type": "markdown",
   "metadata": {},
   "source": [
    "## Creating a list\n",
    "\n",
    "listName = [\"First Member\", \"Second Member\", ... , \"Last Member\"]"
   ]
  },
  {
   "cell_type": "code",
   "execution_count": 14,
   "metadata": {
    "colab": {},
    "colab_type": "code",
    "id": "2r60iwBURLb1"
   },
   "outputs": [],
   "source": [
    "alphabet = ['a','b','c','d','e']"
   ]
  },
  {
   "cell_type": "markdown",
   "metadata": {
    "colab": {},
    "colab_type": "code",
    "id": "bxp7CZYJUZoK"
   },
   "source": [
    "Each member of the list, is called an \"element\"\n",
    "\n",
    "You can find the length of the list"
   ]
  },
  {
   "cell_type": "code",
   "execution_count": 15,
   "metadata": {},
   "outputs": [
    {
     "data": {
      "text/plain": [
       "5"
      ]
     },
     "execution_count": 15,
     "metadata": {},
     "output_type": "execute_result"
    }
   ],
   "source": [
    "len(alphabet)"
   ]
  },
  {
   "cell_type": "markdown",
   "metadata": {},
   "source": [
    "obviously that's not the whole alphabet :PP"
   ]
  },
  {
   "cell_type": "markdown",
   "metadata": {
    "colab_type": "text",
    "id": "WROtZ59-UboT"
   },
   "source": [
    "## Indexing a list\n",
    "Just like strings, you can index them! (And of course, 0 is the first element)"
   ]
  },
  {
   "cell_type": "code",
   "execution_count": 18,
   "metadata": {
    "colab": {
     "base_uri": "https://localhost:8080/",
     "height": 34
    },
    "colab_type": "code",
    "executionInfo": {
     "elapsed": 503,
     "status": "ok",
     "timestamp": 1534551169777,
     "user": {
      "displayName": "William Hartemink",
      "photoUrl": "https://lh3.googleusercontent.com/a/default-user=s128",
      "userId": "117653304702534641755"
     },
     "user_tz": 240
    },
    "id": "HTmOOH1HUdUW",
    "outputId": "3d80a300-1c6e-4c56-b729-6fe1ce83527d"
   },
   "outputs": [
    {
     "data": {
      "text/plain": [
       "'b'"
      ]
     },
     "execution_count": 18,
     "metadata": {},
     "output_type": "execute_result"
    }
   ],
   "source": [
    "alphabet[1]"
   ]
  },
  {
   "cell_type": "markdown",
   "metadata": {
    "colab_type": "text",
    "id": "ggmm1EmTUnPh"
   },
   "source": [
    "Slice em!"
   ]
  },
  {
   "cell_type": "code",
   "execution_count": 19,
   "metadata": {
    "colab": {
     "base_uri": "https://localhost:8080/",
     "height": 34
    },
    "colab_type": "code",
    "executionInfo": {
     "elapsed": 318,
     "status": "ok",
     "timestamp": 1534551170151,
     "user": {
      "displayName": "William Hartemink",
      "photoUrl": "https://lh3.googleusercontent.com/a/default-user=s128",
      "userId": "117653304702534641755"
     },
     "user_tz": 240
    },
    "id": "tdFzE0X9Ueb9",
    "outputId": "7529278b-a774-4838-ff44-b80cb1b44364"
   },
   "outputs": [
    {
     "data": {
      "text/plain": [
       "['c', 'd']"
      ]
     },
     "execution_count": 19,
     "metadata": {},
     "output_type": "execute_result"
    }
   ],
   "source": [
    "alphabet[2:4]"
   ]
  },
  {
   "cell_type": "markdown",
   "metadata": {
    "colab_type": "text",
    "id": "UnnEA-DuUsU8"
   },
   "source": [
    "and reverse!"
   ]
  },
  {
   "cell_type": "code",
   "execution_count": 20,
   "metadata": {
    "colab": {
     "base_uri": "https://localhost:8080/",
     "height": 34
    },
    "colab_type": "code",
    "executionInfo": {
     "elapsed": 310,
     "status": "ok",
     "timestamp": 1534551170584,
     "user": {
      "displayName": "William Hartemink",
      "photoUrl": "https://lh3.googleusercontent.com/a/default-user=s128",
      "userId": "117653304702534641755"
     },
     "user_tz": 240
    },
    "id": "wpVUq_4mUpoN",
    "outputId": "d883206d-c3fa-4811-8622-7d4ed5a391a2"
   },
   "outputs": [
    {
     "data": {
      "text/plain": [
       "['e', 'd', 'c', 'b', 'a']"
      ]
     },
     "execution_count": 20,
     "metadata": {},
     "output_type": "execute_result"
    }
   ],
   "source": [
    "alphabet[::-1]"
   ]
  },
  {
   "cell_type": "markdown",
   "metadata": {
    "colab_type": "text",
    "id": "uUNE9qSgX_DT"
   },
   "source": [
    "You can also set an element of a list by index"
   ]
  },
  {
   "cell_type": "code",
   "execution_count": 21,
   "metadata": {
    "colab": {},
    "colab_type": "code",
    "id": "YbDNSzOCUvHa"
   },
   "outputs": [],
   "source": [
    "alphabet[0] = \"This is replacing the letter 'a'\""
   ]
  },
  {
   "cell_type": "markdown",
   "metadata": {
    "colab_type": "text",
    "id": "A8JedaeqU3cM"
   },
   "source": [
    "## List methods\n",
    "\n",
    "Here's also a couple extra methods you'll find handy!\n",
    "\n",
    "### Appending to a list (adding to the end)"
   ]
  },
  {
   "cell_type": "code",
   "execution_count": 23,
   "metadata": {
    "colab": {},
    "colab_type": "code",
    "id": "TQfpN9fCU_qT"
   },
   "outputs": [],
   "source": [
    "alphabet.append('appended string')"
   ]
  },
  {
   "cell_type": "code",
   "execution_count": 24,
   "metadata": {
    "colab": {
     "base_uri": "https://localhost:8080/",
     "height": 34
    },
    "colab_type": "code",
    "executionInfo": {
     "elapsed": 322,
     "status": "ok",
     "timestamp": 1534550368570,
     "user": {
      "displayName": "William Hartemink",
      "photoUrl": "https://lh3.googleusercontent.com/a/default-user=s128",
      "userId": "117653304702534641755"
     },
     "user_tz": 240
    },
    "id": "Fcgzc084VFT8",
    "outputId": "d206f485-5ad2-4d37-e463-4a00cf60c5a9"
   },
   "outputs": [
    {
     "data": {
      "text/plain": [
       "[\"This is replacing the letter 'a'\", 'b', 'c', 'd', 'e', 'appended string']"
      ]
     },
     "execution_count": 24,
     "metadata": {},
     "output_type": "execute_result"
    }
   ],
   "source": [
    "alphabet"
   ]
  },
  {
   "cell_type": "code",
   "execution_count": 25,
   "metadata": {
    "colab": {
     "base_uri": "https://localhost:8080/",
     "height": 34
    },
    "colab_type": "code",
    "executionInfo": {
     "elapsed": 325,
     "status": "ok",
     "timestamp": 1534550385592,
     "user": {
      "displayName": "William Hartemink",
      "photoUrl": "https://lh3.googleusercontent.com/a/default-user=s128",
      "userId": "117653304702534641755"
     },
     "user_tz": 240
    },
    "id": "s7DZkFewVF-p",
    "outputId": "781677e5-0351-443c-896a-636b52521f38"
   },
   "outputs": [
    {
     "data": {
      "text/plain": [
       "[\"This is replacing the letter 'a'\", 'b', 'c', 'd', 'e', 'appended string', 5]"
      ]
     },
     "execution_count": 25,
     "metadata": {},
     "output_type": "execute_result"
    }
   ],
   "source": [
    "# Can I put ints in there?\n",
    "alphabet.append(5)\n",
    "alphabet"
   ]
  },
  {
   "cell_type": "code",
   "execution_count": 26,
   "metadata": {
    "colab": {
     "base_uri": "https://localhost:8080/",
     "height": 34
    },
    "colab_type": "code",
    "executionInfo": {
     "elapsed": 542,
     "status": "ok",
     "timestamp": 1534550407957,
     "user": {
      "displayName": "William Hartemink",
      "photoUrl": "https://lh3.googleusercontent.com/a/default-user=s128",
      "userId": "117653304702534641755"
     },
     "user_tz": 240
    },
    "id": "uR-3vx7zVIVX",
    "outputId": "5f13f792-b995-49d1-e871-11f2c2b63798"
   },
   "outputs": [
    {
     "data": {
      "text/plain": [
       "[\"This is replacing the letter 'a'\",\n",
       " 'b',\n",
       " 'c',\n",
       " 'd',\n",
       " 'e',\n",
       " 'appended string',\n",
       " 5,\n",
       " 10.56]"
      ]
     },
     "execution_count": 26,
     "metadata": {},
     "output_type": "execute_result"
    }
   ],
   "source": [
    "# Can I put floats in there?\n",
    "alphabet.append(10.56)\n",
    "alphabet"
   ]
  },
  {
   "cell_type": "markdown",
   "metadata": {},
   "source": [
    "### Appending a list to another list ????"
   ]
  },
  {
   "cell_type": "code",
   "execution_count": 27,
   "metadata": {
    "colab": {
     "base_uri": "https://localhost:8080/",
     "height": 34
    },
    "colab_type": "code",
    "executionInfo": {
     "elapsed": 320,
     "status": "ok",
     "timestamp": 1534550425456,
     "user": {
      "displayName": "William Hartemink",
      "photoUrl": "https://lh3.googleusercontent.com/a/default-user=s128",
      "userId": "117653304702534641755"
     },
     "user_tz": 240
    },
    "id": "FtisfmH4VO1v",
    "outputId": "2b8fe20d-80ee-4500-e941-77ebc2c3bd67"
   },
   "outputs": [
    {
     "data": {
      "text/plain": [
       "[\"This is replacing the letter 'a'\",\n",
       " 'b',\n",
       " 'c',\n",
       " 'd',\n",
       " 'e',\n",
       " 'appended string',\n",
       " 5,\n",
       " 10.56,\n",
       " [1, 2, 3]]"
      ]
     },
     "execution_count": 27,
     "metadata": {},
     "output_type": "execute_result"
    }
   ],
   "source": [
    "# Can I put other lists in there?\n",
    "alphabet.append([1, 2, 3])\n",
    "alphabet"
   ]
  },
  {
   "cell_type": "markdown",
   "metadata": {},
   "source": [
    "Notice that above, the list is _inside_ the other list.\n",
    "\n",
    "We can access it like this!"
   ]
  },
  {
   "cell_type": "code",
   "execution_count": 28,
   "metadata": {},
   "outputs": [
    {
     "data": {
      "text/plain": [
       "[1, 2, 3]"
      ]
     },
     "execution_count": 28,
     "metadata": {},
     "output_type": "execute_result"
    }
   ],
   "source": [
    "alphabet[-1]"
   ]
  },
  {
   "cell_type": "code",
   "execution_count": 29,
   "metadata": {},
   "outputs": [
    {
     "data": {
      "text/plain": [
       "1"
      ]
     },
     "execution_count": 29,
     "metadata": {},
     "output_type": "execute_result"
    }
   ],
   "source": [
    "alphabet[-1][0]"
   ]
  },
  {
   "cell_type": "markdown",
   "metadata": {},
   "source": [
    "### List Concatenation!!\n",
    "\n",
    "But what if we want to join the two lists togther ? How do we do that ? \n",
    "\n",
    "\n",
    "Say, for instance: My friend and I each have separate shopping lists, but I need to shop for both of us, can I merge the two shopping lists together ? "
   ]
  },
  {
   "cell_type": "code",
   "execution_count": 30,
   "metadata": {},
   "outputs": [],
   "source": [
    "myShoppingList = [\"Eggs\", \"Bread\", \"Heinz Baked Beans\"] # (not sponsored)\n",
    "friendsShoppingList = [\"Bacon\", \"Meatzza\", \"Ham\"]       # Why does my friend only eat meat? We will never know ..."
   ]
  },
  {
   "cell_type": "markdown",
   "metadata": {},
   "source": [
    "First let's have a look at both lists!"
   ]
  },
  {
   "cell_type": "code",
   "execution_count": 31,
   "metadata": {},
   "outputs": [
    {
     "data": {
      "text/plain": [
       "['Eggs', 'Bread', 'Heinz Baked Beans']"
      ]
     },
     "execution_count": 31,
     "metadata": {},
     "output_type": "execute_result"
    }
   ],
   "source": [
    "myShoppingList"
   ]
  },
  {
   "cell_type": "code",
   "execution_count": 32,
   "metadata": {},
   "outputs": [
    {
     "data": {
      "text/plain": [
       "['Bacon', 'Meatzza', 'Ham']"
      ]
     },
     "execution_count": 32,
     "metadata": {},
     "output_type": "execute_result"
    }
   ],
   "source": [
    "friendsShoppingList"
   ]
  },
  {
   "cell_type": "markdown",
   "metadata": {},
   "source": [
    "'add' them together!"
   ]
  },
  {
   "cell_type": "code",
   "execution_count": 33,
   "metadata": {},
   "outputs": [
    {
     "data": {
      "text/plain": [
       "['Eggs', 'Bread', 'Heinz Baked Beans', 'Bacon', 'Meatzza', 'Ham']"
      ]
     },
     "execution_count": 33,
     "metadata": {},
     "output_type": "execute_result"
    }
   ],
   "source": [
    "myShoppingList + friendsShoppingList"
   ]
  },
  {
   "cell_type": "markdown",
   "metadata": {},
   "source": [
    "Objective complete!! We call this type of addition \"List concatenation.\" And if you remember from last week, we concatenate strings with the same syntax:"
   ]
  },
  {
   "cell_type": "code",
   "execution_count": 35,
   "metadata": {},
   "outputs": [
    {
     "data": {
      "text/plain": [
       "'Hello World'"
      ]
     },
     "execution_count": 35,
     "metadata": {},
     "output_type": "execute_result"
    }
   ],
   "source": [
    "\"Hello \" + \"World\""
   ]
  },
  {
   "cell_type": "markdown",
   "metadata": {},
   "source": [
    "## Getting Variable Assignment Just Right\n",
    "\n",
    "Back to the shopping list. Why hasn't my shopping list changed?"
   ]
  },
  {
   "cell_type": "code",
   "execution_count": 34,
   "metadata": {},
   "outputs": [
    {
     "data": {
      "text/plain": [
       "['Eggs', 'Bread', 'Heinz Baked Beans']"
      ]
     },
     "execution_count": 34,
     "metadata": {},
     "output_type": "execute_result"
    }
   ],
   "source": [
    "myShoppingList"
   ]
  },
  {
   "cell_type": "markdown",
   "metadata": {},
   "source": [
    "Ans: I asked Python to add the lists together, but didn't ask Python to store the result anywhere. I can store the result using variable assignment"
   ]
  },
  {
   "cell_type": "code",
   "execution_count": 36,
   "metadata": {},
   "outputs": [],
   "source": [
    "myShoppingList = myShoppingList + friendsShoppingList"
   ]
  },
  {
   "cell_type": "code",
   "execution_count": 37,
   "metadata": {},
   "outputs": [
    {
     "data": {
      "text/plain": [
       "['Eggs', 'Bread', 'Heinz Baked Beans', 'Bacon', 'Meatzza', 'Ham']"
      ]
     },
     "execution_count": 37,
     "metadata": {},
     "output_type": "execute_result"
    }
   ],
   "source": [
    "myShoppingList"
   ]
  },
  {
   "cell_type": "markdown",
   "metadata": {},
   "source": [
    "## A note about list.append() and variable assignment"
   ]
  },
  {
   "cell_type": "code",
   "execution_count": 40,
   "metadata": {},
   "outputs": [],
   "source": [
    "myShoppingList.append(\"Snacks for CodeSoc!\")"
   ]
  },
  {
   "cell_type": "markdown",
   "metadata": {},
   "source": [
    "Notice how the above doesn't return anything? You run the code, but myShoppingList isn't automatically printed to the screen!\n",
    "\n",
    "Let's see what myShoppingList looks like now:"
   ]
  },
  {
   "cell_type": "code",
   "execution_count": 41,
   "metadata": {},
   "outputs": [
    {
     "data": {
      "text/plain": [
       "['Eggs',\n",
       " 'Bread',\n",
       " 'Heinz Baked Beans',\n",
       " 'Bacon',\n",
       " 'Meatzza',\n",
       " 'Ham',\n",
       " 'Snacks for CodeSoc!']"
      ]
     },
     "execution_count": 41,
     "metadata": {},
     "output_type": "execute_result"
    }
   ],
   "source": [
    "myShoppingList"
   ]
  },
  {
   "cell_type": "markdown",
   "metadata": {},
   "source": [
    "### So it turns out list.append() actually *changes* the list, but does *not* return a new list\n",
    "\n",
    "### If I try assigning a variable to the output of list.append(), I will get nothing !!! See Below"
   ]
  },
  {
   "cell_type": "code",
   "execution_count": 42,
   "metadata": {},
   "outputs": [],
   "source": [
    "myShoppingList = myShoppingList.append(\"Snacks for CodeSoc!\")"
   ]
  },
  {
   "cell_type": "code",
   "execution_count": 43,
   "metadata": {},
   "outputs": [],
   "source": [
    "myShoppingList"
   ]
  },
  {
   "cell_type": "code",
   "execution_count": 44,
   "metadata": {},
   "outputs": [
    {
     "data": {
      "text/plain": [
       "NoneType"
      ]
     },
     "execution_count": 44,
     "metadata": {},
     "output_type": "execute_result"
    }
   ],
   "source": [
    "type(myShoppingList)"
   ]
  },
  {
   "cell_type": "markdown",
   "metadata": {},
   "source": [
    "I get 'None', and now my shopping list is gone\n",
    "\n",
    "### Lesson: A function can either:\n",
    "### 1.) Change your Object         (as in the case of list.append() )\n",
    "\n",
    "If your function *changes* the object, you don't have to save the result in a new variable.\n",
    "\n",
    "\n",
    "### 2.) Create a new Object        (as in the case of \"list1 + list2\" )\n",
    "\n",
    "\n",
    "If your function *creates* a new object, you *should* store the result in a new variable."
   ]
  },
  {
   "cell_type": "markdown",
   "metadata": {},
   "source": [
    "# Build your own list! (Exercise)\n",
    "\n",
    "### Let's pretend you're using Python to keep a to-do list. Please go through this exercise because practice will help you improve most! :) "
   ]
  },
  {
   "cell_type": "code",
   "execution_count": 38,
   "metadata": {},
   "outputs": [],
   "source": [
    "myList = []     # We have initialized an empty list"
   ]
  },
  {
   "cell_type": "code",
   "execution_count": 39,
   "metadata": {},
   "outputs": [
    {
     "data": {
      "text/plain": [
       "[]"
      ]
     },
     "execution_count": 39,
     "metadata": {},
     "output_type": "execute_result"
    }
   ],
   "source": [
    "myList          # What does myList look like ?"
   ]
  },
  {
   "cell_type": "markdown",
   "metadata": {},
   "source": [
    "You need to read your lecture notes before your tutorial tomorrow. \n",
    "\n",
    "Append \"Read lecture notes\" to myList"
   ]
  },
  {
   "cell_type": "code",
   "execution_count": null,
   "metadata": {},
   "outputs": [],
   "source": []
  },
  {
   "cell_type": "markdown",
   "metadata": {},
   "source": [
    "You also haven't checked your emails all day. Add that to the list\n",
    "\n",
    "Append \"Read emails\" to myList"
   ]
  },
  {
   "cell_type": "code",
   "execution_count": null,
   "metadata": {},
   "outputs": [],
   "source": []
  },
  {
   "cell_type": "markdown",
   "metadata": {},
   "source": [
    "Ahh, you just realized you have to revise for your study group later tonight!\n",
    "\n",
    "Add \"Revise for study group\" to the *front* of the list. \n",
    "\n",
    "Hint: You can use list concatenation. Remember to store the result in myList"
   ]
  },
  {
   "cell_type": "code",
   "execution_count": null,
   "metadata": {},
   "outputs": [],
   "source": []
  },
  {
   "cell_type": "markdown",
   "metadata": {},
   "source": [
    "You also remember that you need to get a card for your mother's birthday tomorrow. You should get her a card.\n",
    "\n",
    "Can you add \"Buy card\" after \"Revise for study group\" but before the rest?"
   ]
  },
  {
   "cell_type": "code",
   "execution_count": null,
   "metadata": {},
   "outputs": [],
   "source": []
  },
  {
   "cell_type": "markdown",
   "metadata": {},
   "source": [
    "You're finally done with revising for the study group.\n",
    "\n",
    "Remove \"Revise for study group\" from the list"
   ]
  },
  {
   "cell_type": "code",
   "execution_count": null,
   "metadata": {},
   "outputs": [],
   "source": []
  },
  {
   "cell_type": "code",
   "execution_count": 45,
   "metadata": {},
   "outputs": [
    {
     "data": {
      "text/plain": [
       "False"
      ]
     },
     "execution_count": 45,
     "metadata": {},
     "output_type": "execute_result"
    }
   ],
   "source": [
    "myList == [\"Buy card\", \"Revise for study group\", \"Read lecture notes\", \"Read emails\"]\n",
    "# if I'm not mistaken, myList should look like this now :)"
   ]
  },
  {
   "cell_type": "markdown",
   "metadata": {},
   "source": [
    "## More List Methods"
   ]
  },
  {
   "cell_type": "code",
   "execution_count": 47,
   "metadata": {},
   "outputs": [
    {
     "data": {
      "text/plain": [
       "['one', 'two', 'three']"
      ]
     },
     "execution_count": 47,
     "metadata": {},
     "output_type": "execute_result"
    }
   ],
   "source": [
    "myList = ['one', 'two', 'three']\n",
    "myList"
   ]
  },
  {
   "cell_type": "markdown",
   "metadata": {},
   "source": [
    "### list.pop(index) \n",
    "\n",
    "removes the list element at *index* and returns that list element"
   ]
  },
  {
   "cell_type": "code",
   "execution_count": 48,
   "metadata": {},
   "outputs": [
    {
     "data": {
      "text/plain": [
       "'two'"
      ]
     },
     "execution_count": 48,
     "metadata": {},
     "output_type": "execute_result"
    }
   ],
   "source": [
    "myList.pop(1)"
   ]
  },
  {
   "cell_type": "code",
   "execution_count": 49,
   "metadata": {},
   "outputs": [
    {
     "data": {
      "text/plain": [
       "['one', 'three']"
      ]
     },
     "execution_count": 49,
     "metadata": {},
     "output_type": "execute_result"
    }
   ],
   "source": [
    "myList"
   ]
  },
  {
   "cell_type": "markdown",
   "metadata": {},
   "source": [
    "### list.insert(index, value) \n",
    "\n",
    "inserts value into array[index] position"
   ]
  },
  {
   "cell_type": "code",
   "execution_count": 50,
   "metadata": {},
   "outputs": [],
   "source": [
    "myList.insert(1, 'insertion')"
   ]
  },
  {
   "cell_type": "code",
   "execution_count": 51,
   "metadata": {},
   "outputs": [
    {
     "data": {
      "text/plain": [
       "['one', 'insertion', 'three']"
      ]
     },
     "execution_count": 51,
     "metadata": {},
     "output_type": "execute_result"
    }
   ],
   "source": [
    "myList"
   ]
  },
  {
   "cell_type": "markdown",
   "metadata": {},
   "source": [
    "## Do I have to memorize all these methods? \n",
    "\n",
    "### No. I don't even know them all. When you're looking for a method, just google what you're looking for.\n",
    "\n",
    "### Example: \"How to insert into Python list\"\n",
    "\n",
    "### One of the top results: https://www.programiz.com/python-programming/methods/list/insert"
   ]
  },
  {
   "cell_type": "markdown",
   "metadata": {},
   "source": [
    "\n",
    "\n",
    "# ------------------------------------------------------------------------\n",
    "# New Section!\n",
    "# ------------------------------------------------------------------------\n",
    "\n",
    "\n",
    "# Making a list from a string!"
   ]
  },
  {
   "cell_type": "code",
   "execution_count": null,
   "metadata": {},
   "outputs": [],
   "source": []
  },
  {
   "cell_type": "code",
   "execution_count": null,
   "metadata": {},
   "outputs": [],
   "source": []
  },
  {
   "cell_type": "markdown",
   "metadata": {
    "colab_type": "text",
    "id": "PcuthmJJWBRq"
   },
   "source": [
    "You can also make a list out of a string using str.split(sep = 'separator')"
   ]
  },
  {
   "cell_type": "code",
   "execution_count": 13,
   "metadata": {
    "colab": {
     "base_uri": "https://localhost:8080/",
     "height": 663
    },
    "colab_type": "code",
    "executionInfo": {
     "elapsed": 327,
     "status": "ok",
     "timestamp": 1534688795742,
     "user": {
      "displayName": "William Hartemink",
      "photoUrl": "https://lh3.googleusercontent.com/a/default-user=s128",
      "userId": "117653304702534641755"
     },
     "user_tz": 240
    },
    "id": "Y9ZEVPksV-g8",
    "outputId": "727ccba2-0972-4659-a141-81b72dd294e6"
   },
   "outputs": [
    {
     "data": {
      "text/plain": [
       "['According',\n",
       " 'to',\n",
       " 'all',\n",
       " 'known',\n",
       " 'laws',\n",
       " 'of',\n",
       " 'aviation,',\n",
       " 'there',\n",
       " 'is',\n",
       " 'no',\n",
       " 'way',\n",
       " 'a',\n",
       " 'bee',\n",
       " 'should',\n",
       " 'be',\n",
       " 'able',\n",
       " 'to',\n",
       " 'fly.',\n",
       " 'Its',\n",
       " 'wings',\n",
       " 'are',\n",
       " 'too',\n",
       " 'small',\n",
       " 'to',\n",
       " 'get',\n",
       " 'its',\n",
       " 'fat',\n",
       " 'little',\n",
       " 'body',\n",
       " 'off',\n",
       " 'the',\n",
       " 'ground.',\n",
       " 'The',\n",
       " 'bee,',\n",
       " 'of',\n",
       " 'course,',\n",
       " 'flies',\n",
       " 'anyway']"
      ]
     },
     "execution_count": 13,
     "metadata": {},
     "output_type": "execute_result"
    }
   ],
   "source": [
    "# triple quotes are a multi-line string!\n",
    "\n",
    "BeeMovieScript = \"\"\"According to all known laws\n",
    "of aviation,\n",
    "\n",
    "  \n",
    "there is no way a bee\n",
    "should be able to fly.\n",
    "\n",
    "  \n",
    "Its wings are too small to get\n",
    "its fat little body off the ground.\n",
    "\n",
    "  \n",
    "The bee, of course, flies anyway\"\"\"\n",
    "\n",
    "BeeMovieScript.split()   # Uses whitespace by default (any of space, tab, enter, etc.)"
   ]
  },
  {
   "cell_type": "markdown",
   "metadata": {
    "colab_type": "text",
    "id": "lbNJvxjWWuaC"
   },
   "source": [
    "And of course you can customize the separator!"
   ]
  },
  {
   "cell_type": "code",
   "execution_count": 14,
   "metadata": {
    "colab": {
     "base_uri": "https://localhost:8080/",
     "height": 68
    },
    "colab_type": "code",
    "executionInfo": {
     "elapsed": 311,
     "status": "ok",
     "timestamp": 1534550909186,
     "user": {
      "displayName": "William Hartemink",
      "photoUrl": "https://lh3.googleusercontent.com/a/default-user=s128",
      "userId": "117653304702534641755"
     },
     "user_tz": 240
    },
    "id": "M2ZseAE7Wpi4",
    "outputId": "4e6700ef-bea0-410e-9230-accb479fae39"
   },
   "outputs": [
    {
     "data": {
      "text/plain": [
       "['According to all known laws\\nof aviation,\\n\\n  \\nthere is no way a bee\\nshould be able to fly',\n",
       " '\\n\\n  \\nIts wings are too small to get\\nits fat little body off the ground',\n",
       " '\\n\\n  \\nThe bee, of course, flies anyway']"
      ]
     },
     "execution_count": 14,
     "metadata": {},
     "output_type": "execute_result"
    }
   ],
   "source": [
    "BeeMovieScript.split(sep = '.')"
   ]
  },
  {
   "cell_type": "markdown",
   "metadata": {},
   "source": [
    "### Passing a string into a function\n",
    "\n",
    "Easy as that!"
   ]
  },
  {
   "cell_type": "code",
   "execution_count": 1,
   "metadata": {},
   "outputs": [
    {
     "ename": "NameError",
     "evalue": "name 'BeeMovieScript' is not defined",
     "output_type": "error",
     "traceback": [
      "\u001b[0;31m---------------------------------------------------------------------------\u001b[0m",
      "\u001b[0;31mNameError\u001b[0m                                 Traceback (most recent call last)",
      "\u001b[0;32m<ipython-input-1-9c17e6ada33e>\u001b[0m in \u001b[0;36m<module>\u001b[0;34m()\u001b[0m\n\u001b[0;32m----> 1\u001b[0;31m \u001b[0mprint\u001b[0m\u001b[0;34m(\u001b[0m\u001b[0mBeeMovieScript\u001b[0m\u001b[0;34m)\u001b[0m\u001b[0;34m\u001b[0m\u001b[0m\n\u001b[0m",
      "\u001b[0;31mNameError\u001b[0m: name 'BeeMovieScript' is not defined"
     ]
    }
   ],
   "source": [
    "print(BeeMovieScript)"
   ]
  },
  {
   "cell_type": "markdown",
   "metadata": {
    "colab_type": "text",
    "id": "qwtFcjRTXNC9"
   },
   "source": [
    "### Passing each element of a string into a function\n",
    "That sure is hard to read. Keep in mind that if any function takes multiple arguments, you can pass each _element_ of the list using *"
   ]
  },
  {
   "cell_type": "code",
   "execution_count": 15,
   "metadata": {
    "colab": {
     "base_uri": "https://localhost:8080/",
     "height": 238
    },
    "colab_type": "code",
    "executionInfo": {
     "elapsed": 315,
     "status": "ok",
     "timestamp": 1534550981616,
     "user": {
      "displayName": "William Hartemink",
      "photoUrl": "https://lh3.googleusercontent.com/a/default-user=s128",
      "userId": "117653304702534641755"
     },
     "user_tz": 240
    },
    "id": "I7hyk2LUXUhs",
    "outputId": "adf7da6c-d6f3-4821-b3cb-9c3423ff0f26"
   },
   "outputs": [
    {
     "name": "stdout",
     "output_type": "stream",
     "text": [
      "According to all known laws\n",
      "of aviation,\n",
      "\n",
      "  \n",
      "there is no way a bee\n",
      "should be able to fly-------------------------\n",
      "\n",
      "  \n",
      "Its wings are too small to get\n",
      "its fat little body off the ground-------------------------\n",
      "\n",
      "  \n",
      "The bee, of course, flies anyway\n"
     ]
    }
   ],
   "source": [
    "print(*BeeMovieScript.split(sep = '.'), sep = '-------------------------')"
   ]
  },
  {
   "cell_type": "markdown",
   "metadata": {
    "colab_type": "text",
    "id": "wGyA93OEk_0J"
   },
   "source": [
    "You can also deo the opposite with the str.join(list) method."
   ]
  },
  {
   "cell_type": "code",
   "execution_count": 16,
   "metadata": {
    "colab": {
     "base_uri": "https://localhost:8080/",
     "height": 663
    },
    "colab_type": "code",
    "executionInfo": {
     "elapsed": 316,
     "status": "ok",
     "timestamp": 1534688878370,
     "user": {
      "displayName": "William Hartemink",
      "photoUrl": "https://lh3.googleusercontent.com/a/default-user=s128",
      "userId": "117653304702534641755"
     },
     "user_tz": 240
    },
    "id": "6udm7BU4k-dP",
    "outputId": "24c0ff5f-0d4b-4216-e6b2-f561e003c9ad"
   },
   "outputs": [
    {
     "name": "stdout",
     "output_type": "stream",
     "text": [
      "According??\n",
      "to??\n",
      "all??\n",
      "known??\n",
      "laws??\n",
      "of??\n",
      "aviation,??\n",
      "there??\n",
      "is??\n",
      "no??\n",
      "way??\n",
      "a??\n",
      "bee??\n",
      "should??\n",
      "be??\n",
      "able??\n",
      "to??\n",
      "fly.??\n",
      "Its??\n",
      "wings??\n",
      "are??\n",
      "too??\n",
      "small??\n",
      "to??\n",
      "get??\n",
      "its??\n",
      "fat??\n",
      "little??\n",
      "body??\n",
      "off??\n",
      "the??\n",
      "ground.??\n",
      "The??\n",
      "bee,??\n",
      "of??\n",
      "course,??\n",
      "flies??\n",
      "anyway\n"
     ]
    }
   ],
   "source": [
    "script_list = BeeMovieScript.split()\n",
    "questioningScript = '??\\n'.join(script_list)\n",
    "print(questioningScript)"
   ]
  },
  {
   "cell_type": "markdown",
   "metadata": {
    "colab_type": "text",
    "id": "DNmlk5sKVdM-"
   },
   "source": [
    "## Making a list of integers!\n",
    "\n",
    "And if you want a list of numbers, try using range, which works almost just like indexing the number line!"
   ]
  },
  {
   "cell_type": "code",
   "execution_count": 17,
   "metadata": {
    "colab": {
     "base_uri": "https://localhost:8080/",
     "height": 34
    },
    "colab_type": "code",
    "executionInfo": {
     "elapsed": 349,
     "status": "ok",
     "timestamp": 1534550481155,
     "user": {
      "displayName": "William Hartemink",
      "photoUrl": "https://lh3.googleusercontent.com/a/default-user=s128",
      "userId": "117653304702534641755"
     },
     "user_tz": 240
    },
    "id": "00847SZPVezs",
    "outputId": "b1806a93-4169-43a0-8f1b-9c0eb4bde5f9"
   },
   "outputs": [
    {
     "data": {
      "text/plain": [
       "[0, 1, 2, 3, 4, 5, 6, 7, 8, 9]"
      ]
     },
     "execution_count": 17,
     "metadata": {},
     "output_type": "execute_result"
    }
   ],
   "source": [
    "list(range(0, 10))"
   ]
  },
  {
   "cell_type": "code",
   "execution_count": 18,
   "metadata": {
    "colab": {
     "base_uri": "https://localhost:8080/",
     "height": 34
    },
    "colab_type": "code",
    "executionInfo": {
     "elapsed": 354,
     "status": "ok",
     "timestamp": 1534550500949,
     "user": {
      "displayName": "William Hartemink",
      "photoUrl": "https://lh3.googleusercontent.com/a/default-user=s128",
      "userId": "117653304702534641755"
     },
     "user_tz": 240
    },
    "id": "LtjZZYLYVhdW",
    "outputId": "18d6fe5f-f05b-44e1-cbd2-bcd1d205a080"
   },
   "outputs": [
    {
     "data": {
      "text/plain": [
       "[10, 11, 12, 13, 14, 15, 16, 17, 18, 19, 20, 21, 22, 23, 24]"
      ]
     },
     "execution_count": 18,
     "metadata": {},
     "output_type": "execute_result"
    }
   ],
   "source": [
    "list(range(10,25))"
   ]
  },
  {
   "cell_type": "code",
   "execution_count": 19,
   "metadata": {
    "colab": {
     "base_uri": "https://localhost:8080/",
     "height": 34
    },
    "colab_type": "code",
    "executionInfo": {
     "elapsed": 324,
     "status": "ok",
     "timestamp": 1534550515150,
     "user": {
      "displayName": "William Hartemink",
      "photoUrl": "https://lh3.googleusercontent.com/a/default-user=s128",
      "userId": "117653304702534641755"
     },
     "user_tz": 240
    },
    "id": "BE8z7t-VVinZ",
    "outputId": "e3e4731b-be67-4b3b-a854-0cbfb43774cc"
   },
   "outputs": [
    {
     "data": {
      "text/plain": [
       "[100, 112, 124, 136, 148, 160, 172, 184, 196]"
      ]
     },
     "execution_count": 19,
     "metadata": {},
     "output_type": "execute_result"
    }
   ],
   "source": [
    "list(range(100,200,12))"
   ]
  },
  {
   "cell_type": "code",
   "execution_count": 20,
   "metadata": {
    "colab": {
     "base_uri": "https://localhost:8080/",
     "height": 34
    },
    "colab_type": "code",
    "executionInfo": {
     "elapsed": 350,
     "status": "ok",
     "timestamp": 1534550522756,
     "user": {
      "displayName": "William Hartemink",
      "photoUrl": "https://lh3.googleusercontent.com/a/default-user=s128",
      "userId": "117653304702534641755"
     },
     "user_tz": 240
    },
    "id": "eDpQZO-hVpw-",
    "outputId": "8e67c636-d91c-4dfa-a6d9-9f78464230ab"
   },
   "outputs": [
    {
     "data": {
      "text/plain": [
       "[200, 188, 176, 164, 152, 140, 128, 116, 104]"
      ]
     },
     "execution_count": 20,
     "metadata": {},
     "output_type": "execute_result"
    }
   ],
   "source": [
    "list(range(200,100,-12))"
   ]
  },
  {
   "cell_type": "markdown",
   "metadata": {
    "colab_type": "text",
    "id": "8mah9iAhVtSi"
   },
   "source": [
    "Always repeat to yourself the words, \"Start, stop, step!\""
   ]
  },
  {
   "cell_type": "markdown",
   "metadata": {
    "colab_type": "text",
    "id": "RKyR5T1hYZnw"
   },
   "source": [
    "## Challenges!!!!"
   ]
  },
  {
   "cell_type": "markdown",
   "metadata": {
    "colab_type": "text",
    "id": "e5QxMoBfY62e"
   },
   "source": [
    "Don't worry too much about the code below. articleString is a string that represents the content of the wikipedia article on the United Kingdom. A small piece of it will the printed below\n",
    "\n",
    "Print all the parts of the article that are in quotes. It might be helpful to look at the wikipedia article here:\n",
    "https://en.wikipedia.org/wiki/United_Kingdom\n",
    "\n",
    "Hint: You might want to use the list.split() function"
   ]
  },
  {
   "cell_type": "code",
   "execution_count": 68,
   "metadata": {
    "colab": {
     "base_uri": "https://localhost:8080/",
     "height": 663
    },
    "colab_type": "code",
    "executionInfo": {
     "elapsed": 2641,
     "status": "ok",
     "timestamp": 1534688890124,
     "user": {
      "displayName": "William Hartemink",
      "photoUrl": "https://lh3.googleusercontent.com/a/default-user=s128",
      "userId": "117653304702534641755"
     },
     "user_tz": 240
    },
    "id": "kia9Tw3pVrnT",
    "outputId": "45bfe048-e310-4f71-bbf9-93f79f3d5293"
   },
   "outputs": [
    {
     "name": "stderr",
     "output_type": "stream",
     "text": [
      "/Applications/anaconda3/lib/python3.6/site-packages/bs4/__init__.py:181: UserWarning: No parser was explicitly specified, so I'm using the best available HTML parser for this system (\"lxml\"). This usually isn't a problem, but if you run this code on another system, or in a different virtual environment, it may use a different parser and behave differently.\n",
      "\n",
      "The code that caused this warning is on line 193 of the file /Applications/anaconda3/lib/python3.6/runpy.py. To get rid of this warning, change code that looks like this:\n",
      "\n",
      " BeautifulSoup(YOUR_MARKUP})\n",
      "\n",
      "to this:\n",
      "\n",
      " BeautifulSoup(YOUR_MARKUP, \"lxml\")\n",
      "\n",
      "  markup_type=markup_type))\n"
     ]
    },
    {
     "name": "stdout",
     "output_type": "stream",
     "text": [
      " 9]\n",
      "The United Kingdom of Great Britain and Northern Ireland, commonly known as the United Kingdom (UK)[14] or Britain,[note 10] is a sovereign country lying off the north-western coast of the European mainland. The United Kingdom includes the island of Great Britain, the north-eastern part of the island of Ireland and many smaller islands.[15] Northern Ireland is the only part of the United Kingdom that shares a land border with another sovereign state‍—‌the Republic of Ireland. Apart from this land border, the United Kingdom is surrounded by the Atlantic Ocean, with the North Sea to its east, the English Channel to its south and the Celtic Sea to its south-south-west, giving it the 12th-longest coastline in the world. The Irish Sea lies between Great Britain and Ireland. With an area of 242,500 square kilometres (93,600 sq mi), the United Kingdom is the 78th-largest sovereign state in the world. It is also the 22nd-most populous country, with an estimated 66.0 million inhabitants in 2017.\n",
      "The sovereign state  is a constitutional monarchy with a parliamentary democracy.[16][17] The monarch is Queen Elizabeth II,\n"
     ]
    }
   ],
   "source": [
    "import re\n",
    "import urllib.request\n",
    "from bs4 import BeautifulSoup\n",
    " \n",
    "html = urllib.request.urlopen('https://en.wikipedia.org/wiki/United_Kingdom')\n",
    "soup = BeautifulSoup(html)\n",
    "data = soup.findAll(text=True)\n",
    " \n",
    "def visible(element):\n",
    "    if element.parent.name in ['style', 'script', '[document]', 'head', 'title']:\n",
    "        return False\n",
    "    elif re.match('<!--.*-->', str(element.encode('utf-8'))):\n",
    "        return False\n",
    "    return True\n",
    " \n",
    "result = filter(visible, data)\n",
    " \n",
    "articleString = ''.join(list(result))\n",
    "print(articleString[2870:4000])"
   ]
  },
  {
   "cell_type": "code",
   "execution_count": 52,
   "metadata": {},
   "outputs": [],
   "source": [
    "# Your code Below"
   ]
  },
  {
   "cell_type": "code",
   "execution_count": null,
   "metadata": {},
   "outputs": [],
   "source": []
  },
  {
   "cell_type": "code",
   "execution_count": null,
   "metadata": {},
   "outputs": [],
   "source": []
  },
  {
   "cell_type": "code",
   "execution_count": null,
   "metadata": {},
   "outputs": [],
   "source": []
  },
  {
   "cell_type": "code",
   "execution_count": null,
   "metadata": {},
   "outputs": [],
   "source": []
  },
  {
   "cell_type": "code",
   "execution_count": null,
   "metadata": {},
   "outputs": [],
   "source": []
  },
  {
   "cell_type": "code",
   "execution_count": null,
   "metadata": {},
   "outputs": [],
   "source": []
  },
  {
   "cell_type": "markdown",
   "metadata": {
    "colab_type": "text",
    "id": "6jl8n3kdlzpB"
   },
   "source": [
    "Answer:"
   ]
  },
  {
   "cell_type": "code",
   "execution_count": 23,
   "metadata": {
    "colab": {
     "base_uri": "https://localhost:8080/",
     "height": 9438
    },
    "colab_type": "code",
    "executionInfo": {
     "elapsed": 338,
     "status": "ok",
     "timestamp": 1534688943206,
     "user": {
      "displayName": "William Hartemink",
      "photoUrl": "https://lh3.googleusercontent.com/a/default-user=s128",
      "userId": "117653304702534641755"
     },
     "user_tz": 240
    },
    "id": "-IVMDHo_Z3W3",
    "outputId": "9afe4ea6-a13b-4360-affb-433fc646592f"
   },
   "outputs": [
    {
     "name": "stdout",
     "output_type": "stream",
     "text": [
      "UK\n",
      "UK\n",
      "United Kingdom\n",
      "God Save the Queen\n",
      "very high\n",
      "United into One Kingdom by the Name of Great Britain\n",
      "Kingdom of Great Britain\n",
      "United Kingdom of Great Britain\n",
      "One Kingdom\n",
      "United Kingdom\n"
     ]
    }
   ],
   "source": [
    "print(*articleString.split(sep = '\"')[1:-1:2], sep = '\\n')"
   ]
  },
  {
   "cell_type": "markdown",
   "metadata": {
    "colab_type": "text",
    "id": "KF-hEP8xmReY"
   },
   "source": [
    "\n",
    "\n",
    "# ------------------------------------------------------------------------\n",
    "# New Section!\n",
    "# ------------------------------------------------------------------------\n",
    "\n",
    "\n",
    "# Dictionaries\n",
    "\n",
    "Dictionaries are another form of collection. The dictionary takes some \"key\" and outputs a \"value\". Simple!"
   ]
  },
  {
   "cell_type": "code",
   "execution_count": null,
   "metadata": {
    "colab": {},
    "colab_type": "code",
    "id": "yLITuSBfZ57c"
   },
   "outputs": [],
   "source": [
    "dictionary = {\n",
    "    'a' : 'A',        # 'a' is a key, 'A' is a value\n",
    "    'b' : 'B'\n",
    "}"
   ]
  },
  {
   "cell_type": "code",
   "execution_count": null,
   "metadata": {
    "colab": {},
    "colab_type": "code",
    "id": "-tS-f66kZ7UF"
   },
   "outputs": [],
   "source": [
    "dictionary['b']"
   ]
  },
  {
   "cell_type": "markdown",
   "metadata": {
    "colab_type": "text",
    "id": "taIJoBvfn7i6"
   },
   "source": [
    "You can use them to keep similar variables together"
   ]
  },
  {
   "cell_type": "code",
   "execution_count": 70,
   "metadata": {
    "colab": {},
    "colab_type": "code",
    "id": "EKX3pklWoDMN"
   },
   "outputs": [],
   "source": [
    "headsOfHouses = {\n",
    "  \"All Souls\": \"Warden John Vickers\",\n",
    "  \"Balliol\": \"Master Helen Ghosh\",\n",
    "  \"Brasenose\": \"Principal John Bowers\",\n",
    "  \"Christ Church\": \"Dean Martyn Percy\",\n",
    "  \"Corpus Christi\": \"President Steven Cowley\",\n",
    "  \"Exeter\": \"Rector Rick Trainor\",\n",
    "  \"Green Templeton\": \"Principal Denise Lievesley\",\n",
    "  \"Harris Manchester\": \"Principal Ralph Waller\",\n",
    "  \"Hertford\": \"Principal Will Hutton\",\n",
    "  \"Jesus College\": \"Principal Nigel Shadbolt\",\n",
    "  \"Keble\": \"Warden Jonathan Phillips\",\n",
    "  \"Kellogg\": \"President Jonathan Michie\",\n",
    "  \"Lady Margaret Hall\": \"Principal Alan Rusbridger\",\n",
    "  \"Linacre\": \"Principal Nick Brown\",\n",
    "  \"Lincoln\": \"Rector Henry Woudhuysen\",\n",
    "  \"Magdalen\": \"President David Clary\",\n",
    "  \"Mansfield\": \"Principal Helena Kennedy, Baroness Kennedy of The Shaws\",\n",
    "  \"Merton\": \"Warden Martin J. Taylor\",\n",
    "  \"New College\": \"Warden Miles Young\",\n",
    "  \"Nuffield\": \"Warden Andrew Dilnot\",\n",
    "  \"Oriel\": \"Provost Moira Wallace\",\n",
    "  \"Pembroke\": \"Master Lynne Brindley\",\n",
    "  \"Queen's\": \"Provost Paul Madden\",\n",
    "  \"St Anne's\": \"Principal Helen King\",\n",
    "  \"St Antony's\": \"Warden Roger Goodman\",\n",
    "  \"St Catherine's\": \"Master Roger Ainsworth\",\n",
    "  \"St Cross\": \"Master Carole Souter\",\n",
    "  \"St Edmund Hall\": \"Principal Keith Gull\",\n",
    "  \"St Hilda's\": \"Principal Gordon Duff\",\n",
    "  \"St Hugh's\": \"Principal Elish Angiolini\",\n",
    "  \"St John's\": \"President Margaret Snowling\",\n",
    "  \"St Peter's\": \"Master Mark Damazer\",\n",
    "  \"Somerville\": \"Principal Janet Royall, Baroness Royall of Blaisdon\",\n",
    "  \"Trinity\": \"President Hilary Boulding\",\n",
    "  \"University\": \"Master Ivor Crewe\",\n",
    "  \"Wadham\": \"Warden Ken Macdonald, Lord Macdonald of River Glaven\",\n",
    "  \"Wolfson\": \"President Tim Hitchens\",\n",
    "  \"Worcester\": \"Provost Sir Jonathan Bate\"\n",
    "}"
   ]
  },
  {
   "cell_type": "code",
   "execution_count": 71,
   "metadata": {
    "colab": {},
    "colab_type": "code",
    "id": "CZCNK7fKol-6"
   },
   "outputs": [
    {
     "name": "stdout",
     "output_type": "stream",
     "text": [
      "dict_keys(['All Souls', 'Balliol', 'Brasenose', 'Christ Church', 'Corpus Christi', 'Exeter', 'Green Templeton', 'Harris Manchester', 'Hertford', 'Jesus College', 'Keble', 'Kellogg', 'Lady Margaret Hall', 'Linacre', 'Lincoln', 'Magdalen', 'Mansfield', 'Merton', 'New College', 'Nuffield', 'Oriel', 'Pembroke', \"Queen's\", \"St Anne's\", \"St Antony's\", \"St Catherine's\", 'St Cross', 'St Edmund Hall', \"St Hilda's\", \"St Hugh's\", \"St John's\", \"St Peter's\", 'Somerville', 'Trinity', 'University', 'Wadham', 'Wolfson', 'Worcester'])\n"
     ]
    }
   ],
   "source": [
    "# Lookup your college with headsOfHouses !\n",
    "print(headsOfHouses.keys())"
   ]
  },
  {
   "cell_type": "code",
   "execution_count": 72,
   "metadata": {},
   "outputs": [
    {
     "ename": "KeyError",
     "evalue": "''",
     "output_type": "error",
     "traceback": [
      "\u001b[0;31m---------------------------------------------------------------------------\u001b[0m",
      "\u001b[0;31mKeyError\u001b[0m                                  Traceback (most recent call last)",
      "\u001b[0;32m<ipython-input-72-bbabd34aa50d>\u001b[0m in \u001b[0;36m<module>\u001b[0;34m()\u001b[0m\n\u001b[1;32m      1\u001b[0m \u001b[0mcollegeName\u001b[0m \u001b[0;34m=\u001b[0m \u001b[0;34m\"\"\u001b[0m \u001b[0;31m# Enter your college here!\u001b[0m\u001b[0;34m\u001b[0m\u001b[0m\n\u001b[0;32m----> 2\u001b[0;31m \u001b[0mheadsOfHouses\u001b[0m\u001b[0;34m[\u001b[0m\u001b[0mcollegeName\u001b[0m\u001b[0;34m]\u001b[0m\u001b[0;34m\u001b[0m\u001b[0m\n\u001b[0m",
      "\u001b[0;31mKeyError\u001b[0m: ''"
     ]
    }
   ],
   "source": [
    "collegeName = \"\" # Enter your college here!\n",
    "headsOfHouses[collegeName]"
   ]
  },
  {
   "cell_type": "markdown",
   "metadata": {
    "colab_type": "text",
    "id": "7VYrdqzdr8vd"
   },
   "source": [
    "Keep in mind that dictionaries can only have one \"value\" for every \"key\"\n",
    "\n",
    "This is allowed!!<img src = \"./Image1.png\">\n",
    "\n",
    "This is not!!<img src = \"./Image2.png\">"
   ]
  },
  {
   "cell_type": "markdown",
   "metadata": {
    "colab": {},
    "colab_type": "code",
    "id": "n4mUnMQ2o4Nd"
   },
   "source": [
    "where _X_ represents the keys and _Y_ represents the values"
   ]
  },
  {
   "cell_type": "markdown",
   "metadata": {
    "colab": {
     "base_uri": "https://localhost:8080/",
     "height": 34
    },
    "colab_type": "code",
    "executionInfo": {
     "elapsed": 363,
     "status": "ok",
     "timestamp": 1534689892433,
     "user": {
      "displayName": "William Hartemink",
      "photoUrl": "https://lh3.googleusercontent.com/a/default-user=s128",
      "userId": "117653304702534641755"
     },
     "user_tz": 240
    },
    "id": "HP_Oxuk6pUt1",
    "outputId": "aee4b3f4-d380-4ea5-9174-b3c694dec0dd"
   },
   "source": [
    "### Dictionaries are not ordered\n",
    "\n",
    "You should also note that unlike lists, dictionaries are not ordered, so you can't index them with integers or slice them"
   ]
  },
  {
   "cell_type": "code",
   "execution_count": 73,
   "metadata": {
    "colab": {},
    "colab_type": "code",
    "id": "bMH6RfMfpVaB"
   },
   "outputs": [
    {
     "ename": "KeyError",
     "evalue": "1",
     "output_type": "error",
     "traceback": [
      "\u001b[0;31m---------------------------------------------------------------------------\u001b[0m",
      "\u001b[0;31mKeyError\u001b[0m                                  Traceback (most recent call last)",
      "\u001b[0;32m<ipython-input-73-1694219e75ff>\u001b[0m in \u001b[0;36m<module>\u001b[0;34m()\u001b[0m\n\u001b[0;32m----> 1\u001b[0;31m \u001b[0mheadsOfHouses\u001b[0m\u001b[0;34m[\u001b[0m\u001b[0;36m1\u001b[0m\u001b[0;34m]\u001b[0m\u001b[0;34m\u001b[0m\u001b[0m\n\u001b[0m",
      "\u001b[0;31mKeyError\u001b[0m: 1"
     ]
    }
   ],
   "source": [
    "headsOfHouses[1]"
   ]
  },
  {
   "cell_type": "code",
   "execution_count": 74,
   "metadata": {
    "colab": {
     "base_uri": "https://localhost:8080/",
     "height": 34
    },
    "colab_type": "code",
    "executionInfo": {
     "elapsed": 527,
     "status": "ok",
     "timestamp": 1534690793875,
     "user": {
      "displayName": "William Hartemink",
      "photoUrl": "https://lh3.googleusercontent.com/a/default-user=s128",
      "userId": "117653304702534641755"
     },
     "user_tz": 240
    },
    "id": "WNRbFjnWpXiz",
    "outputId": "b19bb9f2-f72f-4371-9bc3-69cdde2ef3c9"
   },
   "outputs": [
    {
     "ename": "TypeError",
     "evalue": "unhashable type: 'slice'",
     "output_type": "error",
     "traceback": [
      "\u001b[0;31m---------------------------------------------------------------------------\u001b[0m",
      "\u001b[0;31mTypeError\u001b[0m                                 Traceback (most recent call last)",
      "\u001b[0;32m<ipython-input-74-34d5e7872bc5>\u001b[0m in \u001b[0;36m<module>\u001b[0;34m()\u001b[0m\n\u001b[0;32m----> 1\u001b[0;31m \u001b[0mheadsOfHouses\u001b[0m\u001b[0;34m[\u001b[0m\u001b[0;34m\"Oriel\"\u001b[0m\u001b[0;34m:\u001b[0m\u001b[0;34m\"Wadham\"\u001b[0m\u001b[0;34m]\u001b[0m\u001b[0;34m\u001b[0m\u001b[0m\n\u001b[0m",
      "\u001b[0;31mTypeError\u001b[0m: unhashable type: 'slice'"
     ]
    }
   ],
   "source": [
    "headsOfHouses[\"Oriel\":\"Wadham\"]"
   ]
  },
  {
   "cell_type": "code",
   "execution_count": 75,
   "metadata": {},
   "outputs": [
    {
     "data": {
      "text/plain": [
       "dict_keys(['All Souls', 'Balliol', 'Brasenose', 'Christ Church', 'Corpus Christi', 'Exeter', 'Green Templeton', 'Harris Manchester', 'Hertford', 'Jesus College', 'Keble', 'Kellogg', 'Lady Margaret Hall', 'Linacre', 'Lincoln', 'Magdalen', 'Mansfield', 'Merton', 'New College', 'Nuffield', 'Oriel', 'Pembroke', \"Queen's\", \"St Anne's\", \"St Antony's\", \"St Catherine's\", 'St Cross', 'St Edmund Hall', \"St Hilda's\", \"St Hugh's\", \"St John's\", \"St Peter's\", 'Somerville', 'Trinity', 'University', 'Wadham', 'Wolfson', 'Worcester'])"
      ]
     },
     "execution_count": 75,
     "metadata": {},
     "output_type": "execute_result"
    }
   ],
   "source": [
    "headsOfHouses.keys()"
   ]
  },
  {
   "cell_type": "code",
   "execution_count": 76,
   "metadata": {},
   "outputs": [
    {
     "data": {
      "text/plain": [
       "dict_values(['Warden John Vickers', 'Master Helen Ghosh', 'Principal John Bowers', 'Dean Martyn Percy', 'President Steven Cowley', 'Rector Rick Trainor', 'Principal Denise Lievesley', 'Principal Ralph Waller', 'Principal Will Hutton', 'Principal Nigel Shadbolt', 'Warden Jonathan Phillips', 'President Jonathan Michie', 'Principal Alan Rusbridger', 'Principal Nick Brown', 'Rector Henry Woudhuysen', 'President David Clary', 'Principal Helena Kennedy, Baroness Kennedy of The Shaws', 'Warden Martin J. Taylor', 'Warden Miles Young', 'Warden Andrew Dilnot', 'Provost Moira Wallace', 'Master Lynne Brindley', 'Provost Paul Madden', 'Principal Helen King', 'Warden Roger Goodman', 'Master Roger Ainsworth', 'Master Carole Souter', 'Principal Keith Gull', 'Principal Gordon Duff', 'Principal Elish Angiolini', 'President Margaret Snowling', 'Master Mark Damazer', 'Principal Janet Royall, Baroness Royall of Blaisdon', 'President Hilary Boulding', 'Master Ivor Crewe', 'Warden Ken Macdonald, Lord Macdonald of River Glaven', 'President Tim Hitchens', 'Provost Sir Jonathan Bate'])"
      ]
     },
     "execution_count": 76,
     "metadata": {},
     "output_type": "execute_result"
    }
   ],
   "source": [
    "headsOfHouses.values()"
   ]
  },
  {
   "cell_type": "markdown",
   "metadata": {
    "colab": {},
    "colab_type": "code",
    "id": "aRMgW47FpcOE"
   },
   "source": [
    "### Setting items\n",
    "\n",
    "Once we have made a dictionary, we can set elements in the dictionary to particular values.\n",
    "\n",
    "\n",
    "Say a college was created with its own head of house:"
   ]
  },
  {
   "cell_type": "code",
   "execution_count": 77,
   "metadata": {},
   "outputs": [],
   "source": [
    "headsOfHouses['Created College'] = \"Sir Can'tComeUpWithANameRightNow\""
   ]
  },
  {
   "cell_type": "code",
   "execution_count": 78,
   "metadata": {},
   "outputs": [
    {
     "data": {
      "text/plain": [
       "dict_keys(['All Souls', 'Balliol', 'Brasenose', 'Christ Church', 'Corpus Christi', 'Exeter', 'Green Templeton', 'Harris Manchester', 'Hertford', 'Jesus College', 'Keble', 'Kellogg', 'Lady Margaret Hall', 'Linacre', 'Lincoln', 'Magdalen', 'Mansfield', 'Merton', 'New College', 'Nuffield', 'Oriel', 'Pembroke', \"Queen's\", \"St Anne's\", \"St Antony's\", \"St Catherine's\", 'St Cross', 'St Edmund Hall', \"St Hilda's\", \"St Hugh's\", \"St John's\", \"St Peter's\", 'Somerville', 'Trinity', 'University', 'Wadham', 'Wolfson', 'Worcester', 'Created College'])"
      ]
     },
     "execution_count": 78,
     "metadata": {},
     "output_type": "execute_result"
    }
   ],
   "source": [
    "headsOfHouses.keys()"
   ]
  },
  {
   "cell_type": "code",
   "execution_count": 79,
   "metadata": {},
   "outputs": [
    {
     "data": {
      "text/plain": [
       "\"Sir Can'tComeUpWithANameRightNow\""
      ]
     },
     "execution_count": 79,
     "metadata": {},
     "output_type": "execute_result"
    }
   ],
   "source": [
    "headsOfHouses['Created College']"
   ]
  },
  {
   "cell_type": "markdown",
   "metadata": {},
   "source": [
    "We can also overrwite the name given to the Head of House"
   ]
  },
  {
   "cell_type": "code",
   "execution_count": 80,
   "metadata": {},
   "outputs": [],
   "source": [
    "headsOfHouses['Created College'] = 'NewName'"
   ]
  },
  {
   "cell_type": "markdown",
   "metadata": {},
   "source": [
    "Remember, the dictionary cannot store two values for a key! It simply overrwites the existing value.\n",
    "\n",
    "In this case, \"Sir Can'tComeUpWithANameRightNow\" will not appear in the set of headsOfHouses:"
   ]
  },
  {
   "cell_type": "code",
   "execution_count": 81,
   "metadata": {},
   "outputs": [
    {
     "data": {
      "text/plain": [
       "dict_values(['Warden John Vickers', 'Master Helen Ghosh', 'Principal John Bowers', 'Dean Martyn Percy', 'President Steven Cowley', 'Rector Rick Trainor', 'Principal Denise Lievesley', 'Principal Ralph Waller', 'Principal Will Hutton', 'Principal Nigel Shadbolt', 'Warden Jonathan Phillips', 'President Jonathan Michie', 'Principal Alan Rusbridger', 'Principal Nick Brown', 'Rector Henry Woudhuysen', 'President David Clary', 'Principal Helena Kennedy, Baroness Kennedy of The Shaws', 'Warden Martin J. Taylor', 'Warden Miles Young', 'Warden Andrew Dilnot', 'Provost Moira Wallace', 'Master Lynne Brindley', 'Provost Paul Madden', 'Principal Helen King', 'Warden Roger Goodman', 'Master Roger Ainsworth', 'Master Carole Souter', 'Principal Keith Gull', 'Principal Gordon Duff', 'Principal Elish Angiolini', 'President Margaret Snowling', 'Master Mark Damazer', 'Principal Janet Royall, Baroness Royall of Blaisdon', 'President Hilary Boulding', 'Master Ivor Crewe', 'Warden Ken Macdonald, Lord Macdonald of River Glaven', 'President Tim Hitchens', 'Provost Sir Jonathan Bate', 'NewName'])"
      ]
     },
     "execution_count": 81,
     "metadata": {},
     "output_type": "execute_result"
    }
   ],
   "source": [
    "headsOfHouses.values()"
   ]
  },
  {
   "cell_type": "markdown",
   "metadata": {},
   "source": [
    "we can also pass a dictionary into a function by using two stars:"
   ]
  },
  {
   "cell_type": "code",
   "execution_count": 10,
   "metadata": {},
   "outputs": [],
   "source": [
    "insertions = {\n",
    "    \"Name\" : \"William Hartemink\",\n",
    "    \"College\" : \"Exeter College\",\n",
    "    \"Society\" : \"CodeSoc\"\n",
    "    \"\"\n",
    "}\n",
    "\n",
    "template = \"\"\"Hi {Name},\n",
    "\n",
    "Blah Blah formalities.\n",
    "\n",
    "I was wondering if {Society} were interested in co-hosting a hack-a-thon on AI Safety this term. \n",
    "\n",
    "We are currently looking for a venue and thought maybe you'd be able to book one in {College}?\n",
    "\n",
    "Blah Blah formalities.\n",
    "\n",
    "Regards,\n",
    "MyName\n",
    "\n",
    "My Society\n",
    "\"\"\""
   ]
  },
  {
   "cell_type": "code",
   "execution_count": 11,
   "metadata": {},
   "outputs": [
    {
     "name": "stdout",
     "output_type": "stream",
     "text": [
      "Hi {Name},\n",
      "\n",
      "Blah Blah formalities.\n",
      "\n",
      "I was wondering if {Society} were interested in co-hosting a hack-a-thon on AI Safety this term. \n",
      "\n",
      "We are currently looking for a venue and thought maybe you'd be able to book one in {College}?\n",
      "\n",
      "Blah Blah formalities.\n",
      "\n",
      "Regards,\n",
      "MyName\n",
      "\n",
      "My Society\n",
      "\n"
     ]
    }
   ],
   "source": [
    "print(template)"
   ]
  },
  {
   "cell_type": "code",
   "execution_count": 12,
   "metadata": {},
   "outputs": [
    {
     "name": "stdout",
     "output_type": "stream",
     "text": [
      "Hi William Hartemink,\n",
      "\n",
      "Blah Blah formalities.\n",
      "\n",
      "I was wondering if CodeSoc were interested in co-hosting a hack-a-thon on AI Safety this term. \n",
      "\n",
      "We are currently looking for a venue and thought maybe you'd be able to book one in Exeter College?\n",
      "\n",
      "Blah Blah formalities.\n",
      "\n",
      "Regards,\n",
      "MyName\n",
      "\n",
      "My Society\n",
      "\n"
     ]
    }
   ],
   "source": [
    "print(template.format(**insertions))"
   ]
  },
  {
   "cell_type": "markdown",
   "metadata": {},
   "source": [
    "# Sounds like you might be able to use this feature to write customized emails to a large group of people... 🤔🤔🤔"
   ]
  },
  {
   "cell_type": "code",
   "execution_count": null,
   "metadata": {},
   "outputs": [],
   "source": []
  }
 ],
 "metadata": {
  "colab": {
   "collapsed_sections": [],
   "name": "Week 2 Quarter 1.ipynb",
   "provenance": [],
   "version": "0.3.2"
  },
  "kernelspec": {
   "display_name": "Python 3",
   "language": "python",
   "name": "python3"
  },
  "language_info": {
   "codemirror_mode": {
    "name": "ipython",
    "version": 3
   },
   "file_extension": ".py",
   "mimetype": "text/x-python",
   "name": "python",
   "nbconvert_exporter": "python",
   "pygments_lexer": "ipython3",
   "version": "3.6.5"
  }
 },
 "nbformat": 4,
 "nbformat_minor": 1
}
