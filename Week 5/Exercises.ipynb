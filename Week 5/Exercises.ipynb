{
 "cells": [
  {
   "cell_type": "markdown",
   "metadata": {},
   "source": [
    "Fill out the quiz below!"
   ]
  },
  {
   "cell_type": "code",
   "execution_count": null,
   "metadata": {},
   "outputs": [],
   "source": [
    "import webbrowser\n",
    "webbrowser.open(\"https://oxfordsaid.eu.qualtrics.com/jfe/form/SV_4ZNhFyZbaShWdcp\")"
   ]
  },
  {
   "cell_type": "markdown",
   "metadata": {},
   "source": [
    "Define a function called codesoc that prints 'Codesoc'!"
   ]
  },
  {
   "cell_type": "code",
   "execution_count": 1,
   "metadata": {},
   "outputs": [],
   "source": [
    "#Write your code below:\n",
    "\n",
    "def printCodeSoc():\n",
    "    print(\"Codesoc\")\n"
   ]
  },
  {
   "cell_type": "markdown",
   "metadata": {},
   "source": [
    "Write a function called codesoc that returns 'Codesoc'"
   ]
  },
  {
   "cell_type": "code",
   "execution_count": 2,
   "metadata": {},
   "outputs": [],
   "source": [
    "#Write your code below:\n",
    "\n",
    "def returnCodeSoc():\n",
    "    return \"Codesoc\""
   ]
  },
  {
   "cell_type": "markdown",
   "metadata": {},
   "source": [
    "Write a function called name that takes a [string] as an input and returns 'Hello, [string]'"
   ]
  },
  {
   "cell_type": "code",
   "execution_count": 3,
   "metadata": {},
   "outputs": [],
   "source": [
    "#Write your code below:\n",
    "\n",
    "def hello(string):\n",
    "    print(\"Hello, \" + string)"
   ]
  },
  {
   "cell_type": "markdown",
   "metadata": {},
   "source": [
    "Write a function that takes two numbers a,b as input and returns a\\*\\*b - b\\*\\*a "
   ]
  },
  {
   "cell_type": "code",
   "execution_count": 4,
   "metadata": {
    "collapsed": true
   },
   "outputs": [],
   "source": [
    "#Write your code below:\n",
    "def diffOfPowers(a, b):\n",
    "    return a**b - b**a"
   ]
  },
  {
   "cell_type": "markdown",
   "metadata": {},
   "source": [
    "Write a function that takes input a string and returns 'vowel' if the first character of the string is a vowel an 'not a fowel' otherwise"
   ]
  },
  {
   "cell_type": "code",
   "execution_count": 4,
   "metadata": {},
   "outputs": [],
   "source": [
    "#Write your code below:\n",
    "\n",
    "def firstLetterIsVowel(string):\n",
    "    if string[0].lower() in ['a', 'e', 'i', 'o', 'u']:\n",
    "        return 'vowel'\n",
    "    else:\n",
    "        return 'not a fowel'"
   ]
  },
  {
   "cell_type": "markdown",
   "metadata": {},
   "source": [
    "Write a function that takes two lists as its input and returns their intersection. For example intersection([1,2,3],[3,4,5]) should return 3"
   ]
  },
  {
   "cell_type": "code",
   "execution_count": 6,
   "metadata": {},
   "outputs": [
    {
     "data": {
      "text/plain": [
       "[3]"
      ]
     },
     "execution_count": 6,
     "metadata": {},
     "output_type": "execute_result"
    }
   ],
   "source": [
    "def intersection(listA, listB):\n",
    "    resultList = []\n",
    "    for element in listA:\n",
    "        if element in listB:\n",
    "            resultList.append(element)\n",
    "    return resultList\n",
    "\n",
    "intersection([1,2,3], [3,4,5])"
   ]
  },
  {
   "cell_type": "markdown",
   "metadata": {},
   "source": [
    "Test your code on the arrays a,b below"
   ]
  },
  {
   "cell_type": "code",
   "execution_count": 7,
   "metadata": {},
   "outputs": [
    {
     "data": {
      "text/plain": [
       "[3, 5, 7, 11]"
      ]
     },
     "execution_count": 7,
     "metadata": {},
     "output_type": "execute_result"
    }
   ],
   "source": [
    "a = [2,3,5,7,11,13]\n",
    "b = [1,3,5,7,9,11]\n",
    "#Write your code below:\n",
    "\n",
    "intersection(a, b)\n",
    "\n"
   ]
  },
  {
   "cell_type": "markdown",
   "metadata": {},
   "source": [
    "Write a function that takes in two strings and returns wether or not they're anagrams of each other for example 'anagram' and 'nag a ram' are anagrams because they use the same combination of letters the same number of times"
   ]
  },
  {
   "cell_type": "code",
   "execution_count": 17,
   "metadata": {},
   "outputs": [
    {
     "data": {
      "text/plain": [
       "True"
      ]
     },
     "execution_count": 17,
     "metadata": {},
     "output_type": "execute_result"
    }
   ],
   "source": [
    "#Write your code below:\n",
    "\n",
    "def areAnagrams(string1, string2):\n",
    "    return sorted(string1) == sorted(string2)\n",
    "\n",
    "def getCounts(string):\n",
    "    counts = {}\n",
    "    for char in string:\n",
    "        counts[char] = 0\n",
    "    for char in string:\n",
    "        counts[char] += 1\n",
    "    return counts\n",
    "\n",
    "def areAnagrams(string1, string2):\n",
    "    string1 = string1.replace(' ', '')\n",
    "    string2 = string2.replace(' ', '')\n",
    "    \n",
    "    counts1 = getCounts(string1)\n",
    "    counts2 = getCounts(string2)\n",
    "    return counts1 == counts2\n",
    "\n",
    "areAnagrams(\"anagram\", \"nag a ram\")"
   ]
  },
  {
   "cell_type": "markdown",
   "metadata": {},
   "source": [
    "Write a function that takes input a list and some other element and returns a list of all the indices of that element in the list. For example if the input is [1,2,1,3,4,1], 1 then the output should be[0,2,5]. If the input is [1,2,1,3,4,1],5 then the output should be []"
   ]
  },
  {
   "cell_type": "code",
   "execution_count": 10,
   "metadata": {
    "collapsed": true
   },
   "outputs": [],
   "source": [
    "#Write your code below:\n",
    "\n",
    "\n"
   ]
  },
  {
   "cell_type": "code",
   "execution_count": null,
   "metadata": {
    "collapsed": true
   },
   "outputs": [],
   "source": []
  }
 ],
 "metadata": {
  "kernelspec": {
   "display_name": "Python 3",
   "language": "python",
   "name": "python3"
  },
  "language_info": {
   "codemirror_mode": {
    "name": "ipython",
    "version": 3
   },
   "file_extension": ".py",
   "mimetype": "text/x-python",
   "name": "python",
   "nbconvert_exporter": "python",
   "pygments_lexer": "ipython3",
   "version": "3.6.5"
  }
 },
 "nbformat": 4,
 "nbformat_minor": 1
}
