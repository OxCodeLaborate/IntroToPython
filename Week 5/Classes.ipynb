{
 "cells": [
  {
   "cell_type": "markdown",
   "metadata": {},
   "source": [
    "# Classes\n",
    "\n",
    "Classes are templates for creating objects. The ```list()``` function, for instance, is a class. ```[2, 4, 5]``` is an object, because it's one specific list.\n",
    "\n",
    "By learning to build classes, we can make our very own datatypes, and keep our code organized.\n"
   ]
  },
  {
   "cell_type": "markdown",
   "metadata": {},
   "source": [
    "Let's try to build a deck of cards. Try building a ```Card``` class for a standard deck of cards. \n",
    "\n",
    "Reference: https://en.wikipedia.org/wiki/Standard_52-card_deck"
   ]
  },
  {
   "cell_type": "code",
   "execution_count": 2,
   "metadata": {},
   "outputs": [],
   "source": [
    "class Card(object):\n",
    "    def __init__(self, suit, value):\n",
    "        pass"
   ]
  },
  {
   "cell_type": "markdown",
   "metadata": {},
   "source": [
    "As it stands right now, if we try to see what the card looks like, we don't see much:"
   ]
  },
  {
   "cell_type": "code",
   "execution_count": 3,
   "metadata": {},
   "outputs": [
    {
     "ename": "SyntaxError",
     "evalue": "invalid syntax (<ipython-input-3-c93bb633c919>, line 1)",
     "output_type": "error",
     "traceback": [
      "\u001b[0;36m  File \u001b[0;32m\"<ipython-input-3-c93bb633c919>\"\u001b[0;36m, line \u001b[0;32m1\u001b[0m\n\u001b[0;31m    suit = # put something here\u001b[0m\n\u001b[0m                               ^\u001b[0m\n\u001b[0;31mSyntaxError\u001b[0m\u001b[0;31m:\u001b[0m invalid syntax\n"
     ]
    }
   ],
   "source": [
    "suit = # put something here\n",
    "value = # put something here\n",
    "\n",
    "x = Card(suit, value)\n",
    "x"
   ]
  },
  {
   "cell_type": "code",
   "execution_count": 4,
   "metadata": {},
   "outputs": [
    {
     "ename": "NameError",
     "evalue": "name 'x' is not defined",
     "output_type": "error",
     "traceback": [
      "\u001b[0;31m---------------------------------------------------------------------------\u001b[0m",
      "\u001b[0;31mNameError\u001b[0m                                 Traceback (most recent call last)",
      "\u001b[0;32m<ipython-input-4-fc17d851ef81>\u001b[0m in \u001b[0;36m<module>\u001b[0;34m()\u001b[0m\n\u001b[0;32m----> 1\u001b[0;31m \u001b[0mprint\u001b[0m\u001b[0;34m(\u001b[0m\u001b[0mx\u001b[0m\u001b[0;34m)\u001b[0m\u001b[0;34m\u001b[0m\u001b[0m\n\u001b[0m",
      "\u001b[0;31mNameError\u001b[0m: name 'x' is not defined"
     ]
    }
   ],
   "source": [
    "print(x)"
   ]
  },
  {
   "cell_type": "markdown",
   "metadata": {},
   "source": [
    "all you should see is something like: ```<__main__.Card at 0x105f6fcc0>```"
   ]
  },
  {
   "cell_type": "markdown",
   "metadata": {},
   "source": [
    "# Adding Methods\n",
    "\n",
    "Let's try adding methods that allow us to see our card. Let's start with the following:\n",
    "    \n",
    "    __repr__\n",
    "    \n",
    "\n",
    "```__repr__``` will change the output of\n",
    "\n",
    "    card = Card()\n",
    "    card\n",
    "    \n",
    "It also allows you to convert a ```card``` object into a string and print it!\n",
    "\n",
    "Below is my implementation of a card, that I'll ask you to continue with!"
   ]
  },
  {
   "cell_type": "code",
   "execution_count": 5,
   "metadata": {},
   "outputs": [],
   "source": [
    "class Card(object):\n",
    "    SUITS = ['Clubs, Diamonds, Hearts, Spades']\n",
    "    VALUES = ['Ace', '2', '3', '4', '5', '6', '7', '8', '9', '10', 'Jack', 'Queen', 'King']\n",
    "\n",
    "    def __init__(self, suit_number, value_number):\n",
    "        self.suit = suit_number\n",
    "        self.value = value_number\n",
    "    "
   ]
  },
  {
   "cell_type": "markdown",
   "metadata": {},
   "source": [
    "```Card.__repr__``` should return a string that you would like to represent your card. Please try the above before having a look at the solution below."
   ]
  },
  {
   "cell_type": "code",
   "execution_count": null,
   "metadata": {},
   "outputs": [],
   "source": []
  },
  {
   "cell_type": "markdown",
   "metadata": {},
   "source": [
    "P l e a s e  \n",
    "\n",
    "t r y  \n",
    "\n",
    "t h e  \n",
    "\n",
    "a b o v e\n",
    "\n",
    "b e f o r e\n",
    "\n",
    "s c r o l l i n g\n",
    "\n",
    "d o w n"
   ]
  },
  {
   "cell_type": "markdown",
   "metadata": {},
   "source": [
    "Here's one way you could implement the Card class with the ```self.__repr__()``` method"
   ]
  },
  {
   "cell_type": "code",
   "execution_count": 6,
   "metadata": {},
   "outputs": [],
   "source": [
    "class Card(object):\n",
    "    SUITS = ['Clubs', 'Diamonds', 'Hearts', 'Spades']\n",
    "    VALUES = ['Ace', '2', '3', '4', '5', '6', '7', '8', '9', '10', 'Jack', 'Queen', 'King']\n",
    "\n",
    "    def __init__(self, suit_number, value_number):\n",
    "        self.suit = suit_number\n",
    "        self.value = value_number\n",
    "    def __repr__(self):\n",
    "        return self.VALUES[self.value] + \" of \" + self.SUITS[self.suit]"
   ]
  },
  {
   "cell_type": "code",
   "execution_count": 7,
   "metadata": {},
   "outputs": [
    {
     "data": {
      "text/plain": [
       "Jack of Spades"
      ]
     },
     "execution_count": 7,
     "metadata": {},
     "output_type": "execute_result"
    }
   ],
   "source": [
    "Card(3,10)"
   ]
  },
  {
   "cell_type": "code",
   "execution_count": 10,
   "metadata": {},
   "outputs": [
    {
     "name": "stdout",
     "output_type": "stream",
     "text": [
      "Jack of Spades\n"
     ]
    }
   ],
   "source": [
    "print(Card(3, 10))"
   ]
  },
  {
   "cell_type": "code",
   "execution_count": 11,
   "metadata": {},
   "outputs": [
    {
     "data": {
      "text/plain": [
       "'Jack of Spades'"
      ]
     },
     "execution_count": 11,
     "metadata": {},
     "output_type": "execute_result"
    }
   ],
   "source": [
    "str(Card(3, 10))"
   ]
  },
  {
   "cell_type": "markdown",
   "metadata": {},
   "source": [
    "Note that you ***can*** technically call the ```__repr__``` method like this:"
   ]
  },
  {
   "cell_type": "code",
   "execution_count": 12,
   "metadata": {},
   "outputs": [
    {
     "data": {
      "text/plain": [
       "'Jack of Spades'"
      ]
     },
     "execution_count": 12,
     "metadata": {},
     "output_type": "execute_result"
    }
   ],
   "source": [
    "card = Card(3, 10)\n",
    "card.__repr__()"
   ]
  },
  {
   "cell_type": "markdown",
   "metadata": {},
   "source": [
    "Generally, I'd advise you not to call dunder functions directly as I did above. It's considered bad practice because it's hard to read and it's not how the language was meant to be used.\n",
    "\n",
    "## A note about private methods and attributes\n",
    "\n",
    "In fact, in general, if a method or attribute of an object has a single ```_``` at the front of its name, we call it a ***private*** or ***hidden*** method or attribute. In practice, that means you should only use it inside of other methods that belong to the same object."
   ]
  },
  {
   "cell_type": "markdown",
   "metadata": {},
   "source": [
    "# Adding more methods"
   ]
  },
  {
   "cell_type": "markdown",
   "metadata": {},
   "source": [
    "You can add whatever methods you like! Let's add a method called ```Card.upgrade()``` that increases the value of the card. If the card has the value ```King```, then the card value should loop around back to ```Ace```"
   ]
  },
  {
   "cell_type": "code",
   "execution_count": 13,
   "metadata": {},
   "outputs": [],
   "source": [
    "class Card(object):\n",
    "    SUITS = ['Clubs', 'Diamonds', 'Hearts', 'Spades']\n",
    "    VALUES = ['Ace', '2', '3', '4', '5', '6', '7', '8', '9', '10', 'Jack', 'Queen', 'King']\n",
    "\n",
    "    def __init__(self, suit_number, value_number):\n",
    "        self.suit = suit_number\n",
    "        self.value = value_number\n",
    "    def __repr__(self):\n",
    "        return self.VALUES[self.value] + \" of \" + self.SUITS[self.suit]"
   ]
  },
  {
   "cell_type": "code",
   "execution_count": null,
   "metadata": {},
   "outputs": [],
   "source": []
  },
  {
   "cell_type": "code",
   "execution_count": null,
   "metadata": {},
   "outputs": [],
   "source": []
  },
  {
   "cell_type": "markdown",
   "metadata": {},
   "source": [
    "Add an attribute to the Card called ```id``` that assigns the card a unique number between 1 and 52 according to its suit and value.\n",
    "\n",
    "Then make some cards and check if their ids are equal to see if it's working as expected."
   ]
  },
  {
   "cell_type": "code",
   "execution_count": null,
   "metadata": {},
   "outputs": [],
   "source": []
  },
  {
   "cell_type": "code",
   "execution_count": null,
   "metadata": {},
   "outputs": [],
   "source": []
  },
  {
   "cell_type": "code",
   "execution_count": null,
   "metadata": {},
   "outputs": [],
   "source": []
  },
  {
   "cell_type": "code",
   "execution_count": null,
   "metadata": {},
   "outputs": [],
   "source": []
  },
  {
   "cell_type": "markdown",
   "metadata": {},
   "source": [
    "# Building a Deck\n",
    "\n",
    "Build a constructor for the ```Deck``` class that stores a list of ```Card```s in a list called ```self._cards```"
   ]
  },
  {
   "cell_type": "code",
   "execution_count": 14,
   "metadata": {},
   "outputs": [],
   "source": [
    "class Deck(object):\n",
    "    def __init__(self):\n",
    "        pass"
   ]
  },
  {
   "cell_type": "code",
   "execution_count": null,
   "metadata": {},
   "outputs": [],
   "source": []
  },
  {
   "cell_type": "code",
   "execution_count": null,
   "metadata": {},
   "outputs": [],
   "source": []
  },
  {
   "cell_type": "code",
   "execution_count": null,
   "metadata": {},
   "outputs": [],
   "source": []
  },
  {
   "cell_type": "markdown",
   "metadata": {},
   "source": [
    "# Deck Methods\n",
    "\n",
    "write a method called ```Deck.draw()``` that removes the top card from a ```deck``` object and returns it."
   ]
  },
  {
   "cell_type": "code",
   "execution_count": null,
   "metadata": {},
   "outputs": [],
   "source": []
  },
  {
   "cell_type": "code",
   "execution_count": null,
   "metadata": {},
   "outputs": [],
   "source": []
  },
  {
   "cell_type": "code",
   "execution_count": null,
   "metadata": {},
   "outputs": [],
   "source": []
  },
  {
   "cell_type": "markdown",
   "metadata": {},
   "source": [
    "Add an attribute called ```self.numCards``` that keeps track of the number of cards in the deck."
   ]
  },
  {
   "cell_type": "code",
   "execution_count": null,
   "metadata": {},
   "outputs": [],
   "source": []
  },
  {
   "cell_type": "code",
   "execution_count": null,
   "metadata": {},
   "outputs": [],
   "source": []
  },
  {
   "cell_type": "code",
   "execution_count": null,
   "metadata": {},
   "outputs": [],
   "source": []
  },
  {
   "cell_type": "markdown",
   "metadata": {},
   "source": [
    "Did you update the ```Deck.Draw()``` method to reduce ```self.numCards``` by one?"
   ]
  },
  {
   "cell_type": "markdown",
   "metadata": {},
   "source": [
    "Here's an implementation of a ```Card``` class with more bells and whistles.\n",
    "\n",
    "See if you can follow the code. How is this person's code different from ours?\n",
    "\n",
    "This person's code is very well-organized."
   ]
  },
  {
   "cell_type": "code",
   "execution_count": 15,
   "metadata": {},
   "outputs": [],
   "source": [
    "#!/usr/bin/python\n",
    "\"\"\"This module provides the :class:`Card` object.\n",
    "This module also has 5 constant attributes that help validate or string format\n",
    "the :class:`Card` object: :attr:`POSSIBLE_SUIT`, :attr:`POSSIBLE_RANK`,\n",
    ", :attr:`JOKER_SUIT`, :attr:`JOKER_RANK`, and :attr:`RANK_TRANSLATION`\n",
    "\"\"\"\n",
    "\n",
    "#: an array with all the possible suit strings\n",
    "POSSIBLE_SUIT = ['hearts', 'diamonds', 'spades', 'clubs']\n",
    "\n",
    "#: an array with the possible ranks\n",
    "POSSIBLE_RANK = range(1, 14, 1)\n",
    "\n",
    "#: a string representing the Joker's suit\n",
    "JOKER_SUIT = 'joker'\n",
    "\n",
    "#: a number representing the Joker's rank\n",
    "JOKER_RANK = 0\n",
    "\n",
    "#: a dictionary which translates the special face cards to strings\n",
    "RANK_TRANSLATION = {\n",
    "    1  : 'ace',\n",
    "    11 : 'jack',\n",
    "    12 : 'queen',\n",
    "    13 : 'king',\n",
    "}\n",
    "\n",
    "class Card(object):\n",
    "    \"\"\"A Card object\n",
    "    \"\"\"\n",
    "\n",
    "    #: Holds the suit as a lowercase string\n",
    "    _suit = None\n",
    "\n",
    "    #: Holds an integer which represents the card rank\n",
    "    _rank = None\n",
    "\n",
    "    def __init__(self, rank, suit):\n",
    "        \"\"\"\n",
    "        :param int rank: a rank in :attr:`POSSIBLE_RANK` or :attr:`JOKER_RANK`\n",
    "        :param str suit: a case-independent string in :attr:`POSSIBLE_SUIT` or\n",
    "                         :attr:`JOKER_SUIT`\n",
    "        :raises: ValueError\n",
    "        \"\"\"\n",
    "\n",
    "        # convert to lowercase\n",
    "        suit = suit.lower()\n",
    "\n",
    "        base_error_str = 'A new Card cannot be created.'\n",
    "\n",
    "        if suit == JOKER_SUIT:\n",
    "            if rank == JOKER_RANK:\n",
    "                self._suit = suit\n",
    "                self._rank = rank\n",
    "            else:\n",
    "                raise ValueError(base_error_str + \" Joker's rank must be %d\"\n",
    "                                 % JOKER_RANK)\n",
    "        elif suit in POSSIBLE_SUIT:\n",
    "            self._suit = suit\n",
    "\n",
    "            if rank in POSSIBLE_RANK:\n",
    "                self._rank = rank\n",
    "            else:\n",
    "                raise ValueError(base_error_str + \" A normal card's rank (%s)\"\n",
    "                                 \" is not %s.\" % (rank, POSSIBLE_RANK))\n",
    "        else:\n",
    "            raise ValueError(base_error_str + \" Suit ('%s') is not in\"\n",
    "                             \" %s.\" % (suit, POSSIBLE_SUIT + [JOKER_SUIT]))\n",
    "\n",
    "    def _translate_rank(self):\n",
    "        \"\"\"This is a hidden method that changes the card rank to a\n",
    "        human-readable string. It also returns the title case of the string if\n",
    "        possible.\n",
    "        'Ace' for 1\n",
    "        'Joker' for joker\n",
    "        :returns: human-readable string for face cards or card rank\n",
    "        :rtype: str\n",
    "        \"\"\"\n",
    "        if self.is_joker():\n",
    "            return JOKER_SUIT.title()\n",
    "        elif self.get_rank() in RANK_TRANSLATION:\n",
    "            return RANK_TRANSLATION[self.get_rank()].title()\n",
    "        else:\n",
    "            return self.get_rank()\n",
    "\n",
    "    def __repr__(self):\n",
    "        \"\"\"This method returns an unambigious string representation of the card object\n",
    "        :returns: unambigious string represenation of card object\n",
    "        :rtype: str\n",
    "        \"\"\"\n",
    "        return \"Card(_rank=%s, _suit=%s)\" % (self.get_rank(), self.get_suit())\n",
    "\n",
    "    def __str__(self):\n",
    "        \"\"\"This method returns a nice string representation of the card object\n",
    "        useful in printing card object as \"%s\"\n",
    "        :returns: human readable string represenation of card object\n",
    "        :rtype: str\n",
    "        \"\"\"\n",
    "        translated_rank = self._translate_rank()\n",
    "        if self.is_joker():\n",
    "            return translated_rank\n",
    "        else:\n",
    "            return \"%s of %s\" % (translated_rank, self._suit.title())\n",
    "\n",
    "    def get_rank(self):\n",
    "        \"\"\"\n",
    "        :returns: :attr:`_rank`\n",
    "        :rtype: int\n",
    "        \"\"\"\n",
    "        return self._rank\n",
    "\n",
    "    def get_suit(self):\n",
    "        \"\"\"\n",
    "        :returns: :attr:`_suit`\n",
    "        :rtype: str\n",
    "        \"\"\"\n",
    "        return self._suit\n",
    "\n",
    "    def is_joker(self):\n",
    "        \"\"\"\n",
    "        :returns: True if joker\n",
    "        :rtype: bool\n",
    "        \"\"\"\n",
    "        return (JOKER_RANK == self.get_rank()) and (JOKER_SUIT == self.get_suit())\n",
    "\n",
    "    def __eq__(self, other):\n",
    "        \"\"\"Override equality method\n",
    "        :returns: True if two objects are cards and have the same :attr:`_rank` and :attr:`_suit`\n",
    "        :rtype: bool\n",
    "        \"\"\"\n",
    "        if type(other) is type(self):\n",
    "            if (other.get_rank() == self.get_rank()) and (other.get_suit() == self.get_suit()):\n",
    "                return True\n",
    "\n",
    "        return False\n",
    "\n",
    "    def __ne__(self, other):\n",
    "        \"\"\"Override inequality method\n",
    "        :returns: not :attr:`__eq__`\n",
    "        :rtype: bool\n",
    "        \"\"\"\n",
    "        return not self.__eq__(other)"
   ]
  },
  {
   "cell_type": "markdown",
   "metadata": {},
   "source": [
    "A few things that you should notice:\n",
    "    \n",
    "- The use of \"docstrings.\" It's the string in triple quotes, telling you what the function does. \n",
    "\n",
    "        def __eq__(self, other):\n",
    "            \"\"\"Override equality method\n",
    "            :returns: True if two objects are cards and have the same :attr:`_rank` and :attr:`_suit`\n",
    "            :rtype: bool\n",
    "            \"\"\""
   ]
  },
  {
   "cell_type": "markdown",
   "metadata": {},
   "source": [
    "You can view a docstring like this:"
   ]
  },
  {
   "cell_type": "code",
   "execution_count": 16,
   "metadata": {},
   "outputs": [],
   "source": [
    "Card.__eq__?"
   ]
  },
  {
   "cell_type": "markdown",
   "metadata": {},
   "source": [
    "Also note:\n",
    "\n",
    "- variables that remain constant throughout the entire program are in ALL_CAPS\n",
    "- Some methods and attributes are private/hidden, such as ```_translate_rank``` and ```_suit```"
   ]
  },
  {
   "cell_type": "code",
   "execution_count": null,
   "metadata": {},
   "outputs": [],
   "source": []
  }
 ],
 "metadata": {
  "kernelspec": {
   "display_name": "Python 3",
   "language": "python",
   "name": "python3"
  },
  "language_info": {
   "codemirror_mode": {
    "name": "ipython",
    "version": 3
   },
   "file_extension": ".py",
   "mimetype": "text/x-python",
   "name": "python",
   "nbconvert_exporter": "python",
   "pygments_lexer": "ipython3",
   "version": "3.6.5"
  }
 },
 "nbformat": 4,
 "nbformat_minor": 2
}
