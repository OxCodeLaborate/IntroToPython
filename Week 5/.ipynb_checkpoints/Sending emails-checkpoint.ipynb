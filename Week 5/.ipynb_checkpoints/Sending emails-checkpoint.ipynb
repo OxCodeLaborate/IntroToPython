{
 "cells": [
  {
   "cell_type": "markdown",
   "metadata": {},
   "source": [
    "To send emails we need to use SMTP, and in order to do that in Python we need to create an SMTP object which establishes communication with the server.\n",
    "\n",
    "we start with creating the object smtplib.SMTP([Server address], [Port]). Note that we will be connecting to port 587 which means we will be using tls encryption.\n",
    "\n",
    "This might all sound pretty complicated, but that is why we use libraries, so we don't actually have to think about the protocol and instead we can just use it to send emails.\n",
    "\n",
    "After that as part of the protocol, we need to send a hello message, making sure that we can actually commincate with the server we do that through our SMTP object, by using the function smtpObj.ehlo()\n",
    "\n",
    "We then need to establish our encryption since we are using tls. We do that by smtpObj.starttls()\n",
    "\n",
    "we are now set to send and receive emails, all we need to do is login, by using smtpObj.log([Username],[Password])\n",
    "\n",
    "and then send the email by smtpObj.sendmail([to],[from],[email])"
   ]
  },
  {
   "cell_type": "code",
   "execution_count": null,
   "metadata": {},
   "outputs": [],
   "source": [
    "import smtplib\n",
    "smtpObj = smtplib.SMTP('smtp.gmail.com', 587) #Create an SMTP object\n",
    "smtpObj.ehlo() #Start communication with the server \n",
    "smtpObj.starttls() #Establish TLS encryption\n",
    "smtpObj.login([mail],[password]) #login to email\n",
    "smtpObj.sendmail([to],[from],'Subject:So Long.\\n\\n Testing, help')"
   ]
  }
 ],
 "metadata": {
  "kernelspec": {
   "display_name": "Python 3",
   "language": "python",
   "name": "python3"
  },
  "language_info": {
   "codemirror_mode": {
    "name": "ipython",
    "version": 3
   },
   "file_extension": ".py",
   "mimetype": "text/x-python",
   "name": "python",
   "nbconvert_exporter": "python",
   "pygments_lexer": "ipython3",
   "version": "3.6.5"
  }
 },
 "nbformat": 4,
 "nbformat_minor": 2
}
