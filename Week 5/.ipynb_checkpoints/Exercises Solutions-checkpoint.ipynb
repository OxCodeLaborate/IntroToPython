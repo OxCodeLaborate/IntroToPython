{
 "cells": [
  {
   "cell_type": "markdown",
   "metadata": {},
   "source": [
    "Fill out the quiz below!"
   ]
  },
  {
   "cell_type": "code",
   "execution_count": null,
   "metadata": {
    "collapsed": true
   },
   "outputs": [],
   "source": [
    "import webbrowser\n",
    "webbrowser.open(\"https://oxfordsaid.eu.qualtrics.com/jfe/form/SV_4ZNhFyZbaShWdcp\")"
   ]
  },
  {
   "cell_type": "markdown",
   "metadata": {},
   "source": [
    "Define a function called codesoc that prints 'Codesoc'!"
   ]
  },
  {
   "cell_type": "code",
   "execution_count": 1,
   "metadata": {
    "collapsed": true
   },
   "outputs": [],
   "source": [
    "#Write your code below:\n",
    "\n",
    "def codesoc():\n",
    "    print('Codesoc!')"
   ]
  },
  {
   "cell_type": "markdown",
   "metadata": {},
   "source": [
    "Write a function called codesoc that returns 'Codesoc'"
   ]
  },
  {
   "cell_type": "code",
   "execution_count": 2,
   "metadata": {
    "collapsed": true
   },
   "outputs": [],
   "source": [
    "#Write your code below:\n",
    "\n",
    "def codesoc():\n",
    "    return('Codesoc')"
   ]
  },
  {
   "cell_type": "markdown",
   "metadata": {},
   "source": [
    "Write a function called name that takes a [string] as an input and returns 'Hello, [string]'"
   ]
  },
  {
   "cell_type": "code",
   "execution_count": 3,
   "metadata": {
    "collapsed": true
   },
   "outputs": [],
   "source": [
    "#Write your code below:\n",
    "def hello(string):\n",
    "    print('Hello,', string)"
   ]
  },
  {
   "cell_type": "markdown",
   "metadata": {},
   "source": [
    "Write a function that takes two numbers a,b as input and returns a\\*\\*b - b\\*\\*a "
   ]
  },
  {
   "cell_type": "code",
   "execution_count": 4,
   "metadata": {
    "collapsed": true
   },
   "outputs": [],
   "source": [
    "#Write your code below:\n",
    "def do_maths(a, b):\n",
    "    return(a**b - b**a)"
   ]
  },
  {
   "cell_type": "markdown",
   "metadata": {},
   "source": [
    "Write a function that takes input a string and returns 'vowel' if the first character of the string is a vowel an 'not a fowel' otherwise"
   ]
  },
  {
   "cell_type": "code",
   "execution_count": 6,
   "metadata": {
    "collapsed": true
   },
   "outputs": [],
   "source": [
    "#Write your code below:\n",
    "\n",
    "vowels = ['a','e','o','u','i','y']\n",
    "def is_vowel(string):\n",
    "    return(string[0] in vowels)"
   ]
  },
  {
   "cell_type": "markdown",
   "metadata": {},
   "source": [
    "Write a function that takes two lists as its input and returns their intersection. For example intersection([1,2,3],[3,4,5]) should return 3"
   ]
  },
  {
   "cell_type": "code",
   "execution_count": 7,
   "metadata": {
    "collapsed": true
   },
   "outputs": [],
   "source": [
    "#Write your code below:\n",
    "\n",
    "def intersection(a, b):\n",
    "    c = []\n",
    "    for i in a:\n",
    "        if i in b:\n",
    "            c.append(i)\n",
    "    return(c)"
   ]
  },
  {
   "cell_type": "markdown",
   "metadata": {},
   "source": [
    "Test your code on the arrays a,b below"
   ]
  },
  {
   "cell_type": "code",
   "execution_count": 8,
   "metadata": {
    "collapsed": false
   },
   "outputs": [
    {
     "data": {
      "text/plain": [
       "[3, 5, 7, 11]"
      ]
     },
     "execution_count": 8,
     "metadata": {},
     "output_type": "execute_result"
    }
   ],
   "source": [
    "a = [2,3,5,7,11,13]\n",
    "b = [1,3,5,7,9,11]\n",
    "#Write your code below:\n",
    "\n",
    "intersection(a, b)\n"
   ]
  },
  {
   "cell_type": "markdown",
   "metadata": {},
   "source": [
    "Write a function that takes in two strings and returns wether or not they're anagrams of each other for example 'anagram' and 'nag a ram' are anagrams because they use the same combination of letters the same number of times"
   ]
  },
  {
   "cell_type": "code",
   "execution_count": 13,
   "metadata": {
    "collapsed": false
   },
   "outputs": [],
   "source": [
    "#Write your code below:\n",
    "#Solution 1:\n",
    "\n",
    "def to_dict(string):\n",
    "    diction = {}\n",
    "    for i in string: \n",
    "        if i in diction:\n",
    "            diction[i] += 1\n",
    "        else:\n",
    "            diction[i] = 1\n",
    "    return diction\n",
    "def is_anagram(a, b):\n",
    "    return(to_dict(a) == to_dict(b))"
   ]
  },
  {
   "cell_type": "code",
   "execution_count": 14,
   "metadata": {
    "collapsed": true
   },
   "outputs": [],
   "source": [
    "#Solution 2:\n",
    "def is_anagram(a, b):\n",
    "    return(''.join(sorted(a)) == ''.join(sorted(b)))"
   ]
  },
  {
   "cell_type": "markdown",
   "metadata": {},
   "source": [
    "Write a function that takes input a list and some other element and returns a list of all the indices of that element in the list. For example if the input is [1,2,1,3,4,1], 1 then the output should be[0,2,5]. If the input is [1,2,1,3,4,1],5 then the output should be []"
   ]
  },
  {
   "cell_type": "code",
   "execution_count": 16,
   "metadata": {
    "collapsed": false
   },
   "outputs": [],
   "source": [
    "#Write your code below:\n",
    "def indices(array, a):\n",
    "    index = []\n",
    "    for i in range(len(array)):\n",
    "        if array[i] == a:\n",
    "            index.append(i)\n",
    "            \n",
    "    return index\n",
    "\n"
   ]
  }
 ],
 "metadata": {
  "kernelspec": {
   "display_name": "Python 3",
   "language": "python",
   "name": "python3"
  },
  "language_info": {
   "codemirror_mode": {
    "name": "ipython",
    "version": 3
   },
   "file_extension": ".py",
   "mimetype": "text/x-python",
   "name": "python",
   "nbconvert_exporter": "python",
   "pygments_lexer": "ipython3",
   "version": "3.5.1"
  }
 },
 "nbformat": 4,
 "nbformat_minor": 1
}
