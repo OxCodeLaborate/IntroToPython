{
 "cells": [
  {
   "cell_type": "markdown",
   "metadata": {},
   "source": [
    "# The datetime object"
   ]
  },
  {
   "cell_type": "code",
   "execution_count": null,
   "metadata": {},
   "outputs": [],
   "source": [
    "import datetime as dt # so we can tell the time"
   ]
  },
  {
   "cell_type": "code",
   "execution_count": null,
   "metadata": {},
   "outputs": [],
   "source": [
    "dt.datetime.now()"
   ]
  },
  {
   "cell_type": "code",
   "execution_count": null,
   "metadata": {},
   "outputs": [],
   "source": [
    "now = dt.datetime.now()"
   ]
  },
  {
   "cell_type": "code",
   "execution_count": null,
   "metadata": {},
   "outputs": [],
   "source": [
    "now.year"
   ]
  },
  {
   "cell_type": "code",
   "execution_count": null,
   "metadata": {},
   "outputs": [],
   "source": [
    "now.month"
   ]
  },
  {
   "cell_type": "code",
   "execution_count": null,
   "metadata": {},
   "outputs": [],
   "source": [
    "now.day"
   ]
  },
  {
   "cell_type": "code",
   "execution_count": null,
   "metadata": {},
   "outputs": [],
   "source": [
    "now.hour"
   ]
  },
  {
   "cell_type": "code",
   "execution_count": null,
   "metadata": {},
   "outputs": [],
   "source": [
    "now.minute"
   ]
  },
  {
   "cell_type": "code",
   "execution_count": null,
   "metadata": {
    "scrolled": true
   },
   "outputs": [],
   "source": [
    "now.second"
   ]
  },
  {
   "cell_type": "code",
   "execution_count": null,
   "metadata": {},
   "outputs": [],
   "source": [
    "now.microsecond"
   ]
  },
  {
   "cell_type": "code",
   "execution_count": null,
   "metadata": {},
   "outputs": [],
   "source": [
    "someOtherTime = dt.datetime(2010, 5, 1, 0, 0, 0, 0)"
   ]
  },
  {
   "cell_type": "code",
   "execution_count": null,
   "metadata": {},
   "outputs": [],
   "source": [
    "someOtherTime"
   ]
  },
  {
   "cell_type": "markdown",
   "metadata": {},
   "source": [
    "# Date object"
   ]
  },
  {
   "cell_type": "code",
   "execution_count": null,
   "metadata": {},
   "outputs": [],
   "source": [
    "dt.date.today()"
   ]
  },
  {
   "cell_type": "code",
   "execution_count": null,
   "metadata": {},
   "outputs": [],
   "source": [
    "today = dt.date.today()"
   ]
  },
  {
   "cell_type": "code",
   "execution_count": null,
   "metadata": {},
   "outputs": [],
   "source": [
    "today.year"
   ]
  },
  {
   "cell_type": "code",
   "execution_count": null,
   "metadata": {},
   "outputs": [],
   "source": [
    "today.month"
   ]
  },
  {
   "cell_type": "code",
   "execution_count": null,
   "metadata": {},
   "outputs": [],
   "source": [
    "today.day"
   ]
  },
  {
   "cell_type": "markdown",
   "metadata": {},
   "source": [
    "# Timedeltas \n",
    "\n",
    "We won't need this today, but it's such a neat feature I have to show you!"
   ]
  },
  {
   "cell_type": "code",
   "execution_count": null,
   "metadata": {},
   "outputs": [],
   "source": [
    "now"
   ]
  },
  {
   "cell_type": "code",
   "execution_count": null,
   "metadata": {},
   "outputs": [],
   "source": [
    "someOtherTime"
   ]
  },
  {
   "cell_type": "code",
   "execution_count": null,
   "metadata": {},
   "outputs": [],
   "source": [
    "now - someOtherTime"
   ]
  },
  {
   "cell_type": "code",
   "execution_count": null,
   "metadata": {},
   "outputs": [],
   "source": [
    "timeDiff = now - someOtherTime"
   ]
  },
  {
   "cell_type": "code",
   "execution_count": null,
   "metadata": {},
   "outputs": [],
   "source": [
    "timeDiff.days"
   ]
  },
  {
   "cell_type": "code",
   "execution_count": null,
   "metadata": {},
   "outputs": [],
   "source": [
    "timeDiff.seconds"
   ]
  },
  {
   "cell_type": "code",
   "execution_count": null,
   "metadata": {},
   "outputs": [],
   "source": [
    "timeDiff.microseconds"
   ]
  },
  {
   "cell_type": "markdown",
   "metadata": {},
   "source": [
    "# Exercise 1: Setting an alarm\n",
    "\n",
    "Set an alarm that goes off every 10 seconds.\n",
    "\n",
    "Test it. Is it going off more than once every 10 seconds? Why? How can you stop this? "
   ]
  },
  {
   "cell_type": "code",
   "execution_count": null,
   "metadata": {},
   "outputs": [],
   "source": [
    "import datetime as dt\n",
    "\n",
    "prevSec = 1\n",
    "while True:\n",
    "    currentSec = dt.datetime.now().second\n",
    "    if (currentSec % 10 == 0) and currentSec != prevSec:\n",
    "        print('alarm is set off at {} seconds'.format(currentSec))\n",
    "        prevSec = currentSec"
   ]
  },
  {
   "cell_type": "code",
   "execution_count": null,
   "metadata": {},
   "outputs": [],
   "source": []
  },
  {
   "cell_type": "code",
   "execution_count": null,
   "metadata": {},
   "outputs": [],
   "source": []
  },
  {
   "cell_type": "code",
   "execution_count": null,
   "metadata": {},
   "outputs": [],
   "source": []
  },
  {
   "cell_type": "markdown",
   "metadata": {},
   "source": [
    "# Daily Alarm\n",
    "\n",
    "Set an alarm that goes off at 8:50 am in the morning, but only once! No need to test it :P"
   ]
  },
  {
   "cell_type": "code",
   "execution_count": null,
   "metadata": {},
   "outputs": [],
   "source": [
    "import datetime as dt\n",
    "\n",
    "prevDay = False\n",
    "while True:\n",
    "    now = dt.datetime.now()\n",
    "    currentDay = now.day\n",
    "    if (now.hour == 8) and (now.minute == 50) and (currentDay != prevDay):\n",
    "        print('alarm is set off at {} seconds'.format(currentSec))\n",
    "        prevDay = currentDay"
   ]
  },
  {
   "cell_type": "code",
   "execution_count": null,
   "metadata": {},
   "outputs": [],
   "source": []
  },
  {
   "cell_type": "code",
   "execution_count": null,
   "metadata": {},
   "outputs": [],
   "source": []
  },
  {
   "cell_type": "markdown",
   "metadata": {},
   "source": [
    "# A note: Actually using this code\n",
    "\n",
    "You can actually run a program in the background of your computer that does something daily this way. \n",
    "\n",
    "I personally use a script that opens up my online journal each evening some time past 10 pm."
   ]
  },
  {
   "cell_type": "code",
   "execution_count": null,
   "metadata": {},
   "outputs": [],
   "source": []
  },
  {
   "cell_type": "code",
   "execution_count": null,
   "metadata": {},
   "outputs": [],
   "source": []
  },
  {
   "cell_type": "code",
   "execution_count": null,
   "metadata": {},
   "outputs": [],
   "source": []
  },
  {
   "cell_type": "markdown",
   "metadata": {},
   "source": [
    "# The Alarm Class\n",
    "\n",
    "Say you wanted to set up a number of alarms. A good way to do this might be to have an Alarm class. Here's an example below. Try your best to understand what exactly the program does.\n",
    "\n",
    "Half of the task of programming well is making code that explains itself."
   ]
  },
  {
   "cell_type": "code",
   "execution_count": null,
   "metadata": {},
   "outputs": [],
   "source": [
    "from time import sleep\n",
    "import datetime as dt\n",
    "import webbrowser as wb\n",
    "\n",
    "class Alarm(object):\n",
    "    \"\"\"An alarm object.\"\"\"\n",
    "    def __init__(self, condition, action, repeat):\n",
    "        \"\"\"\n",
    "        Creates an alarm that completes a process specified by action.\n",
    "        \n",
    "        Parameters\n",
    "        ----------\n",
    "        condition : dict\n",
    "            keys (str): minute, hour, day, etc. \n",
    "            Values (int) : the respective key must be to sound the alarm\n",
    "        action : function\n",
    "            action to be taken by alarm when condition is met\n",
    "        repeat : bool\n",
    "            True if the alarm should repeat. False if it should not repeat.\n",
    "        \"\"\"\n",
    "        self.condition = condition\n",
    "        self.action = action\n",
    "        self.isOn = True\n",
    "        self.repeat = repeat\n",
    "        \n",
    "        # To avoid setting off the alarm multiple times in a row, we turn the alarm off (self.isOn = False)\n",
    "        # whenever the condition is met. We leave the alarm off until the condition is no longer met.\n",
    "        # To do this, we must store what the condition was previously. \n",
    "        # We store the previous condition in self.previousCondition\n",
    "        self.previousCondition = False \n",
    "    \n",
    "    def update(self):\n",
    "        \"\"\"Runs the alarm if self.condition is met. Resets itself according to self.repeat.\n",
    "        This is the only function to be used from outside of the Alarm class.\"\"\"\n",
    "        # now is passed into self._conditionIsMet(), also used to store lastTimeRun\n",
    "        now = dt.datetime.now() \n",
    "        if (not self.previousCondition) and self.isOn and self._conditionIsMet(now):\n",
    "            self.action()\n",
    "            self.previousCondition = True\n",
    "            self.isOn = False\n",
    "        if not self._conditionIsMet(now):\n",
    "            self.isOn = True\n",
    "            self.previousCondition = False\n",
    "        \n",
    "    def _conditionIsMet(self, now):\n",
    "        \"\"\"checks if now meets self.condition\"\"\"\n",
    "        for timeUnit in self.condition.keys():\n",
    "            if (self.condition[timeUnit] != now.__getattribute__(timeUnit)):\n",
    "                return False\n",
    "        return True"
   ]
  },
  {
   "cell_type": "markdown",
   "metadata": {},
   "source": [
    "# Using the above class\n",
    "\n",
    "Below is some code that opens up wikipedia's main page every time we hit the 10th second of a minute."
   ]
  },
  {
   "cell_type": "code",
   "execution_count": null,
   "metadata": {
    "scrolled": true
   },
   "outputs": [],
   "source": [
    "from time import sleep\n",
    "import datetime as dt\n",
    "import webbrowser as wb\n",
    "\n",
    "condition = {\n",
    "    \"second\" : 10\n",
    "}\n",
    "\n",
    "def action():\n",
    "    wb.open(\"https://en.wikipedia.org/wiki/Main_Page\")\n",
    "\n",
    "alarm = Alarm(condition, action, repeat = True)\n",
    "\n",
    "while True:\n",
    "    alarm.update()"
   ]
  },
  {
   "cell_type": "code",
   "execution_count": null,
   "metadata": {},
   "outputs": [],
   "source": []
  },
  {
   "cell_type": "code",
   "execution_count": null,
   "metadata": {},
   "outputs": [],
   "source": []
  }
 ],
 "metadata": {
  "kernelspec": {
   "display_name": "Python 3",
   "language": "python",
   "name": "python3"
  },
  "language_info": {
   "codemirror_mode": {
    "name": "ipython",
    "version": 3
   },
   "file_extension": ".py",
   "mimetype": "text/x-python",
   "name": "python",
   "nbconvert_exporter": "python",
   "pygments_lexer": "ipython3",
   "version": "3.6.5"
  }
 },
 "nbformat": 4,
 "nbformat_minor": 2
}
