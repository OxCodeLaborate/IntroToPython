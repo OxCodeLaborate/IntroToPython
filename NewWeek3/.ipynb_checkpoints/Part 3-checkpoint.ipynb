{
 "cells": [
  {
   "cell_type": "markdown",
   "metadata": {},
   "source": [
    "# for Loops"
   ]
  },
  {
   "cell_type": "markdown",
   "metadata": {},
   "source": [
    "So you know how to make a program repeat a task. Oftentimes, we want a program to complete something a fixed number of times. We do this so often that we have invented another type of loop in python: the for-loop.\n",
    "\n",
    "The syntax is like this:\n",
    "\n",
    "    for iteration in iterable:\n",
    "        body         \n",
    "        # do something with the variable 'iteration'"
   ]
  },
  {
   "cell_type": "markdown",
   "metadata": {},
   "source": [
    "Perhaps the most common iterable you will use, is a range object. You've probably seen it already by now. The range() function can take a variable number of inputs.\n",
    "\n",
    "1 inputs\n",
    "\n",
    "    range(stop)               # start is assumed to be 0. step is assumed to be 1.\n",
    "\n",
    "2 inputs\n",
    "\n",
    "    range(start, stop)        # step is assumed to be 1\n",
    "    \n",
    "3 inputs\n",
    "\n",
    "    range(start, stop, step)  \n",
    "    \n",
    "    \n",
    "Let's start by making a range object."
   ]
  },
  {
   "cell_type": "markdown",
   "metadata": {},
   "source": [
    "## The range() function\n",
    "\n",
    "Start! Stop! Step!"
   ]
  },
  {
   "cell_type": "code",
   "execution_count": 2,
   "metadata": {},
   "outputs": [
    {
     "data": {
      "text/plain": [
       "range(0, 10)"
      ]
     },
     "execution_count": 2,
     "metadata": {},
     "output_type": "execute_result"
    }
   ],
   "source": [
    "range(10)"
   ]
  },
  {
   "cell_type": "code",
   "execution_count": 5,
   "metadata": {},
   "outputs": [
    {
     "data": {
      "text/plain": [
       "range(5, 12)"
      ]
     },
     "execution_count": 5,
     "metadata": {},
     "output_type": "execute_result"
    }
   ],
   "source": [
    "range(5, 12)"
   ]
  },
  {
   "cell_type": "code",
   "execution_count": 3,
   "metadata": {},
   "outputs": [
    {
     "data": {
      "text/plain": [
       "range(2, 25, 2)"
      ]
     },
     "execution_count": 3,
     "metadata": {},
     "output_type": "execute_result"
    }
   ],
   "source": [
    "range(2, 25, 2)"
   ]
  },
  {
   "cell_type": "markdown",
   "metadata": {},
   "source": [
    "On its own, it doesn't appear useful. It's most useful inside a for-loop."
   ]
  },
  {
   "cell_type": "code",
   "execution_count": 6,
   "metadata": {},
   "outputs": [
    {
     "name": "stdout",
     "output_type": "stream",
     "text": [
      "0\n",
      "1\n",
      "2\n",
      "3\n",
      "4\n",
      "5\n",
      "6\n",
      "7\n",
      "8\n",
      "9\n"
     ]
    }
   ],
   "source": [
    "for i in range(10):\n",
    "    print(i)"
   ]
  },
  {
   "cell_type": "code",
   "execution_count": 7,
   "metadata": {},
   "outputs": [
    {
     "name": "stdout",
     "output_type": "stream",
     "text": [
      "5\n",
      "6\n",
      "7\n",
      "8\n",
      "9\n",
      "10\n",
      "11\n"
     ]
    }
   ],
   "source": [
    "for i in range(5, 12):\n",
    "    print(i)"
   ]
  },
  {
   "cell_type": "code",
   "execution_count": 8,
   "metadata": {},
   "outputs": [
    {
     "name": "stdout",
     "output_type": "stream",
     "text": [
      "2\n",
      "4\n",
      "6\n",
      "8\n",
      "10\n",
      "12\n",
      "14\n",
      "16\n",
      "18\n",
      "20\n",
      "22\n",
      "24\n"
     ]
    }
   ],
   "source": [
    "for i in range(2, 25, 2):\n",
    "    print(i)"
   ]
  },
  {
   "cell_type": "markdown",
   "metadata": {},
   "source": [
    "Using a range object, we can print every element of a list!"
   ]
  },
  {
   "cell_type": "code",
   "execution_count": 2,
   "metadata": {
    "scrolled": true
   },
   "outputs": [
    {
     "data": {
      "text/plain": [
       "['K', 'i', 'm', ' ', '&', ' ', 'C', 'o', 'l', 'i', 'n', '!']"
      ]
     },
     "execution_count": 2,
     "metadata": {},
     "output_type": "execute_result"
    }
   ],
   "source": [
    "array = list(\"Kim & Colin!\")\n",
    "array"
   ]
  },
  {
   "cell_type": "markdown",
   "metadata": {},
   "source": [
    "Notice how converting a string into a list converts it character by character"
   ]
  },
  {
   "cell_type": "code",
   "execution_count": 3,
   "metadata": {},
   "outputs": [
    {
     "name": "stdout",
     "output_type": "stream",
     "text": [
      "K\n",
      "i\n",
      "m\n",
      " \n",
      "&\n",
      " \n",
      "C\n",
      "o\n",
      "l\n",
      "i\n",
      "n\n",
      "!\n"
     ]
    }
   ],
   "source": [
    "n = len(array)\n",
    "\n",
    "for i in range(n):\n",
    "    char = array[i]\n",
    "    print(array[i])"
   ]
  },
  {
   "cell_type": "markdown",
   "metadata": {},
   "source": [
    "Notice that I **could** accomplish the above without a loop, but it would make my program:\n",
    "\n",
    "    1.) Longer\n",
    "    2.) Less Flexible"
   ]
  },
  {
   "cell_type": "markdown",
   "metadata": {},
   "source": [
    "## lists are also iterable\n",
    "\n",
    "This makes iterating over lists even easier than before!"
   ]
  },
  {
   "cell_type": "code",
   "execution_count": 26,
   "metadata": {},
   "outputs": [
    {
     "data": {
      "text/plain": [
       "['K', 'i', 'm', ' ', '&', ' ', 'C', 'o', 'l', 'i', 'n', '!']"
      ]
     },
     "execution_count": 26,
     "metadata": {},
     "output_type": "execute_result"
    }
   ],
   "source": [
    "array"
   ]
  },
  {
   "cell_type": "code",
   "execution_count": 27,
   "metadata": {},
   "outputs": [
    {
     "name": "stdout",
     "output_type": "stream",
     "text": [
      "K\n",
      "i\n",
      "m\n",
      " \n",
      "&\n",
      " \n",
      "C\n",
      "o\n",
      "l\n",
      "i\n",
      "n\n",
      "!\n"
     ]
    }
   ],
   "source": [
    "for char in array:\n",
    "    print(char)"
   ]
  },
  {
   "cell_type": "code",
   "execution_count": 28,
   "metadata": {},
   "outputs": [
    {
     "name": "stdout",
     "output_type": "stream",
     "text": [
      "291841234\n",
      "12341234\n",
      "12341234\n",
      "21341234123\n",
      "14234123\n",
      "41245634\n",
      "734563645\n",
      "62\n"
     ]
    }
   ],
   "source": [
    "array = [291841234, 12341234, 12341234, 21341234123, 14234123, 41245634, 734563645, 62]\n",
    "\n",
    "for num in array:\n",
    "    print(num)"
   ]
  },
  {
   "cell_type": "markdown",
   "metadata": {},
   "source": [
    "## Dictionaries are iterable"
   ]
  },
  {
   "cell_type": "code",
   "execution_count": 29,
   "metadata": {},
   "outputs": [],
   "source": [
    "headsOfHouses = {\n",
    "  \"All Souls\": \"Warden John Vickers\",\n",
    "  \"Balliol\": \"Master Helen Ghosh\",\n",
    "  \"Brasenose\": \"Principal John Bowers\",\n",
    "  \"Christ Church\": \"Dean Martyn Percy\",\n",
    "  \"Corpus Christi\": \"President Steven Cowley\",\n",
    "  \"Exeter\": \"Rector Rick Trainor\",\n",
    "  \"Green Templeton\": \"Principal Denise Lievesley\",\n",
    "  \"Harris Manchester\": \"Principal Ralph Waller\",\n",
    "  \"Hertford\": \"Principal Will Hutton\"\n",
    "}"
   ]
  },
  {
   "cell_type": "code",
   "execution_count": 30,
   "metadata": {},
   "outputs": [
    {
     "name": "stdout",
     "output_type": "stream",
     "text": [
      "All Souls\n",
      "Balliol\n",
      "Brasenose\n",
      "Christ Church\n",
      "Corpus Christi\n",
      "Exeter\n",
      "Green Templeton\n",
      "Harris Manchester\n",
      "Hertford\n"
     ]
    }
   ],
   "source": [
    "for college in headsOfHouses:\n",
    "    print(college)"
   ]
  },
  {
   "cell_type": "markdown",
   "metadata": {},
   "source": [
    "Notice that when I iterate over a dictionary, I iterate over its keys. To iterate over its values, I acces the values using:\n",
    "\n",
    "    dict.values()"
   ]
  },
  {
   "cell_type": "code",
   "execution_count": 31,
   "metadata": {},
   "outputs": [
    {
     "name": "stdout",
     "output_type": "stream",
     "text": [
      "Warden John Vickers\n",
      "Master Helen Ghosh\n",
      "Principal John Bowers\n",
      "Dean Martyn Percy\n",
      "President Steven Cowley\n",
      "Rector Rick Trainor\n",
      "Principal Denise Lievesley\n",
      "Principal Ralph Waller\n",
      "Principal Will Hutton\n"
     ]
    }
   ],
   "source": [
    "for head in headsOfHouses.values():\n",
    "    print(head)"
   ]
  },
  {
   "cell_type": "markdown",
   "metadata": {},
   "source": [
    "You could, of course have accessed the *values* through the *keys* anyways:"
   ]
  },
  {
   "cell_type": "code",
   "execution_count": 34,
   "metadata": {},
   "outputs": [
    {
     "name": "stdout",
     "output_type": "stream",
     "text": [
      "All Souls \t\t\t Warden John Vickers\n",
      "Balliol \t\t\t Master Helen Ghosh\n",
      "Brasenose \t\t\t Principal John Bowers\n",
      "Christ Church \t\t\t Dean Martyn Percy\n",
      "Corpus Christi \t\t\t President Steven Cowley\n",
      "Exeter \t\t\t Rector Rick Trainor\n",
      "Green Templeton \t\t\t Principal Denise Lievesley\n",
      "Harris Manchester \t\t\t Principal Ralph Waller\n",
      "Hertford \t\t\t Principal Will Hutton\n"
     ]
    }
   ],
   "source": [
    "for college in headsOfHouses:\n",
    "    head = headsOfHouses[college]\n",
    "    print(college, '\\t\\t\\t' ,head)   # \\t for tab!"
   ]
  },
  {
   "cell_type": "markdown",
   "metadata": {},
   "source": [
    "## Strings are iterable"
   ]
  },
  {
   "cell_type": "code",
   "execution_count": 36,
   "metadata": {},
   "outputs": [
    {
     "name": "stdout",
     "output_type": "stream",
     "text": [
      "H\n",
      "e\n",
      "l\n",
      "l\n",
      "o\n",
      " \n",
      "f\n",
      "r\n",
      "e\n",
      "n\n"
     ]
    }
   ],
   "source": [
    "for char in \"Hello fren\":\n",
    "    print(char)"
   ]
  },
  {
   "cell_type": "code",
   "execution_count": 38,
   "metadata": {},
   "outputs": [
    {
     "name": "stdout",
     "output_type": "stream",
     "text": [
      "2\n",
      "Heo fren\n"
     ]
    }
   ],
   "source": [
    "phrase = \"Hello fren\"\n",
    "Ls_taken = 0\n",
    "for char in phrase:\n",
    "    if char.lower() == 'l':\n",
    "        Ls_taken += 1\n",
    "phrase = phrase.replace('l', '') \n",
    "phrase = phrase.replace('L', '') \n",
    "print(Ls_taken)\n",
    "print(phrase)"
   ]
  },
  {
   "cell_type": "markdown",
   "metadata": {},
   "source": [
    "What does the above program do to the string \"phrase\"? Try changing the string to see what it does!"
   ]
  },
  {
   "cell_type": "markdown",
   "metadata": {},
   "source": [
    "# Exercise 1: list and string exercises"
   ]
  },
  {
   "cell_type": "markdown",
   "metadata": {},
   "source": [
    "Print each college in the colleges list on separate lines with a for-loop"
   ]
  },
  {
   "cell_type": "code",
   "execution_count": 35,
   "metadata": {},
   "outputs": [
    {
     "data": {
      "text/plain": [
       "['All Souls',\n",
       " 'Balliol',\n",
       " 'Brasenose',\n",
       " 'Christ Church',\n",
       " 'Corpus Christi',\n",
       " 'Exeter',\n",
       " 'Green Templeton',\n",
       " 'Harris Manchester',\n",
       " 'Hertford']"
      ]
     },
     "execution_count": 35,
     "metadata": {},
     "output_type": "execute_result"
    }
   ],
   "source": [
    "colleges = list(headsOfHouses.keys())\n",
    "colleges"
   ]
  },
  {
   "cell_type": "code",
   "execution_count": null,
   "metadata": {},
   "outputs": [],
   "source": []
  },
  {
   "cell_type": "code",
   "execution_count": null,
   "metadata": {},
   "outputs": [],
   "source": []
  },
  {
   "cell_type": "markdown",
   "metadata": {},
   "source": [
    "print each college in the colleges list on separate lines, **but backwards, this time!**\n",
    "\n",
    "Hint: there should be multiple ways to do this!"
   ]
  },
  {
   "cell_type": "code",
   "execution_count": null,
   "metadata": {},
   "outputs": [],
   "source": []
  },
  {
   "cell_type": "code",
   "execution_count": null,
   "metadata": {},
   "outputs": [],
   "source": []
  },
  {
   "cell_type": "code",
   "execution_count": null,
   "metadata": {},
   "outputs": [],
   "source": []
  },
  {
   "cell_type": "markdown",
   "metadata": {},
   "source": [
    "sWaP cAsE\n",
    "\n",
    "For this challenge, you should be remind yourself of 3 methods:\n",
    "\n",
    "    str.upper()\n",
    "    str.lower()\n",
    "    str.join(list)\n",
    "    \n",
    "```str.upper()``` returns str but as uppercase\n",
    "\n",
    "```str.lower()``` returns str but as lowercase\n",
    "\n",
    "```str.join(list)``` returns a joined list of strings with str in between:\n",
    "    \n",
    "    list[0] + str + list[1] + str ... + str + list[n]. \n",
    "    \n",
    "\n",
    "Challenge Statement:\n",
    "\n",
    "Take a string and turn it into sWaP CaSe!\n"
   ]
  },
  {
   "cell_type": "code",
   "execution_count": 4,
   "metadata": {},
   "outputs": [],
   "source": []
  },
  {
   "cell_type": "markdown",
   "metadata": {},
   "source": [
    "# Exercise 2: Dictionaries"
   ]
  },
  {
   "cell_type": "code",
   "execution_count": null,
   "metadata": {},
   "outputs": [],
   "source": []
  },
  {
   "cell_type": "code",
   "execution_count": null,
   "metadata": {},
   "outputs": [],
   "source": []
  }
 ],
 "metadata": {
  "kernelspec": {
   "display_name": "Python 3",
   "language": "python",
   "name": "python3"
  },
  "language_info": {
   "codemirror_mode": {
    "name": "ipython",
    "version": 3
   },
   "file_extension": ".py",
   "mimetype": "text/x-python",
   "name": "python",
   "nbconvert_exporter": "python",
   "pygments_lexer": "ipython3",
   "version": "3.6.5"
  }
 },
 "nbformat": 4,
 "nbformat_minor": 2
}
