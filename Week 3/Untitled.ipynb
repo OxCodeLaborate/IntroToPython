{
 "cells": [
  {
   "cell_type": "markdown",
   "metadata": {
    "slideshow": {
     "slide_type": "slide"
    }
   },
   "source": [
    "<h3 align=center>Importing</h3>"
   ]
  },
  {
   "cell_type": "markdown",
   "metadata": {
    "slideshow": {
     "slide_type": "notes"
    }
   },
   "source": [
    "We very often want to type some kind of code that others probably have writen before. We don't need to reinvent the wheel every time we want to make a program, we can simnply  build on what others have made before us. This is where importing can be useful. In Python you can import modules that others have made to use for your own program. Python comes with a standard collection of libraries and modules to import from, but you can find many many more online, or you can even make your own. To import a module that you already have installed you simply call import [name of library]"
   ]
  },
  {
   "cell_type": "code",
   "execution_count": 2,
   "metadata": {
    "collapsed": true,
    "slideshow": {
     "slide_type": "subslide"
    }
   },
   "outputs": [],
   "source": [
    "import smtplib #Sends emails\n",
    "import imapclient #Receives Emails\n",
    "import numpy #Maths and Calculations\n",
    "import matplotlib.pyplot #for plotting \n",
    "import tkinter #for making a user interface\n",
    "import os # a variety of tools that use the operating system you're using \n",
    "# and many many more \n"
   ]
  },
  {
   "cell_type": "markdown",
   "metadata": {
    "slideshow": {
     "slide_type": "slide"
    }
   },
   "source": [
    "<h3 align = center>Protocols</h3>\n",
    "\n",
    "<ul>\n",
    "<li>SMTP</li> \n",
    "<li>IMAP</li>\n",
    "<li>HTTP</li>\n",
    "<li>HTTPS</li>\n",
    "<li>FTP</li>"
   ]
  },
  {
   "cell_type": "markdown",
   "metadata": {
    "slideshow": {
     "slide_type": "notes"
    }
   },
   "source": [
    "In order for computers to communicate with each other we need to first on some kind of etiquette for data exchange to happen. This etiquette is what we call a protocol. There's a massive number of protocols and each have their own purpose. Today, we will learn more about using SMTP and IMAP, which are responsible for sending and receiving emails respectively.|\n"
   ]
  },
  {
   "cell_type": "code",
   "execution_count": null,
   "metadata": {
    "collapsed": true,
    "slideshow": {
     "slide_type": "slide"
    }
   },
   "outputs": [],
   "source": [
    "<h3"
   ]
  },
  {
   "cell_type": "markdown",
   "metadata": {
    "slideshow": {
     "slide_type": "notes"
    }
   },
   "source": [
    "To send emails we need to use SMTP, and in order to do that in Python we need to create an SMTP object which establishes communication with the server.\n",
    "\n",
    "we start with creating the object smtplib.SMTP([Server address], [Port]). Note that we will be connecting to port 587 which means we will be using tls encryption.\n",
    "\n",
    "This might all sound pretty complicated, but that is why we use libraries, so we don't actually have to think about the protocol and instead we can just use it to send emails.\n",
    "\n",
    "After that as part of the protocol, we need to send a hello message, making sure that we can actually commincate with the server we do that through our SMTP object, by using the function smtpObj.ehlo()\n",
    "\n",
    "We then need to establish our encryption since we are using tls. We do that by smtpObj.starttls()\n",
    "\n",
    "we are now set to send and receive emails, all we need to do is login, by using smtpObj.log([Username],[Password])\n",
    "\n",
    "and then send the email by smtpObj.sendmail([to],[from],[email])"
   ]
  },
  {
   "cell_type": "code",
   "execution_count": 3,
   "metadata": {
    "collapsed": false,
    "slideshow": {
     "slide_type": "subslide"
    }
   },
   "outputs": [
    {
     "data": {
      "text/plain": [
       "{}"
      ]
     },
     "execution_count": 3,
     "metadata": {},
     "output_type": "execute_result"
    }
   ],
   "source": [
    "smtpObj = smtplib.SMTP('smtp.gmail.com', 587)\n",
    "smtpObj.ehlo()\n",
    "smtpObj.starttls()\n",
    "smtpObj.login('hazem.hassan4321@gmail.com','N9siQDfn0Ouh')\n",
    "smtpObj.sendmail('hazem.hassan4321@gmail.com','hazem.hassan4321@gmail.com','Subject:So Long.\\n\\n Testing, help')"
   ]
  },
  {
   "cell_type": "code",
   "execution_count": 13,
   "metadata": {
    "collapsed": false
   },
   "outputs": [
    {
     "data": {
      "text/plain": [
       "(220, b'2.0.0 Ready to start TLS')"
      ]
     },
     "execution_count": 13,
     "metadata": {},
     "output_type": "execute_result"
    }
   ],
   "source": []
  },
  {
   "cell_type": "code",
   "execution_count": 14,
   "metadata": {
    "collapsed": false
   },
   "outputs": [
    {
     "data": {
      "text/plain": [
       "(235, b'2.7.0 Accepted')"
      ]
     },
     "execution_count": 14,
     "metadata": {},
     "output_type": "execute_result"
    }
   ],
   "source": []
  },
  {
   "cell_type": "code",
   "execution_count": 25,
   "metadata": {
    "collapsed": false
   },
   "outputs": [
    {
     "data": {
      "text/plain": [
       "{}"
      ]
     },
     "execution_count": 25,
     "metadata": {},
     "output_type": "execute_result"
    }
   ],
   "source": []
  },
  {
   "cell_type": "code",
   "execution_count": 19,
   "metadata": {
    "collapsed": false
   },
   "outputs": [
    {
     "name": "stdout",
     "output_type": "stream",
     "text": [
      "a\n",
      " b\n"
     ]
    }
   ],
   "source": [
    "print('a\\n b')"
   ]
  },
  {
   "cell_type": "code",
   "execution_count": null,
   "metadata": {
    "collapsed": true
   },
   "outputs": [],
   "source": []
  }
 ],
 "metadata": {
  "celltoolbar": "Slideshow",
  "kernelspec": {
   "display_name": "Python 3",
   "language": "python",
   "name": "python3"
  },
  "language_info": {
   "codemirror_mode": {
    "name": "ipython",
    "version": 3
   },
   "file_extension": ".py",
   "mimetype": "text/x-python",
   "name": "python",
   "nbconvert_exporter": "python",
   "pygments_lexer": "ipython3",
   "version": "3.5.1"
  }
 },
 "nbformat": 4,
 "nbformat_minor": 0
}
