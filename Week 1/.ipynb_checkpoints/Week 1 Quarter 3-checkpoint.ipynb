{
 "cells": [
  {
   "cell_type": "markdown",
   "metadata": {
    "colab_type": "text",
    "id": "RudjkYQVrkwI"
   },
   "source": [
    "<h1> Manipulating Datatypes </h1>"
   ]
  },
  {
   "cell_type": "markdown",
   "metadata": {
    "colab_type": "text",
    "id": "tsXgnXnVsATZ"
   },
   "source": [
    "<h2> Not all numbers are created equal </h2>"
   ]
  },
  {
   "cell_type": "code",
   "execution_count": 14,
   "metadata": {
    "colab": {
     "base_uri": "https://localhost:8080/",
     "height": 34
    },
    "colab_type": "code",
    "collapsed": false,
    "executionInfo": {
     "elapsed": 259,
     "status": "ok",
     "timestamp": 1531957647334,
     "user": {
      "displayName": "William Hartemink",
      "photoUrl": "https://lh3.googleusercontent.com/a/default-user=s128",
      "userId": "117653304702534641755"
     },
     "user_tz": 240
    },
    "id": "PALTbThfr_Au",
    "outputId": "eed64ffd-de99-447e-f57a-b18af775403e"
   },
   "outputs": [
    {
     "data": {
      "text/plain": [
       "True"
      ]
     },
     "execution_count": 14,
     "metadata": {
      "tags": []
     },
     "output_type": "execute_result"
    }
   ],
   "source": [
    "5 == 5"
   ]
  },
  {
   "cell_type": "markdown",
   "metadata": {
    "colab_type": "text",
    "id": "QxYNU9Lhy12c"
   },
   "source": [
    "Note that '==' is different from '='.\n",
    "\n",
    "'=' tells the computer to store a value in a variable\n",
    "\n",
    "'==' tells the computer to compare two different values and determine if they are the same or not"
   ]
  },
  {
   "cell_type": "code",
   "execution_count": 15,
   "metadata": {
    "colab": {
     "base_uri": "https://localhost:8080/",
     "height": 34
    },
    "colab_type": "code",
    "collapsed": false,
    "executionInfo": {
     "elapsed": 370,
     "status": "ok",
     "timestamp": 1531957647838,
     "user": {
      "displayName": "William Hartemink",
      "photoUrl": "https://lh3.googleusercontent.com/a/default-user=s128",
      "userId": "117653304702534641755"
     },
     "user_tz": 240
    },
    "id": "fpA7MPNqsSNZ",
    "outputId": "78646e17-b6b8-401f-a1bd-1e01755eda9b"
   },
   "outputs": [
    {
     "data": {
      "text/plain": [
       "True"
      ]
     },
     "execution_count": 15,
     "metadata": {
      "tags": []
     },
     "output_type": "execute_result"
    }
   ],
   "source": [
    "5 == 5.00"
   ]
  },
  {
   "cell_type": "code",
   "execution_count": 0,
   "metadata": {
    "colab": {},
    "colab_type": "code",
    "collapsed": true,
    "id": "R00eFml2sVfl"
   },
   "outputs": [],
   "source": [
    "x = 5"
   ]
  },
  {
   "cell_type": "code",
   "execution_count": 17,
   "metadata": {
    "colab": {
     "base_uri": "https://localhost:8080/",
     "height": 34
    },
    "colab_type": "code",
    "collapsed": false,
    "executionInfo": {
     "elapsed": 442,
     "status": "ok",
     "timestamp": 1531957650566,
     "user": {
      "displayName": "William Hartemink",
      "photoUrl": "https://lh3.googleusercontent.com/a/default-user=s128",
      "userId": "117653304702534641755"
     },
     "user_tz": 240
    },
    "id": "vGg0dJazsXhc",
    "outputId": "7cdbd7d3-086f-42e8-8787-62c9f93427c4"
   },
   "outputs": [
    {
     "data": {
      "text/plain": [
       "True"
      ]
     },
     "execution_count": 17,
     "metadata": {
      "tags": []
     },
     "output_type": "execute_result"
    }
   ],
   "source": [
    "x is 5"
   ]
  },
  {
   "cell_type": "code",
   "execution_count": 18,
   "metadata": {
    "colab": {
     "base_uri": "https://localhost:8080/",
     "height": 34
    },
    "colab_type": "code",
    "collapsed": false,
    "executionInfo": {
     "elapsed": 256,
     "status": "ok",
     "timestamp": 1531957651399,
     "user": {
      "displayName": "William Hartemink",
      "photoUrl": "https://lh3.googleusercontent.com/a/default-user=s128",
      "userId": "117653304702534641755"
     },
     "user_tz": 240
    },
    "id": "rkCTeJuRxoI3",
    "outputId": "dcb807d0-88ab-4446-e099-0541543f72e1"
   },
   "outputs": [
    {
     "data": {
      "text/plain": [
       "False"
      ]
     },
     "execution_count": 18,
     "metadata": {
      "tags": []
     },
     "output_type": "execute_result"
    }
   ],
   "source": [
    "x is 5.00"
   ]
  },
  {
   "cell_type": "markdown",
   "metadata": {
    "colab_type": "text",
    "id": "GL6mv--Wyr8N"
   },
   "source": [
    "While the computer sees x and 5 as mathematically equal, the computer is able to disinguish between the two. \n",
    "\n",
    "So what's the difference?"
   ]
  },
  {
   "cell_type": "markdown",
   "metadata": {
    "colab_type": "text",
    "id": "OIs_D8LjzNjs"
   },
   "source": [
    "<h2> Ints vs. floats </h2> "
   ]
  },
  {
   "cell_type": "code",
   "execution_count": 19,
   "metadata": {
    "colab": {
     "base_uri": "https://localhost:8080/",
     "height": 34
    },
    "colab_type": "code",
    "collapsed": false,
    "executionInfo": {
     "elapsed": 296,
     "status": "ok",
     "timestamp": 1531957833263,
     "user": {
      "displayName": "William Hartemink",
      "photoUrl": "https://lh3.googleusercontent.com/a/default-user=s128",
      "userId": "117653304702534641755"
     },
     "user_tz": 240
    },
    "id": "nb0gJQGzzRw0",
    "outputId": "7875ad6f-5056-4649-a1fa-c7dc9aca31db"
   },
   "outputs": [
    {
     "data": {
      "text/plain": [
       "int"
      ]
     },
     "execution_count": 19,
     "metadata": {
      "tags": []
     },
     "output_type": "execute_result"
    }
   ],
   "source": [
    "x = 5\n",
    "type(x)"
   ]
  },
  {
   "cell_type": "markdown",
   "metadata": {
    "colab_type": "text",
    "id": "BxVVkBCn0JR7"
   },
   "source": [
    "Ints are just what they sound like: Integers (whole numbers)!\n",
    "\n",
    "The math done with them tends to be exact."
   ]
  },
  {
   "cell_type": "code",
   "execution_count": 20,
   "metadata": {
    "colab": {
     "base_uri": "https://localhost:8080/",
     "height": 34
    },
    "colab_type": "code",
    "collapsed": false,
    "executionInfo": {
     "elapsed": 457,
     "status": "ok",
     "timestamp": 1531957840845,
     "user": {
      "displayName": "William Hartemink",
      "photoUrl": "https://lh3.googleusercontent.com/a/default-user=s128",
      "userId": "117653304702534641755"
     },
     "user_tz": 240
    },
    "id": "uUX53eoyzWyX",
    "outputId": "404233ba-6e66-4d09-8f98-3923baa9b8d5"
   },
   "outputs": [
    {
     "data": {
      "text/plain": [
       "float"
      ]
     },
     "execution_count": 20,
     "metadata": {
      "tags": []
     },
     "output_type": "execute_result"
    }
   ],
   "source": [
    "y = 5.00\n",
    "type(y)"
   ]
  },
  {
   "cell_type": "markdown",
   "metadata": {
    "colab_type": "text",
    "id": "0mnlWNQPz1CI"
   },
   "source": [
    "You can convert between the two!"
   ]
  },
  {
   "cell_type": "code",
   "execution_count": 21,
   "metadata": {
    "colab": {
     "base_uri": "https://localhost:8080/",
     "height": 34
    },
    "colab_type": "code",
    "collapsed": false,
    "executionInfo": {
     "elapsed": 250,
     "status": "ok",
     "timestamp": 1531957976186,
     "user": {
      "displayName": "William Hartemink",
      "photoUrl": "https://lh3.googleusercontent.com/a/default-user=s128",
      "userId": "117653304702534641755"
     },
     "user_tz": 240
    },
    "id": "5-CcNlbpz21g",
    "outputId": "05e30c89-fe4c-46d3-e1d0-ff81db7bedc2"
   },
   "outputs": [
    {
     "data": {
      "text/plain": [
       "float"
      ]
     },
     "execution_count": 21,
     "metadata": {
      "tags": []
     },
     "output_type": "execute_result"
    }
   ],
   "source": [
    "x = float(x)\n",
    "type(x)"
   ]
  },
  {
   "cell_type": "code",
   "execution_count": 22,
   "metadata": {
    "colab": {
     "base_uri": "https://localhost:8080/",
     "height": 34
    },
    "colab_type": "code",
    "collapsed": false,
    "executionInfo": {
     "elapsed": 276,
     "status": "ok",
     "timestamp": 1531957976734,
     "user": {
      "displayName": "William Hartemink",
      "photoUrl": "https://lh3.googleusercontent.com/a/default-user=s128",
      "userId": "117653304702534641755"
     },
     "user_tz": 240
    },
    "id": "y6Oa0LwZz5si",
    "outputId": "0018f807-44e4-41b7-ec3e-1e812cb047fc"
   },
   "outputs": [
    {
     "data": {
      "text/plain": [
       "5.0"
      ]
     },
     "execution_count": 22,
     "metadata": {
      "tags": []
     },
     "output_type": "execute_result"
    }
   ],
   "source": [
    "x"
   ]
  },
  {
   "cell_type": "code",
   "execution_count": 24,
   "metadata": {
    "colab": {
     "base_uri": "https://localhost:8080/",
     "height": 34
    },
    "colab_type": "code",
    "collapsed": false,
    "executionInfo": {
     "elapsed": 324,
     "status": "ok",
     "timestamp": 1531958006561,
     "user": {
      "displayName": "William Hartemink",
      "photoUrl": "https://lh3.googleusercontent.com/a/default-user=s128",
      "userId": "117653304702534641755"
     },
     "user_tz": 240
    },
    "id": "Dnn5MDcbz96_",
    "outputId": "e4dfd2f4-438a-4164-e60c-f45435f70548"
   },
   "outputs": [
    {
     "data": {
      "text/plain": [
       "int"
      ]
     },
     "execution_count": 24,
     "metadata": {
      "tags": []
     },
     "output_type": "execute_result"
    }
   ],
   "source": [
    "y = int(y)\n",
    "type(y)"
   ]
  },
  {
   "cell_type": "markdown",
   "metadata": {
    "colab_type": "text",
    "id": "-ovc_a-704tW"
   },
   "source": [
    "<h2> Strings </h2>\n",
    "  \n",
    "  At this point, you've also met strings, which are capable of storing text like this."
   ]
  },
  {
   "cell_type": "code",
   "execution_count": 26,
   "metadata": {
    "colab": {
     "base_uri": "https://localhost:8080/",
     "height": 34
    },
    "colab_type": "code",
    "collapsed": false,
    "executionInfo": {
     "elapsed": 275,
     "status": "ok",
     "timestamp": 1531958348010,
     "user": {
      "displayName": "William Hartemink",
      "photoUrl": "https://lh3.googleusercontent.com/a/default-user=s128",
      "userId": "117653304702534641755"
     },
     "user_tz": 240
    },
    "id": "psq50KUn0BF9",
    "outputId": "cb20f71f-586f-408c-b5e5-03ce5f9bb04e"
   },
   "outputs": [
    {
     "data": {
      "text/plain": [
       "str"
      ]
     },
     "execution_count": 26,
     "metadata": {
      "tags": []
     },
     "output_type": "execute_result"
    }
   ],
   "source": [
    "type('5')"
   ]
  },
  {
   "cell_type": "code",
   "execution_count": 27,
   "metadata": {
    "colab": {
     "base_uri": "https://localhost:8080/",
     "height": 34
    },
    "colab_type": "code",
    "collapsed": false,
    "executionInfo": {
     "elapsed": 560,
     "status": "ok",
     "timestamp": 1531958356724,
     "user": {
      "displayName": "William Hartemink",
      "photoUrl": "https://lh3.googleusercontent.com/a/default-user=s128",
      "userId": "117653304702534641755"
     },
     "user_tz": 240
    },
    "id": "xzEMxgEg0B6Z",
    "outputId": "eae1e523-ffdc-4866-ade1-2a165a51ae7f"
   },
   "outputs": [
    {
     "data": {
      "text/plain": [
       "'5.0'"
      ]
     },
     "execution_count": 27,
     "metadata": {
      "tags": []
     },
     "output_type": "execute_result"
    }
   ],
   "source": [
    "str(5.00)"
   ]
  },
  {
   "cell_type": "markdown",
   "metadata": {
    "colab_type": "text",
    "id": "kmLMEXij2t9d"
   },
   "source": [
    "<h2> Why different data types? </h2>"
   ]
  },
  {
   "cell_type": "markdown",
   "metadata": {
    "colab_type": "text",
    "id": "B_CuoOEq2CXV"
   },
   "source": [
    "With different data types, now the same operator can take on a different meaning.\n",
    "\n",
    "For instance, by using subscripts, you can access specific parts of a string"
   ]
  },
  {
   "cell_type": "code",
   "execution_count": 30,
   "metadata": {
    "colab": {
     "base_uri": "https://localhost:8080/",
     "height": 34
    },
    "colab_type": "code",
    "collapsed": false,
    "executionInfo": {
     "elapsed": 294,
     "status": "ok",
     "timestamp": 1531958593979,
     "user": {
      "displayName": "William Hartemink",
      "photoUrl": "https://lh3.googleusercontent.com/a/default-user=s128",
      "userId": "117653304702534641755"
     },
     "user_tz": 240
    },
    "id": "DqU5ab4Q1_Y_",
    "outputId": "fa93c6d9-bb83-46bc-f546-c2a3d7e457be"
   },
   "outputs": [
    {
     "name": "stdout",
     "output_type": "stream",
     "text": [
      "H\n"
     ]
    }
   ],
   "source": [
    "first_letter = \"Hi, my name is William\"[0]\n",
    "\n",
    "print(first_letter)"
   ]
  },
  {
   "cell_type": "markdown",
   "metadata": {
    "colab_type": "text",
    "id": "FLQh4qal2UTy"
   },
   "source": [
    "Subscripts have no meaning for ints and floats"
   ]
  },
  {
   "cell_type": "code",
   "execution_count": 31,
   "metadata": {
    "colab": {
     "base_uri": "https://localhost:8080/",
     "height": 164
    },
    "colab_type": "code",
    "collapsed": false,
    "executionInfo": {
     "elapsed": 422,
     "status": "error",
     "timestamp": 1531958633985,
     "user": {
      "displayName": "William Hartemink",
      "photoUrl": "https://lh3.googleusercontent.com/a/default-user=s128",
      "userId": "117653304702534641755"
     },
     "user_tz": 240
    },
    "id": "QIEv43lU2QhH",
    "outputId": "f70d1bc2-5660-45db-9538-6b6c3851d86c"
   },
   "outputs": [
    {
     "ename": "TypeError",
     "evalue": "ignored",
     "output_type": "error",
     "traceback": [
      "\u001b[0;31m---------------------------------------------------------------------------\u001b[0m",
      "\u001b[0;31mTypeError\u001b[0m                                 Traceback (most recent call last)",
      "\u001b[0;32m<ipython-input-31-9e7a577d789e>\u001b[0m in \u001b[0;36m<module>\u001b[0;34m()\u001b[0m\n\u001b[0;32m----> 1\u001b[0;31m \u001b[0mfirst_number\u001b[0m \u001b[0;34m=\u001b[0m \u001b[0;36m125\u001b[0m\u001b[0;34m[\u001b[0m\u001b[0;36m0\u001b[0m\u001b[0;34m]\u001b[0m\u001b[0;34m\u001b[0m\u001b[0m\n\u001b[0m",
      "\u001b[0;31mTypeError\u001b[0m: 'int' object is not subscriptable"
     ]
    }
   ],
   "source": [
    "first_number = 125[0]"
   ]
  },
  {
   "cell_type": "code",
   "execution_count": 32,
   "metadata": {
    "colab": {
     "base_uri": "https://localhost:8080/",
     "height": 164
    },
    "colab_type": "code",
    "collapsed": false,
    "executionInfo": {
     "elapsed": 307,
     "status": "error",
     "timestamp": 1531958647337,
     "user": {
      "displayName": "William Hartemink",
      "photoUrl": "https://lh3.googleusercontent.com/a/default-user=s128",
      "userId": "117653304702534641755"
     },
     "user_tz": 240
    },
    "id": "2hBaE0_Z2aQN",
    "outputId": "92f070a3-ff6b-46cd-f236-da47f5711b72"
   },
   "outputs": [
    {
     "ename": "TypeError",
     "evalue": "ignored",
     "output_type": "error",
     "traceback": [
      "\u001b[0;31m---------------------------------------------------------------------------\u001b[0m",
      "\u001b[0;31mTypeError\u001b[0m                                 Traceback (most recent call last)",
      "\u001b[0;32m<ipython-input-32-cfdb3f23d817>\u001b[0m in \u001b[0;36m<module>\u001b[0;34m()\u001b[0m\n\u001b[0;32m----> 1\u001b[0;31m \u001b[0mfirst_number\u001b[0m \u001b[0;34m=\u001b[0m \u001b[0;36m129438579.298374\u001b[0m\u001b[0;34m[\u001b[0m\u001b[0;36m0\u001b[0m\u001b[0;34m]\u001b[0m\u001b[0;34m\u001b[0m\u001b[0m\n\u001b[0m",
      "\u001b[0;31mTypeError\u001b[0m: 'float' object is not subscriptable"
     ]
    }
   ],
   "source": [
    "first_number = 129438579.298374[0]"
   ]
  },
  {
   "cell_type": "markdown",
   "metadata": {
    "colab_type": "text",
    "id": "MIcOBapV2-WU"
   },
   "source": [
    "But multiplication has meaning for ints, floats, and strings. And for strings, it might not be what you expect!"
   ]
  },
  {
   "cell_type": "code",
   "execution_count": 35,
   "metadata": {
    "colab": {
     "base_uri": "https://localhost:8080/",
     "height": 34
    },
    "colab_type": "code",
    "collapsed": false,
    "executionInfo": {
     "elapsed": 622,
     "status": "ok",
     "timestamp": 1531958920754,
     "user": {
      "displayName": "William Hartemink",
      "photoUrl": "https://lh3.googleusercontent.com/a/default-user=s128",
      "userId": "117653304702534641755"
     },
     "user_tz": 240
    },
    "id": "PAzmkQ8J2dib",
    "outputId": "4429f6e9-f483-41df-d523-4f5b69318b26"
   },
   "outputs": [
    {
     "data": {
      "text/plain": [
       "'202020'"
      ]
     },
     "execution_count": 35,
     "metadata": {
      "tags": []
     },
     "output_type": "execute_result"
    }
   ],
   "source": [
    "3*str(20)"
   ]
  },
  {
   "cell_type": "markdown",
   "metadata": {
    "colab_type": "text",
    "id": "0MH-la433cEU"
   },
   "source": [
    "Addition is also defined."
   ]
  },
  {
   "cell_type": "code",
   "execution_count": 37,
   "metadata": {
    "colab": {
     "base_uri": "https://localhost:8080/",
     "height": 34
    },
    "colab_type": "code",
    "collapsed": false,
    "executionInfo": {
     "elapsed": 322,
     "status": "ok",
     "timestamp": 1531958934683,
     "user": {
      "displayName": "William Hartemink",
      "photoUrl": "https://lh3.googleusercontent.com/a/default-user=s128",
      "userId": "117653304702534641755"
     },
     "user_tz": 240
    },
    "id": "umygRjj43Tti",
    "outputId": "4d2f04cb-986b-4831-9f77-f01899004681"
   },
   "outputs": [
    {
     "data": {
      "text/plain": [
       "'2030'"
      ]
     },
     "execution_count": 37,
     "metadata": {
      "tags": []
     },
     "output_type": "execute_result"
    }
   ],
   "source": [
    "'20' + '30'"
   ]
  },
  {
   "cell_type": "code",
   "execution_count": 38,
   "metadata": {
    "colab": {
     "base_uri": "https://localhost:8080/",
     "height": 34
    },
    "colab_type": "code",
    "collapsed": false,
    "executionInfo": {
     "elapsed": 320,
     "status": "ok",
     "timestamp": 1531959156443,
     "user": {
      "displayName": "William Hartemink",
      "photoUrl": "https://lh3.googleusercontent.com/a/default-user=s128",
      "userId": "117653304702534641755"
     },
     "user_tz": 240
    },
    "id": "4EXNwqjY3h96",
    "outputId": "24244d0c-4025-486e-fded-2daa62a44596"
   },
   "outputs": [
    {
     "data": {
      "text/plain": [
       "'Hello World'"
      ]
     },
     "execution_count": 38,
     "metadata": {
      "tags": []
     },
     "output_type": "execute_result"
    }
   ],
   "source": [
    "\"Hello\" + \" World\""
   ]
  },
  {
   "cell_type": "markdown",
   "metadata": {
    "colab_type": "text",
    "id": "LcjGJVbr4bK9"
   },
   "source": [
    "The computer doesn't care what's between the quotes, it will just put it together in the same way."
   ]
  },
  {
   "cell_type": "markdown",
   "metadata": {
    "colab_type": "text",
    "id": "uvapjY_SBBqF"
   },
   "source": [
    "<h3> String slicing </h3>\n",
    "\n",
    "With string slicing, you can take whatever pieces of a string you want! The important thing to notice is that we start counting from zero! This is a common pattern in programming languages"
   ]
  },
  {
   "cell_type": "code",
   "execution_count": 14,
   "metadata": {
    "colab": {
     "base_uri": "https://localhost:8080/",
     "height": 34
    },
    "colab_type": "code",
    "collapsed": false,
    "executionInfo": {
     "elapsed": 267,
     "status": "ok",
     "timestamp": 1532716669427,
     "user": {
      "displayName": "William Hartemink",
      "photoUrl": "https://lh3.googleusercontent.com/a/default-user=s128",
      "userId": "117653304702534641755"
     },
     "user_tz": 240
    },
    "id": "V1_zwvQrBAkx",
    "outputId": "ef1966c5-ff78-41d0-d996-e53396a3b742"
   },
   "outputs": [
    {
     "data": {
      "text/plain": [
       "'T'"
      ]
     },
     "execution_count": 14,
     "metadata": {
      "tags": []
     },
     "output_type": "execute_result"
    }
   ],
   "source": [
    "string = \"This is my string\"\n",
    "string[0]"
   ]
  },
  {
   "cell_type": "code",
   "execution_count": 15,
   "metadata": {
    "colab": {
     "base_uri": "https://localhost:8080/",
     "height": 34
    },
    "colab_type": "code",
    "collapsed": false,
    "executionInfo": {
     "elapsed": 456,
     "status": "ok",
     "timestamp": 1532716679540,
     "user": {
      "displayName": "William Hartemink",
      "photoUrl": "https://lh3.googleusercontent.com/a/default-user=s128",
      "userId": "117653304702534641755"
     },
     "user_tz": 240
    },
    "id": "7cFfbl0dCGhX",
    "outputId": "d13b8443-b8d2-4ee6-e05b-4063b30ec104"
   },
   "outputs": [
    {
     "data": {
      "text/plain": [
       "'h'"
      ]
     },
     "execution_count": 15,
     "metadata": {
      "tags": []
     },
     "output_type": "execute_result"
    }
   ],
   "source": [
    "string[1]"
   ]
  },
  {
   "cell_type": "markdown",
   "metadata": {
    "colab_type": "text",
    "id": "VU7Lpd0sCK__"
   },
   "source": [
    "Spaces count too!"
   ]
  },
  {
   "cell_type": "code",
   "execution_count": 16,
   "metadata": {
    "colab": {
     "base_uri": "https://localhost:8080/",
     "height": 34
    },
    "colab_type": "code",
    "collapsed": false,
    "executionInfo": {
     "elapsed": 213,
     "status": "ok",
     "timestamp": 1532716686443,
     "user": {
      "displayName": "William Hartemink",
      "photoUrl": "https://lh3.googleusercontent.com/a/default-user=s128",
      "userId": "117653304702534641755"
     },
     "user_tz": 240
    },
    "id": "Ux3x9OlmCI6l",
    "outputId": "70302e37-efdb-4ceb-c62d-c3ad32775b39"
   },
   "outputs": [
    {
     "data": {
      "text/plain": [
       "' '"
      ]
     },
     "execution_count": 16,
     "metadata": {
      "tags": []
     },
     "output_type": "execute_result"
    }
   ],
   "source": [
    "string[4]"
   ]
  },
  {
   "cell_type": "markdown",
   "metadata": {
    "colab_type": "text",
    "id": "Bg5WMRs4CNNx"
   },
   "source": [
    "You can also use the colon \":\", which means \"everything\" or \"everything between\""
   ]
  },
  {
   "cell_type": "code",
   "execution_count": 17,
   "metadata": {
    "colab": {
     "base_uri": "https://localhost:8080/",
     "height": 34
    },
    "colab_type": "code",
    "collapsed": false,
    "executionInfo": {
     "elapsed": 268,
     "status": "ok",
     "timestamp": 1532716763728,
     "user": {
      "displayName": "William Hartemink",
      "photoUrl": "https://lh3.googleusercontent.com/a/default-user=s128",
      "userId": "117653304702534641755"
     },
     "user_tz": 240
    },
    "id": "YoJuILePCUAp",
    "outputId": "9baaa3bf-afdd-48f1-e434-6a22daacca04"
   },
   "outputs": [
    {
     "data": {
      "text/plain": [
       "'This is my string'"
      ]
     },
     "execution_count": 17,
     "metadata": {
      "tags": []
     },
     "output_type": "execute_result"
    }
   ],
   "source": [
    "string[:]"
   ]
  },
  {
   "cell_type": "code",
   "execution_count": 18,
   "metadata": {
    "colab": {
     "base_uri": "https://localhost:8080/",
     "height": 34
    },
    "colab_type": "code",
    "collapsed": false,
    "executionInfo": {
     "elapsed": 217,
     "status": "ok",
     "timestamp": 1532716772356,
     "user": {
      "displayName": "William Hartemink",
      "photoUrl": "https://lh3.googleusercontent.com/a/default-user=s128",
      "userId": "117653304702534641755"
     },
     "user_tz": 240
    },
    "id": "3a_OtorECdOz",
    "outputId": "93d3e917-7944-4255-b66c-10c2b2200fd0"
   },
   "outputs": [
    {
     "data": {
      "text/plain": [
       "'This '"
      ]
     },
     "execution_count": 18,
     "metadata": {
      "tags": []
     },
     "output_type": "execute_result"
    }
   ],
   "source": [
    "string[:5]"
   ]
  },
  {
   "cell_type": "code",
   "execution_count": 19,
   "metadata": {
    "colab": {
     "base_uri": "https://localhost:8080/",
     "height": 34
    },
    "colab_type": "code",
    "collapsed": false,
    "executionInfo": {
     "elapsed": 240,
     "status": "ok",
     "timestamp": 1532716779412,
     "user": {
      "displayName": "William Hartemink",
      "photoUrl": "https://lh3.googleusercontent.com/a/default-user=s128",
      "userId": "117653304702534641755"
     },
     "user_tz": 240
    },
    "id": "Lh-9vs-YCfW0",
    "outputId": "1051925d-063e-4f1c-e2db-e13e959878b1"
   },
   "outputs": [
    {
     "data": {
      "text/plain": [
       "'is my'"
      ]
     },
     "execution_count": 19,
     "metadata": {
      "tags": []
     },
     "output_type": "execute_result"
    }
   ],
   "source": [
    "string[5:10]"
   ]
  },
  {
   "cell_type": "markdown",
   "metadata": {
    "colab_type": "text",
    "id": "6wgqGg3NCS7q"
   },
   "source": [
    "You can even use... negative indexes??"
   ]
  },
  {
   "cell_type": "code",
   "execution_count": 20,
   "metadata": {
    "colab": {
     "base_uri": "https://localhost:8080/",
     "height": 34
    },
    "colab_type": "code",
    "collapsed": false,
    "executionInfo": {
     "elapsed": 221,
     "status": "ok",
     "timestamp": 1532716799932,
     "user": {
      "displayName": "William Hartemink",
      "photoUrl": "https://lh3.googleusercontent.com/a/default-user=s128",
      "userId": "117653304702534641755"
     },
     "user_tz": 240
    },
    "id": "KpjiaOtGCkOk",
    "outputId": "0e0124d3-3dd2-41c0-b288-75d08753b42b"
   },
   "outputs": [
    {
     "data": {
      "text/plain": [
       "'g'"
      ]
     },
     "execution_count": 20,
     "metadata": {
      "tags": []
     },
     "output_type": "execute_result"
    }
   ],
   "source": [
    "string[-1]"
   ]
  },
  {
   "cell_type": "code",
   "execution_count": 21,
   "metadata": {
    "colab": {
     "base_uri": "https://localhost:8080/",
     "height": 34
    },
    "colab_type": "code",
    "collapsed": false,
    "executionInfo": {
     "elapsed": 237,
     "status": "ok",
     "timestamp": 1532716805834,
     "user": {
      "displayName": "William Hartemink",
      "photoUrl": "https://lh3.googleusercontent.com/a/default-user=s128",
      "userId": "117653304702534641755"
     },
     "user_tz": 240
    },
    "id": "Fn3XqAQ4Cl9x",
    "outputId": "64a270e5-6f10-44b5-b949-6b54b5a2fa68"
   },
   "outputs": [
    {
     "data": {
      "text/plain": [
       "'n'"
      ]
     },
     "execution_count": 21,
     "metadata": {
      "tags": []
     },
     "output_type": "execute_result"
    }
   ],
   "source": [
    "string[-2]"
   ]
  },
  {
   "cell_type": "code",
   "execution_count": 0,
   "metadata": {
    "colab": {},
    "colab_type": "code",
    "collapsed": true,
    "id": "zt9LZYB1Cqyz"
   },
   "outputs": [],
   "source": [
    "x = ''.join([str(i) for i in range(1000)]) # kinda ignore this, I just added together all of the numbers to 1000"
   ]
  },
  {
   "cell_type": "code",
   "execution_count": 29,
   "metadata": {
    "colab": {
     "base_uri": "https://localhost:8080/",
     "height": 54
    },
    "colab_type": "code",
    "collapsed": false,
    "executionInfo": {
     "elapsed": 262,
     "status": "ok",
     "timestamp": 1532716893991,
     "user": {
      "displayName": "William Hartemink",
      "photoUrl": "https://lh3.googleusercontent.com/a/default-user=s128",
      "userId": "117653304702534641755"
     },
     "user_tz": 240
    },
    "id": "Pge91AKKC2q_",
    "outputId": "5d17bce3-5a4c-4c1e-9775-7778359b7237"
   },
   "outputs": [
    {
     "data": {
      "text/plain": [
       "'0123456789101112131415161718192021222324252627282930313233343536373839404142434445464748495051525354555657585960616263646566676869707172737475767778798081828384858687888990919293949596979899100101102103104105106107108109110111112113114115116117118119120121122123124125126127128129130131132133134135136137138139140141142143144145146147148149150151152153154155156157158159160161162163164165166167168169170171172173174175176177178179180181182183184185186187188189190191192193194195196197198199200201202203204205206207208209210211212213214215216217218219220221222223224225226227228229230231232233234235236237238239240241242243244245246247248249250251252253254255256257258259260261262263264265266267268269270271272273274275276277278279280281282283284285286287288289290291292293294295296297298299300301302303304305306307308309310311312313314315316317318319320321322323324325326327328329330331332333334335336337338339340341342343344345346347348349350351352353354355356357358359360361362363364365366367368369370371372373374375376377378379380381382383384385386387388389390391392393394395396397398399400401402403404405406407408409410411412413414415416417418419420421422423424425426427428429430431432433434435436437438439440441442443444445446447448449450451452453454455456457458459460461462463464465466467468469470471472473474475476477478479480481482483484485486487488489490491492493494495496497498499500501502503504505506507508509510511512513514515516517518519520521522523524525526527528529530531532533534535536537538539540541542543544545546547548549550551552553554555556557558559560561562563564565566567568569570571572573574575576577578579580581582583584585586587588589590591592593594595596597598599600601602603604605606607608609610611612613614615616617618619620621622623624625626627628629630631632633634635636637638639640641642643644645646647648649650651652653654655656657658659660661662663664665666667668669670671672673674675676677678679680681682683684685686687688689690691692693694695696697698699700701702703704705706707708709710711712713714715716717718719720721722723724725726727728729730731732733734735736737738739740741742743744745746747748749750751752753754755756757758759760761762763764765766767768769770771772773774775776777778779780781782783784785786787788789790791792793794795796797798799800801802803804805806807808809810811812813814815816817818819820821822823824825826827828829830831832833834835836837838839840841842843844845846847848849850851852853854855856857858859860861862863864865866867868869870871872873874875876877878879880881882883884885886887888889890891892893894895896897898899900901902903904905906907908909910911912913914915916917918919920921922923924925926927928929930931932933934935936937938939940941942943944945946947948949950951952953954955956957958959960961962963964965966967968969970971972973974975976977978979980981982983984985986987988989990991992993994995996997998999'"
      ]
     },
     "execution_count": 29,
     "metadata": {
      "tags": []
     },
     "output_type": "execute_result"
    }
   ],
   "source": [
    "x"
   ]
  },
  {
   "cell_type": "code",
   "execution_count": 30,
   "metadata": {
    "colab": {
     "base_uri": "https://localhost:8080/",
     "height": 34
    },
    "colab_type": "code",
    "collapsed": false,
    "executionInfo": {
     "elapsed": 533,
     "status": "ok",
     "timestamp": 1532716937010,
     "user": {
      "displayName": "William Hartemink",
      "photoUrl": "https://lh3.googleusercontent.com/a/default-user=s128",
      "userId": "117653304702534641755"
     },
     "user_tz": 240
    },
    "id": "4vUvniDWDEks",
    "outputId": "f7bb509d-6692-4c93-91ba-726cab42f42b"
   },
   "outputs": [
    {
     "data": {
      "text/plain": [
       "'10111213141516171819202122232425262728293031323334'"
      ]
     },
     "execution_count": 30,
     "metadata": {
      "tags": []
     },
     "output_type": "execute_result"
    }
   ],
   "source": [
    "x[10:60]"
   ]
  },
  {
   "cell_type": "markdown",
   "metadata": {
    "colab_type": "text",
    "id": "ui1jJYbODMwu"
   },
   "source": [
    "The third input is \"step\"\n",
    "\n",
    "so we have, \"start, stop, step\"!"
   ]
  },
  {
   "cell_type": "code",
   "execution_count": 31,
   "metadata": {
    "colab": {
     "base_uri": "https://localhost:8080/",
     "height": 34
    },
    "colab_type": "code",
    "collapsed": false,
    "executionInfo": {
     "elapsed": 250,
     "status": "ok",
     "timestamp": 1532716951421,
     "user": {
      "displayName": "William Hartemink",
      "photoUrl": "https://lh3.googleusercontent.com/a/default-user=s128",
      "userId": "117653304702534641755"
     },
     "user_tz": 240
    },
    "id": "_lPZqCnoDHk1",
    "outputId": "2cb60603-2a76-46a6-b568-2c61fc98a272"
   },
   "outputs": [
    {
     "data": {
      "text/plain": [
       "'1111111111222222222233333'"
      ]
     },
     "execution_count": 31,
     "metadata": {
      "tags": []
     },
     "output_type": "execute_result"
    }
   ],
   "source": [
    "x[10:60:2]"
   ]
  },
  {
   "cell_type": "code",
   "execution_count": 32,
   "metadata": {
    "colab": {
     "base_uri": "https://localhost:8080/",
     "height": 34
    },
    "colab_type": "code",
    "collapsed": false,
    "executionInfo": {
     "elapsed": 280,
     "status": "ok",
     "timestamp": 1532717016582,
     "user": {
      "displayName": "William Hartemink",
      "photoUrl": "https://lh3.googleusercontent.com/a/default-user=s128",
      "userId": "117653304702534641755"
     },
     "user_tz": 240
    },
    "id": "tDBIwWr-DV-a",
    "outputId": "0b80ecf7-adb1-40b5-d46a-19e648d5febe"
   },
   "outputs": [
    {
     "data": {
      "text/plain": [
       "'1111111111222222222233333'"
      ]
     },
     "execution_count": 32,
     "metadata": {
      "tags": []
     },
     "output_type": "execute_result"
    }
   ],
   "source": [
    "start = 10\n",
    "stop = 60\n",
    "step = 2\n",
    "x[start:stop:step]"
   ]
  },
  {
   "cell_type": "markdown",
   "metadata": {
    "colab_type": "text",
    "id": "_DGWABWaDcwr"
   },
   "source": [
    "You can even make your step go backwards!!"
   ]
  },
  {
   "cell_type": "code",
   "execution_count": 34,
   "metadata": {
    "colab": {
     "base_uri": "https://localhost:8080/",
     "height": 34
    },
    "colab_type": "code",
    "collapsed": false,
    "executionInfo": {
     "elapsed": 248,
     "status": "ok",
     "timestamp": 1532717058105,
     "user": {
      "displayName": "William Hartemink",
      "photoUrl": "https://lh3.googleusercontent.com/a/default-user=s128",
      "userId": "117653304702534641755"
     },
     "user_tz": 240
    },
    "id": "yQNP1nWyDbrU",
    "outputId": "b1e58ecc-537b-4934-c1d9-94ef265e94ef"
   },
   "outputs": [
    {
     "data": {
      "text/plain": [
       "'1987654321'"
      ]
     },
     "execution_count": 34,
     "metadata": {
      "tags": []
     },
     "output_type": "execute_result"
    }
   ],
   "source": [
    "x[10:0:-1]"
   ]
  },
  {
   "cell_type": "markdown",
   "metadata": {
    "colab_type": "text",
    "id": "tOookBEMDmuZ"
   },
   "source": [
    "I can even use this to reverse an entire string!!"
   ]
  },
  {
   "cell_type": "code",
   "execution_count": 35,
   "metadata": {
    "colab": {
     "base_uri": "https://localhost:8080/",
     "height": 34
    },
    "colab_type": "code",
    "collapsed": false,
    "executionInfo": {
     "elapsed": 271,
     "status": "ok",
     "timestamp": 1532717127888,
     "user": {
      "displayName": "William Hartemink",
      "photoUrl": "https://lh3.googleusercontent.com/a/default-user=s128",
      "userId": "117653304702534641755"
     },
     "user_tz": 240
    },
    "id": "LCc9svQMDqWJ",
    "outputId": "dabac22b-3290-4021-fae9-c44b828d3258"
   },
   "outputs": [
    {
     "data": {
      "text/plain": [
       "'!etirovaf etulosba ym si nohtyP ytnoM'"
      ]
     },
     "execution_count": 35,
     "metadata": {
      "tags": []
     },
     "output_type": "execute_result"
    }
   ],
   "source": [
    "\"Monty Python is my absolute favorite!\"[::-1]"
   ]
  },
  {
   "cell_type": "markdown",
   "metadata": {
    "colab_type": "text",
    "id": "T1pDRlFCD3S3"
   },
   "source": [
    "Write a program that tells you if a string is a palindrome!! Test it on 'racecar' or any others you know!"
   ]
  },
  {
   "cell_type": "markdown",
   "metadata": {
    "colab_type": "text",
    "id": "41Fp-Zs04rzX"
   },
   "source": [
    "<h3> Side Note: </h3>\n",
    "\n",
    "The double quotes \" \" and single quotes ' ' can both be used to designate a string. Pick whichever you like, and don't mix them up. Example:"
   ]
  },
  {
   "cell_type": "code",
   "execution_count": 39,
   "metadata": {
    "colab": {
     "base_uri": "https://localhost:8080/",
     "height": 130
    },
    "colab_type": "code",
    "collapsed": false,
    "executionInfo": {
     "elapsed": 443,
     "status": "error",
     "timestamp": 1531959313177,
     "user": {
      "displayName": "William Hartemink",
      "photoUrl": "https://lh3.googleusercontent.com/a/default-user=s128",
      "userId": "117653304702534641755"
     },
     "user_tz": 240
    },
    "id": "bfcdXi8x4Z07",
    "outputId": "cfbb23bb-73b2-4300-b430-eb7204bef762"
   },
   "outputs": [
    {
     "ename": "SyntaxError",
     "evalue": "ignored",
     "output_type": "error",
     "traceback": [
      "\u001b[0;36m  File \u001b[0;32m\"<ipython-input-39-cda3aa56d155>\"\u001b[0;36m, line \u001b[0;32m1\u001b[0m\n\u001b[0;31m    string = \"This will not work '\u001b[0m\n\u001b[0m                                  ^\u001b[0m\n\u001b[0;31mSyntaxError\u001b[0m\u001b[0;31m:\u001b[0m EOL while scanning string literal\n"
     ]
    }
   ],
   "source": [
    "string = \"This will not work '"
   ]
  },
  {
   "cell_type": "markdown",
   "metadata": {
    "colab_type": "text",
    "id": "zEsBUJiL5DPH"
   },
   "source": [
    "Using the double quotes is actually a nice way to get single quotes to be a part of your string."
   ]
  },
  {
   "cell_type": "code",
   "execution_count": 41,
   "metadata": {
    "colab": {
     "base_uri": "https://localhost:8080/",
     "height": 130
    },
    "colab_type": "code",
    "collapsed": false,
    "executionInfo": {
     "elapsed": 323,
     "status": "error",
     "timestamp": 1531959391214,
     "user": {
      "displayName": "William Hartemink",
      "photoUrl": "https://lh3.googleusercontent.com/a/default-user=s128",
      "userId": "117653304702534641755"
     },
     "user_tz": 240
    },
    "id": "0wlTQgyO4pZW",
    "outputId": "28f18115-b4d3-4063-9e3d-673dd8ae6e12"
   },
   "outputs": [
    {
     "ename": "SyntaxError",
     "evalue": "ignored",
     "output_type": "error",
     "traceback": [
      "\u001b[0;36m  File \u001b[0;32m\"<ipython-input-41-8bda59fc63eb>\"\u001b[0;36m, line \u001b[0;32m1\u001b[0m\n\u001b[0;31m    basic_girl_monologue = 'I can't even!'\u001b[0m\n\u001b[0m                                  ^\u001b[0m\n\u001b[0;31mSyntaxError\u001b[0m\u001b[0;31m:\u001b[0m invalid syntax\n"
     ]
    }
   ],
   "source": [
    "basic_girl_monologue = 'I can't even!'"
   ]
  },
  {
   "cell_type": "code",
   "execution_count": 43,
   "metadata": {
    "colab": {
     "base_uri": "https://localhost:8080/",
     "height": 34
    },
    "colab_type": "code",
    "collapsed": false,
    "executionInfo": {
     "elapsed": 529,
     "status": "ok",
     "timestamp": 1531959412746,
     "user": {
      "displayName": "William Hartemink",
      "photoUrl": "https://lh3.googleusercontent.com/a/default-user=s128",
      "userId": "117653304702534641755"
     },
     "user_tz": 240
    },
    "id": "dyvUqkVF5P5j",
    "outputId": "ff2fdcdb-c2c1-47f0-dd3c-301655ddb13f"
   },
   "outputs": [
    {
     "name": "stdout",
     "output_type": "stream",
     "text": [
      "I can't even!\n"
     ]
    }
   ],
   "source": [
    "basic_girl_monologue = \"I can't even!\"\n",
    "print(basic_girl_monologue)"
   ]
  },
  {
   "cell_type": "markdown",
   "metadata": {
    "colab_type": "text",
    "id": "DYWnER-y_aAy"
   },
   "source": [
    "<h3> Methods </h3>\n",
    "\n",
    "Each string comes with a bunch of functions specially designed for strings. You can access them by dot notation."
   ]
  },
  {
   "cell_type": "code",
   "execution_count": 0,
   "metadata": {
    "colab": {},
    "colab_type": "code",
    "collapsed": true,
    "id": "THuU5IVc5UzK"
   },
   "outputs": [],
   "source": [
    "string = \"Hi, my name is {}!\""
   ]
  },
  {
   "cell_type": "code",
   "execution_count": 9,
   "metadata": {
    "colab": {
     "base_uri": "https://localhost:8080/",
     "height": 34
    },
    "colab_type": "code",
    "collapsed": false,
    "executionInfo": {
     "elapsed": 261,
     "status": "ok",
     "timestamp": 1532716270619,
     "user": {
      "displayName": "William Hartemink",
      "photoUrl": "https://lh3.googleusercontent.com/a/default-user=s128",
      "userId": "117653304702534641755"
     },
     "user_tz": 240
    },
    "id": "M3R2J5m0_7BP",
    "outputId": "f99a76b1-d303-4d82-974f-e11621df20bb"
   },
   "outputs": [
    {
     "data": {
      "text/plain": [
       "'Hi, my name is William!'"
      ]
     },
     "execution_count": 9,
     "metadata": {
      "tags": []
     },
     "output_type": "execute_result"
    }
   ],
   "source": [
    "string.format(\"William\")"
   ]
  },
  {
   "cell_type": "code",
   "execution_count": 10,
   "metadata": {
    "colab": {
     "base_uri": "https://localhost:8080/",
     "height": 34
    },
    "colab_type": "code",
    "collapsed": false,
    "executionInfo": {
     "elapsed": 423,
     "status": "ok",
     "timestamp": 1532716271220,
     "user": {
      "displayName": "William Hartemink",
      "photoUrl": "https://lh3.googleusercontent.com/a/default-user=s128",
      "userId": "117653304702534641755"
     },
     "user_tz": 240
    },
    "id": "ZFrWtrpDAArC",
    "outputId": "c4cf9c71-00af-4fd8-a845-6430dc6e7e71"
   },
   "outputs": [
    {
     "data": {
      "text/plain": [
       "'HI, MY NAME IS {}!'"
      ]
     },
     "execution_count": 10,
     "metadata": {
      "tags": []
     },
     "output_type": "execute_result"
    }
   ],
   "source": [
    "string.upper()"
   ]
  },
  {
   "cell_type": "code",
   "execution_count": 11,
   "metadata": {
    "colab": {
     "base_uri": "https://localhost:8080/",
     "height": 34
    },
    "colab_type": "code",
    "collapsed": false,
    "executionInfo": {
     "elapsed": 293,
     "status": "ok",
     "timestamp": 1532716271684,
     "user": {
      "displayName": "William Hartemink",
      "photoUrl": "https://lh3.googleusercontent.com/a/default-user=s128",
      "userId": "117653304702534641755"
     },
     "user_tz": 240
    },
    "id": "zMNaFhZQAQ6i",
    "outputId": "0ebb4ad4-117d-4312-f29f-838d361d76c6"
   },
   "outputs": [
    {
     "data": {
      "text/plain": [
       "'H(There used to be an i here), my name (There used to be an i here)s {}!'"
      ]
     },
     "execution_count": 11,
     "metadata": {
      "tags": []
     },
     "output_type": "execute_result"
    }
   ],
   "source": [
    "string.replace(\"i\", \"(There used to be an i here)\")"
   ]
  },
  {
   "cell_type": "code",
   "execution_count": 13,
   "metadata": {
    "colab": {
     "base_uri": "https://localhost:8080/",
     "height": 34
    },
    "colab_type": "code",
    "collapsed": false,
    "executionInfo": {
     "elapsed": 450,
     "status": "ok",
     "timestamp": 1532716277627,
     "user": {
      "displayName": "William Hartemink",
      "photoUrl": "https://lh3.googleusercontent.com/a/default-user=s128",
      "userId": "117653304702534641755"
     },
     "user_tz": 240
    },
    "id": "PItnZOKZAbUZ",
    "outputId": "28e3319f-d1c3-487c-9231-eb3cbc1db57f"
   },
   "outputs": [
    {
     "data": {
      "text/plain": [
       "'william'"
      ]
     },
     "execution_count": 13,
     "metadata": {
      "tags": []
     },
     "output_type": "execute_result"
    }
   ],
   "source": [
    "\"WIlLIAM\".lower()"
   ]
  },
  {
   "cell_type": "markdown",
   "metadata": {
    "colab_type": "text",
    "id": "AXyxN6uGAspS"
   },
   "source": [
    "Every datatype has loads of methods and there's no reason to memorize them all. Just google them as you need them! \n",
    "\n",
    "(You'll eventually come to remember the ones you need most!)"
   ]
  },
  {
   "cell_type": "code",
   "execution_count": 6,
   "metadata": {
    "colab": {
     "base_uri": "https://localhost:8080/",
     "height": 1326
    },
    "colab_type": "code",
    "collapsed": false,
    "executionInfo": {
     "elapsed": 302,
     "status": "ok",
     "timestamp": 1533993188231,
     "user": {
      "displayName": "William Hartemink",
      "photoUrl": "https://lh3.googleusercontent.com/a/default-user=s128",
      "userId": "117653304702534641755"
     },
     "user_tz": 240
    },
    "id": "qulphzt8AkTr",
    "outputId": "6661696c-291c-4184-95c7-6061befe5864"
   },
   "outputs": [
    {
     "data": {
      "text/plain": [
       "['__add__',\n",
       " '__class__',\n",
       " '__contains__',\n",
       " '__delattr__',\n",
       " '__dir__',\n",
       " '__doc__',\n",
       " '__eq__',\n",
       " '__format__',\n",
       " '__ge__',\n",
       " '__getattribute__',\n",
       " '__getitem__',\n",
       " '__getnewargs__',\n",
       " '__gt__',\n",
       " '__hash__',\n",
       " '__init__',\n",
       " '__init_subclass__',\n",
       " '__iter__',\n",
       " '__le__',\n",
       " '__len__',\n",
       " '__lt__',\n",
       " '__mod__',\n",
       " '__mul__',\n",
       " '__ne__',\n",
       " '__new__',\n",
       " '__reduce__',\n",
       " '__reduce_ex__',\n",
       " '__repr__',\n",
       " '__rmod__',\n",
       " '__rmul__',\n",
       " '__setattr__',\n",
       " '__sizeof__',\n",
       " '__str__',\n",
       " '__subclasshook__',\n",
       " 'capitalize',\n",
       " 'casefold',\n",
       " 'center',\n",
       " 'count',\n",
       " 'encode',\n",
       " 'endswith',\n",
       " 'expandtabs',\n",
       " 'find',\n",
       " 'format',\n",
       " 'format_map',\n",
       " 'index',\n",
       " 'isalnum',\n",
       " 'isalpha',\n",
       " 'isdecimal',\n",
       " 'isdigit',\n",
       " 'isidentifier',\n",
       " 'islower',\n",
       " 'isnumeric',\n",
       " 'isprintable',\n",
       " 'isspace',\n",
       " 'istitle',\n",
       " 'isupper',\n",
       " 'join',\n",
       " 'ljust',\n",
       " 'lower',\n",
       " 'lstrip',\n",
       " 'maketrans',\n",
       " 'partition',\n",
       " 'replace',\n",
       " 'rfind',\n",
       " 'rindex',\n",
       " 'rjust',\n",
       " 'rpartition',\n",
       " 'rsplit',\n",
       " 'rstrip',\n",
       " 'split',\n",
       " 'splitlines',\n",
       " 'startswith',\n",
       " 'strip',\n",
       " 'swapcase',\n",
       " 'title',\n",
       " 'translate',\n",
       " 'upper',\n",
       " 'zfill']"
      ]
     },
     "execution_count": 6,
     "metadata": {
      "tags": []
     },
     "output_type": "execute_result"
    }
   ],
   "source": [
    "# dir() shows you a bunch of methods for the object\n",
    "dir('string')"
   ]
  },
  {
   "cell_type": "code",
   "execution_count": 10,
   "metadata": {
    "colab": {
     "base_uri": "https://localhost:8080/",
     "height": 34
    },
    "colab_type": "code",
    "collapsed": false,
    "executionInfo": {
     "elapsed": 271,
     "status": "ok",
     "timestamp": 1533993258538,
     "user": {
      "displayName": "William Hartemink",
      "photoUrl": "https://lh3.googleusercontent.com/a/default-user=s128",
      "userId": "117653304702534641755"
     },
     "user_tz": 240
    },
    "id": "IDYjF2ssG0PX",
    "outputId": "3382b94c-6208-4cf9-c2bf-e98157311309"
   },
   "outputs": [
    {
     "name": "stdout",
     "output_type": "stream",
     "text": [
      "Object `join` not found.\n"
     ]
    }
   ],
   "source": []
  },
  {
   "cell_type": "code",
   "execution_count": 0,
   "metadata": {
    "colab": {},
    "colab_type": "code",
    "collapsed": true,
    "id": "XsDdM16QHCpf"
   },
   "outputs": [],
   "source": []
  }
 ],
 "metadata": {
  "colab": {
   "collapsed_sections": [],
   "name": "Week 1 Quarter 3.ipynb",
   "provenance": [],
   "version": "0.3.2"
  },
  "kernelspec": {
   "display_name": "Python 3",
   "language": "python",
   "name": "python3"
  },
  "language_info": {
   "codemirror_mode": {
    "name": "ipython",
    "version": 3
   },
   "file_extension": ".py",
   "mimetype": "text/x-python",
   "name": "python",
   "nbconvert_exporter": "python",
   "pygments_lexer": "ipython3",
   "version": "3.5.1"
  }
 },
 "nbformat": 4,
 "nbformat_minor": 0
}
