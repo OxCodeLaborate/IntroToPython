{
 "cells": [
  {
   "cell_type": "markdown",
   "metadata": {
    "colab_type": "text",
    "id": "qqAzGhpirE7f",
    "slideshow": {
     "slide_type": "notes"
    }
   },
   "source": [
    "Computers at their most basic form are machines that can calculate what we ask them to and can store answers, and recall objects from memory. To be able to program we have to really understand what we're asking the computer to compute and what we're asking it to store and how it's being stored. "
   ]
  },
  {
   "cell_type": "markdown",
   "metadata": {
    "colab_type": "text",
    "id": "lQ6MvYJirE7i",
    "slideshow": {
     "slide_type": "subslide"
    }
   },
   "source": [
    "<h1>Basic Tools </h1>\n",
    "<ul>\n",
    "<li>Calculating</li>\n",
    "<li>Storing</li>"
   ]
  },
  {
   "cell_type": "markdown",
   "metadata": {
    "colab_type": "text",
    "id": "3_vwzzI5rE7j",
    "slideshow": {
     "slide_type": "subslide"
    }
   },
   "source": [
    "<h2>Calculating</h2>"
   ]
  },
  {
   "cell_type": "markdown",
   "metadata": {
    "colab_type": "text",
    "id": "b1kaQF-9rE7k",
    "slideshow": {
     "slide_type": "notes"
    }
   },
   "source": [
    "Computers can act just like a calculator, excpet much much faster and with a far wider variety of tools and customisation available. "
   ]
  },
  {
   "cell_type": "markdown",
   "metadata": {
    "colab_type": "text",
    "id": "HfN72u6yrE7k",
    "slideshow": {
     "slide_type": "subslide"
    }
   },
   "source": [
    "<h3>Addition</h3>"
   ]
  },
  {
   "cell_type": "code",
   "execution_count": 0,
   "metadata": {
    "colab": {
     "autoexec": {
      "startup": false,
      "wait_interval": 0
     }
    },
    "colab_type": "code",
    "collapsed": false,
    "id": "hkaV8a4nrE7m",
    "outputId": "8bbc3379-e2f6-4fa9-fe4c-3c282607cbab",
    "slideshow": {
     "slide_type": "-"
    }
   },
   "outputs": [
    {
     "data": {
      "text/plain": [
       "4"
      ]
     },
     "execution_count": 2,
     "metadata": {
      "tags": []
     },
     "output_type": "execute_result"
    }
   ],
   "source": [
    "2+2"
   ]
  },
  {
   "cell_type": "markdown",
   "metadata": {
    "colab_type": "text",
    "id": "zyI6GN1DrE7s",
    "slideshow": {
     "slide_type": "subslide"
    }
   },
   "source": [
    "<h3>Multiplication</h3>"
   ]
  },
  {
   "cell_type": "code",
   "execution_count": 0,
   "metadata": {
    "colab": {
     "autoexec": {
      "startup": false,
      "wait_interval": 0
     }
    },
    "colab_type": "code",
    "collapsed": false,
    "id": "k7zMLzg_rE7t",
    "outputId": "d7db6381-aa35-496a-9127-0ad14010fccb",
    "slideshow": {
     "slide_type": "-"
    }
   },
   "outputs": [
    {
     "data": {
      "text/plain": [
       "6"
      ]
     },
     "execution_count": 3,
     "metadata": {
      "tags": []
     },
     "output_type": "execute_result"
    }
   ],
   "source": [
    "3*2"
   ]
  },
  {
   "cell_type": "markdown",
   "metadata": {
    "colab_type": "text",
    "id": "_yU4UQgcrE7x",
    "slideshow": {
     "slide_type": "subslide"
    }
   },
   "source": [
    "<h3>Subtraction</h3>"
   ]
  },
  {
   "cell_type": "code",
   "execution_count": 0,
   "metadata": {
    "colab": {
     "autoexec": {
      "startup": false,
      "wait_interval": 0
     }
    },
    "colab_type": "code",
    "collapsed": false,
    "id": "oHmAZAmBrE7x",
    "outputId": "acb7ba0c-d694-490c-b477-cac3d1a96c83",
    "slideshow": {
     "slide_type": "-"
    }
   },
   "outputs": [
    {
     "data": {
      "text/plain": [
       "1"
      ]
     },
     "execution_count": 64,
     "metadata": {
      "tags": []
     },
     "output_type": "execute_result"
    }
   ],
   "source": [
    "3-2"
   ]
  },
  {
   "cell_type": "markdown",
   "metadata": {
    "colab_type": "text",
    "id": "PWYmLenbrE71",
    "slideshow": {
     "slide_type": "subslide"
    }
   },
   "source": [
    "<h3>Division</h3>"
   ]
  },
  {
   "cell_type": "code",
   "execution_count": 0,
   "metadata": {
    "colab": {
     "autoexec": {
      "startup": false,
      "wait_interval": 0
     }
    },
    "colab_type": "code",
    "collapsed": false,
    "id": "WmDl4TESrE72",
    "outputId": "22aa8f1b-f503-4a46-b0eb-1b2b29783b83",
    "slideshow": {
     "slide_type": "-"
    }
   },
   "outputs": [
    {
     "data": {
      "text/plain": [
       "1.5"
      ]
     },
     "execution_count": 5,
     "metadata": {
      "tags": []
     },
     "output_type": "execute_result"
    }
   ],
   "source": [
    "3/2"
   ]
  },
  {
   "cell_type": "markdown",
   "metadata": {
    "colab_type": "text",
    "id": "AYdiYQFvrE75",
    "slideshow": {
     "slide_type": "subslide"
    }
   },
   "source": [
    "<h3>Division but rowns down</h3>"
   ]
  },
  {
   "cell_type": "code",
   "execution_count": 0,
   "metadata": {
    "colab": {
     "autoexec": {
      "startup": false,
      "wait_interval": 0
     }
    },
    "colab_type": "code",
    "collapsed": false,
    "id": "OJP444BFrE76",
    "outputId": "be31f049-980c-48a3-81e0-129c5a7b746d",
    "slideshow": {
     "slide_type": "-"
    }
   },
   "outputs": [
    {
     "data": {
      "text/plain": [
       "2"
      ]
     },
     "execution_count": 60,
     "metadata": {
      "tags": []
     },
     "output_type": "execute_result"
    }
   ],
   "source": [
    "50//24"
   ]
  },
  {
   "cell_type": "markdown",
   "metadata": {
    "colab_type": "text",
    "id": "J3aKjdQKrE7_"
   },
   "source": [
    "<h3>Remainder</h3>"
   ]
  },
  {
   "cell_type": "code",
   "execution_count": 0,
   "metadata": {
    "colab": {
     "autoexec": {
      "startup": false,
      "wait_interval": 0
     }
    },
    "colab_type": "code",
    "collapsed": false,
    "id": "jIZBQXoyrE8A",
    "outputId": "deab9fd5-8462-416e-b1f1-75bd69e0e6d3",
    "slideshow": {
     "slide_type": "-"
    }
   },
   "outputs": [
    {
     "data": {
      "text/plain": [
       "1"
      ]
     },
     "execution_count": 61,
     "metadata": {
      "tags": []
     },
     "output_type": "execute_result"
    }
   ],
   "source": [
    "100%3"
   ]
  },
  {
   "cell_type": "markdown",
   "metadata": {
    "colab_type": "text",
    "id": "RCLwxreJrE8D",
    "slideshow": {
     "slide_type": "subslide"
    }
   },
   "source": [
    "<h3>Exponentiation (4 to the power 2)</h3>"
   ]
  },
  {
   "cell_type": "code",
   "execution_count": 0,
   "metadata": {
    "colab": {
     "autoexec": {
      "startup": false,
      "wait_interval": 0
     }
    },
    "colab_type": "code",
    "collapsed": false,
    "id": "671Iyc_0rE8E",
    "outputId": "ee3bcb4b-27d2-4264-c991-68104403bcaf",
    "slideshow": {
     "slide_type": "-"
    }
   },
   "outputs": [
    {
     "data": {
      "text/plain": [
       "16"
      ]
     },
     "execution_count": 62,
     "metadata": {
      "tags": []
     },
     "output_type": "execute_result"
    }
   ],
   "source": [
    "4**2"
   ]
  },
  {
   "cell_type": "code",
   "execution_count": null,
   "metadata": {
    "collapsed": true,
    "slideshow": {
     "slide_type": "slide"
    }
   },
   "outputs": [],
   "source": []
  },
  {
   "cell_type": "code",
   "execution_count": null,
   "metadata": {
    "collapsed": true
   },
   "outputs": [],
   "source": []
  },
  {
   "cell_type": "markdown",
   "metadata": {
    "colab_type": "text",
    "id": "FvwPX0-XrE8H",
    "slideshow": {
     "slide_type": "subslide"
    }
   },
   "source": [
    "<h3> Computers can be very fast </h3>\n",
    "<h3> The code below calculates all the prime numbers less than 1000000000 in less than 10 seconds</h3>"
   ]
  },
  {
   "cell_type": "code",
   "execution_count": 0,
   "metadata": {
    "colab": {
     "autoexec": {
      "startup": false,
      "wait_interval": 0
     }
    },
    "colab_type": "code",
    "collapsed": false,
    "id": "8_w-PyprrE8I",
    "outputId": "3452fdc6-3aee-4311-e541-77059f4be54a",
    "slideshow": {
     "slide_type": "-"
    }
   },
   "outputs": [
    {
     "name": "stdout",
     "output_type": "stream",
     "text": [
      "[        2         3         5 ..., 999999893 999999929 999999937]\n",
      "Finished executing in 8.980818033218384 Seconds\n"
     ]
    }
   ],
   "source": [
    "#Computers can be very fast\n",
    "#Calculates all the prime numbers less than 1000000000 in less than 10 seconds!!!\n",
    "import time\n",
    "import numpy \n",
    "start_time = time.time()\n",
    "def primesfrom2to(n):\n",
    "    \"\"\" Input n>=6, Returns a array of primes, 2 <= p < n \"\"\"\n",
    "    sieve = numpy.ones(int(n/3 + (n%6==2)), dtype=numpy.bool)\n",
    "    for i in range(1,int(int(n**0.5)/3+1)):\n",
    "        if sieve[i]:\n",
    "            k=3*i+1|1\n",
    "            sieve[       int(k*k/3)     ::2*k] = False\n",
    "            sieve[int(k*(k-2*(i&1)+4)/3)::2*k] = False\n",
    "    return numpy.r_[2,3,((3*numpy.nonzero(sieve)[0][1:]+1)|1)]\n",
    "print(primesfrom2to(1000000000))\n",
    "print(\"Finished executing in {} Seconds\".format(time.time()-start_time))"
   ]
  },
  {
   "cell_type": "markdown",
   "metadata": {
    "colab_type": "text",
    "id": "xOifvyXNrE8N",
    "slideshow": {
     "slide_type": "subslide"
    }
   },
   "source": [
    "<h2>Storing</h2>"
   ]
  },
  {
   "cell_type": "markdown",
   "metadata": {
    "colab_type": "text",
    "id": "i2Ksg-ZRrE8O",
    "slideshow": {
     "slide_type": "notes"
    }
   },
   "source": [
    "There are many different types of data that we might want to store and use on a computer, whether numbers, text, files, images, sound or much more. With each of these types we have to understand how a computer stores and handles the data. Right now we'll be going through some of the most basic type.\n",
    "\n",
    "<h1> Syntax </h1>\n",
    "In python telling the computer to store something is as easy as [Variable] = [Data], although we have to understand that the = sign here is different from its more traditional mathematical meaning. = here is thought of as an 'operator', it tells the computer to do an action, assign the value [Data] to [Variable], it is not a declaration of equality between [Variable] and [Data]"
   ]
  },
  {
   "cell_type": "markdown",
   "metadata": {
    "colab_type": "text",
    "id": "Sahjbr2_rE8P",
    "slideshow": {
     "slide_type": "subslide"
    }
   },
   "source": [
    "<h3>Numbers</h3>"
   ]
  },
  {
   "cell_type": "code",
   "execution_count": 0,
   "metadata": {
    "colab": {
     "autoexec": {
      "startup": false,
      "wait_interval": 0
     }
    },
    "colab_type": "code",
    "collapsed": false,
    "id": "6-7NG8NprE8P",
    "outputId": "f2bcb9f9-b37c-4718-b9ea-8edf1da3cf5b",
    "slideshow": {
     "slide_type": "-"
    }
   },
   "outputs": [
    {
     "data": {
      "text/plain": [
       "5"
      ]
     },
     "execution_count": 38,
     "metadata": {
      "tags": []
     },
     "output_type": "execute_result"
    }
   ],
   "source": [
    "a = 5\n",
    "a"
   ]
  },
  {
   "cell_type": "code",
   "execution_count": 0,
   "metadata": {
    "colab": {
     "autoexec": {
      "startup": false,
      "wait_interval": 0
     }
    },
    "colab_type": "code",
    "collapsed": false,
    "id": "q0j0hkBMrE8T",
    "outputId": "8b6abf2c-9d76-4090-cbcf-1820e30b6b3e",
    "slideshow": {
     "slide_type": "-"
    }
   },
   "outputs": [
    {
     "data": {
      "text/plain": [
       "3.5"
      ]
     },
     "execution_count": 39,
     "metadata": {
      "tags": []
     },
     "output_type": "execute_result"
    }
   ],
   "source": [
    "b = 3.5\n",
    "b"
   ]
  },
  {
   "cell_type": "markdown",
   "metadata": {
    "colab_type": "text",
    "id": "CIN0xEdXrE8W",
    "slideshow": {
     "slide_type": "subslide"
    }
   },
   "source": [
    "<h3>String (Text)</h3>"
   ]
  },
  {
   "cell_type": "code",
   "execution_count": 0,
   "metadata": {
    "colab": {
     "autoexec": {
      "startup": false,
      "wait_interval": 0
     }
    },
    "colab_type": "code",
    "collapsed": false,
    "id": "cYhhm2ZjrE8W",
    "outputId": "310563b3-0648-4724-9a73-4af6a13c7f4b",
    "slideshow": {
     "slide_type": "-"
    }
   },
   "outputs": [
    {
     "data": {
      "text/plain": [
       "'Hello, World!'"
      ]
     },
     "execution_count": 42,
     "metadata": {
      "tags": []
     },
     "output_type": "execute_result"
    }
   ],
   "source": [
    "a = \"Hello, World!\"\n",
    "a"
   ]
  },
  {
   "cell_type": "code",
   "execution_count": 0,
   "metadata": {
    "colab": {
     "autoexec": {
      "startup": false,
      "wait_interval": 0
     }
    },
    "colab_type": "code",
    "collapsed": false,
    "id": "hTX9CqjdrE8a",
    "outputId": "35631071-e7ab-4c0c-fffb-fe62d96e79d0",
    "slideshow": {
     "slide_type": "-"
    }
   },
   "outputs": [
    {
     "data": {
      "text/plain": [
       "'5'"
      ]
     },
     "execution_count": 44,
     "metadata": {
      "tags": []
     },
     "output_type": "execute_result"
    }
   ],
   "source": [
    "b = \"5\"\n",
    "b"
   ]
  },
  {
   "cell_type": "markdown",
   "metadata": {
    "colab_type": "text",
    "id": "pAOYl4W2rE8c",
    "slideshow": {
     "slide_type": "subslide"
    }
   },
   "source": [
    "<h3>What happens if</h3>"
   ]
  },
  {
   "cell_type": "code",
   "execution_count": 0,
   "metadata": {
    "colab": {
     "autoexec": {
      "startup": false,
      "wait_interval": 0
     }
    },
    "colab_type": "code",
    "collapsed": true,
    "id": "lp-RBRUrrE8e",
    "slideshow": {
     "slide_type": "-"
    }
   },
   "outputs": [],
   "source": [
    "a = 5\n",
    "a = 3"
   ]
  },
  {
   "cell_type": "code",
   "execution_count": 0,
   "metadata": {
    "colab": {
     "autoexec": {
      "startup": false,
      "wait_interval": 0
     }
    },
    "colab_type": "code",
    "collapsed": false,
    "id": "n0g7zO5qrE8i",
    "outputId": "441d46dd-7d01-475e-c504-30c2d2d6df3b",
    "slideshow": {
     "slide_type": "subslide"
    }
   },
   "outputs": [
    {
     "data": {
      "text/plain": [
       "3"
      ]
     },
     "execution_count": 46,
     "metadata": {
      "tags": []
     },
     "output_type": "execute_result"
    }
   ],
   "source": [
    "a = 5\n",
    "a = 3\n",
    "a"
   ]
  },
  {
   "cell_type": "markdown",
   "metadata": {
    "colab_type": "text",
    "id": "tBUx0uHXrE8l",
    "slideshow": {
     "slide_type": "subslide"
    }
   },
   "source": [
    "<h3>What happens if</h3>"
   ]
  },
  {
   "cell_type": "code",
   "execution_count": 0,
   "metadata": {
    "colab": {
     "autoexec": {
      "startup": false,
      "wait_interval": 0
     }
    },
    "colab_type": "code",
    "collapsed": true,
    "id": "Rg85MVBtrE8l",
    "slideshow": {
     "slide_type": "-"
    }
   },
   "outputs": [],
   "source": [
    "a = 5 \n",
    "b = a\n",
    "a = 3"
   ]
  },
  {
   "cell_type": "code",
   "execution_count": 0,
   "metadata": {
    "colab": {
     "autoexec": {
      "startup": false,
      "wait_interval": 0
     }
    },
    "colab_type": "code",
    "collapsed": false,
    "id": "YoVaPSlhrE8o",
    "outputId": "c6bc1965-1cec-4a0f-d0e2-ec60e6ff8c15",
    "slideshow": {
     "slide_type": "subslide"
    }
   },
   "outputs": [
    {
     "data": {
      "text/plain": [
       "3"
      ]
     },
     "execution_count": 49,
     "metadata": {
      "tags": []
     },
     "output_type": "execute_result"
    }
   ],
   "source": [
    "a = 5 \n",
    "b = a\n",
    "a = 3\n",
    "a"
   ]
  },
  {
   "cell_type": "markdown",
   "metadata": {
    "colab_type": "text",
    "id": "Zttu3KchrE8q",
    "slideshow": {
     "slide_type": "subslide"
    }
   },
   "source": [
    "<h3>What happens if</h3>"
   ]
  },
  {
   "cell_type": "code",
   "execution_count": 0,
   "metadata": {
    "colab": {
     "autoexec": {
      "startup": false,
      "wait_interval": 0
     }
    },
    "colab_type": "code",
    "collapsed": true,
    "id": "6_cT-kS6rE8r",
    "slideshow": {
     "slide_type": "-"
    }
   },
   "outputs": [],
   "source": [
    "a = 5\n",
    "a = a + 3\n"
   ]
  },
  {
   "cell_type": "code",
   "execution_count": 0,
   "metadata": {
    "colab": {
     "autoexec": {
      "startup": false,
      "wait_interval": 0
     }
    },
    "colab_type": "code",
    "collapsed": false,
    "id": "2rn688L6rE8u",
    "outputId": "c487c96d-defe-4fb4-d666-331f213b5830",
    "slideshow": {
     "slide_type": "subslide"
    }
   },
   "outputs": [
    {
     "data": {
      "text/plain": [
       "8"
      ]
     },
     "execution_count": 52,
     "metadata": {
      "tags": []
     },
     "output_type": "execute_result"
    }
   ],
   "source": [
    "a = 5\n",
    "a = a + 3\n",
    "a"
   ]
  },
  {
   "cell_type": "markdown",
   "metadata": {
    "colab_type": "text",
    "id": "JJfAPKcDrE8y",
    "slideshow": {
     "slide_type": "subslide"
    }
   },
   "source": [
    "<h3> We can instead write incrementing like before as </h3>"
   ]
  },
  {
   "cell_type": "code",
   "execution_count": 0,
   "metadata": {
    "colab": {
     "autoexec": {
      "startup": false,
      "wait_interval": 0
     }
    },
    "colab_type": "code",
    "collapsed": false,
    "id": "Wz_1_Z99rE80",
    "outputId": "80a08ba8-0bae-49d6-bca9-3b547db3a9e4",
    "slideshow": {
     "slide_type": "-"
    }
   },
   "outputs": [
    {
     "data": {
      "text/plain": [
       "8"
      ]
     },
     "execution_count": 54,
     "metadata": {
      "tags": []
     },
     "output_type": "execute_result"
    }
   ],
   "source": [
    "a = 5\n",
    "a +=3\n",
    "a"
   ]
  },
  {
   "cell_type": "code",
   "execution_count": 0,
   "metadata": {
    "colab": {
     "autoexec": {
      "startup": false,
      "wait_interval": 0
     }
    },
    "colab_type": "code",
    "collapsed": false,
    "id": "EY2slMlzrE83",
    "outputId": "a774ae23-8744-4f44-e6bf-d8c94abbed51",
    "slideshow": {
     "slide_type": "-"
    }
   },
   "outputs": [
    {
     "data": {
      "text/plain": [
       "15"
      ]
     },
     "execution_count": 56,
     "metadata": {
      "tags": []
     },
     "output_type": "execute_result"
    }
   ],
   "source": [
    "a = 5\n",
    "a*=3\n",
    "a"
   ]
  },
  {
   "cell_type": "code",
   "execution_count": 0,
   "metadata": {
    "colab": {
     "autoexec": {
      "startup": false,
      "wait_interval": 0
     }
    },
    "colab_type": "code",
    "collapsed": false,
    "id": "F5ad9k-LrE88",
    "outputId": "b30fe12f-c1c5-4257-e68c-eaded634a3b9",
    "slideshow": {
     "slide_type": "-"
    }
   },
   "outputs": [
    {
     "data": {
      "text/plain": [
       "2"
      ]
     },
     "execution_count": 58,
     "metadata": {
      "tags": []
     },
     "output_type": "execute_result"
    }
   ],
   "source": [
    "a = 5\n",
    "a-=3\n",
    "a"
   ]
  },
  {
   "cell_type": "markdown",
   "metadata": {
    "colab_type": "text",
    "id": "LDIEHTK5rE9A",
    "slideshow": {
     "slide_type": "-"
    }
   },
   "source": [
    "<h3> .. and with other operations like / and % </h3>"
   ]
  },
  {
   "cell_type": "code",
   "execution_count": 0,
   "metadata": {
    "colab": {
     "autoexec": {
      "startup": false,
      "wait_interval": 0
     }
    },
    "colab_type": "code",
    "collapsed": true,
    "id": "Q-TFMGYLrdRn"
   },
   "outputs": [],
   "source": []
  }
 ],
 "metadata": {
  "celltoolbar": "Slideshow",
  "colab": {
   "default_view": {},
   "name": "Week 1 Quarter 2.ipynb",
   "provenance": [],
   "version": "0.3.2",
   "views": {}
  },
  "kernelspec": {
   "display_name": "Python 3",
   "language": "python",
   "name": "python3"
  },
  "language_info": {
   "codemirror_mode": {
    "name": "ipython",
    "version": 3
   },
   "file_extension": ".py",
   "mimetype": "text/x-python",
   "name": "python",
   "nbconvert_exporter": "python",
   "pygments_lexer": "ipython3",
   "version": "3.5.1"
  }
 },
 "nbformat": 4,
 "nbformat_minor": 0
}
